{
 "cells": [
  {
   "cell_type": "markdown",
   "metadata": {
    "id": "tllisCiaJK2m"
   },
   "source": [
    "# 1.Import de Librerías"
   ]
  },
  {
   "cell_type": "code",
   "execution_count": 1,
   "metadata": {
    "id": "xYk5hSg7JK21",
    "tags": []
   },
   "outputs": [],
   "source": [
    "# Standard library imports\n",
    "import os\n",
    "import subprocess\n",
    "from datetime import date\n",
    "\n",
    "# Third-party library imports\n",
    "import matplotlib.pyplot as plt\n",
    "import numpy as np\n",
    "import pandas as pd\n",
    "import seaborn as sns\n",
    "from IPython.display import display\n",
    "\n",
    "# PySpark imports\n",
    "from pyspark import SparkContext, HiveContext\n",
    "from pyspark.sql import DataFrame, SQLContext, SparkSession\n",
    "from pyspark.sql import functions as F\n",
    "from pyspark.sql.types import TimestampType\n",
    "from pyspark.ml.feature import VectorAssembler\n",
    "from pyspark.ml.stat import Correlation\n",
    "\n",
    "pd.set_option(\"display.max_columns\", None)\n",
    "pd.set_option(\"display.expand_frame_repr\", False)\n",
    "\n",
    "\n",
    "def missing_values_summary(df):\n",
    "    # Columnas numéricas\n",
    "    numeric_columns = [c for c, t in df.dtypes if t in [\"double\", \"float\"]]\n",
    "\n",
    "    # Columnas no numéricas\n",
    "    other_columns = [c for c, t in df.dtypes if t not in [\"double\", \"float\"]]\n",
    "\n",
    "    # Contar valores faltantes para columnas numéricas\n",
    "    numeric_missing = [\n",
    "        F.count(F.when(F.isnan(F.col(c)) | F.col(c).isNull(), c)).alias(c)\n",
    "        for c in numeric_columns\n",
    "    ]\n",
    "\n",
    "    # Contar valores faltantes para columnas no numéricas\n",
    "    other_missing = [\n",
    "        F.count(F.when(F.col(c).isNull(), c)).alias(c) for c in other_columns\n",
    "    ]\n",
    "\n",
    "    # Combinar resultados de valores faltantes\n",
    "    missings_df = df.select(numeric_missing + other_missing).toPandas()\n",
    "\n",
    "    # Calcular el porcentaje y reformatear como DataFrame\n",
    "    total_rows = df.count()\n",
    "    summary = []\n",
    "\n",
    "    for col_name in missings_df.columns:\n",
    "        count_missing = missings_df.at[0, col_name]\n",
    "        percentage_missing = (count_missing / total_rows) * 100\n",
    "        summary.append(\n",
    "            {\n",
    "                \"feature\": col_name,\n",
    "                \"count\": count_missing,\n",
    "                \"%\": round(percentage_missing, 2),\n",
    "            }\n",
    "        )\n",
    "\n",
    "    return pd.DataFrame(summary)\n",
    "\n",
    "\n",
    "def plot_histogram(data, column_name, num_bins=30):\n",
    "    \"\"\"\n",
    "    Genera un histograma de la columna especificada de un DataFrame de PySpark.\n",
    "\n",
    "    :param data: DataFrame de PySpark que contiene los datos.\n",
    "    :param column_name: Nombre de la columna a analizar.\n",
    "    :param num_bins: Número de bins para el histograma.\n",
    "    \"\"\"\n",
    "    # Obtener valores mínimo y máximo de la columna\n",
    "    min_value = data.agg(F.min(column_name)).first()[0]\n",
    "    max_value = data.agg(F.max(column_name)).first()[0]\n",
    "\n",
    "    # Calcular el ancho de los bins y los límites\n",
    "    bin_width = (max_value - min_value) / num_bins\n",
    "    bins = [min_value + i * bin_width for i in range(num_bins + 1)]\n",
    "\n",
    "    # Crear la expresión para determinar el bin\n",
    "    bin_expr = F.when(\n",
    "        F.col(column_name) < bins[0], None\n",
    "    )  # Caso para valores menores al mínimo\n",
    "    for i in range(num_bins):\n",
    "        bin_expr = bin_expr.when(\n",
    "            (F.col(column_name) >= bins[i]) & (F.col(column_name) < bins[i + 1]),\n",
    "            bins[i],\n",
    "        )\n",
    "    bin_expr = bin_expr.otherwise(bins[-2])  # Caso para el valor máximo\n",
    "\n",
    "    # Añadir la columna con el bin correspondiente\n",
    "    data_with_bins = data.withColumn(\"bin_start\", bin_expr)\n",
    "\n",
    "    # Eliminar filas donde no hay un bin asignado (valores fuera del rango)\n",
    "    data_with_bins = data_with_bins.dropna(subset=[\"bin_start\"])\n",
    "\n",
    "    # Contar las ocurrencias en cada bin\n",
    "    hist_counts = data_with_bins.groupBy(\"bin_start\").count().orderBy(\"bin_start\")\n",
    "\n",
    "    # Convertir a pandas para graficar\n",
    "    hist_counts_pd = hist_counts.toPandas()\n",
    "\n",
    "    # Crear el histograma usando Matplotlib\n",
    "    plt.figure(figsize=(10, 6))\n",
    "    plt.bar(\n",
    "        hist_counts_pd[\"bin_start\"],\n",
    "        hist_counts_pd[\"count\"],\n",
    "        width=bin_width,\n",
    "        color=\"blue\",\n",
    "        alpha=0.7,\n",
    "        align=\"edge\",\n",
    "    )\n",
    "    plt.title(f\"Histograma de {column_name}\")\n",
    "    plt.xlabel(f\"{column_name} (Inicio del Bin)\")\n",
    "    plt.ylabel(\"Frecuencia\")\n",
    "    plt.xticks(rotation=45)\n",
    "    plt.grid(axis=\"y\", alpha=0.75)\n",
    "    plt.show()\n",
    "\n",
    "\n",
    "def create_box_plot(df, column_name):\n",
    "    \"\"\"\n",
    "    Crea un gráfico de caja a partir de un DataFrame de PySpark y una columna específica.\n",
    "\n",
    "    Args:\n",
    "        df (DataFrame): DataFrame de PySpark que contiene los datos.\n",
    "        column_name (str): Nombre de la columna para la que se generará el gráfico de caja.\n",
    "    \"\"\"\n",
    "    # Calcular estadísticas del box plot\n",
    "    box_plot_stats = df.select(\n",
    "        F.percentile_approx(column_name, 0.25).alias(\"Q1\"),\n",
    "        F.percentile_approx(column_name, 0.5).alias(\"Median\"),\n",
    "        F.percentile_approx(column_name, 0.75).alias(\"Q3\"),\n",
    "        F.min(column_name).alias(\"Min\"),\n",
    "        F.max(column_name).alias(\"Max\"),\n",
    "    ).first()\n",
    "\n",
    "    # Convertir las estadísticas a un DataFrame de pandas\n",
    "    box_plot_df = pd.DataFrame(\n",
    "        {\n",
    "            \"Stat\": [\"Min\", \"Q1\", \"Median\", \"Q3\", \"Max\"],\n",
    "            \"Value\": [\n",
    "                box_plot_stats[\"Min\"],\n",
    "                box_plot_stats[\"Q1\"],\n",
    "                box_plot_stats[\"Median\"],\n",
    "                box_plot_stats[\"Q3\"],\n",
    "                box_plot_stats[\"Max\"],\n",
    "            ],\n",
    "        }\n",
    "    )\n",
    "\n",
    "    # Crear el gráfico de caja\n",
    "    plt.figure(figsize=(8, 6))\n",
    "    plt.boxplot(box_plot_df[\"Value\"], labels=[column_name])\n",
    "    plt.title(f\"Box Plot de {column_name}\")\n",
    "    plt.ylabel(\"Seconds\")\n",
    "    plt.grid(axis=\"y\")\n",
    "    plt.show()\n",
    "\n",
    "\n",
    "def calculate_trip_seconds_percentiles(df, column_name):\n",
    "    # Definir los percentiles a calcular\n",
    "    percentiles = [x / 10 for x in range(1, 10)] + [0.01, 0.02, 0.03, 0.97, 0.98, 0.99]\n",
    "\n",
    "    # Calcular estadísticas descriptivas para la columna especificada\n",
    "    trip_seconds_stats = df.approxQuantile(column_name, percentiles, 0.01)\n",
    "\n",
    "    # Convertir a un DataFrame de pandas para facilitar la visualización\n",
    "    trip_seconds_df = pd.DataFrame(\n",
    "        {\"Percentiles\": percentiles, \"Trip Seconds\": trip_seconds_stats}\n",
    "    )\n",
    "\n",
    "    # Ordenar por percentiles\n",
    "    trip_seconds_df = trip_seconds_df.sort_values(\"Percentiles\").reset_index(drop=True)\n",
    "\n",
    "    return trip_seconds_df\n",
    "\n",
    "\n",
    "def create_boxplot(df_spark, columns, title=\"Boxplot\", figsize=(12, 8)):\n",
    "    # Calcular estadísticas para las columnas especificadas\n",
    "    box_plot_stats = df_spark.select(\n",
    "        [F.percentile_approx(col, 0.25).alias(f\"{col}_Q1\") for col in columns]\n",
    "        + [F.percentile_approx(col, 0.5).alias(f\"{col}_Median\") for col in columns]\n",
    "        + [F.percentile_approx(col, 0.75).alias(f\"{col}_Q3\") for col in columns]\n",
    "        + [F.min(col).alias(f\"{col}_Min\") for col in columns]\n",
    "        + [F.max(col).alias(f\"{col}_Max\") for col in columns]\n",
    "    ).first()\n",
    "\n",
    "    box_plot_data = {**{col: [] for col in columns}}\n",
    "\n",
    "    for col in columns:\n",
    "        box_plot_data[col].extend(\n",
    "            [\n",
    "                box_plot_stats[f\"{col}_Min\"],\n",
    "                box_plot_stats[f\"{col}_Q1\"],\n",
    "                box_plot_stats[f\"{col}_Median\"],\n",
    "                box_plot_stats[f\"{col}_Q3\"],\n",
    "                box_plot_stats[f\"{col}_Max\"],\n",
    "            ]\n",
    "        )\n",
    "\n",
    "    box_plot_df = pd.DataFrame(box_plot_data)\n",
    "    melted_df = box_plot_df.melt(var_name=\"Variable\", value_name=\"Value\")\n",
    "\n",
    "    # Configurar el tamaño de la figura\n",
    "    plt.figure(figsize=figsize)\n",
    "    sns.boxplot(\n",
    "        data=melted_df,\n",
    "        x=\"Value\",\n",
    "        y=\"Variable\",\n",
    "        hue=\"Variable\",\n",
    "        palette=\"Set2\",\n",
    "        legend=False,\n",
    "    )\n",
    "    plt.xlabel(\"Valor\")\n",
    "    plt.title(title)\n",
    "    plt.grid(True)\n",
    "    plt.show()\n",
    "\n",
    "\n",
    "def calculate_outliers(df, column):\n",
    "    # Calcular Q1 y Q3\n",
    "    q1 = df.approxQuantile(column, [0.25], 0.01)[0]\n",
    "    q3 = df.approxQuantile(column, [0.75], 0.01)[0]\n",
    "\n",
    "    # Calcular IQR\n",
    "    iqr = q3 - q1\n",
    "\n",
    "    # Calcular límites inferior y superior\n",
    "    lower_bound = q1 - 1.5 * iqr\n",
    "    upper_bound = q3 + 1.5 * iqr\n",
    "\n",
    "    # Identificar outliers\n",
    "    outliers = df.filter((F.col(column) < lower_bound) | (F.col(column) > upper_bound))\n",
    "\n",
    "    # Contar outliers\n",
    "    conteo_outliers = outliers.count()\n",
    "\n",
    "    # Calcular el total de datos\n",
    "    total_datos = df.count()\n",
    "\n",
    "    # Calcular el porcentaje de outliers\n",
    "    porcentaje_outliers = round(\n",
    "        (conteo_outliers / total_datos) * 100 if total_datos > 0 else 0, 2\n",
    "    )\n",
    "\n",
    "    print(f\"Cantidad de outliers: {conteo_outliers:,}\")\n",
    "    print(f\"Porcentaje de outliers: {porcentaje_outliers:,} %\")\n",
    "\n",
    "    return lower_bound, upper_bound\n",
    "\n",
    "\n",
    "def calculate_and_print_percentiles(\n",
    "    df: DataFrame,\n",
    "    column: str,\n",
    "    probabilities: list = [0.97, 0.98, 0.9997, 0.9998, 0.9999],\n",
    "    relative_error: float = 0.01):\n",
    "    # Calcular percentiles\n",
    "    percentiles = df.approxQuantile(column, probabilities, relative_error)\n",
    "    \n",
    "    # Imprimir resultados\n",
    "    print(f\"Percentiles específicos de '{column}':\")\n",
    "    for p, value in zip(probabilities, percentiles):\n",
    "        print(f\"Percentil {p:.4f}: {value}\")\n",
    "\n",
    "        \n",
    "def plot_correlation_matrix(correlation_matrix, title=\"Matriz de Correlación\", cmap=\"coolwarm\", figsize=(8, 6), annot=True):\n",
    "    # Crear el gráfico\n",
    "    plt.figure(figsize=figsize)\n",
    "    sns.heatmap(correlation_matrix, \n",
    "                annot=annot, \n",
    "                cmap=cmap, \n",
    "                fmt=\".2f\", \n",
    "                square=True)\n",
    "    plt.title(title)\n",
    "    plt.show()\n",
    "    \n",
    "\n",
    "def get_value_proportions(df, group_columns):\n",
    "    # Contar las ocurrencias de cada combinación de valores\n",
    "    value_counts = df.groupBy(group_columns).count()\n",
    "\n",
    "    # Calcular la proporción\n",
    "    total_counts = df.count()\n",
    "    value_proportions = value_counts.withColumn('Proportion', value_counts['count'] / total_counts)\n",
    "\n",
    "    return value_proportions"
   ]
  },
  {
   "cell_type": "code",
   "execution_count": 2,
   "metadata": {
    "id": "DJNzXSU2JK3M",
    "tags": []
   },
   "outputs": [
    {
     "name": "stderr",
     "output_type": "stream",
     "text": [
      "24/12/21 01:41:58 WARN SparkSession: Using an existing Spark session; only runtime SQL configurations will take effect.\n"
     ]
    }
   ],
   "source": [
    "ss = SparkSession.builder.appName(\"bigdatita\").getOrCreate()"
   ]
  },
  {
   "cell_type": "markdown",
   "metadata": {
    "id": "8QTwMsGqJK2-"
   },
   "source": [
    "**2. Lectura de los archivos**"
   ]
  },
  {
   "cell_type": "code",
   "execution_count": 3,
   "metadata": {
    "id": "uFrawuVriJn3",
    "tags": []
   },
   "outputs": [
    {
     "data": {
      "text/plain": [
       "['hdfs:///user/bigdatita/taxi_trips_2023.csv',\n",
       " 'hdfs:///user/bigdatita/taxi_trips_2024.csv']"
      ]
     },
     "execution_count": 3,
     "metadata": {},
     "output_type": "execute_result"
    }
   ],
   "source": [
    "ruta = \"/user/bigdatita/\"\n",
    "cmd = f\"hdfs dfs -ls {ruta}\"\n",
    "lst = str(subprocess.check_output(cmd, shell=True)).strip().split(\"\\\\n\")\n",
    "lst = [x.split(\" \")[-1] for x in lst]\n",
    "lst = [\"hdfs://%s\" % x for x in lst if x != \"items\" if x != \"'\"]\n",
    "lst"
   ]
  },
  {
   "cell_type": "markdown",
   "metadata": {
    "id": "j3C_gaUiJK3K"
   },
   "source": [
    "**3. Lectura de archivos desde HDFS a Spark**"
   ]
  },
  {
   "cell_type": "code",
   "execution_count": 4,
   "metadata": {
    "id": "2zHQylYOJK3O",
    "tags": []
   },
   "outputs": [
    {
     "name": "stdout",
     "output_type": "stream",
     "text": [
      "hdfs:///user/bigdatita/taxi_trips_2023.csv\n"
     ]
    },
    {
     "name": "stderr",
     "output_type": "stream",
     "text": [
      "                                                                                \r"
     ]
    },
    {
     "name": "stdout",
     "output_type": "stream",
     "text": [
      "hdfs:///user/bigdatita/taxi_trips_2024.csv\n",
      "CPU times: user 8.63 ms, sys: 4.13 ms, total: 12.8 ms\n",
      "Wall time: 8.71 s\n"
     ]
    }
   ],
   "source": [
    "%%time\n",
    "for i, file in enumerate(lst):\n",
    "    print(file)\n",
    "    if i == 0:\n",
    "        raw_df = ss.read.csv(file, header=True, inferSchema=False)\n",
    "    else:\n",
    "        raw_df = raw_df.union(ss.read.csv(file, header=True, inferSchema=False))"
   ]
  },
  {
   "cell_type": "markdown",
   "metadata": {},
   "source": [
    "# 2. Pre procesamiento"
   ]
  },
  {
   "cell_type": "markdown",
   "metadata": {},
   "source": [
    "## Trabajando con 10,000 elementos, quitar para trabajar con todo el modelo"
   ]
  },
  {
   "cell_type": "code",
   "execution_count": 5,
   "metadata": {
    "tags": []
   },
   "outputs": [],
   "source": [
    "df = raw_df.limit(10_000).repartition(2).cache()"
   ]
  },
  {
   "cell_type": "code",
   "execution_count": 6,
   "metadata": {
    "id": "0FA49BZ8JK3V",
    "tags": []
   },
   "outputs": [],
   "source": [
    "date_format = \"MM/dd/yyyy hh:mm:ss a\"\n",
    "\n",
    "df = df.withColumn(\n",
    "    \"Trip Start Timestamp\",\n",
    "    F.to_timestamp(df[\"Trip Start Timestamp\"], date_format).cast(TimestampType()),\n",
    ")\n",
    "df = df.withColumn(\n",
    "    \"Trip End Timestamp\",\n",
    "    F.to_timestamp(df[\"Trip End Timestamp\"], date_format).cast(TimestampType()),\n",
    ")\n",
    "\n",
    "df = df[(df[\"Trip Start Timestamp\"] <= \"2024-08-31\")]"
   ]
  },
  {
   "cell_type": "code",
   "execution_count": 7,
   "metadata": {
    "id": "BQusS_o6JK3X",
    "tags": []
   },
   "outputs": [],
   "source": [
    "for var in [\"Fare\", \"Tips\", \"Tolls\", \"Extras\", \"Trip Total\", \"Trip Miles\"]:\n",
    "    df = df.withColumn(var, df[var].cast(\"float\"))\n",
    "\n",
    "df = df.withColumn(\"Trip Seconds\", F.col(\"Trip Seconds\").cast(\"int\"))"
   ]
  },
  {
   "cell_type": "code",
   "execution_count": 8,
   "metadata": {},
   "outputs": [
    {
     "data": {
      "text/plain": [
       "DataFrame[Trip ID: string, Taxi ID: string, Trip Start Timestamp: timestamp, Trip End Timestamp: timestamp, Trip Seconds: int, Trip Miles: float, Pickup Census Tract: string, Dropoff Census Tract: string, Pickup Community Area: string, Dropoff Community Area: string, Fare: float, Tips: float, Tolls: float, Extras: float, Trip Total: float, Payment Type: string, Company: string, Pickup Centroid Latitude: string, Pickup Centroid Longitude: string, Pickup Centroid Location: string, Dropoff Centroid Latitude: string, Dropoff Centroid Longitude: string, Dropoff Centroid  Location: string]"
      ]
     },
     "execution_count": 8,
     "metadata": {},
     "output_type": "execute_result"
    }
   ],
   "source": [
    "df.cache()"
   ]
  },
  {
   "cell_type": "markdown",
   "metadata": {
    "tags": []
   },
   "source": [
    "# 3. Análisis exploratorio de Datos (EDA)"
   ]
  },
  {
   "cell_type": "code",
   "execution_count": 9,
   "metadata": {
    "id": "Ws_jQJQ-JK3e",
    "tags": []
   },
   "outputs": [
    {
     "name": "stderr",
     "output_type": "stream",
     "text": [
      "24/12/21 01:42:13 WARN SparkStringUtils: Truncated the string representation of a plan since it was too large. This behavior can be adjusted by setting 'spark.sql.debug.maxToStringFields'.\n",
      "                                                                                \r"
     ]
    },
    {
     "data": {
      "text/html": [
       "<div>\n",
       "<style scoped>\n",
       "    .dataframe tbody tr th:only-of-type {\n",
       "        vertical-align: middle;\n",
       "    }\n",
       "\n",
       "    .dataframe tbody tr th {\n",
       "        vertical-align: top;\n",
       "    }\n",
       "\n",
       "    .dataframe thead th {\n",
       "        text-align: right;\n",
       "    }\n",
       "</style>\n",
       "<table border=\"1\" class=\"dataframe\">\n",
       "  <thead>\n",
       "    <tr style=\"text-align: right;\">\n",
       "      <th></th>\n",
       "      <th>summary</th>\n",
       "      <th>Trip Seconds</th>\n",
       "      <th>Trip Miles</th>\n",
       "      <th>Pickup Census Tract</th>\n",
       "      <th>Dropoff Census Tract</th>\n",
       "      <th>Pickup Community Area</th>\n",
       "      <th>Dropoff Community Area</th>\n",
       "      <th>Fare</th>\n",
       "      <th>Tips</th>\n",
       "      <th>Tolls</th>\n",
       "      <th>Extras</th>\n",
       "      <th>Trip Total</th>\n",
       "      <th>Payment Type</th>\n",
       "      <th>Company</th>\n",
       "      <th>Pickup Centroid Latitude</th>\n",
       "      <th>Pickup Centroid Longitude</th>\n",
       "      <th>Pickup Centroid Location</th>\n",
       "      <th>Dropoff Centroid Latitude</th>\n",
       "      <th>Dropoff Centroid Longitude</th>\n",
       "      <th>Dropoff Centroid  Location</th>\n",
       "    </tr>\n",
       "  </thead>\n",
       "  <tbody>\n",
       "    <tr>\n",
       "      <th>0</th>\n",
       "      <td>count</td>\n",
       "      <td>9997</td>\n",
       "      <td>10000</td>\n",
       "      <td>3962</td>\n",
       "      <td>3987</td>\n",
       "      <td>9420</td>\n",
       "      <td>9263</td>\n",
       "      <td>9992</td>\n",
       "      <td>9992</td>\n",
       "      <td>9992</td>\n",
       "      <td>9992</td>\n",
       "      <td>9992</td>\n",
       "      <td>10000</td>\n",
       "      <td>10000</td>\n",
       "      <td>9420</td>\n",
       "      <td>9420</td>\n",
       "      <td>9420</td>\n",
       "      <td>9280</td>\n",
       "      <td>9280</td>\n",
       "      <td>9280</td>\n",
       "    </tr>\n",
       "    <tr>\n",
       "      <th>1</th>\n",
       "      <td>mean</td>\n",
       "      <td>1032.2461738521556</td>\n",
       "      <td>5.496808998105862</td>\n",
       "      <td>1.7031422899843765E10</td>\n",
       "      <td>1.7031453638019814E10</td>\n",
       "      <td>30.474734607218682</td>\n",
       "      <td>27.104933606822843</td>\n",
       "      <td>18.96529323659581</td>\n",
       "      <td>2.3305784659797597</td>\n",
       "      <td>0.00334867893597387</td>\n",
       "      <td>1.1870696557550768</td>\n",
       "      <td>22.61442252974495</td>\n",
       "      <td>None</td>\n",
       "      <td>None</td>\n",
       "      <td>41.89453771872621</td>\n",
       "      <td>-87.67473827362468</td>\n",
       "      <td>None</td>\n",
       "      <td>41.89066481992</td>\n",
       "      <td>-87.65909499136414</td>\n",
       "      <td>None</td>\n",
       "    </tr>\n",
       "    <tr>\n",
       "      <th>2</th>\n",
       "      <td>stddev</td>\n",
       "      <td>1472.70795231157</td>\n",
       "      <td>6.93143636052748</td>\n",
       "      <td>335324.00056486146</td>\n",
       "      <td>344777.0784252891</td>\n",
       "      <td>23.095473375033308</td>\n",
       "      <td>20.262267663822566</td>\n",
       "      <td>16.612254226789933</td>\n",
       "      <td>3.7409722037523556</td>\n",
       "      <td>0.10231312915270446</td>\n",
       "      <td>4.3492627235511065</td>\n",
       "      <td>20.53063100636663</td>\n",
       "      <td>None</td>\n",
       "      <td>None</td>\n",
       "      <td>0.06122305432314367</td>\n",
       "      <td>0.09085379545024598</td>\n",
       "      <td>None</td>\n",
       "      <td>0.05689940694778116</td>\n",
       "      <td>0.06939117229803259</td>\n",
       "      <td>None</td>\n",
       "    </tr>\n",
       "    <tr>\n",
       "      <th>3</th>\n",
       "      <td>min</td>\n",
       "      <td>0</td>\n",
       "      <td>0.0</td>\n",
       "      <td>17031010202</td>\n",
       "      <td>17031020602</td>\n",
       "      <td>1</td>\n",
       "      <td>1</td>\n",
       "      <td>0.0</td>\n",
       "      <td>0.0</td>\n",
       "      <td>0.0</td>\n",
       "      <td>0.0</td>\n",
       "      <td>0.0</td>\n",
       "      <td>Cash</td>\n",
       "      <td>2733 - 74600 Benny Jona</td>\n",
       "      <td>41.660136051</td>\n",
       "      <td>-87.534902901</td>\n",
       "      <td>POINT (-87.5349029012 41.707311449)</td>\n",
       "      <td>41.660136051</td>\n",
       "      <td>-87.534902901</td>\n",
       "      <td>POINT (-87.5349029012 41.707311449)</td>\n",
       "    </tr>\n",
       "    <tr>\n",
       "      <th>4</th>\n",
       "      <td>max</td>\n",
       "      <td>64893</td>\n",
       "      <td>192.44</td>\n",
       "      <td>17031980100</td>\n",
       "      <td>17031980100</td>\n",
       "      <td>9</td>\n",
       "      <td>9</td>\n",
       "      <td>439.25</td>\n",
       "      <td>75.0</td>\n",
       "      <td>5.85</td>\n",
       "      <td>99.5</td>\n",
       "      <td>447.75</td>\n",
       "      <td>Unknown</td>\n",
       "      <td>U Taxicab</td>\n",
       "      <td>42.016046492</td>\n",
       "      <td>-87.913624596</td>\n",
       "      <td>POINT (-87.913624596 41.9802643146)</td>\n",
       "      <td>42.009622881</td>\n",
       "      <td>-87.913624596</td>\n",
       "      <td>POINT (-87.913624596 41.9802643146)</td>\n",
       "    </tr>\n",
       "  </tbody>\n",
       "</table>\n",
       "</div>"
      ],
      "text/plain": [
       "  summary        Trip Seconds         Trip Miles    Pickup Census Tract   Dropoff Census Tract Pickup Community Area Dropoff Community Area                Fare                Tips                Tolls              Extras         Trip Total Payment Type                  Company Pickup Centroid Latitude Pickup Centroid Longitude             Pickup Centroid Location Dropoff Centroid Latitude Dropoff Centroid Longitude           Dropoff Centroid  Location\n",
       "0   count                9997              10000                   3962                   3987                  9420                   9263                9992                9992                 9992                9992               9992        10000                    10000                     9420                      9420                                 9420                      9280                       9280                                 9280\n",
       "1    mean  1032.2461738521556  5.496808998105862  1.7031422899843765E10  1.7031453638019814E10    30.474734607218682     27.104933606822843   18.96529323659581  2.3305784659797597  0.00334867893597387  1.1870696557550768  22.61442252974495         None                     None        41.89453771872621        -87.67473827362468                                 None            41.89066481992         -87.65909499136414                                 None\n",
       "2  stddev    1472.70795231157   6.93143636052748     335324.00056486146      344777.0784252891    23.095473375033308     20.262267663822566  16.612254226789933  3.7409722037523556  0.10231312915270446  4.3492627235511065  20.53063100636663         None                     None      0.06122305432314367       0.09085379545024598                                 None       0.05689940694778116        0.06939117229803259                                 None\n",
       "3     min                   0                0.0            17031010202            17031020602                     1                      1                 0.0                 0.0                  0.0                 0.0                0.0         Cash  2733 - 74600 Benny Jona             41.660136051             -87.534902901  POINT (-87.5349029012 41.707311449)              41.660136051              -87.534902901  POINT (-87.5349029012 41.707311449)\n",
       "4     max               64893             192.44            17031980100            17031980100                     9                      9              439.25                75.0                 5.85                99.5             447.75      Unknown                U Taxicab             42.016046492             -87.913624596  POINT (-87.913624596 41.9802643146)              42.009622881              -87.913624596  POINT (-87.913624596 41.9802643146)"
      ]
     },
     "execution_count": 9,
     "metadata": {},
     "output_type": "execute_result"
    }
   ],
   "source": [
    "subset = [\n",
    "    \"summary\",\n",
    "    \"Trip Seconds\",\n",
    "    \"Trip Miles\",\n",
    "    \"Pickup Census Tract\",\n",
    "    \"Dropoff Census Tract\",\n",
    "    \"Pickup Community Area\",\n",
    "    \"Dropoff Community Area\",\n",
    "    \"Fare\",\n",
    "    \"Tips\",\n",
    "    \"Tolls\",\n",
    "    \"Extras\",\n",
    "    \"Trip Total\",\n",
    "    \"Payment Type\",\n",
    "    \"Company\",\n",
    "    \"Pickup Centroid Latitude\",\n",
    "    \"Pickup Centroid Longitude\",\n",
    "    \"Pickup Centroid Location\",\n",
    "    \"Dropoff Centroid Latitude\",\n",
    "    \"Dropoff Centroid Longitude\",\n",
    "    \"Dropoff Centroid  Location\",\n",
    "]\n",
    "\n",
    "describe_df = df.describe().toPandas()\n",
    "describe_df[subset].round(2)"
   ]
  },
  {
   "cell_type": "code",
   "execution_count": 10,
   "metadata": {
    "id": "qoDHDZqnJK3f",
    "tags": []
   },
   "outputs": [
    {
     "name": "stdout",
     "output_type": "stream",
     "text": [
      "+---------------------------------------------------+\n",
      "|Percentiles                                        |\n",
      "+---------------------------------------------------+\n",
      "|[0.0, 3.25, 3.25, 3.25, 50.0, 55.14, 68.25, 439.25]|\n",
      "+---------------------------------------------------+\n",
      "\n",
      "CPU times: user 3.2 ms, sys: 0 ns, total: 3.2 ms\n",
      "Wall time: 716 ms\n"
     ]
    }
   ],
   "source": [
    "%%time\n",
    "deciles = df.selectExpr(\n",
    "    \"percentile_approx(Fare, array(0.0, 0.01, 0.02, 0.03, 0.97, 0.98, 0.99, 1.0)) as Percentiles\"\n",
    ")\n",
    "deciles.show(truncate=False)"
   ]
  },
  {
   "cell_type": "markdown",
   "metadata": {},
   "source": [
    "### Valores nulo"
   ]
  },
  {
   "cell_type": "code",
   "execution_count": 11,
   "metadata": {
    "tags": []
   },
   "outputs": [
    {
     "name": "stderr",
     "output_type": "stream",
     "text": [
      "                                                                                \r"
     ]
    },
    {
     "data": {
      "text/html": [
       "<div>\n",
       "<style scoped>\n",
       "    .dataframe tbody tr th:only-of-type {\n",
       "        vertical-align: middle;\n",
       "    }\n",
       "\n",
       "    .dataframe tbody tr th {\n",
       "        vertical-align: top;\n",
       "    }\n",
       "\n",
       "    .dataframe thead th {\n",
       "        text-align: right;\n",
       "    }\n",
       "</style>\n",
       "<table border=\"1\" class=\"dataframe\">\n",
       "  <thead>\n",
       "    <tr style=\"text-align: right;\">\n",
       "      <th></th>\n",
       "      <th>feature</th>\n",
       "      <th>count</th>\n",
       "      <th>%</th>\n",
       "    </tr>\n",
       "  </thead>\n",
       "  <tbody>\n",
       "    <tr>\n",
       "      <th>0</th>\n",
       "      <td>Trip Miles</td>\n",
       "      <td>0</td>\n",
       "      <td>0.00</td>\n",
       "    </tr>\n",
       "    <tr>\n",
       "      <th>1</th>\n",
       "      <td>Fare</td>\n",
       "      <td>8</td>\n",
       "      <td>0.08</td>\n",
       "    </tr>\n",
       "    <tr>\n",
       "      <th>2</th>\n",
       "      <td>Tips</td>\n",
       "      <td>8</td>\n",
       "      <td>0.08</td>\n",
       "    </tr>\n",
       "    <tr>\n",
       "      <th>3</th>\n",
       "      <td>Tolls</td>\n",
       "      <td>8</td>\n",
       "      <td>0.08</td>\n",
       "    </tr>\n",
       "    <tr>\n",
       "      <th>4</th>\n",
       "      <td>Extras</td>\n",
       "      <td>8</td>\n",
       "      <td>0.08</td>\n",
       "    </tr>\n",
       "    <tr>\n",
       "      <th>5</th>\n",
       "      <td>Trip Total</td>\n",
       "      <td>8</td>\n",
       "      <td>0.08</td>\n",
       "    </tr>\n",
       "    <tr>\n",
       "      <th>6</th>\n",
       "      <td>Trip ID</td>\n",
       "      <td>0</td>\n",
       "      <td>0.00</td>\n",
       "    </tr>\n",
       "    <tr>\n",
       "      <th>7</th>\n",
       "      <td>Taxi ID</td>\n",
       "      <td>0</td>\n",
       "      <td>0.00</td>\n",
       "    </tr>\n",
       "    <tr>\n",
       "      <th>8</th>\n",
       "      <td>Trip Start Timestamp</td>\n",
       "      <td>0</td>\n",
       "      <td>0.00</td>\n",
       "    </tr>\n",
       "    <tr>\n",
       "      <th>9</th>\n",
       "      <td>Trip End Timestamp</td>\n",
       "      <td>1</td>\n",
       "      <td>0.01</td>\n",
       "    </tr>\n",
       "    <tr>\n",
       "      <th>10</th>\n",
       "      <td>Trip Seconds</td>\n",
       "      <td>3</td>\n",
       "      <td>0.03</td>\n",
       "    </tr>\n",
       "    <tr>\n",
       "      <th>11</th>\n",
       "      <td>Pickup Census Tract</td>\n",
       "      <td>6038</td>\n",
       "      <td>60.38</td>\n",
       "    </tr>\n",
       "    <tr>\n",
       "      <th>12</th>\n",
       "      <td>Dropoff Census Tract</td>\n",
       "      <td>6013</td>\n",
       "      <td>60.13</td>\n",
       "    </tr>\n",
       "    <tr>\n",
       "      <th>13</th>\n",
       "      <td>Pickup Community Area</td>\n",
       "      <td>580</td>\n",
       "      <td>5.80</td>\n",
       "    </tr>\n",
       "    <tr>\n",
       "      <th>14</th>\n",
       "      <td>Dropoff Community Area</td>\n",
       "      <td>737</td>\n",
       "      <td>7.37</td>\n",
       "    </tr>\n",
       "    <tr>\n",
       "      <th>15</th>\n",
       "      <td>Payment Type</td>\n",
       "      <td>0</td>\n",
       "      <td>0.00</td>\n",
       "    </tr>\n",
       "    <tr>\n",
       "      <th>16</th>\n",
       "      <td>Company</td>\n",
       "      <td>0</td>\n",
       "      <td>0.00</td>\n",
       "    </tr>\n",
       "    <tr>\n",
       "      <th>17</th>\n",
       "      <td>Pickup Centroid Latitude</td>\n",
       "      <td>580</td>\n",
       "      <td>5.80</td>\n",
       "    </tr>\n",
       "    <tr>\n",
       "      <th>18</th>\n",
       "      <td>Pickup Centroid Longitude</td>\n",
       "      <td>580</td>\n",
       "      <td>5.80</td>\n",
       "    </tr>\n",
       "    <tr>\n",
       "      <th>19</th>\n",
       "      <td>Pickup Centroid Location</td>\n",
       "      <td>580</td>\n",
       "      <td>5.80</td>\n",
       "    </tr>\n",
       "    <tr>\n",
       "      <th>20</th>\n",
       "      <td>Dropoff Centroid Latitude</td>\n",
       "      <td>720</td>\n",
       "      <td>7.20</td>\n",
       "    </tr>\n",
       "    <tr>\n",
       "      <th>21</th>\n",
       "      <td>Dropoff Centroid Longitude</td>\n",
       "      <td>720</td>\n",
       "      <td>7.20</td>\n",
       "    </tr>\n",
       "    <tr>\n",
       "      <th>22</th>\n",
       "      <td>Dropoff Centroid  Location</td>\n",
       "      <td>720</td>\n",
       "      <td>7.20</td>\n",
       "    </tr>\n",
       "  </tbody>\n",
       "</table>\n",
       "</div>"
      ],
      "text/plain": [
       "                       feature  count      %\n",
       "0                   Trip Miles      0   0.00\n",
       "1                         Fare      8   0.08\n",
       "2                         Tips      8   0.08\n",
       "3                        Tolls      8   0.08\n",
       "4                       Extras      8   0.08\n",
       "5                   Trip Total      8   0.08\n",
       "6                      Trip ID      0   0.00\n",
       "7                      Taxi ID      0   0.00\n",
       "8         Trip Start Timestamp      0   0.00\n",
       "9           Trip End Timestamp      1   0.01\n",
       "10                Trip Seconds      3   0.03\n",
       "11         Pickup Census Tract   6038  60.38\n",
       "12        Dropoff Census Tract   6013  60.13\n",
       "13       Pickup Community Area    580   5.80\n",
       "14      Dropoff Community Area    737   7.37\n",
       "15                Payment Type      0   0.00\n",
       "16                     Company      0   0.00\n",
       "17    Pickup Centroid Latitude    580   5.80\n",
       "18   Pickup Centroid Longitude    580   5.80\n",
       "19    Pickup Centroid Location    580   5.80\n",
       "20   Dropoff Centroid Latitude    720   7.20\n",
       "21  Dropoff Centroid Longitude    720   7.20\n",
       "22  Dropoff Centroid  Location    720   7.20"
      ]
     },
     "execution_count": 11,
     "metadata": {},
     "output_type": "execute_result"
    }
   ],
   "source": [
    "missings_df = missing_values_summary(df)\n",
    "missings_df"
   ]
  },
  {
   "cell_type": "markdown",
   "metadata": {},
   "source": [
    "**Queremos ver cuáles son las diferencias de sectores con los que contamos para obtener si hay pickup o dropoff fuera de Chicago.**"
   ]
  },
  {
   "cell_type": "code",
   "execution_count": 12,
   "metadata": {
    "tags": []
   },
   "outputs": [
    {
     "name": "stderr",
     "output_type": "stream",
     "text": [
      "[Stage 45:>                                                         (0 + 1) / 1]\r"
     ]
    },
    {
     "name": "stdout",
     "output_type": "stream",
     "text": [
      "Número de valores únicos en \"Pickup Census Tract\": 67\n"
     ]
    },
    {
     "name": "stderr",
     "output_type": "stream",
     "text": [
      "                                                                                \r"
     ]
    }
   ],
   "source": [
    "# Número de valores únicos en la columna \"Pickup Census Tract\" en PySpark\n",
    "pickup_unique_count = df.select(\"Pickup Census Tract\").distinct().count()\n",
    "print(f\"Número de valores únicos en \\\"Pickup Census Tract\\\": {pickup_unique_count}\")"
   ]
  },
  {
   "cell_type": "code",
   "execution_count": 13,
   "metadata": {
    "tags": []
   },
   "outputs": [
    {
     "name": "stderr",
     "output_type": "stream",
     "text": [
      "[Stage 57:>                                                         (0 + 1) / 1]\r"
     ]
    },
    {
     "name": "stdout",
     "output_type": "stream",
     "text": [
      "Número de valores únicos en \"Dropoff Census Tract\": 67\n"
     ]
    },
    {
     "name": "stderr",
     "output_type": "stream",
     "text": [
      "                                                                                \r"
     ]
    }
   ],
   "source": [
    "# Número de valores únicos en la columna \"Pickup Census Tract\" en PySpark\n",
    "pickup_unique_count = df.select(\"Dropoff Census Tract\").distinct().count()\n",
    "print(f\"Número de valores únicos en \\\"Dropoff Census Tract\\\": {pickup_unique_count}\")"
   ]
  },
  {
   "cell_type": "code",
   "execution_count": 14,
   "metadata": {
    "tags": []
   },
   "outputs": [
    {
     "name": "stdout",
     "output_type": "stream",
     "text": [
      "Número de valores únicos en los primeros 5 caracteres de \"Pickup Census Tract\": 2\n",
      "Valores únicos en los primeros 5 caracteres de \"Pickup Census Tract\":\n",
      "17031\n",
      "None\n"
     ]
    }
   ],
   "source": [
    "# Obtener los valores únicos truncados de \"Dropoff Census Tract\"\n",
    "Pickup_unique = df.select(\n",
    "    F.substring(F.col(\"Pickup Census Tract\"), 1, 5).alias(\"truncated_Pickup\")\n",
    ").distinct()\n",
    "\n",
    "# Imprimir el número de valores únicos\n",
    "print(\n",
    "    f\"Número de valores únicos en los primeros 5 caracteres de \\\"Pickup Census Tract\\\": {Pickup_unique.count()}\"\n",
    ")\n",
    "\n",
    "# Imprimir los valores únicos\n",
    "unique_values_Pickup = Pickup_unique.collect()\n",
    "print(\"Valores únicos en los primeros 5 caracteres de \\\"Pickup Census Tract\\\":\")\n",
    "for row in unique_values_Pickup:\n",
    "    print(row[\"truncated_Pickup\"])"
   ]
  },
  {
   "cell_type": "code",
   "execution_count": 15,
   "metadata": {
    "tags": []
   },
   "outputs": [
    {
     "name": "stdout",
     "output_type": "stream",
     "text": [
      "Número de valores únicos en los primeros 5 caracteres de \"Dropoff Census Tract\": 2\n",
      "Valores únicos en los primeros 5 caracteres de \"Dropoff Census Tract\":\n",
      "17031\n",
      "None\n"
     ]
    },
    {
     "name": "stderr",
     "output_type": "stream",
     "text": [
      "                                                                                \r"
     ]
    }
   ],
   "source": [
    "# Obtener los valores únicos truncados de \"Dropoff Census Tract\"\n",
    "dropoff_unique = df.select(\n",
    "    F.substring(F.col(\"Dropoff Census Tract\"), 1, 5).alias(\"truncated_dropoff\")\n",
    ").distinct()\n",
    "\n",
    "# Imprimir el número de valores únicos\n",
    "print(\n",
    "    f\"Número de valores únicos en los primeros 5 caracteres de \\\"Dropoff Census Tract\\\": {dropoff_unique.count()}\"\n",
    ")\n",
    "\n",
    "# Imprimir los valores únicos\n",
    "unique_values = dropoff_unique.collect()\n",
    "print(\"Valores únicos en los primeros 5 caracteres de \\\"Dropoff Census Tract\\\":\")\n",
    "for row in unique_values:\n",
    "    print(row[\"truncated_dropoff\"])"
   ]
  },
  {
   "cell_type": "markdown",
   "metadata": {},
   "source": [
    "**Observaciones**\n",
    "\n",
    "El registro de sectores en Chicago es únicamente de 5 dígitos y el registro de los Census Tract estan dados en 11 dígitos, si reducimos estos digitos y unicamente nos quedamos con los 5 útiles podremos darnos cuentas que todos nuestros viajes son dentro del Condado de Cook."
   ]
  },
  {
   "cell_type": "markdown",
   "metadata": {},
   "source": [
    "**Conclusión**\n",
    "\n",
    "Por la cantidad de datos faltantes en Census Tract tanto en Pickup como Dropoff, y además al ser una variable unaria ya que la información contenida está en función del mismo sector, la variable resulta poco relevante para el análisis. Adicionalmente, carece de sentido aplicar imputación. Por lo que se deben eliminar dichas variables."
   ]
  },
  {
   "cell_type": "code",
   "execution_count": 16,
   "metadata": {
    "tags": []
   },
   "outputs": [
    {
     "name": "stdout",
     "output_type": "stream",
     "text": [
      "root\n",
      " |-- Trip ID: string (nullable = true)\n",
      " |-- Taxi ID: string (nullable = true)\n",
      " |-- Trip Start Timestamp: timestamp (nullable = true)\n",
      " |-- Trip End Timestamp: timestamp (nullable = true)\n",
      " |-- Trip Seconds: integer (nullable = true)\n",
      " |-- Trip Miles: float (nullable = true)\n",
      " |-- Pickup Community Area: string (nullable = true)\n",
      " |-- Dropoff Community Area: string (nullable = true)\n",
      " |-- Fare: float (nullable = true)\n",
      " |-- Tips: float (nullable = true)\n",
      " |-- Tolls: float (nullable = true)\n",
      " |-- Extras: float (nullable = true)\n",
      " |-- Trip Total: float (nullable = true)\n",
      " |-- Payment Type: string (nullable = true)\n",
      " |-- Company: string (nullable = true)\n",
      " |-- Pickup Centroid Latitude: string (nullable = true)\n",
      " |-- Pickup Centroid Longitude: string (nullable = true)\n",
      " |-- Pickup Centroid Location: string (nullable = true)\n",
      " |-- Dropoff Centroid Latitude: string (nullable = true)\n",
      " |-- Dropoff Centroid Longitude: string (nullable = true)\n",
      " |-- Dropoff Centroid  Location: string (nullable = true)\n",
      "\n"
     ]
    }
   ],
   "source": [
    "columns_to_exclude = [\"Pickup Census Tract\", \"Dropoff Census Tract\"]\n",
    "# Eliminar columnas en PySpark\n",
    "df = df.drop(*columns_to_exclude)\n",
    "# Verificar el esquema para confirmar que se eliminaron las columnas\n",
    "df.printSchema()"
   ]
  },
  {
   "cell_type": "markdown",
   "metadata": {},
   "source": [
    "**Como el objetivo principal es generar una TAD por taxi (no por viaje), es importante identificar si existen taxis que tengan algún problema al registrar su total de pagos.**"
   ]
  },
  {
   "cell_type": "code",
   "execution_count": 17,
   "metadata": {
    "tags": []
   },
   "outputs": [
    {
     "name": "stdout",
     "output_type": "stream",
     "text": [
      "+--------------------+---------------------------------------------+\n",
      "|             Taxi ID|Cantidad de registros con Trip Total faltante|\n",
      "+--------------------+---------------------------------------------+\n",
      "|535cbdf78f906572b...|                                            4|\n",
      "|4b2d5e8743e0e17dd...|                                            2|\n",
      "|3942cf9adfdda8686...|                                            1|\n",
      "|574b161e75a7dda9d...|                                            1|\n",
      "+--------------------+---------------------------------------------+\n",
      "\n"
     ]
    }
   ],
   "source": [
    "taxistas_con_valores_faltantes = (\n",
    "    df.filter(F.col(\"Trip Total\").isNull())\n",
    "    .groupby(\"Taxi ID\")\n",
    "    .agg(F.count(\"*\").alias(\"Cantidad de registros con Trip Total faltante\"))\n",
    ")\n",
    "taxistas_con_valores_faltantes = taxistas_con_valores_faltantes.orderBy(\n",
    "    F.col(\"Cantidad de registros con Trip Total faltante\").desc()\n",
    ")\n",
    "taxistas_con_valores_faltantes.show()"
   ]
  },
  {
   "cell_type": "code",
   "execution_count": 18,
   "metadata": {
    "tags": []
   },
   "outputs": [
    {
     "data": {
      "text/html": [
       "<div>\n",
       "<style scoped>\n",
       "    .dataframe tbody tr th:only-of-type {\n",
       "        vertical-align: middle;\n",
       "    }\n",
       "\n",
       "    .dataframe tbody tr th {\n",
       "        vertical-align: top;\n",
       "    }\n",
       "\n",
       "    .dataframe thead th {\n",
       "        text-align: right;\n",
       "    }\n",
       "</style>\n",
       "<table border=\"1\" class=\"dataframe\">\n",
       "  <thead>\n",
       "    <tr style=\"text-align: right;\">\n",
       "      <th></th>\n",
       "      <th>Taxi ID</th>\n",
       "      <th>Cantidad de registros con Trip Total faltante</th>\n",
       "      <th>Total de registros por taxista</th>\n",
       "      <th>Porcentaje de registros faltantes</th>\n",
       "    </tr>\n",
       "  </thead>\n",
       "  <tbody>\n",
       "    <tr>\n",
       "      <th>0</th>\n",
       "      <td>4b2d5e8743e0e17dd683ef83f701a7c54ab50ffa532484...</td>\n",
       "      <td>2</td>\n",
       "      <td>4</td>\n",
       "      <td>50.000000</td>\n",
       "    </tr>\n",
       "    <tr>\n",
       "      <th>1</th>\n",
       "      <td>535cbdf78f906572bd87f6818151296de41f60925a4e41...</td>\n",
       "      <td>4</td>\n",
       "      <td>25</td>\n",
       "      <td>16.000000</td>\n",
       "    </tr>\n",
       "    <tr>\n",
       "      <th>2</th>\n",
       "      <td>574b161e75a7dda9dc1f63751af8b83c982a3a76f5fc88...</td>\n",
       "      <td>1</td>\n",
       "      <td>7</td>\n",
       "      <td>14.285714</td>\n",
       "    </tr>\n",
       "    <tr>\n",
       "      <th>3</th>\n",
       "      <td>3942cf9adfdda86862c8402d8eb497d0cdbe4d9f6ceb27...</td>\n",
       "      <td>1</td>\n",
       "      <td>12</td>\n",
       "      <td>8.333333</td>\n",
       "    </tr>\n",
       "  </tbody>\n",
       "</table>\n",
       "</div>"
      ],
      "text/plain": [
       "                                             Taxi ID  Cantidad de registros con Trip Total faltante  Total de registros por taxista  Porcentaje de registros faltantes\n",
       "0  4b2d5e8743e0e17dd683ef83f701a7c54ab50ffa532484...                                              2                               4                          50.000000\n",
       "1  535cbdf78f906572bd87f6818151296de41f60925a4e41...                                              4                              25                          16.000000\n",
       "2  574b161e75a7dda9dc1f63751af8b83c982a3a76f5fc88...                                              1                               7                          14.285714\n",
       "3  3942cf9adfdda86862c8402d8eb497d0cdbe4d9f6ceb27...                                              1                              12                           8.333333"
      ]
     },
     "execution_count": 18,
     "metadata": {},
     "output_type": "execute_result"
    }
   ],
   "source": [
    "# Calcular el total de registros por taxista\n",
    "total_registros_por_taxista = df.groupby(\"Taxi ID\").agg(\n",
    "    F.count(\"*\").alias(\"Total de registros por taxista\")\n",
    ")\n",
    "# Cruzar el DataFrame de taxistas_con_valores_faltantes con el DataFrame total_registros_por_taxista\n",
    "taxistas_con_valores_faltantes = taxistas_con_valores_faltantes.join(\n",
    "    total_registros_por_taxista, on=\"Taxi ID\", how=\"inner\"\n",
    ")\n",
    "# Calcular el porcentaje de registros faltantes por taxista\n",
    "taxistas_con_valores_faltantes = taxistas_con_valores_faltantes.withColumn(\n",
    "    \"Porcentaje de registros faltantes\",\n",
    "    (\n",
    "        F.col(\"Cantidad de registros con Trip Total faltante\")\n",
    "        / F.col(\"Total de registros por taxista\")\n",
    "    )\n",
    "    * 100,\n",
    ")\n",
    "taxistas_con_valores_faltantes = taxistas_con_valores_faltantes.orderBy(\n",
    "    F.col(\"Porcentaje de registros faltantes\").desc()\n",
    ")\n",
    "taxistas_con_valores_faltantes.toPandas()"
   ]
  },
  {
   "cell_type": "markdown",
   "metadata": {},
   "source": [
    "Podemos darnos cuenta que el taxista con la mayor afectación es de más del 40% de sus registros, por lo que se recomienda pornerse en contacto con los conductores priorizando aquellos que tengan mayor afectación (mayor cantidad de montos sin registro)."
   ]
  },
  {
   "cell_type": "code",
   "execution_count": 19,
   "metadata": {
    "tags": []
   },
   "outputs": [],
   "source": [
    "df = df.filter(F.col(\"Trip Total\").isNotNull())"
   ]
  },
  {
   "cell_type": "markdown",
   "metadata": {},
   "source": [
    "Al eliminar los registros que no cuentan con **\"Trip Total\"** también se eliminan todos aquellos registros relacionados el desglose de montos, es decir, los montos asociados a las variables \"Fare\", \"Extras\", \"Tolls\" y \"Tips\"."
   ]
  },
  {
   "cell_type": "markdown",
   "metadata": {},
   "source": [
    "#### Missings en Trip Seconds"
   ]
  },
  {
   "cell_type": "markdown",
   "metadata": {},
   "source": [
    "Debido a que contamos con valores ausentes en la variable \"Trip Seconds\" equivalentes al 0.0143% de los datos y a que no contamos con suficiente informacion para imputar valores basándonos en calcular la diferencia en segundos de los viajes entre las variables \"Trip End Timestamp\" y \"Trip Start Timestamp\" para interpolar los datos faltantes ya que estos no corresponden por completo a la variable \"Trip Seconds\", y que adicionalmente, en algunos casos la diferencia es considerable. Se concluye que lo más recomendable es eliminar estos registros."
   ]
  },
  {
   "cell_type": "code",
   "execution_count": 20,
   "metadata": {
    "tags": []
   },
   "outputs": [],
   "source": [
    "df = df.filter(F.col(\"Trip Seconds\").isNotNull())"
   ]
  },
  {
   "cell_type": "markdown",
   "metadata": {},
   "source": [
    "#### Missings en Trip Miles"
   ]
  },
  {
   "cell_type": "code",
   "execution_count": 21,
   "metadata": {
    "tags": []
   },
   "outputs": [
    {
     "data": {
      "text/plain": [
       "0"
      ]
     },
     "execution_count": 21,
     "metadata": {},
     "output_type": "execute_result"
    }
   ],
   "source": [
    "Trip_Miles = df.filter(F.col(\"Trip Miles\").isNull())\n",
    "Trip_Miles.count()"
   ]
  },
  {
   "cell_type": "markdown",
   "metadata": {},
   "source": [
    "Revisamos cómo se comportan estos valores para los registros en Trip Miles."
   ]
  },
  {
   "cell_type": "code",
   "execution_count": 22,
   "metadata": {
    "tags": []
   },
   "outputs": [
    {
     "name": "stderr",
     "output_type": "stream",
     "text": [
      "                                                                                \r"
     ]
    },
    {
     "data": {
      "text/html": [
       "<div>\n",
       "<style scoped>\n",
       "    .dataframe tbody tr th:only-of-type {\n",
       "        vertical-align: middle;\n",
       "    }\n",
       "\n",
       "    .dataframe tbody tr th {\n",
       "        vertical-align: top;\n",
       "    }\n",
       "\n",
       "    .dataframe thead th {\n",
       "        text-align: right;\n",
       "    }\n",
       "</style>\n",
       "<table border=\"1\" class=\"dataframe\">\n",
       "  <thead>\n",
       "    <tr style=\"text-align: right;\">\n",
       "      <th></th>\n",
       "      <th>summary</th>\n",
       "      <th>Trip ID</th>\n",
       "      <th>Taxi ID</th>\n",
       "      <th>Trip Seconds</th>\n",
       "      <th>Trip Miles</th>\n",
       "      <th>Pickup Community Area</th>\n",
       "      <th>Dropoff Community Area</th>\n",
       "      <th>Fare</th>\n",
       "      <th>Tips</th>\n",
       "      <th>Tolls</th>\n",
       "      <th>Extras</th>\n",
       "      <th>Trip Total</th>\n",
       "      <th>Payment Type</th>\n",
       "      <th>Company</th>\n",
       "      <th>Pickup Centroid Latitude</th>\n",
       "      <th>Pickup Centroid Longitude</th>\n",
       "      <th>Pickup Centroid Location</th>\n",
       "      <th>Dropoff Centroid Latitude</th>\n",
       "      <th>Dropoff Centroid Longitude</th>\n",
       "      <th>Dropoff Centroid  Location</th>\n",
       "    </tr>\n",
       "  </thead>\n",
       "  <tbody>\n",
       "    <tr>\n",
       "      <th>0</th>\n",
       "      <td>count</td>\n",
       "      <td>0</td>\n",
       "      <td>0</td>\n",
       "      <td>0</td>\n",
       "      <td>0</td>\n",
       "      <td>0</td>\n",
       "      <td>0</td>\n",
       "      <td>0</td>\n",
       "      <td>0</td>\n",
       "      <td>0</td>\n",
       "      <td>0</td>\n",
       "      <td>0</td>\n",
       "      <td>0</td>\n",
       "      <td>0</td>\n",
       "      <td>0</td>\n",
       "      <td>0</td>\n",
       "      <td>0</td>\n",
       "      <td>0</td>\n",
       "      <td>0</td>\n",
       "      <td>0</td>\n",
       "    </tr>\n",
       "    <tr>\n",
       "      <th>1</th>\n",
       "      <td>mean</td>\n",
       "      <td>None</td>\n",
       "      <td>None</td>\n",
       "      <td>None</td>\n",
       "      <td>None</td>\n",
       "      <td>None</td>\n",
       "      <td>None</td>\n",
       "      <td>None</td>\n",
       "      <td>None</td>\n",
       "      <td>None</td>\n",
       "      <td>None</td>\n",
       "      <td>None</td>\n",
       "      <td>None</td>\n",
       "      <td>None</td>\n",
       "      <td>None</td>\n",
       "      <td>None</td>\n",
       "      <td>None</td>\n",
       "      <td>None</td>\n",
       "      <td>None</td>\n",
       "      <td>None</td>\n",
       "    </tr>\n",
       "    <tr>\n",
       "      <th>2</th>\n",
       "      <td>stddev</td>\n",
       "      <td>None</td>\n",
       "      <td>None</td>\n",
       "      <td>None</td>\n",
       "      <td>None</td>\n",
       "      <td>None</td>\n",
       "      <td>None</td>\n",
       "      <td>None</td>\n",
       "      <td>None</td>\n",
       "      <td>None</td>\n",
       "      <td>None</td>\n",
       "      <td>None</td>\n",
       "      <td>None</td>\n",
       "      <td>None</td>\n",
       "      <td>None</td>\n",
       "      <td>None</td>\n",
       "      <td>None</td>\n",
       "      <td>None</td>\n",
       "      <td>None</td>\n",
       "      <td>None</td>\n",
       "    </tr>\n",
       "    <tr>\n",
       "      <th>3</th>\n",
       "      <td>min</td>\n",
       "      <td>None</td>\n",
       "      <td>None</td>\n",
       "      <td>None</td>\n",
       "      <td>None</td>\n",
       "      <td>None</td>\n",
       "      <td>None</td>\n",
       "      <td>None</td>\n",
       "      <td>None</td>\n",
       "      <td>None</td>\n",
       "      <td>None</td>\n",
       "      <td>None</td>\n",
       "      <td>None</td>\n",
       "      <td>None</td>\n",
       "      <td>None</td>\n",
       "      <td>None</td>\n",
       "      <td>None</td>\n",
       "      <td>None</td>\n",
       "      <td>None</td>\n",
       "      <td>None</td>\n",
       "    </tr>\n",
       "    <tr>\n",
       "      <th>4</th>\n",
       "      <td>max</td>\n",
       "      <td>None</td>\n",
       "      <td>None</td>\n",
       "      <td>None</td>\n",
       "      <td>None</td>\n",
       "      <td>None</td>\n",
       "      <td>None</td>\n",
       "      <td>None</td>\n",
       "      <td>None</td>\n",
       "      <td>None</td>\n",
       "      <td>None</td>\n",
       "      <td>None</td>\n",
       "      <td>None</td>\n",
       "      <td>None</td>\n",
       "      <td>None</td>\n",
       "      <td>None</td>\n",
       "      <td>None</td>\n",
       "      <td>None</td>\n",
       "      <td>None</td>\n",
       "      <td>None</td>\n",
       "    </tr>\n",
       "  </tbody>\n",
       "</table>\n",
       "</div>"
      ],
      "text/plain": [
       "  summary Trip ID Taxi ID Trip Seconds Trip Miles Pickup Community Area Dropoff Community Area  Fare  Tips Tolls Extras Trip Total Payment Type Company Pickup Centroid Latitude Pickup Centroid Longitude Pickup Centroid Location Dropoff Centroid Latitude Dropoff Centroid Longitude Dropoff Centroid  Location\n",
       "0   count       0       0            0          0                     0                      0     0     0     0      0          0            0       0                        0                         0                        0                         0                          0                          0\n",
       "1    mean    None    None         None       None                  None                   None  None  None  None   None       None         None    None                     None                      None                     None                      None                       None                       None\n",
       "2  stddev    None    None         None       None                  None                   None  None  None  None   None       None         None    None                     None                      None                     None                      None                       None                       None\n",
       "3     min    None    None         None       None                  None                   None  None  None  None   None       None         None    None                     None                      None                     None                      None                       None                       None\n",
       "4     max    None    None         None       None                  None                   None  None  None  None   None       None         None    None                     None                      None                     None                      None                       None                       None"
      ]
     },
     "execution_count": 22,
     "metadata": {},
     "output_type": "execute_result"
    }
   ],
   "source": [
    "Trip_Miles_describe = Trip_Miles.describe().toPandas()\n",
    "Trip_Miles_describe"
   ]
  },
  {
   "cell_type": "markdown",
   "metadata": {},
   "source": [
    "Taxistas con afectación"
   ]
  },
  {
   "cell_type": "code",
   "execution_count": 23,
   "metadata": {
    "tags": []
   },
   "outputs": [
    {
     "data": {
      "text/plain": [
       "0"
      ]
     },
     "execution_count": 23,
     "metadata": {},
     "output_type": "execute_result"
    }
   ],
   "source": [
    "taxistas_con_valores_faltantes = (\n",
    "    df.filter(F.col(\"Trip Miles\").isNull())\n",
    "    .groupby(\"Taxi ID\")\n",
    "    .agg(F.count(\"*\").alias(\"Cantidad de registros con Trip Miles faltante\"))\n",
    ")\n",
    "taxistas_con_valores_faltantes = taxistas_con_valores_faltantes.orderBy(\n",
    "    F.col(\"Cantidad de registros con Trip Miles faltante\").desc()\n",
    ")\n",
    "taxistas_con_valores_faltantes.count()"
   ]
  },
  {
   "cell_type": "code",
   "execution_count": 24,
   "metadata": {
    "tags": []
   },
   "outputs": [
    {
     "data": {
      "text/plain": [
       "1747"
      ]
     },
     "execution_count": 24,
     "metadata": {},
     "output_type": "execute_result"
    }
   ],
   "source": [
    "total_taxis = df.groupby(\"Taxi ID\").agg(F.count(\"*\").alias(\"Cantidad total de taxis\"))\n",
    "total_taxis.count()"
   ]
  },
  {
   "cell_type": "code",
   "execution_count": 25,
   "metadata": {
    "tags": []
   },
   "outputs": [
    {
     "data": {
      "text/plain": [
       "0.0"
      ]
     },
     "execution_count": 25,
     "metadata": {},
     "output_type": "execute_result"
    }
   ],
   "source": [
    "(taxistas_con_valores_faltantes.count() / total_taxis.count()) * 100"
   ]
  },
  {
   "cell_type": "markdown",
   "metadata": {},
   "source": [
    "**Observación**\n",
    "\n",
    "Podemos ver que afectamos solamente a 29 diferentes Taxis de un total de 3,709 Taxis que representa un 0.7651715039577837% del total de los Taxis por lo que es posible eliminar estos registros."
   ]
  },
  {
   "cell_type": "code",
   "execution_count": 26,
   "metadata": {
    "tags": []
   },
   "outputs": [],
   "source": [
    "df = df.filter(F.col(\"Trip Miles\").isNotNull())"
   ]
  },
  {
   "cell_type": "markdown",
   "metadata": {
    "tags": []
   },
   "source": [
    "#### Missings en Coordenadas"
   ]
  },
  {
   "cell_type": "markdown",
   "metadata": {},
   "source": [
    "Finalmente, los *missings* restantes deben corresponder únicamente a los que están en función de las coordenadas del viaje."
   ]
  },
  {
   "cell_type": "code",
   "execution_count": 27,
   "metadata": {
    "tags": []
   },
   "outputs": [
    {
     "data": {
      "text/html": [
       "<div>\n",
       "<style scoped>\n",
       "    .dataframe tbody tr th:only-of-type {\n",
       "        vertical-align: middle;\n",
       "    }\n",
       "\n",
       "    .dataframe tbody tr th {\n",
       "        vertical-align: top;\n",
       "    }\n",
       "\n",
       "    .dataframe thead th {\n",
       "        text-align: right;\n",
       "    }\n",
       "</style>\n",
       "<table border=\"1\" class=\"dataframe\">\n",
       "  <thead>\n",
       "    <tr style=\"text-align: right;\">\n",
       "      <th></th>\n",
       "      <th>feature</th>\n",
       "      <th>count</th>\n",
       "      <th>%</th>\n",
       "    </tr>\n",
       "  </thead>\n",
       "  <tbody>\n",
       "    <tr>\n",
       "      <th>11</th>\n",
       "      <td>Pickup Community Area</td>\n",
       "      <td>579</td>\n",
       "      <td>5.80</td>\n",
       "    </tr>\n",
       "    <tr>\n",
       "      <th>12</th>\n",
       "      <td>Dropoff Community Area</td>\n",
       "      <td>736</td>\n",
       "      <td>7.37</td>\n",
       "    </tr>\n",
       "    <tr>\n",
       "      <th>15</th>\n",
       "      <td>Pickup Centroid Latitude</td>\n",
       "      <td>579</td>\n",
       "      <td>5.80</td>\n",
       "    </tr>\n",
       "    <tr>\n",
       "      <th>16</th>\n",
       "      <td>Pickup Centroid Longitude</td>\n",
       "      <td>579</td>\n",
       "      <td>5.80</td>\n",
       "    </tr>\n",
       "    <tr>\n",
       "      <th>17</th>\n",
       "      <td>Pickup Centroid Location</td>\n",
       "      <td>579</td>\n",
       "      <td>5.80</td>\n",
       "    </tr>\n",
       "    <tr>\n",
       "      <th>18</th>\n",
       "      <td>Dropoff Centroid Latitude</td>\n",
       "      <td>719</td>\n",
       "      <td>7.20</td>\n",
       "    </tr>\n",
       "    <tr>\n",
       "      <th>19</th>\n",
       "      <td>Dropoff Centroid Longitude</td>\n",
       "      <td>719</td>\n",
       "      <td>7.20</td>\n",
       "    </tr>\n",
       "    <tr>\n",
       "      <th>20</th>\n",
       "      <td>Dropoff Centroid  Location</td>\n",
       "      <td>719</td>\n",
       "      <td>7.20</td>\n",
       "    </tr>\n",
       "  </tbody>\n",
       "</table>\n",
       "</div>"
      ],
      "text/plain": [
       "                       feature  count     %\n",
       "11       Pickup Community Area    579  5.80\n",
       "12      Dropoff Community Area    736  7.37\n",
       "15    Pickup Centroid Latitude    579  5.80\n",
       "16   Pickup Centroid Longitude    579  5.80\n",
       "17    Pickup Centroid Location    579  5.80\n",
       "18   Dropoff Centroid Latitude    719  7.20\n",
       "19  Dropoff Centroid Longitude    719  7.20\n",
       "20  Dropoff Centroid  Location    719  7.20"
      ]
     },
     "execution_count": 27,
     "metadata": {},
     "output_type": "execute_result"
    }
   ],
   "source": [
    "missings_df = missing_values_summary(df)\n",
    "missings_df[missings_df[\"count\"] > 0]"
   ]
  },
  {
   "cell_type": "markdown",
   "metadata": {},
   "source": [
    "Tomamos \"Dropoff Community Area\" como filtro a explorar al ser la variable con la mayor cantidad de registros faltantes al momento."
   ]
  },
  {
   "cell_type": "code",
   "execution_count": 28,
   "metadata": {
    "tags": []
   },
   "outputs": [
    {
     "data": {
      "text/html": [
       "<div>\n",
       "<style scoped>\n",
       "    .dataframe tbody tr th:only-of-type {\n",
       "        vertical-align: middle;\n",
       "    }\n",
       "\n",
       "    .dataframe tbody tr th {\n",
       "        vertical-align: top;\n",
       "    }\n",
       "\n",
       "    .dataframe thead th {\n",
       "        text-align: right;\n",
       "    }\n",
       "</style>\n",
       "<table border=\"1\" class=\"dataframe\">\n",
       "  <thead>\n",
       "    <tr style=\"text-align: right;\">\n",
       "      <th></th>\n",
       "      <th>Trip ID</th>\n",
       "      <th>Taxi ID</th>\n",
       "      <th>Trip Start Timestamp</th>\n",
       "      <th>Trip End Timestamp</th>\n",
       "      <th>Trip Seconds</th>\n",
       "      <th>Trip Miles</th>\n",
       "      <th>Pickup Community Area</th>\n",
       "      <th>Dropoff Community Area</th>\n",
       "      <th>Fare</th>\n",
       "      <th>Tips</th>\n",
       "      <th>Tolls</th>\n",
       "      <th>Extras</th>\n",
       "      <th>Trip Total</th>\n",
       "      <th>Payment Type</th>\n",
       "      <th>Company</th>\n",
       "      <th>Pickup Centroid Latitude</th>\n",
       "      <th>Pickup Centroid Longitude</th>\n",
       "      <th>Pickup Centroid Location</th>\n",
       "      <th>Dropoff Centroid Latitude</th>\n",
       "      <th>Dropoff Centroid Longitude</th>\n",
       "      <th>Dropoff Centroid  Location</th>\n",
       "    </tr>\n",
       "  </thead>\n",
       "  <tbody>\n",
       "    <tr>\n",
       "      <th>0</th>\n",
       "      <td>95247c05449857636d0a83ec30ff3b7a6e760a19</td>\n",
       "      <td>a5f044a163af0da6eaeff3ff2d44cead115185433a283a...</td>\n",
       "      <td>2023-01-26 12:45:00</td>\n",
       "      <td>2023-01-26 12:45:00</td>\n",
       "      <td>0</td>\n",
       "      <td>0.00</td>\n",
       "      <td>32</td>\n",
       "      <td>None</td>\n",
       "      <td>3.25</td>\n",
       "      <td>0.00</td>\n",
       "      <td>0.00</td>\n",
       "      <td>0.5</td>\n",
       "      <td>3.750000</td>\n",
       "      <td>Cash</td>\n",
       "      <td>Taxi Affiliation Services</td>\n",
       "      <td>41.880994471</td>\n",
       "      <td>-87.632746489</td>\n",
       "      <td>POINT (-87.6327464887 41.8809944707)</td>\n",
       "      <td>None</td>\n",
       "      <td>None</td>\n",
       "      <td>None</td>\n",
       "    </tr>\n",
       "    <tr>\n",
       "      <th>1</th>\n",
       "      <td>6dddf5dae447ebf84f9fc790ef88844682403a1b</td>\n",
       "      <td>d52e1c40775bad7d9273bd2b56b8d8f1fdbeeec5233a8d...</td>\n",
       "      <td>2023-01-26 11:30:00</td>\n",
       "      <td>2023-01-26 12:00:00</td>\n",
       "      <td>2039</td>\n",
       "      <td>16.48</td>\n",
       "      <td>76</td>\n",
       "      <td>None</td>\n",
       "      <td>42.50</td>\n",
       "      <td>12.13</td>\n",
       "      <td>0.01</td>\n",
       "      <td>5.5</td>\n",
       "      <td>60.639999</td>\n",
       "      <td>Credit Card</td>\n",
       "      <td>Chicago Independents</td>\n",
       "      <td>41.980264315</td>\n",
       "      <td>-87.913624596</td>\n",
       "      <td>POINT (-87.913624596 41.9802643146)</td>\n",
       "      <td>None</td>\n",
       "      <td>None</td>\n",
       "      <td>None</td>\n",
       "    </tr>\n",
       "    <tr>\n",
       "      <th>2</th>\n",
       "      <td>e313e2d8e9122c5765b882a79131bda6d864127b</td>\n",
       "      <td>47afa2ad8334a794871c5a7e9785925599304a77c3d9cc...</td>\n",
       "      <td>2023-01-26 07:00:00</td>\n",
       "      <td>2023-01-26 07:15:00</td>\n",
       "      <td>1237</td>\n",
       "      <td>13.23</td>\n",
       "      <td>76</td>\n",
       "      <td>None</td>\n",
       "      <td>33.25</td>\n",
       "      <td>0.00</td>\n",
       "      <td>0.00</td>\n",
       "      <td>0.0</td>\n",
       "      <td>33.250000</td>\n",
       "      <td>Prcard</td>\n",
       "      <td>Flash Cab</td>\n",
       "      <td>41.980264315</td>\n",
       "      <td>-87.913624596</td>\n",
       "      <td>POINT (-87.913624596 41.9802643146)</td>\n",
       "      <td>None</td>\n",
       "      <td>None</td>\n",
       "      <td>None</td>\n",
       "    </tr>\n",
       "    <tr>\n",
       "      <th>3</th>\n",
       "      <td>e370700da5af660bd4432c046455e8076315f9cf</td>\n",
       "      <td>4903c88e6b8e413fd55b8680ee639b42aca85ade05fb30...</td>\n",
       "      <td>2023-01-26 11:30:00</td>\n",
       "      <td>2023-01-26 12:00:00</td>\n",
       "      <td>1620</td>\n",
       "      <td>21.10</td>\n",
       "      <td>76</td>\n",
       "      <td>None</td>\n",
       "      <td>50.75</td>\n",
       "      <td>17.15</td>\n",
       "      <td>0.00</td>\n",
       "      <td>34.5</td>\n",
       "      <td>102.400002</td>\n",
       "      <td>Credit Card</td>\n",
       "      <td>Taxi Affiliation Services</td>\n",
       "      <td>41.980264315</td>\n",
       "      <td>-87.913624596</td>\n",
       "      <td>POINT (-87.913624596 41.9802643146)</td>\n",
       "      <td>None</td>\n",
       "      <td>None</td>\n",
       "      <td>None</td>\n",
       "    </tr>\n",
       "    <tr>\n",
       "      <th>4</th>\n",
       "      <td>28aa1b444d36754d0d263b0129c0ffd7fb5a7c6e</td>\n",
       "      <td>e2c35dff8bc754fc2b8e2b41774af45912aedd1d47bfa4...</td>\n",
       "      <td>2023-01-26 15:00:00</td>\n",
       "      <td>2023-01-26 15:45:00</td>\n",
       "      <td>2555</td>\n",
       "      <td>29.27</td>\n",
       "      <td>None</td>\n",
       "      <td>None</td>\n",
       "      <td>71.25</td>\n",
       "      <td>0.00</td>\n",
       "      <td>0.00</td>\n",
       "      <td>5.5</td>\n",
       "      <td>76.750000</td>\n",
       "      <td>Cash</td>\n",
       "      <td>Flash Cab</td>\n",
       "      <td>None</td>\n",
       "      <td>None</td>\n",
       "      <td>None</td>\n",
       "      <td>None</td>\n",
       "      <td>None</td>\n",
       "      <td>None</td>\n",
       "    </tr>\n",
       "  </tbody>\n",
       "</table>\n",
       "</div>"
      ],
      "text/plain": [
       "                                    Trip ID                                            Taxi ID Trip Start Timestamp  Trip End Timestamp  Trip Seconds  Trip Miles Pickup Community Area Dropoff Community Area   Fare   Tips  Tolls  Extras  Trip Total Payment Type                    Company Pickup Centroid Latitude Pickup Centroid Longitude              Pickup Centroid Location Dropoff Centroid Latitude Dropoff Centroid Longitude Dropoff Centroid  Location\n",
       "0  95247c05449857636d0a83ec30ff3b7a6e760a19  a5f044a163af0da6eaeff3ff2d44cead115185433a283a...  2023-01-26 12:45:00 2023-01-26 12:45:00             0        0.00                    32                   None   3.25   0.00   0.00     0.5    3.750000         Cash  Taxi Affiliation Services             41.880994471             -87.632746489  POINT (-87.6327464887 41.8809944707)                      None                       None                       None\n",
       "1  6dddf5dae447ebf84f9fc790ef88844682403a1b  d52e1c40775bad7d9273bd2b56b8d8f1fdbeeec5233a8d...  2023-01-26 11:30:00 2023-01-26 12:00:00          2039       16.48                    76                   None  42.50  12.13   0.01     5.5   60.639999  Credit Card       Chicago Independents             41.980264315             -87.913624596   POINT (-87.913624596 41.9802643146)                      None                       None                       None\n",
       "2  e313e2d8e9122c5765b882a79131bda6d864127b  47afa2ad8334a794871c5a7e9785925599304a77c3d9cc...  2023-01-26 07:00:00 2023-01-26 07:15:00          1237       13.23                    76                   None  33.25   0.00   0.00     0.0   33.250000       Prcard                  Flash Cab             41.980264315             -87.913624596   POINT (-87.913624596 41.9802643146)                      None                       None                       None\n",
       "3  e370700da5af660bd4432c046455e8076315f9cf  4903c88e6b8e413fd55b8680ee639b42aca85ade05fb30...  2023-01-26 11:30:00 2023-01-26 12:00:00          1620       21.10                    76                   None  50.75  17.15   0.00    34.5  102.400002  Credit Card  Taxi Affiliation Services             41.980264315             -87.913624596   POINT (-87.913624596 41.9802643146)                      None                       None                       None\n",
       "4  28aa1b444d36754d0d263b0129c0ffd7fb5a7c6e  e2c35dff8bc754fc2b8e2b41774af45912aedd1d47bfa4...  2023-01-26 15:00:00 2023-01-26 15:45:00          2555       29.27                  None                   None  71.25   0.00   0.00     5.5   76.750000         Cash                  Flash Cab                     None                      None                                  None                      None                       None                       None"
      ]
     },
     "execution_count": 28,
     "metadata": {},
     "output_type": "execute_result"
    }
   ],
   "source": [
    "null_dropoff_df = df.filter(F.col(\"Dropoff Community Area\").isNull())\n",
    "# Obtener una muestra aleatoria de 5 filas\n",
    "sampled_df = null_dropoff_df.sample(withReplacement=False, fraction=0.1).limit(\n",
    "    5\n",
    ")  # Ajusta la fracción según sea necesario\n",
    "# Mostrar la muestra\n",
    "sampled_df.toPandas()"
   ]
  },
  {
   "cell_type": "markdown",
   "metadata": {},
   "source": [
    "**Conclusión**\n",
    "\n",
    "Por ahora no elminaremos las filas con valores nulos en Dropoff Community Area, ya que observamos que tienen información relevante para futuros calclos.\n"
   ]
  },
  {
   "cell_type": "markdown",
   "metadata": {},
   "source": [
    "### ¿Cuántos viajes hace un taxista (a lo largo del tiempo)?"
   ]
  },
  {
   "cell_type": "markdown",
   "metadata": {
    "tags": []
   },
   "source": [
    "Número de taxistas"
   ]
  },
  {
   "cell_type": "code",
   "execution_count": 29,
   "metadata": {
    "tags": []
   },
   "outputs": [
    {
     "name": "stdout",
     "output_type": "stream",
     "text": [
      "El total de taxistas en el conjunto es: 1747\n"
     ]
    }
   ],
   "source": [
    "n_taxistas = df.select(\"Taxi ID\").distinct().count()\n",
    "print(f\"El total de taxistas en el conjunto es: {n_taxistas}\")"
   ]
  },
  {
   "cell_type": "code",
   "execution_count": 30,
   "metadata": {
    "tags": []
   },
   "outputs": [
    {
     "data": {
      "text/html": [
       "<div>\n",
       "<style scoped>\n",
       "    .dataframe tbody tr th:only-of-type {\n",
       "        vertical-align: middle;\n",
       "    }\n",
       "\n",
       "    .dataframe tbody tr th {\n",
       "        vertical-align: top;\n",
       "    }\n",
       "\n",
       "    .dataframe thead th {\n",
       "        text-align: right;\n",
       "    }\n",
       "</style>\n",
       "<table border=\"1\" class=\"dataframe\">\n",
       "  <thead>\n",
       "    <tr style=\"text-align: right;\">\n",
       "      <th></th>\n",
       "      <th>Taxi ID</th>\n",
       "      <th>Total viajes</th>\n",
       "    </tr>\n",
       "  </thead>\n",
       "  <tbody>\n",
       "    <tr>\n",
       "      <th>0</th>\n",
       "      <td>36add30222345794b60adf964631e6a1994b1a77c74105...</td>\n",
       "      <td>29</td>\n",
       "    </tr>\n",
       "    <tr>\n",
       "      <th>1</th>\n",
       "      <td>0156573f07d7ebbb61b0edfd4d783d2762fd0cc74d8221...</td>\n",
       "      <td>26</td>\n",
       "    </tr>\n",
       "    <tr>\n",
       "      <th>2</th>\n",
       "      <td>053486cd912ae399d28c26d6976cf507140df78ec57d09...</td>\n",
       "      <td>26</td>\n",
       "    </tr>\n",
       "    <tr>\n",
       "      <th>3</th>\n",
       "      <td>f77b6190620fd456321d1b6ff0dfabc98b898213e80047...</td>\n",
       "      <td>26</td>\n",
       "    </tr>\n",
       "    <tr>\n",
       "      <th>4</th>\n",
       "      <td>bd8e56507781dbc93fbb8a08e8d441b8d64f78a52affec...</td>\n",
       "      <td>25</td>\n",
       "    </tr>\n",
       "  </tbody>\n",
       "</table>\n",
       "</div>"
      ],
      "text/plain": [
       "                                             Taxi ID  Total viajes\n",
       "0  36add30222345794b60adf964631e6a1994b1a77c74105...            29\n",
       "1  0156573f07d7ebbb61b0edfd4d783d2762fd0cc74d8221...            26\n",
       "2  053486cd912ae399d28c26d6976cf507140df78ec57d09...            26\n",
       "3  f77b6190620fd456321d1b6ff0dfabc98b898213e80047...            26\n",
       "4  bd8e56507781dbc93fbb8a08e8d441b8d64f78a52affec...            25"
      ]
     },
     "execution_count": 30,
     "metadata": {},
     "output_type": "execute_result"
    }
   ],
   "source": [
    "# Cantidad de viajes por taxi\n",
    "num_viajes = df.groupBy(\"Taxi ID\").count().withColumnRenamed(\"count\", \"Total viajes\")\n",
    "\n",
    "# Ordenar por la cantidad de viajes en orden descendente\n",
    "num_viajes = num_viajes.orderBy(\"Total viajes\", ascending=False)\n",
    "\n",
    "num_viajes_df = num_viajes.toPandas()\n",
    "\n",
    "num_viajes_df.head()"
   ]
  },
  {
   "cell_type": "code",
   "execution_count": 31,
   "metadata": {
    "tags": []
   },
   "outputs": [
    {
     "data": {
      "text/plain": [
       "<Figure size 640x480 with 0 Axes>"
      ]
     },
     "metadata": {},
     "output_type": "display_data"
    },
    {
     "data": {
      "image/png": "[encoded data removed]",
      "text/plain": [
       "<Figure size 640x480 with 1 Axes>"
      ]
     },
     "metadata": {},
     "output_type": "display_data"
    }
   ],
   "source": [
    "plt.figure()\n",
    "num_viajes_df.plot(kind=\"bar\", color=\"navy\")\n",
    "plt.title(\"Número de Viajes\")\n",
    "plt.xlabel(\"Taxi\")\n",
    "plt.ylabel(\"Cantidad de Viajes\")\n",
    "plt.grid(axis=\"y\", linestyle=\"--\", alpha=0.7)\n",
    "plt.xticks([])\n",
    "plt.show()"
   ]
  },
  {
   "cell_type": "markdown",
   "metadata": {
    "tags": []
   },
   "source": [
    "**Hipótesis**\n",
    "\n",
    "Es posible que aquellos táxistas que tienen más tiempo, son lo que tienen más viajes, y aquellos con menos viajes son los taxistas que van iniciando"
   ]
  },
  {
   "cell_type": "markdown",
   "metadata": {
    "tags": []
   },
   "source": [
    "**Taxista con más viajes en el tiempo**"
   ]
  },
  {
   "cell_type": "code",
   "execution_count": 32,
   "metadata": {
    "tags": []
   },
   "outputs": [],
   "source": [
    "from pyspark.sql.functions import month, year, col\n",
    "\n",
    "# Obtener el Taxi ID con más viajes\n",
    "taxista_top1_viajes = num_viajes.first()[\"Taxi ID\"]\n",
    "\n",
    "# Filtrar el DataFrame para el taxi con más viajes\n",
    "taxista_df_masviajes = df.filter(F.col(\"Taxi ID\") == taxista_top1_viajes)\n",
    "\n",
    "# Extraer el año y el mes de \"Trip Start Timestamp\" y contar los viajes por mes\n",
    "trips_by_month = (\n",
    "    taxista_df_masviajes.groupBy(\n",
    "        year(\"Trip Start Timestamp\").alias(\"Año\"),\n",
    "        month(\"Trip Start Timestamp\").alias(\"Mes\"),\n",
    "    )\n",
    "    .agg(F.count(\"Trip ID\").alias(\"Total Viajes\"))\n",
    "    .orderBy(\"Año\", \"Mes\")\n",
    ")"
   ]
  },
  {
   "cell_type": "code",
   "execution_count": 33,
   "metadata": {
    "tags": []
   },
   "outputs": [],
   "source": [
    "trips_by_month_df = trips_by_month.toPandas()\n",
    "trips_by_month_df[\"Dia\"] = 1\n",
    "trips_by_month_df[\"fecha\"] = (\n",
    "    trips_by_month_df[\"Año\"].astype(str)\n",
    "    + \"-\"\n",
    "    + trips_by_month_df[\"Mes\"].astype(str).str.zfill(2)\n",
    "    + \"-\"\n",
    "    + trips_by_month_df[\"Dia\"].astype(str).str.zfill(2)\n",
    ")"
   ]
  },
  {
   "cell_type": "code",
   "execution_count": 34,
   "metadata": {
    "tags": []
   },
   "outputs": [
    {
     "data": {
      "image/png": "[encoded data removed]",
      "text/plain": [
       "<Figure size 1000x600 with 1 Axes>"
      ]
     },
     "metadata": {},
     "output_type": "display_data"
    }
   ],
   "source": [
    "plt.figure(figsize=(10, 6))\n",
    "plt.plot(\n",
    "    trips_by_month_df[\"fecha\"],\n",
    "    trips_by_month_df[\"Total Viajes\"],\n",
    "    marker=\"o\",\n",
    "    linestyle=\"-\",\n",
    ")\n",
    "plt.title(\"Número de Viajes a Través del Tiempo\")\n",
    "plt.xlabel(\"Fecha\")\n",
    "plt.ylabel(\"Total Viajes\")\n",
    "plt.xticks(rotation=45)\n",
    "plt.grid()\n",
    "plt.tight_layout()\n",
    "plt.show()"
   ]
  },
  {
   "cell_type": "markdown",
   "metadata": {},
   "source": [
    "**Taxista con menos viajes en el tiempo**"
   ]
  },
  {
   "cell_type": "code",
   "execution_count": 35,
   "metadata": {
    "tags": []
   },
   "outputs": [],
   "source": [
    "# Obtener el Taxi ID con menos viajes\n",
    "taxista_notop_viajes = num_viajes.orderBy(\"Total viajes\", ascending=True).first()[\n",
    "    \"Taxi ID\"\n",
    "]\n",
    "taxista_df_menosviajes = df.filter(F.col(\"Taxi ID\") == taxista_notop_viajes)\n",
    "trips_by_month = (\n",
    "    taxista_df_menosviajes.groupBy(\n",
    "        year(\"Trip Start Timestamp\").alias(\"Año\"),\n",
    "        month(\"Trip Start Timestamp\").alias(\"Mes\"),\n",
    "    )\n",
    "    .agg(F.count(\"Trip ID\").alias(\"Total Viajes\"))\n",
    "    .orderBy(\"Año\", \"Mes\")\n",
    ")"
   ]
  },
  {
   "cell_type": "code",
   "execution_count": 36,
   "metadata": {
    "tags": []
   },
   "outputs": [],
   "source": [
    "trips_by_month_df = trips_by_month.toPandas()\n",
    "trips_by_month_df[\"Dia\"] = 1\n",
    "trips_by_month_df[\"fecha\"] = (\n",
    "    trips_by_month_df[\"Año\"].astype(str)\n",
    "    + \"-\"\n",
    "    + trips_by_month_df[\"Mes\"].astype(str).str.zfill(2)\n",
    "    + \"-\"\n",
    "    + trips_by_month_df[\"Dia\"].astype(str).str.zfill(2)\n",
    ")"
   ]
  },
  {
   "cell_type": "code",
   "execution_count": 37,
   "metadata": {
    "tags": []
   },
   "outputs": [
    {
     "data": {
      "image/png": "[encoded data removed]",
      "text/plain": [
       "<Figure size 1000x600 with 1 Axes>"
      ]
     },
     "metadata": {},
     "output_type": "display_data"
    }
   ],
   "source": [
    "# Graficar\n",
    "\n",
    "trips_by_month_df = trips_by_month_df.sort_values(\"fecha\")\n",
    "\n",
    "plt.figure(figsize=(10, 6))\n",
    "plt.plot(\n",
    "    trips_by_month_df[\"fecha\"],\n",
    "    trips_by_month_df[\"Total Viajes\"],\n",
    "    marker=\"o\",\n",
    "    linestyle=\"-\",\n",
    ")\n",
    "plt.title(\"Número de Viajes a Través del Tiempo\")\n",
    "plt.xlabel(\"Fecha\")\n",
    "plt.ylabel(\"Total Viajes\")\n",
    "plt.xticks(rotation=45)\n",
    "plt.grid()\n",
    "plt.tight_layout()\n",
    "plt.show()"
   ]
  },
  {
   "cell_type": "markdown",
   "metadata": {},
   "source": [
    "Confirmamos que el taxista que tiene más viajes, lleva trabajando desde 2023, y el taxista con menos viajes solo trabajo un día. "
   ]
  },
  {
   "cell_type": "markdown",
   "metadata": {},
   "source": [
    "### ¿En qué áreas se registran más inicios/descensos de viajes?\n",
    "\n",
    "Es posible que las zonas más demandadas sean aquellas con mayor cantidad concentraciónde personas, como aeropuertos o centro de la ciudad. "
   ]
  },
  {
   "cell_type": "code",
   "execution_count": 38,
   "metadata": {
    "tags": []
   },
   "outputs": [
    {
     "name": "stdout",
     "output_type": "stream",
     "text": [
      "+---------------------+-----+\n",
      "|Pickup Community Area|count|\n",
      "+---------------------+-----+\n",
      "|                    8| 2053|\n",
      "|                   32| 1741|\n",
      "|                   28| 1415|\n",
      "|                   76| 1073|\n",
      "|                 NULL|  579|\n",
      "+---------------------+-----+\n",
      "\n"
     ]
    }
   ],
   "source": [
    "top_5_pickup_areas = (\n",
    "    df.groupBy(\"Pickup Community Area\")\n",
    "    .count()\n",
    "    .orderBy(\"count\", ascending=False)\n",
    "    .limit(5)\n",
    ")\n",
    "\n",
    "# Mostrar los resultados\n",
    "top_5_pickup_areas.show()"
   ]
  },
  {
   "cell_type": "code",
   "execution_count": 39,
   "metadata": {
    "tags": []
   },
   "outputs": [
    {
     "data": {
      "image/png": "[encoded data removed]",
      "text/plain": [
       "<Figure size 2000x600 with 1 Axes>"
      ]
     },
     "metadata": {},
     "output_type": "display_data"
    }
   ],
   "source": [
    "top_5_pickup_areas_df = top_5_pickup_areas.toPandas()\n",
    "\n",
    "plt.figure(figsize=(20, 6))\n",
    "sns.barplot(x=\"Pickup Community Area\", y=\"count\", data=top_5_pickup_areas_df)\n",
    "plt.title(\"Demanda de Taxis por zona\")\n",
    "plt.xticks(rotation=45)\n",
    "plt.show()"
   ]
  },
  {
   "cell_type": "markdown",
   "metadata": {},
   "source": [
    "Las zonas con mayor zonas de **recolección** de pasajeros son: \n",
    "- 8 correspone a Near North que es parte del centro de Chicago\n",
    "- 76 es O\"Hare donde se ubica el Aeropuerto Internacional O\"Hare\n",
    "- 32 es Loop, que es parte del centro de Chicago\n",
    "- 28 es Near West Side\n",
    "- 56 es Garfield Ridge se ubica el Aeropuerto Internacional Midway"
   ]
  },
  {
   "cell_type": "code",
   "execution_count": 40,
   "metadata": {
    "tags": []
   },
   "outputs": [
    {
     "name": "stdout",
     "output_type": "stream",
     "text": [
      "+----------------------+-----+\n",
      "|Dropoff Community Area|count|\n",
      "+----------------------+-----+\n",
      "|                     8| 2138|\n",
      "|                    32| 2120|\n",
      "|                    28| 1163|\n",
      "|                    76|  504|\n",
      "|                     6|  359|\n",
      "+----------------------+-----+\n",
      "\n"
     ]
    }
   ],
   "source": [
    "top_5_dropoff_areas = (\n",
    "    df.filter(F.col(\"Dropoff Community Area\").isNotNull())\n",
    "    .groupBy(\"Dropoff Community Area\")\n",
    "    .count()\n",
    "    .orderBy(\"count\", ascending=False)\n",
    "    .limit(5)\n",
    ")\n",
    "\n",
    "# Mostrar los resultados\n",
    "top_5_dropoff_areas.show()"
   ]
  },
  {
   "cell_type": "markdown",
   "metadata": {},
   "source": [
    "Las zonas de mayor **descenso** de pasajeros coincide con las zonas de mayor ascenso de pasajeros"
   ]
  },
  {
   "cell_type": "code",
   "execution_count": 41,
   "metadata": {
    "tags": []
   },
   "outputs": [
    {
     "data": {
      "image/png": "[encoded data removed]",
      "text/plain": [
       "<Figure size 2000x600 with 1 Axes>"
      ]
     },
     "metadata": {},
     "output_type": "display_data"
    }
   ],
   "source": [
    "top_5_dropoff_areas_df = top_5_dropoff_areas.toPandas()\n",
    "\n",
    "plt.figure(figsize=(20, 6))\n",
    "sns.barplot(x=\"Dropoff Community Area\", y=\"count\", data=top_5_dropoff_areas_df)\n",
    "plt.title(\"Demanda de Taxis por zona (Dropoff)\")\n",
    "plt.xticks(rotation=45)\n",
    "plt.show()"
   ]
  },
  {
   "cell_type": "markdown",
   "metadata": {},
   "source": [
    "# 4. Análisis de Outliers"
   ]
  },
  {
   "cell_type": "markdown",
   "metadata": {},
   "source": [
    "### Duración del viaje"
   ]
  },
  {
   "cell_type": "code",
   "execution_count": 42,
   "metadata": {
    "tags": []
   },
   "outputs": [
    {
     "name": "stdout",
     "output_type": "stream",
     "text": [
      "Total de ceros en Trip Seconds: 187\n"
     ]
    }
   ],
   "source": [
    "count_zeros = df.filter(F.col(\"Trip Seconds\") == 0).count()\n",
    "\n",
    "print(f\"Total de ceros en Trip Seconds: {count_zeros}\")"
   ]
  },
  {
   "cell_type": "markdown",
   "metadata": {},
   "source": [
    "Hay viajes con valores igual a 0 en la duración del viaje, que son anómales."
   ]
  },
  {
   "cell_type": "code",
   "execution_count": 43,
   "metadata": {
    "tags": []
   },
   "outputs": [
    {
     "data": {
      "image/png": "[encoded data removed]",
      "text/plain": [
       "<Figure size 1000x600 with 1 Axes>"
      ]
     },
     "metadata": {},
     "output_type": "display_data"
    }
   ],
   "source": [
    "plot_histogram(df, \"Trip Seconds\", num_bins=15)"
   ]
  },
  {
   "cell_type": "code",
   "execution_count": 44,
   "metadata": {
    "tags": []
   },
   "outputs": [
    {
     "data": {
      "image/png": "[encoded data removed]",
      "text/plain": [
       "<Figure size 800x600 with 1 Axes>"
      ]
     },
     "metadata": {},
     "output_type": "display_data"
    }
   ],
   "source": [
    "create_box_plot(df, \"Trip Seconds\")"
   ]
  },
  {
   "cell_type": "code",
   "execution_count": 45,
   "metadata": {
    "tags": []
   },
   "outputs": [
    {
     "name": "stdout",
     "output_type": "stream",
     "text": [
      "El valor del percentil 99 para \"Trip Seconds\" es: 64,893.0\n"
     ]
    }
   ],
   "source": [
    "trip_seconds_percentiles_df = calculate_trip_seconds_percentiles(df, \"Trip Seconds\")\n",
    "percentile_99 = trip_seconds_percentiles_df[\n",
    "    trip_seconds_percentiles_df[\"Percentiles\"] == 0.99\n",
    "][\"Trip Seconds\"].iloc[0]\n",
    "print(f\"El valor del percentil 99 para \\\"Trip Seconds\\\" es: {percentile_99:,}\")"
   ]
  },
  {
   "cell_type": "markdown",
   "metadata": {},
   "source": [
    "**Filtrando para viajes válidos**"
   ]
  },
  {
   "cell_type": "code",
   "execution_count": 46,
   "metadata": {
    "tags": []
   },
   "outputs": [],
   "source": [
    "df = df.filter((F.col(\"Trip Seconds\") > 0) & (F.col(\"Trip Seconds\") < percentile_99))"
   ]
  },
  {
   "cell_type": "markdown",
   "metadata": {},
   "source": [
    "### Fare, Tips, Tolls, Extras"
   ]
  },
  {
   "cell_type": "code",
   "execution_count": 47,
   "metadata": {
    "tags": []
   },
   "outputs": [
    {
     "name": "stderr",
     "output_type": "stream",
     "text": [
      "                                                                                \r"
     ]
    },
    {
     "data": {
      "image/png": "[encoded data removed]",
      "text/plain": [
       "<Figure size 1200x800 with 1 Axes>"
      ]
     },
     "metadata": {},
     "output_type": "display_data"
    }
   ],
   "source": [
    "create_boxplot(df, [\"Fare\", \"Tips\", \"Tolls\", \"Extras\"], title=\"Fare\")"
   ]
  },
  {
   "cell_type": "code",
   "execution_count": 48,
   "metadata": {
    "tags": []
   },
   "outputs": [
    {
     "data": {
      "text/html": [
       "<div>\n",
       "<style scoped>\n",
       "    .dataframe tbody tr th:only-of-type {\n",
       "        vertical-align: middle;\n",
       "    }\n",
       "\n",
       "    .dataframe tbody tr th {\n",
       "        vertical-align: top;\n",
       "    }\n",
       "\n",
       "    .dataframe thead th {\n",
       "        text-align: right;\n",
       "    }\n",
       "</style>\n",
       "<table border=\"1\" class=\"dataframe\">\n",
       "  <thead>\n",
       "    <tr style=\"text-align: right;\">\n",
       "      <th></th>\n",
       "      <th>feature</th>\n",
       "      <th>count</th>\n",
       "      <th>%</th>\n",
       "    </tr>\n",
       "  </thead>\n",
       "  <tbody>\n",
       "    <tr>\n",
       "      <th>0</th>\n",
       "      <td>Fare</td>\n",
       "      <td>10</td>\n",
       "      <td>0.102030</td>\n",
       "    </tr>\n",
       "    <tr>\n",
       "      <th>1</th>\n",
       "      <td>Tips</td>\n",
       "      <td>5005</td>\n",
       "      <td>51.066218</td>\n",
       "    </tr>\n",
       "    <tr>\n",
       "      <th>2</th>\n",
       "      <td>Tolls</td>\n",
       "      <td>9787</td>\n",
       "      <td>99.857157</td>\n",
       "    </tr>\n",
       "    <tr>\n",
       "      <th>3</th>\n",
       "      <td>Extras</td>\n",
       "      <td>7532</td>\n",
       "      <td>76.849301</td>\n",
       "    </tr>\n",
       "  </tbody>\n",
       "</table>\n",
       "</div>"
      ],
      "text/plain": [
       "  feature  count          %\n",
       "0    Fare     10   0.102030\n",
       "1    Tips   5005  51.066218\n",
       "2   Tolls   9787  99.857157\n",
       "3  Extras   7532  76.849301"
      ]
     },
     "execution_count": 48,
     "metadata": {},
     "output_type": "execute_result"
    }
   ],
   "source": [
    "results = []\n",
    "for column in [\"Fare\", \"Tips\", \"Tolls\", \"Extras\"]:\n",
    "    count_zeros = df.filter(df[column] == 0).count()\n",
    "    total_count = df.count()\n",
    "    percentage = (count_zeros / total_count) * 100 if total_count > 0 else 0\n",
    "    results.append((column, count_zeros, percentage))\n",
    "\n",
    "results_df = pd.DataFrame(results, columns=[\"feature\", \"count\", \"%\"])\n",
    "\n",
    "results_df"
   ]
  },
  {
   "cell_type": "markdown",
   "metadata": {},
   "source": [
    "### TODO: Análisis de cantidad de ceros"
   ]
  },
  {
   "cell_type": "markdown",
   "metadata": {},
   "source": [
    "### Fare (Tarifa)"
   ]
  },
  {
   "cell_type": "code",
   "execution_count": 49,
   "metadata": {
    "tags": []
   },
   "outputs": [
    {
     "name": "stdout",
     "output_type": "stream",
     "text": [
      "Cantidad de outliers: 132\n",
      "Porcentaje de outliers: 1.35 %\n"
     ]
    }
   ],
   "source": [
    "_ = calculate_outliers(df, \"Fare\")"
   ]
  },
  {
   "cell_type": "markdown",
   "metadata": {},
   "source": [
    "Análisis de comportamiento para aquellos valores por debajo de la tarifa mínimca de $3.25"
   ]
  },
  {
   "cell_type": "code",
   "execution_count": 50,
   "metadata": {
    "tags": []
   },
   "outputs": [
    {
     "data": {
      "text/html": [
       "<div>\n",
       "<style scoped>\n",
       "    .dataframe tbody tr th:only-of-type {\n",
       "        vertical-align: middle;\n",
       "    }\n",
       "\n",
       "    .dataframe tbody tr th {\n",
       "        vertical-align: top;\n",
       "    }\n",
       "\n",
       "    .dataframe thead th {\n",
       "        text-align: right;\n",
       "    }\n",
       "</style>\n",
       "<table border=\"1\" class=\"dataframe\">\n",
       "  <thead>\n",
       "    <tr style=\"text-align: right;\">\n",
       "      <th></th>\n",
       "      <th>summary</th>\n",
       "      <th>Trip ID</th>\n",
       "      <th>Taxi ID</th>\n",
       "      <th>Trip Seconds</th>\n",
       "      <th>Trip Miles</th>\n",
       "      <th>Pickup Community Area</th>\n",
       "      <th>Dropoff Community Area</th>\n",
       "      <th>Fare</th>\n",
       "      <th>Tips</th>\n",
       "      <th>Tolls</th>\n",
       "      <th>Extras</th>\n",
       "      <th>Trip Total</th>\n",
       "      <th>Payment Type</th>\n",
       "      <th>Company</th>\n",
       "      <th>Pickup Centroid Latitude</th>\n",
       "      <th>Pickup Centroid Longitude</th>\n",
       "      <th>Pickup Centroid Location</th>\n",
       "      <th>Dropoff Centroid Latitude</th>\n",
       "      <th>Dropoff Centroid Longitude</th>\n",
       "      <th>Dropoff Centroid  Location</th>\n",
       "    </tr>\n",
       "  </thead>\n",
       "  <tbody>\n",
       "    <tr>\n",
       "      <th>0</th>\n",
       "      <td>count</td>\n",
       "      <td>10</td>\n",
       "      <td>10</td>\n",
       "      <td>10</td>\n",
       "      <td>10</td>\n",
       "      <td>10</td>\n",
       "      <td>9</td>\n",
       "      <td>10</td>\n",
       "      <td>10</td>\n",
       "      <td>10</td>\n",
       "      <td>10</td>\n",
       "      <td>10</td>\n",
       "      <td>10</td>\n",
       "      <td>10</td>\n",
       "      <td>10</td>\n",
       "      <td>10</td>\n",
       "      <td>10</td>\n",
       "      <td>9</td>\n",
       "      <td>9</td>\n",
       "      <td>9</td>\n",
       "    </tr>\n",
       "    <tr>\n",
       "      <th>1</th>\n",
       "      <td>mean</td>\n",
       "      <td>None</td>\n",
       "      <td>None</td>\n",
       "      <td>1146.0</td>\n",
       "      <td>5.453999960422516</td>\n",
       "      <td>28.7</td>\n",
       "      <td>30.88888888888889</td>\n",
       "      <td>0.0</td>\n",
       "      <td>0.0</td>\n",
       "      <td>0.0</td>\n",
       "      <td>0.0</td>\n",
       "      <td>0.0</td>\n",
       "      <td>None</td>\n",
       "      <td>None</td>\n",
       "      <td>41.8745915122</td>\n",
       "      <td>-87.6703577933</td>\n",
       "      <td>None</td>\n",
       "      <td>41.88387912266666</td>\n",
       "      <td>-87.65607405055556</td>\n",
       "      <td>None</td>\n",
       "    </tr>\n",
       "    <tr>\n",
       "      <th>2</th>\n",
       "      <td>stddev</td>\n",
       "      <td>None</td>\n",
       "      <td>None</td>\n",
       "      <td>1119.2925344956866</td>\n",
       "      <td>6.089161984085778</td>\n",
       "      <td>23.471259020342305</td>\n",
       "      <td>23.93973916130063</td>\n",
       "      <td>0.0</td>\n",
       "      <td>0.0</td>\n",
       "      <td>0.0</td>\n",
       "      <td>0.0</td>\n",
       "      <td>0.0</td>\n",
       "      <td>None</td>\n",
       "      <td>None</td>\n",
       "      <td>0.05137314469932738</td>\n",
       "      <td>0.05057353114306187</td>\n",
       "      <td>None</td>\n",
       "      <td>0.0507987030949666</td>\n",
       "      <td>0.03126725026041317</td>\n",
       "      <td>None</td>\n",
       "    </tr>\n",
       "    <tr>\n",
       "      <th>3</th>\n",
       "      <td>min</td>\n",
       "      <td>1049944fe3c51be9feb6bb9d95d546b01a7a9d4c</td>\n",
       "      <td>1095c5432cb9cfd88296fb166e38d560936d4690801ddd...</td>\n",
       "      <td>1</td>\n",
       "      <td>0.0</td>\n",
       "      <td>19</td>\n",
       "      <td>24</td>\n",
       "      <td>0.0</td>\n",
       "      <td>0.0</td>\n",
       "      <td>0.0</td>\n",
       "      <td>0.0</td>\n",
       "      <td>0.0</td>\n",
       "      <td>Cash</td>\n",
       "      <td>Chicago Independents</td>\n",
       "      <td>41.769778059</td>\n",
       "      <td>-87.619710672</td>\n",
       "      <td>POINT (-87.6197106717 41.8950334495)</td>\n",
       "      <td>41.80908443</td>\n",
       "      <td>-87.619710672</td>\n",
       "      <td>POINT (-87.6197106717 41.8950334495)</td>\n",
       "    </tr>\n",
       "    <tr>\n",
       "      <th>4</th>\n",
       "      <td>max</td>\n",
       "      <td>f1336d49059bb2e226dfdc0dc8b16a6ec35f9dfb</td>\n",
       "      <td>e1d51d08cb24e771a915f9058577f158307344815ca309...</td>\n",
       "      <td>3589</td>\n",
       "      <td>18.43</td>\n",
       "      <td>8</td>\n",
       "      <td>8</td>\n",
       "      <td>0.0</td>\n",
       "      <td>0.0</td>\n",
       "      <td>0.0</td>\n",
       "      <td>0.0</td>\n",
       "      <td>0.0</td>\n",
       "      <td>Cash</td>\n",
       "      <td>Globe Taxi</td>\n",
       "      <td>41.927260956</td>\n",
       "      <td>-87.765501609</td>\n",
       "      <td>POINT (-87.7655016086 41.9272609555)</td>\n",
       "      <td>41.9867118</td>\n",
       "      <td>-87.7172201</td>\n",
       "      <td>POINT (-87.7172201 41.8601900192)</td>\n",
       "    </tr>\n",
       "  </tbody>\n",
       "</table>\n",
       "</div>"
      ],
      "text/plain": [
       "  summary                                   Trip ID                                            Taxi ID        Trip Seconds         Trip Miles Pickup Community Area Dropoff Community Area Fare Tips Tolls Extras Trip Total Payment Type               Company Pickup Centroid Latitude Pickup Centroid Longitude              Pickup Centroid Location Dropoff Centroid Latitude Dropoff Centroid Longitude            Dropoff Centroid  Location\n",
       "0   count                                        10                                                 10                  10                 10                    10                      9   10   10    10     10         10           10                    10                       10                        10                                    10                         9                          9                                     9\n",
       "1    mean                                      None                                               None              1146.0  5.453999960422516                  28.7      30.88888888888889  0.0  0.0   0.0    0.0        0.0         None                  None            41.8745915122            -87.6703577933                                  None         41.88387912266666         -87.65607405055556                                  None\n",
       "2  stddev                                      None                                               None  1119.2925344956866  6.089161984085778    23.471259020342305      23.93973916130063  0.0  0.0   0.0    0.0        0.0         None                  None      0.05137314469932738       0.05057353114306187                                  None        0.0507987030949666        0.03126725026041317                                  None\n",
       "3     min  1049944fe3c51be9feb6bb9d95d546b01a7a9d4c  1095c5432cb9cfd88296fb166e38d560936d4690801ddd...                   1                0.0                    19                     24  0.0  0.0   0.0    0.0        0.0         Cash  Chicago Independents             41.769778059             -87.619710672  POINT (-87.6197106717 41.8950334495)               41.80908443              -87.619710672  POINT (-87.6197106717 41.8950334495)\n",
       "4     max  f1336d49059bb2e226dfdc0dc8b16a6ec35f9dfb  e1d51d08cb24e771a915f9058577f158307344815ca309...                3589              18.43                     8                      8  0.0  0.0   0.0    0.0        0.0         Cash            Globe Taxi             41.927260956             -87.765501609  POINT (-87.7655016086 41.9272609555)                41.9867118                -87.7172201     POINT (-87.7172201 41.8601900192)"
      ]
     },
     "execution_count": 50,
     "metadata": {},
     "output_type": "execute_result"
    }
   ],
   "source": [
    "df[df[\"Fare\"] < 3.25].describe().toPandas()"
   ]
  },
  {
   "cell_type": "markdown",
   "metadata": {},
   "source": [
    "### TODO: Análisis de Fare menor a 3.25"
   ]
  },
  {
   "cell_type": "markdown",
   "metadata": {},
   "source": [
    "Se acotará el dataFrame para limitar la tarifa a partir de $3.25 para ajustar los cobros a la tarifa base."
   ]
  },
  {
   "cell_type": "code",
   "execution_count": 51,
   "metadata": {
    "tags": []
   },
   "outputs": [],
   "source": [
    "df = df[df[\"Fare\"] >= 3.25]"
   ]
  },
  {
   "cell_type": "markdown",
   "metadata": {},
   "source": [
    "### Análisis con unidad muestral taxi"
   ]
  },
  {
   "cell_type": "code",
   "execution_count": 52,
   "metadata": {
    "tags": []
   },
   "outputs": [
    {
     "name": "stdout",
     "output_type": "stream",
     "text": [
      "Cantidad de outliers: 132\n",
      "Porcentaje de outliers: 1.35 %\n"
     ]
    },
    {
     "data": {
      "text/html": [
       "<div>\n",
       "<style scoped>\n",
       "    .dataframe tbody tr th:only-of-type {\n",
       "        vertical-align: middle;\n",
       "    }\n",
       "\n",
       "    .dataframe tbody tr th {\n",
       "        vertical-align: top;\n",
       "    }\n",
       "\n",
       "    .dataframe thead th {\n",
       "        text-align: right;\n",
       "    }\n",
       "</style>\n",
       "<table border=\"1\" class=\"dataframe\">\n",
       "  <thead>\n",
       "    <tr style=\"text-align: right;\">\n",
       "      <th></th>\n",
       "      <th>summary</th>\n",
       "      <th>Trip ID</th>\n",
       "      <th>Taxi ID</th>\n",
       "      <th>Trip Seconds</th>\n",
       "      <th>Trip Miles</th>\n",
       "      <th>Pickup Community Area</th>\n",
       "      <th>Dropoff Community Area</th>\n",
       "      <th>Fare</th>\n",
       "      <th>Tips</th>\n",
       "      <th>Tolls</th>\n",
       "      <th>Extras</th>\n",
       "      <th>Trip Total</th>\n",
       "      <th>Payment Type</th>\n",
       "      <th>Company</th>\n",
       "      <th>Pickup Centroid Latitude</th>\n",
       "      <th>Pickup Centroid Longitude</th>\n",
       "      <th>Pickup Centroid Location</th>\n",
       "      <th>Dropoff Centroid Latitude</th>\n",
       "      <th>Dropoff Centroid Longitude</th>\n",
       "      <th>Dropoff Centroid  Location</th>\n",
       "    </tr>\n",
       "  </thead>\n",
       "  <tbody>\n",
       "    <tr>\n",
       "      <th>0</th>\n",
       "      <td>count</td>\n",
       "      <td>132</td>\n",
       "      <td>132</td>\n",
       "      <td>132</td>\n",
       "      <td>132</td>\n",
       "      <td>94</td>\n",
       "      <td>62</td>\n",
       "      <td>132</td>\n",
       "      <td>132</td>\n",
       "      <td>132</td>\n",
       "      <td>132</td>\n",
       "      <td>132</td>\n",
       "      <td>132</td>\n",
       "      <td>132</td>\n",
       "      <td>94</td>\n",
       "      <td>94</td>\n",
       "      <td>94</td>\n",
       "      <td>62</td>\n",
       "      <td>62</td>\n",
       "      <td>62</td>\n",
       "    </tr>\n",
       "    <tr>\n",
       "      <th>1</th>\n",
       "      <td>mean</td>\n",
       "      <td>None</td>\n",
       "      <td>None</td>\n",
       "      <td>3707.030303030303</td>\n",
       "      <td>26.046287842066675</td>\n",
       "      <td>55.45744680851064</td>\n",
       "      <td>47.403225806451616</td>\n",
       "      <td>84.41643954768325</td>\n",
       "      <td>6.5054546052759346</td>\n",
       "      <td>0.04431818109570128</td>\n",
       "      <td>10.149621212121213</td>\n",
       "      <td>101.31659082932906</td>\n",
       "      <td>None</td>\n",
       "      <td>None</td>\n",
       "      <td>41.89273408409576</td>\n",
       "      <td>-87.77183211976593</td>\n",
       "      <td>None</td>\n",
       "      <td>41.87293798517743</td>\n",
       "      <td>-87.71744655383871</td>\n",
       "      <td>None</td>\n",
       "    </tr>\n",
       "    <tr>\n",
       "      <th>2</th>\n",
       "      <td>stddev</td>\n",
       "      <td>None</td>\n",
       "      <td>None</td>\n",
       "      <td>5969.162812832099</td>\n",
       "      <td>24.46546376143441</td>\n",
       "      <td>24.72979348648583</td>\n",
       "      <td>25.34642580126427</td>\n",
       "      <td>45.88710574391443</td>\n",
       "      <td>12.031910871665072</td>\n",
       "      <td>0.5091771353697466</td>\n",
       "      <td>18.28106630783904</td>\n",
       "      <td>52.242896392116776</td>\n",
       "      <td>None</td>\n",
       "      <td>None</td>\n",
       "      <td>0.10472590962376108</td>\n",
       "      <td>0.1338089574793194</td>\n",
       "      <td>None</td>\n",
       "      <td>0.10337458530767515</td>\n",
       "      <td>0.1259293576038386</td>\n",
       "      <td>None</td>\n",
       "    </tr>\n",
       "    <tr>\n",
       "      <th>3</th>\n",
       "      <td>min</td>\n",
       "      <td>01c1f7d44dbb70226fba9fe7944d45ed4d28247d</td>\n",
       "      <td>02829774801528933cdce279a9ebc9dbab805ccd5e5b52...</td>\n",
       "      <td>2</td>\n",
       "      <td>0.0</td>\n",
       "      <td>1</td>\n",
       "      <td>1</td>\n",
       "      <td>63.0</td>\n",
       "      <td>0.0</td>\n",
       "      <td>0.0</td>\n",
       "      <td>0.0</td>\n",
       "      <td>63.25</td>\n",
       "      <td>Cash</td>\n",
       "      <td>5 Star Taxi</td>\n",
       "      <td>41.660136051</td>\n",
       "      <td>-87.551428197</td>\n",
       "      <td>POINT (-87.551428197 41.7412427285)</td>\n",
       "      <td>41.689729914</td>\n",
       "      <td>-87.572717134</td>\n",
       "      <td>POINT (-87.5727171342 41.7296764229)</td>\n",
       "    </tr>\n",
       "    <tr>\n",
       "      <th>4</th>\n",
       "      <td>max</td>\n",
       "      <td>ff1e338ed719b4d4aae4c610d0c082fe9cd2b8b3</td>\n",
       "      <td>ff60dabe17243a25435dcaf430a8b31615374bfc6be841...</td>\n",
       "      <td>62596</td>\n",
       "      <td>192.44</td>\n",
       "      <td>8</td>\n",
       "      <td>8</td>\n",
       "      <td>439.25</td>\n",
       "      <td>75.0</td>\n",
       "      <td>5.85</td>\n",
       "      <td>72.0</td>\n",
       "      <td>447.75</td>\n",
       "      <td>Unknown</td>\n",
       "      <td>U Taxicab</td>\n",
       "      <td>42.009622881</td>\n",
       "      <td>-87.913624596</td>\n",
       "      <td>POINT (-87.913624596 41.9802643146)</td>\n",
       "      <td>42.009622881</td>\n",
       "      <td>-87.913624596</td>\n",
       "      <td>POINT (-87.913624596 41.9802643146)</td>\n",
       "    </tr>\n",
       "  </tbody>\n",
       "</table>\n",
       "</div>"
      ],
      "text/plain": [
       "  summary                                   Trip ID                                            Taxi ID       Trip Seconds          Trip Miles Pickup Community Area Dropoff Community Area               Fare                Tips                Tolls              Extras          Trip Total Payment Type      Company Pickup Centroid Latitude Pickup Centroid Longitude             Pickup Centroid Location Dropoff Centroid Latitude Dropoff Centroid Longitude            Dropoff Centroid  Location\n",
       "0   count                                       132                                                132                132                 132                    94                     62                132                 132                  132                 132                 132          132          132                       94                        94                                   94                        62                         62                                    62\n",
       "1    mean                                      None                                               None  3707.030303030303  26.046287842066675     55.45744680851064     47.403225806451616  84.41643954768325  6.5054546052759346  0.04431818109570128  10.149621212121213  101.31659082932906         None         None        41.89273408409576        -87.77183211976593                                 None         41.87293798517743         -87.71744655383871                                  None\n",
       "2  stddev                                      None                                               None  5969.162812832099   24.46546376143441     24.72979348648583      25.34642580126427  45.88710574391443  12.031910871665072   0.5091771353697466   18.28106630783904  52.242896392116776         None         None      0.10472590962376108        0.1338089574793194                                 None       0.10337458530767515         0.1259293576038386                                  None\n",
       "3     min  01c1f7d44dbb70226fba9fe7944d45ed4d28247d  02829774801528933cdce279a9ebc9dbab805ccd5e5b52...                  2                 0.0                     1                      1               63.0                 0.0                  0.0                 0.0               63.25         Cash  5 Star Taxi             41.660136051             -87.551428197  POINT (-87.551428197 41.7412427285)              41.689729914              -87.572717134  POINT (-87.5727171342 41.7296764229)\n",
       "4     max  ff1e338ed719b4d4aae4c610d0c082fe9cd2b8b3  ff60dabe17243a25435dcaf430a8b31615374bfc6be841...              62596              192.44                     8                      8             439.25                75.0                 5.85                72.0              447.75      Unknown    U Taxicab             42.009622881             -87.913624596  POINT (-87.913624596 41.9802643146)              42.009622881              -87.913624596   POINT (-87.913624596 41.9802643146)"
      ]
     },
     "execution_count": 52,
     "metadata": {},
     "output_type": "execute_result"
    }
   ],
   "source": [
    "lower_bound, upper_bound = calculate_outliers(df, \"Fare\")\n",
    "fare_outliers = df.filter((F.col(\"Fare\") < lower_bound) | (F.col(\"Fare\") > upper_bound))\n",
    "fare_outliers_df = fare_outliers.describe().toPandas().round(2)\n",
    "fare_outliers_df"
   ]
  },
  {
   "cell_type": "code",
   "execution_count": 53,
   "metadata": {
    "tags": []
   },
   "outputs": [
    {
     "name": "stdout",
     "output_type": "stream",
     "text": [
      "El Taxi ID con la mayor cantidad de outliers es: 48ecd6bfab845390f0d93f88187c67aca1fc91445dd0865f3b08825506917032511ace2686bbcf061044a3b56e501ea409457d38dcb30c954665306d55ced8c6\n"
     ]
    }
   ],
   "source": [
    "# Agrupa por \"Taxi ID\" y suma la cantidad de \"Fare\" en outliers\n",
    "conteo_outliers_por_taxista = fare_outliers.groupBy(\"Taxi ID\").agg(\n",
    "    F.sum(\"Fare\").alias(\"Total Fare\")\n",
    ")\n",
    "\n",
    "# Obtener el \"Taxi ID\" con la suma máxima de \"Fare\"\n",
    "taxista_con_mas_outliers = conteo_outliers_por_taxista.orderBy(\n",
    "    F.desc(\"Total Fare\")\n",
    ").first()[\"Taxi ID\"]\n",
    "\n",
    "print(f\"El Taxi ID con la mayor cantidad de outliers es: {taxista_con_mas_outliers}\")"
   ]
  },
  {
   "cell_type": "code",
   "execution_count": 54,
   "metadata": {
    "tags": []
   },
   "outputs": [
    {
     "data": {
      "text/plain": [
       "<Figure size 1200x600 with 0 Axes>"
      ]
     },
     "metadata": {},
     "output_type": "display_data"
    },
    {
     "data": {
      "image/png": "[encoded data removed]",
      "text/plain": [
       "<Figure size 640x480 with 1 Axes>"
      ]
     },
     "metadata": {},
     "output_type": "display_data"
    }
   ],
   "source": [
    "# Obtener los 10 taxistas con más outliers\n",
    "top_10_taxistas = (\n",
    "    conteo_outliers_por_taxista.orderBy(F.desc(\"Total Fare\")).limit(10).toPandas()\n",
    ")\n",
    "\n",
    "fig = plt.figure(figsize=(12, 6))\n",
    "top_10_taxistas.plot(kind=\"bar\", color=\"skyblue\")\n",
    "\n",
    "plt.title(\"Conteo de Outliers por los 10 Taxistas con más Outliers\")\n",
    "plt.ylabel(\"Conteo de Outliers\")\n",
    "plt.xticks(rotation=90)\n",
    "\n",
    "plt.show()"
   ]
  },
  {
   "cell_type": "code",
   "execution_count": 55,
   "metadata": {
    "tags": []
   },
   "outputs": [
    {
     "data": {
      "image/png": "[encoded data removed]",
      "text/plain": [
       "<Figure size 1200x600 with 1 Axes>"
      ]
     },
     "metadata": {},
     "output_type": "display_data"
    }
   ],
   "source": [
    "# Filtrar el DataFrame para obtener las filas del taxista con más outliers\n",
    "taxista_outliers_df = df.filter(F.col(\"Taxi ID\") == taxista_con_mas_outliers).toPandas()\n",
    "taxista_outliers_df = taxista_outliers_df.sort_values(\"Trip Start Timestamp\")\n",
    "\n",
    "plt.figure(figsize=(12, 6))\n",
    "plt.plot(taxista_outliers_df[\"Trip Start Timestamp\"], taxista_outliers_df[\"Fare\"])\n",
    "plt.title(\"Historial de Taxista anómalo\")\n",
    "plt.xlabel(\"Tiempo\")\n",
    "plt.ylabel(\"Fare\")\n",
    "plt.grid(True)\n",
    "plt.xticks(rotation=45)\n",
    "plt.show()"
   ]
  },
  {
   "cell_type": "markdown",
   "metadata": {},
   "source": [
    "### TODO: Falta análisis "
   ]
  },
  {
   "cell_type": "code",
   "execution_count": 56,
   "metadata": {
    "tags": []
   },
   "outputs": [
    {
     "name": "stdout",
     "output_type": "stream",
     "text": [
      "El valor máximo de Fare en los outliers es: 439.25\n"
     ]
    }
   ],
   "source": [
    "max_fare = fare_outliers.agg(F.max(\"Fare\")).first()[0]\n",
    "print(f\"El valor máximo de Fare en los outliers es: {max_fare}\")"
   ]
  },
  {
   "cell_type": "code",
   "execution_count": 57,
   "metadata": {
    "tags": []
   },
   "outputs": [
    {
     "name": "stdout",
     "output_type": "stream",
     "text": [
      "El Taxi ID anómalo es: 48ecd6bfab845390f0d93f88187c67aca1fc91445dd0865f3b08825506917032511ace2686bbcf061044a3b56e501ea409457d38dcb30c954665306d55ced8c6\n"
     ]
    }
   ],
   "source": [
    "# Filtrar el DataFrame para obtener los registros donde \"Fare\" es mayor o igual a max_fare\n",
    "anomalies_df = df.filter(F.col(\"Fare\") >= max_fare)\n",
    "\n",
    "# Obtener el \"Taxi ID\" y \"Trip ID\" de la primera fila del DataFrame filtrado\n",
    "taxi_anomalo = anomalies_df.select(\"Taxi ID\").first()[\"Taxi ID\"]\n",
    "viaje_anomalo = anomalies_df.select(\"Trip ID\").first()[\"Trip ID\"]\n",
    "\n",
    "# Imprimir el \"Taxi ID\" anómalo\n",
    "print(f\"El Taxi ID anómalo es: {taxi_anomalo}\")"
   ]
  },
  {
   "cell_type": "code",
   "execution_count": 58,
   "metadata": {
    "tags": []
   },
   "outputs": [
    {
     "data": {
      "image/png": "[encoded data removed]",
      "text/plain": [
       "<Figure size 1200x600 with 1 Axes>"
      ]
     },
     "metadata": {},
     "output_type": "display_data"
    }
   ],
   "source": [
    "# Filtrar el DataFrame para obtener los datos del taxista anómalo\n",
    "taxista_data = df.filter(F.col(\"Taxi ID\") == taxi_anomalo)\n",
    "\n",
    "# Convertir las columnas a Pandas para poder graficar\n",
    "taxista_data_pd = taxista_data.toPandas()\n",
    "taxista_data_pd = taxista_data_pd.sort_values(\"Trip Start Timestamp\")\n",
    "\n",
    "# Crear la figura y el gráfico\n",
    "plt.figure(figsize=(12, 6))\n",
    "plt.plot(taxista_data_pd[\"Trip Start Timestamp\"], taxista_data_pd[\"Fare\"])\n",
    "\n",
    "# Configurar el título y las etiquetas\n",
    "plt.title(\"Historial del Taxista\")\n",
    "plt.xlabel(\"Tiempo\")\n",
    "plt.ylabel(\"Fare\")\n",
    "plt.grid(True)\n",
    "plt.xticks(rotation=45)\n",
    "\n",
    "# Mostrar la gráfica\n",
    "plt.show()"
   ]
  },
  {
   "cell_type": "code",
   "execution_count": 59,
   "metadata": {
    "tags": []
   },
   "outputs": [],
   "source": [
    "trip_id_a_eliminar = viaje_anomalo\n",
    "df = df[df[\"Trip ID\"] != trip_id_a_eliminar]"
   ]
  },
  {
   "cell_type": "code",
   "execution_count": 60,
   "metadata": {
    "tags": []
   },
   "outputs": [
    {
     "data": {
      "image/png": "[encoded data removed]",
      "text/plain": [
       "<Figure size 1200x800 with 1 Axes>"
      ]
     },
     "metadata": {},
     "output_type": "display_data"
    }
   ],
   "source": [
    "create_boxplot(df, [\"Fare\", \"Tips\", \"Tolls\", \"Extras\"], title=\"Fare\")"
   ]
  },
  {
   "cell_type": "code",
   "execution_count": 61,
   "metadata": {
    "tags": []
   },
   "outputs": [
    {
     "name": "stdout",
     "output_type": "stream",
     "text": [
      "+-------+------------------+\n",
      "|summary|              Fare|\n",
      "+-------+------------------+\n",
      "|  count|              9790|\n",
      "|   mean|19.181349338184702|\n",
      "| stddev|16.031611444081005|\n",
      "|    min|              3.25|\n",
      "|    25%|              7.25|\n",
      "|    50%|             11.25|\n",
      "|    75%|              30.0|\n",
      "|    max|             346.0|\n",
      "+-------+------------------+\n",
      "\n"
     ]
    }
   ],
   "source": [
    "descripcion = df.select(\"Fare\").summary()\n",
    "descripcion.show()"
   ]
  },
  {
   "cell_type": "code",
   "execution_count": 62,
   "metadata": {
    "tags": []
   },
   "outputs": [
    {
     "name": "stdout",
     "output_type": "stream",
     "text": [
      "Percentiles específicos de 'Fare':\n",
      "Percentil 0.9700: 47.25\n",
      "Percentil 0.9800: 50.0\n",
      "Percentil 0.9997: 346.0\n",
      "Percentil 0.9998: 346.0\n",
      "Percentil 0.9999: 346.0\n"
     ]
    }
   ],
   "source": [
    "calculate_and_print_percentiles(df, \"Fare\")"
   ]
  },
  {
   "cell_type": "markdown",
   "metadata": {},
   "source": [
    "### TODO: Justificar por que dejar Fare < a 200"
   ]
  },
  {
   "cell_type": "code",
   "execution_count": 63,
   "metadata": {
    "tags": []
   },
   "outputs": [],
   "source": [
    "df = df.filter(F.col(\"Fare\") < 200)"
   ]
  },
  {
   "cell_type": "code",
   "execution_count": 64,
   "metadata": {
    "tags": []
   },
   "outputs": [
    {
     "data": {
      "image/png": "[encoded data removed]",
      "text/plain": [
       "<Figure size 1200x800 with 1 Axes>"
      ]
     },
     "metadata": {},
     "output_type": "display_data"
    }
   ],
   "source": [
    "create_boxplot(df, [\"Fare\", \"Tips\", \"Tolls\", \"Extras\"], title=\"Montos\")"
   ]
  },
  {
   "cell_type": "markdown",
   "metadata": {},
   "source": [
    "### Peaje (Tolls)"
   ]
  },
  {
   "cell_type": "code",
   "execution_count": 65,
   "metadata": {
    "tags": []
   },
   "outputs": [
    {
     "name": "stdout",
     "output_type": "stream",
     "text": [
      "Percentiles específicos de 'Tolls':\n",
      "Percentil 0.9700: 0.0\n",
      "Percentil 0.9800: 0.0\n",
      "Percentil 0.9997: 5.849999904632568\n",
      "Percentil 0.9998: 5.849999904632568\n",
      "Percentil 0.9999: 5.849999904632568\n"
     ]
    }
   ],
   "source": [
    "calculate_and_print_percentiles(df, \"Tolls\")"
   ]
  },
  {
   "cell_type": "code",
   "execution_count": 66,
   "metadata": {
    "tags": []
   },
   "outputs": [
    {
     "name": "stdout",
     "output_type": "stream",
     "text": [
      "El número de filas con 'Tolls' >= 100 es: 0\n"
     ]
    }
   ],
   "source": [
    "count = df.filter(df[\"Tolls\"] >= 100).count()\n",
    "print(f\"El número de filas con 'Tolls' >= 100 es: {count}\")"
   ]
  },
  {
   "cell_type": "markdown",
   "metadata": {},
   "source": [
    "El monto máximo que se puede pagar en 'Tolls' es 100, por lo que se filtrarán aquellos registros con un 'Toll' mayor que $100\n",
    "https://ua.getipass.com/trip-calculator"
   ]
  },
  {
   "cell_type": "code",
   "execution_count": 67,
   "metadata": {
    "tags": []
   },
   "outputs": [],
   "source": [
    "df = df.filter(df['Tolls'] < 100)"
   ]
  },
  {
   "cell_type": "markdown",
   "metadata": {},
   "source": [
    "### Extras"
   ]
  },
  {
   "cell_type": "code",
   "execution_count": 68,
   "metadata": {
    "tags": []
   },
   "outputs": [
    {
     "name": "stdout",
     "output_type": "stream",
     "text": [
      "Percentiles específicos de 'Extras':\n",
      "Percentil 0.9900: 99.5\n",
      "Percentil 0.9999: 99.5\n",
      "Percentil 0.9999: 99.5\n",
      "Percentil 1.0000: 99.5\n",
      "Percentil 1.0000: 99.5\n",
      "Percentil 1.0000: 99.5\n"
     ]
    }
   ],
   "source": [
    "calculate_and_print_percentiles(df, \"Extras\", [0.99, 0.99992, 0.99994, 0.99996, 0.99998, 0.99999])"
   ]
  },
  {
   "cell_type": "markdown",
   "metadata": {},
   "source": [
    "En el caso de los extras, al considear la mayor cantidad de pasajeros y gastos de limpieza, no debería exceder arriba de $100 dólares"
   ]
  },
  {
   "cell_type": "code",
   "execution_count": 69,
   "metadata": {
    "tags": []
   },
   "outputs": [],
   "source": [
    "df = df.filter(df['Extras'] < 100)"
   ]
  },
  {
   "cell_type": "markdown",
   "metadata": {},
   "source": [
    "### Revisión final de Outliers"
   ]
  },
  {
   "cell_type": "code",
   "execution_count": 70,
   "metadata": {
    "tags": []
   },
   "outputs": [
    {
     "data": {
      "image/png": "[encoded data removed]",
      "text/plain": [
       "<Figure size 1200x800 with 1 Axes>"
      ]
     },
     "metadata": {},
     "output_type": "display_data"
    }
   ],
   "source": [
    "create_boxplot(df, [\"Fare\", \"Tips\", \"Tolls\", \"Extras\"], title=\"Montos\")"
   ]
  },
  {
   "cell_type": "markdown",
   "metadata": {},
   "source": [
    "# 5. Análisis de Correlación"
   ]
  },
  {
   "cell_type": "code",
   "execution_count": 71,
   "metadata": {
    "tags": []
   },
   "outputs": [
    {
     "name": "stderr",
     "output_type": "stream",
     "text": [
      "                                                                                \r"
     ]
    }
   ],
   "source": [
    "# Combinar columnas en un vector usando VectorAssembler\n",
    "vector_col = \"features\"\n",
    "columns = ['Trip Seconds', 'Trip Miles', 'Fare', 'Tips', 'Tolls', 'Extras', 'Trip Total']\n",
    "assembler = VectorAssembler(inputCols=columns, outputCol=vector_col)\n",
    "df_vector = assembler.transform(df).select(vector_col)\n",
    "\n",
    "# Calcular la matriz de correlación\n",
    "correlation_matrix = Correlation.corr(df_vector, vector_col).head()[0]\n",
    "\n",
    "# Convertir la matriz a un formato legible (numpy o pandas)\n",
    "corr_array = correlation_matrix.toArray()\n",
    "corr_df = pd.DataFrame(corr_array, columns=columns, index=columns)"
   ]
  },
  {
   "cell_type": "code",
   "execution_count": 72,
   "metadata": {
    "tags": []
   },
   "outputs": [
    {
     "data": {
      "image/png": "[encoded data removed]",
      "text/plain": [
       "<Figure size 800x600 with 2 Axes>"
      ]
     },
     "metadata": {},
     "output_type": "display_data"
    }
   ],
   "source": [
    "plot_correlation_matrix(corr_df)"
   ]
  },
  {
   "cell_type": "markdown",
   "metadata": {},
   "source": [
    "### TODO: Análisis de correlación"
   ]
  },
  {
   "cell_type": "markdown",
   "metadata": {
    "tags": []
   },
   "source": [
    "# 6. Imputación de datos"
   ]
  },
  {
   "cell_type": "markdown",
   "metadata": {},
   "source": [
    "**Trip Miles**\n",
    "\n",
    "Se tiene la hipótesis de que la mayoría de los datos para la variable 'Trip Miles' en cero los podríamos recuperar calculando la distancia entre **(Pickup Centroid Latitud-Pickup Centroid Longitude)** y **(Dropoff Centroid Latitude-Dropoff Centroid Longitude)**."
   ]
  },
  {
   "cell_type": "code",
   "execution_count": 73,
   "metadata": {
    "tags": []
   },
   "outputs": [
    {
     "data": {
      "text/html": [
       "<div>\n",
       "<style scoped>\n",
       "    .dataframe tbody tr th:only-of-type {\n",
       "        vertical-align: middle;\n",
       "    }\n",
       "\n",
       "    .dataframe tbody tr th {\n",
       "        vertical-align: top;\n",
       "    }\n",
       "\n",
       "    .dataframe thead th {\n",
       "        text-align: right;\n",
       "    }\n",
       "</style>\n",
       "<table border=\"1\" class=\"dataframe\">\n",
       "  <thead>\n",
       "    <tr style=\"text-align: right;\">\n",
       "      <th></th>\n",
       "      <th>feature</th>\n",
       "      <th>count</th>\n",
       "      <th>%</th>\n",
       "    </tr>\n",
       "  </thead>\n",
       "  <tbody>\n",
       "    <tr>\n",
       "      <th>0</th>\n",
       "      <td>Trip Miles</td>\n",
       "      <td>0</td>\n",
       "      <td>0.0</td>\n",
       "    </tr>\n",
       "  </tbody>\n",
       "</table>\n",
       "</div>"
      ],
      "text/plain": [
       "      feature  count    %\n",
       "0  Trip Miles      0  0.0"
      ]
     },
     "execution_count": 73,
     "metadata": {},
     "output_type": "execute_result"
    }
   ],
   "source": [
    "missings_df[missings_df[\"feature\"] == \"Trip Miles\"]"
   ]
  },
  {
   "cell_type": "code",
   "execution_count": 74,
   "metadata": {
    "tags": []
   },
   "outputs": [
    {
     "name": "stdout",
     "output_type": "stream",
     "text": [
      "Cantidad de registros con 'Trip Miles' igual a cero y con valores diferentes a NaN en ubicaciones: 764\n"
     ]
    }
   ],
   "source": [
    "trip_miles_zero = df.filter(col(\"Trip Miles\") == 0)\n",
    "\n",
    "# Filtrar los datos donde las columnas de ubicación no son NaN\n",
    "filtered_data = trip_miles_zero.filter(\n",
    "    col(\"Pickup Centroid Latitude\").isNotNull() &\n",
    "    col(\"Pickup Centroid Longitude\").isNotNull() &\n",
    "    col(\"Dropoff Centroid Latitude\").isNotNull() &\n",
    "    col(\"Dropoff Centroid Longitude\").isNotNull()\n",
    ")\n",
    "\n",
    "# Contar la cantidad de registros que cumplen con las condiciones\n",
    "count_records = filtered_data.count()\n",
    "print(f\"Cantidad de registros con 'Trip Miles' igual a cero y con valores diferentes a NaN en ubicaciones: {count_records}\")"
   ]
  },
  {
   "cell_type": "code",
   "execution_count": 75,
   "metadata": {
    "tags": []
   },
   "outputs": [
    {
     "data": {
      "image/png": "[encoded data removed]",
      "text/plain": [
       "<Figure size 800x600 with 1 Axes>"
      ]
     },
     "metadata": {},
     "output_type": "display_data"
    }
   ],
   "source": [
    "categorias = ['Registros con Trip Miles = 0 y ubicaciones válidas', 'Registros excluidos']\n",
    "\n",
    "# Cantidad de registros que cumplen con las condiciones y registros excluidos\n",
    "trip_miles_zero_count = trip_miles_zero.count()\n",
    "cantidad_registros = [count_records, trip_miles_zero_count - count_records]\n",
    "\n",
    "# Colores para las barras\n",
    "colores = ['lightblue', 'lightcoral']\n",
    "\n",
    "# Crear el gráfico de barras\n",
    "plt.figure(figsize=(8, 6))\n",
    "plt.bar(categorias, cantidad_registros, color=colores)\n",
    "plt.title('Registros con Trip Miles = 0 y ubicaciones válidas')\n",
    "plt.ylabel('Cantidad de Registros')\n",
    "plt.show()"
   ]
  },
  {
   "cell_type": "markdown",
   "metadata": {},
   "source": [
    "### TODO: Análisis sobre Trip Miles igual a 0"
   ]
  },
  {
   "cell_type": "code",
   "execution_count": 76,
   "metadata": {
    "tags": []
   },
   "outputs": [],
   "source": [
    "# !pip install geopy"
   ]
  },
  {
   "cell_type": "code",
   "execution_count": 77,
   "metadata": {
    "tags": []
   },
   "outputs": [],
   "source": [
    "from pyspark.sql.functions import col, when, udf\n",
    "from geopy.distance import great_circle as GRC\n",
    "\n",
    "# Definir una función para calcular la distancia\n",
    "def calculate_distance(pickup_lat, pickup_lon, dropoff_lat, dropoff_lon):\n",
    "    try:\n",
    "        # Verificar si alguna coordenada es nula\n",
    "        if any(coord is None for coord in [pickup_lat, pickup_lon, dropoff_lat, dropoff_lon]):\n",
    "            return 0.0\n",
    "        # Calcular la distancia\n",
    "        pickup_coords = (pickup_lat, pickup_lon)\n",
    "        dropoff_coords = (dropoff_lat, dropoff_lon)\n",
    "        return GRC(pickup_coords, dropoff_coords).miles\n",
    "    except Exception:\n",
    "        return 0.0\n",
    "\n",
    "# Registrar la función como una UDF (User-Defined Function)\n",
    "calculate_distance_udf = udf(calculate_distance)\n",
    "\n",
    "# Crear una nueva columna con los valores de 'Trip Miles' imputados\n",
    "# df = df.withColumn(\n",
    "#     \"Trip Miles\",\n",
    "#     when(\n",
    "#         col(\"Trip Miles\") == 0,\n",
    "#         calculate_distance_udf(\n",
    "#             col(\"Pickup Centroid Latitude\"),\n",
    "#             col(\"Pickup Centroid Longitude\"),\n",
    "#             col(\"Dropoff Centroid Latitude\"),\n",
    "#             col(\"Dropoff Centroid Longitude\")\n",
    "#         )\n",
    "#     ).otherwise(col(\"Trip Miles\"))\n",
    "# )\n"
   ]
  },
  {
   "cell_type": "markdown",
   "metadata": {
    "tags": []
   },
   "source": [
    "Por dificultades para usar geopy en los nodos (se tiene que instalar en cada uno) removeremos aquellos registros de Trip Miles con un valor igual a cero."
   ]
  },
  {
   "cell_type": "code",
   "execution_count": 78,
   "metadata": {
    "tags": []
   },
   "outputs": [],
   "source": [
    "df = df.filter(F.col(\"Trip Miles\") != 0)"
   ]
  },
  {
   "cell_type": "markdown",
   "metadata": {},
   "source": [
    "# 7. Ingeniería de variables"
   ]
  },
  {
   "cell_type": "code",
   "execution_count": 79,
   "metadata": {
    "tags": []
   },
   "outputs": [],
   "source": [
    "# Recorrido en minutos\n",
    "df = df.withColumn(\"Trip Minutes\", F.col(\"Trip Seconds\") / 60)\n",
    "\n",
    "# Recorrido en horas\n",
    "df = df.withColumn(\"Trip Hours\", F.col(\"Trip Minutes\") / 60)\n",
    "\n",
    "# Recorrido en kilómetros\n",
    "df = df.withColumn(\"Trip Kilometers\", F.col(\"Trip Miles\") * 1.60934)\n",
    "\n",
    "# Velocidad promedio del taxi\n",
    "df = df.withColumn(\"Trip Speed\", F.col(\"Trip Kilometers\") / F.col(\"Trip Hours\"))\n",
    "\n",
    "# Tasa de propinas\n",
    "df = df.withColumn(\"Tips Ratio\", F.col(\"Tips\") / F.col(\"Trip Total\"))"
   ]
  },
  {
   "cell_type": "code",
   "execution_count": 80,
   "metadata": {
    "tags": []
   },
   "outputs": [
    {
     "data": {
      "text/plain": [
       "8948"
      ]
     },
     "execution_count": 80,
     "metadata": {},
     "output_type": "execute_result"
    }
   ],
   "source": [
    "df.cache().count()"
   ]
  },
  {
   "cell_type": "markdown",
   "metadata": {
    "tags": []
   },
   "source": [
    "Creamos una variable binaria que nos dice si el viaje ha sido iniciado en el aeropuerto, pues esto supondría un costo extra de 4 dólares."
   ]
  },
  {
   "cell_type": "code",
   "execution_count": 86,
   "metadata": {
    "tags": []
   },
   "outputs": [
    {
     "name": "stdout",
     "output_type": "stream",
     "text": [
      "+------------+-----+-------------------+\n",
      "|Payment Type|count|         Proportion|\n",
      "+------------+-----+-------------------+\n",
      "| Credit Card| 3135| 0.3503576218149307|\n",
      "|      Mobile| 1384| 0.1546714349575324|\n",
      "|        Cash| 2478|0.27693339293696917|\n",
      "|      Others| 1951|0.21803755029056773|\n",
      "+------------+-----+-------------------+\n",
      "\n"
     ]
    }
   ],
   "source": [
    "df = df.withColumn(\n",
    "    'Is Airport',\n",
    "    F.when((F.col('Pickup Community Area') == 76) | (F.col('Pickup Community Area') == 56), 1)\n",
    "    .otherwise(0)\n",
    ")\n",
    "\n",
    "get_value_proportions(df, \"Payment Type\").show()"
   ]
  },
  {
   "cell_type": "code",
   "execution_count": 87,
   "metadata": {
    "tags": []
   },
   "outputs": [
    {
     "name": "stdout",
     "output_type": "stream",
     "text": [
      "+------------+-----+-------------------+\n",
      "|Payment Type|count|         Proportion|\n",
      "+------------+-----+-------------------+\n",
      "| Credit Card| 3135| 0.3503576218149307|\n",
      "|      Mobile| 1384| 0.1546714349575324|\n",
      "|        Cash| 2478|0.27693339293696917|\n",
      "|      Others| 1951|0.21803755029056773|\n",
      "+------------+-----+-------------------+\n",
      "\n"
     ]
    }
   ],
   "source": [
    "mapping_dict = {'Unknown': 'Others', 'No Charge': 'Others', 'Dispute': 'Others', 'Prcard': 'Others'}\n",
    "\n",
    "# Aplicar el mapeo a la columna 'Payment Type'\n",
    "for key, value in mapping_dict.items():\n",
    "    df = df.withColumn('Payment Type', F.when(F.col('Payment Type') == key, value).otherwise(F.col('Payment Type')))\n",
    "    \n",
    "get_value_proportions(df, \"Payment Type\").show()"
   ]
  },
  {
   "cell_type": "markdown",
   "metadata": {},
   "source": [
    "**Generando variables Dummy**"
   ]
  },
  {
   "cell_type": "code",
   "execution_count": 88,
   "metadata": {
    "tags": []
   },
   "outputs": [
    {
     "name": "stderr",
     "output_type": "stream",
     "text": [
      "                                                                                \r"
     ]
    },
    {
     "data": {
      "text/html": [
       "<div>\n",
       "<style scoped>\n",
       "    .dataframe tbody tr th:only-of-type {\n",
       "        vertical-align: middle;\n",
       "    }\n",
       "\n",
       "    .dataframe tbody tr th {\n",
       "        vertical-align: top;\n",
       "    }\n",
       "\n",
       "    .dataframe thead th {\n",
       "        text-align: right;\n",
       "    }\n",
       "</style>\n",
       "<table border=\"1\" class=\"dataframe\">\n",
       "  <thead>\n",
       "    <tr style=\"text-align: right;\">\n",
       "      <th></th>\n",
       "      <th>Trip ID</th>\n",
       "      <th>Taxi ID</th>\n",
       "      <th>Trip Start Timestamp</th>\n",
       "      <th>Trip End Timestamp</th>\n",
       "      <th>Trip Seconds</th>\n",
       "      <th>Trip Miles</th>\n",
       "      <th>Pickup Community Area</th>\n",
       "      <th>Dropoff Community Area</th>\n",
       "      <th>Fare</th>\n",
       "      <th>Tips</th>\n",
       "      <th>Tolls</th>\n",
       "      <th>Extras</th>\n",
       "      <th>Trip Total</th>\n",
       "      <th>Company</th>\n",
       "      <th>Pickup Centroid Latitude</th>\n",
       "      <th>Pickup Centroid Longitude</th>\n",
       "      <th>Pickup Centroid Location</th>\n",
       "      <th>Dropoff Centroid Latitude</th>\n",
       "      <th>Dropoff Centroid Longitude</th>\n",
       "      <th>Dropoff Centroid  Location</th>\n",
       "      <th>Trip Minutes</th>\n",
       "      <th>Trip Hours</th>\n",
       "      <th>Trip Kilometers</th>\n",
       "      <th>Trip Speed</th>\n",
       "      <th>Tips Ratio</th>\n",
       "      <th>Is Airport</th>\n",
       "      <th>Payment_Type_Credit Card</th>\n",
       "      <th>Payment_Type_Mobile</th>\n",
       "      <th>Payment_Type_Cash</th>\n",
       "      <th>Payment_Type_Others</th>\n",
       "    </tr>\n",
       "  </thead>\n",
       "  <tbody>\n",
       "    <tr>\n",
       "      <th>0</th>\n",
       "      <td>9cf79169a830bd5b3bafbd2eefc3d40e625882ff</td>\n",
       "      <td>1a03ec6dac498d139ef048e17bc38bb4b1ca9ad0fc4edb...</td>\n",
       "      <td>2023-01-26 14:00:00</td>\n",
       "      <td>2023-01-26 14:30:00</td>\n",
       "      <td>1736</td>\n",
       "      <td>9.21</td>\n",
       "      <td>41</td>\n",
       "      <td>28</td>\n",
       "      <td>27.0</td>\n",
       "      <td>0.00</td>\n",
       "      <td>0.0</td>\n",
       "      <td>2.0</td>\n",
       "      <td>29.000000</td>\n",
       "      <td>City Service</td>\n",
       "      <td>41.794090253</td>\n",
       "      <td>-87.592310855</td>\n",
       "      <td>POINT (-87.592310855 41.794090253)</td>\n",
       "      <td>41.874005383</td>\n",
       "      <td>-87.66351755</td>\n",
       "      <td>POINT (-87.6635175498 41.874005383)</td>\n",
       "      <td>28.933333</td>\n",
       "      <td>0.482222</td>\n",
       "      <td>14.822021</td>\n",
       "      <td>30.736911</td>\n",
       "      <td>0.000000</td>\n",
       "      <td>0</td>\n",
       "      <td>0</td>\n",
       "      <td>0</td>\n",
       "      <td>1</td>\n",
       "      <td>0</td>\n",
       "    </tr>\n",
       "    <tr>\n",
       "      <th>1</th>\n",
       "      <td>6f9a2d2699563fb9260a85dd64f6975856313f03</td>\n",
       "      <td>051db8af96f62880bd5b9970fe0cdb3c0ef257675696bd...</td>\n",
       "      <td>2023-01-26 13:30:00</td>\n",
       "      <td>2023-01-26 13:45:00</td>\n",
       "      <td>1521</td>\n",
       "      <td>13.13</td>\n",
       "      <td>56</td>\n",
       "      <td>8</td>\n",
       "      <td>34.5</td>\n",
       "      <td>7.90</td>\n",
       "      <td>0.0</td>\n",
       "      <td>4.5</td>\n",
       "      <td>47.400002</td>\n",
       "      <td>Star North Taxi Management Llc</td>\n",
       "      <td>41.785998518</td>\n",
       "      <td>-87.750934289</td>\n",
       "      <td>POINT (-87.7509342894 41.785998518)</td>\n",
       "      <td>41.892507781</td>\n",
       "      <td>-87.626214906</td>\n",
       "      <td>POINT (-87.6262149064 41.8925077809)</td>\n",
       "      <td>25.350000</td>\n",
       "      <td>0.422500</td>\n",
       "      <td>21.130634</td>\n",
       "      <td>50.013336</td>\n",
       "      <td>0.166667</td>\n",
       "      <td>1</td>\n",
       "      <td>1</td>\n",
       "      <td>0</td>\n",
       "      <td>0</td>\n",
       "      <td>0</td>\n",
       "    </tr>\n",
       "    <tr>\n",
       "      <th>2</th>\n",
       "      <td>32f82f28dfc98c5c37b582fb99c8184ff0b599e5</td>\n",
       "      <td>0aba795cd29b34ff868043bc923a341f37c4f6d7afabe4...</td>\n",
       "      <td>2023-01-25 21:45:00</td>\n",
       "      <td>2023-01-25 22:15:00</td>\n",
       "      <td>1080</td>\n",
       "      <td>0.40</td>\n",
       "      <td>8</td>\n",
       "      <td>39</td>\n",
       "      <td>21.5</td>\n",
       "      <td>5.50</td>\n",
       "      <td>0.0</td>\n",
       "      <td>0.0</td>\n",
       "      <td>27.000000</td>\n",
       "      <td>Taxi Affiliation Services</td>\n",
       "      <td>41.899602111</td>\n",
       "      <td>-87.633308037</td>\n",
       "      <td>POINT (-87.6333080367 41.899602111)</td>\n",
       "      <td>41.808916283</td>\n",
       "      <td>-87.596183344</td>\n",
       "      <td>POINT (-87.5961833442 41.8089162826)</td>\n",
       "      <td>18.000000</td>\n",
       "      <td>0.300000</td>\n",
       "      <td>0.643736</td>\n",
       "      <td>2.145787</td>\n",
       "      <td>0.203704</td>\n",
       "      <td>0</td>\n",
       "      <td>1</td>\n",
       "      <td>0</td>\n",
       "      <td>0</td>\n",
       "      <td>0</td>\n",
       "    </tr>\n",
       "    <tr>\n",
       "      <th>3</th>\n",
       "      <td>7fda0b5b20aea8d753f2c6ba5ea2e2435f59832e</td>\n",
       "      <td>f80bb6e887a18028617ef0e0861429d12762cfd858bcbc...</td>\n",
       "      <td>2023-01-26 09:30:00</td>\n",
       "      <td>2023-01-26 09:45:00</td>\n",
       "      <td>382</td>\n",
       "      <td>1.04</td>\n",
       "      <td>8</td>\n",
       "      <td>32</td>\n",
       "      <td>10.0</td>\n",
       "      <td>2.45</td>\n",
       "      <td>0.0</td>\n",
       "      <td>0.0</td>\n",
       "      <td>12.450000</td>\n",
       "      <td>City Service</td>\n",
       "      <td>41.890922026</td>\n",
       "      <td>-87.618868355</td>\n",
       "      <td>POINT (-87.6188683546 41.8909220259)</td>\n",
       "      <td>41.880994471</td>\n",
       "      <td>-87.632746489</td>\n",
       "      <td>POINT (-87.6327464887 41.8809944707)</td>\n",
       "      <td>6.366667</td>\n",
       "      <td>0.106111</td>\n",
       "      <td>1.673714</td>\n",
       "      <td>15.773217</td>\n",
       "      <td>0.196787</td>\n",
       "      <td>0</td>\n",
       "      <td>0</td>\n",
       "      <td>1</td>\n",
       "      <td>0</td>\n",
       "      <td>0</td>\n",
       "    </tr>\n",
       "    <tr>\n",
       "      <th>4</th>\n",
       "      <td>f0c75f4eb7c0820741fb47b9ad6990124c263c7e</td>\n",
       "      <td>1ba56b296b0d930b10a926807d5c67ff0f2ff5005dfb03...</td>\n",
       "      <td>2023-01-26 14:00:00</td>\n",
       "      <td>2023-01-26 14:15:00</td>\n",
       "      <td>540</td>\n",
       "      <td>1.57</td>\n",
       "      <td>8</td>\n",
       "      <td>8</td>\n",
       "      <td>8.0</td>\n",
       "      <td>8.00</td>\n",
       "      <td>0.0</td>\n",
       "      <td>0.0</td>\n",
       "      <td>16.500000</td>\n",
       "      <td>Star North Taxi Management Llc</td>\n",
       "      <td>41.892042136</td>\n",
       "      <td>-87.63186395</td>\n",
       "      <td>POINT (-87.6318639497 41.8920421365)</td>\n",
       "      <td>41.898331794</td>\n",
       "      <td>-87.620762865</td>\n",
       "      <td>POINT (-87.6207628651 41.8983317935)</td>\n",
       "      <td>9.000000</td>\n",
       "      <td>0.150000</td>\n",
       "      <td>2.526664</td>\n",
       "      <td>16.844426</td>\n",
       "      <td>0.484848</td>\n",
       "      <td>0</td>\n",
       "      <td>1</td>\n",
       "      <td>0</td>\n",
       "      <td>0</td>\n",
       "      <td>0</td>\n",
       "    </tr>\n",
       "  </tbody>\n",
       "</table>\n",
       "</div>"
      ],
      "text/plain": [
       "                                    Trip ID                                            Taxi ID Trip Start Timestamp  Trip End Timestamp  Trip Seconds  Trip Miles Pickup Community Area Dropoff Community Area  Fare  Tips  Tolls  Extras  Trip Total                         Company Pickup Centroid Latitude Pickup Centroid Longitude              Pickup Centroid Location Dropoff Centroid Latitude Dropoff Centroid Longitude            Dropoff Centroid  Location  Trip Minutes  Trip Hours  Trip Kilometers  Trip Speed  Tips Ratio  Is Airport  Payment_Type_Credit Card  Payment_Type_Mobile  Payment_Type_Cash  Payment_Type_Others\n",
       "0  9cf79169a830bd5b3bafbd2eefc3d40e625882ff  1a03ec6dac498d139ef048e17bc38bb4b1ca9ad0fc4edb...  2023-01-26 14:00:00 2023-01-26 14:30:00          1736        9.21                    41                     28  27.0  0.00    0.0     2.0   29.000000                    City Service             41.794090253             -87.592310855    POINT (-87.592310855 41.794090253)              41.874005383               -87.66351755   POINT (-87.6635175498 41.874005383)     28.933333    0.482222        14.822021   30.736911    0.000000           0                         0                    0                  1                    0\n",
       "1  6f9a2d2699563fb9260a85dd64f6975856313f03  051db8af96f62880bd5b9970fe0cdb3c0ef257675696bd...  2023-01-26 13:30:00 2023-01-26 13:45:00          1521       13.13                    56                      8  34.5  7.90    0.0     4.5   47.400002  Star North Taxi Management Llc             41.785998518             -87.750934289   POINT (-87.7509342894 41.785998518)              41.892507781              -87.626214906  POINT (-87.6262149064 41.8925077809)     25.350000    0.422500        21.130634   50.013336    0.166667           1                         1                    0                  0                    0\n",
       "2  32f82f28dfc98c5c37b582fb99c8184ff0b599e5  0aba795cd29b34ff868043bc923a341f37c4f6d7afabe4...  2023-01-25 21:45:00 2023-01-25 22:15:00          1080        0.40                     8                     39  21.5  5.50    0.0     0.0   27.000000       Taxi Affiliation Services             41.899602111             -87.633308037   POINT (-87.6333080367 41.899602111)              41.808916283              -87.596183344  POINT (-87.5961833442 41.8089162826)     18.000000    0.300000         0.643736    2.145787    0.203704           0                         1                    0                  0                    0\n",
       "3  7fda0b5b20aea8d753f2c6ba5ea2e2435f59832e  f80bb6e887a18028617ef0e0861429d12762cfd858bcbc...  2023-01-26 09:30:00 2023-01-26 09:45:00           382        1.04                     8                     32  10.0  2.45    0.0     0.0   12.450000                    City Service             41.890922026             -87.618868355  POINT (-87.6188683546 41.8909220259)              41.880994471              -87.632746489  POINT (-87.6327464887 41.8809944707)      6.366667    0.106111         1.673714   15.773217    0.196787           0                         0                    1                  0                    0\n",
       "4  f0c75f4eb7c0820741fb47b9ad6990124c263c7e  1ba56b296b0d930b10a926807d5c67ff0f2ff5005dfb03...  2023-01-26 14:00:00 2023-01-26 14:15:00           540        1.57                     8                      8   8.0  8.00    0.0     0.0   16.500000  Star North Taxi Management Llc             41.892042136              -87.63186395  POINT (-87.6318639497 41.8920421365)              41.898331794              -87.620762865  POINT (-87.6207628651 41.8983317935)      9.000000    0.150000         2.526664   16.844426    0.484848           0                         1                    0                  0                    0"
      ]
     },
     "execution_count": 88,
     "metadata": {},
     "output_type": "execute_result"
    }
   ],
   "source": [
    "payment_type_dummies = df.groupBy('Payment Type').count().withColumn('dummy', F.lit(1))\n",
    "\n",
    "# Convertir el resultado en formato de variables dummy\n",
    "dummies = payment_type_dummies.select(\n",
    "    'Payment Type',\n",
    "    *[F.when(F.col('Payment Type') == payment_type, 1).otherwise(0).alias(f'Payment_Type_{payment_type}') for payment_type in payment_type_dummies.select('Payment Type').rdd.flatMap(lambda x: x).collect()]\n",
    ")\n",
    "\n",
    "# Concatenar las variables dummy al DataFrame original\n",
    "df = df.join(dummies, on='Payment Type', how='left')\n",
    "\n",
    "# Eliminar la columna original 'Payment Type' si es necesario\n",
    "df = df.drop('Payment Type')\n",
    "\n",
    "df.limit(5).toPandas()\n"
   ]
  },
  {
   "cell_type": "markdown",
   "metadata": {},
   "source": [
    "**Selección de características para usar en la ventana de tiempo**"
   ]
  },
  {
   "cell_type": "code",
   "execution_count": 89,
   "metadata": {
    "tags": []
   },
   "outputs": [],
   "source": [
    "columnas_seleccionadas = ['Trip ID', 'Taxi ID', 'Is Airport', 'Trip Start Timestamp', 'Trip Speed', \n",
    "                          'Tips Ratio', 'Trip Seconds', 'Trip Kilometers', 'Fare', 'Tips', \n",
    "                          'Tolls', 'Extras', 'Payment_Type_Cash', 'Payment_Type_Credit Card', \n",
    "                          'Payment_Type_Mobile', 'Payment_Type_Others']\n",
    "\n",
    "\n",
    "df = df.select(*columnas_seleccionadas)"
   ]
  },
  {
   "cell_type": "markdown",
   "metadata": {},
   "source": [
    "### TODO: Refrasear "
   ]
  },
  {
   "cell_type": "markdown",
   "metadata": {},
   "source": [
    "Se ordena los datos con respecto al tiempo y posteriormente se crea una función para generar etiquetas de las semanas consecutivas de nuestro dataset. Esto con la finalidad que posteriormente se agrupen por semana."
   ]
  },
  {
   "cell_type": "code",
   "execution_count": 90,
   "metadata": {
    "tags": []
   },
   "outputs": [],
   "source": [
    "df = df.orderBy('Trip Start Timestamp')\n",
    "\n",
    "# Encontrar la fecha de inicio y fin del conjunto de datos\n",
    "fecha_inicio = df.select(F.min('Trip Start Timestamp')).first()[0]\n",
    "fecha_fin = df.select(F.max('Trip Start Timestamp')).first()[0]\n",
    "\n",
    "# Crear una función para asignar etiquetas de semana consecutivas\n",
    "def assign_week_label(date):\n",
    "    # Diferencia en semanas entre la fecha dada y la fecha de inicio\n",
    "    week_number = (date - fecha_inicio).days // 7 + 1\n",
    "    return week_number\n",
    "\n",
    "# Registrar la función como UDF\n",
    "from pyspark.sql.functions import udf\n",
    "from pyspark.sql.types import IntegerType\n",
    "assign_week_udf = udf(assign_week_label, IntegerType())\n",
    "\n",
    "# Agregar una columna 'Week' con las etiquetas de semana consecutivas\n",
    "df = df.withColumn('Week', assign_week_udf(F.col('Trip Start Timestamp')))\n",
    "\n",
    "# Agregar una columna 'Trips' con el valor 1\n",
    "df = df.withColumn('Trips', F.lit(1))"
   ]
  },
  {
   "cell_type": "code",
   "execution_count": 91,
   "metadata": {
    "tags": []
   },
   "outputs": [
    {
     "name": "stderr",
     "output_type": "stream",
     "text": [
      "                                                                                \r"
     ]
    },
    {
     "data": {
      "text/html": [
       "<div>\n",
       "<style scoped>\n",
       "    .dataframe tbody tr th:only-of-type {\n",
       "        vertical-align: middle;\n",
       "    }\n",
       "\n",
       "    .dataframe tbody tr th {\n",
       "        vertical-align: top;\n",
       "    }\n",
       "\n",
       "    .dataframe thead th {\n",
       "        text-align: right;\n",
       "    }\n",
       "</style>\n",
       "<table border=\"1\" class=\"dataframe\">\n",
       "  <thead>\n",
       "    <tr style=\"text-align: right;\">\n",
       "      <th></th>\n",
       "      <th>Taxi ID</th>\n",
       "      <th>Week</th>\n",
       "      <th>Total_Trips</th>\n",
       "      <th>Total_Is_Airport</th>\n",
       "      <th>Avg_Trip_Speed</th>\n",
       "      <th>Avg_Tips_Ratio</th>\n",
       "      <th>Total_Trip_Seconds</th>\n",
       "      <th>Total_Trip_Kilometers</th>\n",
       "      <th>Total_Fare</th>\n",
       "      <th>Total_Tips</th>\n",
       "      <th>Total_Tolls</th>\n",
       "      <th>Total_Extras</th>\n",
       "      <th>Total_Payment_Type_Cash</th>\n",
       "      <th>Total_Payment_Type_Credit_Card</th>\n",
       "      <th>Total_Payment_Type_Mobile</th>\n",
       "      <th>Total_Payment_Type_Others</th>\n",
       "    </tr>\n",
       "  </thead>\n",
       "  <tbody>\n",
       "    <tr>\n",
       "      <th>0</th>\n",
       "      <td>0041f8f0c91881c1e1913f2548522495fe3c4c719aa67f...</td>\n",
       "      <td>1</td>\n",
       "      <td>9</td>\n",
       "      <td>0</td>\n",
       "      <td>1.946001</td>\n",
       "      <td>0.033543</td>\n",
       "      <td>8220</td>\n",
       "      <td>4.667086</td>\n",
       "      <td>154.00</td>\n",
       "      <td>4.00</td>\n",
       "      <td>0.0</td>\n",
       "      <td>3.0</td>\n",
       "      <td>1</td>\n",
       "      <td>2</td>\n",
       "      <td>0</td>\n",
       "      <td>6</td>\n",
       "    </tr>\n",
       "    <tr>\n",
       "      <th>1</th>\n",
       "      <td>00752524a4118a162dce62ff49c0eb0f79530d9e0ecb5a...</td>\n",
       "      <td>1</td>\n",
       "      <td>1</td>\n",
       "      <td>1</td>\n",
       "      <td>60.695108</td>\n",
       "      <td>0.105899</td>\n",
       "      <td>1260</td>\n",
       "      <td>21.243288</td>\n",
       "      <td>33.50</td>\n",
       "      <td>4.56</td>\n",
       "      <td>0.0</td>\n",
       "      <td>5.0</td>\n",
       "      <td>0</td>\n",
       "      <td>1</td>\n",
       "      <td>0</td>\n",
       "      <td>0</td>\n",
       "    </tr>\n",
       "    <tr>\n",
       "      <th>2</th>\n",
       "      <td>0083fcde0fb490b4ec424c63d1d750378f6ad11154d1d4...</td>\n",
       "      <td>1</td>\n",
       "      <td>5</td>\n",
       "      <td>1</td>\n",
       "      <td>1.355747</td>\n",
       "      <td>0.000000</td>\n",
       "      <td>4920</td>\n",
       "      <td>2.253076</td>\n",
       "      <td>82.25</td>\n",
       "      <td>0.00</td>\n",
       "      <td>0.0</td>\n",
       "      <td>4.0</td>\n",
       "      <td>3</td>\n",
       "      <td>0</td>\n",
       "      <td>0</td>\n",
       "      <td>2</td>\n",
       "    </tr>\n",
       "    <tr>\n",
       "      <th>3</th>\n",
       "      <td>008dda45db57cb6daa679a86ce8c8149ddc05446d545b1...</td>\n",
       "      <td>1</td>\n",
       "      <td>15</td>\n",
       "      <td>0</td>\n",
       "      <td>25.763108</td>\n",
       "      <td>0.084429</td>\n",
       "      <td>8940</td>\n",
       "      <td>80.788869</td>\n",
       "      <td>172.25</td>\n",
       "      <td>16.50</td>\n",
       "      <td>0.0</td>\n",
       "      <td>1.0</td>\n",
       "      <td>7</td>\n",
       "      <td>6</td>\n",
       "      <td>0</td>\n",
       "      <td>2</td>\n",
       "    </tr>\n",
       "    <tr>\n",
       "      <th>4</th>\n",
       "      <td>00aeef49089b36ed668920fac1119a26fb25d1b48102a4...</td>\n",
       "      <td>1</td>\n",
       "      <td>3</td>\n",
       "      <td>2</td>\n",
       "      <td>3.295488</td>\n",
       "      <td>0.169541</td>\n",
       "      <td>4560</td>\n",
       "      <td>4.023350</td>\n",
       "      <td>113.00</td>\n",
       "      <td>27.45</td>\n",
       "      <td>0.0</td>\n",
       "      <td>21.5</td>\n",
       "      <td>0</td>\n",
       "      <td>3</td>\n",
       "      <td>0</td>\n",
       "      <td>0</td>\n",
       "    </tr>\n",
       "  </tbody>\n",
       "</table>\n",
       "</div>"
      ],
      "text/plain": [
       "                                             Taxi ID  Week  Total_Trips  Total_Is_Airport  Avg_Trip_Speed  Avg_Tips_Ratio  Total_Trip_Seconds  Total_Trip_Kilometers  Total_Fare  Total_Tips  Total_Tolls  Total_Extras  Total_Payment_Type_Cash  Total_Payment_Type_Credit_Card  Total_Payment_Type_Mobile  Total_Payment_Type_Others\n",
       "0  0041f8f0c91881c1e1913f2548522495fe3c4c719aa67f...     1            9                 0        1.946001        0.033543                8220               4.667086      154.00        4.00          0.0           3.0                        1                               2                          0                          6\n",
       "1  00752524a4118a162dce62ff49c0eb0f79530d9e0ecb5a...     1            1                 1       60.695108        0.105899                1260              21.243288       33.50        4.56          0.0           5.0                        0                               1                          0                          0\n",
       "2  0083fcde0fb490b4ec424c63d1d750378f6ad11154d1d4...     1            5                 1        1.355747        0.000000                4920               2.253076       82.25        0.00          0.0           4.0                        3                               0                          0                          2\n",
       "3  008dda45db57cb6daa679a86ce8c8149ddc05446d545b1...     1           15                 0       25.763108        0.084429                8940              80.788869      172.25       16.50          0.0           1.0                        7                               6                          0                          2\n",
       "4  00aeef49089b36ed668920fac1119a26fb25d1b48102a4...     1            3                 2        3.295488        0.169541                4560               4.023350      113.00       27.45          0.0          21.5                        0                               3                          0                          0"
      ]
     },
     "execution_count": 91,
     "metadata": {},
     "output_type": "execute_result"
    }
   ],
   "source": [
    "# Agrupar por 'Taxi ID' y 'Week', calcular algunas estadísticas para cada grupo\n",
    "agrupado_por_taxi_semana = df.groupBy('Taxi ID', 'Week').agg(\n",
    "    F.sum('Trips').alias('Total_Trips'),\n",
    "    F.sum('Is Airport').alias('Total_Is_Airport'),\n",
    "    F.mean('Trip Speed').alias('Avg_Trip_Speed'),\n",
    "    F.mean('Tips Ratio').alias('Avg_Tips_Ratio'),\n",
    "    F.sum('Trip Seconds').alias('Total_Trip_Seconds'),\n",
    "    F.sum('Trip Kilometers').alias('Total_Trip_Kilometers'),\n",
    "    F.sum('Fare').alias('Total_Fare'),\n",
    "    F.sum('Tips').alias('Total_Tips'),\n",
    "    F.sum('Tolls').alias('Total_Tolls'),\n",
    "    F.sum('Extras').alias('Total_Extras'),\n",
    "    F.sum('Payment_Type_Cash').alias('Total_Payment_Type_Cash'),\n",
    "    F.sum('Payment_Type_Credit Card').alias('Total_Payment_Type_Credit_Card'),\n",
    "    F.sum('Payment_Type_Mobile').alias('Total_Payment_Type_Mobile'),\n",
    "    F.sum('Payment_Type_Others').alias('Total_Payment_Type_Others')\n",
    ")\n",
    "\n",
    "agrupado_por_taxi_semana = agrupado_por_taxi_semana.orderBy(['Taxi ID', 'Week'])\n",
    "\n",
    "# Mostrar el resultado del agrupamiento\n",
    "agrupado_por_taxi_semana.limit(5).toPandas()"
   ]
  },
  {
   "cell_type": "code",
   "execution_count": 92,
   "metadata": {
    "tags": []
   },
   "outputs": [
    {
     "data": {
      "text/html": [
       "<div>\n",
       "<style scoped>\n",
       "    .dataframe tbody tr th:only-of-type {\n",
       "        vertical-align: middle;\n",
       "    }\n",
       "\n",
       "    .dataframe tbody tr th {\n",
       "        vertical-align: top;\n",
       "    }\n",
       "\n",
       "    .dataframe thead th {\n",
       "        text-align: right;\n",
       "    }\n",
       "</style>\n",
       "<table border=\"1\" class=\"dataframe\">\n",
       "  <thead>\n",
       "    <tr style=\"text-align: right;\">\n",
       "      <th></th>\n",
       "      <th>Taxi ID</th>\n",
       "      <th>W1</th>\n",
       "    </tr>\n",
       "  </thead>\n",
       "  <tbody>\n",
       "    <tr>\n",
       "      <th>0</th>\n",
       "      <td>7da8dfbf5db7bed94dd92856d29697c070590f703b0b29...</td>\n",
       "      <td>49.25</td>\n",
       "    </tr>\n",
       "    <tr>\n",
       "      <th>1</th>\n",
       "      <td>6607f4be1b8737ffe33ac1f71d10d1132541d86cd00c1d...</td>\n",
       "      <td>420.75</td>\n",
       "    </tr>\n",
       "    <tr>\n",
       "      <th>2</th>\n",
       "      <td>beb0579501b2745e10d12af72f99864d506abb7c5de1eb...</td>\n",
       "      <td>31.50</td>\n",
       "    </tr>\n",
       "    <tr>\n",
       "      <th>3</th>\n",
       "      <td>e39f9fb04c45fac83b35fbc9c36b68ba97cdf877dd76fd...</td>\n",
       "      <td>68.50</td>\n",
       "    </tr>\n",
       "    <tr>\n",
       "      <th>4</th>\n",
       "      <td>cc474a035d6471f8bf8cef75b0c528e72b7f871e9bb029...</td>\n",
       "      <td>65.50</td>\n",
       "    </tr>\n",
       "  </tbody>\n",
       "</table>\n",
       "</div>"
      ],
      "text/plain": [
       "                                             Taxi ID      W1\n",
       "0  7da8dfbf5db7bed94dd92856d29697c070590f703b0b29...   49.25\n",
       "1  6607f4be1b8737ffe33ac1f71d10d1132541d86cd00c1d...  420.75\n",
       "2  beb0579501b2745e10d12af72f99864d506abb7c5de1eb...   31.50\n",
       "3  e39f9fb04c45fac83b35fbc9c36b68ba97cdf877dd76fd...   68.50\n",
       "4  cc474a035d6471f8bf8cef75b0c528e72b7f871e9bb029...   65.50"
      ]
     },
     "execution_count": 92,
     "metadata": {},
     "output_type": "execute_result"
    }
   ],
   "source": [
    "%%time\n",
    "df_pivot = agrupado_por_taxi_semana.groupBy('Taxi ID').pivot('Week').agg(F.sum('Total_Fare'))\n",
    "\n",
    "# Rellenar valores nulos con 0\n",
    "df_pivot = df_pivot.na.fill(0)\n",
    "\n",
    "# Renombrar columnas para que tengan el formato deseado\n",
    "new_column_names = ['Taxi ID'] + [f'W{int(col)}' for col in df_pivot.columns[1:]]\n",
    "df_pivot = df_pivot.toDF(*new_column_names)\n",
    "\n",
    "# Mostrar el resultado\n",
    "df_pivot.limit(5).toPandas()"
   ]
  },
  {
   "cell_type": "code",
   "execution_count": null,
   "metadata": {},
   "outputs": [],
   "source": []
  }
 ],
 "metadata": {
  "colab": {
   "provenance": []
  },
  "kernelspec": {
   "display_name": "PySpark",
   "language": "python",
   "name": "pyspark"
  },
  "language_info": {
   "codemirror_mode": {
    "name": "ipython",
    "version": 3
   },
   "file_extension": ".py",
   "mimetype": "text/x-python",
   "name": "python",
   "nbconvert_exporter": "python",
   "pygments_lexer": "ipython3",
   "version": "3.11.8"
  }
 },
 "nbformat": 4,
 "nbformat_minor": 4
}
