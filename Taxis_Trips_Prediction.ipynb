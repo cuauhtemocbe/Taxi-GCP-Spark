{
 "cells": [
  {
   "cell_type": "markdown",
   "metadata": {},
   "source": [
    "# Viajes de Taxi en la ciudad de Chicago"
   ]
  },
  {
   "cell_type": "markdown",
   "metadata": {},
   "source": [
    "**Objetivo**:\n",
    "\n",
    "Construir una Tabla Analítica de Datos (TAD) con la unidad muestral apropiada para predecir el monto total de cada conductor de taxi en la ciudad de Chicago para las siguientes semanas."
   ]
  },
  {
   "cell_type": "markdown",
   "metadata": {},
   "source": [
    "| Nombre de la columna               | Descripción                                                                                                                                                                | Tipo de dato   |\n",
    "|------------------------------------|----------------------------------------------------------------------------------------------------------------------------------------------------------------------------|----------------|\n",
    "| Trip ID                            | Identificador único del viaje.                                                                                                                                             | Texto Plano    |\n",
    "| Taxi ID                            | Identificador único del taxi.                                                                                                                                              | Texto Plano    |\n",
    "| Trip Start Timestamp               | Cuando comenzó el viaje, redondeado al intervalo de 15 minutos más cercano.                                                                                              | Fecha y Hora   |\n",
    "| Trip End Timestamp                 | Cuando terminó el viaje, redondeado al intervalo de 15 minutos más cercano.                                                                                              | Fecha y Hora   |\n",
    "| Trip Seconds                       | Tiempo del viaje en segundos.                                                                                                                                              | Número         |\n",
    "| Trip Miles                         | Distancia del viaje en millas.                                                                                                                                             | Número         |\n",
    "| Pickup Census Tract                | El área censada donde comenzó el viaje. Por privacidad, esta área censada no se muestra para algunos viajes. Esta columna a menudo estará en blanco para ubicaciones fuera de Chicago. | Texto Plano    |\n",
    "| Dropoff Census Tract               | El área censada donde terminó el viaje. Por privacidad, esta área censada no se muestra para algunos viajes. Esta columna a menudo estará en blanco para ubicaciones fuera de Chicago. | Texto Plano    |\n",
    "| Pickup Community Area              | El área comunitaria donde comenzó el viaje. Esta columna estará en blanco para ubicaciones fuera de Chicago.                                                                | Número         |\n",
    "| Dropoff Community Area             | El área comunitaria donde terminó el viaje. Esta columna estará en blanco para ubicaciones fuera de Chicago.                                                                | Número         |\n",
    "| Fare                               | La tarifa del viaje.                                                                                                                                                       | Número         |\n",
    "| Tips                               | La propina del viaje. Las propinas en efectivo generalmente no se registran.                                                                                               | Número         |\n",
    "| Tolls                              | Los peajes del viaje.                                                                                                                                                      | Número         |\n",
    "| Extras                             | Cargos extras del viaje.                                                                                                                                                   | Número         |\n",
    "| Trip Total                         | Costo total del viaje, la suma de las columnas anteriores.                                                                                                                | Número         |\n",
    "| Payment Type                       | Tipo de pago para el viaje.                                                                                                                                               | Texto Plano    |\n",
    "| Company                            | La compañía de taxis.                                                                                                                                                     | Texto Plano    |\n",
    "| Pickup Centroid Latitude           | La latitud del centro del área censada del abordaje o del área comunitaria si el área censada se ha ocultado por razones de privacidad.                                     | Número         |\n",
    "| Pickup Centroid Longitude          | La longitud del centro del área censada del abordaje o del área comunitaria si el área censada se ha ocultado por razones de privacidad.                                    | Número         |\n",
    "| Pickup Centroid Location           | La ubicación del centro del área censada del abordaje o del área comunitaria si el área censada se ha ocultado por razones de privacidad.                                   | Punto          |\n",
    "| Dropoff Centroid Latitude          | La latitud del centro del área censada del descenso o del área comunitaria si el área censada se ha ocultado por razones de privacidad.                                     | Número         |\n",
    "| Dropoff Centroid Longitude         | La longitud del centro del área censada del descenso o del área comunitaria si el área censada se ha ocultado por razones de privacidad.                                    | Número         |\n",
    "| Dropoff Centroid Location          | La ubicación del centro del área censada del descenso o del área comunitaria si el área censada se ha ocultado por razones de privacidad.                                   | Punto          |\n"
   ]
  },
  {
   "cell_type": "markdown",
   "metadata": {
    "id": "tllisCiaJK2m"
   },
   "source": [
    "# 1.Import de Librerías"
   ]
  },
  {
   "cell_type": "code",
   "execution_count": 88,
   "metadata": {
    "id": "xYk5hSg7JK21",
    "tags": []
   },
   "outputs": [],
   "source": [
    "# Standard library imports\n",
    "import os\n",
    "import subprocess\n",
    "from datetime import date\n",
    "\n",
    "# Third-party library imports\n",
    "import matplotlib.pyplot as plt\n",
    "import numpy as np\n",
    "import pandas as pd\n",
    "import seaborn as sns\n",
    "from IPython.display import display\n",
    "\n",
    "# PySpark imports\n",
    "from pyspark import SparkContext, HiveContext\n",
    "from pyspark.sql import DataFrame, SQLContext, SparkSession\n",
    "from pyspark.sql import functions as F\n",
    "from pyspark.sql.types import TimestampType\n",
    "from pyspark.ml.feature import VectorAssembler\n",
    "from pyspark.ml.stat import Correlation\n",
    "from pyspark.sql.types import (\n",
    "    StructType,\n",
    "    StructField,\n",
    "    StringType,\n",
    "    TimestampType,\n",
    "    IntegerType,\n",
    "    FloatType,\n",
    ")\n",
    "from pyspark.sql import Window\n",
    "\n",
    "pd.set_option(\"display.max_columns\", None)\n",
    "pd.set_option(\"display.expand_frame_repr\", False)\n",
    "\n",
    "\n",
    "def missing_values_summary(df):\n",
    "    # Columnas numéricas\n",
    "    numeric_columns = [c for c, t in df.dtypes if t in [\"double\", \"float\"]]\n",
    "\n",
    "    # Columnas no numéricas\n",
    "    other_columns = [c for c, t in df.dtypes if t not in [\"double\", \"float\"]]\n",
    "\n",
    "    # Contar valores faltantes para columnas numéricas\n",
    "    numeric_missing = [\n",
    "        F.count(F.when(F.isnan(F.col(c)) | F.col(c).isNull(), c)).alias(c)\n",
    "        for c in numeric_columns\n",
    "    ]\n",
    "\n",
    "    # Contar valores faltantes para columnas no numéricas\n",
    "    other_missing = [\n",
    "        F.count(F.when(F.col(c).isNull(), c)).alias(c) for c in other_columns\n",
    "    ]\n",
    "\n",
    "    # Combinar resultados de valores faltantes\n",
    "    missings_df = df.select(numeric_missing + other_missing).toPandas()\n",
    "\n",
    "    # Calcular el porcentaje y reformatear como DataFrame\n",
    "    total_rows = df.count()\n",
    "    summary = []\n",
    "\n",
    "    for col_name in missings_df.columns:\n",
    "        count_missing = missings_df.at[0, col_name]\n",
    "        percentage_missing = (count_missing / total_rows) * 100\n",
    "        summary.append(\n",
    "            {\n",
    "                \"feature\": col_name,\n",
    "                \"count\": count_missing,\n",
    "                \"%\": round(percentage_missing, 2),\n",
    "            }\n",
    "        )\n",
    "\n",
    "    return pd.DataFrame(summary)\n",
    "\n",
    "\n",
    "def plot_histogram(data, column_name, num_bins=30):\n",
    "    \"\"\"\n",
    "    Genera un histograma de la columna especificada de un DataFrame de PySpark.\n",
    "\n",
    "    :param data: DataFrame de PySpark que contiene los datos.\n",
    "    :param column_name: Nombre de la columna a analizar.\n",
    "    :param num_bins: Número de bins para el histograma.\n",
    "    \"\"\"\n",
    "    # Obtener valores mínimo y máximo de la columna\n",
    "    min_value = data.agg(F.min(column_name)).first()[0]\n",
    "    max_value = data.agg(F.max(column_name)).first()[0]\n",
    "\n",
    "    # Calcular el ancho de los bins y los límites\n",
    "    bin_width = (max_value - min_value) / num_bins\n",
    "    bins = [min_value + i * bin_width for i in range(num_bins + 1)]\n",
    "\n",
    "    # Crear la expresión para determinar el bin\n",
    "    bin_expr = F.when(\n",
    "        F.col(column_name) < bins[0], None\n",
    "    )  # Caso para valores menores al mínimo\n",
    "    for i in range(num_bins):\n",
    "        bin_expr = bin_expr.when(\n",
    "            (F.col(column_name) >= bins[i]) & (F.col(column_name) < bins[i + 1]),\n",
    "            bins[i],\n",
    "        )\n",
    "    bin_expr = bin_expr.otherwise(bins[-2])  # Caso para el valor máximo\n",
    "\n",
    "    # Añadir la columna con el bin correspondiente\n",
    "    data_with_bins = data.withColumn(\"bin_start\", bin_expr)\n",
    "\n",
    "    # Eliminar filas donde no hay un bin asignado (valores fuera del rango)\n",
    "    data_with_bins = data_with_bins.dropna(subset=[\"bin_start\"])\n",
    "\n",
    "    # Contar las ocurrencias en cada bin\n",
    "    hist_counts = data_with_bins.groupBy(\"bin_start\").count().orderBy(\"bin_start\")\n",
    "\n",
    "    # Convertir a pandas para graficar\n",
    "    hist_counts_pd = hist_counts.toPandas()\n",
    "\n",
    "    # Crear el histograma usando Matplotlib\n",
    "    plt.figure(figsize=(10, 6))\n",
    "    plt.bar(\n",
    "        hist_counts_pd[\"bin_start\"],\n",
    "        hist_counts_pd[\"count\"],\n",
    "        width=bin_width,\n",
    "        color=\"blue\",\n",
    "        alpha=0.7,\n",
    "        align=\"edge\",\n",
    "    )\n",
    "    plt.title(f\"Histograma de {column_name}\")\n",
    "    plt.xlabel(f\"{column_name} (Inicio del Bin)\")\n",
    "    plt.ylabel(\"Frecuencia\")\n",
    "    plt.xticks(rotation=45)\n",
    "    plt.grid(axis=\"y\", alpha=0.75)\n",
    "    plt.show()\n",
    "\n",
    "\n",
    "def create_box_plot(df, column_name):\n",
    "    \"\"\"\n",
    "    Crea un gráfico de caja a partir de un DataFrame de PySpark y una columna específica.\n",
    "\n",
    "    Args:\n",
    "        df (DataFrame): DataFrame de PySpark que contiene los datos.\n",
    "        column_name (str): Nombre de la columna para la que se generará el gráfico de caja.\n",
    "    \"\"\"\n",
    "    # Calcular estadísticas del box plot\n",
    "    box_plot_stats = df.select(\n",
    "        F.percentile_approx(column_name, 0.25).alias(\"Q1\"),\n",
    "        F.percentile_approx(column_name, 0.5).alias(\"Median\"),\n",
    "        F.percentile_approx(column_name, 0.75).alias(\"Q3\"),\n",
    "        F.min(column_name).alias(\"Min\"),\n",
    "        F.max(column_name).alias(\"Max\"),\n",
    "    ).first()\n",
    "\n",
    "    # Convertir las estadísticas a un DataFrame de pandas\n",
    "    box_plot_df = pd.DataFrame(\n",
    "        {\n",
    "            \"Stat\": [\"Min\", \"Q1\", \"Median\", \"Q3\", \"Max\"],\n",
    "            \"Value\": [\n",
    "                box_plot_stats[\"Min\"],\n",
    "                box_plot_stats[\"Q1\"],\n",
    "                box_plot_stats[\"Median\"],\n",
    "                box_plot_stats[\"Q3\"],\n",
    "                box_plot_stats[\"Max\"],\n",
    "            ],\n",
    "        }\n",
    "    )\n",
    "\n",
    "    # Crear el gráfico de caja\n",
    "    plt.figure(figsize=(8, 6))\n",
    "    plt.boxplot(box_plot_df[\"Value\"], labels=[column_name])\n",
    "    plt.title(f\"Box Plot de {column_name}\")\n",
    "    plt.ylabel(\"Seconds\")\n",
    "    plt.grid(axis=\"y\")\n",
    "    plt.show()\n",
    "\n",
    "\n",
    "def calculate_trip_seconds_percentiles(df, column_name):\n",
    "    # Definir los percentiles a calcular\n",
    "    percentiles = [x / 10 for x in range(1, 10)] + [0.01, 0.02, 0.03, 0.97, 0.98, 0.99]\n",
    "\n",
    "    # Calcular estadísticas descriptivas para la columna especificada\n",
    "    trip_seconds_stats = df.approxQuantile(column_name, percentiles, 0.01)\n",
    "\n",
    "    # Convertir a un DataFrame de pandas para facilitar la visualización\n",
    "    trip_seconds_df = pd.DataFrame(\n",
    "        {\"Percentiles\": percentiles, \"Trip Seconds\": trip_seconds_stats}\n",
    "    )\n",
    "\n",
    "    # Ordenar por percentiles\n",
    "    trip_seconds_df = trip_seconds_df.sort_values(\"Percentiles\").reset_index(drop=True)\n",
    "\n",
    "    return trip_seconds_df\n",
    "\n",
    "\n",
    "def create_boxplot(df_spark, columns, title=\"Boxplot\", figsize=(12, 8)):\n",
    "    # Calcular estadísticas para las columnas especificadas\n",
    "    box_plot_stats = df_spark.select(\n",
    "        [F.percentile_approx(col, 0.25).alias(f\"{col}_Q1\") for col in columns]\n",
    "        + [F.percentile_approx(col, 0.5).alias(f\"{col}_Median\") for col in columns]\n",
    "        + [F.percentile_approx(col, 0.75).alias(f\"{col}_Q3\") for col in columns]\n",
    "        + [F.min(col).alias(f\"{col}_Min\") for col in columns]\n",
    "        + [F.max(col).alias(f\"{col}_Max\") for col in columns]\n",
    "    ).first()\n",
    "\n",
    "    box_plot_data = {**{col: [] for col in columns}}\n",
    "\n",
    "    for col in columns:\n",
    "        box_plot_data[col].extend(\n",
    "            [\n",
    "                box_plot_stats[f\"{col}_Min\"],\n",
    "                box_plot_stats[f\"{col}_Q1\"],\n",
    "                box_plot_stats[f\"{col}_Median\"],\n",
    "                box_plot_stats[f\"{col}_Q3\"],\n",
    "                box_plot_stats[f\"{col}_Max\"],\n",
    "            ]\n",
    "        )\n",
    "\n",
    "    box_plot_df = pd.DataFrame(box_plot_data)\n",
    "    melted_df = box_plot_df.melt(var_name=\"Variable\", value_name=\"Value\")\n",
    "\n",
    "    # Configurar el tamaño de la figura\n",
    "    plt.figure(figsize=figsize)\n",
    "    sns.boxplot(\n",
    "        data=melted_df,\n",
    "        x=\"Value\",\n",
    "        y=\"Variable\",\n",
    "        hue=\"Variable\",\n",
    "        palette=\"Set2\",\n",
    "        legend=False,\n",
    "    )\n",
    "    plt.xlabel(\"Valor\")\n",
    "    plt.title(title)\n",
    "    plt.grid(True)\n",
    "    plt.show()\n",
    "\n",
    "\n",
    "def calculate_outliers(df, column):\n",
    "    # Calcular Q1 y Q3\n",
    "    q1 = df.approxQuantile(column, [0.25], 0.01)[0]\n",
    "    q3 = df.approxQuantile(column, [0.75], 0.01)[0]\n",
    "\n",
    "    # Calcular IQR\n",
    "    iqr = q3 - q1\n",
    "\n",
    "    # Calcular límites inferior y superior\n",
    "    lower_bound = q1 - 1.5 * iqr\n",
    "    upper_bound = q3 + 1.5 * iqr\n",
    "\n",
    "    # Identificar outliers\n",
    "    outliers = df.filter((F.col(column) < lower_bound) | (F.col(column) > upper_bound))\n",
    "\n",
    "    # Contar outliers\n",
    "    conteo_outliers = outliers.count()\n",
    "\n",
    "    # Calcular el total de datos\n",
    "    total_datos = df.count()\n",
    "\n",
    "    # Calcular el porcentaje de outliers\n",
    "    porcentaje_outliers = round(\n",
    "        (conteo_outliers / total_datos) * 100 if total_datos > 0 else 0, 2\n",
    "    )\n",
    "\n",
    "    print(f\"Cantidad de outliers: {conteo_outliers:,}\")\n",
    "    print(f\"Porcentaje de outliers: {porcentaje_outliers:,} %\")\n",
    "\n",
    "    return lower_bound, upper_bound\n",
    "\n",
    "\n",
    "def calculate_and_print_percentiles(\n",
    "    df: DataFrame,\n",
    "    column: str,\n",
    "    probabilities: list = [0.97, 0.98, 0.9997, 0.9998, 0.9999],\n",
    "    relative_error: float = 0.01,\n",
    "):\n",
    "    # Calcular percentiles\n",
    "    percentiles = df.approxQuantile(column, probabilities, relative_error)\n",
    "\n",
    "    # Imprimir resultados\n",
    "    print(f\"Percentiles específicos de '{column}':\")\n",
    "    for p, value in zip(probabilities, percentiles):\n",
    "        print(f\"Percentil {p:.4f}: {value}\")\n",
    "\n",
    "\n",
    "def plot_correlation_matrix(\n",
    "    correlation_matrix,\n",
    "    title=\"Matriz de Correlación\",\n",
    "    cmap=\"coolwarm\",\n",
    "    figsize=(8, 6),\n",
    "    annot=True,\n",
    "):\n",
    "    # Crear el gráfico\n",
    "    plt.figure(figsize=figsize)\n",
    "    sns.heatmap(correlation_matrix, annot=annot, cmap=cmap, fmt=\".2f\", square=True)\n",
    "    plt.title(title)\n",
    "    plt.show()\n",
    "\n",
    "\n",
    "def generate_frequency_df(df, column):\n",
    "    # Contar la frecuencia absoluta usando PySpark\n",
    "    freq_df = (\n",
    "        df.groupBy(column).count().withColumnRenamed(\"count\", \"Absolute frequency\")\n",
    "    )\n",
    "\n",
    "    # Ordenar por 'Absolute frequency' de forma descendente\n",
    "    freq_df = freq_df.orderBy(F.col(\"Absolute frequency\").desc())\n",
    "\n",
    "    # Convertir el DataFrame de PySpark a un DataFrame de Pandas\n",
    "    pandas_df = freq_df.toPandas()\n",
    "\n",
    "    # Calcular la frecuencia relativa\n",
    "    total_count = pandas_df[\"Absolute frequency\"].sum()\n",
    "    pandas_df[\"Relative frequency\"] = (\n",
    "        pandas_df[\"Absolute frequency\"] / total_count * 100\n",
    "    )\n",
    "\n",
    "    # Calcular la frecuencia acumulada y el porcentaje acumulado\n",
    "    pandas_df[\"Accumulated frequency\"] = pandas_df[\"Absolute frequency\"].cumsum()\n",
    "    pandas_df[\"Accumulated %\"] = (\n",
    "        pandas_df[\"Accumulated frequency\"] / total_count\n",
    "    ) * 100\n",
    "\n",
    "    pandas_df = pandas_df.round(2)\n",
    "\n",
    "    return pandas_df[\n",
    "        [\n",
    "            column,\n",
    "            \"Absolute frequency\",\n",
    "            \"Relative frequency\",\n",
    "            \"Accumulated frequency\",\n",
    "            \"Accumulated %\",\n",
    "        ]\n",
    "    ]"
   ]
  },
  {
   "cell_type": "code",
   "execution_count": 89,
   "metadata": {
    "id": "DJNzXSU2JK3M",
    "tags": []
   },
   "outputs": [],
   "source": [
    "ss = SparkSession.builder.appName(\"bigdatita\").getOrCreate()"
   ]
  },
  {
   "cell_type": "markdown",
   "metadata": {
    "id": "8QTwMsGqJK2-"
   },
   "source": [
    "**2. Lectura de los archivos**"
   ]
  },
  {
   "cell_type": "code",
   "execution_count": 90,
   "metadata": {
    "id": "uFrawuVriJn3",
    "tags": []
   },
   "outputs": [
    {
     "data": {
      "text/plain": [
       "['hdfs:///user/bigdatita/taxi_trips_2023.csv',\n",
       " 'hdfs:///user/bigdatita/taxi_trips_2024.csv']"
      ]
     },
     "execution_count": 90,
     "metadata": {},
     "output_type": "execute_result"
    }
   ],
   "source": [
    "ruta = \"/user/bigdatita/\"\n",
    "cmd = f\"hdfs dfs -ls {ruta}\"\n",
    "lst = str(subprocess.check_output(cmd, shell=True)).strip().split(\"\\\\n\")\n",
    "lst = [x.split(\" \")[-1] for x in lst]\n",
    "lst = [\"hdfs://%s\" % x for x in lst if x != \"items\" if x != \"'\"]\n",
    "lst"
   ]
  },
  {
   "cell_type": "markdown",
   "metadata": {
    "id": "j3C_gaUiJK3K"
   },
   "source": [
    "**3. Lectura de archivos desde HDFS a Spark**"
   ]
  },
  {
   "cell_type": "code",
   "execution_count": 91,
   "metadata": {
    "id": "2zHQylYOJK3O",
    "tags": []
   },
   "outputs": [
    {
     "name": "stdout",
     "output_type": "stream",
     "text": [
      "hdfs:///user/bigdatita/taxi_trips_2023.csv\n",
      "hdfs:///user/bigdatita/taxi_trips_2024.csv\n",
      "CPU times: user 8.5 ms, sys: 93 μs, total: 8.59 ms\n",
      "Wall time: 523 ms\n"
     ]
    }
   ],
   "source": [
    "%%time\n",
    "for i, file in enumerate(lst):\n",
    "    print(file)\n",
    "    if i == 0:\n",
    "        raw_df = ss.read.csv(file, header=True, inferSchema=False)\n",
    "    else:\n",
    "        raw_df = raw_df.union(ss.read.csv(file, header=True, inferSchema=False))"
   ]
  },
  {
   "cell_type": "markdown",
   "metadata": {},
   "source": [
    "# 2. Pre procesamiento"
   ]
  },
  {
   "cell_type": "code",
   "execution_count": 92,
   "metadata": {
    "tags": []
   },
   "outputs": [],
   "source": [
    "# Renombrar columnas, para eliminar multiples espacios vación\n",
    "\n",
    "original_columns = raw_df.columns\n",
    "\n",
    "new_columns = {col: \" \".join(col.split()) for col in original_columns}\n",
    "\n",
    "# Renombrar las columnas en el DataFrame\n",
    "for old_name, new_name in new_columns.items():\n",
    "    raw_df = raw_df.withColumnRenamed(old_name, new_name)"
   ]
  },
  {
   "cell_type": "code",
   "execution_count": 93,
   "metadata": {
    "tags": []
   },
   "outputs": [],
   "source": [
    "date_format = \"MM/dd/yyyy hh:mm:ss a\"\n",
    "\n",
    "# Convertir tipos después de la carga\n",
    "df = raw_df.select(\n",
    "    F.col(\"Trip ID\").cast(StringType()),\n",
    "    F.col(\"Taxi ID\").cast(StringType()),\n",
    "    F.to_timestamp(F.col(\"Trip Start Timestamp\"), date_format).alias(\n",
    "        \"Trip Start Timestamp\"\n",
    "    ),\n",
    "    F.to_timestamp(F.col(\"Trip End Timestamp\"), date_format).alias(\n",
    "        \"Trip End Timestamp\"\n",
    "    ),\n",
    "    F.col(\"Trip Seconds\").cast(IntegerType()),\n",
    "    F.col(\"Trip Miles\").cast(FloatType()),\n",
    "    F.col(\"Pickup Census Tract\").cast(StringType()),\n",
    "    F.col(\"Dropoff Census Tract\").cast(StringType()),\n",
    "    F.col(\"Pickup Community Area\").cast(IntegerType()),\n",
    "    F.col(\"Dropoff Community Area\").cast(IntegerType()),\n",
    "    F.col(\"Fare\").cast(FloatType()),\n",
    "    F.col(\"Tips\").cast(FloatType()),\n",
    "    F.col(\"Tolls\").cast(FloatType()),\n",
    "    F.col(\"Extras\").cast(FloatType()),\n",
    "    F.col(\"Trip Total\").cast(FloatType()),\n",
    "    F.col(\"Payment Type\").cast(StringType()),\n",
    "    F.col(\"Company\").cast(StringType()),\n",
    "    F.col(\"Pickup Centroid Latitude\").cast(FloatType()),\n",
    "    F.col(\"Pickup Centroid Longitude\").cast(FloatType()),\n",
    "    F.col(\"Pickup Centroid Location\").cast(StringType()),\n",
    "    F.col(\"Dropoff Centroid Latitude\").cast(FloatType()),\n",
    "    F.col(\"Dropoff Centroid Longitude\").cast(FloatType()),\n",
    "    F.col(\"Dropoff Centroid Location\").cast(StringType()),\n",
    ")"
   ]
  },
  {
   "cell_type": "code",
   "execution_count": 94,
   "metadata": {
    "tags": []
   },
   "outputs": [],
   "source": [
    "df = df.withColumn(\"Fare\", F.round(F.col(\"Fare\"), 2))"
   ]
  },
  {
   "cell_type": "markdown",
   "metadata": {},
   "source": [
    "## Trabajando con muestreo (Eliminar en pasos finales del notebook)"
   ]
  },
  {
   "cell_type": "code",
   "execution_count": 95,
   "metadata": {
    "tags": []
   },
   "outputs": [
    {
     "name": "stderr",
     "output_type": "stream",
     "text": [
      "                                                                                \r"
     ]
    },
    {
     "data": {
      "text/plain": [
       "595652"
      ]
     },
     "execution_count": 95,
     "metadata": {},
     "output_type": "execute_result"
    }
   ],
   "source": [
    "from pyspark.sql.functions import weekofyear\n",
    "\n",
    "# 1. Agregar una columna 'Week' que represente la semana del año\n",
    "df_with_week = df.withColumn(\"Week\", weekofyear(\"Trip Start Timestamp\"))\n",
    "\n",
    "# 2. Obtener todas las semanas únicas presentes en los datos\n",
    "weeks = df_with_week.select(\"Week\").distinct().rdd.flatMap(lambda x: x).collect()\n",
    "\n",
    "# 3. Crear un diccionario de fracciones con la misma proporción para todas las semanas\n",
    "fraction_value = 0.05  # Cambia este valor según la fracción que desees\n",
    "fractions = {week: fraction_value for week in weeks}\n",
    "\n",
    "# 4. Aplicar el muestreo estratificado\n",
    "sampled_df = df_with_week.sampleBy(\"Week\", fractions, seed=42)\n",
    "\n",
    "df = sampled_df\n",
    "df.count()"
   ]
  },
  {
   "cell_type": "code",
   "execution_count": 96,
   "metadata": {
    "tags": []
   },
   "outputs": [
    {
     "name": "stdout",
     "output_type": "stream",
     "text": [
      "Número de particiones: 38\n"
     ]
    }
   ],
   "source": [
    "num_partitions = df.rdd.getNumPartitions()\n",
    "print(\"Número de particiones:\", num_partitions)"
   ]
  },
  {
   "cell_type": "code",
   "execution_count": 97,
   "metadata": {
    "id": "0FA49BZ8JK3V",
    "tags": []
   },
   "outputs": [],
   "source": [
    "df = df[(df[\"Trip Start Timestamp\"] <= \"2024-08-31\")]"
   ]
  },
  {
   "cell_type": "code",
   "execution_count": 98,
   "metadata": {},
   "outputs": [
    {
     "data": {
      "text/plain": [
       "DataFrame[Trip ID: string, Taxi ID: string, Trip Start Timestamp: timestamp, Trip End Timestamp: timestamp, Trip Seconds: int, Trip Miles: float, Pickup Census Tract: string, Dropoff Census Tract: string, Pickup Community Area: int, Dropoff Community Area: int, Fare: float, Tips: float, Tolls: float, Extras: float, Trip Total: float, Payment Type: string, Company: string, Pickup Centroid Latitude: float, Pickup Centroid Longitude: float, Pickup Centroid Location: string, Dropoff Centroid Latitude: float, Dropoff Centroid Longitude: float, Dropoff Centroid Location: string, Week: int]"
      ]
     },
     "execution_count": 98,
     "metadata": {},
     "output_type": "execute_result"
    }
   ],
   "source": [
    "df.cache()"
   ]
  },
  {
   "cell_type": "markdown",
   "metadata": {
    "tags": []
   },
   "source": [
    "# 3. Análisis exploratorio de Datos (EDA)"
   ]
  },
  {
   "cell_type": "code",
   "execution_count": 99,
   "metadata": {
    "id": "Ws_jQJQ-JK3e",
    "tags": []
   },
   "outputs": [
    {
     "name": "stderr",
     "output_type": "stream",
     "text": [
      "                                                                                \r"
     ]
    },
    {
     "data": {
      "text/html": [
       "<div>\n",
       "<style scoped>\n",
       "    .dataframe tbody tr th:only-of-type {\n",
       "        vertical-align: middle;\n",
       "    }\n",
       "\n",
       "    .dataframe tbody tr th {\n",
       "        vertical-align: top;\n",
       "    }\n",
       "\n",
       "    .dataframe thead th {\n",
       "        text-align: right;\n",
       "    }\n",
       "</style>\n",
       "<table border=\"1\" class=\"dataframe\">\n",
       "  <thead>\n",
       "    <tr style=\"text-align: right;\">\n",
       "      <th></th>\n",
       "      <th>summary</th>\n",
       "      <th>Trip ID</th>\n",
       "      <th>Taxi ID</th>\n",
       "      <th>Trip Seconds</th>\n",
       "      <th>Trip Miles</th>\n",
       "      <th>Pickup Census Tract</th>\n",
       "      <th>Dropoff Census Tract</th>\n",
       "      <th>Pickup Community Area</th>\n",
       "      <th>Dropoff Community Area</th>\n",
       "      <th>Fare</th>\n",
       "      <th>Tips</th>\n",
       "      <th>Tolls</th>\n",
       "      <th>Extras</th>\n",
       "      <th>Trip Total</th>\n",
       "      <th>Payment Type</th>\n",
       "      <th>Company</th>\n",
       "      <th>Pickup Centroid Latitude</th>\n",
       "      <th>Pickup Centroid Longitude</th>\n",
       "      <th>Pickup Centroid Location</th>\n",
       "      <th>Dropoff Centroid Latitude</th>\n",
       "      <th>Dropoff Centroid Longitude</th>\n",
       "      <th>Dropoff Centroid Location</th>\n",
       "      <th>Week</th>\n",
       "    </tr>\n",
       "  </thead>\n",
       "  <tbody>\n",
       "    <tr>\n",
       "      <th>0</th>\n",
       "      <td>count</td>\n",
       "      <td>536861</td>\n",
       "      <td>536861</td>\n",
       "      <td>536757</td>\n",
       "      <td>536860</td>\n",
       "      <td>235681</td>\n",
       "      <td>228807</td>\n",
       "      <td>518623</td>\n",
       "      <td>485244</td>\n",
       "      <td>535612</td>\n",
       "      <td>535612</td>\n",
       "      <td>535612</td>\n",
       "      <td>535612</td>\n",
       "      <td>535612</td>\n",
       "      <td>536861</td>\n",
       "      <td>536861</td>\n",
       "      <td>518839</td>\n",
       "      <td>518839</td>\n",
       "      <td>518839</td>\n",
       "      <td>488576</td>\n",
       "      <td>488576</td>\n",
       "      <td>488576</td>\n",
       "      <td>536861</td>\n",
       "    </tr>\n",
       "    <tr>\n",
       "      <th>1</th>\n",
       "      <td>mean</td>\n",
       "      <td>None</td>\n",
       "      <td>None</td>\n",
       "      <td>1249.0027405324943</td>\n",
       "      <td>6.592964497324775</td>\n",
       "      <td>1.703150790684796E10</td>\n",
       "      <td>1.7031414922236212E10</td>\n",
       "      <td>35.78768585272925</td>\n",
       "      <td>26.2286107607719</td>\n",
       "      <td>22.554954706817686</td>\n",
       "      <td>2.959021717602296</td>\n",
       "      <td>0.048945542291540765</td>\n",
       "      <td>2.2621463865186326</td>\n",
       "      <td>28.003453242267216</td>\n",
       "      <td>None</td>\n",
       "      <td>None</td>\n",
       "      <td>41.90216530890537</td>\n",
       "      <td>-87.70180179935575</td>\n",
       "      <td>None</td>\n",
       "      <td>41.89364968333564</td>\n",
       "      <td>-87.66222832112028</td>\n",
       "      <td>None</td>\n",
       "      <td>23.661003499974854</td>\n",
       "    </tr>\n",
       "    <tr>\n",
       "      <th>2</th>\n",
       "      <td>stddev</td>\n",
       "      <td>None</td>\n",
       "      <td>None</td>\n",
       "      <td>1662.6688722033439</td>\n",
       "      <td>8.178383496002912</td>\n",
       "      <td>375300.7182909828</td>\n",
       "      <td>344253.638417596</td>\n",
       "      <td>26.309680636665043</td>\n",
       "      <td>20.94359994248167</td>\n",
       "      <td>34.03342259057002</td>\n",
       "      <td>4.288870439304322</td>\n",
       "      <td>10.969640099651631</td>\n",
       "      <td>18.085553509407383</td>\n",
       "      <td>44.324391884263775</td>\n",
       "      <td>None</td>\n",
       "      <td>None</td>\n",
       "      <td>0.06370218472507515</td>\n",
       "      <td>0.11408751488191964</td>\n",
       "      <td>None</td>\n",
       "      <td>0.05721831474980124</td>\n",
       "      <td>0.07346069081646511</td>\n",
       "      <td>None</td>\n",
       "      <td>13.332614753255553</td>\n",
       "    </tr>\n",
       "    <tr>\n",
       "      <th>3</th>\n",
       "      <td>min</td>\n",
       "      <td>000010bcd146bdb648d48209aa14ce4ba48a2add</td>\n",
       "      <td>0041f8f0c91881c1e1913f2548522495fe3c4c719aa67f...</td>\n",
       "      <td>0</td>\n",
       "      <td>0.0</td>\n",
       "      <td>17031010100</td>\n",
       "      <td>17031010100</td>\n",
       "      <td>1</td>\n",
       "      <td>1</td>\n",
       "      <td>0.0</td>\n",
       "      <td>0.0</td>\n",
       "      <td>0.0</td>\n",
       "      <td>0.0</td>\n",
       "      <td>0.0</td>\n",
       "      <td>Cash</td>\n",
       "      <td>2733 - 74600 Benny Jona</td>\n",
       "      <td>41.660137</td>\n",
       "      <td>-87.91363</td>\n",
       "      <td>POINT (-87.5313862567 41.7204632831)</td>\n",
       "      <td>41.660137</td>\n",
       "      <td>-87.91363</td>\n",
       "      <td>POINT (-87.5349029012 41.707311449)</td>\n",
       "      <td>1</td>\n",
       "    </tr>\n",
       "    <tr>\n",
       "      <th>4</th>\n",
       "      <td>max</td>\n",
       "      <td>fffff2701b432d8eb5aee2bcce460d902f83d0bd</td>\n",
       "      <td>ffda53354c610fd3af1aee46d723028a49014e35f7280c...</td>\n",
       "      <td>86220</td>\n",
       "      <td>2265.43</td>\n",
       "      <td>17031980100</td>\n",
       "      <td>17031980100</td>\n",
       "      <td>77</td>\n",
       "      <td>77</td>\n",
       "      <td>9999.75</td>\n",
       "      <td>400.0</td>\n",
       "      <td>5000.0</td>\n",
       "      <td>9693.78</td>\n",
       "      <td>9999.75</td>\n",
       "      <td>Unknown</td>\n",
       "      <td>Wolley Taxi</td>\n",
       "      <td>42.021225</td>\n",
       "      <td>-87.53139</td>\n",
       "      <td>POINT (-87.913624596 41.9802643146)</td>\n",
       "      <td>42.021225</td>\n",
       "      <td>-87.534904</td>\n",
       "      <td>POINT (-87.913624596 41.9802643146)</td>\n",
       "      <td>52</td>\n",
       "    </tr>\n",
       "  </tbody>\n",
       "</table>\n",
       "</div>"
      ],
      "text/plain": [
       "  summary                                   Trip ID                                            Taxi ID        Trip Seconds         Trip Miles   Pickup Census Tract   Dropoff Census Tract Pickup Community Area Dropoff Community Area                Fare               Tips                 Tolls              Extras          Trip Total Payment Type                  Company Pickup Centroid Latitude Pickup Centroid Longitude              Pickup Centroid Location Dropoff Centroid Latitude Dropoff Centroid Longitude            Dropoff Centroid Location                Week\n",
       "0   count                                    536861                                             536861              536757             536860                235681                 228807                518623                 485244              535612             535612                535612              535612              535612       536861                   536861                   518839                    518839                                518839                    488576                     488576                               488576              536861\n",
       "1    mean                                      None                                               None  1249.0027405324943  6.592964497324775  1.703150790684796E10  1.7031414922236212E10     35.78768585272925       26.2286107607719  22.554954706817686  2.959021717602296  0.048945542291540765  2.2621463865186326  28.003453242267216         None                     None        41.90216530890537        -87.70180179935575                                  None         41.89364968333564         -87.66222832112028                                 None  23.661003499974854\n",
       "2  stddev                                      None                                               None  1662.6688722033439  8.178383496002912     375300.7182909828       344253.638417596    26.309680636665043      20.94359994248167   34.03342259057002  4.288870439304322    10.969640099651631  18.085553509407383  44.324391884263775         None                     None      0.06370218472507515       0.11408751488191964                                  None       0.05721831474980124        0.07346069081646511                                 None  13.332614753255553\n",
       "3     min  000010bcd146bdb648d48209aa14ce4ba48a2add  0041f8f0c91881c1e1913f2548522495fe3c4c719aa67f...                   0                0.0           17031010100            17031010100                     1                      1                 0.0                0.0                   0.0                 0.0                 0.0         Cash  2733 - 74600 Benny Jona                41.660137                 -87.91363  POINT (-87.5313862567 41.7204632831)                 41.660137                  -87.91363  POINT (-87.5349029012 41.707311449)                   1\n",
       "4     max  fffff2701b432d8eb5aee2bcce460d902f83d0bd  ffda53354c610fd3af1aee46d723028a49014e35f7280c...               86220            2265.43           17031980100            17031980100                    77                     77             9999.75              400.0                5000.0             9693.78             9999.75      Unknown              Wolley Taxi                42.021225                 -87.53139   POINT (-87.913624596 41.9802643146)                 42.021225                 -87.534904  POINT (-87.913624596 41.9802643146)                  52"
      ]
     },
     "execution_count": 99,
     "metadata": {},
     "output_type": "execute_result"
    }
   ],
   "source": [
    "describe_df = df.describe().toPandas()\n",
    "describe_df.round(2)"
   ]
  },
  {
   "cell_type": "markdown",
   "metadata": {},
   "source": [
    "## Distribución de los datos"
   ]
  },
  {
   "cell_type": "code",
   "execution_count": 100,
   "metadata": {
    "tags": []
   },
   "outputs": [
    {
     "data": {
      "text/html": [
       "<div>\n",
       "<style scoped>\n",
       "    .dataframe tbody tr th:only-of-type {\n",
       "        vertical-align: middle;\n",
       "    }\n",
       "\n",
       "    .dataframe tbody tr th {\n",
       "        vertical-align: top;\n",
       "    }\n",
       "\n",
       "    .dataframe thead th {\n",
       "        text-align: right;\n",
       "    }\n",
       "</style>\n",
       "<table border=\"1\" class=\"dataframe\">\n",
       "  <thead>\n",
       "    <tr style=\"text-align: right;\">\n",
       "      <th></th>\n",
       "      <th>Pickup Census Tract</th>\n",
       "      <th>Absolute frequency</th>\n",
       "      <th>Relative frequency</th>\n",
       "      <th>Accumulated frequency</th>\n",
       "      <th>Accumulated %</th>\n",
       "    </tr>\n",
       "  </thead>\n",
       "  <tbody>\n",
       "    <tr>\n",
       "      <th>0</th>\n",
       "      <td>None</td>\n",
       "      <td>301180</td>\n",
       "      <td>56.10</td>\n",
       "      <td>301180</td>\n",
       "      <td>56.10</td>\n",
       "    </tr>\n",
       "    <tr>\n",
       "      <th>1</th>\n",
       "      <td>17031980000</td>\n",
       "      <td>57204</td>\n",
       "      <td>10.66</td>\n",
       "      <td>358384</td>\n",
       "      <td>66.76</td>\n",
       "    </tr>\n",
       "    <tr>\n",
       "      <th>2</th>\n",
       "      <td>17031320100</td>\n",
       "      <td>25487</td>\n",
       "      <td>4.75</td>\n",
       "      <td>383871</td>\n",
       "      <td>71.50</td>\n",
       "    </tr>\n",
       "    <tr>\n",
       "      <th>3</th>\n",
       "      <td>17031839100</td>\n",
       "      <td>25429</td>\n",
       "      <td>4.74</td>\n",
       "      <td>409300</td>\n",
       "      <td>76.24</td>\n",
       "    </tr>\n",
       "    <tr>\n",
       "      <th>4</th>\n",
       "      <td>17031281900</td>\n",
       "      <td>18976</td>\n",
       "      <td>3.53</td>\n",
       "      <td>428276</td>\n",
       "      <td>79.77</td>\n",
       "    </tr>\n",
       "    <tr>\n",
       "      <th>5</th>\n",
       "      <td>17031081500</td>\n",
       "      <td>14304</td>\n",
       "      <td>2.66</td>\n",
       "      <td>442580</td>\n",
       "      <td>82.44</td>\n",
       "    </tr>\n",
       "    <tr>\n",
       "      <th>6</th>\n",
       "      <td>17031081401</td>\n",
       "      <td>9334</td>\n",
       "      <td>1.74</td>\n",
       "      <td>451914</td>\n",
       "      <td>84.18</td>\n",
       "    </tr>\n",
       "    <tr>\n",
       "      <th>7</th>\n",
       "      <td>17031980100</td>\n",
       "      <td>9098</td>\n",
       "      <td>1.69</td>\n",
       "      <td>461012</td>\n",
       "      <td>85.87</td>\n",
       "    </tr>\n",
       "    <tr>\n",
       "      <th>8</th>\n",
       "      <td>17031330100</td>\n",
       "      <td>8883</td>\n",
       "      <td>1.65</td>\n",
       "      <td>469895</td>\n",
       "      <td>87.53</td>\n",
       "    </tr>\n",
       "    <tr>\n",
       "      <th>9</th>\n",
       "      <td>17031081403</td>\n",
       "      <td>8467</td>\n",
       "      <td>1.58</td>\n",
       "      <td>478362</td>\n",
       "      <td>89.10</td>\n",
       "    </tr>\n",
       "  </tbody>\n",
       "</table>\n",
       "</div>"
      ],
      "text/plain": [
       "  Pickup Census Tract  Absolute frequency  Relative frequency  Accumulated frequency  Accumulated %\n",
       "0                None              301180               56.10                 301180          56.10\n",
       "1         17031980000               57204               10.66                 358384          66.76\n",
       "2         17031320100               25487                4.75                 383871          71.50\n",
       "3         17031839100               25429                4.74                 409300          76.24\n",
       "4         17031281900               18976                3.53                 428276          79.77\n",
       "5         17031081500               14304                2.66                 442580          82.44\n",
       "6         17031081401                9334                1.74                 451914          84.18\n",
       "7         17031980100                9098                1.69                 461012          85.87\n",
       "8         17031330100                8883                1.65                 469895          87.53\n",
       "9         17031081403                8467                1.58                 478362          89.10"
      ]
     },
     "execution_count": 100,
     "metadata": {},
     "output_type": "execute_result"
    }
   ],
   "source": [
    "generate_frequency_df(df, \"Pickup Census Tract\").head(10)"
   ]
  },
  {
   "cell_type": "code",
   "execution_count": 101,
   "metadata": {
    "tags": []
   },
   "outputs": [
    {
     "data": {
      "text/html": [
       "<div>\n",
       "<style scoped>\n",
       "    .dataframe tbody tr th:only-of-type {\n",
       "        vertical-align: middle;\n",
       "    }\n",
       "\n",
       "    .dataframe tbody tr th {\n",
       "        vertical-align: top;\n",
       "    }\n",
       "\n",
       "    .dataframe thead th {\n",
       "        text-align: right;\n",
       "    }\n",
       "</style>\n",
       "<table border=\"1\" class=\"dataframe\">\n",
       "  <thead>\n",
       "    <tr style=\"text-align: right;\">\n",
       "      <th></th>\n",
       "      <th>Dropoff Census Tract</th>\n",
       "      <th>Absolute frequency</th>\n",
       "      <th>Relative frequency</th>\n",
       "      <th>Accumulated frequency</th>\n",
       "      <th>Accumulated %</th>\n",
       "    </tr>\n",
       "  </thead>\n",
       "  <tbody>\n",
       "    <tr>\n",
       "      <th>0</th>\n",
       "      <td>None</td>\n",
       "      <td>308054</td>\n",
       "      <td>57.38</td>\n",
       "      <td>308054</td>\n",
       "      <td>57.38</td>\n",
       "    </tr>\n",
       "    <tr>\n",
       "      <th>1</th>\n",
       "      <td>17031839100</td>\n",
       "      <td>31114</td>\n",
       "      <td>5.80</td>\n",
       "      <td>339168</td>\n",
       "      <td>63.18</td>\n",
       "    </tr>\n",
       "    <tr>\n",
       "      <th>2</th>\n",
       "      <td>17031320100</td>\n",
       "      <td>24453</td>\n",
       "      <td>4.55</td>\n",
       "      <td>363621</td>\n",
       "      <td>67.73</td>\n",
       "    </tr>\n",
       "    <tr>\n",
       "      <th>3</th>\n",
       "      <td>17031980000</td>\n",
       "      <td>19273</td>\n",
       "      <td>3.59</td>\n",
       "      <td>382894</td>\n",
       "      <td>71.32</td>\n",
       "    </tr>\n",
       "    <tr>\n",
       "      <th>4</th>\n",
       "      <td>17031081500</td>\n",
       "      <td>13930</td>\n",
       "      <td>2.59</td>\n",
       "      <td>396824</td>\n",
       "      <td>73.92</td>\n",
       "    </tr>\n",
       "    <tr>\n",
       "      <th>...</th>\n",
       "      <td>...</td>\n",
       "      <td>...</td>\n",
       "      <td>...</td>\n",
       "      <td>...</td>\n",
       "      <td>...</td>\n",
       "    </tr>\n",
       "    <tr>\n",
       "      <th>495</th>\n",
       "      <td>17031803100</td>\n",
       "      <td>1</td>\n",
       "      <td>0.00</td>\n",
       "      <td>536857</td>\n",
       "      <td>100.00</td>\n",
       "    </tr>\n",
       "    <tr>\n",
       "      <th>496</th>\n",
       "      <td>17031590500</td>\n",
       "      <td>1</td>\n",
       "      <td>0.00</td>\n",
       "      <td>536858</td>\n",
       "      <td>100.00</td>\n",
       "    </tr>\n",
       "    <tr>\n",
       "      <th>497</th>\n",
       "      <td>17031838700</td>\n",
       "      <td>1</td>\n",
       "      <td>0.00</td>\n",
       "      <td>536859</td>\n",
       "      <td>100.00</td>\n",
       "    </tr>\n",
       "    <tr>\n",
       "      <th>498</th>\n",
       "      <td>17031221400</td>\n",
       "      <td>1</td>\n",
       "      <td>0.00</td>\n",
       "      <td>536860</td>\n",
       "      <td>100.00</td>\n",
       "    </tr>\n",
       "    <tr>\n",
       "      <th>499</th>\n",
       "      <td>17031351100</td>\n",
       "      <td>1</td>\n",
       "      <td>0.00</td>\n",
       "      <td>536861</td>\n",
       "      <td>100.00</td>\n",
       "    </tr>\n",
       "  </tbody>\n",
       "</table>\n",
       "<p>500 rows × 5 columns</p>\n",
       "</div>"
      ],
      "text/plain": [
       "    Dropoff Census Tract  Absolute frequency  Relative frequency  Accumulated frequency  Accumulated %\n",
       "0                   None              308054               57.38                 308054          57.38\n",
       "1            17031839100               31114                5.80                 339168          63.18\n",
       "2            17031320100               24453                4.55                 363621          67.73\n",
       "3            17031980000               19273                3.59                 382894          71.32\n",
       "4            17031081500               13930                2.59                 396824          73.92\n",
       "..                   ...                 ...                 ...                    ...            ...\n",
       "495          17031803100                   1                0.00                 536857         100.00\n",
       "496          17031590500                   1                0.00                 536858         100.00\n",
       "497          17031838700                   1                0.00                 536859         100.00\n",
       "498          17031221400                   1                0.00                 536860         100.00\n",
       "499          17031351100                   1                0.00                 536861         100.00\n",
       "\n",
       "[500 rows x 5 columns]"
      ]
     },
     "execution_count": 101,
     "metadata": {},
     "output_type": "execute_result"
    }
   ],
   "source": [
    "generate_frequency_df(df, \"Dropoff Census Tract\")"
   ]
  },
  {
   "cell_type": "code",
   "execution_count": 102,
   "metadata": {
    "tags": []
   },
   "outputs": [
    {
     "data": {
      "text/html": [
       "<div>\n",
       "<style scoped>\n",
       "    .dataframe tbody tr th:only-of-type {\n",
       "        vertical-align: middle;\n",
       "    }\n",
       "\n",
       "    .dataframe tbody tr th {\n",
       "        vertical-align: top;\n",
       "    }\n",
       "\n",
       "    .dataframe thead th {\n",
       "        text-align: right;\n",
       "    }\n",
       "</style>\n",
       "<table border=\"1\" class=\"dataframe\">\n",
       "  <thead>\n",
       "    <tr style=\"text-align: right;\">\n",
       "      <th></th>\n",
       "      <th>Pickup Community Area</th>\n",
       "      <th>Absolute frequency</th>\n",
       "      <th>Relative frequency</th>\n",
       "      <th>Accumulated frequency</th>\n",
       "      <th>Accumulated %</th>\n",
       "    </tr>\n",
       "  </thead>\n",
       "  <tbody>\n",
       "    <tr>\n",
       "      <th>0</th>\n",
       "      <td>8.0</td>\n",
       "      <td>115247</td>\n",
       "      <td>21.47</td>\n",
       "      <td>115247</td>\n",
       "      <td>21.47</td>\n",
       "    </tr>\n",
       "    <tr>\n",
       "      <th>1</th>\n",
       "      <td>76.0</td>\n",
       "      <td>112623</td>\n",
       "      <td>20.98</td>\n",
       "      <td>227870</td>\n",
       "      <td>42.44</td>\n",
       "    </tr>\n",
       "    <tr>\n",
       "      <th>2</th>\n",
       "      <td>32.0</td>\n",
       "      <td>86795</td>\n",
       "      <td>16.17</td>\n",
       "      <td>314665</td>\n",
       "      <td>58.61</td>\n",
       "    </tr>\n",
       "    <tr>\n",
       "      <th>3</th>\n",
       "      <td>28.0</td>\n",
       "      <td>49473</td>\n",
       "      <td>9.22</td>\n",
       "      <td>364138</td>\n",
       "      <td>67.83</td>\n",
       "    </tr>\n",
       "    <tr>\n",
       "      <th>4</th>\n",
       "      <td>56.0</td>\n",
       "      <td>19175</td>\n",
       "      <td>3.57</td>\n",
       "      <td>383313</td>\n",
       "      <td>71.40</td>\n",
       "    </tr>\n",
       "    <tr>\n",
       "      <th>5</th>\n",
       "      <td>33.0</td>\n",
       "      <td>18628</td>\n",
       "      <td>3.47</td>\n",
       "      <td>401941</td>\n",
       "      <td>74.87</td>\n",
       "    </tr>\n",
       "    <tr>\n",
       "      <th>6</th>\n",
       "      <td>NaN</td>\n",
       "      <td>18238</td>\n",
       "      <td>3.40</td>\n",
       "      <td>420179</td>\n",
       "      <td>78.27</td>\n",
       "    </tr>\n",
       "    <tr>\n",
       "      <th>7</th>\n",
       "      <td>6.0</td>\n",
       "      <td>17733</td>\n",
       "      <td>3.30</td>\n",
       "      <td>437912</td>\n",
       "      <td>81.57</td>\n",
       "    </tr>\n",
       "    <tr>\n",
       "      <th>8</th>\n",
       "      <td>7.0</td>\n",
       "      <td>10886</td>\n",
       "      <td>2.03</td>\n",
       "      <td>448798</td>\n",
       "      <td>83.60</td>\n",
       "    </tr>\n",
       "    <tr>\n",
       "      <th>9</th>\n",
       "      <td>3.0</td>\n",
       "      <td>8176</td>\n",
       "      <td>1.52</td>\n",
       "      <td>456974</td>\n",
       "      <td>85.12</td>\n",
       "    </tr>\n",
       "  </tbody>\n",
       "</table>\n",
       "</div>"
      ],
      "text/plain": [
       "   Pickup Community Area  Absolute frequency  Relative frequency  Accumulated frequency  Accumulated %\n",
       "0                    8.0              115247               21.47                 115247          21.47\n",
       "1                   76.0              112623               20.98                 227870          42.44\n",
       "2                   32.0               86795               16.17                 314665          58.61\n",
       "3                   28.0               49473                9.22                 364138          67.83\n",
       "4                   56.0               19175                3.57                 383313          71.40\n",
       "5                   33.0               18628                3.47                 401941          74.87\n",
       "6                    NaN               18238                3.40                 420179          78.27\n",
       "7                    6.0               17733                3.30                 437912          81.57\n",
       "8                    7.0               10886                2.03                 448798          83.60\n",
       "9                    3.0                8176                1.52                 456974          85.12"
      ]
     },
     "execution_count": 102,
     "metadata": {},
     "output_type": "execute_result"
    }
   ],
   "source": [
    "generate_frequency_df(df, \"Pickup Community Area\").head(10)"
   ]
  },
  {
   "cell_type": "code",
   "execution_count": 103,
   "metadata": {
    "tags": []
   },
   "outputs": [
    {
     "data": {
      "text/html": [
       "<div>\n",
       "<style scoped>\n",
       "    .dataframe tbody tr th:only-of-type {\n",
       "        vertical-align: middle;\n",
       "    }\n",
       "\n",
       "    .dataframe tbody tr th {\n",
       "        vertical-align: top;\n",
       "    }\n",
       "\n",
       "    .dataframe thead th {\n",
       "        text-align: right;\n",
       "    }\n",
       "</style>\n",
       "<table border=\"1\" class=\"dataframe\">\n",
       "  <thead>\n",
       "    <tr style=\"text-align: right;\">\n",
       "      <th></th>\n",
       "      <th>Payment Type</th>\n",
       "      <th>Absolute frequency</th>\n",
       "      <th>Relative frequency</th>\n",
       "      <th>Accumulated frequency</th>\n",
       "      <th>Accumulated %</th>\n",
       "    </tr>\n",
       "  </thead>\n",
       "  <tbody>\n",
       "    <tr>\n",
       "      <th>0</th>\n",
       "      <td>Credit Card</td>\n",
       "      <td>215791</td>\n",
       "      <td>40.19</td>\n",
       "      <td>215791</td>\n",
       "      <td>40.19</td>\n",
       "    </tr>\n",
       "    <tr>\n",
       "      <th>1</th>\n",
       "      <td>Cash</td>\n",
       "      <td>158696</td>\n",
       "      <td>29.56</td>\n",
       "      <td>374487</td>\n",
       "      <td>69.75</td>\n",
       "    </tr>\n",
       "    <tr>\n",
       "      <th>2</th>\n",
       "      <td>Mobile</td>\n",
       "      <td>81625</td>\n",
       "      <td>15.20</td>\n",
       "      <td>456112</td>\n",
       "      <td>84.96</td>\n",
       "    </tr>\n",
       "    <tr>\n",
       "      <th>3</th>\n",
       "      <td>Prcard</td>\n",
       "      <td>56707</td>\n",
       "      <td>10.56</td>\n",
       "      <td>512819</td>\n",
       "      <td>95.52</td>\n",
       "    </tr>\n",
       "    <tr>\n",
       "      <th>4</th>\n",
       "      <td>Unknown</td>\n",
       "      <td>23231</td>\n",
       "      <td>4.33</td>\n",
       "      <td>536050</td>\n",
       "      <td>99.85</td>\n",
       "    </tr>\n",
       "    <tr>\n",
       "      <th>5</th>\n",
       "      <td>No Charge</td>\n",
       "      <td>604</td>\n",
       "      <td>0.11</td>\n",
       "      <td>536654</td>\n",
       "      <td>99.96</td>\n",
       "    </tr>\n",
       "    <tr>\n",
       "      <th>6</th>\n",
       "      <td>Dispute</td>\n",
       "      <td>207</td>\n",
       "      <td>0.04</td>\n",
       "      <td>536861</td>\n",
       "      <td>100.00</td>\n",
       "    </tr>\n",
       "  </tbody>\n",
       "</table>\n",
       "</div>"
      ],
      "text/plain": [
       "  Payment Type  Absolute frequency  Relative frequency  Accumulated frequency  Accumulated %\n",
       "0  Credit Card              215791               40.19                 215791          40.19\n",
       "1         Cash              158696               29.56                 374487          69.75\n",
       "2       Mobile               81625               15.20                 456112          84.96\n",
       "3       Prcard               56707               10.56                 512819          95.52\n",
       "4      Unknown               23231                4.33                 536050          99.85\n",
       "5    No Charge                 604                0.11                 536654          99.96\n",
       "6      Dispute                 207                0.04                 536861         100.00"
      ]
     },
     "execution_count": 103,
     "metadata": {},
     "output_type": "execute_result"
    }
   ],
   "source": [
    "generate_frequency_df(df, \"Payment Type\").head(10)"
   ]
  },
  {
   "cell_type": "code",
   "execution_count": 104,
   "metadata": {
    "tags": []
   },
   "outputs": [
    {
     "data": {
      "text/html": [
       "<div>\n",
       "<style scoped>\n",
       "    .dataframe tbody tr th:only-of-type {\n",
       "        vertical-align: middle;\n",
       "    }\n",
       "\n",
       "    .dataframe tbody tr th {\n",
       "        vertical-align: top;\n",
       "    }\n",
       "\n",
       "    .dataframe thead th {\n",
       "        text-align: right;\n",
       "    }\n",
       "</style>\n",
       "<table border=\"1\" class=\"dataframe\">\n",
       "  <thead>\n",
       "    <tr style=\"text-align: right;\">\n",
       "      <th></th>\n",
       "      <th>Company</th>\n",
       "      <th>Absolute frequency</th>\n",
       "      <th>Relative frequency</th>\n",
       "      <th>Accumulated frequency</th>\n",
       "      <th>Accumulated %</th>\n",
       "    </tr>\n",
       "  </thead>\n",
       "  <tbody>\n",
       "    <tr>\n",
       "      <th>0</th>\n",
       "      <td>Flash Cab</td>\n",
       "      <td>107579</td>\n",
       "      <td>20.04</td>\n",
       "      <td>107579</td>\n",
       "      <td>20.04</td>\n",
       "    </tr>\n",
       "    <tr>\n",
       "      <th>1</th>\n",
       "      <td>Taxi Affiliation Services</td>\n",
       "      <td>99793</td>\n",
       "      <td>18.59</td>\n",
       "      <td>207372</td>\n",
       "      <td>38.63</td>\n",
       "    </tr>\n",
       "    <tr>\n",
       "      <th>2</th>\n",
       "      <td>Sun Taxi</td>\n",
       "      <td>59401</td>\n",
       "      <td>11.06</td>\n",
       "      <td>266773</td>\n",
       "      <td>49.69</td>\n",
       "    </tr>\n",
       "    <tr>\n",
       "      <th>3</th>\n",
       "      <td>Taxicab Insurance Agency Llc</td>\n",
       "      <td>54402</td>\n",
       "      <td>10.13</td>\n",
       "      <td>321175</td>\n",
       "      <td>59.82</td>\n",
       "    </tr>\n",
       "    <tr>\n",
       "      <th>4</th>\n",
       "      <td>City Service</td>\n",
       "      <td>52583</td>\n",
       "      <td>9.79</td>\n",
       "      <td>373758</td>\n",
       "      <td>69.62</td>\n",
       "    </tr>\n",
       "    <tr>\n",
       "      <th>5</th>\n",
       "      <td>Chicago Independents</td>\n",
       "      <td>31780</td>\n",
       "      <td>5.92</td>\n",
       "      <td>405538</td>\n",
       "      <td>75.54</td>\n",
       "    </tr>\n",
       "    <tr>\n",
       "      <th>6</th>\n",
       "      <td>5 Star Taxi</td>\n",
       "      <td>24307</td>\n",
       "      <td>4.53</td>\n",
       "      <td>429845</td>\n",
       "      <td>80.07</td>\n",
       "    </tr>\n",
       "    <tr>\n",
       "      <th>7</th>\n",
       "      <td>Globe Taxi</td>\n",
       "      <td>19472</td>\n",
       "      <td>3.63</td>\n",
       "      <td>449317</td>\n",
       "      <td>83.69</td>\n",
       "    </tr>\n",
       "    <tr>\n",
       "      <th>8</th>\n",
       "      <td>Blue Ribbon Taxi Association</td>\n",
       "      <td>17989</td>\n",
       "      <td>3.35</td>\n",
       "      <td>467306</td>\n",
       "      <td>87.04</td>\n",
       "    </tr>\n",
       "    <tr>\n",
       "      <th>9</th>\n",
       "      <td>Medallion Leasin</td>\n",
       "      <td>17479</td>\n",
       "      <td>3.26</td>\n",
       "      <td>484785</td>\n",
       "      <td>90.30</td>\n",
       "    </tr>\n",
       "  </tbody>\n",
       "</table>\n",
       "</div>"
      ],
      "text/plain": [
       "                        Company  Absolute frequency  Relative frequency  Accumulated frequency  Accumulated %\n",
       "0                     Flash Cab              107579               20.04                 107579          20.04\n",
       "1     Taxi Affiliation Services               99793               18.59                 207372          38.63\n",
       "2                      Sun Taxi               59401               11.06                 266773          49.69\n",
       "3  Taxicab Insurance Agency Llc               54402               10.13                 321175          59.82\n",
       "4                  City Service               52583                9.79                 373758          69.62\n",
       "5          Chicago Independents               31780                5.92                 405538          75.54\n",
       "6                   5 Star Taxi               24307                4.53                 429845          80.07\n",
       "7                    Globe Taxi               19472                3.63                 449317          83.69\n",
       "8  Blue Ribbon Taxi Association               17989                3.35                 467306          87.04\n",
       "9              Medallion Leasin               17479                3.26                 484785          90.30"
      ]
     },
     "execution_count": 104,
     "metadata": {},
     "output_type": "execute_result"
    }
   ],
   "source": [
    "generate_frequency_df(df, \"Company\").head(10)"
   ]
  },
  {
   "cell_type": "markdown",
   "metadata": {},
   "source": [
    "## Valores nulo"
   ]
  },
  {
   "cell_type": "code",
   "execution_count": 105,
   "metadata": {
    "tags": []
   },
   "outputs": [
    {
     "name": "stderr",
     "output_type": "stream",
     "text": [
      "                                                                                \r"
     ]
    },
    {
     "data": {
      "text/html": [
       "<div>\n",
       "<style scoped>\n",
       "    .dataframe tbody tr th:only-of-type {\n",
       "        vertical-align: middle;\n",
       "    }\n",
       "\n",
       "    .dataframe tbody tr th {\n",
       "        vertical-align: top;\n",
       "    }\n",
       "\n",
       "    .dataframe thead th {\n",
       "        text-align: right;\n",
       "    }\n",
       "</style>\n",
       "<table border=\"1\" class=\"dataframe\">\n",
       "  <thead>\n",
       "    <tr style=\"text-align: right;\">\n",
       "      <th></th>\n",
       "      <th>feature</th>\n",
       "      <th>count</th>\n",
       "      <th>%</th>\n",
       "    </tr>\n",
       "  </thead>\n",
       "  <tbody>\n",
       "    <tr>\n",
       "      <th>16</th>\n",
       "      <td>Dropoff Census Tract</td>\n",
       "      <td>308054</td>\n",
       "      <td>57.38</td>\n",
       "    </tr>\n",
       "    <tr>\n",
       "      <th>15</th>\n",
       "      <td>Pickup Census Tract</td>\n",
       "      <td>301180</td>\n",
       "      <td>56.10</td>\n",
       "    </tr>\n",
       "    <tr>\n",
       "      <th>18</th>\n",
       "      <td>Dropoff Community Area</td>\n",
       "      <td>51617</td>\n",
       "      <td>9.61</td>\n",
       "    </tr>\n",
       "    <tr>\n",
       "      <th>8</th>\n",
       "      <td>Dropoff Centroid Latitude</td>\n",
       "      <td>48285</td>\n",
       "      <td>8.99</td>\n",
       "    </tr>\n",
       "    <tr>\n",
       "      <th>22</th>\n",
       "      <td>Dropoff Centroid Location</td>\n",
       "      <td>48285</td>\n",
       "      <td>8.99</td>\n",
       "    </tr>\n",
       "    <tr>\n",
       "      <th>9</th>\n",
       "      <td>Dropoff Centroid Longitude</td>\n",
       "      <td>48285</td>\n",
       "      <td>8.99</td>\n",
       "    </tr>\n",
       "    <tr>\n",
       "      <th>17</th>\n",
       "      <td>Pickup Community Area</td>\n",
       "      <td>18238</td>\n",
       "      <td>3.40</td>\n",
       "    </tr>\n",
       "    <tr>\n",
       "      <th>6</th>\n",
       "      <td>Pickup Centroid Latitude</td>\n",
       "      <td>18022</td>\n",
       "      <td>3.36</td>\n",
       "    </tr>\n",
       "    <tr>\n",
       "      <th>7</th>\n",
       "      <td>Pickup Centroid Longitude</td>\n",
       "      <td>18022</td>\n",
       "      <td>3.36</td>\n",
       "    </tr>\n",
       "    <tr>\n",
       "      <th>21</th>\n",
       "      <td>Pickup Centroid Location</td>\n",
       "      <td>18022</td>\n",
       "      <td>3.36</td>\n",
       "    </tr>\n",
       "    <tr>\n",
       "      <th>5</th>\n",
       "      <td>Trip Total</td>\n",
       "      <td>1249</td>\n",
       "      <td>0.23</td>\n",
       "    </tr>\n",
       "    <tr>\n",
       "      <th>4</th>\n",
       "      <td>Extras</td>\n",
       "      <td>1249</td>\n",
       "      <td>0.23</td>\n",
       "    </tr>\n",
       "    <tr>\n",
       "      <th>1</th>\n",
       "      <td>Fare</td>\n",
       "      <td>1249</td>\n",
       "      <td>0.23</td>\n",
       "    </tr>\n",
       "    <tr>\n",
       "      <th>3</th>\n",
       "      <td>Tolls</td>\n",
       "      <td>1249</td>\n",
       "      <td>0.23</td>\n",
       "    </tr>\n",
       "    <tr>\n",
       "      <th>2</th>\n",
       "      <td>Tips</td>\n",
       "      <td>1249</td>\n",
       "      <td>0.23</td>\n",
       "    </tr>\n",
       "    <tr>\n",
       "      <th>14</th>\n",
       "      <td>Trip Seconds</td>\n",
       "      <td>104</td>\n",
       "      <td>0.02</td>\n",
       "    </tr>\n",
       "    <tr>\n",
       "      <th>13</th>\n",
       "      <td>Trip End Timestamp</td>\n",
       "      <td>3</td>\n",
       "      <td>0.00</td>\n",
       "    </tr>\n",
       "    <tr>\n",
       "      <th>0</th>\n",
       "      <td>Trip Miles</td>\n",
       "      <td>1</td>\n",
       "      <td>0.00</td>\n",
       "    </tr>\n",
       "    <tr>\n",
       "      <th>20</th>\n",
       "      <td>Company</td>\n",
       "      <td>0</td>\n",
       "      <td>0.00</td>\n",
       "    </tr>\n",
       "    <tr>\n",
       "      <th>12</th>\n",
       "      <td>Trip Start Timestamp</td>\n",
       "      <td>0</td>\n",
       "      <td>0.00</td>\n",
       "    </tr>\n",
       "    <tr>\n",
       "      <th>19</th>\n",
       "      <td>Payment Type</td>\n",
       "      <td>0</td>\n",
       "      <td>0.00</td>\n",
       "    </tr>\n",
       "    <tr>\n",
       "      <th>11</th>\n",
       "      <td>Taxi ID</td>\n",
       "      <td>0</td>\n",
       "      <td>0.00</td>\n",
       "    </tr>\n",
       "    <tr>\n",
       "      <th>10</th>\n",
       "      <td>Trip ID</td>\n",
       "      <td>0</td>\n",
       "      <td>0.00</td>\n",
       "    </tr>\n",
       "    <tr>\n",
       "      <th>23</th>\n",
       "      <td>Week</td>\n",
       "      <td>0</td>\n",
       "      <td>0.00</td>\n",
       "    </tr>\n",
       "  </tbody>\n",
       "</table>\n",
       "</div>"
      ],
      "text/plain": [
       "                       feature   count      %\n",
       "16        Dropoff Census Tract  308054  57.38\n",
       "15         Pickup Census Tract  301180  56.10\n",
       "18      Dropoff Community Area   51617   9.61\n",
       "8    Dropoff Centroid Latitude   48285   8.99\n",
       "22   Dropoff Centroid Location   48285   8.99\n",
       "9   Dropoff Centroid Longitude   48285   8.99\n",
       "17       Pickup Community Area   18238   3.40\n",
       "6     Pickup Centroid Latitude   18022   3.36\n",
       "7    Pickup Centroid Longitude   18022   3.36\n",
       "21    Pickup Centroid Location   18022   3.36\n",
       "5                   Trip Total    1249   0.23\n",
       "4                       Extras    1249   0.23\n",
       "1                         Fare    1249   0.23\n",
       "3                        Tolls    1249   0.23\n",
       "2                         Tips    1249   0.23\n",
       "14                Trip Seconds     104   0.02\n",
       "13          Trip End Timestamp       3   0.00\n",
       "0                   Trip Miles       1   0.00\n",
       "20                     Company       0   0.00\n",
       "12        Trip Start Timestamp       0   0.00\n",
       "19                Payment Type       0   0.00\n",
       "11                     Taxi ID       0   0.00\n",
       "10                     Trip ID       0   0.00\n",
       "23                        Week       0   0.00"
      ]
     },
     "execution_count": 105,
     "metadata": {},
     "output_type": "execute_result"
    }
   ],
   "source": [
    "missings_df = missing_values_summary(df)\n",
    "missings_df.sort_values(\"count\", ascending=False)"
   ]
  },
  {
   "cell_type": "markdown",
   "metadata": {},
   "source": [
    "**Queremos ver cuáles son las diferencias de sectores con los que contamos para obtener si hay pickup o dropoff fuera de Chicago.**"
   ]
  },
  {
   "cell_type": "code",
   "execution_count": 106,
   "metadata": {
    "tags": []
   },
   "outputs": [
    {
     "name": "stdout",
     "output_type": "stream",
     "text": [
      "Número de valores únicos en \"Pickup Census Tract\": 380\n"
     ]
    }
   ],
   "source": [
    "# Número de valores únicos en la columna \"Pickup Census Tract\" en PySpark\n",
    "pickup_unique_count = df.select(\"Pickup Census Tract\").distinct().count()\n",
    "print(f'Número de valores únicos en \"Pickup Census Tract\": {pickup_unique_count}')"
   ]
  },
  {
   "cell_type": "code",
   "execution_count": 107,
   "metadata": {
    "tags": []
   },
   "outputs": [
    {
     "name": "stdout",
     "output_type": "stream",
     "text": [
      "Número de valores únicos en \"Dropoff Census Tract\": 500\n"
     ]
    }
   ],
   "source": [
    "# Número de valores únicos en la columna \"Pickup Census Tract\" en PySpark\n",
    "pickup_unique_count = df.select(\"Dropoff Census Tract\").distinct().count()\n",
    "print(f'Número de valores únicos en \"Dropoff Census Tract\": {pickup_unique_count}')"
   ]
  },
  {
   "cell_type": "code",
   "execution_count": 108,
   "metadata": {
    "tags": []
   },
   "outputs": [
    {
     "name": "stdout",
     "output_type": "stream",
     "text": [
      "Número de valores únicos en los primeros 5 caracteres de \"Pickup Census Tract\": 2\n",
      "Valores únicos en los primeros 5 caracteres de \"Pickup Census Tract\":\n",
      "17031\n",
      "None\n"
     ]
    }
   ],
   "source": [
    "# Obtener los valores únicos truncados de \"Dropoff Census Tract\"\n",
    "Pickup_unique = df.select(\n",
    "    F.substring(F.col(\"Pickup Census Tract\"), 1, 5).alias(\"truncated_Pickup\")\n",
    ").distinct()\n",
    "\n",
    "# Imprimir el número de valores únicos\n",
    "print(\n",
    "    f'Número de valores únicos en los primeros 5 caracteres de \"Pickup Census Tract\": {Pickup_unique.count()}'\n",
    ")\n",
    "\n",
    "# Imprimir los valores únicos\n",
    "unique_values_Pickup = Pickup_unique.collect()\n",
    "print('Valores únicos en los primeros 5 caracteres de \"Pickup Census Tract\":')\n",
    "for row in unique_values_Pickup:\n",
    "    print(row[\"truncated_Pickup\"])"
   ]
  },
  {
   "cell_type": "code",
   "execution_count": 109,
   "metadata": {
    "tags": []
   },
   "outputs": [
    {
     "name": "stdout",
     "output_type": "stream",
     "text": [
      "Número de valores únicos en los primeros 5 caracteres de \"Dropoff Census Tract\": 2\n",
      "Valores únicos en los primeros 5 caracteres de \"Dropoff Census Tract\":\n",
      "17031\n",
      "None\n"
     ]
    }
   ],
   "source": [
    "# Obtener los valores únicos truncados de \"Dropoff Census Tract\"\n",
    "dropoff_unique = df.select(\n",
    "    F.substring(F.col(\"Dropoff Census Tract\"), 1, 5).alias(\"truncated_dropoff\")\n",
    ").distinct()\n",
    "\n",
    "# Imprimir el número de valores únicos\n",
    "print(\n",
    "    f'Número de valores únicos en los primeros 5 caracteres de \"Dropoff Census Tract\": {dropoff_unique.count()}'\n",
    ")\n",
    "\n",
    "# Imprimir los valores únicos\n",
    "unique_values = dropoff_unique.collect()\n",
    "print('Valores únicos en los primeros 5 caracteres de \"Dropoff Census Tract\":')\n",
    "for row in unique_values:\n",
    "    print(row[\"truncated_dropoff\"])"
   ]
  },
  {
   "cell_type": "markdown",
   "metadata": {},
   "source": [
    "**Observaciones**\n",
    "\n",
    "El registro de sectores en Chicago es únicamente de 5 dígitos y el registro de los Census Tract estan dados en 11 dígitos, si reducimos estos digitos y unicamente nos quedamos con los 5 útiles podremos darnos cuentas que todos nuestros viajes son dentro del Condado de Cook."
   ]
  },
  {
   "cell_type": "markdown",
   "metadata": {},
   "source": [
    "**Conclusión**\n",
    "\n",
    "Por la cantidad de datos faltantes en Census Tract tanto en Pickup como Dropoff, y además al ser una variable unaria ya que la información contenida está en función del mismo sector, la variable resulta poco relevante para el análisis. Adicionalmente, carece de sentido aplicar imputación. Por lo que se deben eliminar dichas variables."
   ]
  },
  {
   "cell_type": "code",
   "execution_count": 110,
   "metadata": {
    "tags": []
   },
   "outputs": [],
   "source": [
    "columns_to_exclude = [\"Pickup Census Tract\", \"Dropoff Census Tract\"]\n",
    "# Eliminar columnas en PySpark\n",
    "df = df.drop(*columns_to_exclude)"
   ]
  },
  {
   "cell_type": "markdown",
   "metadata": {},
   "source": [
    "**Como el objetivo principal es generar una TAD por taxi (no por viaje), es importante identificar si existen taxis que tengan algún problema al registrar su total de pagos.**"
   ]
  },
  {
   "cell_type": "code",
   "execution_count": 111,
   "metadata": {
    "tags": []
   },
   "outputs": [
    {
     "data": {
      "text/html": [
       "<div>\n",
       "<style scoped>\n",
       "    .dataframe tbody tr th:only-of-type {\n",
       "        vertical-align: middle;\n",
       "    }\n",
       "\n",
       "    .dataframe tbody tr th {\n",
       "        vertical-align: top;\n",
       "    }\n",
       "\n",
       "    .dataframe thead th {\n",
       "        text-align: right;\n",
       "    }\n",
       "</style>\n",
       "<table border=\"1\" class=\"dataframe\">\n",
       "  <thead>\n",
       "    <tr style=\"text-align: right;\">\n",
       "      <th></th>\n",
       "      <th>Taxi ID</th>\n",
       "      <th>Cantidad de registros con Trip Total faltante</th>\n",
       "    </tr>\n",
       "  </thead>\n",
       "  <tbody>\n",
       "    <tr>\n",
       "      <th>0</th>\n",
       "      <td>5d7636d4b116cb2074313e3aa986f60e6a2c6e9d139ee1...</td>\n",
       "      <td>64</td>\n",
       "    </tr>\n",
       "    <tr>\n",
       "      <th>1</th>\n",
       "      <td>535cbdf78f906572bd87f6818151296de41f60925a4e41...</td>\n",
       "      <td>63</td>\n",
       "    </tr>\n",
       "    <tr>\n",
       "      <th>2</th>\n",
       "      <td>87a21e5ac34dbe38d564b74375f29cdcc5f88e81aa27d9...</td>\n",
       "      <td>59</td>\n",
       "    </tr>\n",
       "    <tr>\n",
       "      <th>3</th>\n",
       "      <td>ed7090d32800eec667900e884a935a298e55efaaaea9d6...</td>\n",
       "      <td>54</td>\n",
       "    </tr>\n",
       "    <tr>\n",
       "      <th>4</th>\n",
       "      <td>2407ff99e367ceb469a8cc6663e6ad6ec51fb0f401d370...</td>\n",
       "      <td>50</td>\n",
       "    </tr>\n",
       "    <tr>\n",
       "      <th>5</th>\n",
       "      <td>ea1095a215ac661a9a0da3f84747131c7bc3e6b71308b5...</td>\n",
       "      <td>32</td>\n",
       "    </tr>\n",
       "    <tr>\n",
       "      <th>6</th>\n",
       "      <td>3671b00a8d3d78e49e75a0eb9796fbfa1ab2e07b89d7ed...</td>\n",
       "      <td>30</td>\n",
       "    </tr>\n",
       "    <tr>\n",
       "      <th>7</th>\n",
       "      <td>5e48748b582fe3c16baf5ac371a27773e8aef2927f3344...</td>\n",
       "      <td>29</td>\n",
       "    </tr>\n",
       "    <tr>\n",
       "      <th>8</th>\n",
       "      <td>18c20740c9cbe78a07c7bef21fd4dd4035fa01fb10f186...</td>\n",
       "      <td>28</td>\n",
       "    </tr>\n",
       "    <tr>\n",
       "      <th>9</th>\n",
       "      <td>6720823f69b50c9a8a9ff80710482b6c4ca30ea1e173d5...</td>\n",
       "      <td>25</td>\n",
       "    </tr>\n",
       "  </tbody>\n",
       "</table>\n",
       "</div>"
      ],
      "text/plain": [
       "                                             Taxi ID  Cantidad de registros con Trip Total faltante\n",
       "0  5d7636d4b116cb2074313e3aa986f60e6a2c6e9d139ee1...                                             64\n",
       "1  535cbdf78f906572bd87f6818151296de41f60925a4e41...                                             63\n",
       "2  87a21e5ac34dbe38d564b74375f29cdcc5f88e81aa27d9...                                             59\n",
       "3  ed7090d32800eec667900e884a935a298e55efaaaea9d6...                                             54\n",
       "4  2407ff99e367ceb469a8cc6663e6ad6ec51fb0f401d370...                                             50\n",
       "5  ea1095a215ac661a9a0da3f84747131c7bc3e6b71308b5...                                             32\n",
       "6  3671b00a8d3d78e49e75a0eb9796fbfa1ab2e07b89d7ed...                                             30\n",
       "7  5e48748b582fe3c16baf5ac371a27773e8aef2927f3344...                                             29\n",
       "8  18c20740c9cbe78a07c7bef21fd4dd4035fa01fb10f186...                                             28\n",
       "9  6720823f69b50c9a8a9ff80710482b6c4ca30ea1e173d5...                                             25"
      ]
     },
     "execution_count": 111,
     "metadata": {},
     "output_type": "execute_result"
    }
   ],
   "source": [
    "taxistas_con_valores_faltantes = (\n",
    "    df.filter(F.col(\"Trip Total\").isNull())\n",
    "    .groupby(\"Taxi ID\")\n",
    "    .agg(F.count(\"*\").alias(\"Cantidad de registros con Trip Total faltante\"))\n",
    ")\n",
    "taxistas_con_valores_faltantes = taxistas_con_valores_faltantes.orderBy(\n",
    "    F.col(\"Cantidad de registros con Trip Total faltante\").desc()\n",
    ")\n",
    "taxistas_con_valores_faltantes.toPandas().head(10)"
   ]
  },
  {
   "cell_type": "code",
   "execution_count": 112,
   "metadata": {
    "tags": []
   },
   "outputs": [
    {
     "data": {
      "text/html": [
       "<div>\n",
       "<style scoped>\n",
       "    .dataframe tbody tr th:only-of-type {\n",
       "        vertical-align: middle;\n",
       "    }\n",
       "\n",
       "    .dataframe tbody tr th {\n",
       "        vertical-align: top;\n",
       "    }\n",
       "\n",
       "    .dataframe thead th {\n",
       "        text-align: right;\n",
       "    }\n",
       "</style>\n",
       "<table border=\"1\" class=\"dataframe\">\n",
       "  <thead>\n",
       "    <tr style=\"text-align: right;\">\n",
       "      <th></th>\n",
       "      <th>Taxi ID</th>\n",
       "      <th>Cantidad de registros con Trip Total faltante</th>\n",
       "      <th>Total de registros por taxista</th>\n",
       "      <th>Porcentaje de registros faltantes</th>\n",
       "    </tr>\n",
       "  </thead>\n",
       "  <tbody>\n",
       "    <tr>\n",
       "      <th>0</th>\n",
       "      <td>2407ff99e367ceb469a8cc6663e6ad6ec51fb0f401d370...</td>\n",
       "      <td>50</td>\n",
       "      <td>116</td>\n",
       "      <td>43.10</td>\n",
       "    </tr>\n",
       "    <tr>\n",
       "      <th>1</th>\n",
       "      <td>535cbdf78f906572bd87f6818151296de41f60925a4e41...</td>\n",
       "      <td>63</td>\n",
       "      <td>269</td>\n",
       "      <td>23.42</td>\n",
       "    </tr>\n",
       "    <tr>\n",
       "      <th>2</th>\n",
       "      <td>ed7090d32800eec667900e884a935a298e55efaaaea9d6...</td>\n",
       "      <td>54</td>\n",
       "      <td>266</td>\n",
       "      <td>20.30</td>\n",
       "    </tr>\n",
       "    <tr>\n",
       "      <th>3</th>\n",
       "      <td>8c282d8579697c7e911b997cb84921f75ccc814d92beee...</td>\n",
       "      <td>1</td>\n",
       "      <td>5</td>\n",
       "      <td>20.00</td>\n",
       "    </tr>\n",
       "    <tr>\n",
       "      <th>4</th>\n",
       "      <td>4b2d5e8743e0e17dd683ef83f701a7c54ab50ffa532484...</td>\n",
       "      <td>24</td>\n",
       "      <td>132</td>\n",
       "      <td>18.18</td>\n",
       "    </tr>\n",
       "    <tr>\n",
       "      <th>...</th>\n",
       "      <td>...</td>\n",
       "      <td>...</td>\n",
       "      <td>...</td>\n",
       "      <td>...</td>\n",
       "    </tr>\n",
       "    <tr>\n",
       "      <th>294</th>\n",
       "      <td>d66751b81d6e5ef4077f8b017311a75c5f8255782a478f...</td>\n",
       "      <td>1</td>\n",
       "      <td>433</td>\n",
       "      <td>0.23</td>\n",
       "    </tr>\n",
       "    <tr>\n",
       "      <th>295</th>\n",
       "      <td>f61f7ef1e6ebfdec46344f180c08799b2b53364995bdcd...</td>\n",
       "      <td>1</td>\n",
       "      <td>440</td>\n",
       "      <td>0.23</td>\n",
       "    </tr>\n",
       "    <tr>\n",
       "      <th>296</th>\n",
       "      <td>e829f46ff837c26216299fcead9868938026c1dc0e89c0...</td>\n",
       "      <td>1</td>\n",
       "      <td>459</td>\n",
       "      <td>0.22</td>\n",
       "    </tr>\n",
       "    <tr>\n",
       "      <th>297</th>\n",
       "      <td>949b2b62a50681d3d1b5b44d94ee42384a57fd625d30d0...</td>\n",
       "      <td>1</td>\n",
       "      <td>488</td>\n",
       "      <td>0.20</td>\n",
       "    </tr>\n",
       "    <tr>\n",
       "      <th>298</th>\n",
       "      <td>d4ec19140095168a8d55390a9042b069ff05df3ba4a4de...</td>\n",
       "      <td>1</td>\n",
       "      <td>499</td>\n",
       "      <td>0.20</td>\n",
       "    </tr>\n",
       "  </tbody>\n",
       "</table>\n",
       "<p>299 rows × 4 columns</p>\n",
       "</div>"
      ],
      "text/plain": [
       "                                               Taxi ID  Cantidad de registros con Trip Total faltante  Total de registros por taxista  Porcentaje de registros faltantes\n",
       "0    2407ff99e367ceb469a8cc6663e6ad6ec51fb0f401d370...                                             50                             116                              43.10\n",
       "1    535cbdf78f906572bd87f6818151296de41f60925a4e41...                                             63                             269                              23.42\n",
       "2    ed7090d32800eec667900e884a935a298e55efaaaea9d6...                                             54                             266                              20.30\n",
       "3    8c282d8579697c7e911b997cb84921f75ccc814d92beee...                                              1                               5                              20.00\n",
       "4    4b2d5e8743e0e17dd683ef83f701a7c54ab50ffa532484...                                             24                             132                              18.18\n",
       "..                                                 ...                                            ...                             ...                                ...\n",
       "294  d66751b81d6e5ef4077f8b017311a75c5f8255782a478f...                                              1                             433                               0.23\n",
       "295  f61f7ef1e6ebfdec46344f180c08799b2b53364995bdcd...                                              1                             440                               0.23\n",
       "296  e829f46ff837c26216299fcead9868938026c1dc0e89c0...                                              1                             459                               0.22\n",
       "297  949b2b62a50681d3d1b5b44d94ee42384a57fd625d30d0...                                              1                             488                               0.20\n",
       "298  d4ec19140095168a8d55390a9042b069ff05df3ba4a4de...                                              1                             499                               0.20\n",
       "\n",
       "[299 rows x 4 columns]"
      ]
     },
     "execution_count": 112,
     "metadata": {},
     "output_type": "execute_result"
    }
   ],
   "source": [
    "# Calcular el total de registros por taxista\n",
    "total_registros_por_taxista = df.groupby(\"Taxi ID\").agg(\n",
    "    F.count(\"*\").alias(\"Total de registros por taxista\")\n",
    ")\n",
    "# Cruzar el DataFrame de taxistas_con_valores_faltantes con el DataFrame total_registros_por_taxista\n",
    "taxistas_con_valores_faltantes = taxistas_con_valores_faltantes.join(\n",
    "    total_registros_por_taxista, on=\"Taxi ID\", how=\"inner\"\n",
    ")\n",
    "# Calcular el porcentaje de registros faltantes por taxista\n",
    "taxistas_con_valores_faltantes = taxistas_con_valores_faltantes.withColumn(\n",
    "    \"Porcentaje de registros faltantes\",\n",
    "    (\n",
    "        F.col(\"Cantidad de registros con Trip Total faltante\")\n",
    "        / F.col(\"Total de registros por taxista\")\n",
    "    )\n",
    "    * 100,\n",
    ")\n",
    "taxistas_con_valores_faltantes = taxistas_con_valores_faltantes.orderBy(\n",
    "    F.col(\"Porcentaje de registros faltantes\").desc()\n",
    ")\n",
    "taxistas_con_valores_faltantes.toPandas().round(2)"
   ]
  },
  {
   "cell_type": "markdown",
   "metadata": {},
   "source": [
    "Podemos darnos cuenta que el taxista con la mayor afectación es de más del 40% de sus registros, por lo que se recomienda pornerse en contacto con los conductores priorizando aquellos que tengan mayor afectación (mayor cantidad de montos sin registro)."
   ]
  },
  {
   "cell_type": "code",
   "execution_count": 113,
   "metadata": {
    "tags": []
   },
   "outputs": [],
   "source": [
    "df = df.filter(F.col(\"Trip Total\").isNotNull())"
   ]
  },
  {
   "cell_type": "markdown",
   "metadata": {},
   "source": [
    "Al eliminar los registros que no cuentan con **\"Trip Total\"** también se eliminan todos aquellos registros relacionados el desglose de montos, es decir, los montos asociados a las variables \"Fare\", \"Extras\", \"Tolls\" y \"Tips\"."
   ]
  },
  {
   "cell_type": "markdown",
   "metadata": {},
   "source": [
    "### Missings en Trip Seconds"
   ]
  },
  {
   "cell_type": "markdown",
   "metadata": {},
   "source": [
    "Debido a que contamos con valores ausentes en la variable \"Trip Seconds\" equivalentes al 0.0143% de los datos y a que no contamos con suficiente informacion para imputar valores basándonos en calcular la diferencia en segundos de los viajes entre las variables \"Trip End Timestamp\" y \"Trip Start Timestamp\" para interpolar los datos faltantes ya que estos no corresponden por completo a la variable \"Trip Seconds\", y que adicionalmente, en algunos casos la diferencia es considerable. Se concluye que lo más recomendable es eliminar estos registros."
   ]
  },
  {
   "cell_type": "code",
   "execution_count": 114,
   "metadata": {
    "tags": []
   },
   "outputs": [],
   "source": [
    "df = df.filter(F.col(\"Trip Seconds\").isNotNull())"
   ]
  },
  {
   "cell_type": "markdown",
   "metadata": {},
   "source": [
    "### Missings en Trip Miles"
   ]
  },
  {
   "cell_type": "code",
   "execution_count": 115,
   "metadata": {
    "tags": []
   },
   "outputs": [
    {
     "data": {
      "text/plain": [
       "1"
      ]
     },
     "execution_count": 115,
     "metadata": {},
     "output_type": "execute_result"
    }
   ],
   "source": [
    "Trip_Miles = df.filter(F.col(\"Trip Miles\").isNull())\n",
    "Trip_Miles.count()"
   ]
  },
  {
   "cell_type": "markdown",
   "metadata": {},
   "source": [
    "Revisamos cómo se comportan estos valores para los registros en Trip Miles."
   ]
  },
  {
   "cell_type": "code",
   "execution_count": 116,
   "metadata": {
    "tags": []
   },
   "outputs": [
    {
     "name": "stderr",
     "output_type": "stream",
     "text": [
      "                                                                                \r"
     ]
    },
    {
     "data": {
      "text/html": [
       "<div>\n",
       "<style scoped>\n",
       "    .dataframe tbody tr th:only-of-type {\n",
       "        vertical-align: middle;\n",
       "    }\n",
       "\n",
       "    .dataframe tbody tr th {\n",
       "        vertical-align: top;\n",
       "    }\n",
       "\n",
       "    .dataframe thead th {\n",
       "        text-align: right;\n",
       "    }\n",
       "</style>\n",
       "<table border=\"1\" class=\"dataframe\">\n",
       "  <thead>\n",
       "    <tr style=\"text-align: right;\">\n",
       "      <th></th>\n",
       "      <th>summary</th>\n",
       "      <th>Trip ID</th>\n",
       "      <th>Taxi ID</th>\n",
       "      <th>Trip Seconds</th>\n",
       "      <th>Trip Miles</th>\n",
       "      <th>Pickup Community Area</th>\n",
       "      <th>Dropoff Community Area</th>\n",
       "      <th>Fare</th>\n",
       "      <th>Tips</th>\n",
       "      <th>Tolls</th>\n",
       "      <th>Extras</th>\n",
       "      <th>Trip Total</th>\n",
       "      <th>Payment Type</th>\n",
       "      <th>Company</th>\n",
       "      <th>Pickup Centroid Latitude</th>\n",
       "      <th>Pickup Centroid Longitude</th>\n",
       "      <th>Pickup Centroid Location</th>\n",
       "      <th>Dropoff Centroid Latitude</th>\n",
       "      <th>Dropoff Centroid Longitude</th>\n",
       "      <th>Dropoff Centroid Location</th>\n",
       "      <th>Week</th>\n",
       "    </tr>\n",
       "  </thead>\n",
       "  <tbody>\n",
       "    <tr>\n",
       "      <th>0</th>\n",
       "      <td>count</td>\n",
       "      <td>1</td>\n",
       "      <td>1</td>\n",
       "      <td>1</td>\n",
       "      <td>0</td>\n",
       "      <td>0</td>\n",
       "      <td>1</td>\n",
       "      <td>1</td>\n",
       "      <td>1</td>\n",
       "      <td>1</td>\n",
       "      <td>1</td>\n",
       "      <td>1</td>\n",
       "      <td>1</td>\n",
       "      <td>1</td>\n",
       "      <td>0</td>\n",
       "      <td>0</td>\n",
       "      <td>0</td>\n",
       "      <td>1</td>\n",
       "      <td>1</td>\n",
       "      <td>1</td>\n",
       "      <td>1</td>\n",
       "    </tr>\n",
       "    <tr>\n",
       "      <th>1</th>\n",
       "      <td>mean</td>\n",
       "      <td>None</td>\n",
       "      <td>None</td>\n",
       "      <td>3263.0</td>\n",
       "      <td>None</td>\n",
       "      <td>None</td>\n",
       "      <td>56.0</td>\n",
       "      <td>462.79998779296875</td>\n",
       "      <td>0.0</td>\n",
       "      <td>0.0</td>\n",
       "      <td>0.0</td>\n",
       "      <td>462.79998779296875</td>\n",
       "      <td>None</td>\n",
       "      <td>None</td>\n",
       "      <td>None</td>\n",
       "      <td>None</td>\n",
       "      <td>None</td>\n",
       "      <td>41.7925910949707</td>\n",
       "      <td>-87.76961517333984</td>\n",
       "      <td>None</td>\n",
       "      <td>8.0</td>\n",
       "    </tr>\n",
       "    <tr>\n",
       "      <th>2</th>\n",
       "      <td>stddev</td>\n",
       "      <td>None</td>\n",
       "      <td>None</td>\n",
       "      <td>None</td>\n",
       "      <td>None</td>\n",
       "      <td>None</td>\n",
       "      <td>None</td>\n",
       "      <td>None</td>\n",
       "      <td>None</td>\n",
       "      <td>None</td>\n",
       "      <td>None</td>\n",
       "      <td>None</td>\n",
       "      <td>None</td>\n",
       "      <td>None</td>\n",
       "      <td>None</td>\n",
       "      <td>None</td>\n",
       "      <td>None</td>\n",
       "      <td>None</td>\n",
       "      <td>None</td>\n",
       "      <td>None</td>\n",
       "      <td>None</td>\n",
       "    </tr>\n",
       "    <tr>\n",
       "      <th>3</th>\n",
       "      <td>min</td>\n",
       "      <td>253da05071235073a0c0c795d9598bcd07896c1e</td>\n",
       "      <td>f621299fa67bd8263e781be39bd954acda79ca9c958849...</td>\n",
       "      <td>3263</td>\n",
       "      <td>None</td>\n",
       "      <td>None</td>\n",
       "      <td>56</td>\n",
       "      <td>462.8</td>\n",
       "      <td>0.0</td>\n",
       "      <td>0.0</td>\n",
       "      <td>0.0</td>\n",
       "      <td>462.8</td>\n",
       "      <td>Cash</td>\n",
       "      <td>Sun Taxi</td>\n",
       "      <td>None</td>\n",
       "      <td>None</td>\n",
       "      <td>None</td>\n",
       "      <td>41.79259</td>\n",
       "      <td>-87.769615</td>\n",
       "      <td>POINT (-87.7696154528 41.7925923603)</td>\n",
       "      <td>8</td>\n",
       "    </tr>\n",
       "    <tr>\n",
       "      <th>4</th>\n",
       "      <td>max</td>\n",
       "      <td>253da05071235073a0c0c795d9598bcd07896c1e</td>\n",
       "      <td>f621299fa67bd8263e781be39bd954acda79ca9c958849...</td>\n",
       "      <td>3263</td>\n",
       "      <td>None</td>\n",
       "      <td>None</td>\n",
       "      <td>56</td>\n",
       "      <td>462.8</td>\n",
       "      <td>0.0</td>\n",
       "      <td>0.0</td>\n",
       "      <td>0.0</td>\n",
       "      <td>462.8</td>\n",
       "      <td>Cash</td>\n",
       "      <td>Sun Taxi</td>\n",
       "      <td>None</td>\n",
       "      <td>None</td>\n",
       "      <td>None</td>\n",
       "      <td>41.79259</td>\n",
       "      <td>-87.769615</td>\n",
       "      <td>POINT (-87.7696154528 41.7925923603)</td>\n",
       "      <td>8</td>\n",
       "    </tr>\n",
       "  </tbody>\n",
       "</table>\n",
       "</div>"
      ],
      "text/plain": [
       "  summary                                   Trip ID                                            Taxi ID Trip Seconds Trip Miles Pickup Community Area Dropoff Community Area                Fare  Tips Tolls Extras          Trip Total Payment Type   Company Pickup Centroid Latitude Pickup Centroid Longitude Pickup Centroid Location Dropoff Centroid Latitude Dropoff Centroid Longitude             Dropoff Centroid Location  Week\n",
       "0   count                                         1                                                  1            1          0                     0                      1                   1     1     1      1                   1            1         1                        0                         0                        0                         1                          1                                     1     1\n",
       "1    mean                                      None                                               None       3263.0       None                  None                   56.0  462.79998779296875   0.0   0.0    0.0  462.79998779296875         None      None                     None                      None                     None          41.7925910949707         -87.76961517333984                                  None   8.0\n",
       "2  stddev                                      None                                               None         None       None                  None                   None                None  None  None   None                None         None      None                     None                      None                     None                      None                       None                                  None  None\n",
       "3     min  253da05071235073a0c0c795d9598bcd07896c1e  f621299fa67bd8263e781be39bd954acda79ca9c958849...         3263       None                  None                     56               462.8   0.0   0.0    0.0               462.8         Cash  Sun Taxi                     None                      None                     None                  41.79259                 -87.769615  POINT (-87.7696154528 41.7925923603)     8\n",
       "4     max  253da05071235073a0c0c795d9598bcd07896c1e  f621299fa67bd8263e781be39bd954acda79ca9c958849...         3263       None                  None                     56               462.8   0.0   0.0    0.0               462.8         Cash  Sun Taxi                     None                      None                     None                  41.79259                 -87.769615  POINT (-87.7696154528 41.7925923603)     8"
      ]
     },
     "execution_count": 116,
     "metadata": {},
     "output_type": "execute_result"
    }
   ],
   "source": [
    "Trip_Miles_describe = Trip_Miles.describe().toPandas()\n",
    "Trip_Miles_describe.round(2)"
   ]
  },
  {
   "cell_type": "markdown",
   "metadata": {},
   "source": [
    "Taxistas con afectación"
   ]
  },
  {
   "cell_type": "code",
   "execution_count": 117,
   "metadata": {
    "tags": []
   },
   "outputs": [
    {
     "data": {
      "text/plain": [
       "1"
      ]
     },
     "execution_count": 117,
     "metadata": {},
     "output_type": "execute_result"
    }
   ],
   "source": [
    "taxistas_con_valores_faltantes = (\n",
    "    df.filter(F.col(\"Trip Miles\").isNull())\n",
    "    .groupby(\"Taxi ID\")\n",
    "    .agg(F.count(\"*\").alias(\"Cantidad de registros con Trip Miles faltante\"))\n",
    ")\n",
    "taxistas_con_valores_faltantes = taxistas_con_valores_faltantes.orderBy(\n",
    "    F.col(\"Cantidad de registros con Trip Miles faltante\").desc()\n",
    ")\n",
    "taxistas_con_valores_faltantes.count()"
   ]
  },
  {
   "cell_type": "code",
   "execution_count": 118,
   "metadata": {
    "tags": []
   },
   "outputs": [
    {
     "name": "stderr",
     "output_type": "stream",
     "text": [
      "                                                                                \r"
     ]
    },
    {
     "data": {
      "text/plain": [
       "3316"
      ]
     },
     "execution_count": 118,
     "metadata": {},
     "output_type": "execute_result"
    }
   ],
   "source": [
    "total_taxis = df.groupby(\"Taxi ID\").agg(F.count(\"*\").alias(\"Cantidad total de taxis\"))\n",
    "total_taxis.count()"
   ]
  },
  {
   "cell_type": "code",
   "execution_count": 119,
   "metadata": {
    "tags": []
   },
   "outputs": [
    {
     "data": {
      "text/plain": [
       "0.030156815440289503"
      ]
     },
     "execution_count": 119,
     "metadata": {},
     "output_type": "execute_result"
    }
   ],
   "source": [
    "(taxistas_con_valores_faltantes.count() / total_taxis.count()) * 100"
   ]
  },
  {
   "cell_type": "markdown",
   "metadata": {},
   "source": [
    "**Observación**\n",
    "\n",
    "Podemos ver que afectamos solamente a 29 diferentes Taxis de un total de 3,709 Taxis que representa un 0.7651715039577837% del total de los Taxis por lo que es posible eliminar estos registros."
   ]
  },
  {
   "cell_type": "code",
   "execution_count": 120,
   "metadata": {
    "tags": []
   },
   "outputs": [],
   "source": [
    "df = df.filter(F.col(\"Trip Miles\").isNotNull())"
   ]
  },
  {
   "cell_type": "markdown",
   "metadata": {
    "tags": []
   },
   "source": [
    "### Missings en Coordenadas"
   ]
  },
  {
   "cell_type": "markdown",
   "metadata": {},
   "source": [
    "Finalmente, los *missings* restantes deben corresponder únicamente a los que están en función de las coordenadas del viaje."
   ]
  },
  {
   "cell_type": "code",
   "execution_count": 121,
   "metadata": {
    "tags": []
   },
   "outputs": [
    {
     "name": "stderr",
     "output_type": "stream",
     "text": [
      "                                                                                \r"
     ]
    },
    {
     "data": {
      "text/html": [
       "<div>\n",
       "<style scoped>\n",
       "    .dataframe tbody tr th:only-of-type {\n",
       "        vertical-align: middle;\n",
       "    }\n",
       "\n",
       "    .dataframe tbody tr th {\n",
       "        vertical-align: top;\n",
       "    }\n",
       "\n",
       "    .dataframe thead th {\n",
       "        text-align: right;\n",
       "    }\n",
       "</style>\n",
       "<table border=\"1\" class=\"dataframe\">\n",
       "  <thead>\n",
       "    <tr style=\"text-align: right;\">\n",
       "      <th></th>\n",
       "      <th>feature</th>\n",
       "      <th>count</th>\n",
       "      <th>%</th>\n",
       "    </tr>\n",
       "  </thead>\n",
       "  <tbody>\n",
       "    <tr>\n",
       "      <th>6</th>\n",
       "      <td>Pickup Centroid Latitude</td>\n",
       "      <td>17969</td>\n",
       "      <td>3.36</td>\n",
       "    </tr>\n",
       "    <tr>\n",
       "      <th>7</th>\n",
       "      <td>Pickup Centroid Longitude</td>\n",
       "      <td>17969</td>\n",
       "      <td>3.36</td>\n",
       "    </tr>\n",
       "    <tr>\n",
       "      <th>8</th>\n",
       "      <td>Dropoff Centroid Latitude</td>\n",
       "      <td>48162</td>\n",
       "      <td>8.99</td>\n",
       "    </tr>\n",
       "    <tr>\n",
       "      <th>9</th>\n",
       "      <td>Dropoff Centroid Longitude</td>\n",
       "      <td>48162</td>\n",
       "      <td>8.99</td>\n",
       "    </tr>\n",
       "    <tr>\n",
       "      <th>15</th>\n",
       "      <td>Pickup Community Area</td>\n",
       "      <td>18182</td>\n",
       "      <td>3.40</td>\n",
       "    </tr>\n",
       "    <tr>\n",
       "      <th>16</th>\n",
       "      <td>Dropoff Community Area</td>\n",
       "      <td>51477</td>\n",
       "      <td>9.61</td>\n",
       "    </tr>\n",
       "    <tr>\n",
       "      <th>19</th>\n",
       "      <td>Pickup Centroid Location</td>\n",
       "      <td>17969</td>\n",
       "      <td>3.36</td>\n",
       "    </tr>\n",
       "    <tr>\n",
       "      <th>20</th>\n",
       "      <td>Dropoff Centroid Location</td>\n",
       "      <td>48162</td>\n",
       "      <td>8.99</td>\n",
       "    </tr>\n",
       "  </tbody>\n",
       "</table>\n",
       "</div>"
      ],
      "text/plain": [
       "                       feature  count     %\n",
       "6     Pickup Centroid Latitude  17969  3.36\n",
       "7    Pickup Centroid Longitude  17969  3.36\n",
       "8    Dropoff Centroid Latitude  48162  8.99\n",
       "9   Dropoff Centroid Longitude  48162  8.99\n",
       "15       Pickup Community Area  18182  3.40\n",
       "16      Dropoff Community Area  51477  9.61\n",
       "19    Pickup Centroid Location  17969  3.36\n",
       "20   Dropoff Centroid Location  48162  8.99"
      ]
     },
     "execution_count": 121,
     "metadata": {},
     "output_type": "execute_result"
    }
   ],
   "source": [
    "missings_df = missing_values_summary(df)\n",
    "missings_df[missings_df[\"count\"] > 0]"
   ]
  },
  {
   "cell_type": "markdown",
   "metadata": {},
   "source": [
    "Tomamos \"Dropoff Community Area\" como filtro a explorar al ser la variable con la mayor cantidad de registros faltantes al momento."
   ]
  },
  {
   "cell_type": "code",
   "execution_count": 122,
   "metadata": {
    "tags": []
   },
   "outputs": [
    {
     "data": {
      "text/html": [
       "<div>\n",
       "<style scoped>\n",
       "    .dataframe tbody tr th:only-of-type {\n",
       "        vertical-align: middle;\n",
       "    }\n",
       "\n",
       "    .dataframe tbody tr th {\n",
       "        vertical-align: top;\n",
       "    }\n",
       "\n",
       "    .dataframe thead th {\n",
       "        text-align: right;\n",
       "    }\n",
       "</style>\n",
       "<table border=\"1\" class=\"dataframe\">\n",
       "  <thead>\n",
       "    <tr style=\"text-align: right;\">\n",
       "      <th></th>\n",
       "      <th>Trip ID</th>\n",
       "      <th>Taxi ID</th>\n",
       "      <th>Trip Start Timestamp</th>\n",
       "      <th>Trip End Timestamp</th>\n",
       "      <th>Trip Seconds</th>\n",
       "      <th>Trip Miles</th>\n",
       "      <th>Pickup Community Area</th>\n",
       "      <th>Dropoff Community Area</th>\n",
       "      <th>Fare</th>\n",
       "      <th>Tips</th>\n",
       "      <th>Tolls</th>\n",
       "      <th>Extras</th>\n",
       "      <th>Trip Total</th>\n",
       "      <th>Payment Type</th>\n",
       "      <th>Company</th>\n",
       "      <th>Pickup Centroid Latitude</th>\n",
       "      <th>Pickup Centroid Longitude</th>\n",
       "      <th>Pickup Centroid Location</th>\n",
       "      <th>Dropoff Centroid Latitude</th>\n",
       "      <th>Dropoff Centroid Longitude</th>\n",
       "      <th>Dropoff Centroid Location</th>\n",
       "      <th>Week</th>\n",
       "    </tr>\n",
       "  </thead>\n",
       "  <tbody>\n",
       "    <tr>\n",
       "      <th>0</th>\n",
       "      <td>2514233625cd93446bb5b6ce43640f974999eae6</td>\n",
       "      <td>9925605b15529d1ee587464258891d45685eaed9dce574...</td>\n",
       "      <td>2023-01-01 00:15:00</td>\n",
       "      <td>2023-01-01 00:15:00</td>\n",
       "      <td>480</td>\n",
       "      <td>0.60</td>\n",
       "      <td>NaN</td>\n",
       "      <td>NaN</td>\n",
       "      <td>6.250000</td>\n",
       "      <td>2.00</td>\n",
       "      <td>0.0</td>\n",
       "      <td>0.0</td>\n",
       "      <td>8.250000</td>\n",
       "      <td>Credit Card</td>\n",
       "      <td>Choice Taxi Association</td>\n",
       "      <td>NaN</td>\n",
       "      <td>NaN</td>\n",
       "      <td>None</td>\n",
       "      <td>NaN</td>\n",
       "      <td>NaN</td>\n",
       "      <td>None</td>\n",
       "      <td>52</td>\n",
       "    </tr>\n",
       "    <tr>\n",
       "      <th>1</th>\n",
       "      <td>bd4d96738469a60e7b3bde5ebdaabbc277814f8b</td>\n",
       "      <td>a8107c5481ea5eed4d6fa93cd1648f3f69c6822a6fff49...</td>\n",
       "      <td>2023-01-01 02:15:00</td>\n",
       "      <td>2023-01-01 02:30:00</td>\n",
       "      <td>1415</td>\n",
       "      <td>15.39</td>\n",
       "      <td>28.0</td>\n",
       "      <td>NaN</td>\n",
       "      <td>58.139999</td>\n",
       "      <td>14.51</td>\n",
       "      <td>0.0</td>\n",
       "      <td>0.0</td>\n",
       "      <td>72.650002</td>\n",
       "      <td>Mobile</td>\n",
       "      <td>Chicago Independents</td>\n",
       "      <td>41.874004</td>\n",
       "      <td>-87.663521</td>\n",
       "      <td>POINT (-87.6635175498 41.874005383)</td>\n",
       "      <td>NaN</td>\n",
       "      <td>NaN</td>\n",
       "      <td>None</td>\n",
       "      <td>52</td>\n",
       "    </tr>\n",
       "    <tr>\n",
       "      <th>2</th>\n",
       "      <td>d750ff3c627623d5b4ed91c9266954730651a92a</td>\n",
       "      <td>67b8283f19334dd9f9e2d36e9a9fbd2c4f0da9dd3390bf...</td>\n",
       "      <td>2023-01-01 05:15:00</td>\n",
       "      <td>2023-01-01 05:15:00</td>\n",
       "      <td>0</td>\n",
       "      <td>0.00</td>\n",
       "      <td>NaN</td>\n",
       "      <td>NaN</td>\n",
       "      <td>200.000000</td>\n",
       "      <td>0.00</td>\n",
       "      <td>0.0</td>\n",
       "      <td>0.0</td>\n",
       "      <td>200.000000</td>\n",
       "      <td>Credit Card</td>\n",
       "      <td>Taxi Affiliation Services</td>\n",
       "      <td>NaN</td>\n",
       "      <td>NaN</td>\n",
       "      <td>None</td>\n",
       "      <td>NaN</td>\n",
       "      <td>NaN</td>\n",
       "      <td>None</td>\n",
       "      <td>52</td>\n",
       "    </tr>\n",
       "    <tr>\n",
       "      <th>3</th>\n",
       "      <td>51d14b2a9e244f8d7ec307aae8438e859f510876</td>\n",
       "      <td>5c2effb0ec4d580bc5f8ad81301b8920a5e3bf5ac5e64f...</td>\n",
       "      <td>2023-01-01 09:45:00</td>\n",
       "      <td>2023-01-01 10:15:00</td>\n",
       "      <td>989</td>\n",
       "      <td>4.57</td>\n",
       "      <td>76.0</td>\n",
       "      <td>NaN</td>\n",
       "      <td>15.250000</td>\n",
       "      <td>0.00</td>\n",
       "      <td>0.0</td>\n",
       "      <td>0.0</td>\n",
       "      <td>15.250000</td>\n",
       "      <td>Cash</td>\n",
       "      <td>Medallion Leasin</td>\n",
       "      <td>41.980263</td>\n",
       "      <td>-87.913628</td>\n",
       "      <td>POINT (-87.913624596 41.9802643146)</td>\n",
       "      <td>NaN</td>\n",
       "      <td>NaN</td>\n",
       "      <td>None</td>\n",
       "      <td>52</td>\n",
       "    </tr>\n",
       "    <tr>\n",
       "      <th>4</th>\n",
       "      <td>5f929074a6d61e78e60e8f9ef2495ff429715544</td>\n",
       "      <td>c797f1560410b9db343567ea7c8e4095f66ceb65800fa4...</td>\n",
       "      <td>2023-01-01 20:00:00</td>\n",
       "      <td>2023-01-01 20:15:00</td>\n",
       "      <td>444</td>\n",
       "      <td>1.78</td>\n",
       "      <td>56.0</td>\n",
       "      <td>NaN</td>\n",
       "      <td>8.000000</td>\n",
       "      <td>2.00</td>\n",
       "      <td>0.0</td>\n",
       "      <td>4.5</td>\n",
       "      <td>15.000000</td>\n",
       "      <td>Credit Card</td>\n",
       "      <td>Flash Cab</td>\n",
       "      <td>41.792591</td>\n",
       "      <td>-87.769615</td>\n",
       "      <td>POINT (-87.7696154528 41.7925923603)</td>\n",
       "      <td>NaN</td>\n",
       "      <td>NaN</td>\n",
       "      <td>None</td>\n",
       "      <td>52</td>\n",
       "    </tr>\n",
       "  </tbody>\n",
       "</table>\n",
       "</div>"
      ],
      "text/plain": [
       "                                    Trip ID                                            Taxi ID Trip Start Timestamp  Trip End Timestamp  Trip Seconds  Trip Miles  Pickup Community Area  Dropoff Community Area        Fare   Tips  Tolls  Extras  Trip Total Payment Type                    Company  Pickup Centroid Latitude  Pickup Centroid Longitude              Pickup Centroid Location  Dropoff Centroid Latitude  Dropoff Centroid Longitude Dropoff Centroid Location  Week\n",
       "0  2514233625cd93446bb5b6ce43640f974999eae6  9925605b15529d1ee587464258891d45685eaed9dce574...  2023-01-01 00:15:00 2023-01-01 00:15:00           480        0.60                    NaN                     NaN    6.250000   2.00    0.0     0.0    8.250000  Credit Card    Choice Taxi Association                       NaN                        NaN                                  None                        NaN                         NaN                      None    52\n",
       "1  bd4d96738469a60e7b3bde5ebdaabbc277814f8b  a8107c5481ea5eed4d6fa93cd1648f3f69c6822a6fff49...  2023-01-01 02:15:00 2023-01-01 02:30:00          1415       15.39                   28.0                     NaN   58.139999  14.51    0.0     0.0   72.650002       Mobile       Chicago Independents                 41.874004                 -87.663521   POINT (-87.6635175498 41.874005383)                        NaN                         NaN                      None    52\n",
       "2  d750ff3c627623d5b4ed91c9266954730651a92a  67b8283f19334dd9f9e2d36e9a9fbd2c4f0da9dd3390bf...  2023-01-01 05:15:00 2023-01-01 05:15:00             0        0.00                    NaN                     NaN  200.000000   0.00    0.0     0.0  200.000000  Credit Card  Taxi Affiliation Services                       NaN                        NaN                                  None                        NaN                         NaN                      None    52\n",
       "3  51d14b2a9e244f8d7ec307aae8438e859f510876  5c2effb0ec4d580bc5f8ad81301b8920a5e3bf5ac5e64f...  2023-01-01 09:45:00 2023-01-01 10:15:00           989        4.57                   76.0                     NaN   15.250000   0.00    0.0     0.0   15.250000         Cash           Medallion Leasin                 41.980263                 -87.913628   POINT (-87.913624596 41.9802643146)                        NaN                         NaN                      None    52\n",
       "4  5f929074a6d61e78e60e8f9ef2495ff429715544  c797f1560410b9db343567ea7c8e4095f66ceb65800fa4...  2023-01-01 20:00:00 2023-01-01 20:15:00           444        1.78                   56.0                     NaN    8.000000   2.00    0.0     4.5   15.000000  Credit Card                  Flash Cab                 41.792591                 -87.769615  POINT (-87.7696154528 41.7925923603)                        NaN                         NaN                      None    52"
      ]
     },
     "execution_count": 122,
     "metadata": {},
     "output_type": "execute_result"
    }
   ],
   "source": [
    "null_dropoff_df = df.filter(F.col(\"Dropoff Community Area\").isNull())\n",
    "# Obtener una muestra aleatoria de 5 filas\n",
    "sampled_df = null_dropoff_df.sample(withReplacement=False, fraction=0.1).limit(\n",
    "    5\n",
    ")  # Ajusta la fracción según sea necesario\n",
    "# Mostrar la muestra\n",
    "sampled_df.toPandas()"
   ]
  },
  {
   "cell_type": "markdown",
   "metadata": {},
   "source": [
    "**Conclusión**\n",
    "\n",
    "Por ahora no elminaremos las filas con valores nulos en Dropoff Community Area, ya que observamos que tienen información relevante para futuros calclos.\n"
   ]
  },
  {
   "cell_type": "markdown",
   "metadata": {},
   "source": [
    "## ¿Cuántos viajes hace un taxista (a lo largo del tiempo)?"
   ]
  },
  {
   "cell_type": "markdown",
   "metadata": {
    "tags": []
   },
   "source": [
    "Número de taxistas"
   ]
  },
  {
   "cell_type": "code",
   "execution_count": 123,
   "metadata": {
    "tags": []
   },
   "outputs": [
    {
     "name": "stderr",
     "output_type": "stream",
     "text": [
      "[Stage 462:=================================================>     (34 + 3) / 38]\r"
     ]
    },
    {
     "name": "stdout",
     "output_type": "stream",
     "text": [
      "El total de taxistas en el conjunto es: 3316\n"
     ]
    },
    {
     "name": "stderr",
     "output_type": "stream",
     "text": [
      "                                                                                \r"
     ]
    }
   ],
   "source": [
    "n_taxistas = df.select(\"Taxi ID\").distinct().count()\n",
    "print(f\"El total de taxistas en el conjunto es: {n_taxistas}\")"
   ]
  },
  {
   "cell_type": "code",
   "execution_count": 124,
   "metadata": {
    "tags": []
   },
   "outputs": [
    {
     "name": "stderr",
     "output_type": "stream",
     "text": [
      "                                                                                \r"
     ]
    },
    {
     "data": {
      "text/html": [
       "<div>\n",
       "<style scoped>\n",
       "    .dataframe tbody tr th:only-of-type {\n",
       "        vertical-align: middle;\n",
       "    }\n",
       "\n",
       "    .dataframe tbody tr th {\n",
       "        vertical-align: top;\n",
       "    }\n",
       "\n",
       "    .dataframe thead th {\n",
       "        text-align: right;\n",
       "    }\n",
       "</style>\n",
       "<table border=\"1\" class=\"dataframe\">\n",
       "  <thead>\n",
       "    <tr style=\"text-align: right;\">\n",
       "      <th></th>\n",
       "      <th>Taxi ID</th>\n",
       "      <th>Total viajes</th>\n",
       "    </tr>\n",
       "  </thead>\n",
       "  <tbody>\n",
       "    <tr>\n",
       "      <th>0</th>\n",
       "      <td>d40dae7ea46d61abca67eb53b157fe9cf0b485cca6dce1...</td>\n",
       "      <td>893</td>\n",
       "    </tr>\n",
       "    <tr>\n",
       "      <th>1</th>\n",
       "      <td>13016372e777da1289d557edbe4ce2be8a68e77bc64768...</td>\n",
       "      <td>684</td>\n",
       "    </tr>\n",
       "    <tr>\n",
       "      <th>2</th>\n",
       "      <td>a79d72d3d49bed13558577cc0608caf7e8da5b9cee67b6...</td>\n",
       "      <td>642</td>\n",
       "    </tr>\n",
       "    <tr>\n",
       "      <th>3</th>\n",
       "      <td>14685d7c19b1bcf05466194de4a62ee39d4144f9786750...</td>\n",
       "      <td>618</td>\n",
       "    </tr>\n",
       "    <tr>\n",
       "      <th>4</th>\n",
       "      <td>2780ead18beaa862cc67315ddabd9d1acaadcd6da82eba...</td>\n",
       "      <td>615</td>\n",
       "    </tr>\n",
       "  </tbody>\n",
       "</table>\n",
       "</div>"
      ],
      "text/plain": [
       "                                             Taxi ID  Total viajes\n",
       "0  d40dae7ea46d61abca67eb53b157fe9cf0b485cca6dce1...           893\n",
       "1  13016372e777da1289d557edbe4ce2be8a68e77bc64768...           684\n",
       "2  a79d72d3d49bed13558577cc0608caf7e8da5b9cee67b6...           642\n",
       "3  14685d7c19b1bcf05466194de4a62ee39d4144f9786750...           618\n",
       "4  2780ead18beaa862cc67315ddabd9d1acaadcd6da82eba...           615"
      ]
     },
     "execution_count": 124,
     "metadata": {},
     "output_type": "execute_result"
    }
   ],
   "source": [
    "# Cantidad de viajes por taxi\n",
    "num_viajes = df.groupBy(\"Taxi ID\").count().withColumnRenamed(\"count\", \"Total viajes\")\n",
    "\n",
    "# Ordenar por la cantidad de viajes en orden descendente\n",
    "num_viajes = num_viajes.orderBy(\"Total viajes\", ascending=False)\n",
    "\n",
    "num_viajes_df = num_viajes.toPandas()\n",
    "\n",
    "num_viajes_df.head()"
   ]
  },
  {
   "cell_type": "code",
   "execution_count": 125,
   "metadata": {
    "tags": []
   },
   "outputs": [
    {
     "data": {
      "text/plain": [
       "<Figure size 640x480 with 0 Axes>"
      ]
     },
     "metadata": {},
     "output_type": "display_data"
    },
    {
     "data": {
      "image/png": "[encoded data removed]",
      "text/plain": [
       "<Figure size 640x480 with 1 Axes>"
      ]
     },
     "metadata": {},
     "output_type": "display_data"
    }
   ],
   "source": [
    "plt.figure()\n",
    "num_viajes_df.plot(kind=\"bar\", color=\"navy\")\n",
    "plt.title(\"Número de Viajes\")\n",
    "plt.xlabel(\"Taxi\")\n",
    "plt.ylabel(\"Cantidad de Viajes\")\n",
    "plt.grid(axis=\"y\", linestyle=\"--\", alpha=0.7)\n",
    "plt.xticks([])\n",
    "plt.show()"
   ]
  },
  {
   "cell_type": "markdown",
   "metadata": {
    "tags": []
   },
   "source": [
    "**Hipótesis**\n",
    "\n",
    "Es posible que aquellos táxistas que tienen más tiempo, son lo que tienen más viajes, y aquellos con menos viajes son los taxistas que van iniciando"
   ]
  },
  {
   "cell_type": "markdown",
   "metadata": {
    "tags": []
   },
   "source": [
    "**Taxista con más viajes en el tiempo**"
   ]
  },
  {
   "cell_type": "code",
   "execution_count": 126,
   "metadata": {
    "tags": []
   },
   "outputs": [],
   "source": [
    "from pyspark.sql.functions import month, year, col\n",
    "\n",
    "# Obtener el Taxi ID con más viajes\n",
    "taxista_top1_viajes = num_viajes.first()[\"Taxi ID\"]\n",
    "\n",
    "# Filtrar el DataFrame para el taxi con más viajes\n",
    "taxista_df_masviajes = df.filter(F.col(\"Taxi ID\") == taxista_top1_viajes)\n",
    "\n",
    "# Extraer el año y el mes de \"Trip Start Timestamp\" y contar los viajes por mes\n",
    "trips_by_month = (\n",
    "    taxista_df_masviajes.groupBy(\n",
    "        year(\"Trip Start Timestamp\").alias(\"Año\"),\n",
    "        month(\"Trip Start Timestamp\").alias(\"Mes\"),\n",
    "    )\n",
    "    .agg(F.count(\"Trip ID\").alias(\"Total Viajes\"))\n",
    "    .orderBy(\"Año\", \"Mes\")\n",
    ")"
   ]
  },
  {
   "cell_type": "code",
   "execution_count": 127,
   "metadata": {
    "tags": []
   },
   "outputs": [],
   "source": [
    "trips_by_month_df = trips_by_month.toPandas()\n",
    "trips_by_month_df[\"Dia\"] = 1\n",
    "trips_by_month_df[\"fecha\"] = (\n",
    "    trips_by_month_df[\"Año\"].astype(str)\n",
    "    + \"-\"\n",
    "    + trips_by_month_df[\"Mes\"].astype(str).str.zfill(2)\n",
    "    + \"-\"\n",
    "    + trips_by_month_df[\"Dia\"].astype(str).str.zfill(2)\n",
    ")"
   ]
  },
  {
   "cell_type": "code",
   "execution_count": 128,
   "metadata": {
    "tags": []
   },
   "outputs": [
    {
     "data": {
      "image/png": "[encoded data removed]",
      "text/plain": [
       "<Figure size 1000x600 with 1 Axes>"
      ]
     },
     "metadata": {},
     "output_type": "display_data"
    }
   ],
   "source": [
    "plt.figure(figsize=(10, 6))\n",
    "plt.plot(\n",
    "    trips_by_month_df[\"fecha\"],\n",
    "    trips_by_month_df[\"Total Viajes\"],\n",
    "    marker=\"o\",\n",
    "    linestyle=\"-\",\n",
    ")\n",
    "plt.title(\"Número de Viajes a Través del Tiempo\")\n",
    "plt.xlabel(\"Fecha\")\n",
    "plt.ylabel(\"Total Viajes\")\n",
    "plt.xticks(rotation=45)\n",
    "plt.grid()\n",
    "plt.tight_layout()\n",
    "plt.show()"
   ]
  },
  {
   "cell_type": "markdown",
   "metadata": {},
   "source": [
    "**Taxista con menos viajes en el tiempo**"
   ]
  },
  {
   "cell_type": "code",
   "execution_count": 129,
   "metadata": {
    "tags": []
   },
   "outputs": [
    {
     "data": {
      "image/png": "[encoded data removed]",
      "text/plain": [
       "<Figure size 1000x600 with 1 Axes>"
      ]
     },
     "metadata": {},
     "output_type": "display_data"
    }
   ],
   "source": [
    "# Obtener el Taxi ID con menos viajes\n",
    "taxista_notop_viajes = num_viajes.orderBy(\"Total viajes\", ascending=True).first()[\n",
    "    \"Taxi ID\"\n",
    "]\n",
    "taxista_df_menosviajes = df.filter(F.col(\"Taxi ID\") == taxista_notop_viajes)\n",
    "trips_by_month = (\n",
    "    taxista_df_menosviajes.groupBy(\n",
    "        year(\"Trip Start Timestamp\").alias(\"Año\"),\n",
    "        month(\"Trip Start Timestamp\").alias(\"Mes\"),\n",
    "    )\n",
    "    .agg(F.count(\"Trip ID\").alias(\"Total Viajes\"))\n",
    "    .orderBy(\"Año\", \"Mes\")\n",
    ")\n",
    "\n",
    "trips_by_month_df = trips_by_month.toPandas()\n",
    "trips_by_month_df[\"Dia\"] = 1\n",
    "trips_by_month_df[\"fecha\"] = (\n",
    "    trips_by_month_df[\"Año\"].astype(str)\n",
    "    + \"-\"\n",
    "    + trips_by_month_df[\"Mes\"].astype(str).str.zfill(2)\n",
    "    + \"-\"\n",
    "    + trips_by_month_df[\"Dia\"].astype(str).str.zfill(2)\n",
    ")\n",
    "\n",
    "# Graficar\n",
    "\n",
    "trips_by_month_df = trips_by_month_df.sort_values(\"fecha\")\n",
    "\n",
    "plt.figure(figsize=(10, 6))\n",
    "plt.plot(\n",
    "    trips_by_month_df[\"fecha\"],\n",
    "    trips_by_month_df[\"Total Viajes\"],\n",
    "    marker=\"o\",\n",
    "    linestyle=\"-\",\n",
    ")\n",
    "plt.title(\"Número de Viajes a Través del Tiempo\")\n",
    "plt.xlabel(\"Fecha\")\n",
    "plt.ylabel(\"Total Viajes\")\n",
    "plt.xticks(rotation=45)\n",
    "plt.grid()\n",
    "plt.tight_layout()\n",
    "plt.show()"
   ]
  },
  {
   "cell_type": "markdown",
   "metadata": {},
   "source": [
    "Confirmamos que el taxista que tiene más viajes, lleva trabajando desde 2023, y el taxista con menos viajes solo trabajo un día. "
   ]
  },
  {
   "cell_type": "markdown",
   "metadata": {},
   "source": [
    "## ¿En qué áreas se registran más inicios/descensos de viajes?\n",
    "\n",
    "Es posible que las zonas más demandadas sean aquellas con mayor cantidad concentraciónde personas, como aeropuertos o centro de la ciudad. "
   ]
  },
  {
   "cell_type": "code",
   "execution_count": 130,
   "metadata": {
    "tags": []
   },
   "outputs": [
    {
     "name": "stdout",
     "output_type": "stream",
     "text": [
      "+---------------------+------+\n",
      "|Pickup Community Area| count|\n",
      "+---------------------+------+\n",
      "|                    8|114984|\n",
      "|                   76|112354|\n",
      "|                   32| 86549|\n",
      "|                   28| 49358|\n",
      "|                   56| 19120|\n",
      "+---------------------+------+\n",
      "\n"
     ]
    }
   ],
   "source": [
    "top_5_pickup_areas = (\n",
    "    df.groupBy(\"Pickup Community Area\")\n",
    "    .count()\n",
    "    .orderBy(\"count\", ascending=False)\n",
    "    .limit(5)\n",
    ")\n",
    "\n",
    "# Mostrar los resultados\n",
    "top_5_pickup_areas.show()"
   ]
  },
  {
   "cell_type": "code",
   "execution_count": 131,
   "metadata": {
    "tags": []
   },
   "outputs": [
    {
     "data": {
      "image/png": "[encoded data removed]",
      "text/plain": [
       "<Figure size 2000x600 with 1 Axes>"
      ]
     },
     "metadata": {},
     "output_type": "display_data"
    }
   ],
   "source": [
    "top_5_pickup_areas_df = top_5_pickup_areas.toPandas()\n",
    "\n",
    "plt.figure(figsize=(20, 6))\n",
    "sns.barplot(x=\"Pickup Community Area\", y=\"count\", data=top_5_pickup_areas_df)\n",
    "plt.title(\"Demanda de Taxis por zona\")\n",
    "plt.xticks(rotation=45)\n",
    "plt.show()"
   ]
  },
  {
   "cell_type": "markdown",
   "metadata": {},
   "source": [
    "Las zonas con mayor zonas de **recolección** de pasajeros son: \n",
    "- 8 correspone a Near North que es parte del centro de Chicago\n",
    "- 76 es O\"Hare donde se ubica el Aeropuerto Internacional O\"Hare\n",
    "- 32 es Loop, que es parte del centro de Chicago\n",
    "- 28 es Near West Side\n",
    "- 56 es Garfield Ridge se ubica el Aeropuerto Internacional Midway"
   ]
  },
  {
   "cell_type": "code",
   "execution_count": 132,
   "metadata": {
    "tags": []
   },
   "outputs": [
    {
     "name": "stdout",
     "output_type": "stream",
     "text": [
      "+----------------------+------+\n",
      "|Dropoff Community Area| count|\n",
      "+----------------------+------+\n",
      "|                     8|122272|\n",
      "|                    32| 85987|\n",
      "|                    28| 49458|\n",
      "|                    76| 29284|\n",
      "|                     6| 23974|\n",
      "+----------------------+------+\n",
      "\n"
     ]
    }
   ],
   "source": [
    "top_5_dropoff_areas = (\n",
    "    df.filter(F.col(\"Dropoff Community Area\").isNotNull())\n",
    "    .groupBy(\"Dropoff Community Area\")\n",
    "    .count()\n",
    "    .orderBy(\"count\", ascending=False)\n",
    "    .limit(5)\n",
    ")\n",
    "\n",
    "# Mostrar los resultados\n",
    "top_5_dropoff_areas.show()"
   ]
  },
  {
   "cell_type": "markdown",
   "metadata": {},
   "source": [
    "Las zonas de mayor **descenso** de pasajeros coincide con las zonas de mayor ascenso de pasajeros"
   ]
  },
  {
   "cell_type": "code",
   "execution_count": 133,
   "metadata": {
    "tags": []
   },
   "outputs": [
    {
     "data": {
      "image/png": "[encoded data removed]",
      "text/plain": [
       "<Figure size 2000x600 with 1 Axes>"
      ]
     },
     "metadata": {},
     "output_type": "display_data"
    }
   ],
   "source": [
    "top_5_dropoff_areas_df = top_5_dropoff_areas.toPandas()\n",
    "\n",
    "plt.figure(figsize=(20, 6))\n",
    "sns.barplot(x=\"Dropoff Community Area\", y=\"count\", data=top_5_dropoff_areas_df)\n",
    "plt.title(\"Demanda de Taxis por zona (Dropoff)\")\n",
    "plt.xticks(rotation=45)\n",
    "plt.show()"
   ]
  },
  {
   "cell_type": "markdown",
   "metadata": {},
   "source": [
    "# 4. Análisis de Outliers"
   ]
  },
  {
   "cell_type": "markdown",
   "metadata": {},
   "source": [
    "## Duración del viaje"
   ]
  },
  {
   "cell_type": "code",
   "execution_count": 134,
   "metadata": {
    "tags": []
   },
   "outputs": [
    {
     "name": "stdout",
     "output_type": "stream",
     "text": [
      "Total de ceros en Trip Seconds: 10270\n"
     ]
    }
   ],
   "source": [
    "count_zeros = df.filter(F.col(\"Trip Seconds\") == 0).count()\n",
    "\n",
    "print(f\"Total de ceros en Trip Seconds: {count_zeros}\")"
   ]
  },
  {
   "cell_type": "markdown",
   "metadata": {},
   "source": [
    "Hay viajes con valores igual a 0 en la duración del viaje, que son anómales."
   ]
  },
  {
   "cell_type": "code",
   "execution_count": 135,
   "metadata": {
    "tags": []
   },
   "outputs": [
    {
     "data": {
      "image/png": "[encoded data removed]",
      "text/plain": [
       "<Figure size 1000x600 with 1 Axes>"
      ]
     },
     "metadata": {},
     "output_type": "display_data"
    }
   ],
   "source": [
    "plot_histogram(df, \"Trip Seconds\", num_bins=15)"
   ]
  },
  {
   "cell_type": "code",
   "execution_count": 136,
   "metadata": {
    "tags": []
   },
   "outputs": [
    {
     "name": "stderr",
     "output_type": "stream",
     "text": [
      "                                                                                \r"
     ]
    },
    {
     "data": {
      "image/png": "[encoded data removed]",
      "text/plain": [
       "<Figure size 800x600 with 1 Axes>"
      ]
     },
     "metadata": {},
     "output_type": "display_data"
    }
   ],
   "source": [
    "create_box_plot(df, \"Trip Seconds\")"
   ]
  },
  {
   "cell_type": "code",
   "execution_count": 137,
   "metadata": {
    "tags": []
   },
   "outputs": [
    {
     "name": "stdout",
     "output_type": "stream",
     "text": [
      "El valor del percentil 99 para \"Trip Seconds\" es: 86,220.0\n"
     ]
    }
   ],
   "source": [
    "trip_seconds_percentiles_df = calculate_trip_seconds_percentiles(df, \"Trip Seconds\")\n",
    "percentile_99 = trip_seconds_percentiles_df[\n",
    "    trip_seconds_percentiles_df[\"Percentiles\"] == 0.99\n",
    "][\"Trip Seconds\"].iloc[0]\n",
    "print(f'El valor del percentil 99 para \"Trip Seconds\" es: {percentile_99:,}')"
   ]
  },
  {
   "cell_type": "markdown",
   "metadata": {},
   "source": [
    "**Filtrando para viajes válidos**"
   ]
  },
  {
   "cell_type": "code",
   "execution_count": 138,
   "metadata": {
    "tags": []
   },
   "outputs": [],
   "source": [
    "df = df.filter((F.col(\"Trip Seconds\") > 0) & (F.col(\"Trip Seconds\") < percentile_99))"
   ]
  },
  {
   "cell_type": "markdown",
   "metadata": {},
   "source": [
    "## Fare, Tips, Tolls, Extras"
   ]
  },
  {
   "cell_type": "code",
   "execution_count": 139,
   "metadata": {
    "tags": []
   },
   "outputs": [
    {
     "name": "stderr",
     "output_type": "stream",
     "text": [
      "                                                                                \r"
     ]
    },
    {
     "data": {
      "image/png": "[encoded data removed]",
      "text/plain": [
       "<Figure size 1200x800 with 1 Axes>"
      ]
     },
     "metadata": {},
     "output_type": "display_data"
    }
   ],
   "source": [
    "create_boxplot(df, [\"Fare\", \"Tips\", \"Tolls\", \"Extras\"], title=\"Fare\")"
   ]
  },
  {
   "cell_type": "code",
   "execution_count": 140,
   "metadata": {
    "tags": []
   },
   "outputs": [
    {
     "data": {
      "text/html": [
       "<div>\n",
       "<style scoped>\n",
       "    .dataframe tbody tr th:only-of-type {\n",
       "        vertical-align: middle;\n",
       "    }\n",
       "\n",
       "    .dataframe tbody tr th {\n",
       "        vertical-align: top;\n",
       "    }\n",
       "\n",
       "    .dataframe thead th {\n",
       "        text-align: right;\n",
       "    }\n",
       "</style>\n",
       "<table border=\"1\" class=\"dataframe\">\n",
       "  <thead>\n",
       "    <tr style=\"text-align: right;\">\n",
       "      <th></th>\n",
       "      <th>feature</th>\n",
       "      <th>count</th>\n",
       "      <th>%</th>\n",
       "    </tr>\n",
       "  </thead>\n",
       "  <tbody>\n",
       "    <tr>\n",
       "      <th>0</th>\n",
       "      <td>Fare</td>\n",
       "      <td>462</td>\n",
       "      <td>0.087953</td>\n",
       "    </tr>\n",
       "    <tr>\n",
       "      <th>1</th>\n",
       "      <td>Tips</td>\n",
       "      <td>249148</td>\n",
       "      <td>47.431375</td>\n",
       "    </tr>\n",
       "    <tr>\n",
       "      <th>2</th>\n",
       "      <td>Tolls</td>\n",
       "      <td>522562</td>\n",
       "      <td>99.482372</td>\n",
       "    </tr>\n",
       "    <tr>\n",
       "      <th>3</th>\n",
       "      <td>Extras</td>\n",
       "      <td>327961</td>\n",
       "      <td>62.435344</td>\n",
       "    </tr>\n",
       "  </tbody>\n",
       "</table>\n",
       "</div>"
      ],
      "text/plain": [
       "  feature   count          %\n",
       "0    Fare     462   0.087953\n",
       "1    Tips  249148  47.431375\n",
       "2   Tolls  522562  99.482372\n",
       "3  Extras  327961  62.435344"
      ]
     },
     "execution_count": 140,
     "metadata": {},
     "output_type": "execute_result"
    }
   ],
   "source": [
    "results = []\n",
    "for column in [\"Fare\", \"Tips\", \"Tolls\", \"Extras\"]:\n",
    "    count_zeros = df.filter(df[column] == 0).count()\n",
    "    total_count = df.count()\n",
    "    percentage = (count_zeros / total_count) * 100 if total_count > 0 else 0\n",
    "    results.append((column, count_zeros, percentage))\n",
    "\n",
    "results_df = pd.DataFrame(results, columns=[\"feature\", \"count\", \"%\"])\n",
    "\n",
    "results_df"
   ]
  },
  {
   "cell_type": "markdown",
   "metadata": {},
   "source": [
    "## TODO: Análisis de cantidad de ceros"
   ]
  },
  {
   "cell_type": "markdown",
   "metadata": {},
   "source": [
    "## Fare (Tarifa)"
   ]
  },
  {
   "cell_type": "code",
   "execution_count": 141,
   "metadata": {
    "tags": []
   },
   "outputs": [
    {
     "name": "stdout",
     "output_type": "stream",
     "text": [
      "Cantidad de outliers: 5,262\n",
      "Porcentaje de outliers: 1.0 %\n"
     ]
    }
   ],
   "source": [
    "_ = calculate_outliers(df, \"Fare\")"
   ]
  },
  {
   "cell_type": "markdown",
   "metadata": {},
   "source": [
    "Análisis de comportamiento para aquellos valores por debajo de la tarifa mínimca de $3.25"
   ]
  },
  {
   "cell_type": "code",
   "execution_count": 142,
   "metadata": {
    "tags": []
   },
   "outputs": [
    {
     "name": "stderr",
     "output_type": "stream",
     "text": [
      "                                                                                \r"
     ]
    },
    {
     "data": {
      "text/html": [
       "<div>\n",
       "<style scoped>\n",
       "    .dataframe tbody tr th:only-of-type {\n",
       "        vertical-align: middle;\n",
       "    }\n",
       "\n",
       "    .dataframe tbody tr th {\n",
       "        vertical-align: top;\n",
       "    }\n",
       "\n",
       "    .dataframe thead th {\n",
       "        text-align: right;\n",
       "    }\n",
       "</style>\n",
       "<table border=\"1\" class=\"dataframe\">\n",
       "  <thead>\n",
       "    <tr style=\"text-align: right;\">\n",
       "      <th></th>\n",
       "      <th>summary</th>\n",
       "      <th>Trip ID</th>\n",
       "      <th>Taxi ID</th>\n",
       "      <th>Trip Seconds</th>\n",
       "      <th>Trip Miles</th>\n",
       "      <th>Pickup Community Area</th>\n",
       "      <th>Dropoff Community Area</th>\n",
       "      <th>Fare</th>\n",
       "      <th>Tips</th>\n",
       "      <th>Tolls</th>\n",
       "      <th>Extras</th>\n",
       "      <th>Trip Total</th>\n",
       "      <th>Payment Type</th>\n",
       "      <th>Company</th>\n",
       "      <th>Pickup Centroid Latitude</th>\n",
       "      <th>Pickup Centroid Longitude</th>\n",
       "      <th>Pickup Centroid Location</th>\n",
       "      <th>Dropoff Centroid Latitude</th>\n",
       "      <th>Dropoff Centroid Longitude</th>\n",
       "      <th>Dropoff Centroid Location</th>\n",
       "      <th>Week</th>\n",
       "    </tr>\n",
       "  </thead>\n",
       "  <tbody>\n",
       "    <tr>\n",
       "      <th>0</th>\n",
       "      <td>count</td>\n",
       "      <td>1188</td>\n",
       "      <td>1188</td>\n",
       "      <td>1188</td>\n",
       "      <td>1188</td>\n",
       "      <td>1091</td>\n",
       "      <td>1124</td>\n",
       "      <td>1188</td>\n",
       "      <td>1188</td>\n",
       "      <td>1188</td>\n",
       "      <td>1188</td>\n",
       "      <td>1188</td>\n",
       "      <td>1188</td>\n",
       "      <td>1188</td>\n",
       "      <td>1093</td>\n",
       "      <td>1093</td>\n",
       "      <td>1093</td>\n",
       "      <td>1125</td>\n",
       "      <td>1125</td>\n",
       "      <td>1125</td>\n",
       "      <td>1188</td>\n",
       "    </tr>\n",
       "    <tr>\n",
       "      <th>1</th>\n",
       "      <td>mean</td>\n",
       "      <td>None</td>\n",
       "      <td>None</td>\n",
       "      <td>1288.6574074074074</td>\n",
       "      <td>1.6342424274648004</td>\n",
       "      <td>29.637030247479377</td>\n",
       "      <td>29.708185053380785</td>\n",
       "      <td>0.525092592588328</td>\n",
       "      <td>0.10829124509541926</td>\n",
       "      <td>0.006742424242236096</td>\n",
       "      <td>0.4890151513546003</td>\n",
       "      <td>1.1548400696301175</td>\n",
       "      <td>None</td>\n",
       "      <td>None</td>\n",
       "      <td>41.88698976103145</td>\n",
       "      <td>-87.66678814133263</td>\n",
       "      <td>None</td>\n",
       "      <td>41.88775081041124</td>\n",
       "      <td>-87.67035382758246</td>\n",
       "      <td>None</td>\n",
       "      <td>25.334175084175083</td>\n",
       "    </tr>\n",
       "    <tr>\n",
       "      <th>2</th>\n",
       "      <td>stddev</td>\n",
       "      <td>None</td>\n",
       "      <td>None</td>\n",
       "      <td>5069.729499950291</td>\n",
       "      <td>6.883542453298105</td>\n",
       "      <td>22.427994138592414</td>\n",
       "      <td>22.125608487288602</td>\n",
       "      <td>0.7068981860881287</td>\n",
       "      <td>1.5422686510767818</td>\n",
       "      <td>0.13597317857643548</td>\n",
       "      <td>4.116406379202811</td>\n",
       "      <td>4.962182506460969</td>\n",
       "      <td>None</td>\n",
       "      <td>None</td>\n",
       "      <td>0.06543610900693216</td>\n",
       "      <td>0.07556821383923487</td>\n",
       "      <td>None</td>\n",
       "      <td>0.06329574440109186</td>\n",
       "      <td>0.07854710621716667</td>\n",
       "      <td>None</td>\n",
       "      <td>10.177213777814877</td>\n",
       "    </tr>\n",
       "    <tr>\n",
       "      <th>3</th>\n",
       "      <td>min</td>\n",
       "      <td>000c24f8cf962934ab69fa6e2eb562dd42136931</td>\n",
       "      <td>0083fcde0fb490b4ec424c63d1d750378f6ad11154d1d4...</td>\n",
       "      <td>1</td>\n",
       "      <td>0.0</td>\n",
       "      <td>1</td>\n",
       "      <td>1</td>\n",
       "      <td>0.0</td>\n",
       "      <td>0.0</td>\n",
       "      <td>0.0</td>\n",
       "      <td>0.0</td>\n",
       "      <td>0.0</td>\n",
       "      <td>Cash</td>\n",
       "      <td>5 Star Taxi</td>\n",
       "      <td>41.67382</td>\n",
       "      <td>-87.91363</td>\n",
       "      <td>POINT (-87.551428197 41.7412427285)</td>\n",
       "      <td>41.68973</td>\n",
       "      <td>-87.91363</td>\n",
       "      <td>POINT (-87.551428197 41.7412427285)</td>\n",
       "      <td>1</td>\n",
       "    </tr>\n",
       "    <tr>\n",
       "      <th>4</th>\n",
       "      <td>max</td>\n",
       "      <td>ffd945751a4d88ade8b0f85b6cefaa733d654bf4</td>\n",
       "      <td>fe659851fec6b2684321a52e42b1a316dd6657ba108f61...</td>\n",
       "      <td>81844</td>\n",
       "      <td>164.99</td>\n",
       "      <td>77</td>\n",
       "      <td>77</td>\n",
       "      <td>3.1</td>\n",
       "      <td>45.0</td>\n",
       "      <td>3.0</td>\n",
       "      <td>53.0</td>\n",
       "      <td>65.65</td>\n",
       "      <td>Unknown</td>\n",
       "      <td>U Taxicab</td>\n",
       "      <td>42.009624</td>\n",
       "      <td>-87.55143</td>\n",
       "      <td>POINT (-87.913624596 41.9802643146)</td>\n",
       "      <td>42.016045</td>\n",
       "      <td>-87.55143</td>\n",
       "      <td>POINT (-87.913624596 41.9802643146)</td>\n",
       "      <td>52</td>\n",
       "    </tr>\n",
       "  </tbody>\n",
       "</table>\n",
       "</div>"
      ],
      "text/plain": [
       "  summary                                   Trip ID                                            Taxi ID        Trip Seconds          Trip Miles Pickup Community Area Dropoff Community Area                Fare                 Tips                 Tolls              Extras          Trip Total Payment Type      Company Pickup Centroid Latitude Pickup Centroid Longitude             Pickup Centroid Location Dropoff Centroid Latitude Dropoff Centroid Longitude            Dropoff Centroid Location                Week\n",
       "0   count                                      1188                                               1188                1188                1188                  1091                   1124                1188                 1188                  1188                1188                1188         1188         1188                     1093                      1093                                 1093                      1125                       1125                                 1125                1188\n",
       "1    mean                                      None                                               None  1288.6574074074074  1.6342424274648004    29.637030247479377     29.708185053380785   0.525092592588328  0.10829124509541926  0.006742424242236096  0.4890151513546003  1.1548400696301175         None         None        41.88698976103145        -87.66678814133263                                 None         41.88775081041124         -87.67035382758246                                 None  25.334175084175083\n",
       "2  stddev                                      None                                               None   5069.729499950291   6.883542453298105    22.427994138592414     22.125608487288602  0.7068981860881287   1.5422686510767818   0.13597317857643548   4.116406379202811   4.962182506460969         None         None      0.06543610900693216       0.07556821383923487                                 None       0.06329574440109186        0.07854710621716667                                 None  10.177213777814877\n",
       "3     min  000c24f8cf962934ab69fa6e2eb562dd42136931  0083fcde0fb490b4ec424c63d1d750378f6ad11154d1d4...                   1                 0.0                     1                      1                 0.0                  0.0                   0.0                 0.0                 0.0         Cash  5 Star Taxi                 41.67382                 -87.91363  POINT (-87.551428197 41.7412427285)                  41.68973                  -87.91363  POINT (-87.551428197 41.7412427285)                   1\n",
       "4     max  ffd945751a4d88ade8b0f85b6cefaa733d654bf4  fe659851fec6b2684321a52e42b1a316dd6657ba108f61...               81844              164.99                    77                     77                 3.1                 45.0                   3.0                53.0               65.65      Unknown    U Taxicab                42.009624                 -87.55143  POINT (-87.913624596 41.9802643146)                 42.016045                  -87.55143  POINT (-87.913624596 41.9802643146)                  52"
      ]
     },
     "execution_count": 142,
     "metadata": {},
     "output_type": "execute_result"
    }
   ],
   "source": [
    "df[df[\"Fare\"] < 3.25].describe().toPandas().round(2)"
   ]
  },
  {
   "cell_type": "markdown",
   "metadata": {},
   "source": [
    "## TODO: Análisis de Fare menor a 3.25"
   ]
  },
  {
   "cell_type": "markdown",
   "metadata": {},
   "source": [
    "Se acotará el dataFrame para limitar la tarifa a partir de $3.25 para ajustar los cobros a la tarifa base."
   ]
  },
  {
   "cell_type": "code",
   "execution_count": 143,
   "metadata": {
    "tags": []
   },
   "outputs": [],
   "source": [
    "df = df[df[\"Fare\"] >= 3.25]"
   ]
  },
  {
   "cell_type": "markdown",
   "metadata": {},
   "source": [
    "## Análisis con unidad muestral taxi"
   ]
  },
  {
   "cell_type": "code",
   "execution_count": 144,
   "metadata": {
    "tags": []
   },
   "outputs": [
    {
     "name": "stdout",
     "output_type": "stream",
     "text": [
      "Cantidad de outliers: 5,086\n",
      "Porcentaje de outliers: 0.97 %\n"
     ]
    },
    {
     "name": "stderr",
     "output_type": "stream",
     "text": [
      "                                                                                \r"
     ]
    },
    {
     "data": {
      "text/html": [
       "<div>\n",
       "<style scoped>\n",
       "    .dataframe tbody tr th:only-of-type {\n",
       "        vertical-align: middle;\n",
       "    }\n",
       "\n",
       "    .dataframe tbody tr th {\n",
       "        vertical-align: top;\n",
       "    }\n",
       "\n",
       "    .dataframe thead th {\n",
       "        text-align: right;\n",
       "    }\n",
       "</style>\n",
       "<table border=\"1\" class=\"dataframe\">\n",
       "  <thead>\n",
       "    <tr style=\"text-align: right;\">\n",
       "      <th></th>\n",
       "      <th>summary</th>\n",
       "      <th>Trip ID</th>\n",
       "      <th>Taxi ID</th>\n",
       "      <th>Trip Seconds</th>\n",
       "      <th>Trip Miles</th>\n",
       "      <th>Pickup Community Area</th>\n",
       "      <th>Dropoff Community Area</th>\n",
       "      <th>Fare</th>\n",
       "      <th>Tips</th>\n",
       "      <th>Tolls</th>\n",
       "      <th>Extras</th>\n",
       "      <th>Trip Total</th>\n",
       "      <th>Payment Type</th>\n",
       "      <th>Company</th>\n",
       "      <th>Pickup Centroid Latitude</th>\n",
       "      <th>Pickup Centroid Longitude</th>\n",
       "      <th>Pickup Centroid Location</th>\n",
       "      <th>Dropoff Centroid Latitude</th>\n",
       "      <th>Dropoff Centroid Longitude</th>\n",
       "      <th>Dropoff Centroid Location</th>\n",
       "      <th>Week</th>\n",
       "    </tr>\n",
       "  </thead>\n",
       "  <tbody>\n",
       "    <tr>\n",
       "      <th>0</th>\n",
       "      <td>count</td>\n",
       "      <td>5086</td>\n",
       "      <td>5086</td>\n",
       "      <td>5086</td>\n",
       "      <td>5086</td>\n",
       "      <td>4159</td>\n",
       "      <td>2426</td>\n",
       "      <td>5086</td>\n",
       "      <td>5086</td>\n",
       "      <td>5086</td>\n",
       "      <td>5086</td>\n",
       "      <td>5086</td>\n",
       "      <td>5086</td>\n",
       "      <td>5086</td>\n",
       "      <td>4161</td>\n",
       "      <td>4161</td>\n",
       "      <td>4161</td>\n",
       "      <td>2451</td>\n",
       "      <td>2451</td>\n",
       "      <td>2451</td>\n",
       "      <td>5086</td>\n",
       "    </tr>\n",
       "    <tr>\n",
       "      <th>1</th>\n",
       "      <td>mean</td>\n",
       "      <td>None</td>\n",
       "      <td>None</td>\n",
       "      <td>3390.359418010224</td>\n",
       "      <td>26.50059178750486</td>\n",
       "      <td>57.336138494830486</td>\n",
       "      <td>49.300906842539156</td>\n",
       "      <td>112.24027721271523</td>\n",
       "      <td>7.825597718955727</td>\n",
       "      <td>0.37647070381548686</td>\n",
       "      <td>14.849919386750077</td>\n",
       "      <td>135.53371208931955</td>\n",
       "      <td>None</td>\n",
       "      <td>None</td>\n",
       "      <td>41.917473586526405</td>\n",
       "      <td>-87.79782400060175</td>\n",
       "      <td>None</td>\n",
       "      <td>41.8902601633496</td>\n",
       "      <td>-87.74386744847448</td>\n",
       "      <td>None</td>\n",
       "      <td>24.022611089264647</td>\n",
       "    </tr>\n",
       "    <tr>\n",
       "      <th>2</th>\n",
       "      <td>stddev</td>\n",
       "      <td>None</td>\n",
       "      <td>None</td>\n",
       "      <td>4867.936786475932</td>\n",
       "      <td>39.599736647058855</td>\n",
       "      <td>24.442303190935014</td>\n",
       "      <td>25.492851943402208</td>\n",
       "      <td>285.27237499034396</td>\n",
       "      <td>11.568818388891408</td>\n",
       "      <td>3.189880544009413</td>\n",
       "      <td>25.124996570478302</td>\n",
       "      <td>286.2257873593283</td>\n",
       "      <td>None</td>\n",
       "      <td>None</td>\n",
       "      <td>0.08425523721719089</td>\n",
       "      <td>0.12623547154767614</td>\n",
       "      <td>None</td>\n",
       "      <td>0.09411555911033599</td>\n",
       "      <td>0.1290454302716906</td>\n",
       "      <td>None</td>\n",
       "      <td>12.445060384323813</td>\n",
       "    </tr>\n",
       "    <tr>\n",
       "      <th>3</th>\n",
       "      <td>min</td>\n",
       "      <td>0006f67ddc5a0baadeb1dc121ef4f2cc63170b85</td>\n",
       "      <td>0044e6c0d091476299b99345501f756b23632a96cbaf40...</td>\n",
       "      <td>1</td>\n",
       "      <td>0.0</td>\n",
       "      <td>1</td>\n",
       "      <td>1</td>\n",
       "      <td>73.39</td>\n",
       "      <td>0.0</td>\n",
       "      <td>0.0</td>\n",
       "      <td>0.0</td>\n",
       "      <td>73.39</td>\n",
       "      <td>Cash</td>\n",
       "      <td>312 Medallion Management Corp</td>\n",
       "      <td>41.660137</td>\n",
       "      <td>-87.91363</td>\n",
       "      <td>POINT (-87.5349029012 41.707311449)</td>\n",
       "      <td>41.660137</td>\n",
       "      <td>-87.91363</td>\n",
       "      <td>POINT (-87.5349029012 41.707311449)</td>\n",
       "      <td>1</td>\n",
       "    </tr>\n",
       "    <tr>\n",
       "      <th>4</th>\n",
       "      <td>max</td>\n",
       "      <td>ffe93a1cec434a203aca099d38b4d1b922950f98</td>\n",
       "      <td>ffa006c14e54b463189c69f05ad3af2b89d20bb60e68b3...</td>\n",
       "      <td>79034</td>\n",
       "      <td>2265.43</td>\n",
       "      <td>77</td>\n",
       "      <td>77</td>\n",
       "      <td>9999.75</td>\n",
       "      <td>112.65</td>\n",
       "      <td>82.0</td>\n",
       "      <td>552.5</td>\n",
       "      <td>9999.75</td>\n",
       "      <td>Unknown</td>\n",
       "      <td>U Taxicab</td>\n",
       "      <td>42.009624</td>\n",
       "      <td>-87.534904</td>\n",
       "      <td>POINT (-87.913624596 41.9802643146)</td>\n",
       "      <td>42.009624</td>\n",
       "      <td>-87.534904</td>\n",
       "      <td>POINT (-87.913624596 41.9802643146)</td>\n",
       "      <td>52</td>\n",
       "    </tr>\n",
       "  </tbody>\n",
       "</table>\n",
       "</div>"
      ],
      "text/plain": [
       "  summary                                   Trip ID                                            Taxi ID       Trip Seconds          Trip Miles Pickup Community Area Dropoff Community Area                Fare                Tips                Tolls              Extras          Trip Total Payment Type                        Company Pickup Centroid Latitude Pickup Centroid Longitude             Pickup Centroid Location Dropoff Centroid Latitude Dropoff Centroid Longitude            Dropoff Centroid Location                Week\n",
       "0   count                                      5086                                               5086               5086                5086                  4159                   2426                5086                5086                 5086                5086                5086         5086                           5086                     4161                      4161                                 4161                      2451                       2451                                 2451                5086\n",
       "1    mean                                      None                                               None  3390.359418010224   26.50059178750486    57.336138494830486     49.300906842539156  112.24027721271523   7.825597718955727  0.37647070381548686  14.849919386750077  135.53371208931955         None                           None       41.917473586526405        -87.79782400060175                                 None          41.8902601633496         -87.74386744847448                                 None  24.022611089264647\n",
       "2  stddev                                      None                                               None  4867.936786475932  39.599736647058855    24.442303190935014     25.492851943402208  285.27237499034396  11.568818388891408    3.189880544009413  25.124996570478302   286.2257873593283         None                           None      0.08425523721719089       0.12623547154767614                                 None       0.09411555911033599         0.1290454302716906                                 None  12.445060384323813\n",
       "3     min  0006f67ddc5a0baadeb1dc121ef4f2cc63170b85  0044e6c0d091476299b99345501f756b23632a96cbaf40...                  1                 0.0                     1                      1               73.39                 0.0                  0.0                 0.0               73.39         Cash  312 Medallion Management Corp                41.660137                 -87.91363  POINT (-87.5349029012 41.707311449)                 41.660137                  -87.91363  POINT (-87.5349029012 41.707311449)                   1\n",
       "4     max  ffe93a1cec434a203aca099d38b4d1b922950f98  ffa006c14e54b463189c69f05ad3af2b89d20bb60e68b3...              79034             2265.43                    77                     77             9999.75              112.65                 82.0               552.5             9999.75      Unknown                      U Taxicab                42.009624                -87.534904  POINT (-87.913624596 41.9802643146)                 42.009624                 -87.534904  POINT (-87.913624596 41.9802643146)                  52"
      ]
     },
     "execution_count": 144,
     "metadata": {},
     "output_type": "execute_result"
    }
   ],
   "source": [
    "lower_bound, upper_bound = calculate_outliers(df, \"Fare\")\n",
    "fare_outliers = df.filter((F.col(\"Fare\") < lower_bound) | (F.col(\"Fare\") > upper_bound))\n",
    "fare_outliers_df = fare_outliers.describe().toPandas().round(2)\n",
    "fare_outliers_df"
   ]
  },
  {
   "cell_type": "code",
   "execution_count": 145,
   "metadata": {
    "tags": []
   },
   "outputs": [
    {
     "name": "stdout",
     "output_type": "stream",
     "text": [
      "El Taxi ID con la mayor cantidad de outliers es: cce8c54f19d692acc5dd45d391a8bb964d15af67f314d1ac81e0597f105a70ad12935afa9487766eef90a6f8f0f3d09e6a8877e99b01d21035a05b4a16e985c4\n"
     ]
    }
   ],
   "source": [
    "# Agrupa por \"Taxi ID\" y suma la cantidad de \"Fare\" en outliers\n",
    "conteo_outliers_por_taxista = fare_outliers.groupBy(\"Taxi ID\").agg(\n",
    "    F.sum(\"Fare\").alias(\"Total Fare\")\n",
    ")\n",
    "\n",
    "# Obtener el \"Taxi ID\" con la suma máxima de \"Fare\"\n",
    "taxista_con_mas_outliers = conteo_outliers_por_taxista.orderBy(\n",
    "    F.desc(\"Total Fare\")\n",
    ").first()[\"Taxi ID\"]\n",
    "\n",
    "print(f\"El Taxi ID con la mayor cantidad de outliers es: {taxista_con_mas_outliers}\")"
   ]
  },
  {
   "cell_type": "code",
   "execution_count": 146,
   "metadata": {
    "tags": []
   },
   "outputs": [
    {
     "data": {
      "text/plain": [
       "<Figure size 1200x600 with 0 Axes>"
      ]
     },
     "metadata": {},
     "output_type": "display_data"
    },
    {
     "data": {
      "image/png": "[encoded data removed]",
      "text/plain": [
       "<Figure size 640x480 with 1 Axes>"
      ]
     },
     "metadata": {},
     "output_type": "display_data"
    }
   ],
   "source": [
    "# Obtener los 10 taxistas con más outliers\n",
    "top_10_taxistas = (\n",
    "    conteo_outliers_por_taxista.orderBy(F.desc(\"Total Fare\")).limit(10).toPandas()\n",
    ")\n",
    "\n",
    "fig = plt.figure(figsize=(12, 6))\n",
    "top_10_taxistas.plot(kind=\"bar\", color=\"skyblue\")\n",
    "\n",
    "plt.title(\"Conteo de Outliers por los 10 Taxistas con más Outliers\")\n",
    "plt.ylabel(\"Conteo de Outliers\")\n",
    "plt.xticks(rotation=90)\n",
    "\n",
    "plt.show()"
   ]
  },
  {
   "cell_type": "code",
   "execution_count": 147,
   "metadata": {
    "tags": []
   },
   "outputs": [
    {
     "data": {
      "image/png": "[encoded data removed]",
      "text/plain": [
       "<Figure size 1200x600 with 1 Axes>"
      ]
     },
     "metadata": {},
     "output_type": "display_data"
    }
   ],
   "source": [
    "# Filtrar el DataFrame para obtener las filas del taxista con más outliers\n",
    "taxista_outliers_df = df.filter(F.col(\"Taxi ID\") == taxista_con_mas_outliers).toPandas()\n",
    "taxista_outliers_df = taxista_outliers_df.sort_values(\"Trip Start Timestamp\")\n",
    "\n",
    "plt.figure(figsize=(12, 6))\n",
    "plt.plot(taxista_outliers_df[\"Trip Start Timestamp\"], taxista_outliers_df[\"Fare\"])\n",
    "plt.title(\"Historial de Taxista anómalo\")\n",
    "plt.xlabel(\"Tiempo\")\n",
    "plt.ylabel(\"Fare\")\n",
    "plt.grid(True)\n",
    "plt.xticks(rotation=45)\n",
    "plt.show()"
   ]
  },
  {
   "cell_type": "markdown",
   "metadata": {},
   "source": [
    "## TODO: Falta análisis "
   ]
  },
  {
   "cell_type": "code",
   "execution_count": 148,
   "metadata": {
    "tags": []
   },
   "outputs": [
    {
     "name": "stdout",
     "output_type": "stream",
     "text": [
      "El valor máximo de Fare en los outliers es: 9999.75\n"
     ]
    }
   ],
   "source": [
    "max_fare = fare_outliers.agg(F.max(\"Fare\")).first()[0]\n",
    "print(f\"El valor máximo de Fare en los outliers es: {max_fare}\")"
   ]
  },
  {
   "cell_type": "code",
   "execution_count": 149,
   "metadata": {
    "tags": []
   },
   "outputs": [
    {
     "name": "stdout",
     "output_type": "stream",
     "text": [
      "El Taxi ID anómalo es: 9703e1392053fcc0fe57e1a2d9eafce47d4582d2fb158088f560933d6af95b77edcd7badf62fd6d9eb3a9915c6bd0901ad15c5a52e88f9769069c96adc7c866c\n"
     ]
    }
   ],
   "source": [
    "# Filtrar el DataFrame para obtener los registros donde \"Fare\" es mayor o igual a max_fare\n",
    "anomalies_df = df.filter(F.col(\"Fare\") >= max_fare)\n",
    "\n",
    "# Obtener el \"Taxi ID\" y \"Trip ID\" de la primera fila del DataFrame filtrado\n",
    "taxi_anomalo = anomalies_df.select(\"Taxi ID\").first()[\"Taxi ID\"]\n",
    "viaje_anomalo = anomalies_df.select(\"Trip ID\").first()[\"Trip ID\"]\n",
    "\n",
    "# Imprimir el \"Taxi ID\" anómalo\n",
    "print(f\"El Taxi ID anómalo es: {taxi_anomalo}\")"
   ]
  },
  {
   "cell_type": "code",
   "execution_count": 150,
   "metadata": {
    "tags": []
   },
   "outputs": [
    {
     "data": {
      "image/png": "[encoded data removed]",
      "text/plain": [
       "<Figure size 1200x600 with 1 Axes>"
      ]
     },
     "metadata": {},
     "output_type": "display_data"
    }
   ],
   "source": [
    "# Filtrar el DataFrame para obtener los datos del taxista anómalo\n",
    "taxista_data = df.filter(F.col(\"Taxi ID\") == taxi_anomalo)\n",
    "\n",
    "# Convertir las columnas a Pandas para poder graficar\n",
    "taxista_data_pd = taxista_data.toPandas()\n",
    "taxista_data_pd = taxista_data_pd.sort_values(\"Trip Start Timestamp\")\n",
    "\n",
    "# Crear la figura y el gráfico\n",
    "plt.figure(figsize=(12, 6))\n",
    "plt.plot(taxista_data_pd[\"Trip Start Timestamp\"], taxista_data_pd[\"Fare\"])\n",
    "\n",
    "# Configurar el título y las etiquetas\n",
    "plt.title(\"Historial del Taxista\")\n",
    "plt.xlabel(\"Tiempo\")\n",
    "plt.ylabel(\"Fare\")\n",
    "plt.grid(True)\n",
    "plt.xticks(rotation=45)\n",
    "\n",
    "# Mostrar la gráfica\n",
    "plt.show()"
   ]
  },
  {
   "cell_type": "code",
   "execution_count": 151,
   "metadata": {
    "tags": []
   },
   "outputs": [],
   "source": [
    "trip_id_a_eliminar = viaje_anomalo\n",
    "df = df[df[\"Trip ID\"] != trip_id_a_eliminar]"
   ]
  },
  {
   "cell_type": "code",
   "execution_count": 152,
   "metadata": {
    "tags": []
   },
   "outputs": [
    {
     "name": "stderr",
     "output_type": "stream",
     "text": [
      "                                                                                \r"
     ]
    },
    {
     "data": {
      "image/png": "[encoded data removed]",
      "text/plain": [
       "<Figure size 1200x800 with 1 Axes>"
      ]
     },
     "metadata": {},
     "output_type": "display_data"
    }
   ],
   "source": [
    "create_boxplot(df, [\"Fare\", \"Tips\", \"Tolls\", \"Extras\"], title=\"Fare\")"
   ]
  },
  {
   "cell_type": "code",
   "execution_count": 153,
   "metadata": {
    "tags": []
   },
   "outputs": [
    {
     "name": "stderr",
     "output_type": "stream",
     "text": [
      "[Stage 604:>                                                        (0 + 1) / 1]\r"
     ]
    },
    {
     "name": "stdout",
     "output_type": "stream",
     "text": [
      "+-------+------------------+\n",
      "|summary|              Fare|\n",
      "+-------+------------------+\n",
      "|  count|            524092|\n",
      "|   mean|22.787842917841104|\n",
      "| stddev|30.462841621375112|\n",
      "|    min|              3.25|\n",
      "|    25%|               8.5|\n",
      "|    50%|              16.0|\n",
      "|    75%|              35.0|\n",
      "|    max|           9666.66|\n",
      "+-------+------------------+\n",
      "\n"
     ]
    },
    {
     "name": "stderr",
     "output_type": "stream",
     "text": [
      "                                                                                \r"
     ]
    }
   ],
   "source": [
    "descripcion = df.select(\"Fare\").summary()\n",
    "descripcion.show()"
   ]
  },
  {
   "cell_type": "code",
   "execution_count": 154,
   "metadata": {
    "tags": []
   },
   "outputs": [
    {
     "name": "stdout",
     "output_type": "stream",
     "text": [
      "Percentiles específicos de 'Fare':\n",
      "Percentil 0.9700: 53.5\n",
      "Percentil 0.9800: 58.25\n",
      "Percentil 0.9997: 9666.66015625\n",
      "Percentil 0.9998: 9666.66015625\n",
      "Percentil 0.9999: 9666.66015625\n"
     ]
    }
   ],
   "source": [
    "calculate_and_print_percentiles(df, \"Fare\")"
   ]
  },
  {
   "cell_type": "markdown",
   "metadata": {},
   "source": [
    "## TODO: Justificar por que dejar Fare < a 200"
   ]
  },
  {
   "cell_type": "code",
   "execution_count": 155,
   "metadata": {
    "tags": []
   },
   "outputs": [],
   "source": [
    "df = df.filter(F.col(\"Fare\") < 200)"
   ]
  },
  {
   "cell_type": "code",
   "execution_count": 156,
   "metadata": {
    "tags": []
   },
   "outputs": [
    {
     "name": "stderr",
     "output_type": "stream",
     "text": [
      "                                                                                \r"
     ]
    },
    {
     "data": {
      "image/png": "[encoded data removed]",
      "text/plain": [
       "<Figure size 1200x800 with 1 Axes>"
      ]
     },
     "metadata": {},
     "output_type": "display_data"
    }
   ],
   "source": [
    "create_boxplot(df, [\"Fare\", \"Tips\", \"Tolls\", \"Extras\"], title=\"Montos\")"
   ]
  },
  {
   "cell_type": "markdown",
   "metadata": {},
   "source": [
    "## Peaje (Tolls)"
   ]
  },
  {
   "cell_type": "code",
   "execution_count": 157,
   "metadata": {
    "tags": []
   },
   "outputs": [
    {
     "name": "stdout",
     "output_type": "stream",
     "text": [
      "Percentiles específicos de 'Tolls':\n",
      "Percentil 0.9700: 0.0\n",
      "Percentil 0.9800: 0.0\n",
      "Percentil 0.9997: 5000.0\n",
      "Percentil 0.9998: 5000.0\n",
      "Percentil 0.9999: 5000.0\n"
     ]
    }
   ],
   "source": [
    "calculate_and_print_percentiles(df, \"Tolls\")"
   ]
  },
  {
   "cell_type": "code",
   "execution_count": 158,
   "metadata": {
    "tags": []
   },
   "outputs": [
    {
     "name": "stdout",
     "output_type": "stream",
     "text": [
      "El número de filas con 'Tolls' >= 100 es: 3\n"
     ]
    }
   ],
   "source": [
    "count = df.filter(df[\"Tolls\"] >= 100).count()\n",
    "print(f\"El número de filas con 'Tolls' >= 100 es: {count}\")"
   ]
  },
  {
   "cell_type": "markdown",
   "metadata": {},
   "source": [
    "El monto máximo que se puede pagar en 'Tolls' es 100, por lo que se filtrarán aquellos registros con un 'Toll' mayor que $100\n",
    "https://ua.getipass.com/trip-calculator"
   ]
  },
  {
   "cell_type": "code",
   "execution_count": 159,
   "metadata": {
    "tags": []
   },
   "outputs": [],
   "source": [
    "df = df.filter(df[\"Tolls\"] < 100)"
   ]
  },
  {
   "cell_type": "markdown",
   "metadata": {},
   "source": [
    "## Extras"
   ]
  },
  {
   "cell_type": "code",
   "execution_count": 160,
   "metadata": {
    "tags": []
   },
   "outputs": [
    {
     "name": "stdout",
     "output_type": "stream",
     "text": [
      "Percentiles específicos de 'Extras':\n",
      "Percentil 0.9900: 9693.7802734375\n",
      "Percentil 0.9999: 9693.7802734375\n",
      "Percentil 0.9999: 9693.7802734375\n",
      "Percentil 1.0000: 9693.7802734375\n",
      "Percentil 1.0000: 9693.7802734375\n",
      "Percentil 1.0000: 9693.7802734375\n"
     ]
    }
   ],
   "source": [
    "calculate_and_print_percentiles(\n",
    "    df, \"Extras\", [0.99, 0.99992, 0.99994, 0.99996, 0.99998, 0.99999]\n",
    ")"
   ]
  },
  {
   "cell_type": "markdown",
   "metadata": {},
   "source": [
    "En el caso de los extras, al considear la mayor cantidad de pasajeros y gastos de limpieza, no debería exceder arriba de $100 dólares"
   ]
  },
  {
   "cell_type": "code",
   "execution_count": 161,
   "metadata": {
    "tags": []
   },
   "outputs": [],
   "source": [
    "df = df.filter(df[\"Extras\"] < 100)"
   ]
  },
  {
   "cell_type": "markdown",
   "metadata": {},
   "source": [
    "## Revisión final de Outliers"
   ]
  },
  {
   "cell_type": "code",
   "execution_count": 162,
   "metadata": {
    "tags": []
   },
   "outputs": [
    {
     "name": "stderr",
     "output_type": "stream",
     "text": [
      "                                                                                \r"
     ]
    },
    {
     "data": {
      "image/png": "[encoded data removed]",
      "text/plain": [
       "<Figure size 1200x800 with 1 Axes>"
      ]
     },
     "metadata": {},
     "output_type": "display_data"
    }
   ],
   "source": [
    "create_boxplot(df, [\"Fare\", \"Tips\", \"Tolls\", \"Extras\"], title=\"Montos\")"
   ]
  },
  {
   "cell_type": "markdown",
   "metadata": {},
   "source": [
    "# 5. Análisis de Correlación"
   ]
  },
  {
   "cell_type": "code",
   "execution_count": 163,
   "metadata": {
    "tags": []
   },
   "outputs": [
    {
     "name": "stderr",
     "output_type": "stream",
     "text": [
      "                                                                                \r"
     ]
    }
   ],
   "source": [
    "# Combinar columnas en un vector usando VectorAssembler\n",
    "vector_col = \"features\"\n",
    "columns = [\n",
    "    \"Trip Seconds\",\n",
    "    \"Trip Miles\",\n",
    "    \"Fare\",\n",
    "    \"Tips\",\n",
    "    \"Tolls\",\n",
    "    \"Extras\",\n",
    "    \"Trip Total\",\n",
    "]\n",
    "assembler = VectorAssembler(inputCols=columns, outputCol=vector_col)\n",
    "df_vector = assembler.transform(df).select(vector_col)\n",
    "\n",
    "# Calcular la matriz de correlación\n",
    "correlation_matrix = Correlation.corr(df_vector, vector_col).head()[0]\n",
    "\n",
    "# Convertir la matriz a un formato legible (numpy o pandas)\n",
    "corr_array = correlation_matrix.toArray()\n",
    "corr_df = pd.DataFrame(corr_array, columns=columns, index=columns)"
   ]
  },
  {
   "cell_type": "code",
   "execution_count": 164,
   "metadata": {
    "tags": []
   },
   "outputs": [
    {
     "data": {
      "image/png": "[encoded data removed]",
      "text/plain": [
       "<Figure size 800x600 with 2 Axes>"
      ]
     },
     "metadata": {},
     "output_type": "display_data"
    }
   ],
   "source": [
    "plot_correlation_matrix(corr_df)"
   ]
  },
  {
   "cell_type": "markdown",
   "metadata": {},
   "source": [
    "## TODO: Análisis de correlación"
   ]
  },
  {
   "cell_type": "markdown",
   "metadata": {
    "tags": []
   },
   "source": [
    "# 6. Imputación de datos"
   ]
  },
  {
   "cell_type": "markdown",
   "metadata": {},
   "source": [
    "**Trip Miles**\n",
    "\n",
    "Se tiene la hipótesis de que la mayoría de los datos para la variable 'Trip Miles' en cero los podríamos recuperar calculando la distancia entre **(Pickup Centroid Latitud-Pickup Centroid Longitude)** y **(Dropoff Centroid Latitude-Dropoff Centroid Longitude)**."
   ]
  },
  {
   "cell_type": "code",
   "execution_count": 165,
   "metadata": {
    "tags": []
   },
   "outputs": [
    {
     "data": {
      "text/html": [
       "<div>\n",
       "<style scoped>\n",
       "    .dataframe tbody tr th:only-of-type {\n",
       "        vertical-align: middle;\n",
       "    }\n",
       "\n",
       "    .dataframe tbody tr th {\n",
       "        vertical-align: top;\n",
       "    }\n",
       "\n",
       "    .dataframe thead th {\n",
       "        text-align: right;\n",
       "    }\n",
       "</style>\n",
       "<table border=\"1\" class=\"dataframe\">\n",
       "  <thead>\n",
       "    <tr style=\"text-align: right;\">\n",
       "      <th></th>\n",
       "      <th>feature</th>\n",
       "      <th>count</th>\n",
       "      <th>%</th>\n",
       "    </tr>\n",
       "  </thead>\n",
       "  <tbody>\n",
       "    <tr>\n",
       "      <th>0</th>\n",
       "      <td>Trip Miles</td>\n",
       "      <td>0</td>\n",
       "      <td>0.0</td>\n",
       "    </tr>\n",
       "  </tbody>\n",
       "</table>\n",
       "</div>"
      ],
      "text/plain": [
       "      feature  count    %\n",
       "0  Trip Miles      0  0.0"
      ]
     },
     "execution_count": 165,
     "metadata": {},
     "output_type": "execute_result"
    }
   ],
   "source": [
    "missings_df[missings_df[\"feature\"] == \"Trip Miles\"]"
   ]
  },
  {
   "cell_type": "code",
   "execution_count": 166,
   "metadata": {
    "tags": []
   },
   "outputs": [
    {
     "name": "stdout",
     "output_type": "stream",
     "text": [
      "Cantidad de registros con 'Trip Miles' igual a cero y con valores diferentes a NaN en ubicaciones: 41636\n"
     ]
    }
   ],
   "source": [
    "trip_miles_zero = df.filter(col(\"Trip Miles\") == 0)\n",
    "\n",
    "# Filtrar los datos donde las columnas de ubicación no son NaN\n",
    "filtered_data = trip_miles_zero.filter(\n",
    "    col(\"Pickup Centroid Latitude\").isNotNull()\n",
    "    & col(\"Pickup Centroid Longitude\").isNotNull()\n",
    "    & col(\"Dropoff Centroid Latitude\").isNotNull()\n",
    "    & col(\"Dropoff Centroid Longitude\").isNotNull()\n",
    ")\n",
    "\n",
    "# Contar la cantidad de registros que cumplen con las condiciones\n",
    "count_records = filtered_data.count()\n",
    "print(\n",
    "    f\"Cantidad de registros con 'Trip Miles' igual a cero y con valores diferentes a NaN en ubicaciones: {count_records}\"\n",
    ")"
   ]
  },
  {
   "cell_type": "code",
   "execution_count": 167,
   "metadata": {
    "tags": []
   },
   "outputs": [
    {
     "data": {
      "image/png": "[encoded data removed]",
      "text/plain": [
       "<Figure size 800x600 with 1 Axes>"
      ]
     },
     "metadata": {},
     "output_type": "display_data"
    }
   ],
   "source": [
    "categorias = [\n",
    "    \"Registros con Trip Miles = 0 y ubicaciones válidas\",\n",
    "    \"Registros excluidos\",\n",
    "]\n",
    "\n",
    "# Cantidad de registros que cumplen con las condiciones y registros excluidos\n",
    "trip_miles_zero_count = trip_miles_zero.count()\n",
    "cantidad_registros = [count_records, trip_miles_zero_count - count_records]\n",
    "\n",
    "# Colores para las barras\n",
    "colores = [\"lightblue\", \"lightcoral\"]\n",
    "\n",
    "# Crear el gráfico de barras\n",
    "plt.figure(figsize=(8, 6))\n",
    "plt.bar(categorias, cantidad_registros, color=colores)\n",
    "plt.title(\"Registros con Trip Miles = 0 y ubicaciones válidas\")\n",
    "plt.ylabel(\"Cantidad de Registros\")\n",
    "plt.show()"
   ]
  },
  {
   "cell_type": "markdown",
   "metadata": {},
   "source": [
    "## TODO: Análisis sobre Trip Miles igual a 0"
   ]
  },
  {
   "cell_type": "code",
   "execution_count": 168,
   "metadata": {
    "tags": []
   },
   "outputs": [],
   "source": [
    "# !pip install geopy"
   ]
  },
  {
   "cell_type": "code",
   "execution_count": 169,
   "metadata": {
    "tags": []
   },
   "outputs": [],
   "source": [
    "from pyspark.sql.functions import col, when, udf\n",
    "from geopy.distance import great_circle as GRC\n",
    "\n",
    "\n",
    "# Definir una función para calcular la distancia\n",
    "def calculate_distance(pickup_lat, pickup_lon, dropoff_lat, dropoff_lon):\n",
    "    try:\n",
    "        # Verificar si alguna coordenada es nula\n",
    "        if any(\n",
    "            coord is None\n",
    "            for coord in [pickup_lat, pickup_lon, dropoff_lat, dropoff_lon]\n",
    "        ):\n",
    "            return 0.0\n",
    "        # Calcular la distancia\n",
    "        pickup_coords = (pickup_lat, pickup_lon)\n",
    "        dropoff_coords = (dropoff_lat, dropoff_lon)\n",
    "        return GRC(pickup_coords, dropoff_coords).miles\n",
    "    except Exception:\n",
    "        return 0.0\n",
    "\n",
    "\n",
    "# Registrar la función como una UDF (User-Defined Function)\n",
    "calculate_distance_udf = udf(calculate_distance)\n",
    "\n",
    "# Crear una nueva columna con los valores de 'Trip Miles' imputados\n",
    "# df = df.withColumn(\n",
    "#     \"Trip Miles\",\n",
    "#     when(\n",
    "#         col(\"Trip Miles\") == 0,\n",
    "#         calculate_distance_udf(\n",
    "#             col(\"Pickup Centroid Latitude\"),\n",
    "#             col(\"Pickup Centroid Longitude\"),\n",
    "#             col(\"Dropoff Centroid Latitude\"),\n",
    "#             col(\"Dropoff Centroid Longitude\")\n",
    "#         )\n",
    "#     ).otherwise(col(\"Trip Miles\"))\n",
    "# )"
   ]
  },
  {
   "cell_type": "markdown",
   "metadata": {
    "tags": []
   },
   "source": [
    "⚠️ **Nota:** Por dificultades para usar geopy en los nodos (se tiene que instalar en cada uno) removeremos aquellos registros de Trip Miles con un valor igual a cero."
   ]
  },
  {
   "cell_type": "code",
   "execution_count": 170,
   "metadata": {
    "tags": []
   },
   "outputs": [],
   "source": [
    "df = df.filter(F.col(\"Trip Miles\") != 0)"
   ]
  },
  {
   "cell_type": "markdown",
   "metadata": {},
   "source": [
    "# 7. Ingeniería de variables"
   ]
  },
  {
   "cell_type": "code",
   "execution_count": 171,
   "metadata": {
    "tags": []
   },
   "outputs": [],
   "source": [
    "# Recorrido en minutos\n",
    "df = df.withColumn(\"Trip Minutes\", F.round(F.col(\"Trip Seconds\") / 60, 2))\n",
    "\n",
    "# Recorrido en horas\n",
    "df = df.withColumn(\"Trip Hours\", F.round(F.col(\"Trip Minutes\") / 60, 2))\n",
    "\n",
    "# Recorrido en kilómetros\n",
    "df = df.withColumn(\"Trip Kilometers\", F.round(F.col(\"Trip Miles\") * 1.60934, 2))\n",
    "\n",
    "# Velocidad promedio del taxi\n",
    "df = df.withColumn(\n",
    "    \"Trip Speed\", F.round(F.col(\"Trip Kilometers\") / F.col(\"Trip Hours\"), 2)\n",
    ")\n",
    "\n",
    "# Tasa de propinas\n",
    "df = df.withColumn(\"Tips Ratio\", F.round(F.col(\"Tips\") / F.col(\"Trip Total\"), 2))"
   ]
  },
  {
   "cell_type": "code",
   "execution_count": 172,
   "metadata": {
    "tags": []
   },
   "outputs": [
    {
     "name": "stderr",
     "output_type": "stream",
     "text": [
      "                                                                                \r"
     ]
    },
    {
     "data": {
      "text/plain": [
       "477636"
      ]
     },
     "execution_count": 172,
     "metadata": {},
     "output_type": "execute_result"
    }
   ],
   "source": [
    "df.cache().count()"
   ]
  },
  {
   "cell_type": "markdown",
   "metadata": {
    "tags": []
   },
   "source": [
    "Creamos una variable binaria que nos dice si el viaje ha sido iniciado en el aeropuerto, pues esto supondría un costo extra de 4 dólares."
   ]
  },
  {
   "cell_type": "code",
   "execution_count": 173,
   "metadata": {
    "tags": []
   },
   "outputs": [
    {
     "data": {
      "text/html": [
       "<div>\n",
       "<style scoped>\n",
       "    .dataframe tbody tr th:only-of-type {\n",
       "        vertical-align: middle;\n",
       "    }\n",
       "\n",
       "    .dataframe tbody tr th {\n",
       "        vertical-align: top;\n",
       "    }\n",
       "\n",
       "    .dataframe thead th {\n",
       "        text-align: right;\n",
       "    }\n",
       "</style>\n",
       "<table border=\"1\" class=\"dataframe\">\n",
       "  <thead>\n",
       "    <tr style=\"text-align: right;\">\n",
       "      <th></th>\n",
       "      <th>Payment Type</th>\n",
       "      <th>Absolute frequency</th>\n",
       "      <th>Relative frequency</th>\n",
       "      <th>Accumulated frequency</th>\n",
       "      <th>Accumulated %</th>\n",
       "    </tr>\n",
       "  </thead>\n",
       "  <tbody>\n",
       "    <tr>\n",
       "      <th>0</th>\n",
       "      <td>Credit Card</td>\n",
       "      <td>197385</td>\n",
       "      <td>41.33</td>\n",
       "      <td>197385</td>\n",
       "      <td>41.33</td>\n",
       "    </tr>\n",
       "    <tr>\n",
       "      <th>1</th>\n",
       "      <td>Cash</td>\n",
       "      <td>130934</td>\n",
       "      <td>27.41</td>\n",
       "      <td>328319</td>\n",
       "      <td>68.74</td>\n",
       "    </tr>\n",
       "    <tr>\n",
       "      <th>2</th>\n",
       "      <td>Mobile</td>\n",
       "      <td>71757</td>\n",
       "      <td>15.02</td>\n",
       "      <td>400076</td>\n",
       "      <td>83.76</td>\n",
       "    </tr>\n",
       "    <tr>\n",
       "      <th>3</th>\n",
       "      <td>Prcard</td>\n",
       "      <td>56550</td>\n",
       "      <td>11.84</td>\n",
       "      <td>456626</td>\n",
       "      <td>95.60</td>\n",
       "    </tr>\n",
       "    <tr>\n",
       "      <th>4</th>\n",
       "      <td>Unknown</td>\n",
       "      <td>20563</td>\n",
       "      <td>4.31</td>\n",
       "      <td>477189</td>\n",
       "      <td>99.91</td>\n",
       "    </tr>\n",
       "    <tr>\n",
       "      <th>5</th>\n",
       "      <td>No Charge</td>\n",
       "      <td>328</td>\n",
       "      <td>0.07</td>\n",
       "      <td>477517</td>\n",
       "      <td>99.98</td>\n",
       "    </tr>\n",
       "    <tr>\n",
       "      <th>6</th>\n",
       "      <td>Dispute</td>\n",
       "      <td>119</td>\n",
       "      <td>0.02</td>\n",
       "      <td>477636</td>\n",
       "      <td>100.00</td>\n",
       "    </tr>\n",
       "  </tbody>\n",
       "</table>\n",
       "</div>"
      ],
      "text/plain": [
       "  Payment Type  Absolute frequency  Relative frequency  Accumulated frequency  Accumulated %\n",
       "0  Credit Card              197385               41.33                 197385          41.33\n",
       "1         Cash              130934               27.41                 328319          68.74\n",
       "2       Mobile               71757               15.02                 400076          83.76\n",
       "3       Prcard               56550               11.84                 456626          95.60\n",
       "4      Unknown               20563                4.31                 477189          99.91\n",
       "5    No Charge                 328                0.07                 477517          99.98\n",
       "6      Dispute                 119                0.02                 477636         100.00"
      ]
     },
     "execution_count": 173,
     "metadata": {},
     "output_type": "execute_result"
    }
   ],
   "source": [
    "df = df.withColumn(\n",
    "    \"Is Airport\",\n",
    "    F.when(\n",
    "        (F.col(\"Pickup Community Area\") == 76) | (F.col(\"Pickup Community Area\") == 56),\n",
    "        1,\n",
    "    ).otherwise(0),\n",
    ")\n",
    "\n",
    "generate_frequency_df(df, \"Payment Type\")"
   ]
  },
  {
   "cell_type": "code",
   "execution_count": 174,
   "metadata": {
    "tags": []
   },
   "outputs": [
    {
     "data": {
      "text/html": [
       "<div>\n",
       "<style scoped>\n",
       "    .dataframe tbody tr th:only-of-type {\n",
       "        vertical-align: middle;\n",
       "    }\n",
       "\n",
       "    .dataframe tbody tr th {\n",
       "        vertical-align: top;\n",
       "    }\n",
       "\n",
       "    .dataframe thead th {\n",
       "        text-align: right;\n",
       "    }\n",
       "</style>\n",
       "<table border=\"1\" class=\"dataframe\">\n",
       "  <thead>\n",
       "    <tr style=\"text-align: right;\">\n",
       "      <th></th>\n",
       "      <th>Payment Type</th>\n",
       "      <th>Absolute frequency</th>\n",
       "      <th>Relative frequency</th>\n",
       "      <th>Accumulated frequency</th>\n",
       "      <th>Accumulated %</th>\n",
       "    </tr>\n",
       "  </thead>\n",
       "  <tbody>\n",
       "    <tr>\n",
       "      <th>0</th>\n",
       "      <td>Credit Card</td>\n",
       "      <td>197385</td>\n",
       "      <td>41.33</td>\n",
       "      <td>197385</td>\n",
       "      <td>41.33</td>\n",
       "    </tr>\n",
       "    <tr>\n",
       "      <th>1</th>\n",
       "      <td>Cash</td>\n",
       "      <td>130934</td>\n",
       "      <td>27.41</td>\n",
       "      <td>328319</td>\n",
       "      <td>68.74</td>\n",
       "    </tr>\n",
       "    <tr>\n",
       "      <th>2</th>\n",
       "      <td>Others</td>\n",
       "      <td>77560</td>\n",
       "      <td>16.24</td>\n",
       "      <td>405879</td>\n",
       "      <td>84.98</td>\n",
       "    </tr>\n",
       "    <tr>\n",
       "      <th>3</th>\n",
       "      <td>Mobile</td>\n",
       "      <td>71757</td>\n",
       "      <td>15.02</td>\n",
       "      <td>477636</td>\n",
       "      <td>100.00</td>\n",
       "    </tr>\n",
       "  </tbody>\n",
       "</table>\n",
       "</div>"
      ],
      "text/plain": [
       "  Payment Type  Absolute frequency  Relative frequency  Accumulated frequency  Accumulated %\n",
       "0  Credit Card              197385               41.33                 197385          41.33\n",
       "1         Cash              130934               27.41                 328319          68.74\n",
       "2       Others               77560               16.24                 405879          84.98\n",
       "3       Mobile               71757               15.02                 477636         100.00"
      ]
     },
     "execution_count": 174,
     "metadata": {},
     "output_type": "execute_result"
    }
   ],
   "source": [
    "mapping_dict = {\n",
    "    \"Unknown\": \"Others\",\n",
    "    \"No Charge\": \"Others\",\n",
    "    \"Dispute\": \"Others\",\n",
    "    \"Prcard\": \"Others\",\n",
    "}\n",
    "\n",
    "# Aplicar el mapeo a la columna 'Payment Type'\n",
    "for key, value in mapping_dict.items():\n",
    "    df = df.withColumn(\n",
    "        \"Payment Type\",\n",
    "        F.when(F.col(\"Payment Type\") == key, value).otherwise(F.col(\"Payment Type\")),\n",
    "    )\n",
    "\n",
    "generate_frequency_df(df, \"Payment Type\")"
   ]
  },
  {
   "cell_type": "markdown",
   "metadata": {},
   "source": [
    "**Generando variables Dummy**"
   ]
  },
  {
   "cell_type": "code",
   "execution_count": 175,
   "metadata": {
    "tags": []
   },
   "outputs": [
    {
     "name": "stderr",
     "output_type": "stream",
     "text": [
      "                                                                                \r"
     ]
    },
    {
     "data": {
      "text/html": [
       "<div>\n",
       "<style scoped>\n",
       "    .dataframe tbody tr th:only-of-type {\n",
       "        vertical-align: middle;\n",
       "    }\n",
       "\n",
       "    .dataframe tbody tr th {\n",
       "        vertical-align: top;\n",
       "    }\n",
       "\n",
       "    .dataframe thead th {\n",
       "        text-align: right;\n",
       "    }\n",
       "</style>\n",
       "<table border=\"1\" class=\"dataframe\">\n",
       "  <thead>\n",
       "    <tr style=\"text-align: right;\">\n",
       "      <th></th>\n",
       "      <th>Trip ID</th>\n",
       "      <th>Taxi ID</th>\n",
       "      <th>Trip Start Timestamp</th>\n",
       "      <th>Trip End Timestamp</th>\n",
       "      <th>Trip Seconds</th>\n",
       "      <th>Trip Miles</th>\n",
       "      <th>Pickup Community Area</th>\n",
       "      <th>Dropoff Community Area</th>\n",
       "      <th>Fare</th>\n",
       "      <th>Tips</th>\n",
       "      <th>Tolls</th>\n",
       "      <th>Extras</th>\n",
       "      <th>Trip Total</th>\n",
       "      <th>Company</th>\n",
       "      <th>Pickup Centroid Latitude</th>\n",
       "      <th>Pickup Centroid Longitude</th>\n",
       "      <th>Pickup Centroid Location</th>\n",
       "      <th>Dropoff Centroid Latitude</th>\n",
       "      <th>Dropoff Centroid Longitude</th>\n",
       "      <th>Dropoff Centroid Location</th>\n",
       "      <th>Week</th>\n",
       "      <th>Trip Minutes</th>\n",
       "      <th>Trip Hours</th>\n",
       "      <th>Trip Kilometers</th>\n",
       "      <th>Trip Speed</th>\n",
       "      <th>Tips Ratio</th>\n",
       "      <th>Is Airport</th>\n",
       "      <th>Payment_Type_Credit Card</th>\n",
       "      <th>Payment_Type_Mobile</th>\n",
       "      <th>Payment_Type_Cash</th>\n",
       "      <th>Payment_Type_Others</th>\n",
       "    </tr>\n",
       "  </thead>\n",
       "  <tbody>\n",
       "    <tr>\n",
       "      <th>0</th>\n",
       "      <td>c2c335c8bb7699ae743ef2b8046de1a10d786705</td>\n",
       "      <td>645ece5b4e5751d95a8a3386dd01fd824e3f39131921f0...</td>\n",
       "      <td>2023-01-01 00:00:00</td>\n",
       "      <td>2023-01-01 00:00:00</td>\n",
       "      <td>583</td>\n",
       "      <td>2.33</td>\n",
       "      <td>3.0</td>\n",
       "      <td>1.0</td>\n",
       "      <td>9.500000</td>\n",
       "      <td>0.00</td>\n",
       "      <td>0.0</td>\n",
       "      <td>1.0</td>\n",
       "      <td>10.50</td>\n",
       "      <td>Sun Taxi</td>\n",
       "      <td>41.965813</td>\n",
       "      <td>-87.655876</td>\n",
       "      <td>POINT (-87.6558787862 41.96581197)</td>\n",
       "      <td>42.009624</td>\n",
       "      <td>-87.670166</td>\n",
       "      <td>POINT (-87.6701668569 42.0096228806)</td>\n",
       "      <td>52</td>\n",
       "      <td>9.72</td>\n",
       "      <td>0.16</td>\n",
       "      <td>3.75</td>\n",
       "      <td>23.44</td>\n",
       "      <td>0.00</td>\n",
       "      <td>0</td>\n",
       "      <td>0</td>\n",
       "      <td>0</td>\n",
       "      <td>1</td>\n",
       "      <td>0</td>\n",
       "    </tr>\n",
       "    <tr>\n",
       "      <th>1</th>\n",
       "      <td>da5a2162e33a6052dc6b4532997b07da5f82e451</td>\n",
       "      <td>8c76eb82f069c0731a0049cb78898f02cc5ac6990244c9...</td>\n",
       "      <td>2023-01-01 00:00:00</td>\n",
       "      <td>2023-01-01 00:15:00</td>\n",
       "      <td>844</td>\n",
       "      <td>3.84</td>\n",
       "      <td>24.0</td>\n",
       "      <td>8.0</td>\n",
       "      <td>16.139999</td>\n",
       "      <td>4.03</td>\n",
       "      <td>0.0</td>\n",
       "      <td>0.0</td>\n",
       "      <td>20.17</td>\n",
       "      <td>Sun Taxi</td>\n",
       "      <td>41.901207</td>\n",
       "      <td>-87.676353</td>\n",
       "      <td>POINT (-87.6763559892 41.9012069941)</td>\n",
       "      <td>41.899601</td>\n",
       "      <td>-87.633308</td>\n",
       "      <td>POINT (-87.6333080367 41.899602111)</td>\n",
       "      <td>52</td>\n",
       "      <td>14.07</td>\n",
       "      <td>0.23</td>\n",
       "      <td>6.18</td>\n",
       "      <td>26.87</td>\n",
       "      <td>0.20</td>\n",
       "      <td>0</td>\n",
       "      <td>0</td>\n",
       "      <td>1</td>\n",
       "      <td>0</td>\n",
       "      <td>0</td>\n",
       "    </tr>\n",
       "    <tr>\n",
       "      <th>2</th>\n",
       "      <td>04bf855d3063f2de8711fe3654ea89e573a6deb2</td>\n",
       "      <td>2659a61c08f91c6efd9e7d7947a00006a7bc26aa518241...</td>\n",
       "      <td>2023-01-01 00:15:00</td>\n",
       "      <td>2023-01-01 00:30:00</td>\n",
       "      <td>586</td>\n",
       "      <td>1.64</td>\n",
       "      <td>28.0</td>\n",
       "      <td>8.0</td>\n",
       "      <td>11.000000</td>\n",
       "      <td>0.00</td>\n",
       "      <td>0.0</td>\n",
       "      <td>0.0</td>\n",
       "      <td>11.00</td>\n",
       "      <td>Globe Taxi</td>\n",
       "      <td>41.885281</td>\n",
       "      <td>-87.657234</td>\n",
       "      <td>POINT (-87.6572331997 41.8852813201)</td>\n",
       "      <td>41.893215</td>\n",
       "      <td>-87.637848</td>\n",
       "      <td>POINT (-87.6378442095 41.8932163595)</td>\n",
       "      <td>52</td>\n",
       "      <td>9.77</td>\n",
       "      <td>0.16</td>\n",
       "      <td>2.64</td>\n",
       "      <td>16.50</td>\n",
       "      <td>0.00</td>\n",
       "      <td>0</td>\n",
       "      <td>0</td>\n",
       "      <td>1</td>\n",
       "      <td>0</td>\n",
       "      <td>0</td>\n",
       "    </tr>\n",
       "    <tr>\n",
       "      <th>3</th>\n",
       "      <td>2514233625cd93446bb5b6ce43640f974999eae6</td>\n",
       "      <td>9925605b15529d1ee587464258891d45685eaed9dce574...</td>\n",
       "      <td>2023-01-01 00:15:00</td>\n",
       "      <td>2023-01-01 00:15:00</td>\n",
       "      <td>480</td>\n",
       "      <td>0.60</td>\n",
       "      <td>NaN</td>\n",
       "      <td>NaN</td>\n",
       "      <td>6.250000</td>\n",
       "      <td>2.00</td>\n",
       "      <td>0.0</td>\n",
       "      <td>0.0</td>\n",
       "      <td>8.25</td>\n",
       "      <td>Choice Taxi Association</td>\n",
       "      <td>NaN</td>\n",
       "      <td>NaN</td>\n",
       "      <td>None</td>\n",
       "      <td>NaN</td>\n",
       "      <td>NaN</td>\n",
       "      <td>None</td>\n",
       "      <td>52</td>\n",
       "      <td>8.00</td>\n",
       "      <td>0.13</td>\n",
       "      <td>0.97</td>\n",
       "      <td>7.46</td>\n",
       "      <td>0.24</td>\n",
       "      <td>0</td>\n",
       "      <td>1</td>\n",
       "      <td>0</td>\n",
       "      <td>0</td>\n",
       "      <td>0</td>\n",
       "    </tr>\n",
       "    <tr>\n",
       "      <th>4</th>\n",
       "      <td>21dd287038186f898784d2986de584b238695517</td>\n",
       "      <td>6f9ad42c1b8aa869fe3f08f654c96e0d2f37364fb9da2d...</td>\n",
       "      <td>2023-01-01 00:15:00</td>\n",
       "      <td>2023-01-01 00:45:00</td>\n",
       "      <td>1540</td>\n",
       "      <td>7.49</td>\n",
       "      <td>32.0</td>\n",
       "      <td>21.0</td>\n",
       "      <td>23.250000</td>\n",
       "      <td>7.09</td>\n",
       "      <td>0.0</td>\n",
       "      <td>23.5</td>\n",
       "      <td>54.34</td>\n",
       "      <td>5 Star Taxi</td>\n",
       "      <td>41.878864</td>\n",
       "      <td>-87.625191</td>\n",
       "      <td>POINT (-87.6251921424 41.8788655841)</td>\n",
       "      <td>41.938667</td>\n",
       "      <td>-87.711212</td>\n",
       "      <td>POINT (-87.7112105933 41.9386661962)</td>\n",
       "      <td>52</td>\n",
       "      <td>25.67</td>\n",
       "      <td>0.43</td>\n",
       "      <td>12.05</td>\n",
       "      <td>28.02</td>\n",
       "      <td>0.13</td>\n",
       "      <td>0</td>\n",
       "      <td>1</td>\n",
       "      <td>0</td>\n",
       "      <td>0</td>\n",
       "      <td>0</td>\n",
       "    </tr>\n",
       "  </tbody>\n",
       "</table>\n",
       "</div>"
      ],
      "text/plain": [
       "                                    Trip ID                                            Taxi ID Trip Start Timestamp  Trip End Timestamp  Trip Seconds  Trip Miles  Pickup Community Area  Dropoff Community Area       Fare  Tips  Tolls  Extras  Trip Total                  Company  Pickup Centroid Latitude  Pickup Centroid Longitude              Pickup Centroid Location  Dropoff Centroid Latitude  Dropoff Centroid Longitude             Dropoff Centroid Location  Week  Trip Minutes  Trip Hours  Trip Kilometers  Trip Speed  Tips Ratio  Is Airport  Payment_Type_Credit Card  Payment_Type_Mobile  Payment_Type_Cash  Payment_Type_Others\n",
       "0  c2c335c8bb7699ae743ef2b8046de1a10d786705  645ece5b4e5751d95a8a3386dd01fd824e3f39131921f0...  2023-01-01 00:00:00 2023-01-01 00:00:00           583        2.33                    3.0                     1.0   9.500000  0.00    0.0     1.0       10.50                 Sun Taxi                 41.965813                 -87.655876    POINT (-87.6558787862 41.96581197)                  42.009624                  -87.670166  POINT (-87.6701668569 42.0096228806)    52          9.72        0.16             3.75       23.44        0.00           0                         0                    0                  1                    0\n",
       "1  da5a2162e33a6052dc6b4532997b07da5f82e451  8c76eb82f069c0731a0049cb78898f02cc5ac6990244c9...  2023-01-01 00:00:00 2023-01-01 00:15:00           844        3.84                   24.0                     8.0  16.139999  4.03    0.0     0.0       20.17                 Sun Taxi                 41.901207                 -87.676353  POINT (-87.6763559892 41.9012069941)                  41.899601                  -87.633308   POINT (-87.6333080367 41.899602111)    52         14.07        0.23             6.18       26.87        0.20           0                         0                    1                  0                    0\n",
       "2  04bf855d3063f2de8711fe3654ea89e573a6deb2  2659a61c08f91c6efd9e7d7947a00006a7bc26aa518241...  2023-01-01 00:15:00 2023-01-01 00:30:00           586        1.64                   28.0                     8.0  11.000000  0.00    0.0     0.0       11.00               Globe Taxi                 41.885281                 -87.657234  POINT (-87.6572331997 41.8852813201)                  41.893215                  -87.637848  POINT (-87.6378442095 41.8932163595)    52          9.77        0.16             2.64       16.50        0.00           0                         0                    1                  0                    0\n",
       "3  2514233625cd93446bb5b6ce43640f974999eae6  9925605b15529d1ee587464258891d45685eaed9dce574...  2023-01-01 00:15:00 2023-01-01 00:15:00           480        0.60                    NaN                     NaN   6.250000  2.00    0.0     0.0        8.25  Choice Taxi Association                       NaN                        NaN                                  None                        NaN                         NaN                                  None    52          8.00        0.13             0.97        7.46        0.24           0                         1                    0                  0                    0\n",
       "4  21dd287038186f898784d2986de584b238695517  6f9ad42c1b8aa869fe3f08f654c96e0d2f37364fb9da2d...  2023-01-01 00:15:00 2023-01-01 00:45:00          1540        7.49                   32.0                    21.0  23.250000  7.09    0.0    23.5       54.34              5 Star Taxi                 41.878864                 -87.625191  POINT (-87.6251921424 41.8788655841)                  41.938667                  -87.711212  POINT (-87.7112105933 41.9386661962)    52         25.67        0.43            12.05       28.02        0.13           0                         1                    0                  0                    0"
      ]
     },
     "execution_count": 175,
     "metadata": {},
     "output_type": "execute_result"
    }
   ],
   "source": [
    "payment_type_dummies = df.groupBy(\"Payment Type\").count().withColumn(\"dummy\", F.lit(1))\n",
    "\n",
    "# Convertir el resultado en formato de variables dummy\n",
    "dummies = payment_type_dummies.select(\n",
    "    \"Payment Type\",\n",
    "    *[\n",
    "        F.when(F.col(\"Payment Type\") == payment_type, 1)\n",
    "        .otherwise(0)\n",
    "        .alias(f\"Payment_Type_{payment_type}\")\n",
    "        for payment_type in payment_type_dummies.select(\"Payment Type\")\n",
    "        .rdd.flatMap(lambda x: x)\n",
    "        .collect()\n",
    "    ],\n",
    ")\n",
    "\n",
    "# Concatenar las variables dummy al DataFrame original\n",
    "df = df.join(dummies, on=\"Payment Type\", how=\"left\")\n",
    "\n",
    "# Eliminar la columna original 'Payment Type' si es necesario\n",
    "df = df.drop(\"Payment Type\")\n",
    "\n",
    "df.limit(5).toPandas()"
   ]
  },
  {
   "cell_type": "markdown",
   "metadata": {},
   "source": [
    "**Selección de características para usar en la ventana de tiempo**"
   ]
  },
  {
   "cell_type": "code",
   "execution_count": 176,
   "metadata": {
    "tags": []
   },
   "outputs": [],
   "source": [
    "columnas_seleccionadas = [\n",
    "    \"Trip ID\",\n",
    "    \"Taxi ID\",\n",
    "    \"Is Airport\",\n",
    "    \"Trip Start Timestamp\",\n",
    "    \"Trip Speed\",\n",
    "    \"Tips Ratio\",\n",
    "    \"Trip Seconds\",\n",
    "    \"Trip Kilometers\",\n",
    "    \"Fare\",\n",
    "    \"Tips\",\n",
    "    \"Tolls\",\n",
    "    \"Extras\",\n",
    "    \"Payment_Type_Cash\",\n",
    "    \"Payment_Type_Credit Card\",\n",
    "    \"Payment_Type_Mobile\",\n",
    "    \"Payment_Type_Others\",\n",
    "]\n",
    "\n",
    "\n",
    "df = df.select(*columnas_seleccionadas)"
   ]
  },
  {
   "cell_type": "markdown",
   "metadata": {},
   "source": [
    "## TODO: Refrasear "
   ]
  },
  {
   "cell_type": "markdown",
   "metadata": {},
   "source": [
    "Se ordena los datos con respecto al tiempo y posteriormente se crea una función para generar etiquetas de las semanas consecutivas de nuestro dataset. Esto con la finalidad que posteriormente se agrupen por semana."
   ]
  },
  {
   "cell_type": "code",
   "execution_count": 177,
   "metadata": {
    "tags": []
   },
   "outputs": [],
   "source": [
    "df = df.orderBy(\"Trip Start Timestamp\")\n",
    "\n",
    "# Encontrar la fecha de inicio y fin del conjunto de datos\n",
    "fecha_inicio = df.select(F.min(\"Trip Start Timestamp\")).first()[0]\n",
    "fecha_fin = df.select(F.max(\"Trip Start Timestamp\")).first()[0]\n",
    "\n",
    "\n",
    "# Crear una función para asignar etiquetas de semana consecutivas\n",
    "def assign_week_label(date):\n",
    "    # Diferencia en semanas entre la fecha dada y la fecha de inicio\n",
    "    week_number = (date - fecha_inicio).days // 7 + 1\n",
    "    return week_number\n",
    "\n",
    "\n",
    "# Registrar la función como UDF\n",
    "from pyspark.sql.functions import udf\n",
    "from pyspark.sql.types import IntegerType\n",
    "\n",
    "assign_week_udf = udf(assign_week_label, IntegerType())\n",
    "\n",
    "# Agregar una columna 'Week' con las etiquetas de semana consecutivas\n",
    "df = df.withColumn(\"Week\", assign_week_udf(F.col(\"Trip Start Timestamp\")))\n",
    "\n",
    "# Agregar una columna 'Trips' con el valor 1\n",
    "df = df.withColumn(\"Trips\", F.lit(1))"
   ]
  },
  {
   "cell_type": "code",
   "execution_count": 178,
   "metadata": {
    "tags": []
   },
   "outputs": [
    {
     "name": "stderr",
     "output_type": "stream",
     "text": [
      "                                                                                \r"
     ]
    },
    {
     "data": {
      "text/html": [
       "<div>\n",
       "<style scoped>\n",
       "    .dataframe tbody tr th:only-of-type {\n",
       "        vertical-align: middle;\n",
       "    }\n",
       "\n",
       "    .dataframe tbody tr th {\n",
       "        vertical-align: top;\n",
       "    }\n",
       "\n",
       "    .dataframe thead th {\n",
       "        text-align: right;\n",
       "    }\n",
       "</style>\n",
       "<table border=\"1\" class=\"dataframe\">\n",
       "  <thead>\n",
       "    <tr style=\"text-align: right;\">\n",
       "      <th></th>\n",
       "      <th>Trip ID</th>\n",
       "      <th>Taxi ID</th>\n",
       "      <th>Is Airport</th>\n",
       "      <th>Trip Start Timestamp</th>\n",
       "      <th>Trip Speed</th>\n",
       "      <th>Tips Ratio</th>\n",
       "      <th>Trip Seconds</th>\n",
       "      <th>Trip Kilometers</th>\n",
       "      <th>Fare</th>\n",
       "      <th>Tips</th>\n",
       "      <th>Tolls</th>\n",
       "      <th>Extras</th>\n",
       "      <th>Payment_Type_Cash</th>\n",
       "      <th>Payment_Type_Credit Card</th>\n",
       "      <th>Payment_Type_Mobile</th>\n",
       "      <th>Payment_Type_Others</th>\n",
       "      <th>Week</th>\n",
       "      <th>Trips</th>\n",
       "    </tr>\n",
       "  </thead>\n",
       "  <tbody>\n",
       "    <tr>\n",
       "      <th>0</th>\n",
       "      <td>c2c335c8bb7699ae743ef2b8046de1a10d786705</td>\n",
       "      <td>645ece5b4e5751d95a8a3386dd01fd824e3f39131921f0...</td>\n",
       "      <td>0</td>\n",
       "      <td>2023-01-01 00:00:00</td>\n",
       "      <td>23.44</td>\n",
       "      <td>0.00</td>\n",
       "      <td>583</td>\n",
       "      <td>3.75</td>\n",
       "      <td>9.500000</td>\n",
       "      <td>0.00</td>\n",
       "      <td>0.0</td>\n",
       "      <td>1.0</td>\n",
       "      <td>1</td>\n",
       "      <td>0</td>\n",
       "      <td>0</td>\n",
       "      <td>0</td>\n",
       "      <td>1</td>\n",
       "      <td>1</td>\n",
       "    </tr>\n",
       "    <tr>\n",
       "      <th>1</th>\n",
       "      <td>da5a2162e33a6052dc6b4532997b07da5f82e451</td>\n",
       "      <td>8c76eb82f069c0731a0049cb78898f02cc5ac6990244c9...</td>\n",
       "      <td>0</td>\n",
       "      <td>2023-01-01 00:00:00</td>\n",
       "      <td>26.87</td>\n",
       "      <td>0.20</td>\n",
       "      <td>844</td>\n",
       "      <td>6.18</td>\n",
       "      <td>16.139999</td>\n",
       "      <td>4.03</td>\n",
       "      <td>0.0</td>\n",
       "      <td>0.0</td>\n",
       "      <td>0</td>\n",
       "      <td>0</td>\n",
       "      <td>1</td>\n",
       "      <td>0</td>\n",
       "      <td>1</td>\n",
       "      <td>1</td>\n",
       "    </tr>\n",
       "    <tr>\n",
       "      <th>2</th>\n",
       "      <td>04bf855d3063f2de8711fe3654ea89e573a6deb2</td>\n",
       "      <td>2659a61c08f91c6efd9e7d7947a00006a7bc26aa518241...</td>\n",
       "      <td>0</td>\n",
       "      <td>2023-01-01 00:15:00</td>\n",
       "      <td>16.50</td>\n",
       "      <td>0.00</td>\n",
       "      <td>586</td>\n",
       "      <td>2.64</td>\n",
       "      <td>11.000000</td>\n",
       "      <td>0.00</td>\n",
       "      <td>0.0</td>\n",
       "      <td>0.0</td>\n",
       "      <td>0</td>\n",
       "      <td>0</td>\n",
       "      <td>1</td>\n",
       "      <td>0</td>\n",
       "      <td>1</td>\n",
       "      <td>1</td>\n",
       "    </tr>\n",
       "    <tr>\n",
       "      <th>3</th>\n",
       "      <td>2514233625cd93446bb5b6ce43640f974999eae6</td>\n",
       "      <td>9925605b15529d1ee587464258891d45685eaed9dce574...</td>\n",
       "      <td>0</td>\n",
       "      <td>2023-01-01 00:15:00</td>\n",
       "      <td>7.46</td>\n",
       "      <td>0.24</td>\n",
       "      <td>480</td>\n",
       "      <td>0.97</td>\n",
       "      <td>6.250000</td>\n",
       "      <td>2.00</td>\n",
       "      <td>0.0</td>\n",
       "      <td>0.0</td>\n",
       "      <td>0</td>\n",
       "      <td>1</td>\n",
       "      <td>0</td>\n",
       "      <td>0</td>\n",
       "      <td>1</td>\n",
       "      <td>1</td>\n",
       "    </tr>\n",
       "    <tr>\n",
       "      <th>4</th>\n",
       "      <td>21dd287038186f898784d2986de584b238695517</td>\n",
       "      <td>6f9ad42c1b8aa869fe3f08f654c96e0d2f37364fb9da2d...</td>\n",
       "      <td>0</td>\n",
       "      <td>2023-01-01 00:15:00</td>\n",
       "      <td>28.02</td>\n",
       "      <td>0.13</td>\n",
       "      <td>1540</td>\n",
       "      <td>12.05</td>\n",
       "      <td>23.250000</td>\n",
       "      <td>7.09</td>\n",
       "      <td>0.0</td>\n",
       "      <td>23.5</td>\n",
       "      <td>0</td>\n",
       "      <td>1</td>\n",
       "      <td>0</td>\n",
       "      <td>0</td>\n",
       "      <td>1</td>\n",
       "      <td>1</td>\n",
       "    </tr>\n",
       "  </tbody>\n",
       "</table>\n",
       "</div>"
      ],
      "text/plain": [
       "                                    Trip ID                                            Taxi ID  Is Airport Trip Start Timestamp  Trip Speed  Tips Ratio  Trip Seconds  Trip Kilometers       Fare  Tips  Tolls  Extras  Payment_Type_Cash  Payment_Type_Credit Card  Payment_Type_Mobile  Payment_Type_Others  Week  Trips\n",
       "0  c2c335c8bb7699ae743ef2b8046de1a10d786705  645ece5b4e5751d95a8a3386dd01fd824e3f39131921f0...           0  2023-01-01 00:00:00       23.44        0.00           583             3.75   9.500000  0.00    0.0     1.0                  1                         0                    0                    0     1      1\n",
       "1  da5a2162e33a6052dc6b4532997b07da5f82e451  8c76eb82f069c0731a0049cb78898f02cc5ac6990244c9...           0  2023-01-01 00:00:00       26.87        0.20           844             6.18  16.139999  4.03    0.0     0.0                  0                         0                    1                    0     1      1\n",
       "2  04bf855d3063f2de8711fe3654ea89e573a6deb2  2659a61c08f91c6efd9e7d7947a00006a7bc26aa518241...           0  2023-01-01 00:15:00       16.50        0.00           586             2.64  11.000000  0.00    0.0     0.0                  0                         0                    1                    0     1      1\n",
       "3  2514233625cd93446bb5b6ce43640f974999eae6  9925605b15529d1ee587464258891d45685eaed9dce574...           0  2023-01-01 00:15:00        7.46        0.24           480             0.97   6.250000  2.00    0.0     0.0                  0                         1                    0                    0     1      1\n",
       "4  21dd287038186f898784d2986de584b238695517  6f9ad42c1b8aa869fe3f08f654c96e0d2f37364fb9da2d...           0  2023-01-01 00:15:00       28.02        0.13          1540            12.05  23.250000  7.09    0.0    23.5                  0                         1                    0                    0     1      1"
      ]
     },
     "execution_count": 178,
     "metadata": {},
     "output_type": "execute_result"
    }
   ],
   "source": [
    "df.limit(5).toPandas()"
   ]
  },
  {
   "cell_type": "code",
   "execution_count": 179,
   "metadata": {
    "tags": []
   },
   "outputs": [
    {
     "name": "stderr",
     "output_type": "stream",
     "text": [
      "                                                                                \r"
     ]
    },
    {
     "data": {
      "text/html": [
       "<div>\n",
       "<style scoped>\n",
       "    .dataframe tbody tr th:only-of-type {\n",
       "        vertical-align: middle;\n",
       "    }\n",
       "\n",
       "    .dataframe tbody tr th {\n",
       "        vertical-align: top;\n",
       "    }\n",
       "\n",
       "    .dataframe thead th {\n",
       "        text-align: right;\n",
       "    }\n",
       "</style>\n",
       "<table border=\"1\" class=\"dataframe\">\n",
       "  <thead>\n",
       "    <tr style=\"text-align: right;\">\n",
       "      <th></th>\n",
       "      <th>Taxi ID</th>\n",
       "      <th>Week</th>\n",
       "      <th>Total_Trips</th>\n",
       "      <th>Total_Is_Airport</th>\n",
       "      <th>Avg_Trip_Speed</th>\n",
       "      <th>Avg_Tips_Ratio</th>\n",
       "      <th>Total_Trip_Seconds</th>\n",
       "      <th>Total_Trip_Kilometers</th>\n",
       "      <th>Total_Fare</th>\n",
       "      <th>Total_Tips</th>\n",
       "      <th>Total_Tolls</th>\n",
       "      <th>Total_Extras</th>\n",
       "      <th>Total_Payment_Type_Cash</th>\n",
       "      <th>Total_Payment_Type_Credit_Card</th>\n",
       "      <th>Total_Payment_Type_Mobile</th>\n",
       "      <th>Total_Payment_Type_Others</th>\n",
       "    </tr>\n",
       "  </thead>\n",
       "  <tbody>\n",
       "    <tr>\n",
       "      <th>0</th>\n",
       "      <td>0041f8f0c91881c1e1913f2548522495fe3c4c719aa67f...</td>\n",
       "      <td>2</td>\n",
       "      <td>1</td>\n",
       "      <td>0</td>\n",
       "      <td>0.89</td>\n",
       "      <td>0.0</td>\n",
       "      <td>660</td>\n",
       "      <td>0.16</td>\n",
       "      <td>8.50</td>\n",
       "      <td>0.0</td>\n",
       "      <td>0.0</td>\n",
       "      <td>0.0</td>\n",
       "      <td>1</td>\n",
       "      <td>0</td>\n",
       "      <td>0</td>\n",
       "      <td>0</td>\n",
       "    </tr>\n",
       "    <tr>\n",
       "      <th>1</th>\n",
       "      <td>0041f8f0c91881c1e1913f2548522495fe3c4c719aa67f...</td>\n",
       "      <td>3</td>\n",
       "      <td>2</td>\n",
       "      <td>0</td>\n",
       "      <td>1.71</td>\n",
       "      <td>0.0</td>\n",
       "      <td>2400</td>\n",
       "      <td>1.12</td>\n",
       "      <td>38.50</td>\n",
       "      <td>0.0</td>\n",
       "      <td>0.0</td>\n",
       "      <td>0.0</td>\n",
       "      <td>0</td>\n",
       "      <td>0</td>\n",
       "      <td>0</td>\n",
       "      <td>2</td>\n",
       "    </tr>\n",
       "    <tr>\n",
       "      <th>2</th>\n",
       "      <td>0041f8f0c91881c1e1913f2548522495fe3c4c719aa67f...</td>\n",
       "      <td>4</td>\n",
       "      <td>3</td>\n",
       "      <td>0</td>\n",
       "      <td>1.79</td>\n",
       "      <td>0.0</td>\n",
       "      <td>4080</td>\n",
       "      <td>2.09</td>\n",
       "      <td>64.75</td>\n",
       "      <td>0.0</td>\n",
       "      <td>0.0</td>\n",
       "      <td>0.0</td>\n",
       "      <td>0</td>\n",
       "      <td>0</td>\n",
       "      <td>0</td>\n",
       "      <td>3</td>\n",
       "    </tr>\n",
       "    <tr>\n",
       "      <th>3</th>\n",
       "      <td>0041f8f0c91881c1e1913f2548522495fe3c4c719aa67f...</td>\n",
       "      <td>5</td>\n",
       "      <td>1</td>\n",
       "      <td>0</td>\n",
       "      <td>2.86</td>\n",
       "      <td>0.0</td>\n",
       "      <td>1020</td>\n",
       "      <td>0.80</td>\n",
       "      <td>24.00</td>\n",
       "      <td>0.0</td>\n",
       "      <td>0.0</td>\n",
       "      <td>0.0</td>\n",
       "      <td>1</td>\n",
       "      <td>0</td>\n",
       "      <td>0</td>\n",
       "      <td>0</td>\n",
       "    </tr>\n",
       "    <tr>\n",
       "      <th>4</th>\n",
       "      <td>0041f8f0c91881c1e1913f2548522495fe3c4c719aa67f...</td>\n",
       "      <td>6</td>\n",
       "      <td>1</td>\n",
       "      <td>0</td>\n",
       "      <td>2.43</td>\n",
       "      <td>0.0</td>\n",
       "      <td>1440</td>\n",
       "      <td>0.97</td>\n",
       "      <td>28.00</td>\n",
       "      <td>0.0</td>\n",
       "      <td>0.0</td>\n",
       "      <td>0.0</td>\n",
       "      <td>0</td>\n",
       "      <td>0</td>\n",
       "      <td>0</td>\n",
       "      <td>1</td>\n",
       "    </tr>\n",
       "  </tbody>\n",
       "</table>\n",
       "</div>"
      ],
      "text/plain": [
       "                                             Taxi ID  Week  Total_Trips  Total_Is_Airport  Avg_Trip_Speed  Avg_Tips_Ratio  Total_Trip_Seconds  Total_Trip_Kilometers  Total_Fare  Total_Tips  Total_Tolls  Total_Extras  Total_Payment_Type_Cash  Total_Payment_Type_Credit_Card  Total_Payment_Type_Mobile  Total_Payment_Type_Others\n",
       "0  0041f8f0c91881c1e1913f2548522495fe3c4c719aa67f...     2            1                 0            0.89             0.0                 660                   0.16        8.50         0.0          0.0           0.0                        1                               0                          0                          0\n",
       "1  0041f8f0c91881c1e1913f2548522495fe3c4c719aa67f...     3            2                 0            1.71             0.0                2400                   1.12       38.50         0.0          0.0           0.0                        0                               0                          0                          2\n",
       "2  0041f8f0c91881c1e1913f2548522495fe3c4c719aa67f...     4            3                 0            1.79             0.0                4080                   2.09       64.75         0.0          0.0           0.0                        0                               0                          0                          3\n",
       "3  0041f8f0c91881c1e1913f2548522495fe3c4c719aa67f...     5            1                 0            2.86             0.0                1020                   0.80       24.00         0.0          0.0           0.0                        1                               0                          0                          0\n",
       "4  0041f8f0c91881c1e1913f2548522495fe3c4c719aa67f...     6            1                 0            2.43             0.0                1440                   0.97       28.00         0.0          0.0           0.0                        0                               0                          0                          1"
      ]
     },
     "execution_count": 179,
     "metadata": {},
     "output_type": "execute_result"
    }
   ],
   "source": [
    "# Agrupar por 'Taxi ID' y 'Week', calcular algunas estadísticas para cada grupo\n",
    "agrupado_por_taxi_semana = df.groupBy(\"Taxi ID\", \"Week\").agg(\n",
    "    F.sum(\"Trips\").alias(\"Total_Trips\"),\n",
    "    F.sum(\"Is Airport\").alias(\"Total_Is_Airport\"),\n",
    "    F.round(F.mean(\"Trip Speed\"), 2).alias(\"Avg_Trip_Speed\"),\n",
    "    F.round(F.mean(\"Tips Ratio\"), 2).alias(\"Avg_Tips_Ratio\"),\n",
    "    F.sum(\"Trip Seconds\").alias(\"Total_Trip_Seconds\"),\n",
    "    F.sum(\"Trip Kilometers\").alias(\"Total_Trip_Kilometers\"),\n",
    "    F.sum(\"Fare\").alias(\"Total_Fare\"),\n",
    "    F.sum(\"Tips\").alias(\"Total_Tips\"),\n",
    "    F.sum(\"Tolls\").alias(\"Total_Tolls\"),\n",
    "    F.sum(\"Extras\").alias(\"Total_Extras\"),\n",
    "    F.sum(\"Payment_Type_Cash\").alias(\"Total_Payment_Type_Cash\"),\n",
    "    F.sum(\"Payment_Type_Credit Card\").alias(\"Total_Payment_Type_Credit_Card\"),\n",
    "    F.sum(\"Payment_Type_Mobile\").alias(\"Total_Payment_Type_Mobile\"),\n",
    "    F.sum(\"Payment_Type_Others\").alias(\"Total_Payment_Type_Others\"),\n",
    ")\n",
    "\n",
    "agrupado_por_taxi_semana = agrupado_por_taxi_semana.orderBy([\"Taxi ID\", \"Week\"])\n",
    "\n",
    "# Mostrar el resultado del agrupamiento\n",
    "agrupado_por_taxi_semana.limit(5).toPandas()"
   ]
  },
  {
   "cell_type": "code",
   "execution_count": 180,
   "metadata": {
    "tags": []
   },
   "outputs": [
    {
     "name": "stderr",
     "output_type": "stream",
     "text": [
      "                                                                                \r"
     ]
    },
    {
     "data": {
      "text/html": [
       "<div>\n",
       "<style scoped>\n",
       "    .dataframe tbody tr th:only-of-type {\n",
       "        vertical-align: middle;\n",
       "    }\n",
       "\n",
       "    .dataframe tbody tr th {\n",
       "        vertical-align: top;\n",
       "    }\n",
       "\n",
       "    .dataframe thead th {\n",
       "        text-align: right;\n",
       "    }\n",
       "</style>\n",
       "<table border=\"1\" class=\"dataframe\">\n",
       "  <thead>\n",
       "    <tr style=\"text-align: right;\">\n",
       "      <th></th>\n",
       "      <th>Week</th>\n",
       "      <th>count</th>\n",
       "    </tr>\n",
       "  </thead>\n",
       "  <tbody>\n",
       "    <tr>\n",
       "      <th>0</th>\n",
       "      <td>1</td>\n",
       "      <td>1483</td>\n",
       "    </tr>\n",
       "    <tr>\n",
       "      <th>1</th>\n",
       "      <td>2</td>\n",
       "      <td>1550</td>\n",
       "    </tr>\n",
       "    <tr>\n",
       "      <th>2</th>\n",
       "      <td>3</td>\n",
       "      <td>1602</td>\n",
       "    </tr>\n",
       "    <tr>\n",
       "      <th>3</th>\n",
       "      <td>4</td>\n",
       "      <td>1600</td>\n",
       "    </tr>\n",
       "    <tr>\n",
       "      <th>4</th>\n",
       "      <td>5</td>\n",
       "      <td>1588</td>\n",
       "    </tr>\n",
       "    <tr>\n",
       "      <th>...</th>\n",
       "      <td>...</td>\n",
       "      <td>...</td>\n",
       "    </tr>\n",
       "    <tr>\n",
       "      <th>82</th>\n",
       "      <td>83</td>\n",
       "      <td>2132</td>\n",
       "    </tr>\n",
       "    <tr>\n",
       "      <th>83</th>\n",
       "      <td>84</td>\n",
       "      <td>2131</td>\n",
       "    </tr>\n",
       "    <tr>\n",
       "      <th>84</th>\n",
       "      <td>85</td>\n",
       "      <td>2077</td>\n",
       "    </tr>\n",
       "    <tr>\n",
       "      <th>85</th>\n",
       "      <td>86</td>\n",
       "      <td>2082</td>\n",
       "    </tr>\n",
       "    <tr>\n",
       "      <th>86</th>\n",
       "      <td>87</td>\n",
       "      <td>2027</td>\n",
       "    </tr>\n",
       "  </tbody>\n",
       "</table>\n",
       "<p>87 rows × 2 columns</p>\n",
       "</div>"
      ],
      "text/plain": [
       "    Week  count\n",
       "0      1   1483\n",
       "1      2   1550\n",
       "2      3   1602\n",
       "3      4   1600\n",
       "4      5   1588\n",
       "..   ...    ...\n",
       "82    83   2132\n",
       "83    84   2131\n",
       "84    85   2077\n",
       "85    86   2082\n",
       "86    87   2027\n",
       "\n",
       "[87 rows x 2 columns]"
      ]
     },
     "execution_count": 180,
     "metadata": {},
     "output_type": "execute_result"
    }
   ],
   "source": [
    "value_counts_by_week = (\n",
    "    agrupado_por_taxi_semana.groupBy(\"Week\").count().orderBy(col(\"Week\"))\n",
    ")\n",
    "\n",
    "value_counts_by_week.toPandas()"
   ]
  },
  {
   "cell_type": "code",
   "execution_count": 181,
   "metadata": {
    "tags": []
   },
   "outputs": [
    {
     "name": "stderr",
     "output_type": "stream",
     "text": [
      "[Stage 721:>                                                        (0 + 6) / 6]\r"
     ]
    },
    {
     "name": "stdout",
     "output_type": "stream",
     "text": [
      "CPU times: user 62.5 ms, sys: 6.4 ms, total: 68.9 ms\n",
      "Wall time: 9.08 s\n"
     ]
    },
    {
     "name": "stderr",
     "output_type": "stream",
     "text": [
      "                                                                                \r"
     ]
    },
    {
     "data": {
      "text/html": [
       "<div>\n",
       "<style scoped>\n",
       "    .dataframe tbody tr th:only-of-type {\n",
       "        vertical-align: middle;\n",
       "    }\n",
       "\n",
       "    .dataframe tbody tr th {\n",
       "        vertical-align: top;\n",
       "    }\n",
       "\n",
       "    .dataframe thead th {\n",
       "        text-align: right;\n",
       "    }\n",
       "</style>\n",
       "<table border=\"1\" class=\"dataframe\">\n",
       "  <thead>\n",
       "    <tr style=\"text-align: right;\">\n",
       "      <th></th>\n",
       "      <th>Taxi ID</th>\n",
       "      <th>W1</th>\n",
       "      <th>W2</th>\n",
       "      <th>W3</th>\n",
       "      <th>W4</th>\n",
       "      <th>W5</th>\n",
       "      <th>W6</th>\n",
       "      <th>W7</th>\n",
       "      <th>W8</th>\n",
       "      <th>W9</th>\n",
       "      <th>W10</th>\n",
       "      <th>W11</th>\n",
       "      <th>W12</th>\n",
       "      <th>W13</th>\n",
       "      <th>W14</th>\n",
       "      <th>W15</th>\n",
       "      <th>W16</th>\n",
       "      <th>W17</th>\n",
       "      <th>W18</th>\n",
       "      <th>W19</th>\n",
       "      <th>W20</th>\n",
       "      <th>W21</th>\n",
       "      <th>W22</th>\n",
       "      <th>W23</th>\n",
       "      <th>W24</th>\n",
       "      <th>W25</th>\n",
       "      <th>W26</th>\n",
       "      <th>W27</th>\n",
       "      <th>W28</th>\n",
       "      <th>W29</th>\n",
       "      <th>W30</th>\n",
       "      <th>W31</th>\n",
       "      <th>W32</th>\n",
       "      <th>W33</th>\n",
       "      <th>W34</th>\n",
       "      <th>W35</th>\n",
       "      <th>W36</th>\n",
       "      <th>W37</th>\n",
       "      <th>W38</th>\n",
       "      <th>W39</th>\n",
       "      <th>W40</th>\n",
       "      <th>W41</th>\n",
       "      <th>W42</th>\n",
       "      <th>W43</th>\n",
       "      <th>W44</th>\n",
       "      <th>W45</th>\n",
       "      <th>W46</th>\n",
       "      <th>W47</th>\n",
       "      <th>W48</th>\n",
       "      <th>W49</th>\n",
       "      <th>W50</th>\n",
       "      <th>W51</th>\n",
       "      <th>W52</th>\n",
       "      <th>W53</th>\n",
       "      <th>W54</th>\n",
       "      <th>W55</th>\n",
       "      <th>W56</th>\n",
       "      <th>W57</th>\n",
       "      <th>W58</th>\n",
       "      <th>W59</th>\n",
       "      <th>W60</th>\n",
       "      <th>W61</th>\n",
       "      <th>W62</th>\n",
       "      <th>W63</th>\n",
       "      <th>W64</th>\n",
       "      <th>W65</th>\n",
       "      <th>W66</th>\n",
       "      <th>W67</th>\n",
       "      <th>W68</th>\n",
       "      <th>W69</th>\n",
       "      <th>W70</th>\n",
       "      <th>W71</th>\n",
       "      <th>W72</th>\n",
       "      <th>W73</th>\n",
       "      <th>W74</th>\n",
       "      <th>W75</th>\n",
       "      <th>W76</th>\n",
       "      <th>W77</th>\n",
       "      <th>W78</th>\n",
       "      <th>W79</th>\n",
       "      <th>W80</th>\n",
       "      <th>W81</th>\n",
       "      <th>W82</th>\n",
       "      <th>W83</th>\n",
       "      <th>W84</th>\n",
       "      <th>W85</th>\n",
       "      <th>W86</th>\n",
       "      <th>W87</th>\n",
       "    </tr>\n",
       "  </thead>\n",
       "  <tbody>\n",
       "    <tr>\n",
       "      <th>0</th>\n",
       "      <td>26edb3e8696634e7487211836362c9a979d32c0aad09e4...</td>\n",
       "      <td>29.750000</td>\n",
       "      <td>0.00</td>\n",
       "      <td>0.000000</td>\n",
       "      <td>0.0</td>\n",
       "      <td>0.00</td>\n",
       "      <td>0.0</td>\n",
       "      <td>0.0</td>\n",
       "      <td>40.00</td>\n",
       "      <td>0.00</td>\n",
       "      <td>78.50</td>\n",
       "      <td>0.00</td>\n",
       "      <td>42.50</td>\n",
       "      <td>0.00</td>\n",
       "      <td>0.00</td>\n",
       "      <td>0.00</td>\n",
       "      <td>0.0</td>\n",
       "      <td>88.50</td>\n",
       "      <td>43.750000</td>\n",
       "      <td>137.500000</td>\n",
       "      <td>0.00</td>\n",
       "      <td>51.00</td>\n",
       "      <td>0.00</td>\n",
       "      <td>0.0</td>\n",
       "      <td>15.00</td>\n",
       "      <td>0.00</td>\n",
       "      <td>47.00</td>\n",
       "      <td>0.00</td>\n",
       "      <td>0.0</td>\n",
       "      <td>71.25</td>\n",
       "      <td>51.50</td>\n",
       "      <td>29.0</td>\n",
       "      <td>45.000000</td>\n",
       "      <td>0.00</td>\n",
       "      <td>24.25</td>\n",
       "      <td>0.00</td>\n",
       "      <td>0.0</td>\n",
       "      <td>0.00</td>\n",
       "      <td>35.25</td>\n",
       "      <td>42.75</td>\n",
       "      <td>0.000000</td>\n",
       "      <td>0.00</td>\n",
       "      <td>0.000000</td>\n",
       "      <td>64.99</td>\n",
       "      <td>68.75</td>\n",
       "      <td>59.80</td>\n",
       "      <td>5.50</td>\n",
       "      <td>35.500000</td>\n",
       "      <td>0.000000</td>\n",
       "      <td>44.000000</td>\n",
       "      <td>22.250000</td>\n",
       "      <td>0.000000</td>\n",
       "      <td>9.250000</td>\n",
       "      <td>8.25</td>\n",
       "      <td>0.000000</td>\n",
       "      <td>15.000000</td>\n",
       "      <td>16.750000</td>\n",
       "      <td>0.000000</td>\n",
       "      <td>46.060001</td>\n",
       "      <td>5.750000</td>\n",
       "      <td>28.750000</td>\n",
       "      <td>9.0</td>\n",
       "      <td>0.000000</td>\n",
       "      <td>68.000000</td>\n",
       "      <td>46.250000</td>\n",
       "      <td>59.750000</td>\n",
       "      <td>47.209999</td>\n",
       "      <td>9.750000</td>\n",
       "      <td>24.500000</td>\n",
       "      <td>20.129999</td>\n",
       "      <td>45.500000</td>\n",
       "      <td>35.000000</td>\n",
       "      <td>0.000000</td>\n",
       "      <td>0.00</td>\n",
       "      <td>0.000000</td>\n",
       "      <td>75.25</td>\n",
       "      <td>19.000000</td>\n",
       "      <td>41.910000</td>\n",
       "      <td>10.000000</td>\n",
       "      <td>0.000000</td>\n",
       "      <td>38.000000</td>\n",
       "      <td>72.590000</td>\n",
       "      <td>44.250000</td>\n",
       "      <td>44.250000</td>\n",
       "      <td>18.500000</td>\n",
       "      <td>42.000000</td>\n",
       "      <td>65.250000</td>\n",
       "      <td>9.000000</td>\n",
       "    </tr>\n",
       "    <tr>\n",
       "      <th>1</th>\n",
       "      <td>0439fb286bb3ee6c70870d2638535ca64734ed034c2d44...</td>\n",
       "      <td>0.000000</td>\n",
       "      <td>0.00</td>\n",
       "      <td>0.000000</td>\n",
       "      <td>0.0</td>\n",
       "      <td>0.00</td>\n",
       "      <td>0.0</td>\n",
       "      <td>0.0</td>\n",
       "      <td>0.00</td>\n",
       "      <td>28.25</td>\n",
       "      <td>11.25</td>\n",
       "      <td>85.52</td>\n",
       "      <td>43.75</td>\n",
       "      <td>16.25</td>\n",
       "      <td>61.07</td>\n",
       "      <td>9.25</td>\n",
       "      <td>113.5</td>\n",
       "      <td>13.00</td>\n",
       "      <td>105.970001</td>\n",
       "      <td>5.500000</td>\n",
       "      <td>59.58</td>\n",
       "      <td>109.25</td>\n",
       "      <td>49.90</td>\n",
       "      <td>105.1</td>\n",
       "      <td>88.52</td>\n",
       "      <td>11.75</td>\n",
       "      <td>66.06</td>\n",
       "      <td>54.00</td>\n",
       "      <td>22.5</td>\n",
       "      <td>151.00</td>\n",
       "      <td>39.00</td>\n",
       "      <td>40.5</td>\n",
       "      <td>54.250000</td>\n",
       "      <td>42.75</td>\n",
       "      <td>0.00</td>\n",
       "      <td>0.00</td>\n",
       "      <td>161.0</td>\n",
       "      <td>48.25</td>\n",
       "      <td>112.75</td>\n",
       "      <td>0.00</td>\n",
       "      <td>82.250000</td>\n",
       "      <td>0.00</td>\n",
       "      <td>0.000000</td>\n",
       "      <td>90.75</td>\n",
       "      <td>186.00</td>\n",
       "      <td>45.75</td>\n",
       "      <td>0.00</td>\n",
       "      <td>15.000000</td>\n",
       "      <td>71.500000</td>\n",
       "      <td>44.000000</td>\n",
       "      <td>0.000000</td>\n",
       "      <td>0.000000</td>\n",
       "      <td>0.000000</td>\n",
       "      <td>0.00</td>\n",
       "      <td>0.000000</td>\n",
       "      <td>0.000000</td>\n",
       "      <td>0.000000</td>\n",
       "      <td>0.000000</td>\n",
       "      <td>0.000000</td>\n",
       "      <td>0.000000</td>\n",
       "      <td>0.000000</td>\n",
       "      <td>0.0</td>\n",
       "      <td>0.000000</td>\n",
       "      <td>0.000000</td>\n",
       "      <td>0.000000</td>\n",
       "      <td>0.000000</td>\n",
       "      <td>0.000000</td>\n",
       "      <td>0.000000</td>\n",
       "      <td>0.000000</td>\n",
       "      <td>0.000000</td>\n",
       "      <td>0.000000</td>\n",
       "      <td>0.000000</td>\n",
       "      <td>0.000000</td>\n",
       "      <td>0.00</td>\n",
       "      <td>0.000000</td>\n",
       "      <td>0.00</td>\n",
       "      <td>0.000000</td>\n",
       "      <td>0.000000</td>\n",
       "      <td>0.000000</td>\n",
       "      <td>0.000000</td>\n",
       "      <td>0.000000</td>\n",
       "      <td>0.000000</td>\n",
       "      <td>0.000000</td>\n",
       "      <td>0.000000</td>\n",
       "      <td>0.000000</td>\n",
       "      <td>0.000000</td>\n",
       "      <td>0.000000</td>\n",
       "      <td>0.000000</td>\n",
       "    </tr>\n",
       "    <tr>\n",
       "      <th>2</th>\n",
       "      <td>09047645e67e1eb99be35c5c6d94c7a6f4b8ca86448ad4...</td>\n",
       "      <td>0.000000</td>\n",
       "      <td>0.00</td>\n",
       "      <td>0.000000</td>\n",
       "      <td>0.0</td>\n",
       "      <td>0.00</td>\n",
       "      <td>0.0</td>\n",
       "      <td>0.0</td>\n",
       "      <td>0.00</td>\n",
       "      <td>0.00</td>\n",
       "      <td>0.00</td>\n",
       "      <td>0.00</td>\n",
       "      <td>0.00</td>\n",
       "      <td>0.00</td>\n",
       "      <td>0.00</td>\n",
       "      <td>0.00</td>\n",
       "      <td>0.0</td>\n",
       "      <td>0.00</td>\n",
       "      <td>0.000000</td>\n",
       "      <td>0.000000</td>\n",
       "      <td>0.00</td>\n",
       "      <td>0.00</td>\n",
       "      <td>0.00</td>\n",
       "      <td>0.0</td>\n",
       "      <td>0.00</td>\n",
       "      <td>0.00</td>\n",
       "      <td>0.00</td>\n",
       "      <td>0.00</td>\n",
       "      <td>0.0</td>\n",
       "      <td>0.00</td>\n",
       "      <td>0.00</td>\n",
       "      <td>0.0</td>\n",
       "      <td>0.000000</td>\n",
       "      <td>0.00</td>\n",
       "      <td>0.00</td>\n",
       "      <td>0.00</td>\n",
       "      <td>0.0</td>\n",
       "      <td>0.00</td>\n",
       "      <td>0.00</td>\n",
       "      <td>0.00</td>\n",
       "      <td>0.000000</td>\n",
       "      <td>0.00</td>\n",
       "      <td>0.000000</td>\n",
       "      <td>0.00</td>\n",
       "      <td>0.00</td>\n",
       "      <td>0.00</td>\n",
       "      <td>0.00</td>\n",
       "      <td>0.000000</td>\n",
       "      <td>0.000000</td>\n",
       "      <td>0.000000</td>\n",
       "      <td>0.000000</td>\n",
       "      <td>0.000000</td>\n",
       "      <td>0.000000</td>\n",
       "      <td>0.00</td>\n",
       "      <td>0.000000</td>\n",
       "      <td>0.000000</td>\n",
       "      <td>0.000000</td>\n",
       "      <td>0.000000</td>\n",
       "      <td>0.000000</td>\n",
       "      <td>0.000000</td>\n",
       "      <td>0.000000</td>\n",
       "      <td>0.0</td>\n",
       "      <td>0.000000</td>\n",
       "      <td>0.000000</td>\n",
       "      <td>0.000000</td>\n",
       "      <td>0.000000</td>\n",
       "      <td>0.000000</td>\n",
       "      <td>0.000000</td>\n",
       "      <td>0.000000</td>\n",
       "      <td>0.000000</td>\n",
       "      <td>0.000000</td>\n",
       "      <td>0.000000</td>\n",
       "      <td>0.000000</td>\n",
       "      <td>0.00</td>\n",
       "      <td>0.000000</td>\n",
       "      <td>0.00</td>\n",
       "      <td>0.000000</td>\n",
       "      <td>0.000000</td>\n",
       "      <td>0.000000</td>\n",
       "      <td>0.000000</td>\n",
       "      <td>0.000000</td>\n",
       "      <td>0.000000</td>\n",
       "      <td>0.000000</td>\n",
       "      <td>54.250000</td>\n",
       "      <td>52.250000</td>\n",
       "      <td>54.000000</td>\n",
       "      <td>87.250000</td>\n",
       "      <td>0.000000</td>\n",
       "    </tr>\n",
       "    <tr>\n",
       "      <th>3</th>\n",
       "      <td>1d9f1ab92fd36a4578d77d25eecb75771962aa5047119a...</td>\n",
       "      <td>0.000000</td>\n",
       "      <td>0.00</td>\n",
       "      <td>0.000000</td>\n",
       "      <td>0.0</td>\n",
       "      <td>0.00</td>\n",
       "      <td>0.0</td>\n",
       "      <td>0.0</td>\n",
       "      <td>0.00</td>\n",
       "      <td>0.00</td>\n",
       "      <td>0.00</td>\n",
       "      <td>45.25</td>\n",
       "      <td>45.75</td>\n",
       "      <td>43.50</td>\n",
       "      <td>0.00</td>\n",
       "      <td>35.50</td>\n",
       "      <td>0.0</td>\n",
       "      <td>130.75</td>\n",
       "      <td>93.209999</td>\n",
       "      <td>41.750000</td>\n",
       "      <td>0.00</td>\n",
       "      <td>53.50</td>\n",
       "      <td>43.25</td>\n",
       "      <td>59.0</td>\n",
       "      <td>0.00</td>\n",
       "      <td>34.75</td>\n",
       "      <td>52.50</td>\n",
       "      <td>41.75</td>\n",
       "      <td>0.0</td>\n",
       "      <td>93.00</td>\n",
       "      <td>69.23</td>\n",
       "      <td>24.0</td>\n",
       "      <td>4.750000</td>\n",
       "      <td>57.99</td>\n",
       "      <td>40.00</td>\n",
       "      <td>88.00</td>\n",
       "      <td>15.5</td>\n",
       "      <td>119.25</td>\n",
       "      <td>0.00</td>\n",
       "      <td>0.00</td>\n",
       "      <td>13.000000</td>\n",
       "      <td>40.25</td>\n",
       "      <td>25.250000</td>\n",
       "      <td>12.25</td>\n",
       "      <td>0.00</td>\n",
       "      <td>60.75</td>\n",
       "      <td>0.00</td>\n",
       "      <td>193.119999</td>\n",
       "      <td>137.449997</td>\n",
       "      <td>141.200001</td>\n",
       "      <td>106.349998</td>\n",
       "      <td>181.779999</td>\n",
       "      <td>110.540001</td>\n",
       "      <td>71.25</td>\n",
       "      <td>65.500000</td>\n",
       "      <td>175.570004</td>\n",
       "      <td>62.889999</td>\n",
       "      <td>145.199997</td>\n",
       "      <td>0.000000</td>\n",
       "      <td>85.240002</td>\n",
       "      <td>77.420002</td>\n",
       "      <td>0.0</td>\n",
       "      <td>34.860001</td>\n",
       "      <td>129.640003</td>\n",
       "      <td>103.110001</td>\n",
       "      <td>86.420002</td>\n",
       "      <td>87.620003</td>\n",
       "      <td>161.850002</td>\n",
       "      <td>120.100002</td>\n",
       "      <td>207.050003</td>\n",
       "      <td>88.799999</td>\n",
       "      <td>68.540001</td>\n",
       "      <td>81.650002</td>\n",
       "      <td>63.48</td>\n",
       "      <td>129.629997</td>\n",
       "      <td>37.25</td>\n",
       "      <td>53.939999</td>\n",
       "      <td>49.169998</td>\n",
       "      <td>140.200001</td>\n",
       "      <td>84.049999</td>\n",
       "      <td>39.630001</td>\n",
       "      <td>287.029999</td>\n",
       "      <td>86.420002</td>\n",
       "      <td>133.210003</td>\n",
       "      <td>100.570004</td>\n",
       "      <td>76.970001</td>\n",
       "      <td>96.110001</td>\n",
       "      <td>142.760002</td>\n",
       "    </tr>\n",
       "    <tr>\n",
       "      <th>4</th>\n",
       "      <td>25c21da376d486f94d802d3230a6b41dc6f9ab11a618e9...</td>\n",
       "      <td>147.529999</td>\n",
       "      <td>30.75</td>\n",
       "      <td>81.740002</td>\n",
       "      <td>0.0</td>\n",
       "      <td>28.25</td>\n",
       "      <td>0.0</td>\n",
       "      <td>104.0</td>\n",
       "      <td>127.75</td>\n",
       "      <td>39.25</td>\n",
       "      <td>57.50</td>\n",
       "      <td>78.75</td>\n",
       "      <td>58.25</td>\n",
       "      <td>102.00</td>\n",
       "      <td>18.50</td>\n",
       "      <td>57.00</td>\n",
       "      <td>75.0</td>\n",
       "      <td>5.50</td>\n",
       "      <td>141.250000</td>\n",
       "      <td>279.509998</td>\n",
       "      <td>121.25</td>\n",
       "      <td>51.00</td>\n",
       "      <td>43.00</td>\n",
       "      <td>22.5</td>\n",
       "      <td>21.50</td>\n",
       "      <td>85.75</td>\n",
       "      <td>20.75</td>\n",
       "      <td>87.00</td>\n",
       "      <td>88.5</td>\n",
       "      <td>50.00</td>\n",
       "      <td>230.75</td>\n",
       "      <td>85.0</td>\n",
       "      <td>150.740002</td>\n",
       "      <td>62.50</td>\n",
       "      <td>35.25</td>\n",
       "      <td>187.25</td>\n",
       "      <td>78.0</td>\n",
       "      <td>107.25</td>\n",
       "      <td>150.50</td>\n",
       "      <td>18.00</td>\n",
       "      <td>182.540001</td>\n",
       "      <td>99.00</td>\n",
       "      <td>118.310001</td>\n",
       "      <td>81.75</td>\n",
       "      <td>162.73</td>\n",
       "      <td>248.32</td>\n",
       "      <td>81.27</td>\n",
       "      <td>121.810001</td>\n",
       "      <td>91.880001</td>\n",
       "      <td>42.000000</td>\n",
       "      <td>54.750000</td>\n",
       "      <td>234.570004</td>\n",
       "      <td>160.000000</td>\n",
       "      <td>119.25</td>\n",
       "      <td>177.139999</td>\n",
       "      <td>42.750000</td>\n",
       "      <td>166.810001</td>\n",
       "      <td>26.000000</td>\n",
       "      <td>0.000000</td>\n",
       "      <td>4.500000</td>\n",
       "      <td>52.250000</td>\n",
       "      <td>56.5</td>\n",
       "      <td>116.750000</td>\n",
       "      <td>66.000000</td>\n",
       "      <td>91.000000</td>\n",
       "      <td>63.250000</td>\n",
       "      <td>244.750000</td>\n",
       "      <td>77.250000</td>\n",
       "      <td>99.750000</td>\n",
       "      <td>159.500000</td>\n",
       "      <td>64.750000</td>\n",
       "      <td>0.000000</td>\n",
       "      <td>86.750000</td>\n",
       "      <td>154.50</td>\n",
       "      <td>235.750000</td>\n",
       "      <td>83.25</td>\n",
       "      <td>185.000000</td>\n",
       "      <td>89.750000</td>\n",
       "      <td>0.000000</td>\n",
       "      <td>0.000000</td>\n",
       "      <td>34.000000</td>\n",
       "      <td>56.500000</td>\n",
       "      <td>50.250000</td>\n",
       "      <td>73.500000</td>\n",
       "      <td>69.500000</td>\n",
       "      <td>29.000000</td>\n",
       "      <td>7.250000</td>\n",
       "      <td>37.750000</td>\n",
       "    </tr>\n",
       "  </tbody>\n",
       "</table>\n",
       "</div>"
      ],
      "text/plain": [
       "                                             Taxi ID          W1     W2         W3   W4     W5   W6     W7      W8     W9    W10    W11    W12     W13    W14    W15    W16     W17         W18         W19     W20     W21    W22    W23    W24    W25    W26    W27   W28     W29     W30   W31         W32    W33    W34     W35    W36     W37     W38    W39         W40    W41         W42    W43     W44     W45    W46         W47         W48         W49         W50         W51         W52     W53         W54         W55         W56         W57        W58        W59        W60   W61         W62         W63         W64        W65         W66         W67         W68         W69        W70        W71        W72     W73         W74    W75         W76        W77         W78        W79        W80         W81        W82         W83         W84        W85        W86         W87\n",
       "0  26edb3e8696634e7487211836362c9a979d32c0aad09e4...   29.750000   0.00   0.000000  0.0   0.00  0.0    0.0   40.00   0.00  78.50   0.00  42.50    0.00   0.00   0.00    0.0   88.50   43.750000  137.500000    0.00   51.00   0.00    0.0  15.00   0.00  47.00   0.00   0.0   71.25   51.50  29.0   45.000000   0.00  24.25    0.00    0.0    0.00   35.25  42.75    0.000000   0.00    0.000000  64.99   68.75   59.80   5.50   35.500000    0.000000   44.000000   22.250000    0.000000    9.250000    8.25    0.000000   15.000000   16.750000    0.000000  46.060001   5.750000  28.750000   9.0    0.000000   68.000000   46.250000  59.750000   47.209999    9.750000   24.500000   20.129999  45.500000  35.000000   0.000000    0.00    0.000000  75.25   19.000000  41.910000   10.000000   0.000000  38.000000   72.590000  44.250000   44.250000   18.500000  42.000000  65.250000    9.000000\n",
       "1  0439fb286bb3ee6c70870d2638535ca64734ed034c2d44...    0.000000   0.00   0.000000  0.0   0.00  0.0    0.0    0.00  28.25  11.25  85.52  43.75   16.25  61.07   9.25  113.5   13.00  105.970001    5.500000   59.58  109.25  49.90  105.1  88.52  11.75  66.06  54.00  22.5  151.00   39.00  40.5   54.250000  42.75   0.00    0.00  161.0   48.25  112.75   0.00   82.250000   0.00    0.000000  90.75  186.00   45.75   0.00   15.000000   71.500000   44.000000    0.000000    0.000000    0.000000    0.00    0.000000    0.000000    0.000000    0.000000   0.000000   0.000000   0.000000   0.0    0.000000    0.000000    0.000000   0.000000    0.000000    0.000000    0.000000    0.000000   0.000000   0.000000   0.000000    0.00    0.000000   0.00    0.000000   0.000000    0.000000   0.000000   0.000000    0.000000   0.000000    0.000000    0.000000   0.000000   0.000000    0.000000\n",
       "2  09047645e67e1eb99be35c5c6d94c7a6f4b8ca86448ad4...    0.000000   0.00   0.000000  0.0   0.00  0.0    0.0    0.00   0.00   0.00   0.00   0.00    0.00   0.00   0.00    0.0    0.00    0.000000    0.000000    0.00    0.00   0.00    0.0   0.00   0.00   0.00   0.00   0.0    0.00    0.00   0.0    0.000000   0.00   0.00    0.00    0.0    0.00    0.00   0.00    0.000000   0.00    0.000000   0.00    0.00    0.00   0.00    0.000000    0.000000    0.000000    0.000000    0.000000    0.000000    0.00    0.000000    0.000000    0.000000    0.000000   0.000000   0.000000   0.000000   0.0    0.000000    0.000000    0.000000   0.000000    0.000000    0.000000    0.000000    0.000000   0.000000   0.000000   0.000000    0.00    0.000000   0.00    0.000000   0.000000    0.000000   0.000000   0.000000    0.000000   0.000000   54.250000   52.250000  54.000000  87.250000    0.000000\n",
       "3  1d9f1ab92fd36a4578d77d25eecb75771962aa5047119a...    0.000000   0.00   0.000000  0.0   0.00  0.0    0.0    0.00   0.00   0.00  45.25  45.75   43.50   0.00  35.50    0.0  130.75   93.209999   41.750000    0.00   53.50  43.25   59.0   0.00  34.75  52.50  41.75   0.0   93.00   69.23  24.0    4.750000  57.99  40.00   88.00   15.5  119.25    0.00   0.00   13.000000  40.25   25.250000  12.25    0.00   60.75   0.00  193.119999  137.449997  141.200001  106.349998  181.779999  110.540001   71.25   65.500000  175.570004   62.889999  145.199997   0.000000  85.240002  77.420002   0.0   34.860001  129.640003  103.110001  86.420002   87.620003  161.850002  120.100002  207.050003  88.799999  68.540001  81.650002   63.48  129.629997  37.25   53.939999  49.169998  140.200001  84.049999  39.630001  287.029999  86.420002  133.210003  100.570004  76.970001  96.110001  142.760002\n",
       "4  25c21da376d486f94d802d3230a6b41dc6f9ab11a618e9...  147.529999  30.75  81.740002  0.0  28.25  0.0  104.0  127.75  39.25  57.50  78.75  58.25  102.00  18.50  57.00   75.0    5.50  141.250000  279.509998  121.25   51.00  43.00   22.5  21.50  85.75  20.75  87.00  88.5   50.00  230.75  85.0  150.740002  62.50  35.25  187.25   78.0  107.25  150.50  18.00  182.540001  99.00  118.310001  81.75  162.73  248.32  81.27  121.810001   91.880001   42.000000   54.750000  234.570004  160.000000  119.25  177.139999   42.750000  166.810001   26.000000   0.000000   4.500000  52.250000  56.5  116.750000   66.000000   91.000000  63.250000  244.750000   77.250000   99.750000  159.500000  64.750000   0.000000  86.750000  154.50  235.750000  83.25  185.000000  89.750000    0.000000   0.000000  34.000000   56.500000  50.250000   73.500000   69.500000  29.000000   7.250000   37.750000"
      ]
     },
     "execution_count": 181,
     "metadata": {},
     "output_type": "execute_result"
    }
   ],
   "source": [
    "%%time\n",
    "df_pivot = (\n",
    "    agrupado_por_taxi_semana.groupBy(\"Taxi ID\").pivot(\"Week\").agg(F.sum(\"Total_Fare\"))\n",
    ")\n",
    "\n",
    "# Rellenar valores nulos con 0\n",
    "df_pivot = df_pivot.na.fill(0)\n",
    "\n",
    "# Renombrar columnas para que tengan el formato deseado\n",
    "new_column_names = [\"Taxi ID\"] + [f\"W{int(col)}\" for col in df_pivot.columns[1:]]\n",
    "df_pivot = df_pivot.toDF(*new_column_names)\n",
    "\n",
    "# Mostrar el resultado\n",
    "df_pivot.limit(5).toPandas()"
   ]
  },
  {
   "cell_type": "code",
   "execution_count": 182,
   "metadata": {
    "tags": []
   },
   "outputs": [
    {
     "name": "stderr",
     "output_type": "stream",
     "text": [
      "24/12/24 01:37:07 WARN DAGScheduler: Broadcasting large task binary with size 1719.1 KiB\n",
      "                                                                                \r"
     ]
    },
    {
     "name": "stdout",
     "output_type": "stream",
     "text": [
      "CPU times: user 860 ms, sys: 74.3 ms, total: 934 ms\n",
      "Wall time: 1min 42s\n"
     ]
    },
    {
     "data": {
      "text/html": [
       "<div>\n",
       "<style scoped>\n",
       "    .dataframe tbody tr th:only-of-type {\n",
       "        vertical-align: middle;\n",
       "    }\n",
       "\n",
       "    .dataframe tbody tr th {\n",
       "        vertical-align: top;\n",
       "    }\n",
       "\n",
       "    .dataframe thead th {\n",
       "        text-align: right;\n",
       "    }\n",
       "</style>\n",
       "<table border=\"1\" class=\"dataframe\">\n",
       "  <thead>\n",
       "    <tr style=\"text-align: right;\">\n",
       "      <th></th>\n",
       "      <th>t_0</th>\n",
       "      <th>t_1</th>\n",
       "      <th>t_2</th>\n",
       "      <th>t_3</th>\n",
       "      <th>t_4</th>\n",
       "      <th>y</th>\n",
       "      <th>t</th>\n",
       "    </tr>\n",
       "  </thead>\n",
       "  <tbody>\n",
       "    <tr>\n",
       "      <th>0</th>\n",
       "      <td>0.00</td>\n",
       "      <td>0.0</td>\n",
       "      <td>0.0</td>\n",
       "      <td>0.00</td>\n",
       "      <td>0.0</td>\n",
       "      <td>23.5</td>\n",
       "      <td>5</td>\n",
       "    </tr>\n",
       "    <tr>\n",
       "      <th>1</th>\n",
       "      <td>0.00</td>\n",
       "      <td>0.0</td>\n",
       "      <td>0.0</td>\n",
       "      <td>0.00</td>\n",
       "      <td>0.0</td>\n",
       "      <td>0.0</td>\n",
       "      <td>5</td>\n",
       "    </tr>\n",
       "    <tr>\n",
       "      <th>2</th>\n",
       "      <td>0.00</td>\n",
       "      <td>0.0</td>\n",
       "      <td>0.0</td>\n",
       "      <td>0.00</td>\n",
       "      <td>0.0</td>\n",
       "      <td>0.0</td>\n",
       "      <td>5</td>\n",
       "    </tr>\n",
       "    <tr>\n",
       "      <th>3</th>\n",
       "      <td>0.00</td>\n",
       "      <td>0.0</td>\n",
       "      <td>0.0</td>\n",
       "      <td>0.00</td>\n",
       "      <td>0.0</td>\n",
       "      <td>0.0</td>\n",
       "      <td>5</td>\n",
       "    </tr>\n",
       "    <tr>\n",
       "      <th>4</th>\n",
       "      <td>24.75</td>\n",
       "      <td>7.0</td>\n",
       "      <td>29.5</td>\n",
       "      <td>33.25</td>\n",
       "      <td>43.5</td>\n",
       "      <td>16.5</td>\n",
       "      <td>5</td>\n",
       "    </tr>\n",
       "  </tbody>\n",
       "</table>\n",
       "</div>"
      ],
      "text/plain": [
       "     t_0  t_1   t_2    t_3   t_4     y  t\n",
       "0   0.00  0.0   0.0   0.00   0.0  23.5  5\n",
       "1   0.00  0.0   0.0   0.00   0.0   0.0  5\n",
       "2   0.00  0.0   0.0   0.00   0.0   0.0  5\n",
       "3   0.00  0.0   0.0   0.00   0.0   0.0  5\n",
       "4  24.75  7.0  29.5  33.25  43.5  16.5  5"
      ]
     },
     "execution_count": 182,
     "metadata": {},
     "output_type": "execute_result"
    }
   ],
   "source": [
    "%%time\n",
    "dataframes = []\n",
    "\n",
    "# Lista de resultados acumulados\n",
    "dataframes = []\n",
    "\n",
    "# Crear variables broadcast si son necesarias\n",
    "# En este caso, no parece haber un objeto grande para broadcast.\n",
    "# Si tienes un conjunto grande de datos usado dentro del bucle, hazlo así:\n",
    "# broadcast_var = spark.sparkContext.broadcast(large_object)\n",
    "\n",
    "# Bucle optimizado\n",
    "for t in range(5, 31):\n",
    "    lst_var = [\"W{}\".format(x) for x in range(t - 4, t + 1)]\n",
    "    lst_tgt = [\"W{}\".format(t + 1)]\n",
    "\n",
    "    # Selección y transformación de columnas en una sola operación\n",
    "    aux = df_pivot.select(*lst_var, *lst_tgt, \"Taxi ID\").selectExpr(\n",
    "        *[\"{} as t_{}\".format(var, i) for i, var in enumerate(lst_var)],\n",
    "        \"{} as y\".format(lst_tgt[0]),\n",
    "        \"'{}' as t\".format(t)  # Usamos una expresión para añadir la columna 't'\n",
    "    )\n",
    "\n",
    "    # Acumular el DataFrame intermedio en la lista\n",
    "    dataframes.append(aux)\n",
    "\n",
    "from functools import reduce\n",
    "\n",
    "f = reduce(lambda df1, df2: df1.union(df2), dataframes)\n",
    "f.toPandas().head()"
   ]
  },
  {
   "cell_type": "markdown",
   "metadata": {},
   "source": [
    "## TODO: Esta parte tarda mucho, tal vez comenzar con menos variables, en este caso median y solo con k igual a 3"
   ]
  },
  {
   "cell_type": "code",
   "execution_count": null,
   "metadata": {
    "tags": []
   },
   "outputs": [],
   "source": [
    "%%time\n",
    "# for k in [3, 5]:\n",
    "for k in [3]:\n",
    "    # for func in ['min', 'max', 'sum', 'mean', 'median', 'stddev']:\n",
    "    for func in [\"median\"]:\n",
    "        cols = [\"t_{}\".format(x) for x in range(1, k + 1)]\n",
    "\n",
    "        if func == \"median\":\n",
    "            # Para la mediana, se necesita un enfoque especial, ya que PySpark no tiene una función integrada\n",
    "            median_expr = F.expr(f\"percentile_approx(array({', '.join(cols)}), 0.5)\")\n",
    "            f = f.withColumn(f\"v_{func}_{k}\", median_expr)\n",
    "        else:\n",
    "            # Aplicamos las funciones estándar\n",
    "            agg_expr = getattr(F, func)(F.array(*[F.col(c) for c in cols]))\n",
    "            f = f.withColumn(f\"v_{func}_{k}\", agg_expr)"
   ]
  },
  {
   "cell_type": "code",
   "execution_count": null,
   "metadata": {},
   "outputs": [],
   "source": [
    "f = f.drop(*[f\"t_{x}\" for x in range(1, 6)])"
   ]
  },
  {
   "cell_type": "code",
   "execution_count": 185,
   "metadata": {},
   "outputs": [
    {
     "name": "stderr",
     "output_type": "stream",
     "text": [
      "24/12/24 01:38:36 WARN DAGScheduler: Broadcasting large task binary with size 1610.5 KiB\n",
      "                                                                                \r"
     ]
    },
    {
     "data": {
      "text/html": [
       "<div>\n",
       "<style scoped>\n",
       "    .dataframe tbody tr th:only-of-type {\n",
       "        vertical-align: middle;\n",
       "    }\n",
       "\n",
       "    .dataframe tbody tr th {\n",
       "        vertical-align: top;\n",
       "    }\n",
       "\n",
       "    .dataframe thead th {\n",
       "        text-align: right;\n",
       "    }\n",
       "</style>\n",
       "<table border=\"1\" class=\"dataframe\">\n",
       "  <thead>\n",
       "    <tr style=\"text-align: right;\">\n",
       "      <th></th>\n",
       "      <th>t_0</th>\n",
       "      <th>y</th>\n",
       "      <th>t</th>\n",
       "    </tr>\n",
       "  </thead>\n",
       "  <tbody>\n",
       "    <tr>\n",
       "      <th>0</th>\n",
       "      <td>0.00</td>\n",
       "      <td>0.00</td>\n",
       "      <td>5</td>\n",
       "    </tr>\n",
       "    <tr>\n",
       "      <th>1</th>\n",
       "      <td>0.00</td>\n",
       "      <td>65.75</td>\n",
       "      <td>5</td>\n",
       "    </tr>\n",
       "    <tr>\n",
       "      <th>2</th>\n",
       "      <td>0.00</td>\n",
       "      <td>8.00</td>\n",
       "      <td>5</td>\n",
       "    </tr>\n",
       "    <tr>\n",
       "      <th>3</th>\n",
       "      <td>3.25</td>\n",
       "      <td>41.75</td>\n",
       "      <td>5</td>\n",
       "    </tr>\n",
       "    <tr>\n",
       "      <th>4</th>\n",
       "      <td>119.20</td>\n",
       "      <td>7.25</td>\n",
       "      <td>5</td>\n",
       "    </tr>\n",
       "  </tbody>\n",
       "</table>\n",
       "</div>"
      ],
      "text/plain": [
       "      t_0      y  t\n",
       "0    0.00   0.00  5\n",
       "1    0.00  65.75  5\n",
       "2    0.00   8.00  5\n",
       "3    3.25  41.75  5\n",
       "4  119.20   7.25  5"
      ]
     },
     "execution_count": 185,
     "metadata": {},
     "output_type": "execute_result"
    }
   ],
   "source": [
    "f.limit(5).toPandas()"
   ]
  },
  {
   "cell_type": "markdown",
   "metadata": {},
   "source": [
    "# 8. Modelación"
   ]
  },
  {
   "cell_type": "code",
   "execution_count": null,
   "metadata": {},
   "outputs": [],
   "source": []
  }
 ],
 "metadata": {
  "colab": {
   "provenance": []
  },
  "kernelspec": {
   "display_name": "PySpark",
   "language": "python",
   "name": "pyspark"
  },
  "language_info": {
   "codemirror_mode": {
    "name": "ipython",
    "version": 3
   },
   "file_extension": ".py",
   "mimetype": "text/x-python",
   "name": "python",
   "nbconvert_exporter": "python",
   "pygments_lexer": "ipython3",
   "version": "3.11.8"
  }
 },
 "nbformat": 4,
 "nbformat_minor": 4
}
