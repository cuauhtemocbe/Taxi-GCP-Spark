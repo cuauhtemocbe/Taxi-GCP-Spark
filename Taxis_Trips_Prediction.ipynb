{
 "cells": [
  {
   "cell_type": "markdown",
   "metadata": {},
   "source": [
    "# Viajes de Taxi en la ciudad de Chicago"
   ]
  },
  {
   "cell_type": "markdown",
   "metadata": {},
   "source": [
    "**Objetivo**:\n",
    "\n",
    "Construir una Tabla Analítica de Datos (TAD) con la unidad muestral apropiada para predecir el monto total de cada conductor de taxi en la ciudad de Chicago para las siguientes semanas."
   ]
  },
  {
   "cell_type": "markdown",
   "metadata": {},
   "source": [
    "| Nombre de la columna               | Descripción                                                                                                                                                                | Tipo de dato   |\n",
    "|------------------------------------|----------------------------------------------------------------------------------------------------------------------------------------------------------------------------|----------------|\n",
    "| Trip ID                            | Identificador único del viaje.                                                                                                                                             | Texto Plano    |\n",
    "| Taxi ID                            | Identificador único del taxi.                                                                                                                                              | Texto Plano    |\n",
    "| Trip Start Timestamp               | Cuando comenzó el viaje, redondeado al intervalo de 15 minutos más cercano.                                                                                              | Fecha y Hora   |\n",
    "| Trip End Timestamp                 | Cuando terminó el viaje, redondeado al intervalo de 15 minutos más cercano.                                                                                              | Fecha y Hora   |\n",
    "| Trip Seconds                       | Tiempo del viaje en segundos.                                                                                                                                              | Número         |\n",
    "| Trip Miles                         | Distancia del viaje en millas.                                                                                                                                             | Número         |\n",
    "| Pickup Census Tract                | El área censada donde comenzó el viaje. Por privacidad, esta área censada no se muestra para algunos viajes. Esta columna a menudo estará en blanco para ubicaciones fuera de Chicago. | Texto Plano    |\n",
    "| Dropoff Census Tract               | El área censada donde terminó el viaje. Por privacidad, esta área censada no se muestra para algunos viajes. Esta columna a menudo estará en blanco para ubicaciones fuera de Chicago. | Texto Plano    |\n",
    "| Pickup Community Area              | El área comunitaria donde comenzó el viaje. Esta columna estará en blanco para ubicaciones fuera de Chicago.                                                                | Número         |\n",
    "| Dropoff Community Area             | El área comunitaria donde terminó el viaje. Esta columna estará en blanco para ubicaciones fuera de Chicago.                                                                | Número         |\n",
    "| Fare                               | La tarifa del viaje.                                                                                                                                                       | Número         |\n",
    "| Tips                               | La propina del viaje. Las propinas en efectivo generalmente no se registran.                                                                                               | Número         |\n",
    "| Tolls                              | Los peajes del viaje.                                                                                                                                                      | Número         |\n",
    "| Extras                             | Cargos extras del viaje.                                                                                                                                                   | Número         |\n",
    "| Trip Total                         | Costo total del viaje, la suma de las columnas anteriores.                                                                                                                | Número         |\n",
    "| Payment Type                       | Tipo de pago para el viaje.                                                                                                                                               | Texto Plano    |\n",
    "| Company                            | La compañía de taxis.                                                                                                                                                     | Texto Plano    |\n",
    "| Pickup Centroid Latitude           | La latitud del centro del área censada del abordaje o del área comunitaria si el área censada se ha ocultado por razones de privacidad.                                     | Número         |\n",
    "| Pickup Centroid Longitude          | La longitud del centro del área censada del abordaje o del área comunitaria si el área censada se ha ocultado por razones de privacidad.                                    | Número         |\n",
    "| Pickup Centroid Location           | La ubicación del centro del área censada del abordaje o del área comunitaria si el área censada se ha ocultado por razones de privacidad.                                   | Punto          |\n",
    "| Dropoff Centroid Latitude          | La latitud del centro del área censada del descenso o del área comunitaria si el área censada se ha ocultado por razones de privacidad.                                     | Número         |\n",
    "| Dropoff Centroid Longitude         | La longitud del centro del área censada del descenso o del área comunitaria si el área censada se ha ocultado por razones de privacidad.                                    | Número         |\n",
    "| Dropoff Centroid Location          | La ubicación del centro del área censada del descenso o del área comunitaria si el área censada se ha ocultado por razones de privacidad.                                   | Punto          |\n"
   ]
  },
  {
   "cell_type": "markdown",
   "metadata": {
    "id": "tllisCiaJK2m"
   },
   "source": [
    "# 1.Import de Librerías"
   ]
  },
  {
   "cell_type": "code",
   "execution_count": 77,
   "metadata": {
    "id": "xYk5hSg7JK21",
    "tags": []
   },
   "outputs": [],
   "source": [
    "# Standard library imports\n",
    "import os\n",
    "import subprocess\n",
    "from datetime import date\n",
    "\n",
    "# Third-party library imports\n",
    "import matplotlib.pyplot as plt\n",
    "import numpy as np\n",
    "import pandas as pd\n",
    "import seaborn as sns\n",
    "from IPython.display import display\n",
    "\n",
    "# PySpark imports\n",
    "from pyspark import SparkContext, HiveContext\n",
    "from pyspark.sql import DataFrame, SQLContext, SparkSession\n",
    "from pyspark.sql import functions as F\n",
    "from pyspark.sql.types import TimestampType\n",
    "from pyspark.ml.feature import VectorAssembler\n",
    "from pyspark.ml.stat import Correlation\n",
    "from pyspark.sql.types import (\n",
    "    StructType,\n",
    "    StructField,\n",
    "    StringType,\n",
    "    TimestampType,\n",
    "    IntegerType,\n",
    "    FloatType,\n",
    ")\n",
    "from pyspark.sql import Window\n",
    "\n",
    "pd.set_option(\"display.max_columns\", None)\n",
    "pd.set_option(\"display.expand_frame_repr\", False)\n",
    "\n",
    "\n",
    "def missing_values_summary(df):\n",
    "    # Columnas numéricas\n",
    "    numeric_columns = [c for c, t in df.dtypes if t in [\"double\", \"float\"]]\n",
    "\n",
    "    # Columnas no numéricas\n",
    "    other_columns = [c for c, t in df.dtypes if t not in [\"double\", \"float\"]]\n",
    "\n",
    "    # Contar valores faltantes para columnas numéricas\n",
    "    numeric_missing = [\n",
    "        F.count(F.when(F.isnan(F.col(c)) | F.col(c).isNull(), c)).alias(c)\n",
    "        for c in numeric_columns\n",
    "    ]\n",
    "\n",
    "    # Contar valores faltantes para columnas no numéricas\n",
    "    other_missing = [\n",
    "        F.count(F.when(F.col(c).isNull(), c)).alias(c) for c in other_columns\n",
    "    ]\n",
    "\n",
    "    # Combinar resultados de valores faltantes\n",
    "    missings_df = df.select(numeric_missing + other_missing).toPandas()\n",
    "\n",
    "    # Calcular el porcentaje y reformatear como DataFrame\n",
    "    total_rows = df.count()\n",
    "    summary = []\n",
    "\n",
    "    for col_name in missings_df.columns:\n",
    "        count_missing = missings_df.at[0, col_name]\n",
    "        percentage_missing = (count_missing / total_rows) * 100\n",
    "        summary.append(\n",
    "            {\n",
    "                \"feature\": col_name,\n",
    "                \"count\": count_missing,\n",
    "                \"%\": round(percentage_missing, 2),\n",
    "            }\n",
    "        )\n",
    "\n",
    "    return pd.DataFrame(summary)\n",
    "\n",
    "\n",
    "def plot_histogram(data, column_name, num_bins=30):\n",
    "    \"\"\"\n",
    "    Genera un histograma de la columna especificada de un DataFrame de PySpark.\n",
    "\n",
    "    :param data: DataFrame de PySpark que contiene los datos.\n",
    "    :param column_name: Nombre de la columna a analizar.\n",
    "    :param num_bins: Número de bins para el histograma.\n",
    "    \"\"\"\n",
    "    # Obtener valores mínimo y máximo de la columna\n",
    "    min_value = data.agg(F.min(column_name)).first()[0]\n",
    "    max_value = data.agg(F.max(column_name)).first()[0]\n",
    "\n",
    "    # Calcular el ancho de los bins y los límites\n",
    "    bin_width = (max_value - min_value) / num_bins\n",
    "    bins = [min_value + i * bin_width for i in range(num_bins + 1)]\n",
    "\n",
    "    # Crear la expresión para determinar el bin\n",
    "    bin_expr = F.when(\n",
    "        F.col(column_name) < bins[0], None\n",
    "    )  # Caso para valores menores al mínimo\n",
    "    for i in range(num_bins):\n",
    "        bin_expr = bin_expr.when(\n",
    "            (F.col(column_name) >= bins[i]) & (F.col(column_name) < bins[i + 1]),\n",
    "            bins[i],\n",
    "        )\n",
    "    bin_expr = bin_expr.otherwise(bins[-2])  # Caso para el valor máximo\n",
    "\n",
    "    # Añadir la columna con el bin correspondiente\n",
    "    data_with_bins = data.withColumn(\"bin_start\", bin_expr)\n",
    "\n",
    "    # Eliminar filas donde no hay un bin asignado (valores fuera del rango)\n",
    "    data_with_bins = data_with_bins.dropna(subset=[\"bin_start\"])\n",
    "\n",
    "    # Contar las ocurrencias en cada bin\n",
    "    hist_counts = data_with_bins.groupBy(\"bin_start\").count().orderBy(\"bin_start\")\n",
    "\n",
    "    # Convertir a pandas para graficar\n",
    "    hist_counts_pd = hist_counts.toPandas()\n",
    "\n",
    "    # Crear el histograma usando Matplotlib\n",
    "    plt.figure(figsize=(10, 6))\n",
    "    plt.bar(\n",
    "        hist_counts_pd[\"bin_start\"],\n",
    "        hist_counts_pd[\"count\"],\n",
    "        width=bin_width,\n",
    "        color=\"blue\",\n",
    "        alpha=0.7,\n",
    "        align=\"edge\",\n",
    "    )\n",
    "    plt.title(f\"Histograma de {column_name}\")\n",
    "    plt.xlabel(f\"{column_name} (Inicio del Bin)\")\n",
    "    plt.ylabel(\"Frecuencia\")\n",
    "    plt.xticks(rotation=45)\n",
    "    plt.grid(axis=\"y\", alpha=0.75)\n",
    "    plt.show()\n",
    "\n",
    "\n",
    "def create_box_plot(df, column_name):\n",
    "    \"\"\"\n",
    "    Crea un gráfico de caja a partir de un DataFrame de PySpark y una columna específica.\n",
    "\n",
    "    Args:\n",
    "        df (DataFrame): DataFrame de PySpark que contiene los datos.\n",
    "        column_name (str): Nombre de la columna para la que se generará el gráfico de caja.\n",
    "    \"\"\"\n",
    "    # Calcular estadísticas del box plot\n",
    "    box_plot_stats = df.select(\n",
    "        F.percentile_approx(column_name, 0.25).alias(\"Q1\"),\n",
    "        F.percentile_approx(column_name, 0.5).alias(\"Median\"),\n",
    "        F.percentile_approx(column_name, 0.75).alias(\"Q3\"),\n",
    "        F.min(column_name).alias(\"Min\"),\n",
    "        F.max(column_name).alias(\"Max\"),\n",
    "    ).first()\n",
    "\n",
    "    # Convertir las estadísticas a un DataFrame de pandas\n",
    "    box_plot_df = pd.DataFrame(\n",
    "        {\n",
    "            \"Stat\": [\"Min\", \"Q1\", \"Median\", \"Q3\", \"Max\"],\n",
    "            \"Value\": [\n",
    "                box_plot_stats[\"Min\"],\n",
    "                box_plot_stats[\"Q1\"],\n",
    "                box_plot_stats[\"Median\"],\n",
    "                box_plot_stats[\"Q3\"],\n",
    "                box_plot_stats[\"Max\"],\n",
    "            ],\n",
    "        }\n",
    "    )\n",
    "\n",
    "    # Crear el gráfico de caja\n",
    "    plt.figure(figsize=(8, 6))\n",
    "    plt.boxplot(box_plot_df[\"Value\"], labels=[column_name])\n",
    "    plt.title(f\"Box Plot de {column_name}\")\n",
    "    plt.ylabel(\"Seconds\")\n",
    "    plt.grid(axis=\"y\")\n",
    "    plt.show()\n",
    "\n",
    "\n",
    "def calculate_trip_seconds_percentiles(df, column_name):\n",
    "    # Definir los percentiles a calcular\n",
    "    percentiles = [x / 10 for x in range(1, 10)] + [0.01, 0.02, 0.03, 0.97, 0.98, 0.99]\n",
    "\n",
    "    # Calcular estadísticas descriptivas para la columna especificada\n",
    "    trip_seconds_stats = df.approxQuantile(column_name, percentiles, 0.01)\n",
    "\n",
    "    # Convertir a un DataFrame de pandas para facilitar la visualización\n",
    "    trip_seconds_df = pd.DataFrame(\n",
    "        {\"Percentiles\": percentiles, f\"{column_name}\": trip_seconds_stats}\n",
    "    )\n",
    "\n",
    "    # Ordenar por percentiles\n",
    "    trip_seconds_df = trip_seconds_df.sort_values(\"Percentiles\").reset_index(drop=True)\n",
    "\n",
    "    return trip_seconds_df\n",
    "\n",
    "\n",
    "\n",
    "def create_boxplot(df_spark, columns, title=\"Boxplot\", figsize=(12, 8)):\n",
    "    # Calcular estadísticas para las columnas especificadas\n",
    "    box_plot_stats = df_spark.select(\n",
    "        [F.percentile_approx(col, 0.25).alias(f\"{col}_Q1\") for col in columns]\n",
    "        + [F.percentile_approx(col, 0.5).alias(f\"{col}_Median\") for col in columns]\n",
    "        + [F.percentile_approx(col, 0.75).alias(f\"{col}_Q3\") for col in columns]\n",
    "        + [F.min(col).alias(f\"{col}_Min\") for col in columns]\n",
    "        + [F.max(col).alias(f\"{col}_Max\") for col in columns]\n",
    "    ).first()\n",
    "\n",
    "    box_plot_data = {**{col: [] for col in columns}}\n",
    "\n",
    "    for col in columns:\n",
    "        box_plot_data[col].extend(\n",
    "            [\n",
    "                box_plot_stats[f\"{col}_Min\"],\n",
    "                box_plot_stats[f\"{col}_Q1\"],\n",
    "                box_plot_stats[f\"{col}_Median\"],\n",
    "                box_plot_stats[f\"{col}_Q3\"],\n",
    "                box_plot_stats[f\"{col}_Max\"],\n",
    "            ]\n",
    "        )\n",
    "\n",
    "    box_plot_df = pd.DataFrame(box_plot_data)\n",
    "    melted_df = box_plot_df.melt(var_name=\"Variable\", value_name=\"Value\")\n",
    "\n",
    "    # Configurar el tamaño de la figura\n",
    "    plt.figure(figsize=figsize)\n",
    "    sns.boxplot(\n",
    "        data=melted_df,\n",
    "        x=\"Value\",\n",
    "        y=\"Variable\",\n",
    "        hue=\"Variable\",\n",
    "        palette=\"Set2\",\n",
    "        legend=False,\n",
    "    )\n",
    "    plt.xlabel(\"Valor\")\n",
    "    plt.title(title)\n",
    "    plt.grid(True)\n",
    "    plt.show()\n",
    "\n",
    "\n",
    "def calculate_outliers(df, column):\n",
    "    # Calcular Q1 y Q3\n",
    "    q1 = df.approxQuantile(column, [0.25], 0)[0]\n",
    "    q3 = df.approxQuantile(column, [0.75], 0)[0]\n",
    "\n",
    "    # Calcular IQR\n",
    "    iqr = q3 - q1\n",
    "\n",
    "    # Calcular límites inferior y superior\n",
    "    lower_bound = q1 - 1.5 * iqr\n",
    "    upper_bound = q3 + 1.5 * iqr\n",
    "\n",
    "    # Identificar outliers\n",
    "    outliers = df.filter((F.col(column) < lower_bound) | (F.col(column) > upper_bound))\n",
    "\n",
    "    # Contar outliers\n",
    "    conteo_outliers = outliers.count()\n",
    "\n",
    "    # Calcular el total de datos\n",
    "    total_datos = df.count()\n",
    "\n",
    "    # Calcular el porcentaje de outliers\n",
    "    porcentaje_outliers = round(\n",
    "        (conteo_outliers / total_datos) * 100 if total_datos > 0 else 0, 2\n",
    "    )\n",
    "\n",
    "    print(f\"Cantidad de outliers: {conteo_outliers:,}\")\n",
    "    print(f\"Porcentaje de outliers: {porcentaje_outliers:,} %\")\n",
    "\n",
    "    return lower_bound, upper_bound\n",
    "\n",
    "\n",
    "def calculate_and_print_percentiles(\n",
    "    df: DataFrame,\n",
    "    column: str,\n",
    "    probabilities: list = [0.97, 0.98, 0.9997, 0.9998, 0.9999],\n",
    "    relative_error: float = 0.01,\n",
    "):\n",
    "    # Calcular percentiles\n",
    "    percentiles = df.approxQuantile(column, probabilities, relative_error)\n",
    "\n",
    "    # Imprimir resultados\n",
    "    print(f\"Percentiles específicos de '{column}':\")\n",
    "    for p, value in zip(probabilities, percentiles):\n",
    "        print(f\"Percentil {p:.4f}: {value}\")\n",
    "\n",
    "\n",
    "def plot_correlation_matrix(\n",
    "    correlation_matrix,\n",
    "    title=\"Matriz de Correlación\",\n",
    "    cmap=\"coolwarm\",\n",
    "    figsize=(8, 6),\n",
    "    annot=True,\n",
    "):\n",
    "    # Crear el gráfico\n",
    "    plt.figure(figsize=figsize)\n",
    "    sns.heatmap(correlation_matrix, annot=annot, cmap=cmap, fmt=\".2f\", square=True)\n",
    "    plt.title(title)\n",
    "    plt.show()\n",
    "\n",
    "\n",
    "def generate_frequency_df(df, column):\n",
    "    # Contar la frecuencia absoluta usando PySpark\n",
    "    freq_df = (\n",
    "        df.groupBy(column).count().withColumnRenamed(\"count\", \"Absolute frequency\")\n",
    "    )\n",
    "\n",
    "    # Ordenar por 'Absolute frequency' de forma descendente\n",
    "    freq_df = freq_df.orderBy(F.col(\"Absolute frequency\").desc())\n",
    "\n",
    "    # Convertir el DataFrame de PySpark a un DataFrame de Pandas\n",
    "    pandas_df = freq_df.toPandas()\n",
    "\n",
    "    # Calcular la frecuencia relativa\n",
    "    total_count = pandas_df[\"Absolute frequency\"].sum()\n",
    "    pandas_df[\"Relative frequency\"] = (\n",
    "        pandas_df[\"Absolute frequency\"] / total_count * 100\n",
    "    )\n",
    "\n",
    "    # Calcular la frecuencia acumulada y el porcentaje acumulado\n",
    "    pandas_df[\"Accumulated frequency\"] = pandas_df[\"Absolute frequency\"].cumsum()\n",
    "    pandas_df[\"Accumulated %\"] = (\n",
    "        pandas_df[\"Accumulated frequency\"] / total_count\n",
    "    ) * 100\n",
    "\n",
    "    pandas_df = pandas_df.round(2)\n",
    "\n",
    "    return pandas_df[\n",
    "        [\n",
    "            column,\n",
    "            \"Absolute frequency\",\n",
    "            \"Relative frequency\",\n",
    "            \"Accumulated frequency\",\n",
    "            \"Accumulated %\",\n",
    "        ]\n",
    "    ]"
   ]
  },
  {
   "cell_type": "code",
   "execution_count": 2,
   "metadata": {
    "id": "DJNzXSU2JK3M",
    "tags": []
   },
   "outputs": [
    {
     "name": "stderr",
     "output_type": "stream",
     "text": [
      "25/01/03 02:50:22 WARN SparkSession: Using an existing Spark session; only runtime SQL configurations will take effect.\n"
     ]
    }
   ],
   "source": [
    "ss = SparkSession.builder.appName(\"bigdatita\").getOrCreate()"
   ]
  },
  {
   "cell_type": "markdown",
   "metadata": {
    "id": "8QTwMsGqJK2-"
   },
   "source": [
    "**2. Lectura de los archivos**"
   ]
  },
  {
   "cell_type": "code",
   "execution_count": 3,
   "metadata": {
    "id": "uFrawuVriJn3",
    "tags": []
   },
   "outputs": [
    {
     "data": {
      "text/plain": [
       "['hdfs:///user/bigdatita/chicago']"
      ]
     },
     "execution_count": 3,
     "metadata": {},
     "output_type": "execute_result"
    }
   ],
   "source": [
    "ruta = \"/user/bigdatita/\"\n",
    "cmd = f\"hdfs dfs -ls {ruta}\"\n",
    "lst = str(subprocess.check_output(cmd, shell=True)).strip().split(\"\\\\n\")\n",
    "lst = [x.split(\" \")[-1] for x in lst]\n",
    "lst = [\"hdfs://%s\" % x for x in lst if x != \"items\" if x != \"'\"]\n",
    "lst"
   ]
  },
  {
   "cell_type": "markdown",
   "metadata": {
    "id": "j3C_gaUiJK3K"
   },
   "source": [
    "**3. Lectura de archivos desde HDFS a Spark**"
   ]
  },
  {
   "cell_type": "code",
   "execution_count": 4,
   "metadata": {
    "id": "2zHQylYOJK3O",
    "tags": []
   },
   "outputs": [
    {
     "name": "stdout",
     "output_type": "stream",
     "text": [
      "hdfs:///user/bigdatita/chicago\n"
     ]
    },
    {
     "name": "stderr",
     "output_type": "stream",
     "text": [
      "                                                                                \r"
     ]
    },
    {
     "name": "stdout",
     "output_type": "stream",
     "text": [
      "CPU times: user 9.13 ms, sys: 1.12 ms, total: 10.2 ms\n",
      "Wall time: 8.84 s\n"
     ]
    }
   ],
   "source": [
    "%%time\n",
    "for i, file in enumerate(lst):\n",
    "    print(file)\n",
    "    if i == 0:\n",
    "        raw_df = ss.read.csv(file, header=True, inferSchema=False)\n",
    "    else:\n",
    "        raw_df = raw_df.union(ss.read.csv(file, header=True, inferSchema=False))"
   ]
  },
  {
   "cell_type": "markdown",
   "metadata": {},
   "source": [
    "# 2. Pre procesamiento"
   ]
  },
  {
   "cell_type": "code",
   "execution_count": 5,
   "metadata": {
    "tags": []
   },
   "outputs": [],
   "source": [
    "# Renombrar columnas, para eliminar multiples espacios vación\n",
    "\n",
    "original_columns = raw_df.columns\n",
    "\n",
    "new_columns = {col: \" \".join(col.split()) for col in original_columns}\n",
    "\n",
    "# Renombrar las columnas en el DataFrame\n",
    "for old_name, new_name in new_columns.items():\n",
    "    raw_df = raw_df.withColumnRenamed(old_name, new_name)"
   ]
  },
  {
   "cell_type": "code",
   "execution_count": 6,
   "metadata": {
    "tags": []
   },
   "outputs": [],
   "source": [
    "date_format = \"MM/dd/yyyy hh:mm:ss a\"\n",
    "\n",
    "# Convertir tipos después de la carga\n",
    "df = raw_df.select(\n",
    "    F.col(\"Trip ID\").cast(StringType()),\n",
    "    F.col(\"Taxi ID\").cast(StringType()),\n",
    "    F.to_timestamp(F.col(\"Trip Start Timestamp\"), date_format).alias(\n",
    "        \"Trip Start Timestamp\"\n",
    "    ),\n",
    "    F.to_timestamp(F.col(\"Trip End Timestamp\"), date_format).alias(\n",
    "        \"Trip End Timestamp\"\n",
    "    ),\n",
    "    F.col(\"Trip Seconds\").cast(IntegerType()),\n",
    "    F.col(\"Trip Miles\").cast(FloatType()),\n",
    "    F.col(\"Pickup Census Tract\").cast(StringType()),\n",
    "    F.col(\"Dropoff Census Tract\").cast(StringType()),\n",
    "    F.col(\"Pickup Community Area\").cast(IntegerType()),\n",
    "    F.col(\"Dropoff Community Area\").cast(IntegerType()),\n",
    "    F.col(\"Fare\").cast(FloatType()),\n",
    "    F.col(\"Tips\").cast(FloatType()),\n",
    "    F.col(\"Tolls\").cast(FloatType()),\n",
    "    F.col(\"Extras\").cast(FloatType()),\n",
    "    F.col(\"Trip Total\").cast(FloatType()),\n",
    "    F.col(\"Payment Type\").cast(StringType()),\n",
    "    F.col(\"Company\").cast(StringType()),\n",
    "    F.col(\"Pickup Centroid Latitude\").cast(FloatType()),\n",
    "    F.col(\"Pickup Centroid Longitude\").cast(FloatType()),\n",
    "    F.col(\"Pickup Centroid Location\").cast(StringType()),\n",
    "    F.col(\"Dropoff Centroid Latitude\").cast(FloatType()),\n",
    "    F.col(\"Dropoff Centroid Longitude\").cast(FloatType()),\n",
    "    F.col(\"Dropoff Centroid Location\").cast(StringType()),\n",
    ")"
   ]
  },
  {
   "cell_type": "code",
   "execution_count": 7,
   "metadata": {
    "tags": []
   },
   "outputs": [],
   "source": [
    "df = df.withColumn(\"Fare\", F.round(F.col(\"Fare\"), 2))"
   ]
  },
  {
   "cell_type": "markdown",
   "metadata": {},
   "source": [
    "## Trabajando con muestreo (Eliminar en pasos finales del notebook)"
   ]
  },
  {
   "cell_type": "code",
   "execution_count": 8,
   "metadata": {
    "tags": []
   },
   "outputs": [],
   "source": [
    "# from pyspark.sql.functions import weekofyear\n",
    "\n",
    "# # 1. Agregar una columna 'Week' que represente la semana del año\n",
    "# df_with_week = df.withColumn(\"Week\", weekofyear(\"Trip Start Timestamp\"))\n",
    "\n",
    "# # 2. Obtener todas las semanas únicas presentes en los datos\n",
    "# weeks = df_with_week.select(\"Week\").distinct().rdd.flatMap(lambda x: x).collect()\n",
    "\n",
    "# # 3. Crear un diccionario de fracciones con la misma proporción para todas las semanas\n",
    "# fraction_value = 0.05  # Cambia este valor según la fracción que desees\n",
    "# fractions = {week: fraction_value for week in weeks}\n",
    "\n",
    "# # 4. Aplicar el muestreo estratificado\n",
    "# sampled_df = df_with_week.sampleBy(\"Week\", fractions, seed=42)\n",
    "\n",
    "# df = sampled_df\n",
    "# df.count()"
   ]
  },
  {
   "cell_type": "code",
   "execution_count": 9,
   "metadata": {
    "tags": []
   },
   "outputs": [
    {
     "name": "stdout",
     "output_type": "stream",
     "text": [
      "Número de particiones: 37\n"
     ]
    }
   ],
   "source": [
    "num_partitions = df.rdd.getNumPartitions()\n",
    "print(\"Número de particiones:\", num_partitions)"
   ]
  },
  {
   "cell_type": "code",
   "execution_count": 10,
   "metadata": {
    "id": "0FA49BZ8JK3V",
    "tags": []
   },
   "outputs": [],
   "source": [
    "df = df[(df[\"Trip Start Timestamp\"] <= \"2024-08-31\")]"
   ]
  },
  {
   "cell_type": "code",
   "execution_count": 11,
   "metadata": {},
   "outputs": [
    {
     "data": {
      "text/plain": [
       "DataFrame[Trip ID: string, Taxi ID: string, Trip Start Timestamp: timestamp, Trip End Timestamp: timestamp, Trip Seconds: int, Trip Miles: float, Pickup Census Tract: string, Dropoff Census Tract: string, Pickup Community Area: int, Dropoff Community Area: int, Fare: float, Tips: float, Tolls: float, Extras: float, Trip Total: float, Payment Type: string, Company: string, Pickup Centroid Latitude: float, Pickup Centroid Longitude: float, Pickup Centroid Location: string, Dropoff Centroid Latitude: float, Dropoff Centroid Longitude: float, Dropoff Centroid Location: string]"
      ]
     },
     "execution_count": 11,
     "metadata": {},
     "output_type": "execute_result"
    }
   ],
   "source": [
    "df.cache()"
   ]
  },
  {
   "cell_type": "markdown",
   "metadata": {
    "tags": []
   },
   "source": [
    "# 3. Análisis exploratorio de Datos (EDA)"
   ]
  },
  {
   "cell_type": "code",
   "execution_count": 12,
   "metadata": {
    "id": "Ws_jQJQ-JK3e",
    "tags": []
   },
   "outputs": [
    {
     "name": "stderr",
     "output_type": "stream",
     "text": [
      "25/01/03 02:50:38 WARN SparkStringUtils: Truncated the string representation of a plan since it was too large. This behavior can be adjusted by setting 'spark.sql.debug.maxToStringFields'.\n",
      "                                                                                \r"
     ]
    },
    {
     "data": {
      "text/html": [
       "<div>\n",
       "<style scoped>\n",
       "    .dataframe tbody tr th:only-of-type {\n",
       "        vertical-align: middle;\n",
       "    }\n",
       "\n",
       "    .dataframe tbody tr th {\n",
       "        vertical-align: top;\n",
       "    }\n",
       "\n",
       "    .dataframe thead th {\n",
       "        text-align: right;\n",
       "    }\n",
       "</style>\n",
       "<table border=\"1\" class=\"dataframe\">\n",
       "  <thead>\n",
       "    <tr style=\"text-align: right;\">\n",
       "      <th></th>\n",
       "      <th>summary</th>\n",
       "      <th>Trip ID</th>\n",
       "      <th>Taxi ID</th>\n",
       "      <th>Trip Seconds</th>\n",
       "      <th>Trip Miles</th>\n",
       "      <th>Pickup Census Tract</th>\n",
       "      <th>Dropoff Census Tract</th>\n",
       "      <th>Pickup Community Area</th>\n",
       "      <th>Dropoff Community Area</th>\n",
       "      <th>Fare</th>\n",
       "      <th>Tips</th>\n",
       "      <th>Tolls</th>\n",
       "      <th>Extras</th>\n",
       "      <th>Trip Total</th>\n",
       "      <th>Payment Type</th>\n",
       "      <th>Company</th>\n",
       "      <th>Pickup Centroid Latitude</th>\n",
       "      <th>Pickup Centroid Longitude</th>\n",
       "      <th>Pickup Centroid Location</th>\n",
       "      <th>Dropoff Centroid Latitude</th>\n",
       "      <th>Dropoff Centroid Longitude</th>\n",
       "      <th>Dropoff Centroid Location</th>\n",
       "    </tr>\n",
       "  </thead>\n",
       "  <tbody>\n",
       "    <tr>\n",
       "      <th>0</th>\n",
       "      <td>count</td>\n",
       "      <td>10755497</td>\n",
       "      <td>10755497</td>\n",
       "      <td>10753418</td>\n",
       "      <td>10755450</td>\n",
       "      <td>4715559</td>\n",
       "      <td>4579195</td>\n",
       "      <td>10395504</td>\n",
       "      <td>9728878</td>\n",
       "      <td>10731465</td>\n",
       "      <td>10731465</td>\n",
       "      <td>10731465</td>\n",
       "      <td>10731465</td>\n",
       "      <td>10731465</td>\n",
       "      <td>10755497</td>\n",
       "      <td>10755497</td>\n",
       "      <td>10400001</td>\n",
       "      <td>10400001</td>\n",
       "      <td>10400001</td>\n",
       "      <td>9793910</td>\n",
       "      <td>9793910</td>\n",
       "      <td>9793910</td>\n",
       "    </tr>\n",
       "    <tr>\n",
       "      <th>1</th>\n",
       "      <td>mean</td>\n",
       "      <td>None</td>\n",
       "      <td>None</td>\n",
       "      <td>1253.8432065042018</td>\n",
       "      <td>6.611410067838205</td>\n",
       "      <td>1.703150792887287E10</td>\n",
       "      <td>1.7031414968672113E10</td>\n",
       "      <td>35.790761563845294</td>\n",
       "      <td>26.238793517608094</td>\n",
       "      <td>22.538056911430935</td>\n",
       "      <td>2.9734957981665016</td>\n",
       "      <td>0.0495877094770661</td>\n",
       "      <td>2.2743196106138694</td>\n",
       "      <td>28.014873584051106</td>\n",
       "      <td>None</td>\n",
       "      <td>None</td>\n",
       "      <td>41.90216906754486</td>\n",
       "      <td>-87.7018456426875</td>\n",
       "      <td>None</td>\n",
       "      <td>41.89357756283721</td>\n",
       "      <td>-87.6622332131788</td>\n",
       "      <td>None</td>\n",
       "    </tr>\n",
       "    <tr>\n",
       "      <th>2</th>\n",
       "      <td>stddev</td>\n",
       "      <td>None</td>\n",
       "      <td>None</td>\n",
       "      <td>1675.5977047159922</td>\n",
       "      <td>7.849773680448222</td>\n",
       "      <td>375165.1989519658</td>\n",
       "      <td>344238.5790196981</td>\n",
       "      <td>26.30309864981511</td>\n",
       "      <td>20.95742682723646</td>\n",
       "      <td>26.238946021802892</td>\n",
       "      <td>4.2933656948623</td>\n",
       "      <td>10.821039066251112</td>\n",
       "      <td>18.14324821362521</td>\n",
       "      <td>38.6419479970113</td>\n",
       "      <td>None</td>\n",
       "      <td>None</td>\n",
       "      <td>0.06372792518388509</td>\n",
       "      <td>0.11410274173201754</td>\n",
       "      <td>None</td>\n",
       "      <td>0.05732493454883434</td>\n",
       "      <td>0.07348270748606603</td>\n",
       "      <td>None</td>\n",
       "    </tr>\n",
       "    <tr>\n",
       "      <th>3</th>\n",
       "      <td>min</td>\n",
       "      <td>00000019ef3c0b419a9e6b1843b83530b79627a4</td>\n",
       "      <td>000daaa11a2d961100513e232a1ce05391c5d797d2dc56...</td>\n",
       "      <td>0</td>\n",
       "      <td>0.0</td>\n",
       "      <td>17031010100</td>\n",
       "      <td>17031010100</td>\n",
       "      <td>1</td>\n",
       "      <td>1</td>\n",
       "      <td>0.0</td>\n",
       "      <td>0.0</td>\n",
       "      <td>0.0</td>\n",
       "      <td>0.0</td>\n",
       "      <td>0.0</td>\n",
       "      <td>Cash</td>\n",
       "      <td>2733 - 74600 Benny Jona</td>\n",
       "      <td>41.650223</td>\n",
       "      <td>-87.91363</td>\n",
       "      <td>POINT (-87.5313862567 41.7204632831)</td>\n",
       "      <td>41.650223</td>\n",
       "      <td>-87.91363</td>\n",
       "      <td>POINT (-87.5349029012 41.707311449)</td>\n",
       "    </tr>\n",
       "    <tr>\n",
       "      <th>4</th>\n",
       "      <td>max</td>\n",
       "      <td>ffffffdda8f2f9f98cf474cce05b7e5e34dc25e4</td>\n",
       "      <td>ffda53354c610fd3af1aee46d723028a49014e35f7280c...</td>\n",
       "      <td>86382</td>\n",
       "      <td>3397.8</td>\n",
       "      <td>17031980100</td>\n",
       "      <td>17031980100</td>\n",
       "      <td>77</td>\n",
       "      <td>77</td>\n",
       "      <td>9999.75</td>\n",
       "      <td>500.0</td>\n",
       "      <td>6666.66</td>\n",
       "      <td>9693.78</td>\n",
       "      <td>9999.75</td>\n",
       "      <td>Unknown</td>\n",
       "      <td>Wolley Taxi</td>\n",
       "      <td>42.021225</td>\n",
       "      <td>-87.53139</td>\n",
       "      <td>POINT (-87.913624596 41.9802643146)</td>\n",
       "      <td>42.021225</td>\n",
       "      <td>-87.534904</td>\n",
       "      <td>POINT (-87.913624596 41.9802643146)</td>\n",
       "    </tr>\n",
       "  </tbody>\n",
       "</table>\n",
       "</div>"
      ],
      "text/plain": [
       "  summary                                   Trip ID                                            Taxi ID        Trip Seconds         Trip Miles   Pickup Census Tract   Dropoff Census Tract Pickup Community Area Dropoff Community Area                Fare                Tips               Tolls              Extras          Trip Total Payment Type                  Company Pickup Centroid Latitude Pickup Centroid Longitude              Pickup Centroid Location Dropoff Centroid Latitude Dropoff Centroid Longitude            Dropoff Centroid Location\n",
       "0   count                                  10755497                                           10755497            10753418           10755450               4715559                4579195              10395504                9728878            10731465            10731465            10731465            10731465            10731465     10755497                 10755497                 10400001                  10400001                              10400001                   9793910                    9793910                              9793910\n",
       "1    mean                                      None                                               None  1253.8432065042018  6.611410067838205  1.703150792887287E10  1.7031414968672113E10    35.790761563845294     26.238793517608094  22.538056911430935  2.9734957981665016  0.0495877094770661  2.2743196106138694  28.014873584051106         None                     None        41.90216906754486         -87.7018456426875                                  None         41.89357756283721          -87.6622332131788                                 None\n",
       "2  stddev                                      None                                               None  1675.5977047159922  7.849773680448222     375165.1989519658      344238.5790196981     26.30309864981511      20.95742682723646  26.238946021802892     4.2933656948623  10.821039066251112   18.14324821362521    38.6419479970113         None                     None      0.06372792518388509       0.11410274173201754                                  None       0.05732493454883434        0.07348270748606603                                 None\n",
       "3     min  00000019ef3c0b419a9e6b1843b83530b79627a4  000daaa11a2d961100513e232a1ce05391c5d797d2dc56...                   0                0.0           17031010100            17031010100                     1                      1                 0.0                 0.0                 0.0                 0.0                 0.0         Cash  2733 - 74600 Benny Jona                41.650223                 -87.91363  POINT (-87.5313862567 41.7204632831)                 41.650223                  -87.91363  POINT (-87.5349029012 41.707311449)\n",
       "4     max  ffffffdda8f2f9f98cf474cce05b7e5e34dc25e4  ffda53354c610fd3af1aee46d723028a49014e35f7280c...               86382             3397.8           17031980100            17031980100                    77                     77             9999.75               500.0             6666.66             9693.78             9999.75      Unknown              Wolley Taxi                42.021225                 -87.53139   POINT (-87.913624596 41.9802643146)                 42.021225                 -87.534904  POINT (-87.913624596 41.9802643146)"
      ]
     },
     "execution_count": 12,
     "metadata": {},
     "output_type": "execute_result"
    }
   ],
   "source": [
    "describe_df = df.describe().toPandas()\n",
    "describe_df.round(2)"
   ]
  },
  {
   "cell_type": "markdown",
   "metadata": {},
   "source": [
    "## Distribución de los datos"
   ]
  },
  {
   "cell_type": "code",
   "execution_count": 13,
   "metadata": {
    "tags": []
   },
   "outputs": [
    {
     "name": "stderr",
     "output_type": "stream",
     "text": [
      "                                                                                \r"
     ]
    },
    {
     "data": {
      "text/html": [
       "<div>\n",
       "<style scoped>\n",
       "    .dataframe tbody tr th:only-of-type {\n",
       "        vertical-align: middle;\n",
       "    }\n",
       "\n",
       "    .dataframe tbody tr th {\n",
       "        vertical-align: top;\n",
       "    }\n",
       "\n",
       "    .dataframe thead th {\n",
       "        text-align: right;\n",
       "    }\n",
       "</style>\n",
       "<table border=\"1\" class=\"dataframe\">\n",
       "  <thead>\n",
       "    <tr style=\"text-align: right;\">\n",
       "      <th></th>\n",
       "      <th>Pickup Census Tract</th>\n",
       "      <th>Absolute frequency</th>\n",
       "      <th>Relative frequency</th>\n",
       "      <th>Accumulated frequency</th>\n",
       "      <th>Accumulated %</th>\n",
       "    </tr>\n",
       "  </thead>\n",
       "  <tbody>\n",
       "    <tr>\n",
       "      <th>0</th>\n",
       "      <td>None</td>\n",
       "      <td>6039938</td>\n",
       "      <td>56.16</td>\n",
       "      <td>6039938</td>\n",
       "      <td>56.16</td>\n",
       "    </tr>\n",
       "    <tr>\n",
       "      <th>1</th>\n",
       "      <td>17031980000</td>\n",
       "      <td>1146257</td>\n",
       "      <td>10.66</td>\n",
       "      <td>7186195</td>\n",
       "      <td>66.81</td>\n",
       "    </tr>\n",
       "    <tr>\n",
       "      <th>2</th>\n",
       "      <td>17031320100</td>\n",
       "      <td>514540</td>\n",
       "      <td>4.78</td>\n",
       "      <td>7700735</td>\n",
       "      <td>71.60</td>\n",
       "    </tr>\n",
       "    <tr>\n",
       "      <th>3</th>\n",
       "      <td>17031839100</td>\n",
       "      <td>507024</td>\n",
       "      <td>4.71</td>\n",
       "      <td>8207759</td>\n",
       "      <td>76.31</td>\n",
       "    </tr>\n",
       "    <tr>\n",
       "      <th>4</th>\n",
       "      <td>17031281900</td>\n",
       "      <td>375087</td>\n",
       "      <td>3.49</td>\n",
       "      <td>8582846</td>\n",
       "      <td>79.80</td>\n",
       "    </tr>\n",
       "    <tr>\n",
       "      <th>5</th>\n",
       "      <td>17031081500</td>\n",
       "      <td>285181</td>\n",
       "      <td>2.65</td>\n",
       "      <td>8868027</td>\n",
       "      <td>82.45</td>\n",
       "    </tr>\n",
       "    <tr>\n",
       "      <th>6</th>\n",
       "      <td>17031081401</td>\n",
       "      <td>187239</td>\n",
       "      <td>1.74</td>\n",
       "      <td>9055266</td>\n",
       "      <td>84.19</td>\n",
       "    </tr>\n",
       "    <tr>\n",
       "      <th>7</th>\n",
       "      <td>17031980100</td>\n",
       "      <td>182495</td>\n",
       "      <td>1.70</td>\n",
       "      <td>9237761</td>\n",
       "      <td>85.89</td>\n",
       "    </tr>\n",
       "    <tr>\n",
       "      <th>8</th>\n",
       "      <td>17031330100</td>\n",
       "      <td>179151</td>\n",
       "      <td>1.67</td>\n",
       "      <td>9416912</td>\n",
       "      <td>87.55</td>\n",
       "    </tr>\n",
       "    <tr>\n",
       "      <th>9</th>\n",
       "      <td>17031081403</td>\n",
       "      <td>168716</td>\n",
       "      <td>1.57</td>\n",
       "      <td>9585628</td>\n",
       "      <td>89.12</td>\n",
       "    </tr>\n",
       "  </tbody>\n",
       "</table>\n",
       "</div>"
      ],
      "text/plain": [
       "  Pickup Census Tract  Absolute frequency  Relative frequency  Accumulated frequency  Accumulated %\n",
       "0                None             6039938               56.16                6039938          56.16\n",
       "1         17031980000             1146257               10.66                7186195          66.81\n",
       "2         17031320100              514540                4.78                7700735          71.60\n",
       "3         17031839100              507024                4.71                8207759          76.31\n",
       "4         17031281900              375087                3.49                8582846          79.80\n",
       "5         17031081500              285181                2.65                8868027          82.45\n",
       "6         17031081401              187239                1.74                9055266          84.19\n",
       "7         17031980100              182495                1.70                9237761          85.89\n",
       "8         17031330100              179151                1.67                9416912          87.55\n",
       "9         17031081403              168716                1.57                9585628          89.12"
      ]
     },
     "execution_count": 13,
     "metadata": {},
     "output_type": "execute_result"
    }
   ],
   "source": [
    "generate_frequency_df(df, \"Pickup Census Tract\").head(10)"
   ]
  },
  {
   "cell_type": "code",
   "execution_count": 14,
   "metadata": {
    "tags": []
   },
   "outputs": [
    {
     "name": "stderr",
     "output_type": "stream",
     "text": [
      "                                                                                \r"
     ]
    },
    {
     "data": {
      "text/html": [
       "<div>\n",
       "<style scoped>\n",
       "    .dataframe tbody tr th:only-of-type {\n",
       "        vertical-align: middle;\n",
       "    }\n",
       "\n",
       "    .dataframe tbody tr th {\n",
       "        vertical-align: top;\n",
       "    }\n",
       "\n",
       "    .dataframe thead th {\n",
       "        text-align: right;\n",
       "    }\n",
       "</style>\n",
       "<table border=\"1\" class=\"dataframe\">\n",
       "  <thead>\n",
       "    <tr style=\"text-align: right;\">\n",
       "      <th></th>\n",
       "      <th>Dropoff Census Tract</th>\n",
       "      <th>Absolute frequency</th>\n",
       "      <th>Relative frequency</th>\n",
       "      <th>Accumulated frequency</th>\n",
       "      <th>Accumulated %</th>\n",
       "    </tr>\n",
       "  </thead>\n",
       "  <tbody>\n",
       "    <tr>\n",
       "      <th>0</th>\n",
       "      <td>None</td>\n",
       "      <td>6176302</td>\n",
       "      <td>57.42</td>\n",
       "      <td>6176302</td>\n",
       "      <td>57.42</td>\n",
       "    </tr>\n",
       "    <tr>\n",
       "      <th>1</th>\n",
       "      <td>17031839100</td>\n",
       "      <td>619629</td>\n",
       "      <td>5.76</td>\n",
       "      <td>6795931</td>\n",
       "      <td>63.19</td>\n",
       "    </tr>\n",
       "    <tr>\n",
       "      <th>2</th>\n",
       "      <td>17031320100</td>\n",
       "      <td>489117</td>\n",
       "      <td>4.55</td>\n",
       "      <td>7285048</td>\n",
       "      <td>67.73</td>\n",
       "    </tr>\n",
       "    <tr>\n",
       "      <th>3</th>\n",
       "      <td>17031980000</td>\n",
       "      <td>387982</td>\n",
       "      <td>3.61</td>\n",
       "      <td>7673030</td>\n",
       "      <td>71.34</td>\n",
       "    </tr>\n",
       "    <tr>\n",
       "      <th>4</th>\n",
       "      <td>17031081500</td>\n",
       "      <td>276942</td>\n",
       "      <td>2.57</td>\n",
       "      <td>7949972</td>\n",
       "      <td>73.92</td>\n",
       "    </tr>\n",
       "    <tr>\n",
       "      <th>...</th>\n",
       "      <td>...</td>\n",
       "      <td>...</td>\n",
       "      <td>...</td>\n",
       "      <td>...</td>\n",
       "      <td>...</td>\n",
       "    </tr>\n",
       "    <tr>\n",
       "      <th>918</th>\n",
       "      <td>17031640100</td>\n",
       "      <td>1</td>\n",
       "      <td>0.00</td>\n",
       "      <td>10755493</td>\n",
       "      <td>100.00</td>\n",
       "    </tr>\n",
       "    <tr>\n",
       "      <th>919</th>\n",
       "      <td>17031841200</td>\n",
       "      <td>1</td>\n",
       "      <td>0.00</td>\n",
       "      <td>10755494</td>\n",
       "      <td>100.00</td>\n",
       "    </tr>\n",
       "    <tr>\n",
       "      <th>920</th>\n",
       "      <td>17031801605</td>\n",
       "      <td>1</td>\n",
       "      <td>0.00</td>\n",
       "      <td>10755495</td>\n",
       "      <td>100.00</td>\n",
       "    </tr>\n",
       "    <tr>\n",
       "      <th>921</th>\n",
       "      <td>17031826202</td>\n",
       "      <td>1</td>\n",
       "      <td>0.00</td>\n",
       "      <td>10755496</td>\n",
       "      <td>100.00</td>\n",
       "    </tr>\n",
       "    <tr>\n",
       "      <th>922</th>\n",
       "      <td>17031710500</td>\n",
       "      <td>1</td>\n",
       "      <td>0.00</td>\n",
       "      <td>10755497</td>\n",
       "      <td>100.00</td>\n",
       "    </tr>\n",
       "  </tbody>\n",
       "</table>\n",
       "<p>923 rows × 5 columns</p>\n",
       "</div>"
      ],
      "text/plain": [
       "    Dropoff Census Tract  Absolute frequency  Relative frequency  Accumulated frequency  Accumulated %\n",
       "0                   None             6176302               57.42                6176302          57.42\n",
       "1            17031839100              619629                5.76                6795931          63.19\n",
       "2            17031320100              489117                4.55                7285048          67.73\n",
       "3            17031980000              387982                3.61                7673030          71.34\n",
       "4            17031081500              276942                2.57                7949972          73.92\n",
       "..                   ...                 ...                 ...                    ...            ...\n",
       "918          17031640100                   1                0.00               10755493         100.00\n",
       "919          17031841200                   1                0.00               10755494         100.00\n",
       "920          17031801605                   1                0.00               10755495         100.00\n",
       "921          17031826202                   1                0.00               10755496         100.00\n",
       "922          17031710500                   1                0.00               10755497         100.00\n",
       "\n",
       "[923 rows x 5 columns]"
      ]
     },
     "execution_count": 14,
     "metadata": {},
     "output_type": "execute_result"
    }
   ],
   "source": [
    "generate_frequency_df(df, \"Dropoff Census Tract\")"
   ]
  },
  {
   "cell_type": "code",
   "execution_count": 15,
   "metadata": {
    "tags": []
   },
   "outputs": [
    {
     "name": "stderr",
     "output_type": "stream",
     "text": [
      "                                                                                \r"
     ]
    },
    {
     "data": {
      "text/html": [
       "<div>\n",
       "<style scoped>\n",
       "    .dataframe tbody tr th:only-of-type {\n",
       "        vertical-align: middle;\n",
       "    }\n",
       "\n",
       "    .dataframe tbody tr th {\n",
       "        vertical-align: top;\n",
       "    }\n",
       "\n",
       "    .dataframe thead th {\n",
       "        text-align: right;\n",
       "    }\n",
       "</style>\n",
       "<table border=\"1\" class=\"dataframe\">\n",
       "  <thead>\n",
       "    <tr style=\"text-align: right;\">\n",
       "      <th></th>\n",
       "      <th>Pickup Community Area</th>\n",
       "      <th>Absolute frequency</th>\n",
       "      <th>Relative frequency</th>\n",
       "      <th>Accumulated frequency</th>\n",
       "      <th>Accumulated %</th>\n",
       "    </tr>\n",
       "  </thead>\n",
       "  <tbody>\n",
       "    <tr>\n",
       "      <th>0</th>\n",
       "      <td>8.0</td>\n",
       "      <td>2299936</td>\n",
       "      <td>21.38</td>\n",
       "      <td>2299936</td>\n",
       "      <td>21.38</td>\n",
       "    </tr>\n",
       "    <tr>\n",
       "      <th>1</th>\n",
       "      <td>76.0</td>\n",
       "      <td>2258088</td>\n",
       "      <td>20.99</td>\n",
       "      <td>4558024</td>\n",
       "      <td>42.38</td>\n",
       "    </tr>\n",
       "    <tr>\n",
       "      <th>2</th>\n",
       "      <td>32.0</td>\n",
       "      <td>1742958</td>\n",
       "      <td>16.21</td>\n",
       "      <td>6300982</td>\n",
       "      <td>58.58</td>\n",
       "    </tr>\n",
       "    <tr>\n",
       "      <th>3</th>\n",
       "      <td>28.0</td>\n",
       "      <td>990461</td>\n",
       "      <td>9.21</td>\n",
       "      <td>7291443</td>\n",
       "      <td>67.79</td>\n",
       "    </tr>\n",
       "    <tr>\n",
       "      <th>4</th>\n",
       "      <td>56.0</td>\n",
       "      <td>385613</td>\n",
       "      <td>3.59</td>\n",
       "      <td>7677056</td>\n",
       "      <td>71.38</td>\n",
       "    </tr>\n",
       "    <tr>\n",
       "      <th>5</th>\n",
       "      <td>33.0</td>\n",
       "      <td>374805</td>\n",
       "      <td>3.48</td>\n",
       "      <td>8051861</td>\n",
       "      <td>74.86</td>\n",
       "    </tr>\n",
       "    <tr>\n",
       "      <th>6</th>\n",
       "      <td>NaN</td>\n",
       "      <td>359993</td>\n",
       "      <td>3.35</td>\n",
       "      <td>8411854</td>\n",
       "      <td>78.21</td>\n",
       "    </tr>\n",
       "    <tr>\n",
       "      <th>7</th>\n",
       "      <td>6.0</td>\n",
       "      <td>355842</td>\n",
       "      <td>3.31</td>\n",
       "      <td>8767696</td>\n",
       "      <td>81.52</td>\n",
       "    </tr>\n",
       "    <tr>\n",
       "      <th>8</th>\n",
       "      <td>7.0</td>\n",
       "      <td>220753</td>\n",
       "      <td>2.05</td>\n",
       "      <td>8988449</td>\n",
       "      <td>83.57</td>\n",
       "    </tr>\n",
       "    <tr>\n",
       "      <th>9</th>\n",
       "      <td>3.0</td>\n",
       "      <td>163415</td>\n",
       "      <td>1.52</td>\n",
       "      <td>9151864</td>\n",
       "      <td>85.09</td>\n",
       "    </tr>\n",
       "  </tbody>\n",
       "</table>\n",
       "</div>"
      ],
      "text/plain": [
       "   Pickup Community Area  Absolute frequency  Relative frequency  Accumulated frequency  Accumulated %\n",
       "0                    8.0             2299936               21.38                2299936          21.38\n",
       "1                   76.0             2258088               20.99                4558024          42.38\n",
       "2                   32.0             1742958               16.21                6300982          58.58\n",
       "3                   28.0              990461                9.21                7291443          67.79\n",
       "4                   56.0              385613                3.59                7677056          71.38\n",
       "5                   33.0              374805                3.48                8051861          74.86\n",
       "6                    NaN              359993                3.35                8411854          78.21\n",
       "7                    6.0              355842                3.31                8767696          81.52\n",
       "8                    7.0              220753                2.05                8988449          83.57\n",
       "9                    3.0              163415                1.52                9151864          85.09"
      ]
     },
     "execution_count": 15,
     "metadata": {},
     "output_type": "execute_result"
    }
   ],
   "source": [
    "generate_frequency_df(df, \"Pickup Community Area\").head(10)"
   ]
  },
  {
   "cell_type": "code",
   "execution_count": 16,
   "metadata": {
    "tags": []
   },
   "outputs": [
    {
     "name": "stderr",
     "output_type": "stream",
     "text": [
      "                                                                                \r"
     ]
    },
    {
     "data": {
      "text/html": [
       "<div>\n",
       "<style scoped>\n",
       "    .dataframe tbody tr th:only-of-type {\n",
       "        vertical-align: middle;\n",
       "    }\n",
       "\n",
       "    .dataframe tbody tr th {\n",
       "        vertical-align: top;\n",
       "    }\n",
       "\n",
       "    .dataframe thead th {\n",
       "        text-align: right;\n",
       "    }\n",
       "</style>\n",
       "<table border=\"1\" class=\"dataframe\">\n",
       "  <thead>\n",
       "    <tr style=\"text-align: right;\">\n",
       "      <th></th>\n",
       "      <th>Payment Type</th>\n",
       "      <th>Absolute frequency</th>\n",
       "      <th>Relative frequency</th>\n",
       "      <th>Accumulated frequency</th>\n",
       "      <th>Accumulated %</th>\n",
       "    </tr>\n",
       "  </thead>\n",
       "  <tbody>\n",
       "    <tr>\n",
       "      <th>0</th>\n",
       "      <td>Credit Card</td>\n",
       "      <td>4337099</td>\n",
       "      <td>40.32</td>\n",
       "      <td>4337099</td>\n",
       "      <td>40.32</td>\n",
       "    </tr>\n",
       "    <tr>\n",
       "      <th>1</th>\n",
       "      <td>Cash</td>\n",
       "      <td>3166821</td>\n",
       "      <td>29.44</td>\n",
       "      <td>7503920</td>\n",
       "      <td>69.77</td>\n",
       "    </tr>\n",
       "    <tr>\n",
       "      <th>2</th>\n",
       "      <td>Mobile</td>\n",
       "      <td>1637425</td>\n",
       "      <td>15.22</td>\n",
       "      <td>9141345</td>\n",
       "      <td>84.99</td>\n",
       "    </tr>\n",
       "    <tr>\n",
       "      <th>3</th>\n",
       "      <td>Prcard</td>\n",
       "      <td>1134054</td>\n",
       "      <td>10.54</td>\n",
       "      <td>10275399</td>\n",
       "      <td>95.54</td>\n",
       "    </tr>\n",
       "    <tr>\n",
       "      <th>4</th>\n",
       "      <td>Unknown</td>\n",
       "      <td>464016</td>\n",
       "      <td>4.31</td>\n",
       "      <td>10739415</td>\n",
       "      <td>99.85</td>\n",
       "    </tr>\n",
       "    <tr>\n",
       "      <th>5</th>\n",
       "      <td>No Charge</td>\n",
       "      <td>12150</td>\n",
       "      <td>0.11</td>\n",
       "      <td>10751565</td>\n",
       "      <td>99.96</td>\n",
       "    </tr>\n",
       "    <tr>\n",
       "      <th>6</th>\n",
       "      <td>Dispute</td>\n",
       "      <td>3932</td>\n",
       "      <td>0.04</td>\n",
       "      <td>10755497</td>\n",
       "      <td>100.00</td>\n",
       "    </tr>\n",
       "  </tbody>\n",
       "</table>\n",
       "</div>"
      ],
      "text/plain": [
       "  Payment Type  Absolute frequency  Relative frequency  Accumulated frequency  Accumulated %\n",
       "0  Credit Card             4337099               40.32                4337099          40.32\n",
       "1         Cash             3166821               29.44                7503920          69.77\n",
       "2       Mobile             1637425               15.22                9141345          84.99\n",
       "3       Prcard             1134054               10.54               10275399          95.54\n",
       "4      Unknown              464016                4.31               10739415          99.85\n",
       "5    No Charge               12150                0.11               10751565          99.96\n",
       "6      Dispute                3932                0.04               10755497         100.00"
      ]
     },
     "execution_count": 16,
     "metadata": {},
     "output_type": "execute_result"
    }
   ],
   "source": [
    "generate_frequency_df(df, \"Payment Type\").head(10)"
   ]
  },
  {
   "cell_type": "code",
   "execution_count": 17,
   "metadata": {
    "tags": []
   },
   "outputs": [
    {
     "name": "stderr",
     "output_type": "stream",
     "text": [
      "                                                                                \r"
     ]
    },
    {
     "data": {
      "text/html": [
       "<div>\n",
       "<style scoped>\n",
       "    .dataframe tbody tr th:only-of-type {\n",
       "        vertical-align: middle;\n",
       "    }\n",
       "\n",
       "    .dataframe tbody tr th {\n",
       "        vertical-align: top;\n",
       "    }\n",
       "\n",
       "    .dataframe thead th {\n",
       "        text-align: right;\n",
       "    }\n",
       "</style>\n",
       "<table border=\"1\" class=\"dataframe\">\n",
       "  <thead>\n",
       "    <tr style=\"text-align: right;\">\n",
       "      <th></th>\n",
       "      <th>Company</th>\n",
       "      <th>Absolute frequency</th>\n",
       "      <th>Relative frequency</th>\n",
       "      <th>Accumulated frequency</th>\n",
       "      <th>Accumulated %</th>\n",
       "    </tr>\n",
       "  </thead>\n",
       "  <tbody>\n",
       "    <tr>\n",
       "      <th>0</th>\n",
       "      <td>Flash Cab</td>\n",
       "      <td>2157384</td>\n",
       "      <td>20.06</td>\n",
       "      <td>2157384</td>\n",
       "      <td>20.06</td>\n",
       "    </tr>\n",
       "    <tr>\n",
       "      <th>1</th>\n",
       "      <td>Taxi Affiliation Services</td>\n",
       "      <td>1994448</td>\n",
       "      <td>18.54</td>\n",
       "      <td>4151832</td>\n",
       "      <td>38.60</td>\n",
       "    </tr>\n",
       "    <tr>\n",
       "      <th>2</th>\n",
       "      <td>Sun Taxi</td>\n",
       "      <td>1198718</td>\n",
       "      <td>11.15</td>\n",
       "      <td>5350550</td>\n",
       "      <td>49.75</td>\n",
       "    </tr>\n",
       "    <tr>\n",
       "      <th>3</th>\n",
       "      <td>Taxicab Insurance Agency Llc</td>\n",
       "      <td>1088127</td>\n",
       "      <td>10.12</td>\n",
       "      <td>6438677</td>\n",
       "      <td>59.86</td>\n",
       "    </tr>\n",
       "    <tr>\n",
       "      <th>4</th>\n",
       "      <td>City Service</td>\n",
       "      <td>1052610</td>\n",
       "      <td>9.79</td>\n",
       "      <td>7491287</td>\n",
       "      <td>69.65</td>\n",
       "    </tr>\n",
       "    <tr>\n",
       "      <th>5</th>\n",
       "      <td>Chicago Independents</td>\n",
       "      <td>634217</td>\n",
       "      <td>5.90</td>\n",
       "      <td>8125504</td>\n",
       "      <td>75.55</td>\n",
       "    </tr>\n",
       "    <tr>\n",
       "      <th>6</th>\n",
       "      <td>5 Star Taxi</td>\n",
       "      <td>490442</td>\n",
       "      <td>4.56</td>\n",
       "      <td>8615946</td>\n",
       "      <td>80.11</td>\n",
       "    </tr>\n",
       "    <tr>\n",
       "      <th>7</th>\n",
       "      <td>Globe Taxi</td>\n",
       "      <td>390902</td>\n",
       "      <td>3.63</td>\n",
       "      <td>9006848</td>\n",
       "      <td>83.74</td>\n",
       "    </tr>\n",
       "    <tr>\n",
       "      <th>8</th>\n",
       "      <td>Blue Ribbon Taxi Association</td>\n",
       "      <td>358799</td>\n",
       "      <td>3.34</td>\n",
       "      <td>9365647</td>\n",
       "      <td>87.08</td>\n",
       "    </tr>\n",
       "    <tr>\n",
       "      <th>9</th>\n",
       "      <td>Medallion Leasin</td>\n",
       "      <td>349369</td>\n",
       "      <td>3.25</td>\n",
       "      <td>9715016</td>\n",
       "      <td>90.33</td>\n",
       "    </tr>\n",
       "  </tbody>\n",
       "</table>\n",
       "</div>"
      ],
      "text/plain": [
       "                        Company  Absolute frequency  Relative frequency  Accumulated frequency  Accumulated %\n",
       "0                     Flash Cab             2157384               20.06                2157384          20.06\n",
       "1     Taxi Affiliation Services             1994448               18.54                4151832          38.60\n",
       "2                      Sun Taxi             1198718               11.15                5350550          49.75\n",
       "3  Taxicab Insurance Agency Llc             1088127               10.12                6438677          59.86\n",
       "4                  City Service             1052610                9.79                7491287          69.65\n",
       "5          Chicago Independents              634217                5.90                8125504          75.55\n",
       "6                   5 Star Taxi              490442                4.56                8615946          80.11\n",
       "7                    Globe Taxi              390902                3.63                9006848          83.74\n",
       "8  Blue Ribbon Taxi Association              358799                3.34                9365647          87.08\n",
       "9              Medallion Leasin              349369                3.25                9715016          90.33"
      ]
     },
     "execution_count": 17,
     "metadata": {},
     "output_type": "execute_result"
    }
   ],
   "source": [
    "generate_frequency_df(df, \"Company\").head(10)"
   ]
  },
  {
   "cell_type": "markdown",
   "metadata": {},
   "source": [
    "## Valores nulo"
   ]
  },
  {
   "cell_type": "code",
   "execution_count": 18,
   "metadata": {
    "tags": []
   },
   "outputs": [
    {
     "name": "stderr",
     "output_type": "stream",
     "text": [
      "                                                                                \r"
     ]
    },
    {
     "data": {
      "text/html": [
       "<div>\n",
       "<style scoped>\n",
       "    .dataframe tbody tr th:only-of-type {\n",
       "        vertical-align: middle;\n",
       "    }\n",
       "\n",
       "    .dataframe tbody tr th {\n",
       "        vertical-align: top;\n",
       "    }\n",
       "\n",
       "    .dataframe thead th {\n",
       "        text-align: right;\n",
       "    }\n",
       "</style>\n",
       "<table border=\"1\" class=\"dataframe\">\n",
       "  <thead>\n",
       "    <tr style=\"text-align: right;\">\n",
       "      <th></th>\n",
       "      <th>feature</th>\n",
       "      <th>count</th>\n",
       "      <th>%</th>\n",
       "    </tr>\n",
       "  </thead>\n",
       "  <tbody>\n",
       "    <tr>\n",
       "      <th>16</th>\n",
       "      <td>Dropoff Census Tract</td>\n",
       "      <td>6176302</td>\n",
       "      <td>57.42</td>\n",
       "    </tr>\n",
       "    <tr>\n",
       "      <th>15</th>\n",
       "      <td>Pickup Census Tract</td>\n",
       "      <td>6039938</td>\n",
       "      <td>56.16</td>\n",
       "    </tr>\n",
       "    <tr>\n",
       "      <th>18</th>\n",
       "      <td>Dropoff Community Area</td>\n",
       "      <td>1026619</td>\n",
       "      <td>9.55</td>\n",
       "    </tr>\n",
       "    <tr>\n",
       "      <th>9</th>\n",
       "      <td>Dropoff Centroid Longitude</td>\n",
       "      <td>961587</td>\n",
       "      <td>8.94</td>\n",
       "    </tr>\n",
       "    <tr>\n",
       "      <th>22</th>\n",
       "      <td>Dropoff Centroid Location</td>\n",
       "      <td>961587</td>\n",
       "      <td>8.94</td>\n",
       "    </tr>\n",
       "    <tr>\n",
       "      <th>8</th>\n",
       "      <td>Dropoff Centroid Latitude</td>\n",
       "      <td>961587</td>\n",
       "      <td>8.94</td>\n",
       "    </tr>\n",
       "    <tr>\n",
       "      <th>17</th>\n",
       "      <td>Pickup Community Area</td>\n",
       "      <td>359993</td>\n",
       "      <td>3.35</td>\n",
       "    </tr>\n",
       "    <tr>\n",
       "      <th>6</th>\n",
       "      <td>Pickup Centroid Latitude</td>\n",
       "      <td>355496</td>\n",
       "      <td>3.31</td>\n",
       "    </tr>\n",
       "    <tr>\n",
       "      <th>7</th>\n",
       "      <td>Pickup Centroid Longitude</td>\n",
       "      <td>355496</td>\n",
       "      <td>3.31</td>\n",
       "    </tr>\n",
       "    <tr>\n",
       "      <th>21</th>\n",
       "      <td>Pickup Centroid Location</td>\n",
       "      <td>355496</td>\n",
       "      <td>3.31</td>\n",
       "    </tr>\n",
       "    <tr>\n",
       "      <th>5</th>\n",
       "      <td>Trip Total</td>\n",
       "      <td>24032</td>\n",
       "      <td>0.22</td>\n",
       "    </tr>\n",
       "    <tr>\n",
       "      <th>4</th>\n",
       "      <td>Extras</td>\n",
       "      <td>24032</td>\n",
       "      <td>0.22</td>\n",
       "    </tr>\n",
       "    <tr>\n",
       "      <th>1</th>\n",
       "      <td>Fare</td>\n",
       "      <td>24032</td>\n",
       "      <td>0.22</td>\n",
       "    </tr>\n",
       "    <tr>\n",
       "      <th>3</th>\n",
       "      <td>Tolls</td>\n",
       "      <td>24032</td>\n",
       "      <td>0.22</td>\n",
       "    </tr>\n",
       "    <tr>\n",
       "      <th>2</th>\n",
       "      <td>Tips</td>\n",
       "      <td>24032</td>\n",
       "      <td>0.22</td>\n",
       "    </tr>\n",
       "    <tr>\n",
       "      <th>14</th>\n",
       "      <td>Trip Seconds</td>\n",
       "      <td>2079</td>\n",
       "      <td>0.02</td>\n",
       "    </tr>\n",
       "    <tr>\n",
       "      <th>13</th>\n",
       "      <td>Trip End Timestamp</td>\n",
       "      <td>121</td>\n",
       "      <td>0.00</td>\n",
       "    </tr>\n",
       "    <tr>\n",
       "      <th>0</th>\n",
       "      <td>Trip Miles</td>\n",
       "      <td>47</td>\n",
       "      <td>0.00</td>\n",
       "    </tr>\n",
       "    <tr>\n",
       "      <th>12</th>\n",
       "      <td>Trip Start Timestamp</td>\n",
       "      <td>0</td>\n",
       "      <td>0.00</td>\n",
       "    </tr>\n",
       "    <tr>\n",
       "      <th>19</th>\n",
       "      <td>Payment Type</td>\n",
       "      <td>0</td>\n",
       "      <td>0.00</td>\n",
       "    </tr>\n",
       "    <tr>\n",
       "      <th>20</th>\n",
       "      <td>Company</td>\n",
       "      <td>0</td>\n",
       "      <td>0.00</td>\n",
       "    </tr>\n",
       "    <tr>\n",
       "      <th>10</th>\n",
       "      <td>Trip ID</td>\n",
       "      <td>0</td>\n",
       "      <td>0.00</td>\n",
       "    </tr>\n",
       "    <tr>\n",
       "      <th>11</th>\n",
       "      <td>Taxi ID</td>\n",
       "      <td>0</td>\n",
       "      <td>0.00</td>\n",
       "    </tr>\n",
       "  </tbody>\n",
       "</table>\n",
       "</div>"
      ],
      "text/plain": [
       "                       feature    count      %\n",
       "16        Dropoff Census Tract  6176302  57.42\n",
       "15         Pickup Census Tract  6039938  56.16\n",
       "18      Dropoff Community Area  1026619   9.55\n",
       "9   Dropoff Centroid Longitude   961587   8.94\n",
       "22   Dropoff Centroid Location   961587   8.94\n",
       "8    Dropoff Centroid Latitude   961587   8.94\n",
       "17       Pickup Community Area   359993   3.35\n",
       "6     Pickup Centroid Latitude   355496   3.31\n",
       "7    Pickup Centroid Longitude   355496   3.31\n",
       "21    Pickup Centroid Location   355496   3.31\n",
       "5                   Trip Total    24032   0.22\n",
       "4                       Extras    24032   0.22\n",
       "1                         Fare    24032   0.22\n",
       "3                        Tolls    24032   0.22\n",
       "2                         Tips    24032   0.22\n",
       "14                Trip Seconds     2079   0.02\n",
       "13          Trip End Timestamp      121   0.00\n",
       "0                   Trip Miles       47   0.00\n",
       "12        Trip Start Timestamp        0   0.00\n",
       "19                Payment Type        0   0.00\n",
       "20                     Company        0   0.00\n",
       "10                     Trip ID        0   0.00\n",
       "11                     Taxi ID        0   0.00"
      ]
     },
     "execution_count": 18,
     "metadata": {},
     "output_type": "execute_result"
    }
   ],
   "source": [
    "missings_df = missing_values_summary(df)\n",
    "missings_df.sort_values(\"count\", ascending=False)"
   ]
  },
  {
   "cell_type": "markdown",
   "metadata": {},
   "source": [
    "**Queremos ver cuáles son las diferencias de sectores con los que contamos para obtener si hay pickup o dropoff fuera de Chicago.**"
   ]
  },
  {
   "cell_type": "code",
   "execution_count": 19,
   "metadata": {
    "tags": []
   },
   "outputs": [
    {
     "name": "stderr",
     "output_type": "stream",
     "text": [
      "[Stage 51:=================================================>      (33 + 3) / 37]\r"
     ]
    },
    {
     "name": "stdout",
     "output_type": "stream",
     "text": [
      "Número de valores únicos en \"Pickup Census Tract\": 778\n"
     ]
    },
    {
     "name": "stderr",
     "output_type": "stream",
     "text": [
      "                                                                                \r"
     ]
    }
   ],
   "source": [
    "# Número de valores únicos en la columna \"Pickup Census Tract\" en PySpark\n",
    "pickup_unique_count = df.select(\"Pickup Census Tract\").distinct().count()\n",
    "print(f'Número de valores únicos en \"Pickup Census Tract\": {pickup_unique_count}')"
   ]
  },
  {
   "cell_type": "code",
   "execution_count": 20,
   "metadata": {
    "tags": []
   },
   "outputs": [
    {
     "name": "stderr",
     "output_type": "stream",
     "text": [
      "[Stage 57:====================================================>   (35 + 2) / 37]\r"
     ]
    },
    {
     "name": "stdout",
     "output_type": "stream",
     "text": [
      "Número de valores únicos en \"Dropoff Census Tract\": 923\n"
     ]
    },
    {
     "name": "stderr",
     "output_type": "stream",
     "text": [
      "                                                                                \r"
     ]
    }
   ],
   "source": [
    "# Número de valores únicos en la columna \"Pickup Census Tract\" en PySpark\n",
    "pickup_unique_count = df.select(\"Dropoff Census Tract\").distinct().count()\n",
    "print(f'Número de valores únicos en \"Dropoff Census Tract\": {pickup_unique_count}')"
   ]
  },
  {
   "cell_type": "code",
   "execution_count": 21,
   "metadata": {
    "tags": []
   },
   "outputs": [
    {
     "name": "stderr",
     "output_type": "stream",
     "text": [
      "                                                                                \r"
     ]
    },
    {
     "name": "stdout",
     "output_type": "stream",
     "text": [
      "Número de valores únicos en los primeros 5 caracteres de \"Pickup Census Tract\": 2\n"
     ]
    },
    {
     "name": "stderr",
     "output_type": "stream",
     "text": [
      "[Stage 69:=======================================>                (26 + 7) / 37]\r"
     ]
    },
    {
     "name": "stdout",
     "output_type": "stream",
     "text": [
      "Valores únicos en los primeros 5 caracteres de \"Pickup Census Tract\":\n",
      "17031\n",
      "None\n"
     ]
    },
    {
     "name": "stderr",
     "output_type": "stream",
     "text": [
      "                                                                                \r"
     ]
    }
   ],
   "source": [
    "# Obtener los valores únicos truncados de \"Dropoff Census Tract\"\n",
    "Pickup_unique = df.select(\n",
    "    F.substring(F.col(\"Pickup Census Tract\"), 1, 5).alias(\"truncated_Pickup\")\n",
    ").distinct()\n",
    "\n",
    "# Imprimir el número de valores únicos\n",
    "print(\n",
    "    f'Número de valores únicos en los primeros 5 caracteres de \"Pickup Census Tract\": {Pickup_unique.count()}'\n",
    ")\n",
    "\n",
    "# Imprimir los valores únicos\n",
    "unique_values_Pickup = Pickup_unique.collect()\n",
    "print('Valores únicos en los primeros 5 caracteres de \"Pickup Census Tract\":')\n",
    "for row in unique_values_Pickup:\n",
    "    print(row[\"truncated_Pickup\"])"
   ]
  },
  {
   "cell_type": "code",
   "execution_count": 22,
   "metadata": {
    "tags": []
   },
   "outputs": [
    {
     "name": "stderr",
     "output_type": "stream",
     "text": [
      "                                                                                \r"
     ]
    },
    {
     "name": "stdout",
     "output_type": "stream",
     "text": [
      "Número de valores únicos en los primeros 5 caracteres de \"Dropoff Census Tract\": 2\n"
     ]
    },
    {
     "name": "stderr",
     "output_type": "stream",
     "text": [
      "[Stage 78:=============================================>          (30 + 7) / 37]\r"
     ]
    },
    {
     "name": "stdout",
     "output_type": "stream",
     "text": [
      "Valores únicos en los primeros 5 caracteres de \"Dropoff Census Tract\":\n",
      "17031\n",
      "None\n"
     ]
    },
    {
     "name": "stderr",
     "output_type": "stream",
     "text": [
      "                                                                                \r"
     ]
    }
   ],
   "source": [
    "# Obtener los valores únicos truncados de \"Dropoff Census Tract\"\n",
    "dropoff_unique = df.select(\n",
    "    F.substring(F.col(\"Dropoff Census Tract\"), 1, 5).alias(\"truncated_dropoff\")\n",
    ").distinct()\n",
    "\n",
    "# Imprimir el número de valores únicos\n",
    "print(\n",
    "    f'Número de valores únicos en los primeros 5 caracteres de \"Dropoff Census Tract\": {dropoff_unique.count()}'\n",
    ")\n",
    "\n",
    "# Imprimir los valores únicos\n",
    "unique_values = dropoff_unique.collect()\n",
    "print('Valores únicos en los primeros 5 caracteres de \"Dropoff Census Tract\":')\n",
    "for row in unique_values:\n",
    "    print(row[\"truncated_dropoff\"])"
   ]
  },
  {
   "cell_type": "markdown",
   "metadata": {},
   "source": [
    "**Observaciones**\n",
    "\n",
    "El registro de sectores en Chicago es únicamente de 5 dígitos y el registro de los Census Tract estan dados en 11 dígitos, si reducimos estos digitos y unicamente nos quedamos con los 5 útiles podremos darnos cuentas que todos nuestros viajes son dentro del Condado de Cook."
   ]
  },
  {
   "cell_type": "markdown",
   "metadata": {},
   "source": [
    "**Conclusión**\n",
    "\n",
    "Por la cantidad de datos faltantes en Census Tract tanto en Pickup como Dropoff, y además al ser una variable unaria ya que la información contenida está en función del mismo sector, la variable resulta poco relevante para el análisis. Adicionalmente, carece de sentido aplicar imputación. Por lo que se deben eliminar dichas variables."
   ]
  },
  {
   "cell_type": "code",
   "execution_count": 23,
   "metadata": {
    "tags": []
   },
   "outputs": [],
   "source": [
    "columns_to_exclude = [\"Pickup Census Tract\", \"Dropoff Census Tract\"]\n",
    "# Eliminar columnas en PySpark\n",
    "df = df.drop(*columns_to_exclude)"
   ]
  },
  {
   "cell_type": "markdown",
   "metadata": {},
   "source": [
    "**Como el objetivo principal es generar una TAD por taxi (no por viaje), es importante identificar si existen taxis que tengan algún problema al registrar su total de pagos.**"
   ]
  },
  {
   "cell_type": "code",
   "execution_count": 24,
   "metadata": {
    "tags": []
   },
   "outputs": [
    {
     "name": "stderr",
     "output_type": "stream",
     "text": [
      "                                                                                \r"
     ]
    },
    {
     "data": {
      "text/html": [
       "<div>\n",
       "<style scoped>\n",
       "    .dataframe tbody tr th:only-of-type {\n",
       "        vertical-align: middle;\n",
       "    }\n",
       "\n",
       "    .dataframe tbody tr th {\n",
       "        vertical-align: top;\n",
       "    }\n",
       "\n",
       "    .dataframe thead th {\n",
       "        text-align: right;\n",
       "    }\n",
       "</style>\n",
       "<table border=\"1\" class=\"dataframe\">\n",
       "  <thead>\n",
       "    <tr style=\"text-align: right;\">\n",
       "      <th></th>\n",
       "      <th>Taxi ID</th>\n",
       "      <th>Cantidad de registros con Trip Total faltante</th>\n",
       "    </tr>\n",
       "  </thead>\n",
       "  <tbody>\n",
       "    <tr>\n",
       "      <th>0</th>\n",
       "      <td>5d7636d4b116cb2074313e3aa986f60e6a2c6e9d139ee1...</td>\n",
       "      <td>1263</td>\n",
       "    </tr>\n",
       "    <tr>\n",
       "      <th>1</th>\n",
       "      <td>ed7090d32800eec667900e884a935a298e55efaaaea9d6...</td>\n",
       "      <td>1124</td>\n",
       "    </tr>\n",
       "    <tr>\n",
       "      <th>2</th>\n",
       "      <td>535cbdf78f906572bd87f6818151296de41f60925a4e41...</td>\n",
       "      <td>1079</td>\n",
       "    </tr>\n",
       "    <tr>\n",
       "      <th>3</th>\n",
       "      <td>87a21e5ac34dbe38d564b74375f29cdcc5f88e81aa27d9...</td>\n",
       "      <td>1032</td>\n",
       "    </tr>\n",
       "    <tr>\n",
       "      <th>4</th>\n",
       "      <td>2407ff99e367ceb469a8cc6663e6ad6ec51fb0f401d370...</td>\n",
       "      <td>974</td>\n",
       "    </tr>\n",
       "    <tr>\n",
       "      <th>5</th>\n",
       "      <td>ea1095a215ac661a9a0da3f84747131c7bc3e6b71308b5...</td>\n",
       "      <td>661</td>\n",
       "    </tr>\n",
       "    <tr>\n",
       "      <th>6</th>\n",
       "      <td>3671b00a8d3d78e49e75a0eb9796fbfa1ab2e07b89d7ed...</td>\n",
       "      <td>628</td>\n",
       "    </tr>\n",
       "    <tr>\n",
       "      <th>7</th>\n",
       "      <td>5e48748b582fe3c16baf5ac371a27773e8aef2927f3344...</td>\n",
       "      <td>555</td>\n",
       "    </tr>\n",
       "    <tr>\n",
       "      <th>8</th>\n",
       "      <td>18c20740c9cbe78a07c7bef21fd4dd4035fa01fb10f186...</td>\n",
       "      <td>532</td>\n",
       "    </tr>\n",
       "    <tr>\n",
       "      <th>9</th>\n",
       "      <td>180309cc29892cd16348ef74d7dd6f33af87e585a29b62...</td>\n",
       "      <td>469</td>\n",
       "    </tr>\n",
       "  </tbody>\n",
       "</table>\n",
       "</div>"
      ],
      "text/plain": [
       "                                             Taxi ID  Cantidad de registros con Trip Total faltante\n",
       "0  5d7636d4b116cb2074313e3aa986f60e6a2c6e9d139ee1...                                           1263\n",
       "1  ed7090d32800eec667900e884a935a298e55efaaaea9d6...                                           1124\n",
       "2  535cbdf78f906572bd87f6818151296de41f60925a4e41...                                           1079\n",
       "3  87a21e5ac34dbe38d564b74375f29cdcc5f88e81aa27d9...                                           1032\n",
       "4  2407ff99e367ceb469a8cc6663e6ad6ec51fb0f401d370...                                            974\n",
       "5  ea1095a215ac661a9a0da3f84747131c7bc3e6b71308b5...                                            661\n",
       "6  3671b00a8d3d78e49e75a0eb9796fbfa1ab2e07b89d7ed...                                            628\n",
       "7  5e48748b582fe3c16baf5ac371a27773e8aef2927f3344...                                            555\n",
       "8  18c20740c9cbe78a07c7bef21fd4dd4035fa01fb10f186...                                            532\n",
       "9  180309cc29892cd16348ef74d7dd6f33af87e585a29b62...                                            469"
      ]
     },
     "execution_count": 24,
     "metadata": {},
     "output_type": "execute_result"
    }
   ],
   "source": [
    "taxistas_con_valores_faltantes = (\n",
    "    df.filter(F.col(\"Trip Total\").isNull())\n",
    "    .groupby(\"Taxi ID\")\n",
    "    .agg(F.count(\"*\").alias(\"Cantidad de registros con Trip Total faltante\"))\n",
    ")\n",
    "taxistas_con_valores_faltantes = taxistas_con_valores_faltantes.orderBy(\n",
    "    F.col(\"Cantidad de registros con Trip Total faltante\").desc()\n",
    ")\n",
    "taxistas_con_valores_faltantes.toPandas().head(10)"
   ]
  },
  {
   "cell_type": "code",
   "execution_count": 25,
   "metadata": {
    "tags": []
   },
   "outputs": [
    {
     "name": "stderr",
     "output_type": "stream",
     "text": [
      "                                                                                \r"
     ]
    },
    {
     "data": {
      "text/html": [
       "<div>\n",
       "<style scoped>\n",
       "    .dataframe tbody tr th:only-of-type {\n",
       "        vertical-align: middle;\n",
       "    }\n",
       "\n",
       "    .dataframe tbody tr th {\n",
       "        vertical-align: top;\n",
       "    }\n",
       "\n",
       "    .dataframe thead th {\n",
       "        text-align: right;\n",
       "    }\n",
       "</style>\n",
       "<table border=\"1\" class=\"dataframe\">\n",
       "  <thead>\n",
       "    <tr style=\"text-align: right;\">\n",
       "      <th></th>\n",
       "      <th>Taxi ID</th>\n",
       "      <th>Cantidad de registros con Trip Total faltante</th>\n",
       "      <th>Total de registros por taxista</th>\n",
       "      <th>Porcentaje de registros faltantes</th>\n",
       "    </tr>\n",
       "  </thead>\n",
       "  <tbody>\n",
       "    <tr>\n",
       "      <th>0</th>\n",
       "      <td>2407ff99e367ceb469a8cc6663e6ad6ec51fb0f401d370...</td>\n",
       "      <td>974</td>\n",
       "      <td>2432</td>\n",
       "      <td>40.05</td>\n",
       "    </tr>\n",
       "    <tr>\n",
       "      <th>1</th>\n",
       "      <td>8cc4bb2cb443a9e7a576ac9b0eca375e8679d29820a1f9...</td>\n",
       "      <td>2</td>\n",
       "      <td>6</td>\n",
       "      <td>33.33</td>\n",
       "    </tr>\n",
       "    <tr>\n",
       "      <th>2</th>\n",
       "      <td>535cbdf78f906572bd87f6818151296de41f60925a4e41...</td>\n",
       "      <td>1079</td>\n",
       "      <td>5389</td>\n",
       "      <td>20.02</td>\n",
       "    </tr>\n",
       "    <tr>\n",
       "      <th>3</th>\n",
       "      <td>ed7090d32800eec667900e884a935a298e55efaaaea9d6...</td>\n",
       "      <td>1124</td>\n",
       "      <td>5898</td>\n",
       "      <td>19.06</td>\n",
       "    </tr>\n",
       "    <tr>\n",
       "      <th>4</th>\n",
       "      <td>4b2d5e8743e0e17dd683ef83f701a7c54ab50ffa532484...</td>\n",
       "      <td>452</td>\n",
       "      <td>2551</td>\n",
       "      <td>17.72</td>\n",
       "    </tr>\n",
       "    <tr>\n",
       "      <th>...</th>\n",
       "      <td>...</td>\n",
       "      <td>...</td>\n",
       "      <td>...</td>\n",
       "      <td>...</td>\n",
       "    </tr>\n",
       "    <tr>\n",
       "      <th>1285</th>\n",
       "      <td>b972ec70e50b0f04e4fa382c61337d527d0cdfcf2c3007...</td>\n",
       "      <td>1</td>\n",
       "      <td>9130</td>\n",
       "      <td>0.01</td>\n",
       "    </tr>\n",
       "    <tr>\n",
       "      <th>1286</th>\n",
       "      <td>5129d55d3c20106ab67e0e09833d3fc54477a68540f648...</td>\n",
       "      <td>1</td>\n",
       "      <td>9371</td>\n",
       "      <td>0.01</td>\n",
       "    </tr>\n",
       "    <tr>\n",
       "      <th>1287</th>\n",
       "      <td>8a8b7ea6cf38ddad449d266d38a1c10cf326e0e06f3e7c...</td>\n",
       "      <td>1</td>\n",
       "      <td>9665</td>\n",
       "      <td>0.01</td>\n",
       "    </tr>\n",
       "    <tr>\n",
       "      <th>1288</th>\n",
       "      <td>dd38b7cebd5414ae2b17595c68048ff8745c5147487c6c...</td>\n",
       "      <td>1</td>\n",
       "      <td>9803</td>\n",
       "      <td>0.01</td>\n",
       "    </tr>\n",
       "    <tr>\n",
       "      <th>1289</th>\n",
       "      <td>4c4264f53bc23de0a1bc1150f1a490d89aaab4a8137304...</td>\n",
       "      <td>1</td>\n",
       "      <td>10024</td>\n",
       "      <td>0.01</td>\n",
       "    </tr>\n",
       "  </tbody>\n",
       "</table>\n",
       "<p>1290 rows × 4 columns</p>\n",
       "</div>"
      ],
      "text/plain": [
       "                                                Taxi ID  Cantidad de registros con Trip Total faltante  Total de registros por taxista  Porcentaje de registros faltantes\n",
       "0     2407ff99e367ceb469a8cc6663e6ad6ec51fb0f401d370...                                            974                            2432                              40.05\n",
       "1     8cc4bb2cb443a9e7a576ac9b0eca375e8679d29820a1f9...                                              2                               6                              33.33\n",
       "2     535cbdf78f906572bd87f6818151296de41f60925a4e41...                                           1079                            5389                              20.02\n",
       "3     ed7090d32800eec667900e884a935a298e55efaaaea9d6...                                           1124                            5898                              19.06\n",
       "4     4b2d5e8743e0e17dd683ef83f701a7c54ab50ffa532484...                                            452                            2551                              17.72\n",
       "...                                                 ...                                            ...                             ...                                ...\n",
       "1285  b972ec70e50b0f04e4fa382c61337d527d0cdfcf2c3007...                                              1                            9130                               0.01\n",
       "1286  5129d55d3c20106ab67e0e09833d3fc54477a68540f648...                                              1                            9371                               0.01\n",
       "1287  8a8b7ea6cf38ddad449d266d38a1c10cf326e0e06f3e7c...                                              1                            9665                               0.01\n",
       "1288  dd38b7cebd5414ae2b17595c68048ff8745c5147487c6c...                                              1                            9803                               0.01\n",
       "1289  4c4264f53bc23de0a1bc1150f1a490d89aaab4a8137304...                                              1                           10024                               0.01\n",
       "\n",
       "[1290 rows x 4 columns]"
      ]
     },
     "execution_count": 25,
     "metadata": {},
     "output_type": "execute_result"
    }
   ],
   "source": [
    "# Calcular el total de registros por taxista\n",
    "total_registros_por_taxista = df.groupby(\"Taxi ID\").agg(\n",
    "    F.count(\"*\").alias(\"Total de registros por taxista\")\n",
    ")\n",
    "# Cruzar el DataFrame de taxistas_con_valores_faltantes con el DataFrame total_registros_por_taxista\n",
    "taxistas_con_valores_faltantes = taxistas_con_valores_faltantes.join(\n",
    "    total_registros_por_taxista, on=\"Taxi ID\", how=\"inner\"\n",
    ")\n",
    "# Calcular el porcentaje de registros faltantes por taxista\n",
    "taxistas_con_valores_faltantes = taxistas_con_valores_faltantes.withColumn(\n",
    "    \"Porcentaje de registros faltantes\",\n",
    "    (\n",
    "        F.col(\"Cantidad de registros con Trip Total faltante\")\n",
    "        / F.col(\"Total de registros por taxista\")\n",
    "    )\n",
    "    * 100,\n",
    ")\n",
    "taxistas_con_valores_faltantes = taxistas_con_valores_faltantes.orderBy(\n",
    "    F.col(\"Porcentaje de registros faltantes\").desc()\n",
    ")\n",
    "taxistas_con_valores_faltantes.toPandas().round(2)"
   ]
  },
  {
   "cell_type": "markdown",
   "metadata": {},
   "source": [
    "Podemos darnos cuenta que el taxista con la mayor afectación es de más del 40% de sus registros, por lo que se recomienda pornerse en contacto con los conductores priorizando aquellos que tengan mayor afectación (mayor cantidad de montos sin registro)."
   ]
  },
  {
   "cell_type": "code",
   "execution_count": 26,
   "metadata": {
    "tags": []
   },
   "outputs": [],
   "source": [
    "df = df.filter(F.col(\"Trip Total\").isNotNull())"
   ]
  },
  {
   "cell_type": "markdown",
   "metadata": {},
   "source": [
    "Al eliminar los registros que no cuentan con **\"Trip Total\"** también se eliminan todos aquellos registros relacionados el desglose de montos, es decir, los montos asociados a las variables \"Fare\", \"Extras\", \"Tolls\" y \"Tips\"."
   ]
  },
  {
   "cell_type": "markdown",
   "metadata": {},
   "source": [
    "### Missings en Trip Seconds"
   ]
  },
  {
   "cell_type": "markdown",
   "metadata": {},
   "source": [
    "Debido a que contamos con valores ausentes en la variable \"Trip Seconds\" equivalentes al 0.02% de los datos y a que no contamos con suficiente informacion para imputar valores basándonos en calcular la diferencia en segundos de los viajes entre las variables \"Trip End Timestamp\" y \"Trip Start Timestamp\" para interpolar los datos faltantes ya que estos no corresponden por completo a la variable \"Trip Seconds\", y que adicionalmente, en algunos casos la diferencia es considerable. Se concluye que lo más recomendable es eliminar estos registros."
   ]
  },
  {
   "cell_type": "code",
   "execution_count": 27,
   "metadata": {
    "tags": []
   },
   "outputs": [],
   "source": [
    "df = df.filter(F.col(\"Trip Seconds\").isNotNull())"
   ]
  },
  {
   "cell_type": "markdown",
   "metadata": {},
   "source": [
    "### Missings en Trip Miles"
   ]
  },
  {
   "cell_type": "code",
   "execution_count": 28,
   "metadata": {
    "tags": []
   },
   "outputs": [
    {
     "data": {
      "text/plain": [
       "44"
      ]
     },
     "execution_count": 28,
     "metadata": {},
     "output_type": "execute_result"
    }
   ],
   "source": [
    "Trip_Miles = df.filter(F.col(\"Trip Miles\").isNull())\n",
    "Trip_Miles.count()"
   ]
  },
  {
   "cell_type": "markdown",
   "metadata": {},
   "source": [
    "Revisamos cómo se comportan estos valores para los registros en Trip Miles."
   ]
  },
  {
   "cell_type": "code",
   "execution_count": 29,
   "metadata": {
    "tags": []
   },
   "outputs": [
    {
     "name": "stderr",
     "output_type": "stream",
     "text": [
      "                                                                                \r"
     ]
    },
    {
     "data": {
      "text/html": [
       "<div>\n",
       "<style scoped>\n",
       "    .dataframe tbody tr th:only-of-type {\n",
       "        vertical-align: middle;\n",
       "    }\n",
       "\n",
       "    .dataframe tbody tr th {\n",
       "        vertical-align: top;\n",
       "    }\n",
       "\n",
       "    .dataframe thead th {\n",
       "        text-align: right;\n",
       "    }\n",
       "</style>\n",
       "<table border=\"1\" class=\"dataframe\">\n",
       "  <thead>\n",
       "    <tr style=\"text-align: right;\">\n",
       "      <th></th>\n",
       "      <th>summary</th>\n",
       "      <th>Trip ID</th>\n",
       "      <th>Taxi ID</th>\n",
       "      <th>Trip Seconds</th>\n",
       "      <th>Trip Miles</th>\n",
       "      <th>Pickup Community Area</th>\n",
       "      <th>Dropoff Community Area</th>\n",
       "      <th>Fare</th>\n",
       "      <th>Tips</th>\n",
       "      <th>Tolls</th>\n",
       "      <th>Extras</th>\n",
       "      <th>Trip Total</th>\n",
       "      <th>Payment Type</th>\n",
       "      <th>Company</th>\n",
       "      <th>Pickup Centroid Latitude</th>\n",
       "      <th>Pickup Centroid Longitude</th>\n",
       "      <th>Pickup Centroid Location</th>\n",
       "      <th>Dropoff Centroid Latitude</th>\n",
       "      <th>Dropoff Centroid Longitude</th>\n",
       "      <th>Dropoff Centroid Location</th>\n",
       "    </tr>\n",
       "  </thead>\n",
       "  <tbody>\n",
       "    <tr>\n",
       "      <th>0</th>\n",
       "      <td>count</td>\n",
       "      <td>44</td>\n",
       "      <td>44</td>\n",
       "      <td>44</td>\n",
       "      <td>0</td>\n",
       "      <td>37</td>\n",
       "      <td>39</td>\n",
       "      <td>44</td>\n",
       "      <td>44</td>\n",
       "      <td>44</td>\n",
       "      <td>44</td>\n",
       "      <td>44</td>\n",
       "      <td>44</td>\n",
       "      <td>44</td>\n",
       "      <td>37</td>\n",
       "      <td>37</td>\n",
       "      <td>37</td>\n",
       "      <td>39</td>\n",
       "      <td>39</td>\n",
       "      <td>39</td>\n",
       "    </tr>\n",
       "    <tr>\n",
       "      <th>1</th>\n",
       "      <td>mean</td>\n",
       "      <td>None</td>\n",
       "      <td>None</td>\n",
       "      <td>2545.6136363636365</td>\n",
       "      <td>None</td>\n",
       "      <td>23.89189189189189</td>\n",
       "      <td>24.307692307692307</td>\n",
       "      <td>357.57863688468933</td>\n",
       "      <td>3.6218182173642246</td>\n",
       "      <td>0.0</td>\n",
       "      <td>0.2840909090909091</td>\n",
       "      <td>361.65500099008733</td>\n",
       "      <td>None</td>\n",
       "      <td>None</td>\n",
       "      <td>41.92452033790382</td>\n",
       "      <td>-87.70792120856208</td>\n",
       "      <td>None</td>\n",
       "      <td>41.930831811366936</td>\n",
       "      <td>-87.71492102207282</td>\n",
       "      <td>None</td>\n",
       "    </tr>\n",
       "    <tr>\n",
       "      <th>2</th>\n",
       "      <td>stddev</td>\n",
       "      <td>None</td>\n",
       "      <td>None</td>\n",
       "      <td>6752.581732682243</td>\n",
       "      <td>None</td>\n",
       "      <td>23.342597903337083</td>\n",
       "      <td>23.536258529916022</td>\n",
       "      <td>1498.7815182185643</td>\n",
       "      <td>13.584712604241323</td>\n",
       "      <td>0.0</td>\n",
       "      <td>0.7578866522045709</td>\n",
       "      <td>1498.5627840885734</td>\n",
       "      <td>None</td>\n",
       "      <td>None</td>\n",
       "      <td>0.04543825868029447</td>\n",
       "      <td>0.09632604666006049</td>\n",
       "      <td>None</td>\n",
       "      <td>0.05147254068249108</td>\n",
       "      <td>0.08758300249629329</td>\n",
       "      <td>None</td>\n",
       "    </tr>\n",
       "    <tr>\n",
       "      <th>3</th>\n",
       "      <td>min</td>\n",
       "      <td>056cf90618eef5b60f19f5720ae8115abac33834</td>\n",
       "      <td>0f831bff43d83f396f2e4950126c6137dcdb60fb4c8580...</td>\n",
       "      <td>0</td>\n",
       "      <td>None</td>\n",
       "      <td>3</td>\n",
       "      <td>2</td>\n",
       "      <td>0.0</td>\n",
       "      <td>0.0</td>\n",
       "      <td>0.0</td>\n",
       "      <td>0.0</td>\n",
       "      <td>0.0</td>\n",
       "      <td>Cash</td>\n",
       "      <td>5 Star Taxi</td>\n",
       "      <td>41.79259</td>\n",
       "      <td>-87.91363</td>\n",
       "      <td>POINT (-87.6129454143 41.8919715078)</td>\n",
       "      <td>41.79259</td>\n",
       "      <td>-87.91363</td>\n",
       "      <td>POINT (-87.6129454143 41.8919715078)</td>\n",
       "    </tr>\n",
       "    <tr>\n",
       "      <th>4</th>\n",
       "      <td>max</td>\n",
       "      <td>f7cbb55a621eaa8d9279b5822cd5cb457899a1f3</td>\n",
       "      <td>f621299fa67bd8263e781be39bd954acda79ca9c958849...</td>\n",
       "      <td>42199</td>\n",
       "      <td>None</td>\n",
       "      <td>76</td>\n",
       "      <td>77</td>\n",
       "      <td>9999.75</td>\n",
       "      <td>65.01</td>\n",
       "      <td>0.0</td>\n",
       "      <td>4.0</td>\n",
       "      <td>9999.75</td>\n",
       "      <td>Prcard</td>\n",
       "      <td>Taxicab Insurance Agency, LLC</td>\n",
       "      <td>41.99393</td>\n",
       "      <td>-87.612946</td>\n",
       "      <td>POINT (-87.913624596 41.9802643146)</td>\n",
       "      <td>42.00157</td>\n",
       "      <td>-87.612946</td>\n",
       "      <td>POINT (-87.913624596 41.9802643146)</td>\n",
       "    </tr>\n",
       "  </tbody>\n",
       "</table>\n",
       "</div>"
      ],
      "text/plain": [
       "  summary                                   Trip ID                                            Taxi ID        Trip Seconds Trip Miles Pickup Community Area Dropoff Community Area                Fare                Tips Tolls              Extras          Trip Total Payment Type                        Company Pickup Centroid Latitude Pickup Centroid Longitude              Pickup Centroid Location Dropoff Centroid Latitude Dropoff Centroid Longitude             Dropoff Centroid Location\n",
       "0   count                                        44                                                 44                  44          0                    37                     39                  44                  44    44                  44                  44           44                             44                       37                        37                                    37                        39                         39                                    39\n",
       "1    mean                                      None                                               None  2545.6136363636365       None     23.89189189189189     24.307692307692307  357.57863688468933  3.6218182173642246   0.0  0.2840909090909091  361.65500099008733         None                           None        41.92452033790382        -87.70792120856208                                  None        41.930831811366936         -87.71492102207282                                  None\n",
       "2  stddev                                      None                                               None   6752.581732682243       None    23.342597903337083     23.536258529916022  1498.7815182185643  13.584712604241323   0.0  0.7578866522045709  1498.5627840885734         None                           None      0.04543825868029447       0.09632604666006049                                  None       0.05147254068249108        0.08758300249629329                                  None\n",
       "3     min  056cf90618eef5b60f19f5720ae8115abac33834  0f831bff43d83f396f2e4950126c6137dcdb60fb4c8580...                   0       None                     3                      2                 0.0                 0.0   0.0                 0.0                 0.0         Cash                    5 Star Taxi                 41.79259                 -87.91363  POINT (-87.6129454143 41.8919715078)                  41.79259                  -87.91363  POINT (-87.6129454143 41.8919715078)\n",
       "4     max  f7cbb55a621eaa8d9279b5822cd5cb457899a1f3  f621299fa67bd8263e781be39bd954acda79ca9c958849...               42199       None                    76                     77             9999.75               65.01   0.0                 4.0             9999.75       Prcard  Taxicab Insurance Agency, LLC                 41.99393                -87.612946   POINT (-87.913624596 41.9802643146)                  42.00157                 -87.612946   POINT (-87.913624596 41.9802643146)"
      ]
     },
     "execution_count": 29,
     "metadata": {},
     "output_type": "execute_result"
    }
   ],
   "source": [
    "Trip_Miles_describe = Trip_Miles.describe().toPandas()\n",
    "Trip_Miles_describe.round(2)"
   ]
  },
  {
   "cell_type": "markdown",
   "metadata": {},
   "source": [
    "Taxistas con afectación"
   ]
  },
  {
   "cell_type": "code",
   "execution_count": 30,
   "metadata": {
    "tags": []
   },
   "outputs": [
    {
     "data": {
      "text/plain": [
       "29"
      ]
     },
     "execution_count": 30,
     "metadata": {},
     "output_type": "execute_result"
    }
   ],
   "source": [
    "taxistas_con_valores_faltantes = (\n",
    "    df.filter(F.col(\"Trip Miles\").isNull())\n",
    "    .groupby(\"Taxi ID\")\n",
    "    .agg(F.count(\"*\").alias(\"Cantidad de registros con Trip Miles faltante\"))\n",
    ")\n",
    "taxistas_con_valores_faltantes = taxistas_con_valores_faltantes.orderBy(\n",
    "    F.col(\"Cantidad de registros con Trip Miles faltante\").desc()\n",
    ")\n",
    "taxistas_con_valores_faltantes.count()"
   ]
  },
  {
   "cell_type": "code",
   "execution_count": 31,
   "metadata": {
    "tags": []
   },
   "outputs": [
    {
     "name": "stderr",
     "output_type": "stream",
     "text": [
      "                                                                                \r"
     ]
    },
    {
     "data": {
      "text/plain": [
       "3790"
      ]
     },
     "execution_count": 31,
     "metadata": {},
     "output_type": "execute_result"
    }
   ],
   "source": [
    "total_taxis = df.groupby(\"Taxi ID\").agg(F.count(\"*\").alias(\"Cantidad total de taxis\"))\n",
    "total_taxis.count()"
   ]
  },
  {
   "cell_type": "code",
   "execution_count": 32,
   "metadata": {
    "tags": []
   },
   "outputs": [
    {
     "name": "stderr",
     "output_type": "stream",
     "text": [
      "                                                                                \r"
     ]
    },
    {
     "data": {
      "text/plain": [
       "0.7651715039577837"
      ]
     },
     "execution_count": 32,
     "metadata": {},
     "output_type": "execute_result"
    }
   ],
   "source": [
    "(taxistas_con_valores_faltantes.count() / total_taxis.count()) * 100"
   ]
  },
  {
   "cell_type": "markdown",
   "metadata": {},
   "source": [
    "**Observación**\n",
    "\n",
    "Podemos ver que afectamos solamente a 29 diferentes Taxis de un total de 3,790 Taxis que representa un 0.7651715039577837% del total de los Taxis por lo que es posible eliminar estos registros."
   ]
  },
  {
   "cell_type": "code",
   "execution_count": 33,
   "metadata": {
    "tags": []
   },
   "outputs": [],
   "source": [
    "df = df.filter(F.col(\"Trip Miles\").isNotNull())"
   ]
  },
  {
   "cell_type": "markdown",
   "metadata": {
    "tags": []
   },
   "source": [
    "### Missings en Coordenadas"
   ]
  },
  {
   "cell_type": "markdown",
   "metadata": {},
   "source": [
    "Finalmente, los *missings* restantes deben corresponder únicamente a los que están en función de las coordenadas del viaje."
   ]
  },
  {
   "cell_type": "code",
   "execution_count": 34,
   "metadata": {
    "tags": []
   },
   "outputs": [
    {
     "name": "stderr",
     "output_type": "stream",
     "text": [
      "                                                                                \r"
     ]
    },
    {
     "data": {
      "text/html": [
       "<div>\n",
       "<style scoped>\n",
       "    .dataframe tbody tr th:only-of-type {\n",
       "        vertical-align: middle;\n",
       "    }\n",
       "\n",
       "    .dataframe tbody tr th {\n",
       "        vertical-align: top;\n",
       "    }\n",
       "\n",
       "    .dataframe thead th {\n",
       "        text-align: right;\n",
       "    }\n",
       "</style>\n",
       "<table border=\"1\" class=\"dataframe\">\n",
       "  <thead>\n",
       "    <tr style=\"text-align: right;\">\n",
       "      <th></th>\n",
       "      <th>feature</th>\n",
       "      <th>count</th>\n",
       "      <th>%</th>\n",
       "    </tr>\n",
       "  </thead>\n",
       "  <tbody>\n",
       "    <tr>\n",
       "      <th>6</th>\n",
       "      <td>Pickup Centroid Latitude</td>\n",
       "      <td>354616</td>\n",
       "      <td>3.30</td>\n",
       "    </tr>\n",
       "    <tr>\n",
       "      <th>7</th>\n",
       "      <td>Pickup Centroid Longitude</td>\n",
       "      <td>354616</td>\n",
       "      <td>3.30</td>\n",
       "    </tr>\n",
       "    <tr>\n",
       "      <th>8</th>\n",
       "      <td>Dropoff Centroid Latitude</td>\n",
       "      <td>959072</td>\n",
       "      <td>8.94</td>\n",
       "    </tr>\n",
       "    <tr>\n",
       "      <th>9</th>\n",
       "      <td>Dropoff Centroid Longitude</td>\n",
       "      <td>959072</td>\n",
       "      <td>8.94</td>\n",
       "    </tr>\n",
       "    <tr>\n",
       "      <th>15</th>\n",
       "      <td>Pickup Community Area</td>\n",
       "      <td>359070</td>\n",
       "      <td>3.35</td>\n",
       "    </tr>\n",
       "    <tr>\n",
       "      <th>16</th>\n",
       "      <td>Dropoff Community Area</td>\n",
       "      <td>1023851</td>\n",
       "      <td>9.54</td>\n",
       "    </tr>\n",
       "    <tr>\n",
       "      <th>19</th>\n",
       "      <td>Pickup Centroid Location</td>\n",
       "      <td>354616</td>\n",
       "      <td>3.30</td>\n",
       "    </tr>\n",
       "    <tr>\n",
       "      <th>20</th>\n",
       "      <td>Dropoff Centroid Location</td>\n",
       "      <td>959072</td>\n",
       "      <td>8.94</td>\n",
       "    </tr>\n",
       "  </tbody>\n",
       "</table>\n",
       "</div>"
      ],
      "text/plain": [
       "                       feature    count     %\n",
       "6     Pickup Centroid Latitude   354616  3.30\n",
       "7    Pickup Centroid Longitude   354616  3.30\n",
       "8    Dropoff Centroid Latitude   959072  8.94\n",
       "9   Dropoff Centroid Longitude   959072  8.94\n",
       "15       Pickup Community Area   359070  3.35\n",
       "16      Dropoff Community Area  1023851  9.54\n",
       "19    Pickup Centroid Location   354616  3.30\n",
       "20   Dropoff Centroid Location   959072  8.94"
      ]
     },
     "execution_count": 34,
     "metadata": {},
     "output_type": "execute_result"
    }
   ],
   "source": [
    "missings_df = missing_values_summary(df)\n",
    "missings_df[missings_df[\"count\"] > 0]"
   ]
  },
  {
   "cell_type": "markdown",
   "metadata": {},
   "source": [
    "Tomamos \"Dropoff Community Area\" como filtro a explorar al ser la variable con la mayor cantidad de registros faltantes al momento."
   ]
  },
  {
   "cell_type": "code",
   "execution_count": 35,
   "metadata": {
    "tags": []
   },
   "outputs": [
    {
     "data": {
      "text/html": [
       "<div>\n",
       "<style scoped>\n",
       "    .dataframe tbody tr th:only-of-type {\n",
       "        vertical-align: middle;\n",
       "    }\n",
       "\n",
       "    .dataframe tbody tr th {\n",
       "        vertical-align: top;\n",
       "    }\n",
       "\n",
       "    .dataframe thead th {\n",
       "        text-align: right;\n",
       "    }\n",
       "</style>\n",
       "<table border=\"1\" class=\"dataframe\">\n",
       "  <thead>\n",
       "    <tr style=\"text-align: right;\">\n",
       "      <th></th>\n",
       "      <th>Trip ID</th>\n",
       "      <th>Taxi ID</th>\n",
       "      <th>Trip Start Timestamp</th>\n",
       "      <th>Trip End Timestamp</th>\n",
       "      <th>Trip Seconds</th>\n",
       "      <th>Trip Miles</th>\n",
       "      <th>Pickup Community Area</th>\n",
       "      <th>Dropoff Community Area</th>\n",
       "      <th>Fare</th>\n",
       "      <th>Tips</th>\n",
       "      <th>Tolls</th>\n",
       "      <th>Extras</th>\n",
       "      <th>Trip Total</th>\n",
       "      <th>Payment Type</th>\n",
       "      <th>Company</th>\n",
       "      <th>Pickup Centroid Latitude</th>\n",
       "      <th>Pickup Centroid Longitude</th>\n",
       "      <th>Pickup Centroid Location</th>\n",
       "      <th>Dropoff Centroid Latitude</th>\n",
       "      <th>Dropoff Centroid Longitude</th>\n",
       "      <th>Dropoff Centroid Location</th>\n",
       "    </tr>\n",
       "  </thead>\n",
       "  <tbody>\n",
       "    <tr>\n",
       "      <th>0</th>\n",
       "      <td>c22902fdf0548a8d12ce49015763fcb9330d4080</td>\n",
       "      <td>1bb875f74db6b3d8bcab27f6784218036ec738c201e533...</td>\n",
       "      <td>2023-01-01 00:00:00</td>\n",
       "      <td>2023-01-01 00:00:00</td>\n",
       "      <td>6</td>\n",
       "      <td>0.07</td>\n",
       "      <td>NaN</td>\n",
       "      <td>NaN</td>\n",
       "      <td>3.25</td>\n",
       "      <td>0.00</td>\n",
       "      <td>0.0</td>\n",
       "      <td>0.0</td>\n",
       "      <td>3.250000</td>\n",
       "      <td>Cash</td>\n",
       "      <td>Flash Cab</td>\n",
       "      <td>NaN</td>\n",
       "      <td>NaN</td>\n",
       "      <td>None</td>\n",
       "      <td>NaN</td>\n",
       "      <td>NaN</td>\n",
       "      <td>None</td>\n",
       "    </tr>\n",
       "    <tr>\n",
       "      <th>1</th>\n",
       "      <td>cfd7c42f6ca1e031c89176eb94e845c759d97443</td>\n",
       "      <td>42e3ec7750e4be6e56c47bcdefe5cb86ddb0d0c65bcf4d...</td>\n",
       "      <td>2023-01-01 00:00:00</td>\n",
       "      <td>2023-01-01 00:15:00</td>\n",
       "      <td>1444</td>\n",
       "      <td>15.36</td>\n",
       "      <td>76.0</td>\n",
       "      <td>NaN</td>\n",
       "      <td>38.75</td>\n",
       "      <td>10.24</td>\n",
       "      <td>0.0</td>\n",
       "      <td>29.0</td>\n",
       "      <td>78.489998</td>\n",
       "      <td>Credit Card</td>\n",
       "      <td>Taxicab Insurance Agency Llc</td>\n",
       "      <td>41.980263</td>\n",
       "      <td>-87.913628</td>\n",
       "      <td>POINT (-87.913624596 41.9802643146)</td>\n",
       "      <td>NaN</td>\n",
       "      <td>NaN</td>\n",
       "      <td>None</td>\n",
       "    </tr>\n",
       "    <tr>\n",
       "      <th>2</th>\n",
       "      <td>0502df4836e3617fe2e4380dfb1c8cb430d11b7e</td>\n",
       "      <td>9dbc9017d66ff7ca48ae4ac833e8fdc0d3f35333516071...</td>\n",
       "      <td>2023-01-01 00:30:00</td>\n",
       "      <td>2023-01-01 00:45:00</td>\n",
       "      <td>660</td>\n",
       "      <td>4.10</td>\n",
       "      <td>76.0</td>\n",
       "      <td>NaN</td>\n",
       "      <td>13.25</td>\n",
       "      <td>5.30</td>\n",
       "      <td>0.0</td>\n",
       "      <td>4.0</td>\n",
       "      <td>22.549999</td>\n",
       "      <td>Credit Card</td>\n",
       "      <td>Top Cab Affiliation</td>\n",
       "      <td>41.980263</td>\n",
       "      <td>-87.913628</td>\n",
       "      <td>POINT (-87.913624596 41.9802643146)</td>\n",
       "      <td>NaN</td>\n",
       "      <td>NaN</td>\n",
       "      <td>None</td>\n",
       "    </tr>\n",
       "    <tr>\n",
       "      <th>3</th>\n",
       "      <td>71c26708bc47831fa55be06ae37c009199c9a072</td>\n",
       "      <td>805857b679797dfe185017d79e00742e3f1a6e46f2ad28...</td>\n",
       "      <td>2023-01-01 00:30:00</td>\n",
       "      <td>2023-01-01 01:00:00</td>\n",
       "      <td>1830</td>\n",
       "      <td>13.15</td>\n",
       "      <td>NaN</td>\n",
       "      <td>NaN</td>\n",
       "      <td>34.00</td>\n",
       "      <td>0.00</td>\n",
       "      <td>0.0</td>\n",
       "      <td>5.0</td>\n",
       "      <td>39.000000</td>\n",
       "      <td>Cash</td>\n",
       "      <td>Flash Cab</td>\n",
       "      <td>NaN</td>\n",
       "      <td>NaN</td>\n",
       "      <td>None</td>\n",
       "      <td>NaN</td>\n",
       "      <td>NaN</td>\n",
       "      <td>None</td>\n",
       "    </tr>\n",
       "    <tr>\n",
       "      <th>4</th>\n",
       "      <td>5244a246cd8f80de7cbd9dd623c66ffc9b822922</td>\n",
       "      <td>9925605b15529d1ee587464258891d45685eaed9dce574...</td>\n",
       "      <td>2023-01-01 00:45:00</td>\n",
       "      <td>2023-01-01 00:45:00</td>\n",
       "      <td>360</td>\n",
       "      <td>0.00</td>\n",
       "      <td>NaN</td>\n",
       "      <td>NaN</td>\n",
       "      <td>4.75</td>\n",
       "      <td>4.00</td>\n",
       "      <td>0.0</td>\n",
       "      <td>1.5</td>\n",
       "      <td>10.250000</td>\n",
       "      <td>Credit Card</td>\n",
       "      <td>Choice Taxi Association</td>\n",
       "      <td>NaN</td>\n",
       "      <td>NaN</td>\n",
       "      <td>None</td>\n",
       "      <td>NaN</td>\n",
       "      <td>NaN</td>\n",
       "      <td>None</td>\n",
       "    </tr>\n",
       "  </tbody>\n",
       "</table>\n",
       "</div>"
      ],
      "text/plain": [
       "                                    Trip ID                                            Taxi ID Trip Start Timestamp  Trip End Timestamp  Trip Seconds  Trip Miles  Pickup Community Area  Dropoff Community Area   Fare   Tips  Tolls  Extras  Trip Total Payment Type                       Company  Pickup Centroid Latitude  Pickup Centroid Longitude             Pickup Centroid Location  Dropoff Centroid Latitude  Dropoff Centroid Longitude Dropoff Centroid Location\n",
       "0  c22902fdf0548a8d12ce49015763fcb9330d4080  1bb875f74db6b3d8bcab27f6784218036ec738c201e533...  2023-01-01 00:00:00 2023-01-01 00:00:00             6        0.07                    NaN                     NaN   3.25   0.00    0.0     0.0    3.250000         Cash                     Flash Cab                       NaN                        NaN                                 None                        NaN                         NaN                      None\n",
       "1  cfd7c42f6ca1e031c89176eb94e845c759d97443  42e3ec7750e4be6e56c47bcdefe5cb86ddb0d0c65bcf4d...  2023-01-01 00:00:00 2023-01-01 00:15:00          1444       15.36                   76.0                     NaN  38.75  10.24    0.0    29.0   78.489998  Credit Card  Taxicab Insurance Agency Llc                 41.980263                 -87.913628  POINT (-87.913624596 41.9802643146)                        NaN                         NaN                      None\n",
       "2  0502df4836e3617fe2e4380dfb1c8cb430d11b7e  9dbc9017d66ff7ca48ae4ac833e8fdc0d3f35333516071...  2023-01-01 00:30:00 2023-01-01 00:45:00           660        4.10                   76.0                     NaN  13.25   5.30    0.0     4.0   22.549999  Credit Card           Top Cab Affiliation                 41.980263                 -87.913628  POINT (-87.913624596 41.9802643146)                        NaN                         NaN                      None\n",
       "3  71c26708bc47831fa55be06ae37c009199c9a072  805857b679797dfe185017d79e00742e3f1a6e46f2ad28...  2023-01-01 00:30:00 2023-01-01 01:00:00          1830       13.15                    NaN                     NaN  34.00   0.00    0.0     5.0   39.000000         Cash                     Flash Cab                       NaN                        NaN                                 None                        NaN                         NaN                      None\n",
       "4  5244a246cd8f80de7cbd9dd623c66ffc9b822922  9925605b15529d1ee587464258891d45685eaed9dce574...  2023-01-01 00:45:00 2023-01-01 00:45:00           360        0.00                    NaN                     NaN   4.75   4.00    0.0     1.5   10.250000  Credit Card       Choice Taxi Association                       NaN                        NaN                                 None                        NaN                         NaN                      None"
      ]
     },
     "execution_count": 35,
     "metadata": {},
     "output_type": "execute_result"
    }
   ],
   "source": [
    "null_dropoff_df = df.filter(F.col(\"Dropoff Community Area\").isNull())\n",
    "# Obtener una muestra aleatoria de 5 filas\n",
    "sampled_df = null_dropoff_df.sample(withReplacement=False, fraction=0.1).limit(\n",
    "    5\n",
    ")  # Ajusta la fracción según sea necesario\n",
    "# Mostrar la muestra\n",
    "sampled_df.toPandas()"
   ]
  },
  {
   "cell_type": "markdown",
   "metadata": {},
   "source": [
    "**Conclusión**\n",
    "\n",
    "Por ahora no elminaremos las filas con valores nulos en Dropoff Community Area, ya que observamos que tienen información relevante para futuros calclos.\n"
   ]
  },
  {
   "cell_type": "markdown",
   "metadata": {},
   "source": [
    "## ¿Cuántos viajes hace un taxista (a lo largo del tiempo)?"
   ]
  },
  {
   "cell_type": "markdown",
   "metadata": {
    "tags": []
   },
   "source": [
    "Número de taxistas"
   ]
  },
  {
   "cell_type": "code",
   "execution_count": 36,
   "metadata": {
    "tags": []
   },
   "outputs": [
    {
     "name": "stderr",
     "output_type": "stream",
     "text": [
      "[Stage 137:====================================================>  (35 + 2) / 37]\r"
     ]
    },
    {
     "name": "stdout",
     "output_type": "stream",
     "text": [
      "El total de taxistas en el conjunto es: 3790\n"
     ]
    },
    {
     "name": "stderr",
     "output_type": "stream",
     "text": [
      "                                                                                \r"
     ]
    }
   ],
   "source": [
    "n_taxistas = df.select(\"Taxi ID\").distinct().count()\n",
    "print(f\"El total de taxistas en el conjunto es: {n_taxistas}\")"
   ]
  },
  {
   "cell_type": "code",
   "execution_count": 37,
   "metadata": {
    "tags": []
   },
   "outputs": [
    {
     "name": "stderr",
     "output_type": "stream",
     "text": [
      "                                                                                \r"
     ]
    },
    {
     "data": {
      "text/html": [
       "<div>\n",
       "<style scoped>\n",
       "    .dataframe tbody tr th:only-of-type {\n",
       "        vertical-align: middle;\n",
       "    }\n",
       "\n",
       "    .dataframe tbody tr th {\n",
       "        vertical-align: top;\n",
       "    }\n",
       "\n",
       "    .dataframe thead th {\n",
       "        text-align: right;\n",
       "    }\n",
       "</style>\n",
       "<table border=\"1\" class=\"dataframe\">\n",
       "  <thead>\n",
       "    <tr style=\"text-align: right;\">\n",
       "      <th></th>\n",
       "      <th>Taxi ID</th>\n",
       "      <th>Total viajes</th>\n",
       "    </tr>\n",
       "  </thead>\n",
       "  <tbody>\n",
       "    <tr>\n",
       "      <th>0</th>\n",
       "      <td>d40dae7ea46d61abca67eb53b157fe9cf0b485cca6dce1...</td>\n",
       "      <td>17801</td>\n",
       "    </tr>\n",
       "    <tr>\n",
       "      <th>1</th>\n",
       "      <td>13016372e777da1289d557edbe4ce2be8a68e77bc64768...</td>\n",
       "      <td>13323</td>\n",
       "    </tr>\n",
       "    <tr>\n",
       "      <th>2</th>\n",
       "      <td>a79d72d3d49bed13558577cc0608caf7e8da5b9cee67b6...</td>\n",
       "      <td>13086</td>\n",
       "    </tr>\n",
       "    <tr>\n",
       "      <th>3</th>\n",
       "      <td>2780ead18beaa862cc67315ddabd9d1acaadcd6da82eba...</td>\n",
       "      <td>12316</td>\n",
       "    </tr>\n",
       "    <tr>\n",
       "      <th>4</th>\n",
       "      <td>14685d7c19b1bcf05466194de4a62ee39d4144f9786750...</td>\n",
       "      <td>12270</td>\n",
       "    </tr>\n",
       "  </tbody>\n",
       "</table>\n",
       "</div>"
      ],
      "text/plain": [
       "                                             Taxi ID  Total viajes\n",
       "0  d40dae7ea46d61abca67eb53b157fe9cf0b485cca6dce1...         17801\n",
       "1  13016372e777da1289d557edbe4ce2be8a68e77bc64768...         13323\n",
       "2  a79d72d3d49bed13558577cc0608caf7e8da5b9cee67b6...         13086\n",
       "3  2780ead18beaa862cc67315ddabd9d1acaadcd6da82eba...         12316\n",
       "4  14685d7c19b1bcf05466194de4a62ee39d4144f9786750...         12270"
      ]
     },
     "execution_count": 37,
     "metadata": {},
     "output_type": "execute_result"
    }
   ],
   "source": [
    "# Cantidad de viajes por taxi\n",
    "num_viajes = df.groupBy(\"Taxi ID\").count().withColumnRenamed(\"count\", \"Total viajes\")\n",
    "\n",
    "# Ordenar por la cantidad de viajes en orden descendente\n",
    "num_viajes = num_viajes.orderBy(\"Total viajes\", ascending=False)\n",
    "\n",
    "num_viajes_df = num_viajes.toPandas()\n",
    "\n",
    "num_viajes_df.head()"
   ]
  },
  {
   "cell_type": "code",
   "execution_count": 38,
   "metadata": {
    "tags": []
   },
   "outputs": [
    {
     "data": {
      "text/plain": [
       "<Figure size 640x480 with 0 Axes>"
      ]
     },
     "metadata": {},
     "output_type": "display_data"
    },
    {
     "data": {
      "image/png": "[encoded data removed]",
      "text/plain": [
       "<Figure size 640x480 with 1 Axes>"
      ]
     },
     "metadata": {},
     "output_type": "display_data"
    }
   ],
   "source": [
    "plt.figure()\n",
    "num_viajes_df.plot(kind=\"bar\", color=\"navy\")\n",
    "plt.title(\"Número de Viajes\")\n",
    "plt.xlabel(\"Taxi\")\n",
    "plt.ylabel(\"Cantidad de Viajes\")\n",
    "plt.grid(axis=\"y\", linestyle=\"--\", alpha=0.7)\n",
    "plt.xticks([])\n",
    "plt.show()"
   ]
  },
  {
   "cell_type": "markdown",
   "metadata": {
    "tags": []
   },
   "source": [
    "**Hipótesis**\n",
    "\n",
    "Es posible que aquellos táxistas que tienen más tiempo, son lo que tienen más viajes, y aquellos con menos viajes son los taxistas que van iniciando"
   ]
  },
  {
   "cell_type": "markdown",
   "metadata": {
    "tags": []
   },
   "source": [
    "**Taxista con más viajes en el tiempo**"
   ]
  },
  {
   "cell_type": "code",
   "execution_count": 39,
   "metadata": {
    "tags": []
   },
   "outputs": [
    {
     "name": "stderr",
     "output_type": "stream",
     "text": [
      "                                                                                \r"
     ]
    }
   ],
   "source": [
    "from pyspark.sql.functions import month, year, col\n",
    "\n",
    "# Obtener el Taxi ID con más viajes\n",
    "taxista_top1_viajes = num_viajes.first()[\"Taxi ID\"]\n",
    "\n",
    "# Filtrar el DataFrame para el taxi con más viajes\n",
    "taxista_df_masviajes = df.filter(F.col(\"Taxi ID\") == taxista_top1_viajes)\n",
    "\n",
    "# Extraer el año y el mes de \"Trip Start Timestamp\" y contar los viajes por mes\n",
    "trips_by_month = (\n",
    "    taxista_df_masviajes.groupBy(\n",
    "        year(\"Trip Start Timestamp\").alias(\"Año\"),\n",
    "        month(\"Trip Start Timestamp\").alias(\"Mes\"),\n",
    "    )\n",
    "    .agg(F.count(\"Trip ID\").alias(\"Total Viajes\"))\n",
    "    .orderBy(\"Año\", \"Mes\")\n",
    ")"
   ]
  },
  {
   "cell_type": "code",
   "execution_count": 40,
   "metadata": {
    "tags": []
   },
   "outputs": [
    {
     "name": "stderr",
     "output_type": "stream",
     "text": [
      "                                                                                \r"
     ]
    }
   ],
   "source": [
    "trips_by_month_df = trips_by_month.toPandas()\n",
    "trips_by_month_df[\"Dia\"] = 1\n",
    "trips_by_month_df[\"fecha\"] = (\n",
    "    trips_by_month_df[\"Año\"].astype(str)\n",
    "    + \"-\"\n",
    "    + trips_by_month_df[\"Mes\"].astype(str).str.zfill(2)\n",
    "    + \"-\"\n",
    "    + trips_by_month_df[\"Dia\"].astype(str).str.zfill(2)\n",
    ")"
   ]
  },
  {
   "cell_type": "code",
   "execution_count": 41,
   "metadata": {
    "tags": []
   },
   "outputs": [
    {
     "data": {
      "image/png": "[encoded data removed]",
      "text/plain": [
       "<Figure size 1000x600 with 1 Axes>"
      ]
     },
     "metadata": {},
     "output_type": "display_data"
    }
   ],
   "source": [
    "plt.figure(figsize=(10, 6))\n",
    "plt.plot(\n",
    "    trips_by_month_df[\"fecha\"],\n",
    "    trips_by_month_df[\"Total Viajes\"],\n",
    "    marker=\"o\",\n",
    "    linestyle=\"-\",\n",
    ")\n",
    "plt.title(\"Número de Viajes a Través del Tiempo\")\n",
    "plt.xlabel(\"Fecha\")\n",
    "plt.ylabel(\"Total Viajes\")\n",
    "plt.xticks(rotation=45)\n",
    "plt.grid()\n",
    "plt.tight_layout()\n",
    "plt.show()"
   ]
  },
  {
   "cell_type": "markdown",
   "metadata": {},
   "source": [
    "**Taxista con menos viajes en el tiempo**"
   ]
  },
  {
   "cell_type": "code",
   "execution_count": 42,
   "metadata": {
    "tags": []
   },
   "outputs": [
    {
     "name": "stderr",
     "output_type": "stream",
     "text": [
      "                                                                                \r"
     ]
    },
    {
     "data": {
      "image/png": "[encoded data removed]",
      "text/plain": [
       "<Figure size 1000x600 with 1 Axes>"
      ]
     },
     "metadata": {},
     "output_type": "display_data"
    }
   ],
   "source": [
    "# Obtener el Taxi ID con menos viajes\n",
    "taxista_notop_viajes = num_viajes.orderBy(\"Total viajes\", ascending=True).first()[\n",
    "    \"Taxi ID\"\n",
    "]\n",
    "taxista_df_menosviajes = df.filter(F.col(\"Taxi ID\") == taxista_notop_viajes)\n",
    "trips_by_month = (\n",
    "    taxista_df_menosviajes.groupBy(\n",
    "        year(\"Trip Start Timestamp\").alias(\"Año\"),\n",
    "        month(\"Trip Start Timestamp\").alias(\"Mes\"),\n",
    "    )\n",
    "    .agg(F.count(\"Trip ID\").alias(\"Total Viajes\"))\n",
    "    .orderBy(\"Año\", \"Mes\")\n",
    ")\n",
    "\n",
    "trips_by_month_df = trips_by_month.toPandas()\n",
    "trips_by_month_df[\"Dia\"] = 1\n",
    "trips_by_month_df[\"fecha\"] = (\n",
    "    trips_by_month_df[\"Año\"].astype(str)\n",
    "    + \"-\"\n",
    "    + trips_by_month_df[\"Mes\"].astype(str).str.zfill(2)\n",
    "    + \"-\"\n",
    "    + trips_by_month_df[\"Dia\"].astype(str).str.zfill(2)\n",
    ")\n",
    "\n",
    "# Graficar\n",
    "\n",
    "trips_by_month_df = trips_by_month_df.sort_values(\"fecha\")\n",
    "\n",
    "plt.figure(figsize=(10, 6))\n",
    "plt.plot(\n",
    "    trips_by_month_df[\"fecha\"],\n",
    "    trips_by_month_df[\"Total Viajes\"],\n",
    "    marker=\"o\",\n",
    "    linestyle=\"-\",\n",
    ")\n",
    "plt.title(\"Número de Viajes a Través del Tiempo\")\n",
    "plt.xlabel(\"Fecha\")\n",
    "plt.ylabel(\"Total Viajes\")\n",
    "plt.xticks(rotation=45)\n",
    "plt.grid()\n",
    "plt.tight_layout()\n",
    "plt.show()"
   ]
  },
  {
   "cell_type": "markdown",
   "metadata": {},
   "source": [
    "Confirmamos que el taxista que tiene más viajes, lleva trabajando desde 2023, y el taxista con menos viajes solo trabajo un día. "
   ]
  },
  {
   "cell_type": "markdown",
   "metadata": {},
   "source": [
    "## ¿En qué áreas se registran más inicios/descensos de viajes?\n",
    "\n",
    "Es posible que las zonas más demandadas sean aquellas con mayor cantidad concentraciónde personas, como aeropuertos o centro de la ciudad. "
   ]
  },
  {
   "cell_type": "code",
   "execution_count": 43,
   "metadata": {
    "tags": []
   },
   "outputs": [
    {
     "name": "stderr",
     "output_type": "stream",
     "text": [
      "[Stage 168:======================================>                (26 + 4) / 37]\r"
     ]
    },
    {
     "name": "stdout",
     "output_type": "stream",
     "text": [
      "+---------------------+-------+\n",
      "|Pickup Community Area|  count|\n",
      "+---------------------+-------+\n",
      "|                    8|2294762|\n",
      "|                   76|2252599|\n",
      "|                   32|1738432|\n",
      "|                   28| 988091|\n",
      "|                   56| 384493|\n",
      "+---------------------+-------+\n",
      "\n"
     ]
    },
    {
     "name": "stderr",
     "output_type": "stream",
     "text": [
      "                                                                                \r"
     ]
    }
   ],
   "source": [
    "top_5_pickup_areas = (\n",
    "    df.groupBy(\"Pickup Community Area\")\n",
    "    .count()\n",
    "    .orderBy(\"count\", ascending=False)\n",
    "    .limit(5)\n",
    ")\n",
    "\n",
    "# Mostrar los resultados\n",
    "top_5_pickup_areas.show()"
   ]
  },
  {
   "cell_type": "code",
   "execution_count": 44,
   "metadata": {
    "tags": []
   },
   "outputs": [
    {
     "name": "stderr",
     "output_type": "stream",
     "text": [
      "                                                                                \r"
     ]
    },
    {
     "data": {
      "image/png": "[encoded data removed]",
      "text/plain": [
       "<Figure size 2000x600 with 1 Axes>"
      ]
     },
     "metadata": {},
     "output_type": "display_data"
    }
   ],
   "source": [
    "top_5_pickup_areas_df = top_5_pickup_areas.toPandas()\n",
    "\n",
    "plt.figure(figsize=(20, 6))\n",
    "sns.barplot(x=\"Pickup Community Area\", y=\"count\", data=top_5_pickup_areas_df)\n",
    "plt.title(\"Demanda de Taxis por zona\")\n",
    "plt.xticks(rotation=45)\n",
    "plt.show()"
   ]
  },
  {
   "cell_type": "markdown",
   "metadata": {},
   "source": [
    "Las zonas con mayor zonas de **recolección** de pasajeros son: \n",
    "- 8 correspone a Near North que es parte del centro de Chicago\n",
    "- 76 es O\"Hare donde se ubica el Aeropuerto Internacional O\"Hare\n",
    "- 32 es Loop, que es parte del centro de Chicago\n",
    "- 28 es Near West Side\n",
    "- 56 es Garfield Ridge se ubica el Aeropuerto Internacional Midway"
   ]
  },
  {
   "cell_type": "code",
   "execution_count": 45,
   "metadata": {
    "tags": []
   },
   "outputs": [
    {
     "name": "stderr",
     "output_type": "stream",
     "text": [
      "[Stage 174:===============================================>       (32 + 4) / 37]\r"
     ]
    },
    {
     "name": "stdout",
     "output_type": "stream",
     "text": [
      "+----------------------+-------+\n",
      "|Dropoff Community Area|  count|\n",
      "+----------------------+-------+\n",
      "|                     8|2451261|\n",
      "|                    32|1712284|\n",
      "|                    28| 993542|\n",
      "|                    76| 588696|\n",
      "|                     6| 480062|\n",
      "+----------------------+-------+\n",
      "\n"
     ]
    },
    {
     "name": "stderr",
     "output_type": "stream",
     "text": [
      "                                                                                \r"
     ]
    }
   ],
   "source": [
    "top_5_dropoff_areas = (\n",
    "    df.filter(F.col(\"Dropoff Community Area\").isNotNull())\n",
    "    .groupBy(\"Dropoff Community Area\")\n",
    "    .count()\n",
    "    .orderBy(\"count\", ascending=False)\n",
    "    .limit(5)\n",
    ")\n",
    "\n",
    "# Mostrar los resultados\n",
    "top_5_dropoff_areas.show()"
   ]
  },
  {
   "cell_type": "markdown",
   "metadata": {},
   "source": [
    "Las zonas de mayor **descenso** de pasajeros coincide con las zonas de mayor ascenso de pasajeros"
   ]
  },
  {
   "cell_type": "code",
   "execution_count": 46,
   "metadata": {
    "tags": []
   },
   "outputs": [
    {
     "data": {
      "image/png": "[encoded data removed]",
      "text/plain": [
       "<Figure size 2000x600 with 1 Axes>"
      ]
     },
     "metadata": {},
     "output_type": "display_data"
    }
   ],
   "source": [
    "top_5_dropoff_areas_df = top_5_dropoff_areas.toPandas()\n",
    "\n",
    "plt.figure(figsize=(20, 6))\n",
    "sns.barplot(x=\"Dropoff Community Area\", y=\"count\", data=top_5_dropoff_areas_df)\n",
    "plt.title(\"Demanda de Taxis por zona (Dropoff)\")\n",
    "plt.xticks(rotation=45)\n",
    "plt.show()"
   ]
  },
  {
   "cell_type": "markdown",
   "metadata": {},
   "source": [
    "# 4. Análisis de Outliers"
   ]
  },
  {
   "cell_type": "markdown",
   "metadata": {},
   "source": [
    "## Duración del viaje"
   ]
  },
  {
   "cell_type": "code",
   "execution_count": 47,
   "metadata": {
    "tags": []
   },
   "outputs": [
    {
     "name": "stdout",
     "output_type": "stream",
     "text": [
      "Total de ceros en Trip Seconds: 204332\n"
     ]
    }
   ],
   "source": [
    "count_zeros = df.filter(F.col(\"Trip Seconds\") == 0).count()\n",
    "\n",
    "print(f\"Total de ceros en Trip Seconds: {count_zeros}\")"
   ]
  },
  {
   "cell_type": "markdown",
   "metadata": {},
   "source": [
    "Hay viajes con valores igual a 0 en la duración del viaje, que son anómales."
   ]
  },
  {
   "cell_type": "code",
   "execution_count": 48,
   "metadata": {
    "tags": []
   },
   "outputs": [
    {
     "name": "stderr",
     "output_type": "stream",
     "text": [
      "                                                                                \r"
     ]
    },
    {
     "data": {
      "image/png": "[encoded data removed]",
      "text/plain": [
       "<Figure size 1000x600 with 1 Axes>"
      ]
     },
     "metadata": {},
     "output_type": "display_data"
    }
   ],
   "source": [
    "plot_histogram(df, \"Trip Seconds\", num_bins=15)"
   ]
  },
  {
   "cell_type": "code",
   "execution_count": 49,
   "metadata": {
    "tags": []
   },
   "outputs": [
    {
     "name": "stderr",
     "output_type": "stream",
     "text": [
      "                                                                                \r"
     ]
    },
    {
     "data": {
      "image/png": "[encoded data removed]",
      "text/plain": [
       "<Figure size 800x600 with 1 Axes>"
      ]
     },
     "metadata": {},
     "output_type": "display_data"
    }
   ],
   "source": [
    "create_box_plot(df, \"Trip Seconds\")"
   ]
  },
  {
   "cell_type": "code",
   "execution_count": 50,
   "metadata": {
    "tags": []
   },
   "outputs": [
    {
     "name": "stderr",
     "output_type": "stream",
     "text": [
      "                                                                                \r"
     ]
    },
    {
     "data": {
      "text/html": [
       "<div>\n",
       "<style scoped>\n",
       "    .dataframe tbody tr th:only-of-type {\n",
       "        vertical-align: middle;\n",
       "    }\n",
       "\n",
       "    .dataframe tbody tr th {\n",
       "        vertical-align: top;\n",
       "    }\n",
       "\n",
       "    .dataframe thead th {\n",
       "        text-align: right;\n",
       "    }\n",
       "</style>\n",
       "<table border=\"1\" class=\"dataframe\">\n",
       "  <thead>\n",
       "    <tr style=\"text-align: right;\">\n",
       "      <th></th>\n",
       "      <th>Percentiles</th>\n",
       "      <th>Trip Seconds</th>\n",
       "    </tr>\n",
       "  </thead>\n",
       "  <tbody>\n",
       "    <tr>\n",
       "      <th>0</th>\n",
       "      <td>0.01</td>\n",
       "      <td>0.0</td>\n",
       "    </tr>\n",
       "    <tr>\n",
       "      <th>1</th>\n",
       "      <td>0.02</td>\n",
       "      <td>0.0</td>\n",
       "    </tr>\n",
       "    <tr>\n",
       "      <th>2</th>\n",
       "      <td>0.03</td>\n",
       "      <td>7.0</td>\n",
       "    </tr>\n",
       "    <tr>\n",
       "      <th>3</th>\n",
       "      <td>0.10</td>\n",
       "      <td>233.0</td>\n",
       "    </tr>\n",
       "    <tr>\n",
       "      <th>4</th>\n",
       "      <td>0.20</td>\n",
       "      <td>407.0</td>\n",
       "    </tr>\n",
       "    <tr>\n",
       "      <th>5</th>\n",
       "      <td>0.30</td>\n",
       "      <td>544.0</td>\n",
       "    </tr>\n",
       "    <tr>\n",
       "      <th>6</th>\n",
       "      <td>0.40</td>\n",
       "      <td>720.0</td>\n",
       "    </tr>\n",
       "    <tr>\n",
       "      <th>7</th>\n",
       "      <td>0.50</td>\n",
       "      <td>929.0</td>\n",
       "    </tr>\n",
       "    <tr>\n",
       "      <th>8</th>\n",
       "      <td>0.60</td>\n",
       "      <td>1222.0</td>\n",
       "    </tr>\n",
       "    <tr>\n",
       "      <th>9</th>\n",
       "      <td>0.70</td>\n",
       "      <td>1541.0</td>\n",
       "    </tr>\n",
       "    <tr>\n",
       "      <th>10</th>\n",
       "      <td>0.80</td>\n",
       "      <td>1940.0</td>\n",
       "    </tr>\n",
       "    <tr>\n",
       "      <th>11</th>\n",
       "      <td>0.90</td>\n",
       "      <td>2572.0</td>\n",
       "    </tr>\n",
       "    <tr>\n",
       "      <th>12</th>\n",
       "      <td>0.97</td>\n",
       "      <td>3459.0</td>\n",
       "    </tr>\n",
       "    <tr>\n",
       "      <th>13</th>\n",
       "      <td>0.98</td>\n",
       "      <td>3720.0</td>\n",
       "    </tr>\n",
       "    <tr>\n",
       "      <th>14</th>\n",
       "      <td>0.99</td>\n",
       "      <td>86382.0</td>\n",
       "    </tr>\n",
       "  </tbody>\n",
       "</table>\n",
       "</div>"
      ],
      "text/plain": [
       "    Percentiles  Trip Seconds\n",
       "0          0.01           0.0\n",
       "1          0.02           0.0\n",
       "2          0.03           7.0\n",
       "3          0.10         233.0\n",
       "4          0.20         407.0\n",
       "5          0.30         544.0\n",
       "6          0.40         720.0\n",
       "7          0.50         929.0\n",
       "8          0.60        1222.0\n",
       "9          0.70        1541.0\n",
       "10         0.80        1940.0\n",
       "11         0.90        2572.0\n",
       "12         0.97        3459.0\n",
       "13         0.98        3720.0\n",
       "14         0.99       86382.0"
      ]
     },
     "execution_count": 50,
     "metadata": {},
     "output_type": "execute_result"
    }
   ],
   "source": [
    "trip_seconds_percentiles_df = calculate_trip_seconds_percentiles(df, \"Trip Seconds\")\n",
    "trip_seconds_percentiles_df"
   ]
  },
  {
   "cell_type": "code",
   "execution_count": 51,
   "metadata": {
    "tags": []
   },
   "outputs": [
    {
     "name": "stdout",
     "output_type": "stream",
     "text": [
      "El valor del percentil 99 para \"Trip Seconds\" es: 86,382.0\n"
     ]
    }
   ],
   "source": [
    "percentile_99 = trip_seconds_percentiles_df[\n",
    "    trip_seconds_percentiles_df[\"Percentiles\"] == 0.99\n",
    "][\"Trip Seconds\"].iloc[0]\n",
    "print(f'El valor del percentil 99 para \"Trip Seconds\" es: {percentile_99:,}')"
   ]
  },
  {
   "cell_type": "markdown",
   "metadata": {},
   "source": [
    "**Filtrando para viajes válidos**"
   ]
  },
  {
   "cell_type": "code",
   "execution_count": 52,
   "metadata": {
    "tags": []
   },
   "outputs": [],
   "source": [
    "df = df.filter((F.col(\"Trip Seconds\") > 0) & (F.col(\"Trip Seconds\") < percentile_99))"
   ]
  },
  {
   "cell_type": "markdown",
   "metadata": {},
   "source": [
    "## Millas"
   ]
  },
  {
   "cell_type": "code",
   "execution_count": 53,
   "metadata": {
    "tags": []
   },
   "outputs": [
    {
     "name": "stderr",
     "output_type": "stream",
     "text": [
      "                                                                                \r"
     ]
    },
    {
     "name": "stdout",
     "output_type": "stream",
     "text": [
      "Total de ceros en Trip Miles: 943151\n",
      "Porcentaje de ceros en Trip Miles: 8.960445066159869%\n"
     ]
    }
   ],
   "source": [
    "count_zeros_M = df.filter(F.col(\"Trip Miles\") == 0).count()\n",
    "porcentaje_zero_M=(count_zeros_M/ df.count()) * 100\n",
    "\n",
    "print(f\"Total de ceros en Trip Miles: {count_zeros_M}\")\n",
    "print(f\"Porcentaje de ceros en Trip Miles: {porcentaje_zero_M}%\")"
   ]
  },
  {
   "cell_type": "code",
   "execution_count": 54,
   "metadata": {
    "tags": []
   },
   "outputs": [
    {
     "name": "stderr",
     "output_type": "stream",
     "text": [
      "                                                                                \r"
     ]
    },
    {
     "data": {
      "image/png": "[encoded data removed]",
      "text/plain": [
       "<Figure size 1000x600 with 1 Axes>"
      ]
     },
     "metadata": {},
     "output_type": "display_data"
    }
   ],
   "source": [
    "plot_histogram(df, \"Trip Miles\", num_bins=15)"
   ]
  },
  {
   "cell_type": "code",
   "execution_count": 55,
   "metadata": {
    "tags": []
   },
   "outputs": [
    {
     "name": "stderr",
     "output_type": "stream",
     "text": [
      "                                                                                \r"
     ]
    },
    {
     "data": {
      "image/png": "[encoded data removed]",
      "text/plain": [
       "<Figure size 800x600 with 1 Axes>"
      ]
     },
     "metadata": {},
     "output_type": "display_data"
    }
   ],
   "source": [
    "create_box_plot(df, \"Trip Miles\")"
   ]
  },
  {
   "cell_type": "code",
   "execution_count": 59,
   "metadata": {
    "tags": []
   },
   "outputs": [
    {
     "name": "stderr",
     "output_type": "stream",
     "text": [
      "                                                                                \r"
     ]
    },
    {
     "data": {
      "text/html": [
       "<div>\n",
       "<style scoped>\n",
       "    .dataframe tbody tr th:only-of-type {\n",
       "        vertical-align: middle;\n",
       "    }\n",
       "\n",
       "    .dataframe tbody tr th {\n",
       "        vertical-align: top;\n",
       "    }\n",
       "\n",
       "    .dataframe thead th {\n",
       "        text-align: right;\n",
       "    }\n",
       "</style>\n",
       "<table border=\"1\" class=\"dataframe\">\n",
       "  <thead>\n",
       "    <tr style=\"text-align: right;\">\n",
       "      <th></th>\n",
       "      <th>Percentiles</th>\n",
       "      <th>Trip Miles</th>\n",
       "    </tr>\n",
       "  </thead>\n",
       "  <tbody>\n",
       "    <tr>\n",
       "      <th>0</th>\n",
       "      <td>0.01</td>\n",
       "      <td>0.000000</td>\n",
       "    </tr>\n",
       "    <tr>\n",
       "      <th>1</th>\n",
       "      <td>0.02</td>\n",
       "      <td>0.000000</td>\n",
       "    </tr>\n",
       "    <tr>\n",
       "      <th>2</th>\n",
       "      <td>0.03</td>\n",
       "      <td>0.000000</td>\n",
       "    </tr>\n",
       "    <tr>\n",
       "      <th>3</th>\n",
       "      <td>0.10</td>\n",
       "      <td>0.100000</td>\n",
       "    </tr>\n",
       "    <tr>\n",
       "      <th>4</th>\n",
       "      <td>0.20</td>\n",
       "      <td>0.800000</td>\n",
       "    </tr>\n",
       "    <tr>\n",
       "      <th>5</th>\n",
       "      <td>0.30</td>\n",
       "      <td>1.230000</td>\n",
       "    </tr>\n",
       "    <tr>\n",
       "      <th>6</th>\n",
       "      <td>0.40</td>\n",
       "      <td>1.860000</td>\n",
       "    </tr>\n",
       "    <tr>\n",
       "      <th>7</th>\n",
       "      <td>0.50</td>\n",
       "      <td>3.100000</td>\n",
       "    </tr>\n",
       "    <tr>\n",
       "      <th>8</th>\n",
       "      <td>0.60</td>\n",
       "      <td>6.180000</td>\n",
       "    </tr>\n",
       "    <tr>\n",
       "      <th>9</th>\n",
       "      <td>0.70</td>\n",
       "      <td>10.420000</td>\n",
       "    </tr>\n",
       "    <tr>\n",
       "      <th>10</th>\n",
       "      <td>0.80</td>\n",
       "      <td>13.600000</td>\n",
       "    </tr>\n",
       "    <tr>\n",
       "      <th>11</th>\n",
       "      <td>0.90</td>\n",
       "      <td>17.420000</td>\n",
       "    </tr>\n",
       "    <tr>\n",
       "      <th>12</th>\n",
       "      <td>0.97</td>\n",
       "      <td>19.500000</td>\n",
       "    </tr>\n",
       "    <tr>\n",
       "      <th>13</th>\n",
       "      <td>0.98</td>\n",
       "      <td>20.799999</td>\n",
       "    </tr>\n",
       "    <tr>\n",
       "      <th>14</th>\n",
       "      <td>0.99</td>\n",
       "      <td>3397.800049</td>\n",
       "    </tr>\n",
       "  </tbody>\n",
       "</table>\n",
       "</div>"
      ],
      "text/plain": [
       "    Percentiles   Trip Miles\n",
       "0          0.01     0.000000\n",
       "1          0.02     0.000000\n",
       "2          0.03     0.000000\n",
       "3          0.10     0.100000\n",
       "4          0.20     0.800000\n",
       "5          0.30     1.230000\n",
       "6          0.40     1.860000\n",
       "7          0.50     3.100000\n",
       "8          0.60     6.180000\n",
       "9          0.70    10.420000\n",
       "10         0.80    13.600000\n",
       "11         0.90    17.420000\n",
       "12         0.97    19.500000\n",
       "13         0.98    20.799999\n",
       "14         0.99  3397.800049"
      ]
     },
     "execution_count": 59,
     "metadata": {},
     "output_type": "execute_result"
    }
   ],
   "source": [
    "trip_miles_percentiles_df = calculate_trip_seconds_percentiles(df, \"Trip Miles\")\n",
    "trip_miles_percentiles_df"
   ]
  },
  {
   "cell_type": "code",
   "execution_count": 78,
   "metadata": {
    "tags": []
   },
   "outputs": [
    {
     "name": "stderr",
     "output_type": "stream",
     "text": [
      "                                                                                \r"
     ]
    },
    {
     "name": "stdout",
     "output_type": "stream",
     "text": [
      "Cantidad de outliers: 79,792\n",
      "Porcentaje de outliers: 0.76 %\n"
     ]
    }
   ],
   "source": [
    "_ = calculate_outliers(df, \"Trip Miles\")"
   ]
  },
  {
   "cell_type": "markdown",
   "metadata": {},
   "source": [
    "Solo removeremos valores extremos para la cola derecha de la distribución e intentaremos imputar valores más adelante para los valores en 0, ya que no pueden existir viajes con un total de millas recorridas igual 0."
   ]
  },
  {
   "cell_type": "code",
   "execution_count": 71,
   "metadata": {
    "tags": []
   },
   "outputs": [
    {
     "name": "stdout",
     "output_type": "stream",
     "text": [
      "El valor del percentil 99 para \"Trip Miles\" es: 3,397.800048828125\n"
     ]
    }
   ],
   "source": [
    "percentile_99 = trip_miles_percentiles_df[\n",
    "    trip_miles_percentiles_df[\"Percentiles\"] == 0.99\n",
    "][\"Trip Miles\"].iloc[0]\n",
    "print(f'El valor del percentil 99 para \"Trip Miles\" es: {percentile_99:,}')"
   ]
  },
  {
   "cell_type": "code",
   "execution_count": 72,
   "metadata": {
    "tags": []
   },
   "outputs": [],
   "source": [
    "df = df.filter(F.col(\"Trip Miles\") < percentile_99)"
   ]
  },
  {
   "cell_type": "markdown",
   "metadata": {},
   "source": [
    "## Fare, Tips, Tolls, Extras"
   ]
  },
  {
   "cell_type": "code",
   "execution_count": 73,
   "metadata": {
    "tags": []
   },
   "outputs": [
    {
     "name": "stderr",
     "output_type": "stream",
     "text": [
      "                                                                                \r"
     ]
    },
    {
     "data": {
      "image/png": "[encoded data removed]",
      "text/plain": [
       "<Figure size 1200x800 with 1 Axes>"
      ]
     },
     "metadata": {},
     "output_type": "display_data"
    }
   ],
   "source": [
    "create_boxplot(df, [\"Fare\", \"Tips\", \"Tolls\", \"Extras\"], title=\"Fare\")"
   ]
  },
  {
   "cell_type": "code",
   "execution_count": 74,
   "metadata": {
    "tags": []
   },
   "outputs": [
    {
     "name": "stderr",
     "output_type": "stream",
     "text": [
      "                                                                                \r"
     ]
    },
    {
     "data": {
      "text/html": [
       "<div>\n",
       "<style scoped>\n",
       "    .dataframe tbody tr th:only-of-type {\n",
       "        vertical-align: middle;\n",
       "    }\n",
       "\n",
       "    .dataframe tbody tr th {\n",
       "        vertical-align: top;\n",
       "    }\n",
       "\n",
       "    .dataframe thead th {\n",
       "        text-align: right;\n",
       "    }\n",
       "</style>\n",
       "<table border=\"1\" class=\"dataframe\">\n",
       "  <thead>\n",
       "    <tr style=\"text-align: right;\">\n",
       "      <th></th>\n",
       "      <th>feature</th>\n",
       "      <th>count</th>\n",
       "      <th>%</th>\n",
       "    </tr>\n",
       "  </thead>\n",
       "  <tbody>\n",
       "    <tr>\n",
       "      <th>0</th>\n",
       "      <td>Fare</td>\n",
       "      <td>9393</td>\n",
       "      <td>0.089239</td>\n",
       "    </tr>\n",
       "    <tr>\n",
       "      <th>1</th>\n",
       "      <td>Tips</td>\n",
       "      <td>4975497</td>\n",
       "      <td>47.269919</td>\n",
       "    </tr>\n",
       "    <tr>\n",
       "      <th>2</th>\n",
       "      <td>Tolls</td>\n",
       "      <td>10470004</td>\n",
       "      <td>99.470715</td>\n",
       "    </tr>\n",
       "    <tr>\n",
       "      <th>3</th>\n",
       "      <td>Extras</td>\n",
       "      <td>6574156</td>\n",
       "      <td>62.458047</td>\n",
       "    </tr>\n",
       "  </tbody>\n",
       "</table>\n",
       "</div>"
      ],
      "text/plain": [
       "  feature     count          %\n",
       "0    Fare      9393   0.089239\n",
       "1    Tips   4975497  47.269919\n",
       "2   Tolls  10470004  99.470715\n",
       "3  Extras   6574156  62.458047"
      ]
     },
     "execution_count": 74,
     "metadata": {},
     "output_type": "execute_result"
    }
   ],
   "source": [
    "results = []\n",
    "for column in [\"Fare\", \"Tips\", \"Tolls\", \"Extras\"]:\n",
    "    count_zeros = df.filter(df[column] == 0).count()\n",
    "    total_count = df.count()\n",
    "    percentage = (count_zeros / total_count) * 100 if total_count > 0 else 0\n",
    "    results.append((column, count_zeros, percentage))\n",
    "\n",
    "results_df = pd.DataFrame(results, columns=[\"feature\", \"count\", \"%\"])\n",
    "\n",
    "results_df"
   ]
  },
  {
   "cell_type": "markdown",
   "metadata": {},
   "source": [
    "* La variable Fare en ceros es un valor anormal ya que pordefault se tiene que dar un precio minimo de inicio de 3.25 dolares\n",
    "* Las tips con valor 0, no son datos tan atipicos porque la propina depende de la decisión de cada pasajero y ningún pasajero esta obligado a dejar propina. los tips en su momento si deben ser considerados por taxi\n",
    "* En tolls aunque observemos el 99% de valores en 0, esto puede ser normal pues es mas comun que la gente viaje distancias cortas que distancias largas que necesiten pasar por casetas.\n",
    "* Los extras son situaciones extraordinarias que no siempre contarán con un valor queriendo decir que el hecho de la variable extras tenga valor 0 tampoco indica sea un valor atipico"
   ]
  },
  {
   "cell_type": "markdown",
   "metadata": {},
   "source": [
    "## Fare (Tarifa)"
   ]
  },
  {
   "cell_type": "code",
   "execution_count": 75,
   "metadata": {
    "tags": []
   },
   "outputs": [
    {
     "name": "stderr",
     "output_type": "stream",
     "text": [
      "                                                                                \r"
     ]
    },
    {
     "name": "stdout",
     "output_type": "stream",
     "text": [
      "Cantidad de outliers: 99,232\n",
      "Porcentaje de outliers: 0.94 %\n"
     ]
    }
   ],
   "source": [
    "_ = calculate_outliers(df, \"Fare\")"
   ]
  },
  {
   "cell_type": "markdown",
   "metadata": {},
   "source": [
    "Como se menciono anteriormente pordefault se tiene que dar un precio minimo de inicio de 3.25 dolares,por lo que la variable Fare en ceros es un valor anormal, y procederemos a análisis el comportamiento de los viajes para aquellos valores por debajo de la tarifa mínimca de $3.25"
   ]
  },
  {
   "cell_type": "code",
   "execution_count": 80,
   "metadata": {
    "tags": []
   },
   "outputs": [
    {
     "name": "stderr",
     "output_type": "stream",
     "text": [
      "                                                                                \r"
     ]
    },
    {
     "data": {
      "text/html": [
       "<div>\n",
       "<style scoped>\n",
       "    .dataframe tbody tr th:only-of-type {\n",
       "        vertical-align: middle;\n",
       "    }\n",
       "\n",
       "    .dataframe tbody tr th {\n",
       "        vertical-align: top;\n",
       "    }\n",
       "\n",
       "    .dataframe thead th {\n",
       "        text-align: right;\n",
       "    }\n",
       "</style>\n",
       "<table border=\"1\" class=\"dataframe\">\n",
       "  <thead>\n",
       "    <tr style=\"text-align: right;\">\n",
       "      <th></th>\n",
       "      <th>summary</th>\n",
       "      <th>Trip ID</th>\n",
       "      <th>Taxi ID</th>\n",
       "      <th>Trip Seconds</th>\n",
       "      <th>Trip Miles</th>\n",
       "      <th>Pickup Community Area</th>\n",
       "      <th>Dropoff Community Area</th>\n",
       "      <th>Fare</th>\n",
       "      <th>Tips</th>\n",
       "      <th>Tolls</th>\n",
       "      <th>Extras</th>\n",
       "      <th>Trip Total</th>\n",
       "      <th>Payment Type</th>\n",
       "      <th>Company</th>\n",
       "      <th>Pickup Centroid Latitude</th>\n",
       "      <th>Pickup Centroid Longitude</th>\n",
       "      <th>Pickup Centroid Location</th>\n",
       "      <th>Dropoff Centroid Latitude</th>\n",
       "      <th>Dropoff Centroid Longitude</th>\n",
       "      <th>Dropoff Centroid Location</th>\n",
       "    </tr>\n",
       "  </thead>\n",
       "  <tbody>\n",
       "    <tr>\n",
       "      <th>0</th>\n",
       "      <td>count</td>\n",
       "      <td>24030</td>\n",
       "      <td>24030</td>\n",
       "      <td>24030</td>\n",
       "      <td>24030</td>\n",
       "      <td>21677</td>\n",
       "      <td>22516</td>\n",
       "      <td>24030</td>\n",
       "      <td>24030</td>\n",
       "      <td>24030</td>\n",
       "      <td>24030</td>\n",
       "      <td>24030</td>\n",
       "      <td>24030</td>\n",
       "      <td>24030</td>\n",
       "      <td>21713</td>\n",
       "      <td>21713</td>\n",
       "      <td>21713</td>\n",
       "      <td>22585</td>\n",
       "      <td>22585</td>\n",
       "      <td>22585</td>\n",
       "    </tr>\n",
       "    <tr>\n",
       "      <th>1</th>\n",
       "      <td>mean</td>\n",
       "      <td>None</td>\n",
       "      <td>None</td>\n",
       "      <td>1201.3937578027467</td>\n",
       "      <td>1.557847274120787</td>\n",
       "      <td>30.014070212667804</td>\n",
       "      <td>31.164682892165573</td>\n",
       "      <td>0.5168593425631579</td>\n",
       "      <td>0.08384144847256861</td>\n",
       "      <td>0.05654556804177317</td>\n",
       "      <td>0.7119692109564736</td>\n",
       "      <td>1.396668752274719</td>\n",
       "      <td>None</td>\n",
       "      <td>None</td>\n",
       "      <td>41.88836945680583</td>\n",
       "      <td>-87.670064439933</td>\n",
       "      <td>None</td>\n",
       "      <td>41.88868357278563</td>\n",
       "      <td>-87.67670062801757</td>\n",
       "      <td>None</td>\n",
       "    </tr>\n",
       "    <tr>\n",
       "      <th>2</th>\n",
       "      <td>stddev</td>\n",
       "      <td>None</td>\n",
       "      <td>None</td>\n",
       "      <td>4261.313315537445</td>\n",
       "      <td>6.41669561842211</td>\n",
       "      <td>22.566635358380214</td>\n",
       "      <td>23.17872449448031</td>\n",
       "      <td>0.6720236051982882</td>\n",
       "      <td>1.0489887730310485</td>\n",
       "      <td>4.446555990326478</td>\n",
       "      <td>30.500573089907185</td>\n",
       "      <td>30.916476584722766</td>\n",
       "      <td>None</td>\n",
       "      <td>None</td>\n",
       "      <td>0.06469296046503846</td>\n",
       "      <td>0.0804130179968797</td>\n",
       "      <td>None</td>\n",
       "      <td>0.06675136107681551</td>\n",
       "      <td>0.08613386846841167</td>\n",
       "      <td>None</td>\n",
       "    </tr>\n",
       "    <tr>\n",
       "      <th>3</th>\n",
       "      <td>min</td>\n",
       "      <td>000084802bb6bbed2ff90cb54cfec6f0378b686e</td>\n",
       "      <td>0041f8f0c91881c1e1913f2548522495fe3c4c719aa67f...</td>\n",
       "      <td>1</td>\n",
       "      <td>0.0</td>\n",
       "      <td>1</td>\n",
       "      <td>1</td>\n",
       "      <td>0.0</td>\n",
       "      <td>0.0</td>\n",
       "      <td>0.0</td>\n",
       "      <td>0.0</td>\n",
       "      <td>0.0</td>\n",
       "      <td>Cash</td>\n",
       "      <td>312 Medallion Management Corp</td>\n",
       "      <td>41.650223</td>\n",
       "      <td>-87.91363</td>\n",
       "      <td>POINT (-87.5349029012 41.707311449)</td>\n",
       "      <td>41.650223</td>\n",
       "      <td>-87.91363</td>\n",
       "      <td>POINT (-87.5349029012 41.707311449)</td>\n",
       "    </tr>\n",
       "    <tr>\n",
       "      <th>4</th>\n",
       "      <td>max</td>\n",
       "      <td>fffd61ca1926290031dc798ab2cbb05a94167cb1</td>\n",
       "      <td>ffa006c14e54b463189c69f05ad3af2b89d20bb60e68b3...</td>\n",
       "      <td>85182</td>\n",
       "      <td>348.97</td>\n",
       "      <td>77</td>\n",
       "      <td>77</td>\n",
       "      <td>3.23</td>\n",
       "      <td>58.0</td>\n",
       "      <td>600.0</td>\n",
       "      <td>4666.64</td>\n",
       "      <td>4666.64</td>\n",
       "      <td>Unknown</td>\n",
       "      <td>Wolley Taxi</td>\n",
       "      <td>42.016045</td>\n",
       "      <td>-87.534904</td>\n",
       "      <td>POINT (-87.913624596 41.9802643146)</td>\n",
       "      <td>42.016045</td>\n",
       "      <td>-87.534904</td>\n",
       "      <td>POINT (-87.913624596 41.9802643146)</td>\n",
       "    </tr>\n",
       "  </tbody>\n",
       "</table>\n",
       "</div>"
      ],
      "text/plain": [
       "  summary                                   Trip ID                                            Taxi ID        Trip Seconds         Trip Miles Pickup Community Area Dropoff Community Area                Fare                 Tips                Tolls              Extras          Trip Total Payment Type                        Company Pickup Centroid Latitude Pickup Centroid Longitude             Pickup Centroid Location Dropoff Centroid Latitude Dropoff Centroid Longitude            Dropoff Centroid Location\n",
       "0   count                                     24030                                              24030               24030              24030                 21677                  22516               24030                24030                24030               24030               24030        24030                          24030                    21713                     21713                                21713                     22585                      22585                                22585\n",
       "1    mean                                      None                                               None  1201.3937578027467  1.557847274120787    30.014070212667804     31.164682892165573  0.5168593425631579  0.08384144847256861  0.05654556804177317  0.7119692109564736   1.396668752274719         None                           None        41.88836945680583          -87.670064439933                                 None         41.88868357278563         -87.67670062801757                                 None\n",
       "2  stddev                                      None                                               None   4261.313315537445   6.41669561842211    22.566635358380214      23.17872449448031  0.6720236051982882   1.0489887730310485    4.446555990326478  30.500573089907185  30.916476584722766         None                           None      0.06469296046503846        0.0804130179968797                                 None       0.06675136107681551        0.08613386846841167                                 None\n",
       "3     min  000084802bb6bbed2ff90cb54cfec6f0378b686e  0041f8f0c91881c1e1913f2548522495fe3c4c719aa67f...                   1                0.0                     1                      1                 0.0                  0.0                  0.0                 0.0                 0.0         Cash  312 Medallion Management Corp                41.650223                 -87.91363  POINT (-87.5349029012 41.707311449)                 41.650223                  -87.91363  POINT (-87.5349029012 41.707311449)\n",
       "4     max  fffd61ca1926290031dc798ab2cbb05a94167cb1  ffa006c14e54b463189c69f05ad3af2b89d20bb60e68b3...               85182             348.97                    77                     77                3.23                 58.0                600.0             4666.64             4666.64      Unknown                    Wolley Taxi                42.016045                -87.534904  POINT (-87.913624596 41.9802643146)                 42.016045                 -87.534904  POINT (-87.913624596 41.9802643146)"
      ]
     },
     "execution_count": 80,
     "metadata": {},
     "output_type": "execute_result"
    }
   ],
   "source": [
    "df[df[\"Fare\"] < 3.25].describe().toPandas().round(2)"
   ]
  },
  {
   "cell_type": "markdown",
   "metadata": {},
   "source": [
    "Podemos observar que hay viajes registrados con una tarifa menor a 3.25 dolares, y que sin embargo, tienen una duración de viaje y distancia recorrida mayores a 0, por lo que podemos notar una clara inconsistencia entre los valores de las variables 'Fare', 'Trip Seconds' y 'Trip Miles', por lo que optaremos por quedarnos unicamente con los viajes que tengan una tarifa a partir de $3.25 para ajustar los cobros a la tarifa base."
   ]
  },
  {
   "cell_type": "code",
   "execution_count": 81,
   "metadata": {
    "tags": []
   },
   "outputs": [],
   "source": [
    "df = df[df[\"Fare\"] >= 3.25]"
   ]
  },
  {
   "cell_type": "markdown",
   "metadata": {},
   "source": [
    "## Análisis con unidad muestral taxi"
   ]
  },
  {
   "cell_type": "markdown",
   "metadata": {
    "tags": []
   },
   "source": [
    "Procederemos a analizar los máximos de nuestros datos agrupados por taxi ya que podriamos encontrar  todavía algunos valores extremos."
   ]
  },
  {
   "cell_type": "code",
   "execution_count": 82,
   "metadata": {
    "tags": []
   },
   "outputs": [
    {
     "name": "stderr",
     "output_type": "stream",
     "text": [
      "                                                                                \r"
     ]
    },
    {
     "data": {
      "text/html": [
       "<div>\n",
       "<style scoped>\n",
       "    .dataframe tbody tr th:only-of-type {\n",
       "        vertical-align: middle;\n",
       "    }\n",
       "\n",
       "    .dataframe tbody tr th {\n",
       "        vertical-align: top;\n",
       "    }\n",
       "\n",
       "    .dataframe thead th {\n",
       "        text-align: right;\n",
       "    }\n",
       "</style>\n",
       "<table border=\"1\" class=\"dataframe\">\n",
       "  <thead>\n",
       "    <tr style=\"text-align: right;\">\n",
       "      <th></th>\n",
       "      <th>summary</th>\n",
       "      <th>Trip ID</th>\n",
       "      <th>Taxi ID</th>\n",
       "      <th>Trip Seconds</th>\n",
       "      <th>Trip Miles</th>\n",
       "      <th>Pickup Community Area</th>\n",
       "      <th>Dropoff Community Area</th>\n",
       "      <th>Fare</th>\n",
       "      <th>Tips</th>\n",
       "      <th>Tolls</th>\n",
       "      <th>Extras</th>\n",
       "      <th>Trip Total</th>\n",
       "      <th>Payment Type</th>\n",
       "      <th>Company</th>\n",
       "      <th>Pickup Centroid Latitude</th>\n",
       "      <th>Pickup Centroid Longitude</th>\n",
       "      <th>Pickup Centroid Location</th>\n",
       "      <th>Dropoff Centroid Latitude</th>\n",
       "      <th>Dropoff Centroid Longitude</th>\n",
       "      <th>Dropoff Centroid Location</th>\n",
       "    </tr>\n",
       "  </thead>\n",
       "  <tbody>\n",
       "    <tr>\n",
       "      <th>0</th>\n",
       "      <td>count</td>\n",
       "      <td>10501685</td>\n",
       "      <td>10501685</td>\n",
       "      <td>10501685</td>\n",
       "      <td>10501685</td>\n",
       "      <td>10165936</td>\n",
       "      <td>9523159</td>\n",
       "      <td>10501685</td>\n",
       "      <td>10501685</td>\n",
       "      <td>10501685</td>\n",
       "      <td>10501685</td>\n",
       "      <td>10501685</td>\n",
       "      <td>10501685</td>\n",
       "      <td>10501685</td>\n",
       "      <td>10170040</td>\n",
       "      <td>10170040</td>\n",
       "      <td>10170040</td>\n",
       "      <td>9587568</td>\n",
       "      <td>9587568</td>\n",
       "      <td>9587568</td>\n",
       "    </tr>\n",
       "    <tr>\n",
       "      <th>1</th>\n",
       "      <td>mean</td>\n",
       "      <td>None</td>\n",
       "      <td>None</td>\n",
       "      <td>1278.3908090939692</td>\n",
       "      <td>6.743023904635103</td>\n",
       "      <td>35.84230414198948</td>\n",
       "      <td>26.094708174041827</td>\n",
       "      <td>22.794961443090855</td>\n",
       "      <td>3.0073071507176037</td>\n",
       "      <td>0.04665196474913498</td>\n",
       "      <td>2.248368265687217</td>\n",
       "      <td>28.280514120360564</td>\n",
       "      <td>None</td>\n",
       "      <td>None</td>\n",
       "      <td>41.90232346220804</td>\n",
       "      <td>-87.70212632476292</td>\n",
       "      <td>None</td>\n",
       "      <td>41.893554884711385</td>\n",
       "      <td>-87.66168694565123</td>\n",
       "      <td>None</td>\n",
       "    </tr>\n",
       "    <tr>\n",
       "      <th>2</th>\n",
       "      <td>stddev</td>\n",
       "      <td>None</td>\n",
       "      <td>None</td>\n",
       "      <td>1672.2886830536327</td>\n",
       "      <td>7.665498312818328</td>\n",
       "      <td>26.34261375346035</td>\n",
       "      <td>20.86148963643651</td>\n",
       "      <td>24.84258591879348</td>\n",
       "      <td>4.278407242171224</td>\n",
       "      <td>10.18747205016023</td>\n",
       "      <td>16.903054798239854</td>\n",
       "      <td>36.832483925860515</td>\n",
       "      <td>None</td>\n",
       "      <td>None</td>\n",
       "      <td>0.06369546032614305</td>\n",
       "      <td>0.11440887635328562</td>\n",
       "      <td>None</td>\n",
       "      <td>0.05715045051164642</td>\n",
       "      <td>0.07281733872937178</td>\n",
       "      <td>None</td>\n",
       "    </tr>\n",
       "    <tr>\n",
       "      <th>3</th>\n",
       "      <td>min</td>\n",
       "      <td>00000019ef3c0b419a9e6b1843b83530b79627a4</td>\n",
       "      <td>000daaa11a2d961100513e232a1ce05391c5d797d2dc56...</td>\n",
       "      <td>1</td>\n",
       "      <td>0.0</td>\n",
       "      <td>1</td>\n",
       "      <td>1</td>\n",
       "      <td>3.25</td>\n",
       "      <td>0.0</td>\n",
       "      <td>0.0</td>\n",
       "      <td>0.0</td>\n",
       "      <td>3.25</td>\n",
       "      <td>Cash</td>\n",
       "      <td>2733 - 74600 Benny Jona</td>\n",
       "      <td>41.650223</td>\n",
       "      <td>-87.91363</td>\n",
       "      <td>POINT (-87.5313862567 41.7204632831)</td>\n",
       "      <td>41.650223</td>\n",
       "      <td>-87.91363</td>\n",
       "      <td>POINT (-87.5349029012 41.707311449)</td>\n",
       "    </tr>\n",
       "    <tr>\n",
       "      <th>4</th>\n",
       "      <td>max</td>\n",
       "      <td>ffffffdda8f2f9f98cf474cce05b7e5e34dc25e4</td>\n",
       "      <td>ffda53354c610fd3af1aee46d723028a49014e35f7280c...</td>\n",
       "      <td>86379</td>\n",
       "      <td>3093.47</td>\n",
       "      <td>77</td>\n",
       "      <td>77</td>\n",
       "      <td>9999.75</td>\n",
       "      <td>500.0</td>\n",
       "      <td>6666.66</td>\n",
       "      <td>9693.78</td>\n",
       "      <td>9999.75</td>\n",
       "      <td>Unknown</td>\n",
       "      <td>Wolley Taxi</td>\n",
       "      <td>42.021225</td>\n",
       "      <td>-87.53139</td>\n",
       "      <td>POINT (-87.913624596 41.9802643146)</td>\n",
       "      <td>42.021225</td>\n",
       "      <td>-87.534904</td>\n",
       "      <td>POINT (-87.913624596 41.9802643146)</td>\n",
       "    </tr>\n",
       "  </tbody>\n",
       "</table>\n",
       "</div>"
      ],
      "text/plain": [
       "  summary                                   Trip ID                                            Taxi ID        Trip Seconds         Trip Miles Pickup Community Area Dropoff Community Area                Fare                Tips                Tolls              Extras          Trip Total Payment Type                  Company Pickup Centroid Latitude Pickup Centroid Longitude              Pickup Centroid Location Dropoff Centroid Latitude Dropoff Centroid Longitude            Dropoff Centroid Location\n",
       "0   count                                  10501685                                           10501685            10501685           10501685              10165936                9523159            10501685            10501685             10501685            10501685            10501685     10501685                 10501685                 10170040                  10170040                              10170040                   9587568                    9587568                              9587568\n",
       "1    mean                                      None                                               None  1278.3908090939692  6.743023904635103     35.84230414198948     26.094708174041827  22.794961443090855  3.0073071507176037  0.04665196474913498   2.248368265687217  28.280514120360564         None                     None        41.90232346220804        -87.70212632476292                                  None        41.893554884711385         -87.66168694565123                                 None\n",
       "2  stddev                                      None                                               None  1672.2886830536327  7.665498312818328     26.34261375346035      20.86148963643651   24.84258591879348   4.278407242171224    10.18747205016023  16.903054798239854  36.832483925860515         None                     None      0.06369546032614305       0.11440887635328562                                  None       0.05715045051164642        0.07281733872937178                                 None\n",
       "3     min  00000019ef3c0b419a9e6b1843b83530b79627a4  000daaa11a2d961100513e232a1ce05391c5d797d2dc56...                   1                0.0                     1                      1                3.25                 0.0                  0.0                 0.0                3.25         Cash  2733 - 74600 Benny Jona                41.650223                 -87.91363  POINT (-87.5313862567 41.7204632831)                 41.650223                  -87.91363  POINT (-87.5349029012 41.707311449)\n",
       "4     max  ffffffdda8f2f9f98cf474cce05b7e5e34dc25e4  ffda53354c610fd3af1aee46d723028a49014e35f7280c...               86379            3093.47                    77                     77             9999.75               500.0              6666.66             9693.78             9999.75      Unknown              Wolley Taxi                42.021225                 -87.53139   POINT (-87.913624596 41.9802643146)                 42.021225                 -87.534904  POINT (-87.913624596 41.9802643146)"
      ]
     },
     "execution_count": 82,
     "metadata": {},
     "output_type": "execute_result"
    }
   ],
   "source": [
    "df.describe().toPandas().round(2)"
   ]
  },
  {
   "cell_type": "markdown",
   "metadata": {},
   "source": [
    "Procederemos a analizar los outliers para observar como se estan comportando. Nota: partimos del análisis a nivel viaje y posteriormente agrupamos a nivel taxi."
   ]
  },
  {
   "cell_type": "code",
   "execution_count": 83,
   "metadata": {
    "tags": []
   },
   "outputs": [
    {
     "name": "stderr",
     "output_type": "stream",
     "text": [
      "                                                                                \r"
     ]
    },
    {
     "name": "stdout",
     "output_type": "stream",
     "text": [
      "Cantidad de outliers: 94,763\n",
      "Porcentaje de outliers: 0.9 %\n"
     ]
    },
    {
     "name": "stderr",
     "output_type": "stream",
     "text": [
      "                                                                                \r"
     ]
    },
    {
     "data": {
      "text/html": [
       "<div>\n",
       "<style scoped>\n",
       "    .dataframe tbody tr th:only-of-type {\n",
       "        vertical-align: middle;\n",
       "    }\n",
       "\n",
       "    .dataframe tbody tr th {\n",
       "        vertical-align: top;\n",
       "    }\n",
       "\n",
       "    .dataframe thead th {\n",
       "        text-align: right;\n",
       "    }\n",
       "</style>\n",
       "<table border=\"1\" class=\"dataframe\">\n",
       "  <thead>\n",
       "    <tr style=\"text-align: right;\">\n",
       "      <th></th>\n",
       "      <th>summary</th>\n",
       "      <th>Trip ID</th>\n",
       "      <th>Taxi ID</th>\n",
       "      <th>Trip Seconds</th>\n",
       "      <th>Trip Miles</th>\n",
       "      <th>Pickup Community Area</th>\n",
       "      <th>Dropoff Community Area</th>\n",
       "      <th>Fare</th>\n",
       "      <th>Tips</th>\n",
       "      <th>Tolls</th>\n",
       "      <th>Extras</th>\n",
       "      <th>Trip Total</th>\n",
       "      <th>Payment Type</th>\n",
       "      <th>Company</th>\n",
       "      <th>Pickup Centroid Latitude</th>\n",
       "      <th>Pickup Centroid Longitude</th>\n",
       "      <th>Pickup Centroid Location</th>\n",
       "      <th>Dropoff Centroid Latitude</th>\n",
       "      <th>Dropoff Centroid Longitude</th>\n",
       "      <th>Dropoff Centroid Location</th>\n",
       "    </tr>\n",
       "  </thead>\n",
       "  <tbody>\n",
       "    <tr>\n",
       "      <th>0</th>\n",
       "      <td>count</td>\n",
       "      <td>94763</td>\n",
       "      <td>94763</td>\n",
       "      <td>94763</td>\n",
       "      <td>94763</td>\n",
       "      <td>77746</td>\n",
       "      <td>45283</td>\n",
       "      <td>94763</td>\n",
       "      <td>94763</td>\n",
       "      <td>94763</td>\n",
       "      <td>94763</td>\n",
       "      <td>94763</td>\n",
       "      <td>94763</td>\n",
       "      <td>94763</td>\n",
       "      <td>77857</td>\n",
       "      <td>77857</td>\n",
       "      <td>77857</td>\n",
       "      <td>45675</td>\n",
       "      <td>45675</td>\n",
       "      <td>45675</td>\n",
       "    </tr>\n",
       "    <tr>\n",
       "      <th>1</th>\n",
       "      <td>mean</td>\n",
       "      <td>None</td>\n",
       "      <td>None</td>\n",
       "      <td>3385.9040553802643</td>\n",
       "      <td>25.416745558954187</td>\n",
       "      <td>56.65185347156124</td>\n",
       "      <td>48.96998873749531</td>\n",
       "      <td>109.1372463045613</td>\n",
       "      <td>7.910986255034327</td>\n",
       "      <td>0.4416075889384988</td>\n",
       "      <td>14.55322879014649</td>\n",
       "      <td>132.28591789138608</td>\n",
       "      <td>None</td>\n",
       "      <td>None</td>\n",
       "      <td>41.917035776137794</td>\n",
       "      <td>-87.79462013346051</td>\n",
       "      <td>None</td>\n",
       "      <td>41.89275634431552</td>\n",
       "      <td>-87.74282537851819</td>\n",
       "      <td>None</td>\n",
       "    </tr>\n",
       "    <tr>\n",
       "      <th>2</th>\n",
       "      <td>stddev</td>\n",
       "      <td>None</td>\n",
       "      <td>None</td>\n",
       "      <td>4820.431479111798</td>\n",
       "      <td>27.023142444298543</td>\n",
       "      <td>24.771444466713167</td>\n",
       "      <td>25.943601372201044</td>\n",
       "      <td>181.31899980868178</td>\n",
       "      <td>12.284208947223314</td>\n",
       "      <td>27.274111172502007</td>\n",
       "      <td>25.26419449533519</td>\n",
       "      <td>186.4164257709252</td>\n",
       "      <td>None</td>\n",
       "      <td>None</td>\n",
       "      <td>0.08427988042652358</td>\n",
       "      <td>0.1271716646631008</td>\n",
       "      <td>None</td>\n",
       "      <td>0.09356232429461109</td>\n",
       "      <td>0.12940343527929002</td>\n",
       "      <td>None</td>\n",
       "    </tr>\n",
       "    <tr>\n",
       "      <th>3</th>\n",
       "      <td>min</td>\n",
       "      <td>0000afcf2f6dad2d6f4d0d476ba9df06f519adf3</td>\n",
       "      <td>0041f8f0c91881c1e1913f2548522495fe3c4c719aa67f...</td>\n",
       "      <td>1</td>\n",
       "      <td>0.0</td>\n",
       "      <td>1</td>\n",
       "      <td>1</td>\n",
       "      <td>74.78</td>\n",
       "      <td>0.0</td>\n",
       "      <td>0.0</td>\n",
       "      <td>0.0</td>\n",
       "      <td>74.78</td>\n",
       "      <td>Cash</td>\n",
       "      <td>2733 - 74600 Benny Jona</td>\n",
       "      <td>41.660137</td>\n",
       "      <td>-87.91363</td>\n",
       "      <td>POINT (-87.5349029012 41.707311449)</td>\n",
       "      <td>41.660137</td>\n",
       "      <td>-87.91363</td>\n",
       "      <td>POINT (-87.5349029012 41.707311449)</td>\n",
       "    </tr>\n",
       "    <tr>\n",
       "      <th>4</th>\n",
       "      <td>max</td>\n",
       "      <td>fffff8319d4a2c521ed3f6a34811bf8aa5600c4b</td>\n",
       "      <td>ffda53354c610fd3af1aee46d723028a49014e35f7280c...</td>\n",
       "      <td>86340</td>\n",
       "      <td>3093.47</td>\n",
       "      <td>77</td>\n",
       "      <td>77</td>\n",
       "      <td>9999.75</td>\n",
       "      <td>339.14</td>\n",
       "      <td>6666.66</td>\n",
       "      <td>2300.66</td>\n",
       "      <td>9999.75</td>\n",
       "      <td>Unknown</td>\n",
       "      <td>Wolley Taxi</td>\n",
       "      <td>42.009624</td>\n",
       "      <td>-87.534904</td>\n",
       "      <td>POINT (-87.913624596 41.9802643146)</td>\n",
       "      <td>42.015697</td>\n",
       "      <td>-87.534904</td>\n",
       "      <td>POINT (-87.913624596 41.9802643146)</td>\n",
       "    </tr>\n",
       "  </tbody>\n",
       "</table>\n",
       "</div>"
      ],
      "text/plain": [
       "  summary                                   Trip ID                                            Taxi ID        Trip Seconds          Trip Miles Pickup Community Area Dropoff Community Area                Fare                Tips               Tolls             Extras          Trip Total Payment Type                  Company Pickup Centroid Latitude Pickup Centroid Longitude             Pickup Centroid Location Dropoff Centroid Latitude Dropoff Centroid Longitude            Dropoff Centroid Location\n",
       "0   count                                     94763                                              94763               94763               94763                 77746                  45283               94763               94763               94763              94763               94763        94763                    94763                    77857                     77857                                77857                     45675                      45675                                45675\n",
       "1    mean                                      None                                               None  3385.9040553802643  25.416745558954187     56.65185347156124      48.96998873749531   109.1372463045613   7.910986255034327  0.4416075889384988  14.55322879014649  132.28591789138608         None                     None       41.917035776137794        -87.79462013346051                                 None         41.89275634431552         -87.74282537851819                                 None\n",
       "2  stddev                                      None                                               None   4820.431479111798  27.023142444298543    24.771444466713167     25.943601372201044  181.31899980868178  12.284208947223314  27.274111172502007  25.26419449533519   186.4164257709252         None                     None      0.08427988042652358        0.1271716646631008                                 None       0.09356232429461109        0.12940343527929002                                 None\n",
       "3     min  0000afcf2f6dad2d6f4d0d476ba9df06f519adf3  0041f8f0c91881c1e1913f2548522495fe3c4c719aa67f...                   1                 0.0                     1                      1               74.78                 0.0                 0.0                0.0               74.78         Cash  2733 - 74600 Benny Jona                41.660137                 -87.91363  POINT (-87.5349029012 41.707311449)                 41.660137                  -87.91363  POINT (-87.5349029012 41.707311449)\n",
       "4     max  fffff8319d4a2c521ed3f6a34811bf8aa5600c4b  ffda53354c610fd3af1aee46d723028a49014e35f7280c...               86340             3093.47                    77                     77             9999.75              339.14             6666.66            2300.66             9999.75      Unknown              Wolley Taxi                42.009624                -87.534904  POINT (-87.913624596 41.9802643146)                 42.015697                 -87.534904  POINT (-87.913624596 41.9802643146)"
      ]
     },
     "execution_count": 83,
     "metadata": {},
     "output_type": "execute_result"
    }
   ],
   "source": [
    "lower_bound, upper_bound = calculate_outliers(df, \"Fare\")\n",
    "fare_outliers = df.filter((F.col(\"Fare\") < lower_bound) | (F.col(\"Fare\") > upper_bound))\n",
    "fare_outliers_df = fare_outliers.describe().toPandas().round(2)\n",
    "fare_outliers_df"
   ]
  },
  {
   "cell_type": "markdown",
   "metadata": {},
   "source": [
    "Anteriormente analizamos los outliers a nivel viaje ahora procederemos a analizarlos a nivel taxi, para identificar al taxista que cuente con la mayor cantidad de outliers o identificar si son diferentes taxistas los que presentan valores atípicos."
   ]
  },
  {
   "cell_type": "code",
   "execution_count": 85,
   "metadata": {
    "tags": []
   },
   "outputs": [
    {
     "name": "stderr",
     "output_type": "stream",
     "text": [
      "[Stage 327:============================================>          (30 + 4) / 37]\r"
     ]
    },
    {
     "name": "stdout",
     "output_type": "stream",
     "text": [
      "El Taxi ID con la mayor cantidad de outliers es: 8a2802b8001fa243450b71eb66e6e76b4bdc4ea50cbb19aaab594d4027510119da4e93593a73a3208cd89b96e980f9e670c20e460cdc335df56c14e51eb4abe4\n"
     ]
    },
    {
     "name": "stderr",
     "output_type": "stream",
     "text": [
      "                                                                                \r"
     ]
    }
   ],
   "source": [
    "# Agrupa por \"Taxi ID\" y suma la cantidad de \"Fare\" en outliers\n",
    "conteo_outliers_por_taxista = fare_outliers.groupBy(\"Taxi ID\").agg(\n",
    "    F.sum(\"Fare\").alias(\"Total Fare\")\n",
    ")\n",
    "\n",
    "# Obtener el \"Taxi ID\" con la suma máxima de \"Fare\"\n",
    "taxista_con_mas_outliers = conteo_outliers_por_taxista.orderBy(\n",
    "    F.desc(\"Total Fare\")\n",
    ").first()[\"Taxi ID\"]\n",
    "\n",
    "print(f\"El Taxi ID con la mayor cantidad de outliers es: {taxista_con_mas_outliers}\")"
   ]
  },
  {
   "cell_type": "code",
   "execution_count": 86,
   "metadata": {
    "tags": []
   },
   "outputs": [
    {
     "name": "stderr",
     "output_type": "stream",
     "text": [
      "                                                                                \r"
     ]
    },
    {
     "data": {
      "text/plain": [
       "<Figure size 1200x600 with 0 Axes>"
      ]
     },
     "metadata": {},
     "output_type": "display_data"
    },
    {
     "data": {
      "image/png": "[encoded data removed]",
      "text/plain": [
       "<Figure size 640x480 with 1 Axes>"
      ]
     },
     "metadata": {},
     "output_type": "display_data"
    }
   ],
   "source": [
    "# Obtener los 10 taxistas con más outliers\n",
    "top_10_taxistas = (\n",
    "    conteo_outliers_por_taxista.orderBy(F.desc(\"Total Fare\")).limit(10).toPandas()\n",
    ")\n",
    "\n",
    "fig = plt.figure(figsize=(12, 6))\n",
    "top_10_taxistas.plot(kind=\"bar\", color=\"skyblue\")\n",
    "\n",
    "plt.title(\"Conteo de Outliers por los 10 Taxistas con más Outliers\")\n",
    "plt.ylabel(\"Conteo de Outliers\")\n",
    "plt.xticks(rotation=90)\n",
    "\n",
    "plt.show()"
   ]
  },
  {
   "cell_type": "markdown",
   "metadata": {},
   "source": [
    "Podemos darnos cuenta que son diferentes taxistas con outliers en la variable Fare. Por el momento nos concentraremos unicamente en el taxista con más valores atipicos"
   ]
  },
  {
   "cell_type": "code",
   "execution_count": 87,
   "metadata": {
    "tags": []
   },
   "outputs": [
    {
     "name": "stderr",
     "output_type": "stream",
     "text": [
      "                                                                                \r"
     ]
    },
    {
     "data": {
      "image/png": "[encoded data removed]",
      "text/plain": [
       "<Figure size 1200x600 with 1 Axes>"
      ]
     },
     "metadata": {},
     "output_type": "display_data"
    }
   ],
   "source": [
    "# Filtrar el DataFrame para obtener las filas del taxista con más outliers\n",
    "taxista_outliers_df = df.filter(F.col(\"Taxi ID\") == taxista_con_mas_outliers).toPandas()\n",
    "taxista_outliers_df = taxista_outliers_df.sort_values(\"Trip Start Timestamp\")\n",
    "\n",
    "plt.figure(figsize=(12, 6))\n",
    "plt.plot(taxista_outliers_df[\"Trip Start Timestamp\"], taxista_outliers_df[\"Fare\"])\n",
    "plt.title(\"Historial de Taxista anómalo\")\n",
    "plt.xlabel(\"Tiempo\")\n",
    "plt.ylabel(\"Fare\")\n",
    "plt.grid(True)\n",
    "plt.xticks(rotation=45)\n",
    "plt.show()"
   ]
  },
  {
   "cell_type": "markdown",
   "metadata": {},
   "source": [
    "## Acompletar sobre picos altos"
   ]
  },
  {
   "cell_type": "markdown",
   "metadata": {},
   "source": [
    "Podemos observar que este taxista lleva mucho tiempo realizando viajes, **aqui**, y aunque en su suma tiene fare altos podemos observar que no es el taxista con el fare max"
   ]
  },
  {
   "cell_type": "code",
   "execution_count": 88,
   "metadata": {
    "tags": []
   },
   "outputs": [
    {
     "name": "stdout",
     "output_type": "stream",
     "text": [
      "El valor máximo de Fare en los outliers es: 9999.75\n"
     ]
    },
    {
     "name": "stderr",
     "output_type": "stream",
     "text": [
      "                                                                                \r"
     ]
    }
   ],
   "source": [
    "max_fare = fare_outliers.agg(F.max(\"Fare\")).first()[0]\n",
    "print(f\"El valor máximo de Fare en los outliers es: {max_fare}\")"
   ]
  },
  {
   "cell_type": "code",
   "execution_count": null,
   "metadata": {
    "tags": []
   },
   "outputs": [],
   "source": [
    "# Filtrar el DataFrame para obtener los registros donde \"Fare\" es mayor o igual a max_fare\n",
    "anomalies_df = df.filter(F.col(\"Fare\") >= max_fare)\n",
    "\n",
    "# Obtener el \"Taxi ID\" y \"Trip ID\" de la primera fila del DataFrame filtrado\n",
    "taxi_anomalo = anomalies_df.select(\"Taxi ID\").first()[\"Taxi ID\"]\n",
    "viaje_anomalo = anomalies_df.select(\"Trip ID\").first()[\"Trip ID\"]\n",
    "\n",
    "# Imprimir el \"Taxi ID\" anómalo\n",
    "print(f\"El Taxi ID anómalo es: {taxi_anomalo}\")"
   ]
  },
  {
   "cell_type": "code",
   "execution_count": null,
   "metadata": {
    "tags": []
   },
   "outputs": [],
   "source": [
    "# Filtrar el DataFrame para obtener los datos del taxista anómalo\n",
    "taxista_data = df.filter(F.col(\"Taxi ID\") == taxi_anomalo)\n",
    "\n",
    "# Convertir las columnas a Pandas para poder graficar\n",
    "taxista_data_pd = taxista_data.toPandas()\n",
    "taxista_data_pd = taxista_data_pd.sort_values(\"Trip Start Timestamp\")\n",
    "\n",
    "# Crear la figura y el gráfico\n",
    "plt.figure(figsize=(12, 6))\n",
    "plt.plot(taxista_data_pd[\"Trip Start Timestamp\"], taxista_data_pd[\"Fare\"])\n",
    "\n",
    "# Configurar el título y las etiquetas\n",
    "plt.title(\"Historial del Taxista\")\n",
    "plt.xlabel(\"Tiempo\")\n",
    "plt.ylabel(\"Fare\")\n",
    "plt.grid(True)\n",
    "plt.xticks(rotation=45)\n",
    "\n",
    "# Mostrar la gráfica\n",
    "plt.show()"
   ]
  },
  {
   "cell_type": "code",
   "execution_count": null,
   "metadata": {
    "tags": []
   },
   "outputs": [],
   "source": [
    "trip_id_a_eliminar = viaje_anomalo\n",
    "df = df[df[\"Trip ID\"] != trip_id_a_eliminar]"
   ]
  },
  {
   "cell_type": "code",
   "execution_count": null,
   "metadata": {
    "tags": []
   },
   "outputs": [],
   "source": [
    "create_boxplot(df, [\"Fare\", \"Tips\", \"Tolls\", \"Extras\"], title=\"Fare\")"
   ]
  },
  {
   "cell_type": "code",
   "execution_count": null,
   "metadata": {
    "tags": []
   },
   "outputs": [],
   "source": [
    "descripcion = df.select(\"Fare\").summary()\n",
    "descripcion.show()"
   ]
  },
  {
   "cell_type": "code",
   "execution_count": null,
   "metadata": {
    "tags": []
   },
   "outputs": [],
   "source": [
    "calculate_and_print_percentiles(df, \"Fare\")"
   ]
  },
  {
   "cell_type": "markdown",
   "metadata": {},
   "source": [
    "## TODO: Justificar por que dejar Fare < a 200"
   ]
  },
  {
   "cell_type": "code",
   "execution_count": null,
   "metadata": {
    "tags": []
   },
   "outputs": [],
   "source": [
    "df = df.filter(F.col(\"Fare\") < 200)"
   ]
  },
  {
   "cell_type": "code",
   "execution_count": null,
   "metadata": {
    "tags": []
   },
   "outputs": [],
   "source": [
    "create_boxplot(df, [\"Fare\", \"Tips\", \"Tolls\", \"Extras\"], title=\"Montos\")"
   ]
  },
  {
   "cell_type": "markdown",
   "metadata": {},
   "source": [
    "## Peaje (Tolls)"
   ]
  },
  {
   "cell_type": "code",
   "execution_count": null,
   "metadata": {
    "tags": []
   },
   "outputs": [],
   "source": [
    "calculate_and_print_percentiles(df, \"Tolls\")"
   ]
  },
  {
   "cell_type": "code",
   "execution_count": null,
   "metadata": {
    "tags": []
   },
   "outputs": [],
   "source": [
    "count = df.filter(df[\"Tolls\"] >= 100).count()\n",
    "print(f\"El número de filas con 'Tolls' >= 100 es: {count}\")"
   ]
  },
  {
   "cell_type": "markdown",
   "metadata": {},
   "source": [
    "El monto máximo que se puede pagar en 'Tolls' es 100, por lo que se filtrarán aquellos registros con un 'Toll' mayor que $100\n",
    "https://ua.getipass.com/trip-calculator"
   ]
  },
  {
   "cell_type": "code",
   "execution_count": null,
   "metadata": {
    "tags": []
   },
   "outputs": [],
   "source": [
    "df = df.filter(df[\"Tolls\"] < 100)"
   ]
  },
  {
   "cell_type": "markdown",
   "metadata": {},
   "source": [
    "## Extras"
   ]
  },
  {
   "cell_type": "code",
   "execution_count": null,
   "metadata": {
    "tags": []
   },
   "outputs": [],
   "source": [
    "calculate_and_print_percentiles(\n",
    "    df, \"Extras\", [0.99, 0.99992, 0.99994, 0.99996, 0.99998, 0.99999]\n",
    ")"
   ]
  },
  {
   "cell_type": "markdown",
   "metadata": {},
   "source": [
    "En el caso de los extras, al considear la mayor cantidad de pasajeros y gastos de limpieza, no debería exceder arriba de $100 dólares"
   ]
  },
  {
   "cell_type": "code",
   "execution_count": null,
   "metadata": {
    "tags": []
   },
   "outputs": [],
   "source": [
    "df = df.filter(df[\"Extras\"] < 100)"
   ]
  },
  {
   "cell_type": "markdown",
   "metadata": {},
   "source": [
    "## Revisión final de Outliers"
   ]
  },
  {
   "cell_type": "code",
   "execution_count": null,
   "metadata": {
    "tags": []
   },
   "outputs": [],
   "source": [
    "create_boxplot(df, [\"Fare\", \"Tips\", \"Tolls\", \"Extras\"], title=\"Montos\")"
   ]
  },
  {
   "cell_type": "markdown",
   "metadata": {},
   "source": [
    "# 5. Análisis de Correlación"
   ]
  },
  {
   "cell_type": "code",
   "execution_count": null,
   "metadata": {
    "tags": []
   },
   "outputs": [],
   "source": [
    "# Combinar columnas en un vector usando VectorAssembler\n",
    "vector_col = \"features\"\n",
    "columns = [\n",
    "    \"Trip Seconds\",\n",
    "    \"Trip Miles\",\n",
    "    \"Fare\",\n",
    "    \"Tips\",\n",
    "    \"Tolls\",\n",
    "    \"Extras\",\n",
    "    \"Trip Total\",\n",
    "]\n",
    "assembler = VectorAssembler(inputCols=columns, outputCol=vector_col)\n",
    "df_vector = assembler.transform(df).select(vector_col)\n",
    "\n",
    "# Calcular la matriz de correlación\n",
    "correlation_matrix = Correlation.corr(df_vector, vector_col).head()[0]\n",
    "\n",
    "# Convertir la matriz a un formato legible (numpy o pandas)\n",
    "corr_array = correlation_matrix.toArray()\n",
    "corr_df = pd.DataFrame(corr_array, columns=columns, index=columns)"
   ]
  },
  {
   "cell_type": "code",
   "execution_count": null,
   "metadata": {
    "tags": []
   },
   "outputs": [],
   "source": [
    "plot_correlation_matrix(corr_df)"
   ]
  },
  {
   "cell_type": "markdown",
   "metadata": {},
   "source": [
    "## TODO: Análisis de correlación"
   ]
  },
  {
   "cell_type": "markdown",
   "metadata": {
    "tags": []
   },
   "source": [
    "# 6. Imputación de datos"
   ]
  },
  {
   "cell_type": "markdown",
   "metadata": {},
   "source": [
    "**Trip Miles**\n",
    "\n",
    "Se tiene la hipótesis de que la mayoría de los datos para la variable 'Trip Miles' en cero los podríamos recuperar calculando la distancia entre **(Pickup Centroid Latitud-Pickup Centroid Longitude)** y **(Dropoff Centroid Latitude-Dropoff Centroid Longitude)**."
   ]
  },
  {
   "cell_type": "code",
   "execution_count": null,
   "metadata": {
    "tags": []
   },
   "outputs": [],
   "source": [
    "missings_df[missings_df[\"feature\"] == \"Trip Miles\"]"
   ]
  },
  {
   "cell_type": "code",
   "execution_count": null,
   "metadata": {
    "tags": []
   },
   "outputs": [],
   "source": [
    "trip_miles_zero = df.filter(col(\"Trip Miles\") == 0)\n",
    "\n",
    "# Filtrar los datos donde las columnas de ubicación no son NaN\n",
    "filtered_data = trip_miles_zero.filter(\n",
    "    col(\"Pickup Centroid Latitude\").isNotNull()\n",
    "    & col(\"Pickup Centroid Longitude\").isNotNull()\n",
    "    & col(\"Dropoff Centroid Latitude\").isNotNull()\n",
    "    & col(\"Dropoff Centroid Longitude\").isNotNull()\n",
    ")\n",
    "\n",
    "# Contar la cantidad de registros que cumplen con las condiciones\n",
    "count_records = filtered_data.count()\n",
    "print(\n",
    "    f\"Cantidad de registros con 'Trip Miles' igual a cero y con valores diferentes a NaN en ubicaciones: {count_records}\"\n",
    ")"
   ]
  },
  {
   "cell_type": "code",
   "execution_count": null,
   "metadata": {
    "tags": []
   },
   "outputs": [],
   "source": [
    "categorias = [\n",
    "    \"Registros con Trip Miles = 0 y ubicaciones válidas\",\n",
    "    \"Registros excluidos\",\n",
    "]\n",
    "\n",
    "# Cantidad de registros que cumplen con las condiciones y registros excluidos\n",
    "trip_miles_zero_count = trip_miles_zero.count()\n",
    "cantidad_registros = [count_records, trip_miles_zero_count - count_records]\n",
    "\n",
    "# Colores para las barras\n",
    "colores = [\"lightblue\", \"lightcoral\"]\n",
    "\n",
    "# Crear el gráfico de barras\n",
    "plt.figure(figsize=(8, 6))\n",
    "plt.bar(categorias, cantidad_registros, color=colores)\n",
    "plt.title(\"Registros con Trip Miles = 0 y ubicaciones válidas\")\n",
    "plt.ylabel(\"Cantidad de Registros\")\n",
    "plt.show()"
   ]
  },
  {
   "cell_type": "markdown",
   "metadata": {},
   "source": [
    "## TODO: Análisis sobre Trip Miles igual a 0"
   ]
  },
  {
   "cell_type": "code",
   "execution_count": null,
   "metadata": {
    "tags": []
   },
   "outputs": [],
   "source": [
    "# !pip install geopy"
   ]
  },
  {
   "cell_type": "code",
   "execution_count": null,
   "metadata": {
    "tags": []
   },
   "outputs": [],
   "source": [
    "from pyspark.sql.functions import col, when, udf\n",
    "from geopy.distance import great_circle as GRC\n",
    "\n",
    "\n",
    "# Definir una función para calcular la distancia\n",
    "def calculate_distance(pickup_lat, pickup_lon, dropoff_lat, dropoff_lon):\n",
    "    try:\n",
    "        # Verificar si alguna coordenada es nula\n",
    "        if any(\n",
    "            coord is None\n",
    "            for coord in [pickup_lat, pickup_lon, dropoff_lat, dropoff_lon]\n",
    "        ):\n",
    "            return 0.0\n",
    "        # Calcular la distancia\n",
    "        pickup_coords = (pickup_lat, pickup_lon)\n",
    "        dropoff_coords = (dropoff_lat, dropoff_lon)\n",
    "        return GRC(pickup_coords, dropoff_coords).miles\n",
    "    except Exception:\n",
    "        return 0.0\n",
    "\n",
    "\n",
    "# Registrar la función como una UDF (User-Defined Function)\n",
    "calculate_distance_udf = udf(calculate_distance)\n",
    "\n",
    "# Crear una nueva columna con los valores de 'Trip Miles' imputados\n",
    "# df = df.withColumn(\n",
    "#     \"Trip Miles\",\n",
    "#     when(\n",
    "#         col(\"Trip Miles\") == 0,\n",
    "#         calculate_distance_udf(\n",
    "#             col(\"Pickup Centroid Latitude\"),\n",
    "#             col(\"Pickup Centroid Longitude\"),\n",
    "#             col(\"Dropoff Centroid Latitude\"),\n",
    "#             col(\"Dropoff Centroid Longitude\")\n",
    "#         )\n",
    "#     ).otherwise(col(\"Trip Miles\"))\n",
    "# )"
   ]
  },
  {
   "cell_type": "markdown",
   "metadata": {
    "tags": []
   },
   "source": [
    "⚠️ **Nota:** Por dificultades para usar geopy en los nodos (se tiene que instalar en cada uno) removeremos aquellos registros de Trip Miles con un valor igual a cero."
   ]
  },
  {
   "cell_type": "code",
   "execution_count": null,
   "metadata": {
    "tags": []
   },
   "outputs": [],
   "source": [
    "df = df.filter(F.col(\"Trip Miles\") != 0)"
   ]
  },
  {
   "cell_type": "markdown",
   "metadata": {},
   "source": [
    "# 7. Ingeniería de variables"
   ]
  },
  {
   "cell_type": "code",
   "execution_count": null,
   "metadata": {
    "tags": []
   },
   "outputs": [],
   "source": [
    "# Recorrido en minutos\n",
    "df = df.withColumn(\"Trip Minutes\", F.round(F.col(\"Trip Seconds\") / 60, 2))\n",
    "\n",
    "# Recorrido en horas\n",
    "df = df.withColumn(\"Trip Hours\", F.round(F.col(\"Trip Minutes\") / 60, 2))\n",
    "\n",
    "# Recorrido en kilómetros\n",
    "df = df.withColumn(\"Trip Kilometers\", F.round(F.col(\"Trip Miles\") * 1.60934, 2))\n",
    "\n",
    "# Velocidad promedio del taxi\n",
    "df = df.withColumn(\n",
    "    \"Trip Speed\", F.round(F.col(\"Trip Kilometers\") / F.col(\"Trip Hours\"), 2)\n",
    ")\n",
    "\n",
    "# Tasa de propinas\n",
    "df = df.withColumn(\"Tips Ratio\", F.round(F.col(\"Tips\") / F.col(\"Trip Total\"), 2))"
   ]
  },
  {
   "cell_type": "code",
   "execution_count": null,
   "metadata": {
    "tags": []
   },
   "outputs": [],
   "source": [
    "df.cache().count()"
   ]
  },
  {
   "cell_type": "markdown",
   "metadata": {
    "tags": []
   },
   "source": [
    "Creamos una variable binaria que nos dice si el viaje ha sido iniciado en el aeropuerto, pues esto supondría un costo extra de 4 dólares."
   ]
  },
  {
   "cell_type": "code",
   "execution_count": null,
   "metadata": {
    "tags": []
   },
   "outputs": [],
   "source": [
    "df = df.withColumn(\n",
    "    \"Is Airport\",\n",
    "    F.when(\n",
    "        (F.col(\"Pickup Community Area\") == 76) | (F.col(\"Pickup Community Area\") == 56),\n",
    "        1,\n",
    "    ).otherwise(0),\n",
    ")\n",
    "\n",
    "generate_frequency_df(df, \"Payment Type\")"
   ]
  },
  {
   "cell_type": "code",
   "execution_count": null,
   "metadata": {
    "tags": []
   },
   "outputs": [],
   "source": [
    "mapping_dict = {\n",
    "    \"Unknown\": \"Others\",\n",
    "    \"No Charge\": \"Others\",\n",
    "    \"Dispute\": \"Others\",\n",
    "    \"Prcard\": \"Others\",\n",
    "}\n",
    "\n",
    "# Aplicar el mapeo a la columna 'Payment Type'\n",
    "for key, value in mapping_dict.items():\n",
    "    df = df.withColumn(\n",
    "        \"Payment Type\",\n",
    "        F.when(F.col(\"Payment Type\") == key, value).otherwise(F.col(\"Payment Type\")),\n",
    "    )\n",
    "\n",
    "generate_frequency_df(df, \"Payment Type\")"
   ]
  },
  {
   "cell_type": "markdown",
   "metadata": {},
   "source": [
    "**Generando variables Dummy**"
   ]
  },
  {
   "cell_type": "code",
   "execution_count": null,
   "metadata": {
    "tags": []
   },
   "outputs": [],
   "source": [
    "payment_type_dummies = df.groupBy(\"Payment Type\").count().withColumn(\"dummy\", F.lit(1))\n",
    "\n",
    "# Convertir el resultado en formato de variables dummy\n",
    "dummies = payment_type_dummies.select(\n",
    "    \"Payment Type\",\n",
    "    *[\n",
    "        F.when(F.col(\"Payment Type\") == payment_type, 1)\n",
    "        .otherwise(0)\n",
    "        .alias(f\"Payment_Type_{payment_type}\")\n",
    "        for payment_type in payment_type_dummies.select(\"Payment Type\")\n",
    "        .rdd.flatMap(lambda x: x)\n",
    "        .collect()\n",
    "    ],\n",
    ")\n",
    "\n",
    "# Concatenar las variables dummy al DataFrame original\n",
    "df = df.join(dummies, on=\"Payment Type\", how=\"left\")\n",
    "\n",
    "# Eliminar la columna original 'Payment Type' si es necesario\n",
    "df = df.drop(\"Payment Type\")\n",
    "\n",
    "df.limit(5).toPandas()"
   ]
  },
  {
   "cell_type": "markdown",
   "metadata": {},
   "source": [
    "**Selección de características para usar en la ventana de tiempo**"
   ]
  },
  {
   "cell_type": "code",
   "execution_count": null,
   "metadata": {
    "tags": []
   },
   "outputs": [],
   "source": [
    "columnas_seleccionadas = [\n",
    "    \"Trip ID\",\n",
    "    \"Taxi ID\",\n",
    "    \"Is Airport\",\n",
    "    \"Trip Start Timestamp\",\n",
    "    \"Trip Speed\",\n",
    "    \"Tips Ratio\",\n",
    "    \"Trip Seconds\",\n",
    "    \"Trip Kilometers\",\n",
    "    \"Fare\",\n",
    "    \"Tips\",\n",
    "    \"Tolls\",\n",
    "    \"Extras\",\n",
    "    \"Payment_Type_Cash\",\n",
    "    \"Payment_Type_Credit Card\",\n",
    "    \"Payment_Type_Mobile\",\n",
    "    \"Payment_Type_Others\",\n",
    "]\n",
    "\n",
    "\n",
    "df = df.select(*columnas_seleccionadas)"
   ]
  },
  {
   "cell_type": "markdown",
   "metadata": {},
   "source": [
    "## TODO: Refrasear "
   ]
  },
  {
   "cell_type": "markdown",
   "metadata": {},
   "source": [
    "Se ordena los datos con respecto al tiempo y posteriormente se crea una función para generar etiquetas de las semanas consecutivas de nuestro dataset. Esto con la finalidad que posteriormente se agrupen por semana."
   ]
  },
  {
   "cell_type": "code",
   "execution_count": null,
   "metadata": {
    "tags": []
   },
   "outputs": [],
   "source": [
    "df = df.orderBy(\"Trip Start Timestamp\")\n",
    "\n",
    "# Encontrar la fecha de inicio y fin del conjunto de datos\n",
    "fecha_inicio = df.select(F.min(\"Trip Start Timestamp\")).first()[0]\n",
    "fecha_fin = df.select(F.max(\"Trip Start Timestamp\")).first()[0]\n",
    "\n",
    "\n",
    "# Crear una función para asignar etiquetas de semana consecutivas\n",
    "def assign_week_label(date):\n",
    "    # Diferencia en semanas entre la fecha dada y la fecha de inicio\n",
    "    week_number = (date - fecha_inicio).days // 7 + 1\n",
    "    return week_number\n",
    "\n",
    "\n",
    "# Registrar la función como UDF\n",
    "from pyspark.sql.functions import udf\n",
    "from pyspark.sql.types import IntegerType\n",
    "\n",
    "assign_week_udf = udf(assign_week_label, IntegerType())\n",
    "\n",
    "# Agregar una columna 'Week' con las etiquetas de semana consecutivas\n",
    "df = df.withColumn(\"Week\", assign_week_udf(F.col(\"Trip Start Timestamp\")))\n",
    "\n",
    "# Agregar una columna 'Trips' con el valor 1\n",
    "df = df.withColumn(\"Trips\", F.lit(1))"
   ]
  },
  {
   "cell_type": "code",
   "execution_count": null,
   "metadata": {
    "tags": []
   },
   "outputs": [],
   "source": [
    "df.limit(5).toPandas()"
   ]
  },
  {
   "cell_type": "code",
   "execution_count": null,
   "metadata": {
    "tags": []
   },
   "outputs": [],
   "source": [
    "# Agrupar por 'Taxi ID' y 'Week', calcular algunas estadísticas para cada grupo\n",
    "agrupado_por_taxi_semana = df.groupBy(\"Taxi ID\", \"Week\").agg(\n",
    "    F.sum(\"Trips\").alias(\"Total_Trips\"),\n",
    "    F.sum(\"Is Airport\").alias(\"Total_Is_Airport\"),\n",
    "    F.round(F.mean(\"Trip Speed\"), 2).alias(\"Avg_Trip_Speed\"),\n",
    "    F.round(F.mean(\"Tips Ratio\"), 2).alias(\"Avg_Tips_Ratio\"),\n",
    "    F.sum(\"Trip Seconds\").alias(\"Total_Trip_Seconds\"),\n",
    "    F.sum(\"Trip Kilometers\").alias(\"Total_Trip_Kilometers\"),\n",
    "    F.sum(\"Fare\").alias(\"Total_Fare\"),\n",
    "    F.sum(\"Tips\").alias(\"Total_Tips\"),\n",
    "    F.sum(\"Tolls\").alias(\"Total_Tolls\"),\n",
    "    F.sum(\"Extras\").alias(\"Total_Extras\"),\n",
    "    F.sum(\"Payment_Type_Cash\").alias(\"Total_Payment_Type_Cash\"),\n",
    "    F.sum(\"Payment_Type_Credit Card\").alias(\"Total_Payment_Type_Credit_Card\"),\n",
    "    F.sum(\"Payment_Type_Mobile\").alias(\"Total_Payment_Type_Mobile\"),\n",
    "    F.sum(\"Payment_Type_Others\").alias(\"Total_Payment_Type_Others\"),\n",
    ")\n",
    "\n",
    "agrupado_por_taxi_semana = agrupado_por_taxi_semana.orderBy([\"Taxi ID\", \"Week\"])\n",
    "\n",
    "# Mostrar el resultado del agrupamiento\n",
    "agrupado_por_taxi_semana.limit(5).toPandas()"
   ]
  },
  {
   "cell_type": "code",
   "execution_count": null,
   "metadata": {
    "tags": []
   },
   "outputs": [],
   "source": [
    "value_counts_by_week = (\n",
    "    agrupado_por_taxi_semana.groupBy(\"Week\").count().orderBy(col(\"Week\"))\n",
    ")\n",
    "\n",
    "value_counts_by_week.toPandas()"
   ]
  },
  {
   "cell_type": "code",
   "execution_count": null,
   "metadata": {
    "tags": []
   },
   "outputs": [],
   "source": [
    "%%time\n",
    "df_pivot = (\n",
    "    agrupado_por_taxi_semana.groupBy(\"Taxi ID\").pivot(\"Week\").agg(F.sum(\"Total_Fare\"))\n",
    ")\n",
    "\n",
    "# Rellenar valores nulos con 0\n",
    "df_pivot = df_pivot.na.fill(0)\n",
    "\n",
    "# Renombrar columnas para que tengan el formato deseado\n",
    "new_column_names = [\"Taxi ID\"] + [f\"W{int(col)}\" for col in df_pivot.columns[1:]]\n",
    "df_pivot = df_pivot.toDF(*new_column_names)\n",
    "\n",
    "# Mostrar el resultado\n",
    "df_pivot.limit(5).toPandas()"
   ]
  },
  {
   "cell_type": "code",
   "execution_count": null,
   "metadata": {
    "tags": []
   },
   "outputs": [],
   "source": [
    "%%time\n",
    "dataframes = []\n",
    "\n",
    "# Lista de resultados acumulados\n",
    "dataframes = []\n",
    "\n",
    "# Crear variables broadcast si son necesarias\n",
    "# En este caso, no parece haber un objeto grande para broadcast.\n",
    "# Si tienes un conjunto grande de datos usado dentro del bucle, hazlo así:\n",
    "# broadcast_var = spark.sparkContext.broadcast(large_object)\n",
    "\n",
    "# Bucle optimizado\n",
    "for t in range(5, 31):\n",
    "    lst_var = [\"W{}\".format(x) for x in range(t - 4, t + 1)]\n",
    "    lst_tgt = [\"W{}\".format(t + 1)]\n",
    "\n",
    "    # Selección y transformación de columnas en una sola operación\n",
    "    aux = df_pivot.select(*lst_var, *lst_tgt, \"Taxi ID\").selectExpr(\n",
    "        *[\"{} as t_{}\".format(var, i) for i, var in enumerate(lst_var)],\n",
    "        \"{} as y\".format(lst_tgt[0]),\n",
    "        \"'{}' as t\".format(t)  # Usamos una expresión para añadir la columna 't'\n",
    "    )\n",
    "\n",
    "    # Acumular el DataFrame intermedio en la lista\n",
    "    dataframes.append(aux)\n",
    "\n",
    "from functools import reduce\n",
    "\n",
    "f = reduce(lambda df1, df2: df1.union(df2), dataframes)\n",
    "f.toPandas().head()"
   ]
  },
  {
   "cell_type": "markdown",
   "metadata": {},
   "source": [
    "## TODO: Esta parte tarda mucho, tal vez comenzar con menos variables, en este caso median y solo con k igual a 3"
   ]
  },
  {
   "cell_type": "code",
   "execution_count": null,
   "metadata": {
    "tags": []
   },
   "outputs": [],
   "source": [
    "%%time\n",
    "# for k in [3, 5]:\n",
    "for k in [3]:\n",
    "    # for func in ['min', 'max', 'sum', 'mean', 'median', 'stddev']:\n",
    "    for func in [\"median\"]:\n",
    "        cols = [\"t_{}\".format(x) for x in range(1, k + 1)]\n",
    "\n",
    "        if func == \"median\":\n",
    "            # Para la mediana, se necesita un enfoque especial, ya que PySpark no tiene una función integrada\n",
    "            median_expr = F.expr(f\"percentile_approx(array({', '.join(cols)}), 0.5)\")\n",
    "            f = f.withColumn(f\"v_{func}_{k}\", median_expr)\n",
    "        else:\n",
    "            # Aplicamos las funciones estándar\n",
    "            agg_expr = getattr(F, func)(F.array(*[F.col(c) for c in cols]))\n",
    "            f = f.withColumn(f\"v_{func}_{k}\", agg_expr)"
   ]
  },
  {
   "cell_type": "code",
   "execution_count": null,
   "metadata": {},
   "outputs": [],
   "source": [
    "f = f.drop(*[f\"t_{x}\" for x in range(1, 6)])"
   ]
  },
  {
   "cell_type": "code",
   "execution_count": null,
   "metadata": {},
   "outputs": [],
   "source": [
    "f.limit(5).toPandas()"
   ]
  },
  {
   "cell_type": "markdown",
   "metadata": {},
   "source": [
    "# 8. Modelación"
   ]
  },
  {
   "cell_type": "code",
   "execution_count": null,
   "metadata": {},
   "outputs": [],
   "source": []
  }
 ],
 "metadata": {
  "colab": {
   "provenance": []
  },
  "kernelspec": {
   "display_name": "PySpark",
   "language": "python",
   "name": "pyspark"
  },
  "language_info": {
   "codemirror_mode": {
    "name": "ipython",
    "version": 3
   },
   "file_extension": ".py",
   "mimetype": "text/x-python",
   "name": "python",
   "nbconvert_exporter": "python",
   "pygments_lexer": "ipython3",
   "version": "3.11.8"
  }
 },
 "nbformat": 4,
 "nbformat_minor": 4
}
