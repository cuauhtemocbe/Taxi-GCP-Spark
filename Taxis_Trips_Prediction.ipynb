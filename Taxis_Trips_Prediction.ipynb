{
 "cells": [
  {
   "cell_type": "markdown",
   "metadata": {
    "id": "tllisCiaJK2m"
   },
   "source": [
    "## 1.Import de Librerías"
   ]
  },
  {
   "cell_type": "code",
   "execution_count": 70,
   "metadata": {
    "id": "xYk5hSg7JK21",
    "tags": []
   },
   "outputs": [],
   "source": [
    "# Standard library imports\n",
    "import os\n",
    "import subprocess\n",
    "from datetime import date\n",
    "\n",
    "# Third-party library imports\n",
    "import matplotlib.pyplot as plt\n",
    "import numpy as np\n",
    "import pandas as pd\n",
    "import seaborn as sns\n",
    "from IPython.display import display\n",
    "\n",
    "# PySpark imports\n",
    "from pyspark import SparkContext, HiveContext\n",
    "from pyspark.sql import DataFrame, SQLContext, SparkSession\n",
    "from pyspark.sql import functions as F\n",
    "from pyspark.sql.types import TimestampType\n",
    "\n",
    "\n",
    "pd.set_option('display.max_columns', None)\n",
    "pd.set_option('display.expand_frame_repr', False)\n",
    "\n",
    "\n",
    "def missing_values_summary(df):\n",
    "    # Columnas numéricas\n",
    "    numeric_columns = [c for c, t in df.dtypes if t in [\"double\", \"float\"]]\n",
    "\n",
    "    # Columnas no numéricas\n",
    "    other_columns = [c for c, t in df.dtypes if t not in [\"double\", \"float\"]]\n",
    "\n",
    "    # Contar valores faltantes para columnas numéricas\n",
    "    numeric_missing = [\n",
    "        F.count(F.when(F.isnan(F.col(c)) | F.col(c).isNull(), c)).alias(c) for c in numeric_columns\n",
    "    ]\n",
    "\n",
    "    # Contar valores faltantes para columnas no numéricas\n",
    "    other_missing = [\n",
    "        F.count(F.when(F.col(c).isNull(), c)).alias(c) for c in other_columns\n",
    "    ]\n",
    "\n",
    "    # Combinar resultados de valores faltantes\n",
    "    missings_df = df.select(numeric_missing + other_missing).toPandas()\n",
    "\n",
    "    # Calcular el porcentaje y reformatear como DataFrame\n",
    "    total_rows = df.count()\n",
    "    summary = []\n",
    "\n",
    "    for col_name in missings_df.columns:\n",
    "        count_missing = missings_df.at[0, col_name]\n",
    "        percentage_missing = (count_missing / total_rows) * 100\n",
    "        summary.append({\n",
    "            \"feature\": col_name,\n",
    "            \"count\": count_missing,\n",
    "            \"%\": round(percentage_missing, 2)\n",
    "        })\n",
    "\n",
    "    return pd.DataFrame(summary)\n",
    "\n",
    "\n",
    "\n",
    "def plot_histogram(data, column_name, num_bins=30):\n",
    "    \"\"\"\n",
    "    Genera un histograma de la columna especificada de un DataFrame de PySpark.\n",
    "\n",
    "    :param data: DataFrame de PySpark que contiene los datos.\n",
    "    :param column_name: Nombre de la columna a analizar.\n",
    "    :param num_bins: Número de bins para el histograma.\n",
    "    \"\"\"\n",
    "    # Obtener valores mínimo y máximo de la columna\n",
    "    min_value = data.agg(F.min(column_name)).first()[0]\n",
    "    max_value = data.agg(F.max(column_name)).first()[0]\n",
    "\n",
    "    # Calcular el ancho de los bins y los límites\n",
    "    bin_width = (max_value - min_value) / num_bins\n",
    "    bins = [min_value + i * bin_width for i in range(num_bins + 1)]\n",
    "\n",
    "    # Crear la expresión para determinar el bin\n",
    "    bin_expr = F.when(F.col(column_name) < bins[0], None)  # Caso para valores menores al mínimo\n",
    "    for i in range(num_bins):\n",
    "        bin_expr = bin_expr.when(\n",
    "            (F.col(column_name) >= bins[i]) & (F.col(column_name) < bins[i + 1]),\n",
    "            bins[i]\n",
    "        )\n",
    "    bin_expr = bin_expr.otherwise(bins[-2])  # Caso para el valor máximo\n",
    "\n",
    "    # Añadir la columna con el bin correspondiente\n",
    "    data_with_bins = data.withColumn('bin_start', bin_expr)\n",
    "\n",
    "    # Eliminar filas donde no hay un bin asignado (valores fuera del rango)\n",
    "    data_with_bins = data_with_bins.dropna(subset=['bin_start'])\n",
    "\n",
    "    # Contar las ocurrencias en cada bin\n",
    "    hist_counts = data_with_bins.groupBy('bin_start').count().orderBy('bin_start')\n",
    "\n",
    "    # Convertir a pandas para graficar\n",
    "    hist_counts_pd = hist_counts.toPandas()\n",
    "\n",
    "    # Crear el histograma usando Matplotlib\n",
    "    plt.figure(figsize=(10, 6))\n",
    "    plt.bar(\n",
    "        hist_counts_pd['bin_start'],\n",
    "        hist_counts_pd['count'],\n",
    "        width=bin_width,\n",
    "        color='blue',\n",
    "        alpha=0.7,\n",
    "        align='edge'\n",
    "    )\n",
    "    plt.title(f'Histograma de {column_name}')\n",
    "    plt.xlabel(f'{column_name} (Inicio del Bin)')\n",
    "    plt.ylabel('Frecuencia')\n",
    "    plt.xticks(rotation=45)\n",
    "    plt.grid(axis='y', alpha=0.75)\n",
    "    plt.show()\n",
    "    \n",
    "\n",
    "def create_box_plot(df, column_name):\n",
    "    \"\"\"\n",
    "    Crea un gráfico de caja a partir de un DataFrame de PySpark y una columna específica.\n",
    "\n",
    "    Args:\n",
    "        df (DataFrame): DataFrame de PySpark que contiene los datos.\n",
    "        column_name (str): Nombre de la columna para la que se generará el gráfico de caja.\n",
    "    \"\"\"\n",
    "    # Calcular estadísticas del box plot\n",
    "    box_plot_stats = df.select(\n",
    "        F.percentile_approx(column_name, 0.25).alias('Q1'),\n",
    "        F.percentile_approx(column_name, 0.5).alias('Median'),\n",
    "        F.percentile_approx(column_name, 0.75).alias('Q3'),\n",
    "        F.min(column_name).alias('Min'),\n",
    "        F.max(column_name).alias('Max')\n",
    "    ).first()\n",
    "\n",
    "    # Convertir las estadísticas a un DataFrame de pandas\n",
    "    box_plot_df = pd.DataFrame({\n",
    "        'Stat': ['Min', 'Q1', 'Median', 'Q3', 'Max'],\n",
    "        'Value': [box_plot_stats['Min'], box_plot_stats['Q1'], box_plot_stats['Median'],\n",
    "                  box_plot_stats['Q3'], box_plot_stats['Max']]\n",
    "    })\n",
    "\n",
    "    # Crear el gráfico de caja\n",
    "    plt.figure(figsize=(8, 6))\n",
    "    plt.boxplot(box_plot_df['Value'], labels=[column_name])\n",
    "    plt.title(f'Box Plot de {column_name}')\n",
    "    plt.ylabel('Seconds')\n",
    "    plt.grid(axis='y')\n",
    "    plt.show()\n",
    "    \n",
    "    \n",
    "def calculate_trip_seconds_percentiles(df, column_name):\n",
    "    # Definir los percentiles a calcular\n",
    "    percentiles = [x / 10 for x in range(1, 10)] + [0.01, 0.02, 0.03, 0.97, 0.98, 0.99]\n",
    "\n",
    "    # Calcular estadísticas descriptivas para la columna especificada\n",
    "    trip_seconds_stats = df.approxQuantile(column_name, percentiles, 0.01)\n",
    "\n",
    "    # Convertir a un DataFrame de pandas para facilitar la visualización\n",
    "    trip_seconds_df = pd.DataFrame({\n",
    "        'Percentiles': percentiles,\n",
    "        'Trip Seconds': trip_seconds_stats\n",
    "    })\n",
    "\n",
    "    # Ordenar por percentiles\n",
    "    trip_seconds_df = trip_seconds_df.sort_values(\"Percentiles\").reset_index(drop=True)\n",
    "\n",
    "    return trip_seconds_df\n",
    "\n",
    "\n",
    "def create_boxplot(df_spark, columns, title='Boxplot', figsize=(12, 8)):\n",
    "    # Verificar que todas las columnas existan en el DataFrame\n",
    "    for col in columns:\n",
    "        if col not in df_spark.columns:\n",
    "            raise ValueError(f\"La columna '{col}' no existe en el DataFrame de Spark.\")\n",
    "\n",
    "    # Calcular estadísticas para las columnas especificadas\n",
    "    box_plot_stats = df_spark.select(\n",
    "        [F.percentile_approx(col, 0.25).alias(f'{col}_Q1') for col in columns] +\n",
    "        [F.percentile_approx(col, 0.5).alias(f'{col}_Median') for col in columns] +\n",
    "        [F.percentile_approx(col, 0.75).alias(f'{col}_Q3') for col in columns] +\n",
    "        [F.min(col).alias(f'{col}_Min') for col in columns] +\n",
    "        [F.max(col).alias(f'{col}_Max') for col in columns]\n",
    "    ).first()\n",
    "\n",
    "    box_plot_data = {\n",
    "        **{col: [] for col in columns}\n",
    "    }\n",
    "    \n",
    "    for col in columns:\n",
    "        box_plot_data[col].extend([\n",
    "            box_plot_stats[f'{col}_Min'],\n",
    "            box_plot_stats[f'{col}_Q1'],\n",
    "            box_plot_stats[f'{col}_Median'],\n",
    "            box_plot_stats[f'{col}_Q3'],\n",
    "            box_plot_stats[f'{col}_Max']\n",
    "        ])\n",
    "        \n",
    "    box_plot_df = pd.DataFrame(box_plot_data)\n",
    "    melted_df = box_plot_df.melt(var_name='Variable', value_name='Value')\n",
    "\n",
    "    # Configurar el tamaño de la figura\n",
    "    plt.figure(figsize=figsize)\n",
    "    sns.boxplot(data=melted_df, x='Value', y='Variable', hue='Variable', palette='Set2', legend=False)\n",
    "    plt.xlabel('Valor')\n",
    "    plt.title(title)\n",
    "    plt.grid(True)\n",
    "    plt.show()\n",
    "\n",
    "\n",
    "def calculate_outliers(df, column):\n",
    "    # Calcular Q1 y Q3\n",
    "    q1 = df.approxQuantile(column, [0.25], 0.01)[0]\n",
    "    q3 = df.approxQuantile(column, [0.75], 0.01)[0]\n",
    "    \n",
    "    # Calcular IQR\n",
    "    iqr = q3 - q1\n",
    "    \n",
    "    # Calcular límites inferior y superior\n",
    "    lower_bound = q1 - 1.5 * iqr\n",
    "    upper_bound = q3 + 1.5 * iqr\n",
    "    \n",
    "    # Identificar outliers\n",
    "    outliers = df.filter((F.col(column) < lower_bound) | (F.col(column) > upper_bound))\n",
    "    \n",
    "    # Contar outliers\n",
    "    conteo_outliers = outliers.count()\n",
    "    \n",
    "    # Calcular el total de datos\n",
    "    total_datos = df.count()\n",
    "    \n",
    "    # Calcular el porcentaje de outliers\n",
    "    porcentaje_outliers = round((conteo_outliers / total_datos) * 100 if total_datos > 0 else 0, 2)\n",
    "    \n",
    "    print(f'Cantidad de outliers: {conteo_outliers:,}')\n",
    "    print(f'Porcentaje de outliers: {porcentaje_outliers:,} %')\n",
    "    \n",
    "    return lower_bound, upper_bound"
   ]
  },
  {
   "cell_type": "code",
   "execution_count": 2,
   "metadata": {
    "id": "DJNzXSU2JK3M",
    "tags": []
   },
   "outputs": [
    {
     "name": "stderr",
     "output_type": "stream",
     "text": [
      "24/12/20 01:59:33 WARN SparkSession: Using an existing Spark session; only runtime SQL configurations will take effect.\n"
     ]
    }
   ],
   "source": [
    "ss = SparkSession.builder.appName(\"bigdatita\").getOrCreate()"
   ]
  },
  {
   "cell_type": "markdown",
   "metadata": {
    "id": "8QTwMsGqJK2-"
   },
   "source": [
    "**2. Lectura de los archivos**"
   ]
  },
  {
   "cell_type": "code",
   "execution_count": 3,
   "metadata": {
    "id": "uFrawuVriJn3",
    "tags": []
   },
   "outputs": [
    {
     "data": {
      "text/plain": [
       "['hdfs:///user/bigdatita/taxi_trips_2023.csv',\n",
       " 'hdfs:///user/bigdatita/taxi_trips_2024.csv']"
      ]
     },
     "execution_count": 3,
     "metadata": {},
     "output_type": "execute_result"
    }
   ],
   "source": [
    "ruta = '/user/bigdatita/'\n",
    "cmd = f'hdfs dfs -ls {ruta}'\n",
    "lst = str(subprocess.check_output(cmd, shell=True)).strip().split('\\\\n')\n",
    "lst = [x.split(' ')[-1] for x in lst]\n",
    "lst = ['hdfs://%s'%x for x in lst if x!=\"items\" if x!=\"'\"]\n",
    "lst"
   ]
  },
  {
   "cell_type": "markdown",
   "metadata": {
    "id": "j3C_gaUiJK3K"
   },
   "source": [
    "**3. Lectura de archivos desde HDFS a Spark**"
   ]
  },
  {
   "cell_type": "code",
   "execution_count": 4,
   "metadata": {
    "id": "2zHQylYOJK3O",
    "tags": []
   },
   "outputs": [
    {
     "name": "stdout",
     "output_type": "stream",
     "text": [
      "hdfs:///user/bigdatita/taxi_trips_2023.csv\n"
     ]
    },
    {
     "name": "stderr",
     "output_type": "stream",
     "text": [
      "                                                                                \r"
     ]
    },
    {
     "name": "stdout",
     "output_type": "stream",
     "text": [
      "hdfs:///user/bigdatita/taxi_trips_2024.csv\n"
     ]
    },
    {
     "name": "stderr",
     "output_type": "stream",
     "text": [
      "[Stage 1:>                                                          (0 + 1) / 1]\r"
     ]
    },
    {
     "name": "stdout",
     "output_type": "stream",
     "text": [
      "CPU times: user 10.9 ms, sys: 5.77 ms, total: 16.7 ms\n",
      "Wall time: 11.4 s\n"
     ]
    },
    {
     "name": "stderr",
     "output_type": "stream",
     "text": [
      "                                                                                \r"
     ]
    }
   ],
   "source": [
    "%%time\n",
    "for i, file in enumerate(lst):\n",
    "    print(file)\n",
    "    if i==0:\n",
    "        raw_df = ss.read.csv(file, header=True, inferSchema=False)\n",
    "    else:\n",
    "        raw_df = raw_df.union(ss.read.csv(file, header=True, inferSchema=False))"
   ]
  },
  {
   "cell_type": "markdown",
   "metadata": {},
   "source": [
    "## 2.Pre procesamiento"
   ]
  },
  {
   "cell_type": "markdown",
   "metadata": {},
   "source": [
    "### Trabajando con 1000 elementos, quitar para trabajar con todo el modelo"
   ]
  },
  {
   "cell_type": "code",
   "execution_count": 5,
   "metadata": {
    "tags": []
   },
   "outputs": [],
   "source": [
    "df = raw_df.limit(1000).repartition(1).cache()"
   ]
  },
  {
   "cell_type": "code",
   "execution_count": 6,
   "metadata": {
    "id": "0FA49BZ8JK3V",
    "tags": []
   },
   "outputs": [],
   "source": [
    "date_format = 'MM/dd/yyyy hh:mm:ss a'\n",
    "\n",
    "df = df.withColumn('Trip Start Timestamp', F.to_timestamp(df['Trip Start Timestamp'], date_format).cast(TimestampType()))\n",
    "df = df.withColumn('Trip End Timestamp', F.to_timestamp(df['Trip End Timestamp'], date_format).cast(TimestampType()))\n",
    "\n",
    "df = df[(df['Trip Start Timestamp'] <= '2024-08-31')]"
   ]
  },
  {
   "cell_type": "code",
   "execution_count": 7,
   "metadata": {
    "id": "BQusS_o6JK3X",
    "tags": []
   },
   "outputs": [],
   "source": [
    "for var in ['Fare', 'Tips', 'Tolls', 'Extras', 'Trip Total']:\n",
    "    df = df.withColumn(var, df[var].cast('float'))\n",
    "    \n",
    "df = df.withColumn(\"Trip Seconds\", F.col(\"Trip Seconds\").cast(\"int\"))"
   ]
  },
  {
   "cell_type": "markdown",
   "metadata": {
    "tags": []
   },
   "source": [
    "## 3.Análisis exploratorio de Datos (EDA)"
   ]
  },
  {
   "cell_type": "code",
   "execution_count": 8,
   "metadata": {
    "id": "Ws_jQJQ-JK3e",
    "tags": []
   },
   "outputs": [
    {
     "name": "stderr",
     "output_type": "stream",
     "text": [
      "24/12/20 01:59:51 WARN SparkStringUtils: Truncated the string representation of a plan since it was too large. This behavior can be adjusted by setting 'spark.sql.debug.maxToStringFields'.\n",
      "                                                                                \r"
     ]
    },
    {
     "data": {
      "text/html": [
       "<div>\n",
       "<style scoped>\n",
       "    .dataframe tbody tr th:only-of-type {\n",
       "        vertical-align: middle;\n",
       "    }\n",
       "\n",
       "    .dataframe tbody tr th {\n",
       "        vertical-align: top;\n",
       "    }\n",
       "\n",
       "    .dataframe thead th {\n",
       "        text-align: right;\n",
       "    }\n",
       "</style>\n",
       "<table border=\"1\" class=\"dataframe\">\n",
       "  <thead>\n",
       "    <tr style=\"text-align: right;\">\n",
       "      <th></th>\n",
       "      <th>summary</th>\n",
       "      <th>Trip Seconds</th>\n",
       "      <th>Trip Miles</th>\n",
       "      <th>Pickup Census Tract</th>\n",
       "      <th>Dropoff Census Tract</th>\n",
       "      <th>Pickup Community Area</th>\n",
       "      <th>Dropoff Community Area</th>\n",
       "      <th>Fare</th>\n",
       "      <th>Tips</th>\n",
       "      <th>Tolls</th>\n",
       "      <th>Extras</th>\n",
       "      <th>Trip Total</th>\n",
       "      <th>Payment Type</th>\n",
       "      <th>Company</th>\n",
       "      <th>Pickup Centroid Latitude</th>\n",
       "      <th>Pickup Centroid Longitude</th>\n",
       "      <th>Pickup Centroid Location</th>\n",
       "      <th>Dropoff Centroid Latitude</th>\n",
       "      <th>Dropoff Centroid Longitude</th>\n",
       "      <th>Dropoff Centroid  Location</th>\n",
       "    </tr>\n",
       "  </thead>\n",
       "  <tbody>\n",
       "    <tr>\n",
       "      <th>0</th>\n",
       "      <td>count</td>\n",
       "      <td>1000</td>\n",
       "      <td>1000</td>\n",
       "      <td>163</td>\n",
       "      <td>150</td>\n",
       "      <td>913</td>\n",
       "      <td>875</td>\n",
       "      <td>1000</td>\n",
       "      <td>1000</td>\n",
       "      <td>1000</td>\n",
       "      <td>1000</td>\n",
       "      <td>1000</td>\n",
       "      <td>1000</td>\n",
       "      <td>1000</td>\n",
       "      <td>913</td>\n",
       "      <td>913</td>\n",
       "      <td>913</td>\n",
       "      <td>878</td>\n",
       "      <td>878</td>\n",
       "      <td>878</td>\n",
       "    </tr>\n",
       "    <tr>\n",
       "      <th>1</th>\n",
       "      <td>mean</td>\n",
       "      <td>1058.671</td>\n",
       "      <td>7.628070000000002</td>\n",
       "      <td>1.703175027613497E10</td>\n",
       "      <td>1.7031334979733334E10</td>\n",
       "      <td>40.88499452354874</td>\n",
       "      <td>22.162285714285716</td>\n",
       "      <td>23.883030006408692</td>\n",
       "      <td>3.6148299980442973</td>\n",
       "      <td>0.013350000023841858</td>\n",
       "      <td>2.905670000324026</td>\n",
       "      <td>30.57733001589775</td>\n",
       "      <td>None</td>\n",
       "      <td>None</td>\n",
       "      <td>41.9098688983814</td>\n",
       "      <td>-87.73538504504906</td>\n",
       "      <td>None</td>\n",
       "      <td>41.900031683005786</td>\n",
       "      <td>-87.66022232437477</td>\n",
       "      <td>None</td>\n",
       "    </tr>\n",
       "    <tr>\n",
       "      <th>2</th>\n",
       "      <td>stddev</td>\n",
       "      <td>1704.9960223399921</td>\n",
       "      <td>7.196939009482177</td>\n",
       "      <td>341800.79672155785</td>\n",
       "      <td>314846.18102644716</td>\n",
       "      <td>27.80187037017499</td>\n",
       "      <td>19.889194064519636</td>\n",
       "      <td>16.095451472079745</td>\n",
       "      <td>4.2546885403441665</td>\n",
       "      <td>0.17752688074801226</td>\n",
       "      <td>6.843211168606638</td>\n",
       "      <td>22.243982199954676</td>\n",
       "      <td>None</td>\n",
       "      <td>None</td>\n",
       "      <td>0.06566266804235026</td>\n",
       "      <td>0.12446993249312721</td>\n",
       "      <td>None</td>\n",
       "      <td>0.060615403247076774</td>\n",
       "      <td>0.05885643546420654</td>\n",
       "      <td>None</td>\n",
       "    </tr>\n",
       "    <tr>\n",
       "      <th>3</th>\n",
       "      <td>min</td>\n",
       "      <td>0</td>\n",
       "      <td>0</td>\n",
       "      <td>17031080202</td>\n",
       "      <td>17031031400</td>\n",
       "      <td>1</td>\n",
       "      <td>1</td>\n",
       "      <td>0.0</td>\n",
       "      <td>0.0</td>\n",
       "      <td>0.0</td>\n",
       "      <td>0.0</td>\n",
       "      <td>0.0</td>\n",
       "      <td>Cash</td>\n",
       "      <td>312 Medallion Management Corp</td>\n",
       "      <td>41.673819904</td>\n",
       "      <td>-87.534902901</td>\n",
       "      <td>POINT (-87.5349029012 41.707311449)</td>\n",
       "      <td>41.663670652</td>\n",
       "      <td>-87.540935513</td>\n",
       "      <td>POINT (-87.5409355129 41.6636706517)</td>\n",
       "    </tr>\n",
       "    <tr>\n",
       "      <th>4</th>\n",
       "      <td>max</td>\n",
       "      <td>48539</td>\n",
       "      <td>9.97</td>\n",
       "      <td>17031980100</td>\n",
       "      <td>17031980000</td>\n",
       "      <td>8</td>\n",
       "      <td>8</td>\n",
       "      <td>112.25</td>\n",
       "      <td>30.0</td>\n",
       "      <td>3.5</td>\n",
       "      <td>78.0</td>\n",
       "      <td>181.41</td>\n",
       "      <td>Unknown</td>\n",
       "      <td>U Taxicab</td>\n",
       "      <td>42.009622881</td>\n",
       "      <td>-87.913624596</td>\n",
       "      <td>POINT (-87.913624596 41.9802643146)</td>\n",
       "      <td>42.009622881</td>\n",
       "      <td>-87.913624596</td>\n",
       "      <td>POINT (-87.913624596 41.9802643146)</td>\n",
       "    </tr>\n",
       "  </tbody>\n",
       "</table>\n",
       "</div>"
      ],
      "text/plain": [
       "  summary        Trip Seconds         Trip Miles   Pickup Census Tract   Dropoff Census Tract Pickup Community Area Dropoff Community Area                Fare                Tips                 Tolls             Extras          Trip Total Payment Type                        Company Pickup Centroid Latitude Pickup Centroid Longitude             Pickup Centroid Location Dropoff Centroid Latitude Dropoff Centroid Longitude            Dropoff Centroid  Location\n",
       "0   count                1000               1000                   163                    150                   913                    875                1000                1000                  1000               1000                1000         1000                           1000                      913                       913                                  913                       878                        878                                   878\n",
       "1    mean            1058.671  7.628070000000002  1.703175027613497E10  1.7031334979733334E10     40.88499452354874     22.162285714285716  23.883030006408692  3.6148299980442973  0.013350000023841858  2.905670000324026   30.57733001589775         None                           None         41.9098688983814        -87.73538504504906                                 None        41.900031683005786         -87.66022232437477                                  None\n",
       "2  stddev  1704.9960223399921  7.196939009482177    341800.79672155785     314846.18102644716     27.80187037017499     19.889194064519636  16.095451472079745  4.2546885403441665   0.17752688074801226  6.843211168606638  22.243982199954676         None                           None      0.06566266804235026       0.12446993249312721                                 None      0.060615403247076774        0.05885643546420654                                  None\n",
       "3     min                   0                  0           17031080202            17031031400                     1                      1                 0.0                 0.0                   0.0                0.0                 0.0         Cash  312 Medallion Management Corp             41.673819904             -87.534902901  POINT (-87.5349029012 41.707311449)              41.663670652              -87.540935513  POINT (-87.5409355129 41.6636706517)\n",
       "4     max               48539               9.97           17031980100            17031980000                     8                      8              112.25                30.0                   3.5               78.0              181.41      Unknown                      U Taxicab             42.009622881             -87.913624596  POINT (-87.913624596 41.9802643146)              42.009622881              -87.913624596   POINT (-87.913624596 41.9802643146)"
      ]
     },
     "execution_count": 8,
     "metadata": {},
     "output_type": "execute_result"
    }
   ],
   "source": [
    "subset = [\n",
    "    'summary',\n",
    "    'Trip Seconds', 'Trip Miles',\n",
    "    'Pickup Census Tract', 'Dropoff Census Tract', 'Pickup Community Area',\n",
    "    'Dropoff Community Area', 'Fare', 'Tips', 'Tolls', 'Extras',\n",
    "    'Trip Total', 'Payment Type', 'Company', 'Pickup Centroid Latitude',\n",
    "    'Pickup Centroid Longitude', 'Pickup Centroid Location',\n",
    "    'Dropoff Centroid Latitude', 'Dropoff Centroid Longitude',\n",
    "    'Dropoff Centroid  Location'\n",
    "]\n",
    "\n",
    "describe_df = df.describe().toPandas()\n",
    "describe_df[subset].round(2)"
   ]
  },
  {
   "cell_type": "code",
   "execution_count": 9,
   "metadata": {
    "id": "qoDHDZqnJK3f",
    "tags": []
   },
   "outputs": [
    {
     "name": "stdout",
     "output_type": "stream",
     "text": [
      "+--------------------------------------------------+\n",
      "|Percentiles                                       |\n",
      "+--------------------------------------------------+\n",
      "|[0.0, 3.25, 3.25, 3.75, 53.75, 63.0, 74.0, 112.25]|\n",
      "+--------------------------------------------------+\n",
      "\n",
      "CPU times: user 4.96 ms, sys: 236 μs, total: 5.2 ms\n",
      "Wall time: 852 ms\n"
     ]
    }
   ],
   "source": [
    "%%time\n",
    "deciles = df.selectExpr(\"percentile_approx(Fare, array(0.0, 0.01, 0.02, 0.03, 0.97, 0.98, 0.99, 1.0)) as Percentiles\")\n",
    "deciles.show(truncate=False)"
   ]
  },
  {
   "cell_type": "markdown",
   "metadata": {},
   "source": [
    "### Valores nulo"
   ]
  },
  {
   "cell_type": "code",
   "execution_count": 10,
   "metadata": {
    "tags": []
   },
   "outputs": [
    {
     "data": {
      "text/html": [
       "<div>\n",
       "<style scoped>\n",
       "    .dataframe tbody tr th:only-of-type {\n",
       "        vertical-align: middle;\n",
       "    }\n",
       "\n",
       "    .dataframe tbody tr th {\n",
       "        vertical-align: top;\n",
       "    }\n",
       "\n",
       "    .dataframe thead th {\n",
       "        text-align: right;\n",
       "    }\n",
       "</style>\n",
       "<table border=\"1\" class=\"dataframe\">\n",
       "  <thead>\n",
       "    <tr style=\"text-align: right;\">\n",
       "      <th></th>\n",
       "      <th>feature</th>\n",
       "      <th>count</th>\n",
       "      <th>%</th>\n",
       "    </tr>\n",
       "  </thead>\n",
       "  <tbody>\n",
       "    <tr>\n",
       "      <th>0</th>\n",
       "      <td>Fare</td>\n",
       "      <td>0</td>\n",
       "      <td>0.0</td>\n",
       "    </tr>\n",
       "    <tr>\n",
       "      <th>1</th>\n",
       "      <td>Tips</td>\n",
       "      <td>0</td>\n",
       "      <td>0.0</td>\n",
       "    </tr>\n",
       "    <tr>\n",
       "      <th>2</th>\n",
       "      <td>Tolls</td>\n",
       "      <td>0</td>\n",
       "      <td>0.0</td>\n",
       "    </tr>\n",
       "    <tr>\n",
       "      <th>3</th>\n",
       "      <td>Extras</td>\n",
       "      <td>0</td>\n",
       "      <td>0.0</td>\n",
       "    </tr>\n",
       "    <tr>\n",
       "      <th>4</th>\n",
       "      <td>Trip Total</td>\n",
       "      <td>0</td>\n",
       "      <td>0.0</td>\n",
       "    </tr>\n",
       "    <tr>\n",
       "      <th>5</th>\n",
       "      <td>Trip ID</td>\n",
       "      <td>0</td>\n",
       "      <td>0.0</td>\n",
       "    </tr>\n",
       "    <tr>\n",
       "      <th>6</th>\n",
       "      <td>Taxi ID</td>\n",
       "      <td>0</td>\n",
       "      <td>0.0</td>\n",
       "    </tr>\n",
       "    <tr>\n",
       "      <th>7</th>\n",
       "      <td>Trip Start Timestamp</td>\n",
       "      <td>0</td>\n",
       "      <td>0.0</td>\n",
       "    </tr>\n",
       "    <tr>\n",
       "      <th>8</th>\n",
       "      <td>Trip End Timestamp</td>\n",
       "      <td>0</td>\n",
       "      <td>0.0</td>\n",
       "    </tr>\n",
       "    <tr>\n",
       "      <th>9</th>\n",
       "      <td>Trip Seconds</td>\n",
       "      <td>0</td>\n",
       "      <td>0.0</td>\n",
       "    </tr>\n",
       "    <tr>\n",
       "      <th>10</th>\n",
       "      <td>Trip Miles</td>\n",
       "      <td>0</td>\n",
       "      <td>0.0</td>\n",
       "    </tr>\n",
       "    <tr>\n",
       "      <th>11</th>\n",
       "      <td>Pickup Census Tract</td>\n",
       "      <td>837</td>\n",
       "      <td>83.7</td>\n",
       "    </tr>\n",
       "    <tr>\n",
       "      <th>12</th>\n",
       "      <td>Dropoff Census Tract</td>\n",
       "      <td>850</td>\n",
       "      <td>85.0</td>\n",
       "    </tr>\n",
       "    <tr>\n",
       "      <th>13</th>\n",
       "      <td>Pickup Community Area</td>\n",
       "      <td>87</td>\n",
       "      <td>8.7</td>\n",
       "    </tr>\n",
       "    <tr>\n",
       "      <th>14</th>\n",
       "      <td>Dropoff Community Area</td>\n",
       "      <td>125</td>\n",
       "      <td>12.5</td>\n",
       "    </tr>\n",
       "    <tr>\n",
       "      <th>15</th>\n",
       "      <td>Payment Type</td>\n",
       "      <td>0</td>\n",
       "      <td>0.0</td>\n",
       "    </tr>\n",
       "    <tr>\n",
       "      <th>16</th>\n",
       "      <td>Company</td>\n",
       "      <td>0</td>\n",
       "      <td>0.0</td>\n",
       "    </tr>\n",
       "    <tr>\n",
       "      <th>17</th>\n",
       "      <td>Pickup Centroid Latitude</td>\n",
       "      <td>87</td>\n",
       "      <td>8.7</td>\n",
       "    </tr>\n",
       "    <tr>\n",
       "      <th>18</th>\n",
       "      <td>Pickup Centroid Longitude</td>\n",
       "      <td>87</td>\n",
       "      <td>8.7</td>\n",
       "    </tr>\n",
       "    <tr>\n",
       "      <th>19</th>\n",
       "      <td>Pickup Centroid Location</td>\n",
       "      <td>87</td>\n",
       "      <td>8.7</td>\n",
       "    </tr>\n",
       "    <tr>\n",
       "      <th>20</th>\n",
       "      <td>Dropoff Centroid Latitude</td>\n",
       "      <td>122</td>\n",
       "      <td>12.2</td>\n",
       "    </tr>\n",
       "    <tr>\n",
       "      <th>21</th>\n",
       "      <td>Dropoff Centroid Longitude</td>\n",
       "      <td>122</td>\n",
       "      <td>12.2</td>\n",
       "    </tr>\n",
       "    <tr>\n",
       "      <th>22</th>\n",
       "      <td>Dropoff Centroid  Location</td>\n",
       "      <td>122</td>\n",
       "      <td>12.2</td>\n",
       "    </tr>\n",
       "  </tbody>\n",
       "</table>\n",
       "</div>"
      ],
      "text/plain": [
       "                       feature  count     %\n",
       "0                         Fare      0   0.0\n",
       "1                         Tips      0   0.0\n",
       "2                        Tolls      0   0.0\n",
       "3                       Extras      0   0.0\n",
       "4                   Trip Total      0   0.0\n",
       "5                      Trip ID      0   0.0\n",
       "6                      Taxi ID      0   0.0\n",
       "7         Trip Start Timestamp      0   0.0\n",
       "8           Trip End Timestamp      0   0.0\n",
       "9                 Trip Seconds      0   0.0\n",
       "10                  Trip Miles      0   0.0\n",
       "11         Pickup Census Tract    837  83.7\n",
       "12        Dropoff Census Tract    850  85.0\n",
       "13       Pickup Community Area     87   8.7\n",
       "14      Dropoff Community Area    125  12.5\n",
       "15                Payment Type      0   0.0\n",
       "16                     Company      0   0.0\n",
       "17    Pickup Centroid Latitude     87   8.7\n",
       "18   Pickup Centroid Longitude     87   8.7\n",
       "19    Pickup Centroid Location     87   8.7\n",
       "20   Dropoff Centroid Latitude    122  12.2\n",
       "21  Dropoff Centroid Longitude    122  12.2\n",
       "22  Dropoff Centroid  Location    122  12.2"
      ]
     },
     "execution_count": 10,
     "metadata": {},
     "output_type": "execute_result"
    }
   ],
   "source": [
    "missings_df = missing_values_summary(df)\n",
    "missings_df"
   ]
  },
  {
   "cell_type": "markdown",
   "metadata": {},
   "source": [
    "**Queremos ver cuáles son las diferencias de sectores con los que contamos para obtener si hay pickup o dropoff fuera de Chicago.**"
   ]
  },
  {
   "cell_type": "code",
   "execution_count": 11,
   "metadata": {
    "tags": []
   },
   "outputs": [
    {
     "name": "stdout",
     "output_type": "stream",
     "text": [
      "Número de valores únicos en \"Pickup Census Tract\": 16\n"
     ]
    }
   ],
   "source": [
    "# Número de valores únicos en la columna \"Pickup Census Tract\" en PySpark\n",
    "pickup_unique_count = df.select(\"Pickup Census Tract\").distinct().count()\n",
    "print(f'Número de valores únicos en \"Pickup Census Tract\": {pickup_unique_count}')"
   ]
  },
  {
   "cell_type": "code",
   "execution_count": 12,
   "metadata": {
    "tags": []
   },
   "outputs": [
    {
     "name": "stdout",
     "output_type": "stream",
     "text": [
      "Número de valores únicos en \"Dropoff Census Tract\": 25\n"
     ]
    }
   ],
   "source": [
    "# Número de valores únicos en la columna \"Pickup Census Tract\" en PySpark\n",
    "pickup_unique_count = df.select(\"Dropoff Census Tract\").distinct().count()\n",
    "print(f'Número de valores únicos en \"Dropoff Census Tract\": {pickup_unique_count}')"
   ]
  },
  {
   "cell_type": "code",
   "execution_count": 13,
   "metadata": {
    "tags": []
   },
   "outputs": [
    {
     "name": "stdout",
     "output_type": "stream",
     "text": [
      "Número de valores únicos en los primeros 5 caracteres de \"Pickup Census Tract\": 2\n",
      "Valores únicos en los primeros 5 caracteres de 'Pickup Census Tract':\n",
      "17031\n",
      "None\n"
     ]
    }
   ],
   "source": [
    "# Obtener los valores únicos truncados de \"Dropoff Census Tract\"\n",
    "Pickup_unique = df.select(F.substring(F.col(\"Pickup Census Tract\"), 1, 5).alias(\"truncated_Pickup\")) \\\n",
    "    .distinct()\n",
    "\n",
    "# Imprimir el número de valores únicos\n",
    "print(f'Número de valores únicos en los primeros 5 caracteres de \"Pickup Census Tract\": {Pickup_unique.count()}')\n",
    "\n",
    "# Imprimir los valores únicos\n",
    "unique_values_Pickup = Pickup_unique.collect()\n",
    "print(\"Valores únicos en los primeros 5 caracteres de 'Pickup Census Tract':\")\n",
    "for row in unique_values_Pickup:\n",
    "    print(row[\"truncated_Pickup\"])"
   ]
  },
  {
   "cell_type": "code",
   "execution_count": 14,
   "metadata": {
    "tags": []
   },
   "outputs": [
    {
     "name": "stdout",
     "output_type": "stream",
     "text": [
      "Número de valores únicos en los primeros 5 caracteres de \"Dropoff Census Tract\": 2\n",
      "Valores únicos en los primeros 5 caracteres de 'Dropoff Census Tract':\n",
      "17031\n",
      "None\n"
     ]
    }
   ],
   "source": [
    "# Obtener los valores únicos truncados de \"Dropoff Census Tract\"\n",
    "dropoff_unique = df.select(F.substring(F.col(\"Dropoff Census Tract\"), 1, 5).alias(\"truncated_dropoff\")) \\\n",
    "    .distinct()\n",
    "\n",
    "# Imprimir el número de valores únicos\n",
    "print(f'Número de valores únicos en los primeros 5 caracteres de \"Dropoff Census Tract\": {dropoff_unique.count()}')\n",
    "\n",
    "# Imprimir los valores únicos\n",
    "unique_values = dropoff_unique.collect()\n",
    "print(\"Valores únicos en los primeros 5 caracteres de 'Dropoff Census Tract':\")\n",
    "for row in unique_values:\n",
    "    print(row[\"truncated_dropoff\"])"
   ]
  },
  {
   "cell_type": "markdown",
   "metadata": {},
   "source": [
    "**Observaciones**\n",
    "\n",
    "El registro de sectores en Chicago es únicamente de 5 dígitos y el registro de los Census Tract estan dados en 11 dígitos, si reducimos estos digitos y unicamente nos quedamos con los 5 útiles podremos darnos cuentas que todos nuestros viajes son dentro del Condado de Cook."
   ]
  },
  {
   "cell_type": "markdown",
   "metadata": {},
   "source": [
    "**Conclusión**\n",
    "\n",
    "Por la cantidad de datos faltantes en Census Tract tanto en Pickup como Dropoff, y además al ser una variable unaria ya que la información contenida está en función del mismo sector, la variable resulta poco relevante para el análisis. Adicionalmente, carece de sentido aplicar imputación. Por lo que se deben eliminar dichas variables."
   ]
  },
  {
   "cell_type": "code",
   "execution_count": 15,
   "metadata": {
    "tags": []
   },
   "outputs": [
    {
     "name": "stdout",
     "output_type": "stream",
     "text": [
      "root\n",
      " |-- Trip ID: string (nullable = true)\n",
      " |-- Taxi ID: string (nullable = true)\n",
      " |-- Trip Start Timestamp: timestamp (nullable = true)\n",
      " |-- Trip End Timestamp: timestamp (nullable = true)\n",
      " |-- Trip Seconds: integer (nullable = true)\n",
      " |-- Trip Miles: string (nullable = true)\n",
      " |-- Pickup Community Area: string (nullable = true)\n",
      " |-- Dropoff Community Area: string (nullable = true)\n",
      " |-- Fare: float (nullable = true)\n",
      " |-- Tips: float (nullable = true)\n",
      " |-- Tolls: float (nullable = true)\n",
      " |-- Extras: float (nullable = true)\n",
      " |-- Trip Total: float (nullable = true)\n",
      " |-- Payment Type: string (nullable = true)\n",
      " |-- Company: string (nullable = true)\n",
      " |-- Pickup Centroid Latitude: string (nullable = true)\n",
      " |-- Pickup Centroid Longitude: string (nullable = true)\n",
      " |-- Pickup Centroid Location: string (nullable = true)\n",
      " |-- Dropoff Centroid Latitude: string (nullable = true)\n",
      " |-- Dropoff Centroid Longitude: string (nullable = true)\n",
      " |-- Dropoff Centroid  Location: string (nullable = true)\n",
      "\n"
     ]
    }
   ],
   "source": [
    "columns_to_exclude = ['Pickup Census Tract', 'Dropoff Census Tract']\n",
    "# Eliminar columnas en PySpark\n",
    "df = df.drop(*columns_to_exclude)\n",
    "# Verificar el esquema para confirmar que se eliminaron las columnas\n",
    "df.printSchema()"
   ]
  },
  {
   "cell_type": "markdown",
   "metadata": {},
   "source": [
    "**Como el objetivo principal es generar una TAD por taxi (no por viaje), es importante identificar si existen taxis que tengan algún problema al registrar su total de pagos.**"
   ]
  },
  {
   "cell_type": "code",
   "execution_count": 16,
   "metadata": {
    "tags": []
   },
   "outputs": [
    {
     "name": "stdout",
     "output_type": "stream",
     "text": [
      "+-------+---------------------------------------------+\n",
      "|Taxi ID|Cantidad de registros con Trip Total faltante|\n",
      "+-------+---------------------------------------------+\n",
      "+-------+---------------------------------------------+\n",
      "\n"
     ]
    }
   ],
   "source": [
    "taxistas_con_valores_faltantes = df.filter(F.col('Trip Total').isNull()).groupby('Taxi ID').agg(F.count(\"*\").alias('Cantidad de registros con Trip Total faltante'))\n",
    "taxistas_con_valores_faltantes = taxistas_con_valores_faltantes.orderBy(F.col('Cantidad de registros con Trip Total faltante').desc())\n",
    "taxistas_con_valores_faltantes.show()"
   ]
  },
  {
   "cell_type": "code",
   "execution_count": 17,
   "metadata": {
    "tags": []
   },
   "outputs": [
    {
     "data": {
      "text/html": [
       "<div>\n",
       "<style scoped>\n",
       "    .dataframe tbody tr th:only-of-type {\n",
       "        vertical-align: middle;\n",
       "    }\n",
       "\n",
       "    .dataframe tbody tr th {\n",
       "        vertical-align: top;\n",
       "    }\n",
       "\n",
       "    .dataframe thead th {\n",
       "        text-align: right;\n",
       "    }\n",
       "</style>\n",
       "<table border=\"1\" class=\"dataframe\">\n",
       "  <thead>\n",
       "    <tr style=\"text-align: right;\">\n",
       "      <th></th>\n",
       "      <th>Taxi ID</th>\n",
       "      <th>Cantidad de registros con Trip Total faltante</th>\n",
       "      <th>Total de registros por taxista</th>\n",
       "      <th>Porcentaje de registros faltantes</th>\n",
       "    </tr>\n",
       "  </thead>\n",
       "  <tbody>\n",
       "  </tbody>\n",
       "</table>\n",
       "</div>"
      ],
      "text/plain": [
       "Empty DataFrame\n",
       "Columns: [Taxi ID, Cantidad de registros con Trip Total faltante, Total de registros por taxista, Porcentaje de registros faltantes]\n",
       "Index: []"
      ]
     },
     "execution_count": 17,
     "metadata": {},
     "output_type": "execute_result"
    }
   ],
   "source": [
    "# Calcular el total de registros por taxista\n",
    "total_registros_por_taxista=df.groupby('Taxi ID').agg(F.count(\"*\").alias('Total de registros por taxista'))\n",
    "# Cruzar el DataFrame de taxistas_con_valores_faltantes con el DataFrame total_registros_por_taxista\n",
    "taxistas_con_valores_faltantes=taxistas_con_valores_faltantes.join(total_registros_por_taxista, on='Taxi ID',how='inner')\n",
    "# Calcular el porcentaje de registros faltantes por taxista\n",
    "taxistas_con_valores_faltantes=taxistas_con_valores_faltantes.withColumn('Porcentaje de registros faltantes',(F.col('Cantidad de registros con Trip Total faltante')/F.col('Total de registros por taxista'))*100)\n",
    "taxistas_con_valores_faltantes=taxistas_con_valores_faltantes.orderBy(F.col('Porcentaje de registros faltantes').desc())\n",
    "taxistas_con_valores_faltantes.toPandas()"
   ]
  },
  {
   "cell_type": "markdown",
   "metadata": {},
   "source": [
    "Podemos darnos cuenta que el taxista con la mayor afectación es de más del 40% de sus registros, por lo que se recomienda pornerse en contacto con los conductores priorizando aquellos que tengan mayor afectación (mayor cantidad de montos sin registro)."
   ]
  },
  {
   "cell_type": "code",
   "execution_count": 19,
   "metadata": {
    "tags": []
   },
   "outputs": [],
   "source": [
    "df = df.filter(F.col('Trip Total').isNotNull())"
   ]
  },
  {
   "cell_type": "markdown",
   "metadata": {},
   "source": [
    "Al eliminar los registros que no cuentan con **'Trip Total'** también se eliminan todos aquellos registros relacionados el desglose de montos, es decir, los montos asociados a las variables 'Fare', 'Extras', 'Tolls' y 'Tips'."
   ]
  },
  {
   "cell_type": "markdown",
   "metadata": {},
   "source": [
    "#### Missings en Trip Seconds"
   ]
  },
  {
   "cell_type": "markdown",
   "metadata": {},
   "source": [
    "Debido a que contamos con valores ausentes en la variable 'Trip Seconds' equivalentes al 0.0143% de los datos y a que no contamos con suficiente informacion para imputar valores basándonos en calcular la diferencia en segundos de los viajes entre las variables 'Trip End Timestamp' y 'Trip Start Timestamp' para interpolar los datos faltantes ya que estos no corresponden por completo a la variable 'Trip Seconds', y que adicionalmente, en algunos casos la diferencia es considerable. Se concluye que lo más recomendable es eliminar estos registros."
   ]
  },
  {
   "cell_type": "code",
   "execution_count": 20,
   "metadata": {
    "tags": []
   },
   "outputs": [],
   "source": [
    "df = df.filter(F.col('Trip Seconds').isNotNull())"
   ]
  },
  {
   "cell_type": "markdown",
   "metadata": {},
   "source": [
    "#### Missings en Trip Miles"
   ]
  },
  {
   "cell_type": "code",
   "execution_count": 21,
   "metadata": {
    "tags": []
   },
   "outputs": [
    {
     "data": {
      "text/plain": [
       "0"
      ]
     },
     "execution_count": 21,
     "metadata": {},
     "output_type": "execute_result"
    }
   ],
   "source": [
    "Trip_Miles=df.filter(F.col('Trip Miles').isNull())\n",
    "Trip_Miles.count()"
   ]
  },
  {
   "cell_type": "markdown",
   "metadata": {},
   "source": [
    "Revisamos cómo se comportan estos valores para los registros en Trip Miles."
   ]
  },
  {
   "cell_type": "code",
   "execution_count": 22,
   "metadata": {
    "tags": []
   },
   "outputs": [
    {
     "name": "stderr",
     "output_type": "stream",
     "text": [
      "                                                                                \r"
     ]
    },
    {
     "data": {
      "text/html": [
       "<div>\n",
       "<style scoped>\n",
       "    .dataframe tbody tr th:only-of-type {\n",
       "        vertical-align: middle;\n",
       "    }\n",
       "\n",
       "    .dataframe tbody tr th {\n",
       "        vertical-align: top;\n",
       "    }\n",
       "\n",
       "    .dataframe thead th {\n",
       "        text-align: right;\n",
       "    }\n",
       "</style>\n",
       "<table border=\"1\" class=\"dataframe\">\n",
       "  <thead>\n",
       "    <tr style=\"text-align: right;\">\n",
       "      <th></th>\n",
       "      <th>summary</th>\n",
       "      <th>Trip ID</th>\n",
       "      <th>Taxi ID</th>\n",
       "      <th>Trip Seconds</th>\n",
       "      <th>Trip Miles</th>\n",
       "      <th>Pickup Community Area</th>\n",
       "      <th>Dropoff Community Area</th>\n",
       "      <th>Fare</th>\n",
       "      <th>Tips</th>\n",
       "      <th>Tolls</th>\n",
       "      <th>Extras</th>\n",
       "      <th>Trip Total</th>\n",
       "      <th>Payment Type</th>\n",
       "      <th>Company</th>\n",
       "      <th>Pickup Centroid Latitude</th>\n",
       "      <th>Pickup Centroid Longitude</th>\n",
       "      <th>Pickup Centroid Location</th>\n",
       "      <th>Dropoff Centroid Latitude</th>\n",
       "      <th>Dropoff Centroid Longitude</th>\n",
       "      <th>Dropoff Centroid  Location</th>\n",
       "    </tr>\n",
       "  </thead>\n",
       "  <tbody>\n",
       "    <tr>\n",
       "      <th>0</th>\n",
       "      <td>count</td>\n",
       "      <td>0</td>\n",
       "      <td>0</td>\n",
       "      <td>0</td>\n",
       "      <td>0</td>\n",
       "      <td>0</td>\n",
       "      <td>0</td>\n",
       "      <td>0</td>\n",
       "      <td>0</td>\n",
       "      <td>0</td>\n",
       "      <td>0</td>\n",
       "      <td>0</td>\n",
       "      <td>0</td>\n",
       "      <td>0</td>\n",
       "      <td>0</td>\n",
       "      <td>0</td>\n",
       "      <td>0</td>\n",
       "      <td>0</td>\n",
       "      <td>0</td>\n",
       "      <td>0</td>\n",
       "    </tr>\n",
       "    <tr>\n",
       "      <th>1</th>\n",
       "      <td>mean</td>\n",
       "      <td>None</td>\n",
       "      <td>None</td>\n",
       "      <td>None</td>\n",
       "      <td>None</td>\n",
       "      <td>None</td>\n",
       "      <td>None</td>\n",
       "      <td>None</td>\n",
       "      <td>None</td>\n",
       "      <td>None</td>\n",
       "      <td>None</td>\n",
       "      <td>None</td>\n",
       "      <td>None</td>\n",
       "      <td>None</td>\n",
       "      <td>None</td>\n",
       "      <td>None</td>\n",
       "      <td>None</td>\n",
       "      <td>None</td>\n",
       "      <td>None</td>\n",
       "      <td>None</td>\n",
       "    </tr>\n",
       "    <tr>\n",
       "      <th>2</th>\n",
       "      <td>stddev</td>\n",
       "      <td>None</td>\n",
       "      <td>None</td>\n",
       "      <td>None</td>\n",
       "      <td>None</td>\n",
       "      <td>None</td>\n",
       "      <td>None</td>\n",
       "      <td>None</td>\n",
       "      <td>None</td>\n",
       "      <td>None</td>\n",
       "      <td>None</td>\n",
       "      <td>None</td>\n",
       "      <td>None</td>\n",
       "      <td>None</td>\n",
       "      <td>None</td>\n",
       "      <td>None</td>\n",
       "      <td>None</td>\n",
       "      <td>None</td>\n",
       "      <td>None</td>\n",
       "      <td>None</td>\n",
       "    </tr>\n",
       "    <tr>\n",
       "      <th>3</th>\n",
       "      <td>min</td>\n",
       "      <td>None</td>\n",
       "      <td>None</td>\n",
       "      <td>None</td>\n",
       "      <td>None</td>\n",
       "      <td>None</td>\n",
       "      <td>None</td>\n",
       "      <td>None</td>\n",
       "      <td>None</td>\n",
       "      <td>None</td>\n",
       "      <td>None</td>\n",
       "      <td>None</td>\n",
       "      <td>None</td>\n",
       "      <td>None</td>\n",
       "      <td>None</td>\n",
       "      <td>None</td>\n",
       "      <td>None</td>\n",
       "      <td>None</td>\n",
       "      <td>None</td>\n",
       "      <td>None</td>\n",
       "    </tr>\n",
       "    <tr>\n",
       "      <th>4</th>\n",
       "      <td>max</td>\n",
       "      <td>None</td>\n",
       "      <td>None</td>\n",
       "      <td>None</td>\n",
       "      <td>None</td>\n",
       "      <td>None</td>\n",
       "      <td>None</td>\n",
       "      <td>None</td>\n",
       "      <td>None</td>\n",
       "      <td>None</td>\n",
       "      <td>None</td>\n",
       "      <td>None</td>\n",
       "      <td>None</td>\n",
       "      <td>None</td>\n",
       "      <td>None</td>\n",
       "      <td>None</td>\n",
       "      <td>None</td>\n",
       "      <td>None</td>\n",
       "      <td>None</td>\n",
       "      <td>None</td>\n",
       "    </tr>\n",
       "  </tbody>\n",
       "</table>\n",
       "</div>"
      ],
      "text/plain": [
       "  summary Trip ID Taxi ID Trip Seconds Trip Miles Pickup Community Area Dropoff Community Area  Fare  Tips Tolls Extras Trip Total Payment Type Company Pickup Centroid Latitude Pickup Centroid Longitude Pickup Centroid Location Dropoff Centroid Latitude Dropoff Centroid Longitude Dropoff Centroid  Location\n",
       "0   count       0       0            0          0                     0                      0     0     0     0      0          0            0       0                        0                         0                        0                         0                          0                          0\n",
       "1    mean    None    None         None       None                  None                   None  None  None  None   None       None         None    None                     None                      None                     None                      None                       None                       None\n",
       "2  stddev    None    None         None       None                  None                   None  None  None  None   None       None         None    None                     None                      None                     None                      None                       None                       None\n",
       "3     min    None    None         None       None                  None                   None  None  None  None   None       None         None    None                     None                      None                     None                      None                       None                       None\n",
       "4     max    None    None         None       None                  None                   None  None  None  None   None       None         None    None                     None                      None                     None                      None                       None                       None"
      ]
     },
     "execution_count": 22,
     "metadata": {},
     "output_type": "execute_result"
    }
   ],
   "source": [
    "Trip_Miles_describe=Trip_Miles.describe().toPandas()\n",
    "Trip_Miles_describe"
   ]
  },
  {
   "cell_type": "markdown",
   "metadata": {},
   "source": [
    "Taxistas con afectación"
   ]
  },
  {
   "cell_type": "code",
   "execution_count": 23,
   "metadata": {
    "tags": []
   },
   "outputs": [
    {
     "data": {
      "text/plain": [
       "0"
      ]
     },
     "execution_count": 23,
     "metadata": {},
     "output_type": "execute_result"
    }
   ],
   "source": [
    "taxistas_con_valores_faltantes= df.filter(F.col('Trip Miles').isNull()).groupby('Taxi ID').agg(F.count(\"*\").alias('Cantidad de registros con Trip Miles faltante'))\n",
    "taxistas_con_valores_faltantes=taxistas_con_valores_faltantes.orderBy(F.col('Cantidad de registros con Trip Miles faltante').desc())\n",
    "taxistas_con_valores_faltantes.count()"
   ]
  },
  {
   "cell_type": "code",
   "execution_count": 24,
   "metadata": {
    "tags": []
   },
   "outputs": [
    {
     "data": {
      "text/plain": [
       "527"
      ]
     },
     "execution_count": 24,
     "metadata": {},
     "output_type": "execute_result"
    }
   ],
   "source": [
    "total_taxis=df.groupby('Taxi ID').agg(F.count(\"*\").alias('Cantidad total de taxis'))\n",
    "total_taxis.count()"
   ]
  },
  {
   "cell_type": "code",
   "execution_count": 25,
   "metadata": {
    "tags": []
   },
   "outputs": [
    {
     "data": {
      "text/plain": [
       "0.0"
      ]
     },
     "execution_count": 25,
     "metadata": {},
     "output_type": "execute_result"
    }
   ],
   "source": [
    "(taxistas_con_valores_faltantes.count()/total_taxis.count())*100"
   ]
  },
  {
   "cell_type": "markdown",
   "metadata": {},
   "source": [
    "**Observación**\n",
    "\n",
    "Podemos ver que afectamos solamente a 29 diferentes Taxis de un total de 3,709 Taxis que representa un 0.7651715039577837% del total de los Taxis por lo que es posible eliminar estos registros."
   ]
  },
  {
   "cell_type": "code",
   "execution_count": 26,
   "metadata": {
    "tags": []
   },
   "outputs": [],
   "source": [
    "df = df.filter(F.col('Trip Miles').isNotNull())"
   ]
  },
  {
   "cell_type": "markdown",
   "metadata": {
    "tags": []
   },
   "source": [
    "#### Missings en Coordenadas"
   ]
  },
  {
   "cell_type": "markdown",
   "metadata": {},
   "source": [
    "Finalmente, los *missings* restantes deben corresponder únicamente a los que están en función de las coordenadas del viaje."
   ]
  },
  {
   "cell_type": "code",
   "execution_count": 27,
   "metadata": {
    "tags": []
   },
   "outputs": [
    {
     "data": {
      "text/html": [
       "<div>\n",
       "<style scoped>\n",
       "    .dataframe tbody tr th:only-of-type {\n",
       "        vertical-align: middle;\n",
       "    }\n",
       "\n",
       "    .dataframe tbody tr th {\n",
       "        vertical-align: top;\n",
       "    }\n",
       "\n",
       "    .dataframe thead th {\n",
       "        text-align: right;\n",
       "    }\n",
       "</style>\n",
       "<table border=\"1\" class=\"dataframe\">\n",
       "  <thead>\n",
       "    <tr style=\"text-align: right;\">\n",
       "      <th></th>\n",
       "      <th>feature</th>\n",
       "      <th>count</th>\n",
       "      <th>%</th>\n",
       "    </tr>\n",
       "  </thead>\n",
       "  <tbody>\n",
       "    <tr>\n",
       "      <th>11</th>\n",
       "      <td>Pickup Community Area</td>\n",
       "      <td>87</td>\n",
       "      <td>8.7</td>\n",
       "    </tr>\n",
       "    <tr>\n",
       "      <th>12</th>\n",
       "      <td>Dropoff Community Area</td>\n",
       "      <td>125</td>\n",
       "      <td>12.5</td>\n",
       "    </tr>\n",
       "    <tr>\n",
       "      <th>15</th>\n",
       "      <td>Pickup Centroid Latitude</td>\n",
       "      <td>87</td>\n",
       "      <td>8.7</td>\n",
       "    </tr>\n",
       "    <tr>\n",
       "      <th>16</th>\n",
       "      <td>Pickup Centroid Longitude</td>\n",
       "      <td>87</td>\n",
       "      <td>8.7</td>\n",
       "    </tr>\n",
       "    <tr>\n",
       "      <th>17</th>\n",
       "      <td>Pickup Centroid Location</td>\n",
       "      <td>87</td>\n",
       "      <td>8.7</td>\n",
       "    </tr>\n",
       "    <tr>\n",
       "      <th>18</th>\n",
       "      <td>Dropoff Centroid Latitude</td>\n",
       "      <td>122</td>\n",
       "      <td>12.2</td>\n",
       "    </tr>\n",
       "    <tr>\n",
       "      <th>19</th>\n",
       "      <td>Dropoff Centroid Longitude</td>\n",
       "      <td>122</td>\n",
       "      <td>12.2</td>\n",
       "    </tr>\n",
       "    <tr>\n",
       "      <th>20</th>\n",
       "      <td>Dropoff Centroid  Location</td>\n",
       "      <td>122</td>\n",
       "      <td>12.2</td>\n",
       "    </tr>\n",
       "  </tbody>\n",
       "</table>\n",
       "</div>"
      ],
      "text/plain": [
       "                       feature  count     %\n",
       "11       Pickup Community Area     87   8.7\n",
       "12      Dropoff Community Area    125  12.5\n",
       "15    Pickup Centroid Latitude     87   8.7\n",
       "16   Pickup Centroid Longitude     87   8.7\n",
       "17    Pickup Centroid Location     87   8.7\n",
       "18   Dropoff Centroid Latitude    122  12.2\n",
       "19  Dropoff Centroid Longitude    122  12.2\n",
       "20  Dropoff Centroid  Location    122  12.2"
      ]
     },
     "execution_count": 27,
     "metadata": {},
     "output_type": "execute_result"
    }
   ],
   "source": [
    "missings_df = missing_values_summary(df)\n",
    "missings_df[missings_df['count'] > 0]"
   ]
  },
  {
   "cell_type": "markdown",
   "metadata": {},
   "source": [
    "Tomamos 'Dropoff Community Area' como filtro a explorar al ser la variable con la mayor cantidad de registros faltantes al momento."
   ]
  },
  {
   "cell_type": "code",
   "execution_count": 28,
   "metadata": {
    "tags": []
   },
   "outputs": [
    {
     "data": {
      "text/html": [
       "<div>\n",
       "<style scoped>\n",
       "    .dataframe tbody tr th:only-of-type {\n",
       "        vertical-align: middle;\n",
       "    }\n",
       "\n",
       "    .dataframe tbody tr th {\n",
       "        vertical-align: top;\n",
       "    }\n",
       "\n",
       "    .dataframe thead th {\n",
       "        text-align: right;\n",
       "    }\n",
       "</style>\n",
       "<table border=\"1\" class=\"dataframe\">\n",
       "  <thead>\n",
       "    <tr style=\"text-align: right;\">\n",
       "      <th></th>\n",
       "      <th>Trip ID</th>\n",
       "      <th>Taxi ID</th>\n",
       "      <th>Trip Start Timestamp</th>\n",
       "      <th>Trip End Timestamp</th>\n",
       "      <th>Trip Seconds</th>\n",
       "      <th>Trip Miles</th>\n",
       "      <th>Pickup Community Area</th>\n",
       "      <th>Dropoff Community Area</th>\n",
       "      <th>Fare</th>\n",
       "      <th>Tips</th>\n",
       "      <th>Tolls</th>\n",
       "      <th>Extras</th>\n",
       "      <th>Trip Total</th>\n",
       "      <th>Payment Type</th>\n",
       "      <th>Company</th>\n",
       "      <th>Pickup Centroid Latitude</th>\n",
       "      <th>Pickup Centroid Longitude</th>\n",
       "      <th>Pickup Centroid Location</th>\n",
       "      <th>Dropoff Centroid Latitude</th>\n",
       "      <th>Dropoff Centroid Longitude</th>\n",
       "      <th>Dropoff Centroid  Location</th>\n",
       "    </tr>\n",
       "  </thead>\n",
       "  <tbody>\n",
       "    <tr>\n",
       "      <th>0</th>\n",
       "      <td>48663d4e894386c3e0604a85c307cc15ea99f0a7</td>\n",
       "      <td>d79d3e19a1d5f6cb0cd4449d5579412262a2f1b182799d...</td>\n",
       "      <td>2023-01-25 21:30:00</td>\n",
       "      <td>2023-01-25 21:45:00</td>\n",
       "      <td>801</td>\n",
       "      <td>7.26</td>\n",
       "      <td>76</td>\n",
       "      <td>None</td>\n",
       "      <td>20.00</td>\n",
       "      <td>0.0</td>\n",
       "      <td>0.0</td>\n",
       "      <td>5.0</td>\n",
       "      <td>25.000000</td>\n",
       "      <td>Cash</td>\n",
       "      <td>5 Star Taxi</td>\n",
       "      <td>41.980264315</td>\n",
       "      <td>-87.913624596</td>\n",
       "      <td>POINT (-87.913624596 41.9802643146)</td>\n",
       "      <td>None</td>\n",
       "      <td>None</td>\n",
       "      <td>None</td>\n",
       "    </tr>\n",
       "    <tr>\n",
       "      <th>1</th>\n",
       "      <td>983125850c12626dac6e45225f2039fcf466dfd4</td>\n",
       "      <td>959332bea53638e6c8071e91d96cd354a101887367f38c...</td>\n",
       "      <td>2023-01-25 21:30:00</td>\n",
       "      <td>2023-01-25 21:45:00</td>\n",
       "      <td>1260</td>\n",
       "      <td>8.4</td>\n",
       "      <td>76</td>\n",
       "      <td>None</td>\n",
       "      <td>23.25</td>\n",
       "      <td>7.4</td>\n",
       "      <td>0.0</td>\n",
       "      <td>6.0</td>\n",
       "      <td>36.650002</td>\n",
       "      <td>Credit Card</td>\n",
       "      <td>Taxi Affiliation Services</td>\n",
       "      <td>41.980264315</td>\n",
       "      <td>-87.913624596</td>\n",
       "      <td>POINT (-87.913624596 41.9802643146)</td>\n",
       "      <td>None</td>\n",
       "      <td>None</td>\n",
       "      <td>None</td>\n",
       "    </tr>\n",
       "    <tr>\n",
       "      <th>2</th>\n",
       "      <td>e580781e3eb3f2aad35c3568218e3af04ea130e4</td>\n",
       "      <td>4bb55b69e710d1792f5fd4888001f4ff0ce34040f976f8...</td>\n",
       "      <td>2023-01-25 22:00:00</td>\n",
       "      <td>2023-01-25 22:30:00</td>\n",
       "      <td>1813</td>\n",
       "      <td>21.2</td>\n",
       "      <td>56</td>\n",
       "      <td>None</td>\n",
       "      <td>52.00</td>\n",
       "      <td>0.0</td>\n",
       "      <td>0.0</td>\n",
       "      <td>1.5</td>\n",
       "      <td>53.500000</td>\n",
       "      <td>Cash</td>\n",
       "      <td>Medallion Leasin</td>\n",
       "      <td>41.785998518</td>\n",
       "      <td>-87.750934289</td>\n",
       "      <td>POINT (-87.7509342894 41.785998518)</td>\n",
       "      <td>None</td>\n",
       "      <td>None</td>\n",
       "      <td>None</td>\n",
       "    </tr>\n",
       "    <tr>\n",
       "      <th>3</th>\n",
       "      <td>fc606399b3d226ed0f296223d480f59af3bef8a3</td>\n",
       "      <td>0eb7681419f9693ca67fa22a1ff0d027fe996e31caf238...</td>\n",
       "      <td>2023-01-25 22:30:00</td>\n",
       "      <td>2023-01-25 22:30:00</td>\n",
       "      <td>420</td>\n",
       "      <td>2.8</td>\n",
       "      <td>76</td>\n",
       "      <td>None</td>\n",
       "      <td>10.00</td>\n",
       "      <td>3.5</td>\n",
       "      <td>0.0</td>\n",
       "      <td>5.0</td>\n",
       "      <td>18.500000</td>\n",
       "      <td>Credit Card</td>\n",
       "      <td>Chicago Independents</td>\n",
       "      <td>41.980264315</td>\n",
       "      <td>-87.913624596</td>\n",
       "      <td>POINT (-87.913624596 41.9802643146)</td>\n",
       "      <td>None</td>\n",
       "      <td>None</td>\n",
       "      <td>None</td>\n",
       "    </tr>\n",
       "    <tr>\n",
       "      <th>4</th>\n",
       "      <td>4552a151729db17fb5de73008dd07a12a030485a</td>\n",
       "      <td>cf5f0f5970c4961f96199dfcb1b11c9835a7fa2db48ff0...</td>\n",
       "      <td>2023-01-25 23:15:00</td>\n",
       "      <td>2023-01-25 23:30:00</td>\n",
       "      <td>1149</td>\n",
       "      <td>10.62</td>\n",
       "      <td>19</td>\n",
       "      <td>None</td>\n",
       "      <td>28.50</td>\n",
       "      <td>0.0</td>\n",
       "      <td>0.0</td>\n",
       "      <td>0.0</td>\n",
       "      <td>28.500000</td>\n",
       "      <td>Prcard</td>\n",
       "      <td>City Service</td>\n",
       "      <td>41.927260956</td>\n",
       "      <td>-87.765501609</td>\n",
       "      <td>POINT (-87.7655016086 41.9272609555)</td>\n",
       "      <td>None</td>\n",
       "      <td>None</td>\n",
       "      <td>None</td>\n",
       "    </tr>\n",
       "  </tbody>\n",
       "</table>\n",
       "</div>"
      ],
      "text/plain": [
       "                                    Trip ID                                            Taxi ID Trip Start Timestamp  Trip End Timestamp  Trip Seconds Trip Miles Pickup Community Area Dropoff Community Area   Fare  Tips  Tolls  Extras  Trip Total Payment Type                    Company Pickup Centroid Latitude Pickup Centroid Longitude              Pickup Centroid Location Dropoff Centroid Latitude Dropoff Centroid Longitude Dropoff Centroid  Location\n",
       "0  48663d4e894386c3e0604a85c307cc15ea99f0a7  d79d3e19a1d5f6cb0cd4449d5579412262a2f1b182799d...  2023-01-25 21:30:00 2023-01-25 21:45:00           801       7.26                    76                   None  20.00   0.0    0.0     5.0   25.000000         Cash                5 Star Taxi             41.980264315             -87.913624596   POINT (-87.913624596 41.9802643146)                      None                       None                       None\n",
       "1  983125850c12626dac6e45225f2039fcf466dfd4  959332bea53638e6c8071e91d96cd354a101887367f38c...  2023-01-25 21:30:00 2023-01-25 21:45:00          1260        8.4                    76                   None  23.25   7.4    0.0     6.0   36.650002  Credit Card  Taxi Affiliation Services             41.980264315             -87.913624596   POINT (-87.913624596 41.9802643146)                      None                       None                       None\n",
       "2  e580781e3eb3f2aad35c3568218e3af04ea130e4  4bb55b69e710d1792f5fd4888001f4ff0ce34040f976f8...  2023-01-25 22:00:00 2023-01-25 22:30:00          1813       21.2                    56                   None  52.00   0.0    0.0     1.5   53.500000         Cash           Medallion Leasin             41.785998518             -87.750934289   POINT (-87.7509342894 41.785998518)                      None                       None                       None\n",
       "3  fc606399b3d226ed0f296223d480f59af3bef8a3  0eb7681419f9693ca67fa22a1ff0d027fe996e31caf238...  2023-01-25 22:30:00 2023-01-25 22:30:00           420        2.8                    76                   None  10.00   3.5    0.0     5.0   18.500000  Credit Card       Chicago Independents             41.980264315             -87.913624596   POINT (-87.913624596 41.9802643146)                      None                       None                       None\n",
       "4  4552a151729db17fb5de73008dd07a12a030485a  cf5f0f5970c4961f96199dfcb1b11c9835a7fa2db48ff0...  2023-01-25 23:15:00 2023-01-25 23:30:00          1149      10.62                    19                   None  28.50   0.0    0.0     0.0   28.500000       Prcard               City Service             41.927260956             -87.765501609  POINT (-87.7655016086 41.9272609555)                      None                       None                       None"
      ]
     },
     "execution_count": 28,
     "metadata": {},
     "output_type": "execute_result"
    }
   ],
   "source": [
    "null_dropoff_df = df.filter(F.col('Dropoff Community Area').isNull())\n",
    "# Obtener una muestra aleatoria de 5 filas\n",
    "sampled_df = null_dropoff_df.sample(withReplacement=False, fraction=0.1).limit(5)  # Ajusta la fracción según sea necesario\n",
    "# Mostrar la muestra\n",
    "sampled_df.toPandas()"
   ]
  },
  {
   "cell_type": "markdown",
   "metadata": {},
   "source": [
    "**Conclusión**\n",
    "\n",
    "Por ahora no elminaremos las filas con valores nulos en Dropoff Community Area, ya que observamos que tienen información relevante para futuros calclos.\n"
   ]
  },
  {
   "cell_type": "markdown",
   "metadata": {},
   "source": [
    "### ¿Cuántos viajes hace un taxista (a lo largo del tiempo)?"
   ]
  },
  {
   "cell_type": "markdown",
   "metadata": {
    "tags": []
   },
   "source": [
    "Número de taxistas"
   ]
  },
  {
   "cell_type": "code",
   "execution_count": 29,
   "metadata": {
    "tags": []
   },
   "outputs": [
    {
     "name": "stdout",
     "output_type": "stream",
     "text": [
      "El total de taxistas en el conjunto es: 527\n"
     ]
    }
   ],
   "source": [
    "n_taxistas = df.select('Taxi ID').distinct().count()\n",
    "print(f\"El total de taxistas en el conjunto es: {n_taxistas}\")"
   ]
  },
  {
   "cell_type": "code",
   "execution_count": 30,
   "metadata": {
    "tags": []
   },
   "outputs": [
    {
     "data": {
      "text/html": [
       "<div>\n",
       "<style scoped>\n",
       "    .dataframe tbody tr th:only-of-type {\n",
       "        vertical-align: middle;\n",
       "    }\n",
       "\n",
       "    .dataframe tbody tr th {\n",
       "        vertical-align: top;\n",
       "    }\n",
       "\n",
       "    .dataframe thead th {\n",
       "        text-align: right;\n",
       "    }\n",
       "</style>\n",
       "<table border=\"1\" class=\"dataframe\">\n",
       "  <thead>\n",
       "    <tr style=\"text-align: right;\">\n",
       "      <th></th>\n",
       "      <th>Taxi ID</th>\n",
       "      <th>Total viajes</th>\n",
       "    </tr>\n",
       "  </thead>\n",
       "  <tbody>\n",
       "    <tr>\n",
       "      <th>0</th>\n",
       "      <td>2ec5c47128a98f946f5f1382680e6e48752eb935542ad1...</td>\n",
       "      <td>8</td>\n",
       "    </tr>\n",
       "    <tr>\n",
       "      <th>1</th>\n",
       "      <td>356744753023949fa63be6a6d7e0aef31f2d50dd3b0258...</td>\n",
       "      <td>7</td>\n",
       "    </tr>\n",
       "    <tr>\n",
       "      <th>2</th>\n",
       "      <td>f98ae5e71fdda8806710af321dce58002146886c013f41...</td>\n",
       "      <td>7</td>\n",
       "    </tr>\n",
       "    <tr>\n",
       "      <th>3</th>\n",
       "      <td>081758ced4767105bfa217f7b0784d72d37e12a016fe2a...</td>\n",
       "      <td>7</td>\n",
       "    </tr>\n",
       "    <tr>\n",
       "      <th>4</th>\n",
       "      <td>2e3d5a644579e645b2f9e531459f8bc1d2c99d7312d04a...</td>\n",
       "      <td>6</td>\n",
       "    </tr>\n",
       "  </tbody>\n",
       "</table>\n",
       "</div>"
      ],
      "text/plain": [
       "                                             Taxi ID  Total viajes\n",
       "0  2ec5c47128a98f946f5f1382680e6e48752eb935542ad1...             8\n",
       "1  356744753023949fa63be6a6d7e0aef31f2d50dd3b0258...             7\n",
       "2  f98ae5e71fdda8806710af321dce58002146886c013f41...             7\n",
       "3  081758ced4767105bfa217f7b0784d72d37e12a016fe2a...             7\n",
       "4  2e3d5a644579e645b2f9e531459f8bc1d2c99d7312d04a...             6"
      ]
     },
     "execution_count": 30,
     "metadata": {},
     "output_type": "execute_result"
    }
   ],
   "source": [
    "# Cantidad de viajes por taxi\n",
    "num_viajes = df.groupBy('Taxi ID').count().withColumnRenamed('count', 'Total viajes')\n",
    "\n",
    "# Ordenar por la cantidad de viajes en orden descendente\n",
    "num_viajes = num_viajes.orderBy('Total viajes', ascending=False)\n",
    "\n",
    "num_viajes_df = num_viajes.toPandas()\n",
    "\n",
    "num_viajes_df.head()"
   ]
  },
  {
   "cell_type": "code",
   "execution_count": 31,
   "metadata": {
    "tags": []
   },
   "outputs": [
    {
     "data": {
      "text/plain": [
       "<Figure size 640x480 with 0 Axes>"
      ]
     },
     "metadata": {},
     "output_type": "display_data"
    },
    {
     "data": {
      "image/png": "[encoded data removed]",
      "text/plain": [
       "<Figure size 640x480 with 1 Axes>"
      ]
     },
     "metadata": {},
     "output_type": "display_data"
    }
   ],
   "source": [
    "plt.figure()\n",
    "num_viajes_df.plot(kind='bar', color='navy')\n",
    "plt.title('Número de Viajes')\n",
    "plt.xlabel('Taxi')\n",
    "plt.ylabel('Cantidad de Viajes')\n",
    "plt.grid(axis='y', linestyle='--', alpha=0.7)\n",
    "plt.xticks([])\n",
    "plt.show()"
   ]
  },
  {
   "cell_type": "markdown",
   "metadata": {
    "tags": []
   },
   "source": [
    "**Hipótesis**\n",
    "\n",
    "Es posible que aquellos táxistas que tienen más tiempo, son lo que tienen más viajes, y aquellos con menos viajes son los taxistas que van iniciando"
   ]
  },
  {
   "cell_type": "markdown",
   "metadata": {
    "tags": []
   },
   "source": [
    "**Taxista con más viajes en el tiempo**"
   ]
  },
  {
   "cell_type": "code",
   "execution_count": 32,
   "metadata": {
    "tags": []
   },
   "outputs": [],
   "source": [
    "from pyspark.sql.functions import month, year, col\n",
    "\n",
    "# Obtener el Taxi ID con más viajes\n",
    "taxista_top1_viajes = num_viajes.first()['Taxi ID']\n",
    "\n",
    "# Filtrar el DataFrame para el taxi con más viajes\n",
    "taxista_df_masviajes = df.filter(F.col('Taxi ID') == taxista_top1_viajes)\n",
    "\n",
    "# Extraer el año y el mes de 'Trip Start Timestamp' y contar los viajes por mes\n",
    "trips_by_month = taxista_df_masviajes.groupBy(year('Trip Start Timestamp').alias('Año'),\n",
    "                                               month('Trip Start Timestamp').alias('Mes')) \\\n",
    "                                       .agg(F.count('Trip ID').alias('Total Viajes')) \\\n",
    "                                       .orderBy('Año', 'Mes')"
   ]
  },
  {
   "cell_type": "code",
   "execution_count": 33,
   "metadata": {
    "tags": []
   },
   "outputs": [],
   "source": [
    "trips_by_month_df = trips_by_month.toPandas()\n",
    "trips_by_month_df[\"Dia\"] = 1\n",
    "trips_by_month_df['fecha'] = trips_by_month_df['Año'].astype(str) + '-' + trips_by_month_df['Mes'].astype(str).str.zfill(2) + '-' + trips_by_month_df['Dia'].astype(str).str.zfill(2)"
   ]
  },
  {
   "cell_type": "code",
   "execution_count": 34,
   "metadata": {
    "tags": []
   },
   "outputs": [
    {
     "data": {
      "image/png": "[encoded data removed]",
      "text/plain": [
       "<Figure size 1000x600 with 1 Axes>"
      ]
     },
     "metadata": {},
     "output_type": "display_data"
    }
   ],
   "source": [
    "plt.figure(figsize=(10, 6))\n",
    "plt.plot(trips_by_month_df['fecha'], trips_by_month_df['Total Viajes'], marker='o', linestyle='-')\n",
    "plt.title('Número de Viajes a Través del Tiempo')\n",
    "plt.xlabel('Fecha')\n",
    "plt.ylabel('Total Viajes')\n",
    "plt.xticks(rotation=45)\n",
    "plt.grid()\n",
    "plt.tight_layout()\n",
    "plt.show()"
   ]
  },
  {
   "cell_type": "markdown",
   "metadata": {},
   "source": [
    "**Taxista con menos viajes en el tiempo**"
   ]
  },
  {
   "cell_type": "code",
   "execution_count": 35,
   "metadata": {
    "tags": []
   },
   "outputs": [],
   "source": [
    "# Obtener el Taxi ID con menos viajes\n",
    "taxista_notop_viajes = num_viajes.orderBy('Total viajes', ascending=True).first()['Taxi ID']\n",
    "taxista_df_menosviajes = df.filter(F.col('Taxi ID') == taxista_notop_viajes)\n",
    "trips_by_month = taxista_df_menosviajes.groupBy(year('Trip Start Timestamp').alias('Año'),\n",
    "                                               month('Trip Start Timestamp').alias('Mes')) \\\n",
    "                                       .agg(F.count('Trip ID').alias('Total Viajes')) \\\n",
    "                                       .orderBy('Año', 'Mes')"
   ]
  },
  {
   "cell_type": "code",
   "execution_count": 36,
   "metadata": {
    "tags": []
   },
   "outputs": [],
   "source": [
    "trips_by_month_df = trips_by_month.toPandas()\n",
    "trips_by_month_df[\"Dia\"] = 1\n",
    "trips_by_month_df['fecha'] = trips_by_month_df['Año'].astype(str) + '-' + trips_by_month_df['Mes'].astype(str).str.zfill(2) + '-' + trips_by_month_df['Dia'].astype(str).str.zfill(2)"
   ]
  },
  {
   "cell_type": "code",
   "execution_count": 37,
   "metadata": {
    "tags": []
   },
   "outputs": [
    {
     "data": {
      "image/png": "[encoded data removed]",
      "text/plain": [
       "<Figure size 1000x600 with 1 Axes>"
      ]
     },
     "metadata": {},
     "output_type": "display_data"
    }
   ],
   "source": [
    "# Graficar\n",
    "plt.figure(figsize=(10, 6))\n",
    "plt.plot(trips_by_month_df['fecha'], trips_by_month_df['Total Viajes'], marker='o', linestyle='-')\n",
    "plt.title('Número de Viajes a Través del Tiempo')\n",
    "plt.xlabel('Fecha')\n",
    "plt.ylabel('Total Viajes')\n",
    "plt.xticks(rotation=45)\n",
    "plt.grid()\n",
    "plt.tight_layout()\n",
    "plt.show()"
   ]
  },
  {
   "cell_type": "markdown",
   "metadata": {},
   "source": [
    "Confirmamos que el taxista que tiene más viajes, lleva trabajando desde 2023, y el taxista con menos viajes solo trabajo un día. "
   ]
  },
  {
   "cell_type": "markdown",
   "metadata": {},
   "source": [
    "### ¿En qué áreas se registran más inicios/descensos de viajes?\n",
    "\n",
    "Es posible que las zonas más demandadas sean aquellas con mayor cantidad concentraciónde personas, como aeropuertos o centro de la ciudad. "
   ]
  },
  {
   "cell_type": "code",
   "execution_count": 38,
   "metadata": {
    "tags": []
   },
   "outputs": [
    {
     "name": "stdout",
     "output_type": "stream",
     "text": [
      "+---------------------+-----+\n",
      "|Pickup Community Area|count|\n",
      "+---------------------+-----+\n",
      "|                   76|  285|\n",
      "|                    8|  187|\n",
      "|                   32|  141|\n",
      "|                 NULL|   87|\n",
      "|                   28|   75|\n",
      "+---------------------+-----+\n",
      "\n"
     ]
    }
   ],
   "source": [
    "top_5_pickup_areas = df.groupBy('Pickup Community Area') \\\n",
    "                              .count() \\\n",
    "                              .orderBy('count', ascending=False) \\\n",
    "                              .limit(5)\n",
    "\n",
    "# Mostrar los resultados\n",
    "top_5_pickup_areas.show()"
   ]
  },
  {
   "cell_type": "code",
   "execution_count": 39,
   "metadata": {
    "tags": []
   },
   "outputs": [
    {
     "data": {
      "image/png": "[encoded data removed]",
      "text/plain": [
       "<Figure size 2000x600 with 1 Axes>"
      ]
     },
     "metadata": {},
     "output_type": "display_data"
    }
   ],
   "source": [
    "top_5_pickup_areas_df = top_5_pickup_areas.toPandas()\n",
    "\n",
    "plt.figure(figsize=(20, 6))\n",
    "sns.barplot(x='Pickup Community Area', y=\"count\", data=top_5_pickup_areas_df)\n",
    "plt.title('Demanda de Taxis por zona')\n",
    "plt.xticks(rotation=45)\n",
    "plt.show()"
   ]
  },
  {
   "cell_type": "markdown",
   "metadata": {},
   "source": [
    "Las zonas con mayor zonas de **recolección** de pasajeros son: \n",
    "- 8 correspone a Near North que es parte del centro de Chicago\n",
    "- 76 es O'Hare donde se ubica el Aeropuerto Internacional O'Hare\n",
    "- 32 es Loop, que es parte del centro de Chicago\n",
    "- 28 es Near West Side\n",
    "- 56 es Garfield Ridge se ubica el Aeropuerto Internacional Midway"
   ]
  },
  {
   "cell_type": "code",
   "execution_count": 40,
   "metadata": {
    "tags": []
   },
   "outputs": [
    {
     "name": "stdout",
     "output_type": "stream",
     "text": [
      "+----------------------+-----+\n",
      "|Dropoff Community Area|count|\n",
      "+----------------------+-----+\n",
      "|                     8|  209|\n",
      "|                    32|   96|\n",
      "|                     7|   63|\n",
      "|                     6|   63|\n",
      "|                    28|   61|\n",
      "+----------------------+-----+\n",
      "\n"
     ]
    }
   ],
   "source": [
    "top_5_dropoff_areas = df.filter(F.col('Dropoff Community Area').isNotNull()) \\\n",
    "                              .groupBy('Dropoff Community Area') \\\n",
    "                              .count() \\\n",
    "                              .orderBy('count', ascending=False) \\\n",
    "                              .limit(5)\n",
    "\n",
    "# Mostrar los resultados\n",
    "top_5_dropoff_areas.show()"
   ]
  },
  {
   "cell_type": "markdown",
   "metadata": {},
   "source": [
    "Las zonas de mayor **descenso** de pasajeros coincide con las zonas de mayor ascenso de pasajeros"
   ]
  },
  {
   "cell_type": "code",
   "execution_count": 41,
   "metadata": {
    "tags": []
   },
   "outputs": [
    {
     "data": {
      "image/png": "[encoded data removed]",
      "text/plain": [
       "<Figure size 2000x600 with 1 Axes>"
      ]
     },
     "metadata": {},
     "output_type": "display_data"
    }
   ],
   "source": [
    "top_5_dropoff_areas_df = top_5_dropoff_areas.toPandas()\n",
    "\n",
    "plt.figure(figsize=(20, 6))\n",
    "sns.barplot(x='Dropoff Community Area', y=\"count\", data=top_5_dropoff_areas_df)\n",
    "plt.title('Demanda de Taxis por zona (Dropoff)')\n",
    "plt.xticks(rotation=45)\n",
    "plt.show()"
   ]
  },
  {
   "cell_type": "markdown",
   "metadata": {},
   "source": [
    "## 4. Análisis de Outliers"
   ]
  },
  {
   "cell_type": "markdown",
   "metadata": {},
   "source": [
    "### Duración del viaje"
   ]
  },
  {
   "cell_type": "code",
   "execution_count": 42,
   "metadata": {
    "tags": []
   },
   "outputs": [
    {
     "name": "stdout",
     "output_type": "stream",
     "text": [
      "Total de ceros en Trip Seconds: 11\n"
     ]
    }
   ],
   "source": [
    "count_zeros = df.filter(F.col('Trip Seconds') == 0).count()\n",
    "\n",
    "print(f\"Total de ceros en Trip Seconds: {count_zeros}\")"
   ]
  },
  {
   "cell_type": "markdown",
   "metadata": {},
   "source": [
    "Hay viajes con valores igual a 0 en la duración del viaje, que son anómales."
   ]
  },
  {
   "cell_type": "code",
   "execution_count": 43,
   "metadata": {
    "tags": []
   },
   "outputs": [
    {
     "data": {
      "image/png": "[encoded data removed]",
      "text/plain": [
       "<Figure size 1000x600 with 1 Axes>"
      ]
     },
     "metadata": {},
     "output_type": "display_data"
    }
   ],
   "source": [
    "plot_histogram(df, 'Trip Seconds', num_bins=15)"
   ]
  },
  {
   "cell_type": "code",
   "execution_count": 44,
   "metadata": {
    "tags": []
   },
   "outputs": [
    {
     "data": {
      "image/png": "[encoded data removed]",
      "text/plain": [
       "<Figure size 800x600 with 1 Axes>"
      ]
     },
     "metadata": {},
     "output_type": "display_data"
    }
   ],
   "source": [
    "create_box_plot(df, 'Trip Seconds')"
   ]
  },
  {
   "cell_type": "code",
   "execution_count": 48,
   "metadata": {
    "tags": []
   },
   "outputs": [
    {
     "name": "stdout",
     "output_type": "stream",
     "text": [
      "El valor del percentil 99 para 'Trip Seconds' es: 11,940.0\n"
     ]
    }
   ],
   "source": [
    "trip_seconds_percentiles_df = calculate_trip_seconds_percentiles(df, 'Trip Seconds')\n",
    "percentile_99 = trip_seconds_percentiles_df[trip_seconds_percentiles_df['Percentiles'] == 0.99][\"Trip Seconds\"].iloc[0]\n",
    "print(f\"El valor del percentil 99 para 'Trip Seconds' es: {percentile_99:,}\")"
   ]
  },
  {
   "cell_type": "markdown",
   "metadata": {},
   "source": [
    "**Filtrando para viajes válidos**"
   ]
  },
  {
   "cell_type": "code",
   "execution_count": 46,
   "metadata": {
    "tags": []
   },
   "outputs": [],
   "source": [
    "df = df.filter(\n",
    "    (F.col(\"Trip Seconds\") > 0) &\n",
    "    (F.col(\"Trip Seconds\") < percentile_99)\n",
    ")"
   ]
  },
  {
   "cell_type": "markdown",
   "metadata": {},
   "source": [
    "### Fare, Tips, Tolls, Extras"
   ]
  },
  {
   "cell_type": "code",
   "execution_count": 47,
   "metadata": {
    "tags": []
   },
   "outputs": [
    {
     "data": {
      "image/png": "[encoded data removed]",
      "text/plain": [
       "<Figure size 1200x800 with 1 Axes>"
      ]
     },
     "metadata": {},
     "output_type": "display_data"
    }
   ],
   "source": [
    "create_boxplot(df, ['Fare', 'Tips', 'Tolls', 'Extras'], title=\"Fare\")"
   ]
  },
  {
   "cell_type": "code",
   "execution_count": 50,
   "metadata": {
    "tags": []
   },
   "outputs": [
    {
     "data": {
      "text/html": [
       "<div>\n",
       "<style scoped>\n",
       "    .dataframe tbody tr th:only-of-type {\n",
       "        vertical-align: middle;\n",
       "    }\n",
       "\n",
       "    .dataframe tbody tr th {\n",
       "        vertical-align: top;\n",
       "    }\n",
       "\n",
       "    .dataframe thead th {\n",
       "        text-align: right;\n",
       "    }\n",
       "</style>\n",
       "<table border=\"1\" class=\"dataframe\">\n",
       "  <thead>\n",
       "    <tr style=\"text-align: right;\">\n",
       "      <th></th>\n",
       "      <th>feature</th>\n",
       "      <th>count</th>\n",
       "      <th>%</th>\n",
       "    </tr>\n",
       "  </thead>\n",
       "  <tbody>\n",
       "    <tr>\n",
       "      <th>0</th>\n",
       "      <td>Fare</td>\n",
       "      <td>1</td>\n",
       "      <td>0.101215</td>\n",
       "    </tr>\n",
       "    <tr>\n",
       "      <th>1</th>\n",
       "      <td>Tips</td>\n",
       "      <td>397</td>\n",
       "      <td>40.182186</td>\n",
       "    </tr>\n",
       "    <tr>\n",
       "      <th>2</th>\n",
       "      <td>Tolls</td>\n",
       "      <td>982</td>\n",
       "      <td>99.392713</td>\n",
       "    </tr>\n",
       "    <tr>\n",
       "      <th>3</th>\n",
       "      <td>Extras</td>\n",
       "      <td>535</td>\n",
       "      <td>54.149798</td>\n",
       "    </tr>\n",
       "  </tbody>\n",
       "</table>\n",
       "</div>"
      ],
      "text/plain": [
       "  feature  count          %\n",
       "0    Fare      1   0.101215\n",
       "1    Tips    397  40.182186\n",
       "2   Tolls    982  99.392713\n",
       "3  Extras    535  54.149798"
      ]
     },
     "execution_count": 50,
     "metadata": {},
     "output_type": "execute_result"
    }
   ],
   "source": [
    "results = []\n",
    "for column in ['Fare', 'Tips', 'Tolls', 'Extras']:\n",
    "    count_zeros = df.filter(df[column] == 0).count()\n",
    "    total_count = df.count()\n",
    "    percentage = (count_zeros / total_count) * 100 if total_count > 0 else 0\n",
    "    results.append((column, count_zeros, percentage))\n",
    "\n",
    "results_df = pd.DataFrame(results, columns=['feature', 'count', '%'])\n",
    "\n",
    "results_df"
   ]
  },
  {
   "cell_type": "markdown",
   "metadata": {},
   "source": [
    "### TODO: Análisis de cantidad de ceros"
   ]
  },
  {
   "cell_type": "markdown",
   "metadata": {},
   "source": [
    "### Fare (Tarifa)"
   ]
  },
  {
   "cell_type": "code",
   "execution_count": 71,
   "metadata": {
    "tags": []
   },
   "outputs": [
    {
     "name": "stdout",
     "output_type": "stream",
     "text": [
      "Cantidad de outliers: 9\n",
      "Porcentaje de outliers: 0.91 %\n"
     ]
    }
   ],
   "source": [
    "_ = calculate_outliers(df, 'Fare')"
   ]
  },
  {
   "cell_type": "markdown",
   "metadata": {},
   "source": [
    "Análisis de comportamiento para aquellos valores por debajo de la tarifa mínimca de $3.25"
   ]
  },
  {
   "cell_type": "code",
   "execution_count": 67,
   "metadata": {
    "tags": []
   },
   "outputs": [
    {
     "data": {
      "text/html": [
       "<div>\n",
       "<style scoped>\n",
       "    .dataframe tbody tr th:only-of-type {\n",
       "        vertical-align: middle;\n",
       "    }\n",
       "\n",
       "    .dataframe tbody tr th {\n",
       "        vertical-align: top;\n",
       "    }\n",
       "\n",
       "    .dataframe thead th {\n",
       "        text-align: right;\n",
       "    }\n",
       "</style>\n",
       "<table border=\"1\" class=\"dataframe\">\n",
       "  <thead>\n",
       "    <tr style=\"text-align: right;\">\n",
       "      <th></th>\n",
       "      <th>summary</th>\n",
       "      <th>Trip ID</th>\n",
       "      <th>Taxi ID</th>\n",
       "      <th>Trip Seconds</th>\n",
       "      <th>Trip Miles</th>\n",
       "      <th>Pickup Community Area</th>\n",
       "      <th>Dropoff Community Area</th>\n",
       "      <th>Fare</th>\n",
       "      <th>Tips</th>\n",
       "      <th>Tolls</th>\n",
       "      <th>Extras</th>\n",
       "      <th>Trip Total</th>\n",
       "      <th>Payment Type</th>\n",
       "      <th>Company</th>\n",
       "      <th>Pickup Centroid Latitude</th>\n",
       "      <th>Pickup Centroid Longitude</th>\n",
       "      <th>Pickup Centroid Location</th>\n",
       "      <th>Dropoff Centroid Latitude</th>\n",
       "      <th>Dropoff Centroid Longitude</th>\n",
       "      <th>Dropoff Centroid  Location</th>\n",
       "    </tr>\n",
       "  </thead>\n",
       "  <tbody>\n",
       "    <tr>\n",
       "      <th>0</th>\n",
       "      <td>count</td>\n",
       "      <td>1</td>\n",
       "      <td>1</td>\n",
       "      <td>1</td>\n",
       "      <td>1</td>\n",
       "      <td>1</td>\n",
       "      <td>1</td>\n",
       "      <td>1</td>\n",
       "      <td>1</td>\n",
       "      <td>1</td>\n",
       "      <td>1</td>\n",
       "      <td>1</td>\n",
       "      <td>1</td>\n",
       "      <td>1</td>\n",
       "      <td>1</td>\n",
       "      <td>1</td>\n",
       "      <td>1</td>\n",
       "      <td>1</td>\n",
       "      <td>1</td>\n",
       "      <td>1</td>\n",
       "    </tr>\n",
       "    <tr>\n",
       "      <th>1</th>\n",
       "      <td>mean</td>\n",
       "      <td>None</td>\n",
       "      <td>None</td>\n",
       "      <td>336.0</td>\n",
       "      <td>1.24</td>\n",
       "      <td>22.0</td>\n",
       "      <td>24.0</td>\n",
       "      <td>0.0</td>\n",
       "      <td>0.0</td>\n",
       "      <td>0.0</td>\n",
       "      <td>0.0</td>\n",
       "      <td>0.0</td>\n",
       "      <td>None</td>\n",
       "      <td>None</td>\n",
       "      <td>41.92276062</td>\n",
       "      <td>-87.699155343</td>\n",
       "      <td>None</td>\n",
       "      <td>41.901206994</td>\n",
       "      <td>-87.676355989</td>\n",
       "      <td>None</td>\n",
       "    </tr>\n",
       "    <tr>\n",
       "      <th>2</th>\n",
       "      <td>stddev</td>\n",
       "      <td>None</td>\n",
       "      <td>None</td>\n",
       "      <td>None</td>\n",
       "      <td>None</td>\n",
       "      <td>None</td>\n",
       "      <td>None</td>\n",
       "      <td>None</td>\n",
       "      <td>None</td>\n",
       "      <td>None</td>\n",
       "      <td>None</td>\n",
       "      <td>None</td>\n",
       "      <td>None</td>\n",
       "      <td>None</td>\n",
       "      <td>None</td>\n",
       "      <td>None</td>\n",
       "      <td>None</td>\n",
       "      <td>None</td>\n",
       "      <td>None</td>\n",
       "      <td>None</td>\n",
       "    </tr>\n",
       "    <tr>\n",
       "      <th>3</th>\n",
       "      <td>min</td>\n",
       "      <td>f1336d49059bb2e226dfdc0dc8b16a6ec35f9dfb</td>\n",
       "      <td>1626953f5dfefe1c62e73836adb90d16258a243e46f69e...</td>\n",
       "      <td>336</td>\n",
       "      <td>1.24</td>\n",
       "      <td>22</td>\n",
       "      <td>24</td>\n",
       "      <td>0.0</td>\n",
       "      <td>0.0</td>\n",
       "      <td>0.0</td>\n",
       "      <td>0.0</td>\n",
       "      <td>0.0</td>\n",
       "      <td>Cash</td>\n",
       "      <td>Globe Taxi</td>\n",
       "      <td>41.92276062</td>\n",
       "      <td>-87.699155343</td>\n",
       "      <td>POINT (-87.6991553432 41.9227606205)</td>\n",
       "      <td>41.901206994</td>\n",
       "      <td>-87.676355989</td>\n",
       "      <td>POINT (-87.6763559892 41.9012069941)</td>\n",
       "    </tr>\n",
       "    <tr>\n",
       "      <th>4</th>\n",
       "      <td>max</td>\n",
       "      <td>f1336d49059bb2e226dfdc0dc8b16a6ec35f9dfb</td>\n",
       "      <td>1626953f5dfefe1c62e73836adb90d16258a243e46f69e...</td>\n",
       "      <td>336</td>\n",
       "      <td>1.24</td>\n",
       "      <td>22</td>\n",
       "      <td>24</td>\n",
       "      <td>0.0</td>\n",
       "      <td>0.0</td>\n",
       "      <td>0.0</td>\n",
       "      <td>0.0</td>\n",
       "      <td>0.0</td>\n",
       "      <td>Cash</td>\n",
       "      <td>Globe Taxi</td>\n",
       "      <td>41.92276062</td>\n",
       "      <td>-87.699155343</td>\n",
       "      <td>POINT (-87.6991553432 41.9227606205)</td>\n",
       "      <td>41.901206994</td>\n",
       "      <td>-87.676355989</td>\n",
       "      <td>POINT (-87.6763559892 41.9012069941)</td>\n",
       "    </tr>\n",
       "  </tbody>\n",
       "</table>\n",
       "</div>"
      ],
      "text/plain": [
       "  summary                                   Trip ID                                            Taxi ID Trip Seconds Trip Miles Pickup Community Area Dropoff Community Area  Fare  Tips Tolls Extras Trip Total Payment Type     Company Pickup Centroid Latitude Pickup Centroid Longitude              Pickup Centroid Location Dropoff Centroid Latitude Dropoff Centroid Longitude            Dropoff Centroid  Location\n",
       "0   count                                         1                                                  1            1          1                     1                      1     1     1     1      1          1            1           1                        1                         1                                     1                         1                          1                                     1\n",
       "1    mean                                      None                                               None        336.0       1.24                  22.0                   24.0   0.0   0.0   0.0    0.0        0.0         None        None              41.92276062             -87.699155343                                  None              41.901206994              -87.676355989                                  None\n",
       "2  stddev                                      None                                               None         None       None                  None                   None  None  None  None   None       None         None        None                     None                      None                                  None                      None                       None                                  None\n",
       "3     min  f1336d49059bb2e226dfdc0dc8b16a6ec35f9dfb  1626953f5dfefe1c62e73836adb90d16258a243e46f69e...          336       1.24                    22                     24   0.0   0.0   0.0    0.0        0.0         Cash  Globe Taxi              41.92276062             -87.699155343  POINT (-87.6991553432 41.9227606205)              41.901206994              -87.676355989  POINT (-87.6763559892 41.9012069941)\n",
       "4     max  f1336d49059bb2e226dfdc0dc8b16a6ec35f9dfb  1626953f5dfefe1c62e73836adb90d16258a243e46f69e...          336       1.24                    22                     24   0.0   0.0   0.0    0.0        0.0         Cash  Globe Taxi              41.92276062             -87.699155343  POINT (-87.6991553432 41.9227606205)              41.901206994              -87.676355989  POINT (-87.6763559892 41.9012069941)"
      ]
     },
     "execution_count": 67,
     "metadata": {},
     "output_type": "execute_result"
    }
   ],
   "source": [
    "df[df['Fare'] < 3.25].describe().toPandas()"
   ]
  },
  {
   "cell_type": "markdown",
   "metadata": {},
   "source": [
    "### TODO: Análisis de Fare menor a 3.25"
   ]
  },
  {
   "cell_type": "markdown",
   "metadata": {},
   "source": [
    "Se acotará el dataFrame para limitar la tarifa a partir de $3.25 para ajustar los cobros a la tarifa base."
   ]
  },
  {
   "cell_type": "code",
   "execution_count": 69,
   "metadata": {
    "tags": []
   },
   "outputs": [],
   "source": [
    "df = df[df['Fare'] >= 3.25]"
   ]
  },
  {
   "cell_type": "markdown",
   "metadata": {},
   "source": [
    "### Análisis con unidad muestral taxi"
   ]
  },
  {
   "cell_type": "code",
   "execution_count": 76,
   "metadata": {
    "tags": []
   },
   "outputs": [
    {
     "name": "stdout",
     "output_type": "stream",
     "text": [
      "Cantidad de outliers: 9\n",
      "Porcentaje de outliers: 0.91 %\n"
     ]
    },
    {
     "data": {
      "text/html": [
       "<div>\n",
       "<style scoped>\n",
       "    .dataframe tbody tr th:only-of-type {\n",
       "        vertical-align: middle;\n",
       "    }\n",
       "\n",
       "    .dataframe tbody tr th {\n",
       "        vertical-align: top;\n",
       "    }\n",
       "\n",
       "    .dataframe thead th {\n",
       "        text-align: right;\n",
       "    }\n",
       "</style>\n",
       "<table border=\"1\" class=\"dataframe\">\n",
       "  <thead>\n",
       "    <tr style=\"text-align: right;\">\n",
       "      <th></th>\n",
       "      <th>summary</th>\n",
       "      <th>Trip ID</th>\n",
       "      <th>Taxi ID</th>\n",
       "      <th>Trip Seconds</th>\n",
       "      <th>Trip Miles</th>\n",
       "      <th>Pickup Community Area</th>\n",
       "      <th>Dropoff Community Area</th>\n",
       "      <th>Fare</th>\n",
       "      <th>Tips</th>\n",
       "      <th>Tolls</th>\n",
       "      <th>Extras</th>\n",
       "      <th>Trip Total</th>\n",
       "      <th>Payment Type</th>\n",
       "      <th>Company</th>\n",
       "      <th>Pickup Centroid Latitude</th>\n",
       "      <th>Pickup Centroid Longitude</th>\n",
       "      <th>Pickup Centroid Location</th>\n",
       "      <th>Dropoff Centroid Latitude</th>\n",
       "      <th>Dropoff Centroid Longitude</th>\n",
       "      <th>Dropoff Centroid  Location</th>\n",
       "    </tr>\n",
       "  </thead>\n",
       "  <tbody>\n",
       "    <tr>\n",
       "      <th>0</th>\n",
       "      <td>count</td>\n",
       "      <td>9</td>\n",
       "      <td>9</td>\n",
       "      <td>9</td>\n",
       "      <td>9</td>\n",
       "      <td>6</td>\n",
       "      <td>5</td>\n",
       "      <td>9</td>\n",
       "      <td>9</td>\n",
       "      <td>9</td>\n",
       "      <td>9</td>\n",
       "      <td>9</td>\n",
       "      <td>9</td>\n",
       "      <td>9</td>\n",
       "      <td>6</td>\n",
       "      <td>6</td>\n",
       "      <td>6</td>\n",
       "      <td>5</td>\n",
       "      <td>5</td>\n",
       "      <td>5</td>\n",
       "    </tr>\n",
       "    <tr>\n",
       "      <th>1</th>\n",
       "      <td>mean</td>\n",
       "      <td>None</td>\n",
       "      <td>None</td>\n",
       "      <td>3361.0</td>\n",
       "      <td>27.545555555555556</td>\n",
       "      <td>62.0</td>\n",
       "      <td>50.0</td>\n",
       "      <td>85.15333387586806</td>\n",
       "      <td>9.712222205268013</td>\n",
       "      <td>0.0</td>\n",
       "      <td>20.77777777777778</td>\n",
       "      <td>115.86555735270183</td>\n",
       "      <td>None</td>\n",
       "      <td>None</td>\n",
       "      <td>41.89950931866667</td>\n",
       "      <td>-87.81267178950002</td>\n",
       "      <td>None</td>\n",
       "      <td>41.8059570826</td>\n",
       "      <td>-87.6565766656</td>\n",
       "      <td>None</td>\n",
       "    </tr>\n",
       "    <tr>\n",
       "      <th>2</th>\n",
       "      <td>stddev</td>\n",
       "      <td>None</td>\n",
       "      <td>None</td>\n",
       "      <td>2127.622558162044</td>\n",
       "      <td>14.884775872608152</td>\n",
       "      <td>17.663521732655695</td>\n",
       "      <td>30.265491900843113</td>\n",
       "      <td>11.24915185573337</td>\n",
       "      <td>12.040934131386187</td>\n",
       "      <td>0.0</td>\n",
       "      <td>28.792480692785823</td>\n",
       "      <td>37.38305142919592</td>\n",
       "      <td>None</td>\n",
       "      <td>None</td>\n",
       "      <td>0.09393069046856947</td>\n",
       "      <td>0.11778223617117226</td>\n",
       "      <td>None</td>\n",
       "      <td>0.12059299836838534</td>\n",
       "      <td>0.039701069975174384</td>\n",
       "      <td>None</td>\n",
       "    </tr>\n",
       "    <tr>\n",
       "      <th>3</th>\n",
       "      <td>min</td>\n",
       "      <td>04e122209eb6a01ce01f18ef99815cfd87b6b21d</td>\n",
       "      <td>129c8726fd35b2044735d92600d02e2f8b6a54f5d80919...</td>\n",
       "      <td>2175</td>\n",
       "      <td>1.5</td>\n",
       "      <td>32</td>\n",
       "      <td>1</td>\n",
       "      <td>75.41</td>\n",
       "      <td>0.0</td>\n",
       "      <td>0.0</td>\n",
       "      <td>0.0</td>\n",
       "      <td>75.41</td>\n",
       "      <td>Cash</td>\n",
       "      <td>Blue Ribbon Taxi Association</td>\n",
       "      <td>41.785998518</td>\n",
       "      <td>-87.625192142</td>\n",
       "      <td>POINT (-87.6251921424 41.8788655841)</td>\n",
       "      <td>41.713148612</td>\n",
       "      <td>-87.592310855</td>\n",
       "      <td>POINT (-87.592310855 41.794090253)</td>\n",
       "    </tr>\n",
       "    <tr>\n",
       "      <th>4</th>\n",
       "      <td>max</td>\n",
       "      <td>fc51328f65c0f78f06f76d31c78fcd72cc6cf3be</td>\n",
       "      <td>f348e984b4993a2adefe269223c0dc45403776cfe368d6...</td>\n",
       "      <td>9000</td>\n",
       "      <td>42.6</td>\n",
       "      <td>76</td>\n",
       "      <td>73</td>\n",
       "      <td>112.25</td>\n",
       "      <td>29.1</td>\n",
       "      <td>0.0</td>\n",
       "      <td>72.0</td>\n",
       "      <td>181.41</td>\n",
       "      <td>Credit Card</td>\n",
       "      <td>Taxicab Insurance Agency Llc</td>\n",
       "      <td>41.980264315</td>\n",
       "      <td>-87.913624596</td>\n",
       "      <td>POINT (-87.913624596 41.9802643146)</td>\n",
       "      <td>42.009622881</td>\n",
       "      <td>-87.696435232</td>\n",
       "      <td>POINT (-87.6964352325 41.795430631)</td>\n",
       "    </tr>\n",
       "  </tbody>\n",
       "</table>\n",
       "</div>"
      ],
      "text/plain": [
       "  summary                                   Trip ID                                            Taxi ID       Trip Seconds          Trip Miles Pickup Community Area Dropoff Community Area               Fare                Tips Tolls              Extras          Trip Total Payment Type                       Company Pickup Centroid Latitude Pickup Centroid Longitude              Pickup Centroid Location Dropoff Centroid Latitude Dropoff Centroid Longitude           Dropoff Centroid  Location\n",
       "0   count                                         9                                                  9                  9                   9                     6                      5                  9                   9     9                   9                   9            9                             9                        6                         6                                     6                         5                          5                                    5\n",
       "1    mean                                      None                                               None             3361.0  27.545555555555556                  62.0                   50.0  85.15333387586806   9.712222205268013   0.0   20.77777777777778  115.86555735270183         None                          None        41.89950931866667        -87.81267178950002                                  None             41.8059570826             -87.6565766656                                 None\n",
       "2  stddev                                      None                                               None  2127.622558162044  14.884775872608152    17.663521732655695     30.265491900843113  11.24915185573337  12.040934131386187   0.0  28.792480692785823   37.38305142919592         None                          None      0.09393069046856947       0.11778223617117226                                  None       0.12059299836838534       0.039701069975174384                                 None\n",
       "3     min  04e122209eb6a01ce01f18ef99815cfd87b6b21d  129c8726fd35b2044735d92600d02e2f8b6a54f5d80919...               2175                 1.5                    32                      1              75.41                 0.0   0.0                 0.0               75.41         Cash  Blue Ribbon Taxi Association             41.785998518             -87.625192142  POINT (-87.6251921424 41.8788655841)              41.713148612              -87.592310855   POINT (-87.592310855 41.794090253)\n",
       "4     max  fc51328f65c0f78f06f76d31c78fcd72cc6cf3be  f348e984b4993a2adefe269223c0dc45403776cfe368d6...               9000                42.6                    76                     73             112.25                29.1   0.0                72.0              181.41  Credit Card  Taxicab Insurance Agency Llc             41.980264315             -87.913624596   POINT (-87.913624596 41.9802643146)              42.009622881              -87.696435232  POINT (-87.6964352325 41.795430631)"
      ]
     },
     "execution_count": 76,
     "metadata": {},
     "output_type": "execute_result"
    }
   ],
   "source": [
    "lower_bound, upper_bound = calculate_outliers(df, 'Fare')\n",
    "fare_outliers = df.filter((F.col('Fare') < lower_bound) | (F.col('Fare') > upper_bound))\n",
    "fare_outliers_df = fare_outliers.describe().toPandas().round(2)\n",
    "fare_outliers_df"
   ]
  },
  {
   "cell_type": "code",
   "execution_count": 80,
   "metadata": {
    "tags": []
   },
   "outputs": [
    {
     "name": "stdout",
     "output_type": "stream",
     "text": [
      "El Taxi ID con la mayor cantidad de outliers es: 16c9cec3bf7e9c7a75a8c64e649e390af508e6e9694b80a53dbfc7c8b9d042fa3ea4865c340212681fcb81403dbafca1186c6d58d5beafce7773460d09c393d4\n"
     ]
    }
   ],
   "source": [
    "# Agrupa por 'Taxi ID' y suma la cantidad de 'Fare' en outliers\n",
    "conteo_outliers_por_taxista = fare_outliers.groupBy('Taxi ID').agg(F.sum('Fare').alias('Total Fare'))\n",
    "\n",
    "# Obtener el 'Taxi ID' con la suma máxima de 'Fare'\n",
    "taxista_con_mas_outliers = conteo_outliers_por_taxista.orderBy(F.desc('Total Fare')).first()['Taxi ID']\n",
    "\n",
    "print(f'El Taxi ID con la mayor cantidad de outliers es: {taxista_con_mas_outliers}')"
   ]
  },
  {
   "cell_type": "code",
   "execution_count": 85,
   "metadata": {
    "tags": []
   },
   "outputs": [
    {
     "data": {
      "text/plain": [
       "<Figure size 1200x600 with 0 Axes>"
      ]
     },
     "metadata": {},
     "output_type": "display_data"
    },
    {
     "data": {
      "image/png": "[encoded data removed]",
      "text/plain": [
       "<Figure size 640x480 with 1 Axes>"
      ]
     },
     "metadata": {},
     "output_type": "display_data"
    }
   ],
   "source": [
    "# Obtener los 10 taxistas con más outliers\n",
    "top_10_taxistas = conteo_outliers_por_taxista.orderBy(F.desc('Total Fare')).limit(10).toPandas()\n",
    "\n",
    "fig = plt.figure(figsize=(12, 6))\n",
    "top_10_taxistas.plot(kind='bar', color='skyblue')\n",
    "\n",
    "plt.title('Conteo de Outliers por los 10 Taxistas con más Outliers')\n",
    "plt.ylabel('Conteo de Outliers')\n",
    "plt.xticks(rotation=90)\n",
    "\n",
    "plt.show()"
   ]
  },
  {
   "cell_type": "code",
   "execution_count": 88,
   "metadata": {
    "tags": []
   },
   "outputs": [
    {
     "data": {
      "image/png": "[encoded data removed]",
      "text/plain": [
       "<Figure size 1200x600 with 1 Axes>"
      ]
     },
     "metadata": {},
     "output_type": "display_data"
    }
   ],
   "source": [
    "# Filtrar el DataFrame para obtener las filas del taxista con más outliers\n",
    "taxista_outliers_df = df.filter(F.col('Taxi ID') == taxista_con_mas_outliers).toPandas()\n",
    "\n",
    "plt.figure(figsize=(12, 6))\n",
    "plt.plot(taxista_outliers_df['Trip Start Timestamp'], taxista_outliers_df['Fare'])\n",
    "plt.title('Historial de Taxista anómalo')\n",
    "plt.xlabel('Tiempo')\n",
    "plt.ylabel('Fare')\n",
    "plt.grid(True)\n",
    "plt.xticks(rotation=45)\n",
    "plt.show()"
   ]
  },
  {
   "cell_type": "markdown",
   "metadata": {},
   "source": [
    "### TODO: Falta análisis "
   ]
  },
  {
   "cell_type": "code",
   "execution_count": 94,
   "metadata": {
    "tags": []
   },
   "outputs": [
    {
     "name": "stdout",
     "output_type": "stream",
     "text": [
      "El valor máximo de Fare en los outliers es: 112.25\n"
     ]
    }
   ],
   "source": [
    "max_fare = fare_outliers.agg(F.max('Fare')).first()[0]\n",
    "print(f'El valor máximo de Fare en los outliers es: {max_fare}')"
   ]
  },
  {
   "cell_type": "code",
   "execution_count": 95,
   "metadata": {
    "tags": []
   },
   "outputs": [
    {
     "name": "stdout",
     "output_type": "stream",
     "text": [
      "El Taxi ID anómalo es: 16c9cec3bf7e9c7a75a8c64e649e390af508e6e9694b80a53dbfc7c8b9d042fa3ea4865c340212681fcb81403dbafca1186c6d58d5beafce7773460d09c393d4\n"
     ]
    }
   ],
   "source": [
    "# Filtrar el DataFrame para obtener los registros donde 'Fare' es mayor o igual a max_fare\n",
    "anomalies_df = df.filter(F.col('Fare') >= max_fare)\n",
    "\n",
    "# Obtener el 'Taxi ID' y 'Trip ID' de la primera fila del DataFrame filtrado\n",
    "taxi_anomalo = anomalies_df.select('Taxi ID').first()['Taxi ID']\n",
    "viaje_anomalo = anomalies_df.select('Trip ID').first()['Trip ID']\n",
    "\n",
    "# Imprimir el 'Taxi ID' anómalo\n",
    "print(f'El Taxi ID anómalo es: {taxi_anomalo}')"
   ]
  },
  {
   "cell_type": "code",
   "execution_count": 96,
   "metadata": {
    "tags": []
   },
   "outputs": [
    {
     "data": {
      "image/png": "[encoded data removed]",
      "text/plain": [
       "<Figure size 1200x600 with 1 Axes>"
      ]
     },
     "metadata": {},
     "output_type": "display_data"
    }
   ],
   "source": [
    "# Filtrar el DataFrame para obtener los datos del taxista anómalo\n",
    "taxista_data = df.filter(F.col('Taxi ID') == taxi_anomalo)\n",
    "\n",
    "# Convertir las columnas a Pandas para poder graficar\n",
    "taxista_data_pd = taxista_data.toPandas()\n",
    "\n",
    "# Crear la figura y el gráfico\n",
    "plt.figure(figsize=(12, 6))\n",
    "plt.plot(taxista_data_pd['Trip Start Timestamp'], taxista_data_pd['Fare'])\n",
    "\n",
    "# Configurar el título y las etiquetas\n",
    "plt.title('Historial del Taxista')\n",
    "plt.xlabel('Tiempo')\n",
    "plt.ylabel('Fare')\n",
    "plt.grid(True)\n",
    "plt.xticks(rotation=45)\n",
    "\n",
    "# Mostrar la gráfica\n",
    "plt.show()"
   ]
  },
  {
   "cell_type": "code",
   "execution_count": 97,
   "metadata": {
    "tags": []
   },
   "outputs": [],
   "source": [
    "trip_id_a_eliminar = viaje_anomalo\n",
    "df = df[df['Trip ID'] != trip_id_a_eliminar]"
   ]
  },
  {
   "cell_type": "code",
   "execution_count": 98,
   "metadata": {
    "tags": []
   },
   "outputs": [
    {
     "data": {
      "image/png": "[encoded data removed]",
      "text/plain": [
       "<Figure size 1200x800 with 1 Axes>"
      ]
     },
     "metadata": {},
     "output_type": "display_data"
    }
   ],
   "source": [
    "create_boxplot(df, ['Fare', 'Tips', 'Tolls', 'Extras'], title=\"Fare\")"
   ]
  },
  {
   "cell_type": "code",
   "execution_count": 99,
   "metadata": {
    "tags": []
   },
   "outputs": [
    {
     "name": "stdout",
     "output_type": "stream",
     "text": [
      "+-------+------------------+\n",
      "|summary|              Fare|\n",
      "+-------+------------------+\n",
      "|  count|               986|\n",
      "|   mean|23.993945239765406|\n",
      "| stddev|15.792974257658072|\n",
      "|    min|              3.25|\n",
      "|    25%|              10.0|\n",
      "|    50%|             22.01|\n",
      "|    75%|             36.25|\n",
      "|    max|             89.72|\n",
      "+-------+------------------+\n",
      "\n",
      "Percentiles específicos de 'Fare':\n",
      "Percentil 0.97: 49.5\n",
      "Percentil 0.98: 53.75\n",
      "Percentil 0.9997: 89.72000122070312\n",
      "Percentil 0.9998: 89.72000122070312\n",
      "Percentil 0.9999: 89.72000122070312\n"
     ]
    }
   ],
   "source": [
    "descripcion = df.select('Fare').summary()\n",
    "\n",
    "# Calcular los percentiles específicos\n",
    "percentiles = df.approxQuantile('Fare', [0.97, 0.98, 0.9997, 0.9998, 0.9999], 0.01)\n",
    "\n",
    "# Mostrar la descripción básica\n",
    "descripcion.show()\n",
    "\n",
    "# Imprimir los percentiles\n",
    "print(\"Percentiles específicos de 'Fare':\")\n",
    "for p, value in zip([0.97, 0.98, 0.9997, 0.9998, 0.9999], percentiles):\n",
    "    print(f'Percentil {p}: {value}')"
   ]
  },
  {
   "cell_type": "markdown",
   "metadata": {},
   "source": [
    "### TODO: Justificar por que dejar Fare < a 200"
   ]
  },
  {
   "cell_type": "code",
   "execution_count": 100,
   "metadata": {
    "tags": []
   },
   "outputs": [],
   "source": [
    "df = df.filter(F.col('Fare') < 200)"
   ]
  },
  {
   "cell_type": "code",
   "execution_count": 101,
   "metadata": {
    "tags": []
   },
   "outputs": [
    {
     "data": {
      "image/png": "[encoded data removed]",
      "text/plain": [
       "<Figure size 1200x800 with 1 Axes>"
      ]
     },
     "metadata": {},
     "output_type": "display_data"
    }
   ],
   "source": [
    "create_boxplot(df, ['Fare', 'Tips', 'Tolls', 'Extras'], title=\"Montos\")"
   ]
  },
  {
   "cell_type": "markdown",
   "metadata": {},
   "source": [
    "### Peaje"
   ]
  },
  {
   "cell_type": "code",
   "execution_count": null,
   "metadata": {},
   "outputs": [],
   "source": []
  },
  {
   "cell_type": "markdown",
   "metadata": {},
   "source": [
    "### Extras"
   ]
  },
  {
   "cell_type": "code",
   "execution_count": null,
   "metadata": {},
   "outputs": [],
   "source": []
  },
  {
   "cell_type": "markdown",
   "metadata": {},
   "source": [
    "### Revisión final de Outliers"
   ]
  },
  {
   "cell_type": "code",
   "execution_count": null,
   "metadata": {},
   "outputs": [],
   "source": []
  },
  {
   "cell_type": "markdown",
   "metadata": {},
   "source": [
    "## 5. Análisis de Correlación"
   ]
  },
  {
   "cell_type": "code",
   "execution_count": null,
   "metadata": {},
   "outputs": [],
   "source": []
  }
 ],
 "metadata": {
  "colab": {
   "provenance": []
  },
  "kernelspec": {
   "display_name": "PySpark",
   "language": "python",
   "name": "pyspark"
  },
  "language_info": {
   "codemirror_mode": {
    "name": "ipython",
    "version": 3
   },
   "file_extension": ".py",
   "mimetype": "text/x-python",
   "name": "python",
   "nbconvert_exporter": "python",
   "pygments_lexer": "ipython3",
   "version": "3.11.8"
  }
 },
 "nbformat": 4,
 "nbformat_minor": 4
}
