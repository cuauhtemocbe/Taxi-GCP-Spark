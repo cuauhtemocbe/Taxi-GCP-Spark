{
 "cells": [
  {
   "cell_type": "markdown",
   "metadata": {
    "id": "tllisCiaJK2m"
   },
   "source": [
    "**1. Import de Librerías necesarias**"
   ]
  },
  {
   "cell_type": "code",
   "execution_count": 37,
   "metadata": {
    "id": "xYk5hSg7JK21",
    "tags": []
   },
   "outputs": [],
   "source": [
    "import os\n",
    "import subprocess\n",
    "import pandas as pd\n",
    "from datetime import date\n",
    "\n",
    "from pyspark import SparkContext, HiveContext\n",
    "from pyspark.sql import DataFrame, SQLContext, SparkSession\n",
    "from pyspark.sql.functions import udf\n",
    "from pyspark.sql.types import TimestampType\n",
    "from pyspark.sql.functions import to_timestamp\n",
    "from pyspark.sql import functions as f\n",
    "from pyspark.sql.functions import percentile_approx\n",
    "from pyspark.sql.functions import col, substring\n",
    "\n",
    "pd.set_option('display.max_columns', None)\n",
    "pd.set_option('display.expand_frame_repr', False)"
   ]
  },
  {
   "cell_type": "code",
   "execution_count": 2,
   "metadata": {
    "id": "DJNzXSU2JK3M",
    "tags": []
   },
   "outputs": [
    {
     "name": "stderr",
     "output_type": "stream",
     "text": [
      "24/12/12 02:53:38 WARN SparkSession: Using an existing Spark session; only runtime SQL configurations will take effect.\n"
     ]
    }
   ],
   "source": [
    "ss = SparkSession.builder.appName(\"bigdatita\").getOrCreate()"
   ]
  },
  {
   "cell_type": "markdown",
   "metadata": {
    "id": "8QTwMsGqJK2-"
   },
   "source": [
    "**2. Lectura de los archivos**"
   ]
  },
  {
   "cell_type": "code",
   "execution_count": 3,
   "metadata": {
    "id": "30KXtlaOiJn2",
    "tags": []
   },
   "outputs": [
    {
     "name": "stdout",
     "output_type": "stream",
     "text": [
      "Found 2 items\n",
      "-rw-r--r--   2 navitq hadoop 2689650394 2024-12-12 01:22 /user/bigdatita/chicago/Taxi_Trips_-_2023_20241130.csv\n",
      "-rw-r--r--   2 navitq hadoop 2253224851 2024-12-12 01:22 /user/bigdatita/chicago/Taxi_Trips__2024-__20241210.csv\n"
     ]
    }
   ],
   "source": [
    "!hdfs dfs -ls /user/bigdatita/chicago"
   ]
  },
  {
   "cell_type": "code",
   "execution_count": 4,
   "metadata": {
    "id": "uFrawuVriJn3",
    "tags": []
   },
   "outputs": [
    {
     "data": {
      "text/plain": [
       "['hdfs:///user/bigdatita/chicago/Taxi_Trips_-_2023_20241130.csv',\n",
       " 'hdfs:///user/bigdatita/chicago/Taxi_Trips__2024-__20241210.csv']"
      ]
     },
     "execution_count": 4,
     "metadata": {},
     "output_type": "execute_result"
    }
   ],
   "source": [
    "ruta = '/user/bigdatita/chicago'\n",
    "cmd = f'hdfs dfs -ls {ruta}'\n",
    "lst = str(subprocess.check_output(cmd, shell=True)).strip().split('\\\\n')\n",
    "lst = [x.split(' ')[-1] for x in lst]\n",
    "lst = ['hdfs://%s'%x for x in lst if x!=\"items\" if x!=\"'\"]\n",
    "lst"
   ]
  },
  {
   "cell_type": "markdown",
   "metadata": {
    "id": "j3C_gaUiJK3K"
   },
   "source": [
    "**3. Lectura de archivos desde HDFS a Spark**"
   ]
  },
  {
   "cell_type": "code",
   "execution_count": 5,
   "metadata": {
    "id": "2zHQylYOJK3O",
    "tags": []
   },
   "outputs": [
    {
     "name": "stdout",
     "output_type": "stream",
     "text": [
      "hdfs:///user/bigdatita/chicago/Taxi_Trips_-_2023_20241130.csv\n"
     ]
    },
    {
     "name": "stderr",
     "output_type": "stream",
     "text": [
      "                                                                                \r"
     ]
    },
    {
     "name": "stdout",
     "output_type": "stream",
     "text": [
      "hdfs:///user/bigdatita/chicago/Taxi_Trips__2024-__20241210.csv\n"
     ]
    },
    {
     "name": "stderr",
     "output_type": "stream",
     "text": [
      "[Stage 1:>                                                          (0 + 1) / 1]\r"
     ]
    },
    {
     "name": "stdout",
     "output_type": "stream",
     "text": [
      "CPU times: user 8.76 ms, sys: 11.2 ms, total: 19.9 ms\n",
      "Wall time: 11.5 s\n"
     ]
    },
    {
     "name": "stderr",
     "output_type": "stream",
     "text": [
      "                                                                                \r"
     ]
    }
   ],
   "source": [
    "%%time\n",
    "for i, file in enumerate(lst):\n",
    "    print(file)\n",
    "    if i==0:\n",
    "        df = ss.read.csv(file, header=True, inferSchema=False)\n",
    "    else:\n",
    "        df = df.union(ss.read.csv(file, header=True, inferSchema=False))"
   ]
  },
  {
   "cell_type": "code",
   "execution_count": 6,
   "metadata": {
    "id": "Ud7S1BJHJK3S",
    "tags": []
   },
   "outputs": [
    {
     "name": "stdout",
     "output_type": "stream",
     "text": [
      "root\n",
      " |-- Trip ID: string (nullable = true)\n",
      " |-- Taxi ID: string (nullable = true)\n",
      " |-- Trip Start Timestamp: string (nullable = true)\n",
      " |-- Trip End Timestamp: string (nullable = true)\n",
      " |-- Trip Seconds: string (nullable = true)\n",
      " |-- Trip Miles: string (nullable = true)\n",
      " |-- Pickup Census Tract: string (nullable = true)\n",
      " |-- Dropoff Census Tract: string (nullable = true)\n",
      " |-- Pickup Community Area: string (nullable = true)\n",
      " |-- Dropoff Community Area: string (nullable = true)\n",
      " |-- Fare: string (nullable = true)\n",
      " |-- Tips: string (nullable = true)\n",
      " |-- Tolls: string (nullable = true)\n",
      " |-- Extras: string (nullable = true)\n",
      " |-- Trip Total: string (nullable = true)\n",
      " |-- Payment Type: string (nullable = true)\n",
      " |-- Company: string (nullable = true)\n",
      " |-- Pickup Centroid Latitude: string (nullable = true)\n",
      " |-- Pickup Centroid Longitude: string (nullable = true)\n",
      " |-- Pickup Centroid Location: string (nullable = true)\n",
      " |-- Dropoff Centroid Latitude: string (nullable = true)\n",
      " |-- Dropoff Centroid Longitude: string (nullable = true)\n",
      " |-- Dropoff Centroid  Location: string (nullable = true)\n",
      "\n"
     ]
    }
   ],
   "source": [
    "df.printSchema()"
   ]
  },
  {
   "cell_type": "code",
   "execution_count": 7,
   "metadata": {
    "id": "0FA49BZ8JK3V",
    "tags": []
   },
   "outputs": [],
   "source": [
    "date_format = 'MM/dd/yyyy hh:mm:ss a'\n",
    "\n",
    "df = df.withColumn('Trip Start Timestamp', to_timestamp(df['Trip Start Timestamp'], date_format).cast(TimestampType()))\n",
    "df = df.withColumn('Trip End Timestamp', to_timestamp(df['Trip End Timestamp'], date_format).cast(TimestampType()))"
   ]
  },
  {
   "cell_type": "markdown",
   "metadata": {},
   "source": [
    "## Filtrando información"
   ]
  },
  {
   "cell_type": "code",
   "execution_count": 8,
   "metadata": {
    "tags": []
   },
   "outputs": [],
   "source": [
    "df = df[(df['Trip Start Timestamp'] <= '2024-08-31')]"
   ]
  },
  {
   "cell_type": "code",
   "execution_count": 9,
   "metadata": {
    "tags": []
   },
   "outputs": [
    {
     "name": "stderr",
     "output_type": "stream",
     "text": [
      "[Stage 2:=======================================================> (37 + 1) / 38]\r"
     ]
    },
    {
     "name": "stdout",
     "output_type": "stream",
     "text": [
      "+-------------------------+\n",
      "|max(Trip Start Timestamp)|\n",
      "+-------------------------+\n",
      "|      2024-08-31 00:00:00|\n",
      "+-------------------------+\n",
      "\n"
     ]
    },
    {
     "name": "stderr",
     "output_type": "stream",
     "text": [
      "                                                                                \r"
     ]
    }
   ],
   "source": [
    "df.select(f.max(\"Trip Start Timestamp\")).show()"
   ]
  },
  {
   "cell_type": "code",
   "execution_count": 10,
   "metadata": {
    "id": "BQusS_o6JK3X",
    "tags": []
   },
   "outputs": [],
   "source": [
    "for var in ['Fare', 'Tips', 'Tolls', 'Extras', 'Trip Total']:\n",
    "    df = df.withColumn(var, df[var].cast('float'))"
   ]
  },
  {
   "cell_type": "code",
   "execution_count": 11,
   "metadata": {
    "id": "UJGoLIPBJK3Z",
    "tags": []
   },
   "outputs": [
    {
     "name": "stdout",
     "output_type": "stream",
     "text": [
      "root\n",
      " |-- Trip ID: string (nullable = true)\n",
      " |-- Taxi ID: string (nullable = true)\n",
      " |-- Trip Start Timestamp: timestamp (nullable = true)\n",
      " |-- Trip End Timestamp: timestamp (nullable = true)\n",
      " |-- Trip Seconds: string (nullable = true)\n",
      " |-- Trip Miles: string (nullable = true)\n",
      " |-- Pickup Census Tract: string (nullable = true)\n",
      " |-- Dropoff Census Tract: string (nullable = true)\n",
      " |-- Pickup Community Area: string (nullable = true)\n",
      " |-- Dropoff Community Area: string (nullable = true)\n",
      " |-- Fare: float (nullable = true)\n",
      " |-- Tips: float (nullable = true)\n",
      " |-- Tolls: float (nullable = true)\n",
      " |-- Extras: float (nullable = true)\n",
      " |-- Trip Total: float (nullable = true)\n",
      " |-- Payment Type: string (nullable = true)\n",
      " |-- Company: string (nullable = true)\n",
      " |-- Pickup Centroid Latitude: string (nullable = true)\n",
      " |-- Pickup Centroid Longitude: string (nullable = true)\n",
      " |-- Pickup Centroid Location: string (nullable = true)\n",
      " |-- Dropoff Centroid Latitude: string (nullable = true)\n",
      " |-- Dropoff Centroid Longitude: string (nullable = true)\n",
      " |-- Dropoff Centroid  Location: string (nullable = true)\n",
      "\n"
     ]
    }
   ],
   "source": [
    "df.printSchema()"
   ]
  },
  {
   "cell_type": "markdown",
   "metadata": {
    "id": "sKNximD8JK3b"
   },
   "source": [
    "**4. Operaciones básicas**"
   ]
  },
  {
   "cell_type": "code",
   "execution_count": 12,
   "metadata": {
    "tags": []
   },
   "outputs": [],
   "source": [
    "from IPython.display import display"
   ]
  },
  {
   "cell_type": "code",
   "execution_count": 13,
   "metadata": {
    "id": "sVlm6YOlJK3d",
    "tags": []
   },
   "outputs": [
    {
     "name": "stderr",
     "output_type": "stream",
     "text": [
      "24/12/12 02:54:32 WARN SparkStringUtils: Truncated the string representation of a plan since it was too large. This behavior can be adjusted by setting 'spark.sql.debug.maxToStringFields'.\n",
      "                                                                                \r"
     ]
    }
   ],
   "source": [
    "describe_df = df.describe().toPandas()"
   ]
  },
  {
   "cell_type": "markdown",
   "metadata": {
    "tags": []
   },
   "source": [
    "## Análisis exploratorio"
   ]
  },
  {
   "cell_type": "code",
   "execution_count": 14,
   "metadata": {
    "id": "Ws_jQJQ-JK3e",
    "tags": []
   },
   "outputs": [
    {
     "data": {
      "text/html": [
       "<div>\n",
       "<style scoped>\n",
       "    .dataframe tbody tr th:only-of-type {\n",
       "        vertical-align: middle;\n",
       "    }\n",
       "\n",
       "    .dataframe tbody tr th {\n",
       "        vertical-align: top;\n",
       "    }\n",
       "\n",
       "    .dataframe thead th {\n",
       "        text-align: right;\n",
       "    }\n",
       "</style>\n",
       "<table border=\"1\" class=\"dataframe\">\n",
       "  <thead>\n",
       "    <tr style=\"text-align: right;\">\n",
       "      <th></th>\n",
       "      <th>summary</th>\n",
       "      <th>Trip Seconds</th>\n",
       "      <th>Trip Miles</th>\n",
       "      <th>Pickup Census Tract</th>\n",
       "      <th>Dropoff Census Tract</th>\n",
       "      <th>Pickup Community Area</th>\n",
       "      <th>Dropoff Community Area</th>\n",
       "      <th>Fare</th>\n",
       "      <th>Tips</th>\n",
       "      <th>Tolls</th>\n",
       "      <th>Extras</th>\n",
       "      <th>Trip Total</th>\n",
       "      <th>Payment Type</th>\n",
       "      <th>Company</th>\n",
       "      <th>Pickup Centroid Latitude</th>\n",
       "      <th>Pickup Centroid Longitude</th>\n",
       "      <th>Pickup Centroid Location</th>\n",
       "      <th>Dropoff Centroid Latitude</th>\n",
       "      <th>Dropoff Centroid Longitude</th>\n",
       "      <th>Dropoff Centroid  Location</th>\n",
       "    </tr>\n",
       "  </thead>\n",
       "  <tbody>\n",
       "    <tr>\n",
       "      <th>0</th>\n",
       "      <td>count</td>\n",
       "      <td>10753418</td>\n",
       "      <td>10755450</td>\n",
       "      <td>4715559</td>\n",
       "      <td>4579195</td>\n",
       "      <td>10395504</td>\n",
       "      <td>9728878</td>\n",
       "      <td>10731465</td>\n",
       "      <td>10731465</td>\n",
       "      <td>10731465</td>\n",
       "      <td>10731465</td>\n",
       "      <td>10731465</td>\n",
       "      <td>10755497</td>\n",
       "      <td>10755497</td>\n",
       "      <td>10400001</td>\n",
       "      <td>10400001</td>\n",
       "      <td>10400001</td>\n",
       "      <td>9793910</td>\n",
       "      <td>9793910</td>\n",
       "      <td>9793910</td>\n",
       "    </tr>\n",
       "    <tr>\n",
       "      <th>1</th>\n",
       "      <td>mean</td>\n",
       "      <td>1253.8432065042018</td>\n",
       "      <td>6.611410067454635</td>\n",
       "      <td>1.7031507928872877E10</td>\n",
       "      <td>1.703141496867211E10</td>\n",
       "      <td>35.790761563845294</td>\n",
       "      <td>26.238793517608094</td>\n",
       "      <td>22.538056911430935</td>\n",
       "      <td>2.9734957981665007</td>\n",
       "      <td>0.0495877094770661</td>\n",
       "      <td>2.274319610613869</td>\n",
       "      <td>28.014873584051113</td>\n",
       "      <td>None</td>\n",
       "      <td>None</td>\n",
       "      <td>41.902169394980184</td>\n",
       "      <td>-87.70184576171364</td>\n",
       "      <td>None</td>\n",
       "      <td>41.893577867825144</td>\n",
       "      <td>-87.66223343453349</td>\n",
       "      <td>None</td>\n",
       "    </tr>\n",
       "    <tr>\n",
       "      <th>2</th>\n",
       "      <td>stddev</td>\n",
       "      <td>1675.5977047159922</td>\n",
       "      <td>7.849773679995619</td>\n",
       "      <td>375165.19895197486</td>\n",
       "      <td>344238.57901968947</td>\n",
       "      <td>26.3030986498151</td>\n",
       "      <td>20.95742682723646</td>\n",
       "      <td>26.238946021802896</td>\n",
       "      <td>4.293365694862301</td>\n",
       "      <td>10.821039066251112</td>\n",
       "      <td>18.14324821362521</td>\n",
       "      <td>38.6419479970113</td>\n",
       "      <td>None</td>\n",
       "      <td>None</td>\n",
       "      <td>0.06372773833722475</td>\n",
       "      <td>0.11410234491471953</td>\n",
       "      <td>None</td>\n",
       "      <td>0.05732473692013584</td>\n",
       "      <td>0.07348264270532737</td>\n",
       "      <td>None</td>\n",
       "    </tr>\n",
       "    <tr>\n",
       "      <th>3</th>\n",
       "      <td>min</td>\n",
       "      <td>0</td>\n",
       "      <td>0</td>\n",
       "      <td>17031010100</td>\n",
       "      <td>17031010100</td>\n",
       "      <td>1</td>\n",
       "      <td>1</td>\n",
       "      <td>0.0</td>\n",
       "      <td>0.0</td>\n",
       "      <td>0.0</td>\n",
       "      <td>0.0</td>\n",
       "      <td>0.0</td>\n",
       "      <td>Cash</td>\n",
       "      <td>2733 - 74600 Benny Jona</td>\n",
       "      <td>41.650221676</td>\n",
       "      <td>-87.531386257</td>\n",
       "      <td>POINT (-87.5313862567 41.7204632831)</td>\n",
       "      <td>41.650221676</td>\n",
       "      <td>-87.534902901</td>\n",
       "      <td>POINT (-87.5349029012 41.707311449)</td>\n",
       "    </tr>\n",
       "    <tr>\n",
       "      <th>4</th>\n",
       "      <td>max</td>\n",
       "      <td>9999</td>\n",
       "      <td>99.99</td>\n",
       "      <td>17031980100</td>\n",
       "      <td>17031980100</td>\n",
       "      <td>9</td>\n",
       "      <td>9</td>\n",
       "      <td>9999.75</td>\n",
       "      <td>500.0</td>\n",
       "      <td>6666.66</td>\n",
       "      <td>9693.78</td>\n",
       "      <td>9999.75</td>\n",
       "      <td>Unknown</td>\n",
       "      <td>Wolley Taxi</td>\n",
       "      <td>42.021223593</td>\n",
       "      <td>-87.913624596</td>\n",
       "      <td>POINT (-87.913624596 41.9802643146)</td>\n",
       "      <td>42.021223593</td>\n",
       "      <td>-87.913624596</td>\n",
       "      <td>POINT (-87.913624596 41.9802643146)</td>\n",
       "    </tr>\n",
       "  </tbody>\n",
       "</table>\n",
       "</div>"
      ],
      "text/plain": [
       "  summary        Trip Seconds         Trip Miles    Pickup Census Tract  Dropoff Census Tract Pickup Community Area Dropoff Community Area                Fare                Tips               Tolls             Extras          Trip Total Payment Type                  Company Pickup Centroid Latitude Pickup Centroid Longitude              Pickup Centroid Location Dropoff Centroid Latitude Dropoff Centroid Longitude           Dropoff Centroid  Location\n",
       "0   count            10753418           10755450                4715559               4579195              10395504                9728878            10731465            10731465            10731465           10731465            10731465     10755497                 10755497                 10400001                  10400001                              10400001                   9793910                    9793910                              9793910\n",
       "1    mean  1253.8432065042018  6.611410067454635  1.7031507928872877E10  1.703141496867211E10    35.790761563845294     26.238793517608094  22.538056911430935  2.9734957981665007  0.0495877094770661  2.274319610613869  28.014873584051113         None                     None       41.902169394980184        -87.70184576171364                                  None        41.893577867825144         -87.66223343453349                                 None\n",
       "2  stddev  1675.5977047159922  7.849773679995619     375165.19895197486    344238.57901968947      26.3030986498151      20.95742682723646  26.238946021802896   4.293365694862301  10.821039066251112  18.14324821362521    38.6419479970113         None                     None      0.06372773833722475       0.11410234491471953                                  None       0.05732473692013584        0.07348264270532737                                 None\n",
       "3     min                   0                  0            17031010100           17031010100                     1                      1                 0.0                 0.0                 0.0                0.0                 0.0         Cash  2733 - 74600 Benny Jona             41.650221676             -87.531386257  POINT (-87.5313862567 41.7204632831)              41.650221676              -87.534902901  POINT (-87.5349029012 41.707311449)\n",
       "4     max                9999              99.99            17031980100           17031980100                     9                      9             9999.75               500.0             6666.66            9693.78             9999.75      Unknown              Wolley Taxi             42.021223593             -87.913624596   POINT (-87.913624596 41.9802643146)              42.021223593              -87.913624596  POINT (-87.913624596 41.9802643146)"
      ]
     },
     "metadata": {},
     "output_type": "display_data"
    }
   ],
   "source": [
    "subset = [\n",
    "    \n",
    "    'summary',\n",
    "    'Trip Seconds', 'Trip Miles',\n",
    "    'Pickup Census Tract', 'Dropoff Census Tract', 'Pickup Community Area',\n",
    "    'Dropoff Community Area', 'Fare', 'Tips', 'Tolls', 'Extras',\n",
    "    'Trip Total', 'Payment Type', 'Company', 'Pickup Centroid Latitude',\n",
    "    'Pickup Centroid Longitude', 'Pickup Centroid Location',\n",
    "    'Dropoff Centroid Latitude', 'Dropoff Centroid Longitude',\n",
    "    'Dropoff Centroid  Location'\n",
    "]\n",
    "\n",
    "display(describe_df[subset].round(2))"
   ]
  },
  {
   "cell_type": "code",
   "execution_count": 15,
   "metadata": {
    "id": "qoDHDZqnJK3f",
    "tags": []
   },
   "outputs": [
    {
     "name": "stderr",
     "output_type": "stream",
     "text": [
      "[Stage 10:>                                                         (0 + 1) / 1]\r"
     ]
    },
    {
     "name": "stdout",
     "output_type": "stream",
     "text": [
      "+-----------------------------------------------------+\n",
      "|Percentiles                                          |\n",
      "+-----------------------------------------------------+\n",
      "|[0.0, 3.25, 3.25, 3.25, 58.25, 64.25, 73.25, 9999.75]|\n",
      "+-----------------------------------------------------+\n",
      "\n",
      "CPU times: user 26.7 ms, sys: 15.9 ms, total: 42.6 ms\n",
      "Wall time: 25.4 s\n"
     ]
    },
    {
     "name": "stderr",
     "output_type": "stream",
     "text": [
      "                                                                                \r"
     ]
    }
   ],
   "source": [
    "%%time\n",
    "deciles = df.selectExpr(\"percentile_approx(Fare, array(0.0, 0.01, 0.02, 0.03, 0.97, 0.98, 0.99, 1.0)) as Percentiles\")\n",
    "deciles.show(truncate=False)"
   ]
  },
  {
   "cell_type": "markdown",
   "metadata": {},
   "source": [
    "## Valores nulo"
   ]
  },
  {
   "cell_type": "code",
   "execution_count": 23,
   "metadata": {
    "tags": []
   },
   "outputs": [
    {
     "name": "stderr",
     "output_type": "stream",
     "text": [
      "                                                                                \r"
     ]
    }
   ],
   "source": [
    "from pyspark.sql.functions import col, isnan, when, count\n",
    "\n",
    "# Columnas numéricas\n",
    "numeric_columns = [c for c, t in df.dtypes if t in [\"double\", \"float\"]]\n",
    "\n",
    "# Columnas no numéricas\n",
    "other_columns = [c for c, t in df.dtypes if t not in [\"double\", \"float\"]]\n",
    "\n",
    "# Contar valores faltantes para columnas numéricas\n",
    "numeric_missing = [\n",
    "    count(when(isnan(col(c)) | col(c).isNull(), c)).alias(c) for c in numeric_columns\n",
    "]\n",
    "\n",
    "# Contar valores faltantes para columnas no numéricas\n",
    "other_missing = [\n",
    "    count(when(col(c).isNull(), c)).alias(c) for c in other_columns\n",
    "]\n",
    "\n",
    "# Combinar resultados\n",
    "missings_df = df.select(numeric_missing + other_missing).toPandas()"
   ]
  },
  {
   "cell_type": "code",
   "execution_count": 24,
   "metadata": {
    "tags": []
   },
   "outputs": [
    {
     "data": {
      "text/html": [
       "<div>\n",
       "<style scoped>\n",
       "    .dataframe tbody tr th:only-of-type {\n",
       "        vertical-align: middle;\n",
       "    }\n",
       "\n",
       "    .dataframe tbody tr th {\n",
       "        vertical-align: top;\n",
       "    }\n",
       "\n",
       "    .dataframe thead th {\n",
       "        text-align: right;\n",
       "    }\n",
       "</style>\n",
       "<table border=\"1\" class=\"dataframe\">\n",
       "  <thead>\n",
       "    <tr style=\"text-align: right;\">\n",
       "      <th></th>\n",
       "      <th>Fare</th>\n",
       "      <th>Tips</th>\n",
       "      <th>Tolls</th>\n",
       "      <th>Extras</th>\n",
       "      <th>Trip Total</th>\n",
       "      <th>Trip ID</th>\n",
       "      <th>Taxi ID</th>\n",
       "      <th>Trip Start Timestamp</th>\n",
       "      <th>Trip End Timestamp</th>\n",
       "      <th>Trip Seconds</th>\n",
       "      <th>Trip Miles</th>\n",
       "      <th>Pickup Census Tract</th>\n",
       "      <th>Dropoff Census Tract</th>\n",
       "      <th>Pickup Community Area</th>\n",
       "      <th>Dropoff Community Area</th>\n",
       "      <th>Payment Type</th>\n",
       "      <th>Company</th>\n",
       "      <th>Pickup Centroid Latitude</th>\n",
       "      <th>Pickup Centroid Longitude</th>\n",
       "      <th>Pickup Centroid Location</th>\n",
       "      <th>Dropoff Centroid Latitude</th>\n",
       "      <th>Dropoff Centroid Longitude</th>\n",
       "      <th>Dropoff Centroid  Location</th>\n",
       "    </tr>\n",
       "  </thead>\n",
       "  <tbody>\n",
       "    <tr>\n",
       "      <th>0</th>\n",
       "      <td>24032</td>\n",
       "      <td>24032</td>\n",
       "      <td>24032</td>\n",
       "      <td>24032</td>\n",
       "      <td>24032</td>\n",
       "      <td>0</td>\n",
       "      <td>0</td>\n",
       "      <td>0</td>\n",
       "      <td>121</td>\n",
       "      <td>2079</td>\n",
       "      <td>47</td>\n",
       "      <td>6039938</td>\n",
       "      <td>6176302</td>\n",
       "      <td>359993</td>\n",
       "      <td>1026619</td>\n",
       "      <td>0</td>\n",
       "      <td>0</td>\n",
       "      <td>355496</td>\n",
       "      <td>355496</td>\n",
       "      <td>355496</td>\n",
       "      <td>961587</td>\n",
       "      <td>961587</td>\n",
       "      <td>961587</td>\n",
       "    </tr>\n",
       "  </tbody>\n",
       "</table>\n",
       "</div>"
      ],
      "text/plain": [
       "    Fare   Tips  Tolls  Extras  Trip Total  Trip ID  Taxi ID  Trip Start Timestamp  Trip End Timestamp  Trip Seconds  Trip Miles  Pickup Census Tract  Dropoff Census Tract  Pickup Community Area  Dropoff Community Area  Payment Type  Company  Pickup Centroid Latitude  Pickup Centroid Longitude  Pickup Centroid Location  Dropoff Centroid Latitude  Dropoff Centroid Longitude  Dropoff Centroid  Location\n",
       "0  24032  24032  24032   24032       24032        0        0                     0                 121          2079          47              6039938               6176302                 359993                 1026619             0        0                    355496                     355496                    355496                     961587                      961587                      961587"
      ]
     },
     "metadata": {},
     "output_type": "display_data"
    }
   ],
   "source": [
    "display(missings_df.round())"
   ]
  },
  {
   "cell_type": "code",
   "execution_count": 25,
   "metadata": {
    "tags": []
   },
   "outputs": [
    {
     "name": "stderr",
     "output_type": "stream",
     "text": [
      "                                                                                \r"
     ]
    }
   ],
   "source": [
    "total = df.count()\n",
    "missings_df = missings_df.T / total * 100\n"
   ]
  },
  {
   "cell_type": "code",
   "execution_count": 26,
   "metadata": {
    "tags": []
   },
   "outputs": [
    {
     "data": {
      "text/html": [
       "<div>\n",
       "<style scoped>\n",
       "    .dataframe tbody tr th:only-of-type {\n",
       "        vertical-align: middle;\n",
       "    }\n",
       "\n",
       "    .dataframe tbody tr th {\n",
       "        vertical-align: top;\n",
       "    }\n",
       "\n",
       "    .dataframe thead th {\n",
       "        text-align: right;\n",
       "    }\n",
       "</style>\n",
       "<table border=\"1\" class=\"dataframe\">\n",
       "  <thead>\n",
       "    <tr style=\"text-align: right;\">\n",
       "      <th></th>\n",
       "      <th>index</th>\n",
       "      <th>0</th>\n",
       "    </tr>\n",
       "  </thead>\n",
       "  <tbody>\n",
       "    <tr>\n",
       "      <th>12</th>\n",
       "      <td>Dropoff Census Tract</td>\n",
       "      <td>57.424608</td>\n",
       "    </tr>\n",
       "    <tr>\n",
       "      <th>11</th>\n",
       "      <td>Pickup Census Tract</td>\n",
       "      <td>56.156754</td>\n",
       "    </tr>\n",
       "    <tr>\n",
       "      <th>14</th>\n",
       "      <td>Dropoff Community Area</td>\n",
       "      <td>9.545063</td>\n",
       "    </tr>\n",
       "    <tr>\n",
       "      <th>21</th>\n",
       "      <td>Dropoff Centroid Longitude</td>\n",
       "      <td>8.940424</td>\n",
       "    </tr>\n",
       "    <tr>\n",
       "      <th>20</th>\n",
       "      <td>Dropoff Centroid Latitude</td>\n",
       "      <td>8.940424</td>\n",
       "    </tr>\n",
       "    <tr>\n",
       "      <th>22</th>\n",
       "      <td>Dropoff Centroid  Location</td>\n",
       "      <td>8.940424</td>\n",
       "    </tr>\n",
       "    <tr>\n",
       "      <th>13</th>\n",
       "      <td>Pickup Community Area</td>\n",
       "      <td>3.347061</td>\n",
       "    </tr>\n",
       "    <tr>\n",
       "      <th>19</th>\n",
       "      <td>Pickup Centroid Location</td>\n",
       "      <td>3.305249</td>\n",
       "    </tr>\n",
       "    <tr>\n",
       "      <th>18</th>\n",
       "      <td>Pickup Centroid Longitude</td>\n",
       "      <td>3.305249</td>\n",
       "    </tr>\n",
       "    <tr>\n",
       "      <th>17</th>\n",
       "      <td>Pickup Centroid Latitude</td>\n",
       "      <td>3.305249</td>\n",
       "    </tr>\n",
       "    <tr>\n",
       "      <th>4</th>\n",
       "      <td>Trip Total</td>\n",
       "      <td>0.223439</td>\n",
       "    </tr>\n",
       "    <tr>\n",
       "      <th>2</th>\n",
       "      <td>Tolls</td>\n",
       "      <td>0.223439</td>\n",
       "    </tr>\n",
       "    <tr>\n",
       "      <th>3</th>\n",
       "      <td>Extras</td>\n",
       "      <td>0.223439</td>\n",
       "    </tr>\n",
       "    <tr>\n",
       "      <th>0</th>\n",
       "      <td>Fare</td>\n",
       "      <td>0.223439</td>\n",
       "    </tr>\n",
       "    <tr>\n",
       "      <th>1</th>\n",
       "      <td>Tips</td>\n",
       "      <td>0.223439</td>\n",
       "    </tr>\n",
       "    <tr>\n",
       "      <th>9</th>\n",
       "      <td>Trip Seconds</td>\n",
       "      <td>0.019330</td>\n",
       "    </tr>\n",
       "    <tr>\n",
       "      <th>8</th>\n",
       "      <td>Trip End Timestamp</td>\n",
       "      <td>0.001125</td>\n",
       "    </tr>\n",
       "    <tr>\n",
       "      <th>10</th>\n",
       "      <td>Trip Miles</td>\n",
       "      <td>0.000437</td>\n",
       "    </tr>\n",
       "    <tr>\n",
       "      <th>7</th>\n",
       "      <td>Trip Start Timestamp</td>\n",
       "      <td>0.000000</td>\n",
       "    </tr>\n",
       "    <tr>\n",
       "      <th>15</th>\n",
       "      <td>Payment Type</td>\n",
       "      <td>0.000000</td>\n",
       "    </tr>\n",
       "    <tr>\n",
       "      <th>16</th>\n",
       "      <td>Company</td>\n",
       "      <td>0.000000</td>\n",
       "    </tr>\n",
       "    <tr>\n",
       "      <th>5</th>\n",
       "      <td>Trip ID</td>\n",
       "      <td>0.000000</td>\n",
       "    </tr>\n",
       "    <tr>\n",
       "      <th>6</th>\n",
       "      <td>Taxi ID</td>\n",
       "      <td>0.000000</td>\n",
       "    </tr>\n",
       "  </tbody>\n",
       "</table>\n",
       "</div>"
      ],
      "text/plain": [
       "                         index          0\n",
       "12        Dropoff Census Tract  57.424608\n",
       "11         Pickup Census Tract  56.156754\n",
       "14      Dropoff Community Area   9.545063\n",
       "21  Dropoff Centroid Longitude   8.940424\n",
       "20   Dropoff Centroid Latitude   8.940424\n",
       "22  Dropoff Centroid  Location   8.940424\n",
       "13       Pickup Community Area   3.347061\n",
       "19    Pickup Centroid Location   3.305249\n",
       "18   Pickup Centroid Longitude   3.305249\n",
       "17    Pickup Centroid Latitude   3.305249\n",
       "4                   Trip Total   0.223439\n",
       "2                        Tolls   0.223439\n",
       "3                       Extras   0.223439\n",
       "0                         Fare   0.223439\n",
       "1                         Tips   0.223439\n",
       "9                 Trip Seconds   0.019330\n",
       "8           Trip End Timestamp   0.001125\n",
       "10                  Trip Miles   0.000437\n",
       "7         Trip Start Timestamp   0.000000\n",
       "15                Payment Type   0.000000\n",
       "16                     Company   0.000000\n",
       "5                      Trip ID   0.000000\n",
       "6                      Taxi ID   0.000000"
      ]
     },
     "execution_count": 26,
     "metadata": {},
     "output_type": "execute_result"
    }
   ],
   "source": [
    "missings_df=missings_df.reset_index().sort_values(0, ascending=False)\n",
    "missings_df"
   ]
  },
  {
   "cell_type": "markdown",
   "metadata": {},
   "source": [
    "## Missings en las variables de Census Tract"
   ]
  },
  {
   "cell_type": "code",
   "execution_count": 27,
   "metadata": {
    "tags": []
   },
   "outputs": [
    {
     "data": {
      "text/html": [
       "<div>\n",
       "<style scoped>\n",
       "    .dataframe tbody tr th:only-of-type {\n",
       "        vertical-align: middle;\n",
       "    }\n",
       "\n",
       "    .dataframe tbody tr th {\n",
       "        vertical-align: top;\n",
       "    }\n",
       "\n",
       "    .dataframe thead th {\n",
       "        text-align: right;\n",
       "    }\n",
       "</style>\n",
       "<table border=\"1\" class=\"dataframe\">\n",
       "  <thead>\n",
       "    <tr style=\"text-align: right;\">\n",
       "      <th></th>\n",
       "      <th>index</th>\n",
       "      <th>0</th>\n",
       "    </tr>\n",
       "  </thead>\n",
       "  <tbody>\n",
       "    <tr>\n",
       "      <th>12</th>\n",
       "      <td>Dropoff Census Tract</td>\n",
       "      <td>57.424608</td>\n",
       "    </tr>\n",
       "    <tr>\n",
       "      <th>11</th>\n",
       "      <td>Pickup Census Tract</td>\n",
       "      <td>56.156754</td>\n",
       "    </tr>\n",
       "    <tr>\n",
       "      <th>14</th>\n",
       "      <td>Dropoff Community Area</td>\n",
       "      <td>9.545063</td>\n",
       "    </tr>\n",
       "    <tr>\n",
       "      <th>21</th>\n",
       "      <td>Dropoff Centroid Longitude</td>\n",
       "      <td>8.940424</td>\n",
       "    </tr>\n",
       "    <tr>\n",
       "      <th>20</th>\n",
       "      <td>Dropoff Centroid Latitude</td>\n",
       "      <td>8.940424</td>\n",
       "    </tr>\n",
       "    <tr>\n",
       "      <th>22</th>\n",
       "      <td>Dropoff Centroid  Location</td>\n",
       "      <td>8.940424</td>\n",
       "    </tr>\n",
       "    <tr>\n",
       "      <th>13</th>\n",
       "      <td>Pickup Community Area</td>\n",
       "      <td>3.347061</td>\n",
       "    </tr>\n",
       "    <tr>\n",
       "      <th>19</th>\n",
       "      <td>Pickup Centroid Location</td>\n",
       "      <td>3.305249</td>\n",
       "    </tr>\n",
       "    <tr>\n",
       "      <th>18</th>\n",
       "      <td>Pickup Centroid Longitude</td>\n",
       "      <td>3.305249</td>\n",
       "    </tr>\n",
       "    <tr>\n",
       "      <th>17</th>\n",
       "      <td>Pickup Centroid Latitude</td>\n",
       "      <td>3.305249</td>\n",
       "    </tr>\n",
       "    <tr>\n",
       "      <th>4</th>\n",
       "      <td>Trip Total</td>\n",
       "      <td>0.223439</td>\n",
       "    </tr>\n",
       "    <tr>\n",
       "      <th>2</th>\n",
       "      <td>Tolls</td>\n",
       "      <td>0.223439</td>\n",
       "    </tr>\n",
       "    <tr>\n",
       "      <th>3</th>\n",
       "      <td>Extras</td>\n",
       "      <td>0.223439</td>\n",
       "    </tr>\n",
       "    <tr>\n",
       "      <th>0</th>\n",
       "      <td>Fare</td>\n",
       "      <td>0.223439</td>\n",
       "    </tr>\n",
       "    <tr>\n",
       "      <th>1</th>\n",
       "      <td>Tips</td>\n",
       "      <td>0.223439</td>\n",
       "    </tr>\n",
       "    <tr>\n",
       "      <th>9</th>\n",
       "      <td>Trip Seconds</td>\n",
       "      <td>0.019330</td>\n",
       "    </tr>\n",
       "    <tr>\n",
       "      <th>8</th>\n",
       "      <td>Trip End Timestamp</td>\n",
       "      <td>0.001125</td>\n",
       "    </tr>\n",
       "    <tr>\n",
       "      <th>10</th>\n",
       "      <td>Trip Miles</td>\n",
       "      <td>0.000437</td>\n",
       "    </tr>\n",
       "    <tr>\n",
       "      <th>7</th>\n",
       "      <td>Trip Start Timestamp</td>\n",
       "      <td>0.000000</td>\n",
       "    </tr>\n",
       "    <tr>\n",
       "      <th>15</th>\n",
       "      <td>Payment Type</td>\n",
       "      <td>0.000000</td>\n",
       "    </tr>\n",
       "    <tr>\n",
       "      <th>16</th>\n",
       "      <td>Company</td>\n",
       "      <td>0.000000</td>\n",
       "    </tr>\n",
       "    <tr>\n",
       "      <th>5</th>\n",
       "      <td>Trip ID</td>\n",
       "      <td>0.000000</td>\n",
       "    </tr>\n",
       "    <tr>\n",
       "      <th>6</th>\n",
       "      <td>Taxi ID</td>\n",
       "      <td>0.000000</td>\n",
       "    </tr>\n",
       "  </tbody>\n",
       "</table>\n",
       "</div>"
      ],
      "text/plain": [
       "                         index          0\n",
       "12        Dropoff Census Tract  57.424608\n",
       "11         Pickup Census Tract  56.156754\n",
       "14      Dropoff Community Area   9.545063\n",
       "21  Dropoff Centroid Longitude   8.940424\n",
       "20   Dropoff Centroid Latitude   8.940424\n",
       "22  Dropoff Centroid  Location   8.940424\n",
       "13       Pickup Community Area   3.347061\n",
       "19    Pickup Centroid Location   3.305249\n",
       "18   Pickup Centroid Longitude   3.305249\n",
       "17    Pickup Centroid Latitude   3.305249\n",
       "4                   Trip Total   0.223439\n",
       "2                        Tolls   0.223439\n",
       "3                       Extras   0.223439\n",
       "0                         Fare   0.223439\n",
       "1                         Tips   0.223439\n",
       "9                 Trip Seconds   0.019330\n",
       "8           Trip End Timestamp   0.001125\n",
       "10                  Trip Miles   0.000437\n",
       "7         Trip Start Timestamp   0.000000\n",
       "15                Payment Type   0.000000\n",
       "16                     Company   0.000000\n",
       "5                      Trip ID   0.000000\n",
       "6                      Taxi ID   0.000000"
      ]
     },
     "execution_count": 27,
     "metadata": {},
     "output_type": "execute_result"
    }
   ],
   "source": [
    "missings_df"
   ]
  },
  {
   "cell_type": "code",
   "execution_count": 33,
   "metadata": {
    "tags": []
   },
   "outputs": [
    {
     "name": "stdout",
     "output_type": "stream",
     "text": [
      "Missings Pickup: [['Dropoff Census Tract' 57.424608086451045]]\n",
      "Missings Dropoff: [['Pickup Census Tract' 56.15675407654337]]\n"
     ]
    }
   ],
   "source": [
    "# Total de Census con missings\n",
    "print(f'Missings Pickup: {missings_df[missings_df[\"index\"] == \"Dropoff Census Tract\"].values}')\n",
    "print(f'Missings Dropoff: {missings_df[missings_df[\"index\"] == \"Pickup Census Tract\"].values}')"
   ]
  },
  {
   "cell_type": "markdown",
   "metadata": {},
   "source": [
    "**Queremos ver cuáles son las diferencias de sectores con los que contamos para obtener si hay pickup o dropoff fuera de Chicago.**"
   ]
  },
  {
   "cell_type": "code",
   "execution_count": 34,
   "metadata": {
    "tags": []
   },
   "outputs": [
    {
     "name": "stderr",
     "output_type": "stream",
     "text": [
      "[Stage 23:======================================================> (37 + 1) / 38]\r"
     ]
    },
    {
     "name": "stdout",
     "output_type": "stream",
     "text": [
      "Número de valores únicos en \"Pickup Census Tract\": 778\n"
     ]
    },
    {
     "name": "stderr",
     "output_type": "stream",
     "text": [
      "                                                                                \r"
     ]
    }
   ],
   "source": [
    "# Número de valores únicos en la columna \"Pickup Census Tract\" en PySpark\n",
    "pickup_unique_count = df.select(\"Pickup Census Tract\").distinct().count()\n",
    "print(f'Número de valores únicos en \"Pickup Census Tract\": {pickup_unique_count}')\n"
   ]
  },
  {
   "cell_type": "code",
   "execution_count": 35,
   "metadata": {
    "tags": []
   },
   "outputs": [
    {
     "name": "stderr",
     "output_type": "stream",
     "text": [
      "[Stage 29:=====================================================>  (36 + 2) / 38]\r"
     ]
    },
    {
     "name": "stdout",
     "output_type": "stream",
     "text": [
      "Número de valores únicos en \"Dropoff Census Tract\": 923\n"
     ]
    },
    {
     "name": "stderr",
     "output_type": "stream",
     "text": [
      "                                                                                \r"
     ]
    }
   ],
   "source": [
    "# Número de valores únicos en la columna \"Pickup Census Tract\" en PySpark\n",
    "pickup_unique_count = df.select(\"Dropoff Census Tract\").distinct().count()\n",
    "print(f'Número de valores únicos en \"Dropoff Census Tract\": {pickup_unique_count}')\n"
   ]
  },
  {
   "cell_type": "code",
   "execution_count": 43,
   "metadata": {
    "tags": []
   },
   "outputs": [
    {
     "name": "stderr",
     "output_type": "stream",
     "text": [
      "                                                                                \r"
     ]
    },
    {
     "name": "stdout",
     "output_type": "stream",
     "text": [
      "Número de valores únicos en los primeros 5 caracteres de \"Pickup Census Tract\": 2\n"
     ]
    },
    {
     "name": "stderr",
     "output_type": "stream",
     "text": [
      "                                                                                \r"
     ]
    },
    {
     "name": "stdout",
     "output_type": "stream",
     "text": [
      "Valores únicos en los primeros 5 caracteres de 'Pickup Census Tract':\n",
      "17031\n",
      "None\n"
     ]
    }
   ],
   "source": [
    "# Obtener los valores únicos truncados de \"Dropoff Census Tract\"\n",
    "Pickup_unique = df.select(substring(col(\"Pickup Census Tract\"), 1, 5).alias(\"truncated_Pickup\")) \\\n",
    "    .distinct()\n",
    "\n",
    "# Imprimir el número de valores únicos\n",
    "print(f'Número de valores únicos en los primeros 5 caracteres de \"Pickup Census Tract\": {Pickup_unique.count()}')\n",
    "\n",
    "# Imprimir los valores únicos\n",
    "unique_values_Pickup = Pickup_unique.collect()\n",
    "print(\"Valores únicos en los primeros 5 caracteres de 'Pickup Census Tract':\")\n",
    "for row in unique_values_Pickup:\n",
    "    print(row[\"truncated_Pickup\"])"
   ]
  },
  {
   "cell_type": "code",
   "execution_count": 41,
   "metadata": {
    "tags": []
   },
   "outputs": [
    {
     "name": "stderr",
     "output_type": "stream",
     "text": [
      "                                                                                \r"
     ]
    },
    {
     "name": "stdout",
     "output_type": "stream",
     "text": [
      "Número de valores únicos en los primeros 5 caracteres de \"Dropoff Census Tract\": 2\n"
     ]
    },
    {
     "name": "stderr",
     "output_type": "stream",
     "text": [
      "[Stage 53:=====================================================>  (36 + 2) / 38]\r"
     ]
    },
    {
     "name": "stdout",
     "output_type": "stream",
     "text": [
      "Valores únicos en los primeros 5 caracteres de 'Dropoff Census Tract':\n",
      "17031\n",
      "None\n"
     ]
    },
    {
     "name": "stderr",
     "output_type": "stream",
     "text": [
      "                                                                                \r"
     ]
    }
   ],
   "source": [
    "# Obtener los valores únicos truncados de \"Dropoff Census Tract\"\n",
    "dropoff_unique = df.select(substring(col(\"Dropoff Census Tract\"), 1, 5).alias(\"truncated_dropoff\")) \\\n",
    "    .distinct()\n",
    "\n",
    "# Imprimir el número de valores únicos\n",
    "print(f'Número de valores únicos en los primeros 5 caracteres de \"Dropoff Census Tract\": {dropoff_unique.count()}')\n",
    "\n",
    "# Imprimir los valores únicos\n",
    "unique_values = dropoff_unique.collect()\n",
    "print(\"Valores únicos en los primeros 5 caracteres de 'Dropoff Census Tract':\")\n",
    "for row in unique_values:\n",
    "    print(row[\"truncated_dropoff\"])"
   ]
  },
  {
   "cell_type": "markdown",
   "metadata": {},
   "source": [
    "**Observaciones**\n",
    "\n",
    "El registro de sectores en Chicago es únicamente de 5 dígitos y el registro de los Census Tract estan dados en 11 dígitos, si reducimos estos digitos y unicamente nos quedamos con los 5 útiles podremos darnos cuentas que todos nuestros viajes son dentro del Condado de Cook."
   ]
  },
  {
   "cell_type": "markdown",
   "metadata": {},
   "source": [
    "**Conclusión**\n",
    "\n",
    "Por la cantidad de datos faltantes en Census Tract tanto en Pickup como Dropoff, y además al ser una variable unaria ya que la información contenida está en función del mismo sector, la variable resulta poco relevante para el análisis. Adicionalmente, carece de sentido aplicar imputación. Por lo que se deben eliminar dichas variables."
   ]
  },
  {
   "cell_type": "code",
   "execution_count": 44,
   "metadata": {
    "tags": []
   },
   "outputs": [],
   "source": [
    "columns_to_exclude = ['Pickup Census Tract', 'Dropoff Census Tract']"
   ]
  },
  {
   "cell_type": "code",
   "execution_count": 45,
   "metadata": {
    "tags": []
   },
   "outputs": [
    {
     "name": "stdout",
     "output_type": "stream",
     "text": [
      "root\n",
      " |-- Trip ID: string (nullable = true)\n",
      " |-- Taxi ID: string (nullable = true)\n",
      " |-- Trip Start Timestamp: timestamp (nullable = true)\n",
      " |-- Trip End Timestamp: timestamp (nullable = true)\n",
      " |-- Trip Seconds: string (nullable = true)\n",
      " |-- Trip Miles: string (nullable = true)\n",
      " |-- Pickup Community Area: string (nullable = true)\n",
      " |-- Dropoff Community Area: string (nullable = true)\n",
      " |-- Fare: float (nullable = true)\n",
      " |-- Tips: float (nullable = true)\n",
      " |-- Tolls: float (nullable = true)\n",
      " |-- Extras: float (nullable = true)\n",
      " |-- Trip Total: float (nullable = true)\n",
      " |-- Payment Type: string (nullable = true)\n",
      " |-- Company: string (nullable = true)\n",
      " |-- Pickup Centroid Latitude: string (nullable = true)\n",
      " |-- Pickup Centroid Longitude: string (nullable = true)\n",
      " |-- Pickup Centroid Location: string (nullable = true)\n",
      " |-- Dropoff Centroid Latitude: string (nullable = true)\n",
      " |-- Dropoff Centroid Longitude: string (nullable = true)\n",
      " |-- Dropoff Centroid  Location: string (nullable = true)\n",
      "\n"
     ]
    }
   ],
   "source": [
    "# Eliminar columnas en PySpark\n",
    "df = df.drop(*columns_to_exclude)\n",
    "# Verificar el esquema para confirmar que se eliminaron las columnas\n",
    "df.printSchema()"
   ]
  },
  {
   "cell_type": "markdown",
   "metadata": {},
   "source": [
    "#### Missings en Trip Total"
   ]
  },
  {
   "cell_type": "markdown",
   "metadata": {},
   "source": [
    "**Recalculamos el total de valores ausentes con los que cuenta ahora el conjunto de datos.**"
   ]
  },
  {
   "cell_type": "code",
   "execution_count": 46,
   "metadata": {
    "tags": []
   },
   "outputs": [
    {
     "name": "stderr",
     "output_type": "stream",
     "text": [
      "                                                                                \r"
     ]
    }
   ],
   "source": [
    "from pyspark.sql.functions import col, isnan, when, count\n",
    "\n",
    "# Columnas numéricas\n",
    "numeric_columns = [c for c, t in df.dtypes if t in [\"double\", \"float\"]]\n",
    "\n",
    "# Columnas no numéricas\n",
    "other_columns = [c for c, t in df.dtypes if t not in [\"double\", \"float\"]]\n",
    "\n",
    "# Contar valores faltantes para columnas numéricas\n",
    "numeric_missing = [\n",
    "    count(when(isnan(col(c)) | col(c).isNull(), c)).alias(c) for c in numeric_columns\n",
    "]\n",
    "\n",
    "# Contar valores faltantes para columnas no numéricas\n",
    "other_missing = [\n",
    "    count(when(col(c).isNull(), c)).alias(c) for c in other_columns\n",
    "]\n",
    "\n",
    "# Combinar resultados\n",
    "missings_df = df.select(numeric_missing + other_missing).toPandas()"
   ]
  },
  {
   "cell_type": "code",
   "execution_count": 47,
   "metadata": {
    "tags": []
   },
   "outputs": [
    {
     "data": {
      "text/html": [
       "<div>\n",
       "<style scoped>\n",
       "    .dataframe tbody tr th:only-of-type {\n",
       "        vertical-align: middle;\n",
       "    }\n",
       "\n",
       "    .dataframe tbody tr th {\n",
       "        vertical-align: top;\n",
       "    }\n",
       "\n",
       "    .dataframe thead th {\n",
       "        text-align: right;\n",
       "    }\n",
       "</style>\n",
       "<table border=\"1\" class=\"dataframe\">\n",
       "  <thead>\n",
       "    <tr style=\"text-align: right;\">\n",
       "      <th></th>\n",
       "      <th>Fare</th>\n",
       "      <th>Tips</th>\n",
       "      <th>Tolls</th>\n",
       "      <th>Extras</th>\n",
       "      <th>Trip Total</th>\n",
       "      <th>Trip ID</th>\n",
       "      <th>Taxi ID</th>\n",
       "      <th>Trip Start Timestamp</th>\n",
       "      <th>Trip End Timestamp</th>\n",
       "      <th>Trip Seconds</th>\n",
       "      <th>Trip Miles</th>\n",
       "      <th>Pickup Community Area</th>\n",
       "      <th>Dropoff Community Area</th>\n",
       "      <th>Payment Type</th>\n",
       "      <th>Company</th>\n",
       "      <th>Pickup Centroid Latitude</th>\n",
       "      <th>Pickup Centroid Longitude</th>\n",
       "      <th>Pickup Centroid Location</th>\n",
       "      <th>Dropoff Centroid Latitude</th>\n",
       "      <th>Dropoff Centroid Longitude</th>\n",
       "      <th>Dropoff Centroid  Location</th>\n",
       "    </tr>\n",
       "  </thead>\n",
       "  <tbody>\n",
       "    <tr>\n",
       "      <th>0</th>\n",
       "      <td>24032</td>\n",
       "      <td>24032</td>\n",
       "      <td>24032</td>\n",
       "      <td>24032</td>\n",
       "      <td>24032</td>\n",
       "      <td>0</td>\n",
       "      <td>0</td>\n",
       "      <td>0</td>\n",
       "      <td>121</td>\n",
       "      <td>2079</td>\n",
       "      <td>47</td>\n",
       "      <td>359993</td>\n",
       "      <td>1026619</td>\n",
       "      <td>0</td>\n",
       "      <td>0</td>\n",
       "      <td>355496</td>\n",
       "      <td>355496</td>\n",
       "      <td>355496</td>\n",
       "      <td>961587</td>\n",
       "      <td>961587</td>\n",
       "      <td>961587</td>\n",
       "    </tr>\n",
       "  </tbody>\n",
       "</table>\n",
       "</div>"
      ],
      "text/plain": [
       "    Fare   Tips  Tolls  Extras  Trip Total  Trip ID  Taxi ID  Trip Start Timestamp  Trip End Timestamp  Trip Seconds  Trip Miles  Pickup Community Area  Dropoff Community Area  Payment Type  Company  Pickup Centroid Latitude  Pickup Centroid Longitude  Pickup Centroid Location  Dropoff Centroid Latitude  Dropoff Centroid Longitude  Dropoff Centroid  Location\n",
       "0  24032  24032  24032   24032       24032        0        0                     0                 121          2079          47                 359993                 1026619             0        0                    355496                     355496                    355496                     961587                      961587                      961587"
      ]
     },
     "metadata": {},
     "output_type": "display_data"
    }
   ],
   "source": [
    "display(missings_df.round())"
   ]
  },
  {
   "cell_type": "code",
   "execution_count": 48,
   "metadata": {
    "tags": []
   },
   "outputs": [
    {
     "name": "stderr",
     "output_type": "stream",
     "text": [
      "                                                                                \r"
     ]
    }
   ],
   "source": [
    "total = df.count()\n",
    "missings_df = missings_df.T / total * 100"
   ]
  },
  {
   "cell_type": "code",
   "execution_count": 49,
   "metadata": {
    "tags": []
   },
   "outputs": [
    {
     "data": {
      "text/html": [
       "<div>\n",
       "<style scoped>\n",
       "    .dataframe tbody tr th:only-of-type {\n",
       "        vertical-align: middle;\n",
       "    }\n",
       "\n",
       "    .dataframe tbody tr th {\n",
       "        vertical-align: top;\n",
       "    }\n",
       "\n",
       "    .dataframe thead th {\n",
       "        text-align: right;\n",
       "    }\n",
       "</style>\n",
       "<table border=\"1\" class=\"dataframe\">\n",
       "  <thead>\n",
       "    <tr style=\"text-align: right;\">\n",
       "      <th></th>\n",
       "      <th>index</th>\n",
       "      <th>0</th>\n",
       "    </tr>\n",
       "  </thead>\n",
       "  <tbody>\n",
       "    <tr>\n",
       "      <th>12</th>\n",
       "      <td>Dropoff Community Area</td>\n",
       "      <td>9.545063</td>\n",
       "    </tr>\n",
       "    <tr>\n",
       "      <th>20</th>\n",
       "      <td>Dropoff Centroid  Location</td>\n",
       "      <td>8.940424</td>\n",
       "    </tr>\n",
       "    <tr>\n",
       "      <th>19</th>\n",
       "      <td>Dropoff Centroid Longitude</td>\n",
       "      <td>8.940424</td>\n",
       "    </tr>\n",
       "    <tr>\n",
       "      <th>18</th>\n",
       "      <td>Dropoff Centroid Latitude</td>\n",
       "      <td>8.940424</td>\n",
       "    </tr>\n",
       "    <tr>\n",
       "      <th>11</th>\n",
       "      <td>Pickup Community Area</td>\n",
       "      <td>3.347061</td>\n",
       "    </tr>\n",
       "    <tr>\n",
       "      <th>17</th>\n",
       "      <td>Pickup Centroid Location</td>\n",
       "      <td>3.305249</td>\n",
       "    </tr>\n",
       "    <tr>\n",
       "      <th>16</th>\n",
       "      <td>Pickup Centroid Longitude</td>\n",
       "      <td>3.305249</td>\n",
       "    </tr>\n",
       "    <tr>\n",
       "      <th>15</th>\n",
       "      <td>Pickup Centroid Latitude</td>\n",
       "      <td>3.305249</td>\n",
       "    </tr>\n",
       "    <tr>\n",
       "      <th>1</th>\n",
       "      <td>Tips</td>\n",
       "      <td>0.223439</td>\n",
       "    </tr>\n",
       "    <tr>\n",
       "      <th>0</th>\n",
       "      <td>Fare</td>\n",
       "      <td>0.223439</td>\n",
       "    </tr>\n",
       "    <tr>\n",
       "      <th>4</th>\n",
       "      <td>Trip Total</td>\n",
       "      <td>0.223439</td>\n",
       "    </tr>\n",
       "    <tr>\n",
       "      <th>3</th>\n",
       "      <td>Extras</td>\n",
       "      <td>0.223439</td>\n",
       "    </tr>\n",
       "    <tr>\n",
       "      <th>2</th>\n",
       "      <td>Tolls</td>\n",
       "      <td>0.223439</td>\n",
       "    </tr>\n",
       "    <tr>\n",
       "      <th>9</th>\n",
       "      <td>Trip Seconds</td>\n",
       "      <td>0.019330</td>\n",
       "    </tr>\n",
       "    <tr>\n",
       "      <th>8</th>\n",
       "      <td>Trip End Timestamp</td>\n",
       "      <td>0.001125</td>\n",
       "    </tr>\n",
       "    <tr>\n",
       "      <th>10</th>\n",
       "      <td>Trip Miles</td>\n",
       "      <td>0.000437</td>\n",
       "    </tr>\n",
       "    <tr>\n",
       "      <th>7</th>\n",
       "      <td>Trip Start Timestamp</td>\n",
       "      <td>0.000000</td>\n",
       "    </tr>\n",
       "    <tr>\n",
       "      <th>13</th>\n",
       "      <td>Payment Type</td>\n",
       "      <td>0.000000</td>\n",
       "    </tr>\n",
       "    <tr>\n",
       "      <th>14</th>\n",
       "      <td>Company</td>\n",
       "      <td>0.000000</td>\n",
       "    </tr>\n",
       "    <tr>\n",
       "      <th>6</th>\n",
       "      <td>Taxi ID</td>\n",
       "      <td>0.000000</td>\n",
       "    </tr>\n",
       "    <tr>\n",
       "      <th>5</th>\n",
       "      <td>Trip ID</td>\n",
       "      <td>0.000000</td>\n",
       "    </tr>\n",
       "  </tbody>\n",
       "</table>\n",
       "</div>"
      ],
      "text/plain": [
       "                         index         0\n",
       "12      Dropoff Community Area  9.545063\n",
       "20  Dropoff Centroid  Location  8.940424\n",
       "19  Dropoff Centroid Longitude  8.940424\n",
       "18   Dropoff Centroid Latitude  8.940424\n",
       "11       Pickup Community Area  3.347061\n",
       "17    Pickup Centroid Location  3.305249\n",
       "16   Pickup Centroid Longitude  3.305249\n",
       "15    Pickup Centroid Latitude  3.305249\n",
       "1                         Tips  0.223439\n",
       "0                         Fare  0.223439\n",
       "4                   Trip Total  0.223439\n",
       "3                       Extras  0.223439\n",
       "2                        Tolls  0.223439\n",
       "9                 Trip Seconds  0.019330\n",
       "8           Trip End Timestamp  0.001125\n",
       "10                  Trip Miles  0.000437\n",
       "7         Trip Start Timestamp  0.000000\n",
       "13                Payment Type  0.000000\n",
       "14                     Company  0.000000\n",
       "6                      Taxi ID  0.000000\n",
       "5                      Trip ID  0.000000"
      ]
     },
     "execution_count": 49,
     "metadata": {},
     "output_type": "execute_result"
    }
   ],
   "source": [
    "missings_df=missings_df.reset_index().sort_values(0, ascending=False)\n",
    "missings_df"
   ]
  },
  {
   "cell_type": "code",
   "execution_count": 56,
   "metadata": {
    "tags": []
   },
   "outputs": [],
   "source": [
    "# Filtrar filas donde 'Trip Total' es nulo\n",
    "filtered_df = df.filter(col('Trip Total').isNull())\n",
    "\n",
    "# Calcular estadísticas descriptivas\n",
    "summary_df=filtered_df.describe()"
   ]
  },
  {
   "cell_type": "code",
   "execution_count": 57,
   "metadata": {
    "tags": []
   },
   "outputs": [
    {
     "name": "stderr",
     "output_type": "stream",
     "text": [
      "[Stage 92:======================================================> (37 + 1) / 38]\r"
     ]
    },
    {
     "name": "stdout",
     "output_type": "stream",
     "text": [
      "  summary                                   Trip ID                                            Taxi ID        Trip Seconds         Trip Miles Pickup Community Area Dropoff Community Area  Fare  Tips Tolls Extras Trip Total Payment Type      Company Pickup Centroid Latitude Pickup Centroid Longitude             Pickup Centroid Location Dropoff Centroid Latitude Dropoff Centroid Longitude           Dropoff Centroid  Location\n",
      "0   count                                     24032                                              24032               23325              24031                 23299                  21655     0     0     0      0          0        24032        24032                    23341                     23341                                23341                     21902                      21902                                21902\n",
      "1    mean                                      None                                               None  1233.2925616291532  6.917065457117887     35.27936821322803     31.398522281228352  None  None  None   None       None         None         None        41.90692753224614        -87.70547707558165                                 None         41.90038405208939         -87.68980451077122                                 None\n",
      "2  stddev                                      None                                               None  1461.3323671358514  8.531191479931204     26.41426167221771     24.360003103664383  None  None  None   None       None         None         None      0.05820874068062427       0.11432610482539693                                 None       0.05836584836986091        0.10119648310467881                                 None\n",
      "3     min  00047fc448f982b3394475afe08fe7b24c422f42  0044e6c0d091476299b99345501f756b23632a96cbaf40...                   0                  0                     1                      1  None  None  None   None       None         Cash  5 Star Taxi             41.660136051             -87.534902901  POINT (-87.5349029012 41.707311449)              41.660136051              -87.534902901  POINT (-87.5349029012 41.707311449)\n",
      "4     max  fffc1f8edbe541ea864534c94abcd137b7f219a9  ffc2a618ad19a63fa5e9ce8b1bd68656172b2eac505f0a...                 999              95.95                     9                      9  None  None  None   None       None      Unknown      Top Cab             42.016046492             -87.913624596  POINT (-87.913624596 41.9802643146)              42.016046492              -87.913624596  POINT (-87.913624596 41.9802643146)\n"
     ]
    },
    {
     "name": "stderr",
     "output_type": "stream",
     "text": [
      "                                                                                \r"
     ]
    }
   ],
   "source": [
    "summary_pandas = summary_df.toPandas()"
   ]
  },
  {
   "cell_type": "code",
   "execution_count": 58,
   "metadata": {
    "tags": []
   },
   "outputs": [
    {
     "data": {
      "text/html": [
       "<div>\n",
       "<style scoped>\n",
       "    .dataframe tbody tr th:only-of-type {\n",
       "        vertical-align: middle;\n",
       "    }\n",
       "\n",
       "    .dataframe tbody tr th {\n",
       "        vertical-align: top;\n",
       "    }\n",
       "\n",
       "    .dataframe thead th {\n",
       "        text-align: right;\n",
       "    }\n",
       "</style>\n",
       "<table border=\"1\" class=\"dataframe\">\n",
       "  <thead>\n",
       "    <tr style=\"text-align: right;\">\n",
       "      <th></th>\n",
       "      <th>summary</th>\n",
       "      <th>Trip ID</th>\n",
       "      <th>Taxi ID</th>\n",
       "      <th>Trip Seconds</th>\n",
       "      <th>Trip Miles</th>\n",
       "      <th>Pickup Community Area</th>\n",
       "      <th>Dropoff Community Area</th>\n",
       "      <th>Fare</th>\n",
       "      <th>Tips</th>\n",
       "      <th>Tolls</th>\n",
       "      <th>Extras</th>\n",
       "      <th>Trip Total</th>\n",
       "      <th>Payment Type</th>\n",
       "      <th>Company</th>\n",
       "      <th>Pickup Centroid Latitude</th>\n",
       "      <th>Pickup Centroid Longitude</th>\n",
       "      <th>Pickup Centroid Location</th>\n",
       "      <th>Dropoff Centroid Latitude</th>\n",
       "      <th>Dropoff Centroid Longitude</th>\n",
       "      <th>Dropoff Centroid  Location</th>\n",
       "    </tr>\n",
       "  </thead>\n",
       "  <tbody>\n",
       "    <tr>\n",
       "      <th>0</th>\n",
       "      <td>count</td>\n",
       "      <td>24032</td>\n",
       "      <td>24032</td>\n",
       "      <td>23325</td>\n",
       "      <td>24031</td>\n",
       "      <td>23299</td>\n",
       "      <td>21655</td>\n",
       "      <td>0</td>\n",
       "      <td>0</td>\n",
       "      <td>0</td>\n",
       "      <td>0</td>\n",
       "      <td>0</td>\n",
       "      <td>24032</td>\n",
       "      <td>24032</td>\n",
       "      <td>23341</td>\n",
       "      <td>23341</td>\n",
       "      <td>23341</td>\n",
       "      <td>21902</td>\n",
       "      <td>21902</td>\n",
       "      <td>21902</td>\n",
       "    </tr>\n",
       "    <tr>\n",
       "      <th>1</th>\n",
       "      <td>mean</td>\n",
       "      <td>None</td>\n",
       "      <td>None</td>\n",
       "      <td>1233.2925616291532</td>\n",
       "      <td>6.917065457117887</td>\n",
       "      <td>35.27936821322803</td>\n",
       "      <td>31.398522281228352</td>\n",
       "      <td>None</td>\n",
       "      <td>None</td>\n",
       "      <td>None</td>\n",
       "      <td>None</td>\n",
       "      <td>None</td>\n",
       "      <td>None</td>\n",
       "      <td>None</td>\n",
       "      <td>41.90692753224614</td>\n",
       "      <td>-87.70547707558165</td>\n",
       "      <td>None</td>\n",
       "      <td>41.90038405208939</td>\n",
       "      <td>-87.68980451077122</td>\n",
       "      <td>None</td>\n",
       "    </tr>\n",
       "    <tr>\n",
       "      <th>2</th>\n",
       "      <td>stddev</td>\n",
       "      <td>None</td>\n",
       "      <td>None</td>\n",
       "      <td>1461.3323671358514</td>\n",
       "      <td>8.531191479931204</td>\n",
       "      <td>26.41426167221771</td>\n",
       "      <td>24.360003103664383</td>\n",
       "      <td>None</td>\n",
       "      <td>None</td>\n",
       "      <td>None</td>\n",
       "      <td>None</td>\n",
       "      <td>None</td>\n",
       "      <td>None</td>\n",
       "      <td>None</td>\n",
       "      <td>0.05820874068062427</td>\n",
       "      <td>0.11432610482539693</td>\n",
       "      <td>None</td>\n",
       "      <td>0.05836584836986091</td>\n",
       "      <td>0.10119648310467881</td>\n",
       "      <td>None</td>\n",
       "    </tr>\n",
       "    <tr>\n",
       "      <th>3</th>\n",
       "      <td>min</td>\n",
       "      <td>00047fc448f982b3394475afe08fe7b24c422f42</td>\n",
       "      <td>0044e6c0d091476299b99345501f756b23632a96cbaf40...</td>\n",
       "      <td>0</td>\n",
       "      <td>0</td>\n",
       "      <td>1</td>\n",
       "      <td>1</td>\n",
       "      <td>None</td>\n",
       "      <td>None</td>\n",
       "      <td>None</td>\n",
       "      <td>None</td>\n",
       "      <td>None</td>\n",
       "      <td>Cash</td>\n",
       "      <td>5 Star Taxi</td>\n",
       "      <td>41.660136051</td>\n",
       "      <td>-87.534902901</td>\n",
       "      <td>POINT (-87.5349029012 41.707311449)</td>\n",
       "      <td>41.660136051</td>\n",
       "      <td>-87.534902901</td>\n",
       "      <td>POINT (-87.5349029012 41.707311449)</td>\n",
       "    </tr>\n",
       "    <tr>\n",
       "      <th>4</th>\n",
       "      <td>max</td>\n",
       "      <td>fffc1f8edbe541ea864534c94abcd137b7f219a9</td>\n",
       "      <td>ffc2a618ad19a63fa5e9ce8b1bd68656172b2eac505f0a...</td>\n",
       "      <td>999</td>\n",
       "      <td>95.95</td>\n",
       "      <td>9</td>\n",
       "      <td>9</td>\n",
       "      <td>None</td>\n",
       "      <td>None</td>\n",
       "      <td>None</td>\n",
       "      <td>None</td>\n",
       "      <td>None</td>\n",
       "      <td>Unknown</td>\n",
       "      <td>Top Cab</td>\n",
       "      <td>42.016046492</td>\n",
       "      <td>-87.913624596</td>\n",
       "      <td>POINT (-87.913624596 41.9802643146)</td>\n",
       "      <td>42.016046492</td>\n",
       "      <td>-87.913624596</td>\n",
       "      <td>POINT (-87.913624596 41.9802643146)</td>\n",
       "    </tr>\n",
       "  </tbody>\n",
       "</table>\n",
       "</div>"
      ],
      "text/plain": [
       "  summary                                   Trip ID                                            Taxi ID        Trip Seconds         Trip Miles Pickup Community Area Dropoff Community Area  Fare  Tips Tolls Extras Trip Total Payment Type      Company Pickup Centroid Latitude Pickup Centroid Longitude             Pickup Centroid Location Dropoff Centroid Latitude Dropoff Centroid Longitude           Dropoff Centroid  Location\n",
       "0   count                                     24032                                              24032               23325              24031                 23299                  21655     0     0     0      0          0        24032        24032                    23341                     23341                                23341                     21902                      21902                                21902\n",
       "1    mean                                      None                                               None  1233.2925616291532  6.917065457117887     35.27936821322803     31.398522281228352  None  None  None   None       None         None         None        41.90692753224614        -87.70547707558165                                 None         41.90038405208939         -87.68980451077122                                 None\n",
       "2  stddev                                      None                                               None  1461.3323671358514  8.531191479931204     26.41426167221771     24.360003103664383  None  None  None   None       None         None         None      0.05820874068062427       0.11432610482539693                                 None       0.05836584836986091        0.10119648310467881                                 None\n",
       "3     min  00047fc448f982b3394475afe08fe7b24c422f42  0044e6c0d091476299b99345501f756b23632a96cbaf40...                   0                  0                     1                      1  None  None  None   None       None         Cash  5 Star Taxi             41.660136051             -87.534902901  POINT (-87.5349029012 41.707311449)              41.660136051              -87.534902901  POINT (-87.5349029012 41.707311449)\n",
       "4     max  fffc1f8edbe541ea864534c94abcd137b7f219a9  ffc2a618ad19a63fa5e9ce8b1bd68656172b2eac505f0a...                 999              95.95                     9                      9  None  None  None   None       None      Unknown      Top Cab             42.016046492             -87.913624596  POINT (-87.913624596 41.9802643146)              42.016046492              -87.913624596  POINT (-87.913624596 41.9802643146)"
      ]
     },
     "execution_count": 58,
     "metadata": {},
     "output_type": "execute_result"
    }
   ],
   "source": [
    "# Mostrar como tabla en Pandas\n",
    "summary_pandas"
   ]
  },
  {
   "cell_type": "markdown",
   "metadata": {},
   "source": [
    "**Como el objetivo principal es generar una TAD por taxi (no por viaje), es importante identificar si existen taxis que tengan algún problema al registrar su total de pagos.**"
   ]
  },
  {
   "cell_type": "code",
   "execution_count": 64,
   "metadata": {
    "tags": []
   },
   "outputs": [
    {
     "name": "stderr",
     "output_type": "stream",
     "text": [
      "[Stage 101:==================================================>    (35 + 3) / 38]\r"
     ]
    },
    {
     "name": "stdout",
     "output_type": "stream",
     "text": [
      "+--------------------+---------------------------------------------+\n",
      "|             Taxi ID|Cantidad de registros con Trip Total faltante|\n",
      "+--------------------+---------------------------------------------+\n",
      "|5d7636d4b116cb207...|                                         1263|\n",
      "|ed7090d32800eec66...|                                         1124|\n",
      "|535cbdf78f906572b...|                                         1079|\n",
      "|87a21e5ac34dbe38d...|                                         1032|\n",
      "|2407ff99e367ceb46...|                                          974|\n",
      "|ea1095a215ac661a9...|                                          661|\n",
      "|3671b00a8d3d78e49...|                                          628|\n",
      "|5e48748b582fe3c16...|                                          555|\n",
      "|18c20740c9cbe78a0...|                                          532|\n",
      "|180309cc29892cd16...|                                          469|\n",
      "|4b2d5e8743e0e17dd...|                                          452|\n",
      "|286e28223cab05d01...|                                          443|\n",
      "|17561b24936828651...|                                          385|\n",
      "|8c76eb82f069c0731...|                                          368|\n",
      "|6720823f69b50c9a8...|                                          354|\n",
      "|15a05a171949e0f43...|                                          351|\n",
      "|687e4d96be3cc961b...|                                          325|\n",
      "|391317d70c5d06dee...|                                          308|\n",
      "|9b6ede7d36f53ba56...|                                          294|\n",
      "|31a06a77a2b473e41...|                                          249|\n",
      "+--------------------+---------------------------------------------+\n",
      "only showing top 20 rows\n",
      "\n"
     ]
    },
    {
     "name": "stderr",
     "output_type": "stream",
     "text": [
      "                                                                                \r"
     ]
    }
   ],
   "source": [
    "taxistas_con_valores_faltantes= df.filter(col('Trip Total').isNull()).groupby('Taxi ID').agg(f.count(\"*\").alias('Cantidad de registros con Trip Total faltante'))\n",
    "taxistas_con_valores_faltantes=taxistas_con_valores_faltantes.orderBy(col('Cantidad de registros con Trip Total faltante').desc())\n",
    "taxistas_con_valores_faltantes.show()"
   ]
  },
  {
   "cell_type": "code",
   "execution_count": 65,
   "metadata": {
    "tags": []
   },
   "outputs": [
    {
     "name": "stderr",
     "output_type": "stream",
     "text": [
      "                                                                                \r"
     ]
    },
    {
     "name": "stdout",
     "output_type": "stream",
     "text": [
      "+--------------------+---------------------------------------------+------------------------------+---------------------------------+\n",
      "|             Taxi ID|Cantidad de registros con Trip Total faltante|Total de registros por taxista|Porcentaje de registros faltantes|\n",
      "+--------------------+---------------------------------------------+------------------------------+---------------------------------+\n",
      "|2407ff99e367ceb46...|                                          974|                          2432|                40.04934210526316|\n",
      "|8cc4bb2cb443a9e7a...|                                            2|                             6|                33.33333333333333|\n",
      "|535cbdf78f906572b...|                                         1079|                          5389|                20.02226758211171|\n",
      "|ed7090d32800eec66...|                                         1124|                          5898|               19.057307561885384|\n",
      "|4b2d5e8743e0e17dd...|                                          452|                          2551|               17.718541748333987|\n",
      "|bd40175d4df7a9f57...|                                            7|                            40|                             17.5|\n",
      "|87a21e5ac34dbe38d...|                                         1032|                          5946|               17.356205852674066|\n",
      "|17561b24936828651...|                                          385|                          2380|               16.176470588235293|\n",
      "|5e48748b582fe3c16...|                                          555|                          3448|                16.09628770301624|\n",
      "|5d7636d4b116cb207...|                                         1263|                         10634|               11.876998307316155|\n",
      "|574b161e75a7dda9d...|                                          235|                          2036|               11.542239685658155|\n",
      "|180309cc29892cd16...|                                          469|                          4099|               11.441815076848012|\n",
      "|3fa4b1d2887a8aa4c...|                                           44|                           429|               10.256410256410255|\n",
      "|6720823f69b50c9a8...|                                          354|                          3475|               10.187050359712229|\n",
      "|3671b00a8d3d78e49...|                                          628|                          6337|                9.910052075114407|\n",
      "|aa4c3beb61a579d4f...|                                          172|                          1848|                9.307359307359308|\n",
      "|2dfef94ac1d16ba66...|                                           75|                           835|                8.982035928143713|\n",
      "|286e28223cab05d01...|                                          443|                          5124|                  8.6455893832943|\n",
      "|15a05a171949e0f43...|                                          351|                          4372|                 8.02836230558097|\n",
      "|18c20740c9cbe78a0...|                                          532|                          6765|                7.864005912786401|\n",
      "+--------------------+---------------------------------------------+------------------------------+---------------------------------+\n",
      "only showing top 20 rows\n",
      "\n"
     ]
    }
   ],
   "source": [
    "# Calcular el total de registros por taxista\n",
    "total_registros_por_taxista=df.groupby('Taxi ID').agg(f.count(\"*\").alias('Total de registros por taxista'))\n",
    "# Cruzar el DataFrame de taxistas_con_valores_faltantes con el DataFrame total_registros_por_taxista\n",
    "taxistas_con_valores_faltantes=taxistas_con_valores_faltantes.join(total_registros_por_taxista, on='Taxi ID',how='inner')\n",
    "# Calcular el porcentaje de registros faltantes por taxista\n",
    "taxistas_con_valores_faltantes=taxistas_con_valores_faltantes.withColumn('Porcentaje de registros faltantes',(col('Cantidad de registros con Trip Total faltante')/col('Total de registros por taxista'))*100)\n",
    "taxistas_con_valores_faltantes=taxistas_con_valores_faltantes.orderBy(col('Porcentaje de registros faltantes').desc())\n",
    "taxistas_con_valores_faltantes.show()"
   ]
  },
  {
   "cell_type": "markdown",
   "metadata": {},
   "source": [
    "**Podemos darnos cuenta que el taxista con la mayor afectación es de más del 40% de sus registros, por lo que se recomienda pornerse en contacto con los conductores priorizando aquellos que tengan mayor afectación (mayor cantidad de montos sin registro).**"
   ]
  },
  {
   "cell_type": "code",
   "execution_count": 66,
   "metadata": {
    "tags": []
   },
   "outputs": [],
   "source": [
    "df=df.filter(col('Trip Total').isNotNull())"
   ]
  },
  {
   "cell_type": "code",
   "execution_count": 67,
   "metadata": {
    "tags": []
   },
   "outputs": [
    {
     "name": "stderr",
     "output_type": "stream",
     "text": [
      "                                                                                \r"
     ]
    },
    {
     "data": {
      "text/plain": [
       "0"
      ]
     },
     "execution_count": 67,
     "metadata": {},
     "output_type": "execute_result"
    }
   ],
   "source": [
    "Trip_Total_null=df.filter(col('Trip Total').isNull()).count()\n",
    "Trip_Total_null"
   ]
  },
  {
   "cell_type": "markdown",
   "metadata": {},
   "source": [
    "Al eliminar los registros que no cuentan con 'Trip Total' también se eliminan todos aquellos registros relacionados el desglose de montos, es decir, los montos asociados a las variables 'Fare', 'Extras', 'Tolls' y 'Tips'."
   ]
  },
  {
   "cell_type": "markdown",
   "metadata": {},
   "source": [
    "#### Missings en Trip Seconds"
   ]
  },
  {
   "cell_type": "code",
   "execution_count": 68,
   "metadata": {
    "tags": []
   },
   "outputs": [
    {
     "name": "stderr",
     "output_type": "stream",
     "text": [
      "                                                                                \r"
     ]
    },
    {
     "data": {
      "text/plain": [
       "1372"
      ]
     },
     "execution_count": 68,
     "metadata": {},
     "output_type": "execute_result"
    }
   ],
   "source": [
    "Trip_Seconds=df.filter(col('Trip Seconds').isNull()).count()\n",
    "Trip_Seconds"
   ]
  },
  {
   "cell_type": "code",
   "execution_count": 69,
   "metadata": {
    "tags": []
   },
   "outputs": [
    {
     "name": "stderr",
     "output_type": "stream",
     "text": [
      "                                                                                \r"
     ]
    },
    {
     "data": {
      "text/plain": [
       "0.012784834130288828"
      ]
     },
     "execution_count": 69,
     "metadata": {},
     "output_type": "execute_result"
    }
   ],
   "source": [
    "Trip_Seconds_porcentaje=(Trip_Trip_Seconds*100)/df.count()\n",
    "Trip_Seconds_porcentaje"
   ]
  },
  {
   "cell_type": "markdown",
   "metadata": {},
   "source": [
    "Debido a que contamos con valores ausentes en la variable 'Trip Seconds' equivalentes al 0.0143% de los datos y a que no contamos con suficiente informacion para imputar valores basándonos en calcular la diferencia en segundos de los viajes entre las variables 'Trip End Timestamp' y 'Trip Start Timestamp' para interpolar los datos faltantes ya que estos no corresponden por completo a la variable 'Trip Seconds', y que adicionalmente, en algunos casos la diferencia es considerable. Se concluye que lo más recomendable es eliminar estos registros."
   ]
  },
  {
   "cell_type": "code",
   "execution_count": 70,
   "metadata": {
    "tags": []
   },
   "outputs": [],
   "source": [
    "df=df.filter(col('Trip Seconds').isNotNull())"
   ]
  },
  {
   "cell_type": "code",
   "execution_count": 71,
   "metadata": {
    "tags": []
   },
   "outputs": [
    {
     "name": "stderr",
     "output_type": "stream",
     "text": [
      "                                                                                \r"
     ]
    },
    {
     "data": {
      "text/plain": [
       "0"
      ]
     },
     "execution_count": 71,
     "metadata": {},
     "output_type": "execute_result"
    }
   ],
   "source": [
    "Trip_Seconds=df.filter(col('Trip Seconds').isNull()).count()\n",
    "Trip_Seconds"
   ]
  },
  {
   "cell_type": "markdown",
   "metadata": {},
   "source": [
    "#### Missings en Trip Miles"
   ]
  },
  {
   "cell_type": "code",
   "execution_count": 73,
   "metadata": {
    "tags": []
   },
   "outputs": [
    {
     "name": "stderr",
     "output_type": "stream",
     "text": [
      "                                                                                \r"
     ]
    },
    {
     "data": {
      "text/plain": [
       "44"
      ]
     },
     "execution_count": 73,
     "metadata": {},
     "output_type": "execute_result"
    }
   ],
   "source": [
    "Trip_Miles=df.filter(col('Trip Miles').isNull())\n",
    "Trip_Miles.count()"
   ]
  },
  {
   "cell_type": "markdown",
   "metadata": {},
   "source": [
    "Revisamos cómo se comportan estos valores para los registros en Trip Miles."
   ]
  },
  {
   "cell_type": "code",
   "execution_count": 74,
   "metadata": {
    "tags": []
   },
   "outputs": [
    {
     "name": "stderr",
     "output_type": "stream",
     "text": [
      "                                                                                \r"
     ]
    },
    {
     "data": {
      "text/html": [
       "<div>\n",
       "<style scoped>\n",
       "    .dataframe tbody tr th:only-of-type {\n",
       "        vertical-align: middle;\n",
       "    }\n",
       "\n",
       "    .dataframe tbody tr th {\n",
       "        vertical-align: top;\n",
       "    }\n",
       "\n",
       "    .dataframe thead th {\n",
       "        text-align: right;\n",
       "    }\n",
       "</style>\n",
       "<table border=\"1\" class=\"dataframe\">\n",
       "  <thead>\n",
       "    <tr style=\"text-align: right;\">\n",
       "      <th></th>\n",
       "      <th>summary</th>\n",
       "      <th>Trip ID</th>\n",
       "      <th>Taxi ID</th>\n",
       "      <th>Trip Seconds</th>\n",
       "      <th>Trip Miles</th>\n",
       "      <th>Pickup Community Area</th>\n",
       "      <th>Dropoff Community Area</th>\n",
       "      <th>Fare</th>\n",
       "      <th>Tips</th>\n",
       "      <th>Tolls</th>\n",
       "      <th>Extras</th>\n",
       "      <th>Trip Total</th>\n",
       "      <th>Payment Type</th>\n",
       "      <th>Company</th>\n",
       "      <th>Pickup Centroid Latitude</th>\n",
       "      <th>Pickup Centroid Longitude</th>\n",
       "      <th>Pickup Centroid Location</th>\n",
       "      <th>Dropoff Centroid Latitude</th>\n",
       "      <th>Dropoff Centroid Longitude</th>\n",
       "      <th>Dropoff Centroid  Location</th>\n",
       "    </tr>\n",
       "  </thead>\n",
       "  <tbody>\n",
       "    <tr>\n",
       "      <th>0</th>\n",
       "      <td>count</td>\n",
       "      <td>44</td>\n",
       "      <td>44</td>\n",
       "      <td>44</td>\n",
       "      <td>0</td>\n",
       "      <td>37</td>\n",
       "      <td>39</td>\n",
       "      <td>44</td>\n",
       "      <td>44</td>\n",
       "      <td>44</td>\n",
       "      <td>44</td>\n",
       "      <td>44</td>\n",
       "      <td>44</td>\n",
       "      <td>44</td>\n",
       "      <td>37</td>\n",
       "      <td>37</td>\n",
       "      <td>37</td>\n",
       "      <td>39</td>\n",
       "      <td>39</td>\n",
       "      <td>39</td>\n",
       "    </tr>\n",
       "    <tr>\n",
       "      <th>1</th>\n",
       "      <td>mean</td>\n",
       "      <td>None</td>\n",
       "      <td>None</td>\n",
       "      <td>2545.6136363636365</td>\n",
       "      <td>None</td>\n",
       "      <td>23.89189189189189</td>\n",
       "      <td>24.307692307692307</td>\n",
       "      <td>357.57863688468933</td>\n",
       "      <td>3.6218182173642246</td>\n",
       "      <td>0.0</td>\n",
       "      <td>0.2840909090909091</td>\n",
       "      <td>361.65500099008733</td>\n",
       "      <td>None</td>\n",
       "      <td>None</td>\n",
       "      <td>41.924520748297304</td>\n",
       "      <td>-87.70792070381081</td>\n",
       "      <td>None</td>\n",
       "      <td>41.930831966102566</td>\n",
       "      <td>-87.71492091166668</td>\n",
       "      <td>None</td>\n",
       "    </tr>\n",
       "    <tr>\n",
       "      <th>2</th>\n",
       "      <td>stddev</td>\n",
       "      <td>None</td>\n",
       "      <td>None</td>\n",
       "      <td>6752.581732682243</td>\n",
       "      <td>None</td>\n",
       "      <td>23.342597903337083</td>\n",
       "      <td>23.53625852991602</td>\n",
       "      <td>1498.7815182185643</td>\n",
       "      <td>13.584712604241323</td>\n",
       "      <td>0.0</td>\n",
       "      <td>0.7578866522045707</td>\n",
       "      <td>1498.5627840885736</td>\n",
       "      <td>None</td>\n",
       "      <td>None</td>\n",
       "      <td>0.0454379922928036</td>\n",
       "      <td>0.09632599573449512</td>\n",
       "      <td>None</td>\n",
       "      <td>0.05147213511446959</td>\n",
       "      <td>0.0875831463209836</td>\n",
       "      <td>None</td>\n",
       "    </tr>\n",
       "    <tr>\n",
       "      <th>3</th>\n",
       "      <td>min</td>\n",
       "      <td>056cf90618eef5b60f19f5720ae8115abac33834</td>\n",
       "      <td>0f831bff43d83f396f2e4950126c6137dcdb60fb4c8580...</td>\n",
       "      <td>0</td>\n",
       "      <td>None</td>\n",
       "      <td>10</td>\n",
       "      <td>10</td>\n",
       "      <td>0.0</td>\n",
       "      <td>0.0</td>\n",
       "      <td>0.0</td>\n",
       "      <td>0.0</td>\n",
       "      <td>0.0</td>\n",
       "      <td>Cash</td>\n",
       "      <td>5 Star Taxi</td>\n",
       "      <td>41.79259236</td>\n",
       "      <td>-87.612945414</td>\n",
       "      <td>POINT (-87.6129454143 41.8919715078)</td>\n",
       "      <td>41.79259236</td>\n",
       "      <td>-87.612945414</td>\n",
       "      <td>POINT (-87.6129454143 41.8919715078)</td>\n",
       "    </tr>\n",
       "    <tr>\n",
       "      <th>4</th>\n",
       "      <td>max</td>\n",
       "      <td>f7cbb55a621eaa8d9279b5822cd5cb457899a1f3</td>\n",
       "      <td>f621299fa67bd8263e781be39bd954acda79ca9c958849...</td>\n",
       "      <td>9684</td>\n",
       "      <td>None</td>\n",
       "      <td>8</td>\n",
       "      <td>8</td>\n",
       "      <td>9999.75</td>\n",
       "      <td>65.01</td>\n",
       "      <td>0.0</td>\n",
       "      <td>4.0</td>\n",
       "      <td>9999.75</td>\n",
       "      <td>Prcard</td>\n",
       "      <td>Taxicab Insurance Agency, LLC</td>\n",
       "      <td>41.993930128</td>\n",
       "      <td>-87.913624596</td>\n",
       "      <td>POINT (-87.913624596 41.9802643146)</td>\n",
       "      <td>42.001571027</td>\n",
       "      <td>-87.913624596</td>\n",
       "      <td>POINT (-87.913624596 41.9802643146)</td>\n",
       "    </tr>\n",
       "  </tbody>\n",
       "</table>\n",
       "</div>"
      ],
      "text/plain": [
       "  summary                                   Trip ID                                            Taxi ID        Trip Seconds Trip Miles Pickup Community Area Dropoff Community Area                Fare                Tips Tolls              Extras          Trip Total Payment Type                        Company Pickup Centroid Latitude Pickup Centroid Longitude              Pickup Centroid Location Dropoff Centroid Latitude Dropoff Centroid Longitude            Dropoff Centroid  Location\n",
       "0   count                                        44                                                 44                  44          0                    37                     39                  44                  44    44                  44                  44           44                             44                       37                        37                                    37                        39                         39                                    39\n",
       "1    mean                                      None                                               None  2545.6136363636365       None     23.89189189189189     24.307692307692307  357.57863688468933  3.6218182173642246   0.0  0.2840909090909091  361.65500099008733         None                           None       41.924520748297304        -87.70792070381081                                  None        41.930831966102566         -87.71492091166668                                  None\n",
       "2  stddev                                      None                                               None   6752.581732682243       None    23.342597903337083      23.53625852991602  1498.7815182185643  13.584712604241323   0.0  0.7578866522045707  1498.5627840885736         None                           None       0.0454379922928036       0.09632599573449512                                  None       0.05147213511446959         0.0875831463209836                                  None\n",
       "3     min  056cf90618eef5b60f19f5720ae8115abac33834  0f831bff43d83f396f2e4950126c6137dcdb60fb4c8580...                   0       None                    10                     10                 0.0                 0.0   0.0                 0.0                 0.0         Cash                    5 Star Taxi              41.79259236             -87.612945414  POINT (-87.6129454143 41.8919715078)               41.79259236              -87.612945414  POINT (-87.6129454143 41.8919715078)\n",
       "4     max  f7cbb55a621eaa8d9279b5822cd5cb457899a1f3  f621299fa67bd8263e781be39bd954acda79ca9c958849...                9684       None                     8                      8             9999.75               65.01   0.0                 4.0             9999.75       Prcard  Taxicab Insurance Agency, LLC             41.993930128             -87.913624596   POINT (-87.913624596 41.9802643146)              42.001571027              -87.913624596   POINT (-87.913624596 41.9802643146)"
      ]
     },
     "execution_count": 74,
     "metadata": {},
     "output_type": "execute_result"
    }
   ],
   "source": [
    "Trip_Miles_describe=Trip_Miles.describe().toPandas()\n",
    "Trip_Miles_describe"
   ]
  },
  {
   "cell_type": "markdown",
   "metadata": {},
   "source": [
    "Taxistas con afectación"
   ]
  },
  {
   "cell_type": "code",
   "execution_count": 76,
   "metadata": {
    "tags": []
   },
   "outputs": [
    {
     "name": "stderr",
     "output_type": "stream",
     "text": [
      "                                                                                \r"
     ]
    },
    {
     "data": {
      "text/plain": [
       "29"
      ]
     },
     "execution_count": 76,
     "metadata": {},
     "output_type": "execute_result"
    }
   ],
   "source": [
    "taxistas_con_valores_faltantes= df.filter(col('Trip Miles').isNull()).groupby('Taxi ID').agg(f.count(\"*\").alias('Cantidad de registros con Trip Miles faltante'))\n",
    "taxistas_con_valores_faltantes=taxistas_con_valores_faltantes.orderBy(col('Cantidad de registros con Trip Miles faltante').desc())\n",
    "taxistas_con_valores_faltantes.count()"
   ]
  },
  {
   "cell_type": "code",
   "execution_count": 77,
   "metadata": {
    "tags": []
   },
   "outputs": [
    {
     "name": "stderr",
     "output_type": "stream",
     "text": [
      "                                                                                \r"
     ]
    },
    {
     "data": {
      "text/plain": [
       "3790"
      ]
     },
     "execution_count": 77,
     "metadata": {},
     "output_type": "execute_result"
    }
   ],
   "source": [
    "total_taxis=df.groupby('Taxi ID').agg(f.count(\"*\").alias('Cantidad total de taxis'))\n",
    "total_taxis.count()"
   ]
  },
  {
   "cell_type": "code",
   "execution_count": 78,
   "metadata": {
    "tags": []
   },
   "outputs": [
    {
     "name": "stderr",
     "output_type": "stream",
     "text": [
      "                                                                                \r"
     ]
    },
    {
     "data": {
      "text/plain": [
       "0.7651715039577837"
      ]
     },
     "execution_count": 78,
     "metadata": {},
     "output_type": "execute_result"
    }
   ],
   "source": [
    "(taxistas_con_valores_faltantes.count()/total_taxis.count())*100"
   ]
  },
  {
   "cell_type": "markdown",
   "metadata": {},
   "source": [
    "**Observación**\n",
    "\n",
    "Podemos ver que afectamos solamente a 29 diferentes Taxis de un total de 3,709 Taxis que representa un 0.7651715039577837% del total de los Taxis por lo que es posible eliminar estos registros."
   ]
  },
  {
   "cell_type": "code",
   "execution_count": 79,
   "metadata": {
    "tags": []
   },
   "outputs": [],
   "source": [
    "df=df.filter(col('Trip Miles').isNotNull())"
   ]
  },
  {
   "cell_type": "code",
   "execution_count": 80,
   "metadata": {
    "tags": []
   },
   "outputs": [
    {
     "name": "stderr",
     "output_type": "stream",
     "text": [
      "                                                                                \r"
     ]
    },
    {
     "data": {
      "text/plain": [
       "0"
      ]
     },
     "execution_count": 80,
     "metadata": {},
     "output_type": "execute_result"
    }
   ],
   "source": [
    "Trip_Miles=df.filter(col('Trip Miles').isNull()).count()\n",
    "Trip_Miles"
   ]
  },
  {
   "cell_type": "markdown",
   "metadata": {},
   "source": [
    "#### Missings en Coordenadas"
   ]
  },
  {
   "cell_type": "markdown",
   "metadata": {},
   "source": [
    "Finalmente, los *missings* restantes deben corresponder únicamente a los que están en función de las coordenadas del viaje."
   ]
  },
  {
   "cell_type": "code",
   "execution_count": 96,
   "metadata": {
    "tags": []
   },
   "outputs": [
    {
     "name": "stderr",
     "output_type": "stream",
     "text": [
      "                                                                                \r"
     ]
    }
   ],
   "source": [
    "from pyspark.sql.functions import col, isnan, when, count\n",
    "\n",
    "# Columnas numéricas\n",
    "numeric_columns = [c for c, t in df.dtypes if t in [\"double\", \"float\"]]\n",
    "\n",
    "# Columnas no numéricas\n",
    "other_columns = [c for c, t in df.dtypes if t not in [\"double\", \"float\"]]\n",
    "\n",
    "# Contar valores faltantes para columnas numéricas\n",
    "numeric_missing = [\n",
    "    count(when(isnan(col(c)) | col(c).isNull(), c)).alias(c) for c in numeric_columns\n",
    "]\n",
    "\n",
    "# Contar valores faltantes para columnas no numéricas\n",
    "other_missing = [\n",
    "    count(when(col(c).isNull(), c)).alias(c) for c in other_columns\n",
    "]\n",
    "\n",
    "# Combinar resultados\n",
    "missings_df = df.select(numeric_missing + other_missing).toPandas()"
   ]
  },
  {
   "cell_type": "code",
   "execution_count": 97,
   "metadata": {
    "tags": []
   },
   "outputs": [],
   "source": [
    "missings_df=missings_df.T"
   ]
  },
  {
   "cell_type": "code",
   "execution_count": 98,
   "metadata": {
    "tags": []
   },
   "outputs": [
    {
     "data": {
      "text/html": [
       "<div>\n",
       "<style scoped>\n",
       "    .dataframe tbody tr th:only-of-type {\n",
       "        vertical-align: middle;\n",
       "    }\n",
       "\n",
       "    .dataframe tbody tr th {\n",
       "        vertical-align: top;\n",
       "    }\n",
       "\n",
       "    .dataframe thead th {\n",
       "        text-align: right;\n",
       "    }\n",
       "</style>\n",
       "<table border=\"1\" class=\"dataframe\">\n",
       "  <thead>\n",
       "    <tr style=\"text-align: right;\">\n",
       "      <th></th>\n",
       "      <th>index</th>\n",
       "      <th>missings</th>\n",
       "    </tr>\n",
       "  </thead>\n",
       "  <tbody>\n",
       "    <tr>\n",
       "      <th>0</th>\n",
       "      <td>Fare</td>\n",
       "      <td>0</td>\n",
       "    </tr>\n",
       "    <tr>\n",
       "      <th>1</th>\n",
       "      <td>Tips</td>\n",
       "      <td>0</td>\n",
       "    </tr>\n",
       "    <tr>\n",
       "      <th>2</th>\n",
       "      <td>Tolls</td>\n",
       "      <td>0</td>\n",
       "    </tr>\n",
       "    <tr>\n",
       "      <th>3</th>\n",
       "      <td>Extras</td>\n",
       "      <td>0</td>\n",
       "    </tr>\n",
       "    <tr>\n",
       "      <th>4</th>\n",
       "      <td>Trip Total</td>\n",
       "      <td>0</td>\n",
       "    </tr>\n",
       "    <tr>\n",
       "      <th>5</th>\n",
       "      <td>Trip ID</td>\n",
       "      <td>0</td>\n",
       "    </tr>\n",
       "    <tr>\n",
       "      <th>6</th>\n",
       "      <td>Taxi ID</td>\n",
       "      <td>0</td>\n",
       "    </tr>\n",
       "    <tr>\n",
       "      <th>7</th>\n",
       "      <td>Trip Start Timestamp</td>\n",
       "      <td>0</td>\n",
       "    </tr>\n",
       "    <tr>\n",
       "      <th>8</th>\n",
       "      <td>Trip End Timestamp</td>\n",
       "      <td>0</td>\n",
       "    </tr>\n",
       "    <tr>\n",
       "      <th>9</th>\n",
       "      <td>Trip Seconds</td>\n",
       "      <td>0</td>\n",
       "    </tr>\n",
       "    <tr>\n",
       "      <th>10</th>\n",
       "      <td>Trip Miles</td>\n",
       "      <td>0</td>\n",
       "    </tr>\n",
       "    <tr>\n",
       "      <th>11</th>\n",
       "      <td>Pickup Community Area</td>\n",
       "      <td>359070</td>\n",
       "    </tr>\n",
       "    <tr>\n",
       "      <th>12</th>\n",
       "      <td>Dropoff Community Area</td>\n",
       "      <td>1023851</td>\n",
       "    </tr>\n",
       "    <tr>\n",
       "      <th>13</th>\n",
       "      <td>Payment Type</td>\n",
       "      <td>0</td>\n",
       "    </tr>\n",
       "    <tr>\n",
       "      <th>14</th>\n",
       "      <td>Company</td>\n",
       "      <td>0</td>\n",
       "    </tr>\n",
       "    <tr>\n",
       "      <th>15</th>\n",
       "      <td>Pickup Centroid Latitude</td>\n",
       "      <td>354616</td>\n",
       "    </tr>\n",
       "    <tr>\n",
       "      <th>16</th>\n",
       "      <td>Pickup Centroid Longitude</td>\n",
       "      <td>354616</td>\n",
       "    </tr>\n",
       "    <tr>\n",
       "      <th>17</th>\n",
       "      <td>Pickup Centroid Location</td>\n",
       "      <td>354616</td>\n",
       "    </tr>\n",
       "    <tr>\n",
       "      <th>18</th>\n",
       "      <td>Dropoff Centroid Latitude</td>\n",
       "      <td>959072</td>\n",
       "    </tr>\n",
       "    <tr>\n",
       "      <th>19</th>\n",
       "      <td>Dropoff Centroid Longitude</td>\n",
       "      <td>959072</td>\n",
       "    </tr>\n",
       "    <tr>\n",
       "      <th>20</th>\n",
       "      <td>Dropoff Centroid  Location</td>\n",
       "      <td>959072</td>\n",
       "    </tr>\n",
       "  </tbody>\n",
       "</table>\n",
       "</div>"
      ],
      "text/plain": [
       "                         index  missings\n",
       "0                         Fare         0\n",
       "1                         Tips         0\n",
       "2                        Tolls         0\n",
       "3                       Extras         0\n",
       "4                   Trip Total         0\n",
       "5                      Trip ID         0\n",
       "6                      Taxi ID         0\n",
       "7         Trip Start Timestamp         0\n",
       "8           Trip End Timestamp         0\n",
       "9                 Trip Seconds         0\n",
       "10                  Trip Miles         0\n",
       "11       Pickup Community Area    359070\n",
       "12      Dropoff Community Area   1023851\n",
       "13                Payment Type         0\n",
       "14                     Company         0\n",
       "15    Pickup Centroid Latitude    354616\n",
       "16   Pickup Centroid Longitude    354616\n",
       "17    Pickup Centroid Location    354616\n",
       "18   Dropoff Centroid Latitude    959072\n",
       "19  Dropoff Centroid Longitude    959072\n",
       "20  Dropoff Centroid  Location    959072"
      ]
     },
     "execution_count": 98,
     "metadata": {},
     "output_type": "execute_result"
    }
   ],
   "source": [
    "missings_df=missings_df.reset_index()\n",
    "missings_df=missings_df.rename(columns={0:'missings'})\n",
    "missings_df"
   ]
  },
  {
   "cell_type": "code",
   "execution_count": 99,
   "metadata": {
    "tags": []
   },
   "outputs": [
    {
     "data": {
      "text/html": [
       "<div>\n",
       "<style scoped>\n",
       "    .dataframe tbody tr th:only-of-type {\n",
       "        vertical-align: middle;\n",
       "    }\n",
       "\n",
       "    .dataframe tbody tr th {\n",
       "        vertical-align: top;\n",
       "    }\n",
       "\n",
       "    .dataframe thead th {\n",
       "        text-align: right;\n",
       "    }\n",
       "</style>\n",
       "<table border=\"1\" class=\"dataframe\">\n",
       "  <thead>\n",
       "    <tr style=\"text-align: right;\">\n",
       "      <th></th>\n",
       "      <th>index</th>\n",
       "      <th>missings</th>\n",
       "    </tr>\n",
       "  </thead>\n",
       "  <tbody>\n",
       "    <tr>\n",
       "      <th>11</th>\n",
       "      <td>Pickup Community Area</td>\n",
       "      <td>359070</td>\n",
       "    </tr>\n",
       "    <tr>\n",
       "      <th>12</th>\n",
       "      <td>Dropoff Community Area</td>\n",
       "      <td>1023851</td>\n",
       "    </tr>\n",
       "    <tr>\n",
       "      <th>15</th>\n",
       "      <td>Pickup Centroid Latitude</td>\n",
       "      <td>354616</td>\n",
       "    </tr>\n",
       "    <tr>\n",
       "      <th>16</th>\n",
       "      <td>Pickup Centroid Longitude</td>\n",
       "      <td>354616</td>\n",
       "    </tr>\n",
       "    <tr>\n",
       "      <th>17</th>\n",
       "      <td>Pickup Centroid Location</td>\n",
       "      <td>354616</td>\n",
       "    </tr>\n",
       "    <tr>\n",
       "      <th>18</th>\n",
       "      <td>Dropoff Centroid Latitude</td>\n",
       "      <td>959072</td>\n",
       "    </tr>\n",
       "    <tr>\n",
       "      <th>19</th>\n",
       "      <td>Dropoff Centroid Longitude</td>\n",
       "      <td>959072</td>\n",
       "    </tr>\n",
       "    <tr>\n",
       "      <th>20</th>\n",
       "      <td>Dropoff Centroid  Location</td>\n",
       "      <td>959072</td>\n",
       "    </tr>\n",
       "  </tbody>\n",
       "</table>\n",
       "</div>"
      ],
      "text/plain": [
       "                         index  missings\n",
       "11       Pickup Community Area    359070\n",
       "12      Dropoff Community Area   1023851\n",
       "15    Pickup Centroid Latitude    354616\n",
       "16   Pickup Centroid Longitude    354616\n",
       "17    Pickup Centroid Location    354616\n",
       "18   Dropoff Centroid Latitude    959072\n",
       "19  Dropoff Centroid Longitude    959072\n",
       "20  Dropoff Centroid  Location    959072"
      ]
     },
     "execution_count": 99,
     "metadata": {},
     "output_type": "execute_result"
    }
   ],
   "source": [
    "missings_df=missings_df[missings_df['missings']>0]\n",
    "missings_df"
   ]
  },
  {
   "cell_type": "code",
   "execution_count": 101,
   "metadata": {
    "tags": []
   },
   "outputs": [
    {
     "name": "stderr",
     "output_type": "stream",
     "text": [
      "/tmp/ipykernel_11826/2598878292.py:2: SettingWithCopyWarning:                   \n",
      "A value is trying to be set on a copy of a slice from a DataFrame.\n",
      "Try using .loc[row_indexer,col_indexer] = value instead\n",
      "\n",
      "See the caveats in the documentation: https://pandas.pydata.org/pandas-docs/stable/user_guide/indexing.html#returning-a-view-versus-a-copy\n",
      "  missings_df['porcentaje_nulos'] = missings_df['missings'] / total * 100\n"
     ]
    },
    {
     "ename": "KeyError",
     "evalue": "0",
     "output_type": "error",
     "traceback": [
      "\u001b[0;31m---------------------------------------------------------------------------\u001b[0m",
      "\u001b[0;31mKeyError\u001b[0m                                  Traceback (most recent call last)",
      "\u001b[0;32m/tmp/ipykernel_11826/2598878292.py\u001b[0m in \u001b[0;36m?\u001b[0;34m()\u001b[0m\n\u001b[1;32m      1\u001b[0m \u001b[0mtotal\u001b[0m \u001b[0;34m=\u001b[0m \u001b[0mdf\u001b[0m\u001b[0;34m.\u001b[0m\u001b[0mcount\u001b[0m\u001b[0;34m(\u001b[0m\u001b[0;34m)\u001b[0m\u001b[0;34m\u001b[0m\u001b[0;34m\u001b[0m\u001b[0m\n\u001b[1;32m      2\u001b[0m \u001b[0mmissings_df\u001b[0m\u001b[0;34m[\u001b[0m\u001b[0;34m'porcentaje_nulos'\u001b[0m\u001b[0;34m]\u001b[0m \u001b[0;34m=\u001b[0m \u001b[0mmissings_df\u001b[0m\u001b[0;34m[\u001b[0m\u001b[0;34m'missings'\u001b[0m\u001b[0;34m]\u001b[0m \u001b[0;34m/\u001b[0m \u001b[0mtotal\u001b[0m \u001b[0;34m*\u001b[0m \u001b[0;36m100\u001b[0m\u001b[0;34m\u001b[0m\u001b[0;34m\u001b[0m\u001b[0m\n\u001b[0;32m----> 3\u001b[0;31m \u001b[0mmissings_df\u001b[0m\u001b[0;34m.\u001b[0m\u001b[0msort_values\u001b[0m\u001b[0;34m(\u001b[0m\u001b[0;36m0\u001b[0m\u001b[0;34m,\u001b[0m \u001b[0mascending\u001b[0m\u001b[0;34m=\u001b[0m\u001b[0;32mFalse\u001b[0m\u001b[0;34m)\u001b[0m\u001b[0;34m\u001b[0m\u001b[0;34m\u001b[0m\u001b[0m\n\u001b[0m",
      "\u001b[0;32m/opt/conda/miniconda3/lib/python3.11/site-packages/pandas/core/frame.py\u001b[0m in \u001b[0;36m?\u001b[0;34m(self, by, axis, ascending, inplace, kind, na_position, ignore_index, key)\u001b[0m\n\u001b[1;32m   6940\u001b[0m             )\n\u001b[1;32m   6941\u001b[0m         \u001b[0;32melif\u001b[0m \u001b[0mlen\u001b[0m\u001b[0;34m(\u001b[0m\u001b[0mby\u001b[0m\u001b[0;34m)\u001b[0m\u001b[0;34m:\u001b[0m\u001b[0;34m\u001b[0m\u001b[0;34m\u001b[0m\u001b[0m\n\u001b[1;32m   6942\u001b[0m             \u001b[0;31m# len(by) == 1\u001b[0m\u001b[0;34m\u001b[0m\u001b[0;34m\u001b[0m\u001b[0m\n\u001b[1;32m   6943\u001b[0m \u001b[0;34m\u001b[0m\u001b[0m\n\u001b[0;32m-> 6944\u001b[0;31m             \u001b[0mk\u001b[0m \u001b[0;34m=\u001b[0m \u001b[0mself\u001b[0m\u001b[0;34m.\u001b[0m\u001b[0m_get_label_or_level_values\u001b[0m\u001b[0;34m(\u001b[0m\u001b[0mby\u001b[0m\u001b[0;34m[\u001b[0m\u001b[0;36m0\u001b[0m\u001b[0;34m]\u001b[0m\u001b[0;34m,\u001b[0m \u001b[0maxis\u001b[0m\u001b[0;34m=\u001b[0m\u001b[0maxis\u001b[0m\u001b[0;34m)\u001b[0m\u001b[0;34m\u001b[0m\u001b[0;34m\u001b[0m\u001b[0m\n\u001b[0m\u001b[1;32m   6945\u001b[0m \u001b[0;34m\u001b[0m\u001b[0m\n\u001b[1;32m   6946\u001b[0m             \u001b[0;31m# need to rewrap column in Series to apply key function\u001b[0m\u001b[0;34m\u001b[0m\u001b[0;34m\u001b[0m\u001b[0m\n\u001b[1;32m   6947\u001b[0m             \u001b[0;32mif\u001b[0m \u001b[0mkey\u001b[0m \u001b[0;32mis\u001b[0m \u001b[0;32mnot\u001b[0m \u001b[0;32mNone\u001b[0m\u001b[0;34m:\u001b[0m\u001b[0;34m\u001b[0m\u001b[0;34m\u001b[0m\u001b[0m\n",
      "\u001b[0;32m/opt/conda/miniconda3/lib/python3.11/site-packages/pandas/core/generic.py\u001b[0m in \u001b[0;36m?\u001b[0;34m(self, key, axis)\u001b[0m\n\u001b[1;32m   1840\u001b[0m             \u001b[0mvalues\u001b[0m \u001b[0;34m=\u001b[0m \u001b[0mself\u001b[0m\u001b[0;34m.\u001b[0m\u001b[0mxs\u001b[0m\u001b[0;34m(\u001b[0m\u001b[0mkey\u001b[0m\u001b[0;34m,\u001b[0m \u001b[0maxis\u001b[0m\u001b[0;34m=\u001b[0m\u001b[0mother_axes\u001b[0m\u001b[0;34m[\u001b[0m\u001b[0;36m0\u001b[0m\u001b[0;34m]\u001b[0m\u001b[0;34m)\u001b[0m\u001b[0;34m.\u001b[0m\u001b[0m_values\u001b[0m\u001b[0;34m\u001b[0m\u001b[0;34m\u001b[0m\u001b[0m\n\u001b[1;32m   1841\u001b[0m         \u001b[0;32melif\u001b[0m \u001b[0mself\u001b[0m\u001b[0;34m.\u001b[0m\u001b[0m_is_level_reference\u001b[0m\u001b[0;34m(\u001b[0m\u001b[0mkey\u001b[0m\u001b[0;34m,\u001b[0m \u001b[0maxis\u001b[0m\u001b[0;34m=\u001b[0m\u001b[0maxis\u001b[0m\u001b[0;34m)\u001b[0m\u001b[0;34m:\u001b[0m\u001b[0;34m\u001b[0m\u001b[0;34m\u001b[0m\u001b[0m\n\u001b[1;32m   1842\u001b[0m             \u001b[0mvalues\u001b[0m \u001b[0;34m=\u001b[0m \u001b[0mself\u001b[0m\u001b[0;34m.\u001b[0m\u001b[0maxes\u001b[0m\u001b[0;34m[\u001b[0m\u001b[0maxis\u001b[0m\u001b[0;34m]\u001b[0m\u001b[0;34m.\u001b[0m\u001b[0mget_level_values\u001b[0m\u001b[0;34m(\u001b[0m\u001b[0mkey\u001b[0m\u001b[0;34m)\u001b[0m\u001b[0;34m.\u001b[0m\u001b[0m_values\u001b[0m\u001b[0;34m\u001b[0m\u001b[0;34m\u001b[0m\u001b[0m\n\u001b[1;32m   1843\u001b[0m         \u001b[0;32melse\u001b[0m\u001b[0;34m:\u001b[0m\u001b[0;34m\u001b[0m\u001b[0;34m\u001b[0m\u001b[0m\n\u001b[0;32m-> 1844\u001b[0;31m             \u001b[0;32mraise\u001b[0m \u001b[0mKeyError\u001b[0m\u001b[0;34m(\u001b[0m\u001b[0mkey\u001b[0m\u001b[0;34m)\u001b[0m\u001b[0;34m\u001b[0m\u001b[0;34m\u001b[0m\u001b[0m\n\u001b[0m\u001b[1;32m   1845\u001b[0m \u001b[0;34m\u001b[0m\u001b[0m\n\u001b[1;32m   1846\u001b[0m         \u001b[0;31m# Check for duplicates\u001b[0m\u001b[0;34m\u001b[0m\u001b[0;34m\u001b[0m\u001b[0m\n\u001b[1;32m   1847\u001b[0m         \u001b[0;32mif\u001b[0m \u001b[0mvalues\u001b[0m\u001b[0;34m.\u001b[0m\u001b[0mndim\u001b[0m \u001b[0;34m>\u001b[0m \u001b[0;36m1\u001b[0m\u001b[0;34m:\u001b[0m\u001b[0;34m\u001b[0m\u001b[0;34m\u001b[0m\u001b[0m\n",
      "\u001b[0;31mKeyError\u001b[0m: 0"
     ]
    }
   ],
   "source": [
    "total = df.count()\n",
    "missings_df['porcentaje_nulos'] = missings_df['missings'] / total * 100\n",
    "missings_df.sort_values(0, ascending=False)"
   ]
  },
  {
   "cell_type": "code",
   "execution_count": null,
   "metadata": {},
   "outputs": [],
   "source": [
    "Tomamos 'Dropoff Community Area' como filtro a explorar al ser la variable con la mayor cantidad de registros faltantes al momento."
   ]
  },
  {
   "cell_type": "code",
   "execution_count": null,
   "metadata": {},
   "outputs": [],
   "source": []
  },
  {
   "cell_type": "code",
   "execution_count": null,
   "metadata": {},
   "outputs": [],
   "source": []
  },
  {
   "cell_type": "code",
   "execution_count": null,
   "metadata": {},
   "outputs": [],
   "source": []
  },
  {
   "cell_type": "code",
   "execution_count": null,
   "metadata": {},
   "outputs": [],
   "source": [
    "taxi_df.dropna(subset=['Trip Total'], inplace=True)"
   ]
  },
  {
   "cell_type": "code",
   "execution_count": null,
   "metadata": {},
   "outputs": [],
   "source": [
    "taxi_df['Trip Total'].isna().sum()"
   ]
  },
  {
   "cell_type": "code",
   "execution_count": null,
   "metadata": {},
   "outputs": [],
   "source": []
  },
  {
   "cell_type": "code",
   "execution_count": null,
   "metadata": {
    "id": "9rb-npAkJK3g",
    "tags": []
   },
   "outputs": [],
   "source": [
    "%%time\n",
    "df2 = df.filter((df['Fare']>=3.25) & (df['Fare']<61) & (df['Trip Start Timestamp']>date(2022,1,1)))"
   ]
  },
  {
   "cell_type": "code",
   "execution_count": null,
   "metadata": {
    "id": "cqNZbdmDJK3h",
    "tags": []
   },
   "outputs": [],
   "source": [
    "%%time\n",
    "df2.count()"
   ]
  },
  {
   "cell_type": "code",
   "execution_count": null,
   "metadata": {
    "id": "O0_df1LsJK3h",
    "tags": []
   },
   "outputs": [],
   "source": [
    "%%time\n",
    "df2.describe('Fare').show()"
   ]
  },
  {
   "cell_type": "code",
   "execution_count": null,
   "metadata": {
    "id": "vcOeydM7JK3i",
    "tags": []
   },
   "outputs": [],
   "source": [
    "df2.select('Taxi ID', 'Trip Start Timestamp', 'Trip End Timestamp', 'Fare').show(10)"
   ]
  },
  {
   "cell_type": "markdown",
   "metadata": {
    "id": "CGKJuWlTJK3j"
   },
   "source": [
    "**5. Funciones definidas por el usuario**"
   ]
  },
  {
   "cell_type": "code",
   "execution_count": null,
   "metadata": {
    "id": "aAsA4gUwJK3j",
    "tags": []
   },
   "outputs": [],
   "source": [
    "f = udf(lambda x:x.strftime('%Y%m'))"
   ]
  },
  {
   "cell_type": "code",
   "execution_count": null,
   "metadata": {
    "id": "k0USgYLJJK3k",
    "tags": []
   },
   "outputs": [],
   "source": [
    "%%time\n",
    "df.withColumn('Month', f(df['Trip Start Timestamp'])).select('Month', 'Trip Start Timestamp', 'Fare').show(5)"
   ]
  },
  {
   "cell_type": "code",
   "execution_count": null,
   "metadata": {
    "id": "r2OD-CndJK3l",
    "tags": []
   },
   "outputs": [],
   "source": [
    "df3 = df2.withColumn('Month', f(df2['Trip Start Timestamp']))"
   ]
  },
  {
   "cell_type": "code",
   "execution_count": null,
   "metadata": {
    "id": "-cgs5S1qJK3m",
    "tags": []
   },
   "outputs": [],
   "source": [
    "from pyspark.sql import functions as F"
   ]
  },
  {
   "cell_type": "code",
   "execution_count": null,
   "metadata": {
    "id": "59Kmjrz3JK3m",
    "tags": []
   },
   "outputs": [],
   "source": [
    "%%time\n",
    "df3.groupby('Month').agg(F.min('Fare'), F.mean('Fare'), F.max('Fare')).orderBy('Month').show()"
   ]
  },
  {
   "cell_type": "markdown",
   "metadata": {
    "id": "0uKMFLcgJK3o"
   },
   "source": [
    "**6. Uso de SQL**"
   ]
  },
  {
   "cell_type": "code",
   "execution_count": null,
   "metadata": {
    "id": "hSGYBx6rJK3o",
    "tags": []
   },
   "outputs": [],
   "source": [
    "sqlContext = SQLContext(sc)"
   ]
  },
  {
   "cell_type": "code",
   "execution_count": null,
   "metadata": {
    "id": "UVDaeZqiJK3q",
    "tags": []
   },
   "outputs": [],
   "source": [
    "df2.registerTempTable(\"taxi_trips\")"
   ]
  },
  {
   "cell_type": "code",
   "execution_count": null,
   "metadata": {
    "id": "qydT5brMJK3q",
    "tags": []
   },
   "outputs": [],
   "source": [
    "query = \"\"\"\n",
    "SELECT\n",
    "    year('Trip Start Timestamp')*100 + month('Trip Start Timestamp') as fh,\n",
    "    count(*) as casos\n",
    "FROM\n",
    "    taxi_trips\n",
    "GROUP BY\n",
    "    year('Trip Start Timestamp')*100 + month('Trip Start Timestamp')\n",
    "ORDER BY\n",
    "    fh\n",
    "\"\"\""
   ]
  },
  {
   "cell_type": "code",
   "execution_count": null,
   "metadata": {
    "id": "0_xOB7EMJK3s",
    "tags": []
   },
   "outputs": [],
   "source": [
    "query = \"\"\"SELECT * FROM taxi_trips LIMIT 10;\"\"\""
   ]
  },
  {
   "cell_type": "code",
   "execution_count": null,
   "metadata": {
    "id": "BY1oyAdSJK3s",
    "tags": []
   },
   "outputs": [],
   "source": [
    "%%time\n",
    "sqlContext.sql(query).show()"
   ]
  },
  {
   "cell_type": "code",
   "execution_count": null,
   "metadata": {},
   "outputs": [],
   "source": []
  }
 ],
 "metadata": {
  "colab": {
   "provenance": []
  },
  "kernelspec": {
   "display_name": "PySpark",
   "language": "python",
   "name": "pyspark"
  },
  "language_info": {
   "codemirror_mode": {
    "name": "ipython",
    "version": 3
   },
   "file_extension": ".py",
   "mimetype": "text/x-python",
   "name": "python",
   "nbconvert_exporter": "python",
   "pygments_lexer": "ipython3",
   "version": "3.11.8"
  }
 },
 "nbformat": 4,
 "nbformat_minor": 4
}
